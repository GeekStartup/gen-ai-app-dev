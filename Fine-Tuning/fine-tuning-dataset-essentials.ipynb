{
 "cells": [
  {
   "cell_type": "markdown",
   "id": "fb43904f-7b7f-4d0a-a6c7-2ab920ed0bdc",
   "metadata": {},
   "source": [
    "# ChatML format\n",
    "https://learn.microsoft.com/en-us/azure/ai-services/openai/how-to/chat-markup-language\n",
    "https://towardsdatascience.com/evaluations-with-chat-formats-7604067023c9\n",
    "\n",
    "## Chat templates\n",
    "\n",
    "https://huggingface.co/docs/transformers/main/chat_templating\n",
    "\n",
    "## TRL library\n",
    "https://huggingface.co/docs/trl/en/index\n",
    "\n",
    "**Pre-requisites**\n",
    "\n",
    "You MUST have gone through the lessons in the section : \"Advanced HuggingFace\", as the classes used in this section requires knowledge of transformer library.\n",
    "\n",
    "**NOTE:**\n",
    "\n",
    "The model weights will be downloaded to your local drive"
   ]
  },
  {
   "cell_type": "code",
   "execution_count": 9,
   "id": "842f69fe-e000-466e-9ffd-ce6be0c667c8",
   "metadata": {},
   "outputs": [],
   "source": [
    "# !pip install trl>=0.12.2 datasets>=3.1.0"
   ]
  },
  {
   "cell_type": "code",
   "execution_count": 2,
   "id": "dba760e0-2ab2-4f1a-8461-d24bec7524ec",
   "metadata": {},
   "outputs": [],
   "source": [
    "from trl import setup_chat_format\n",
    "from transformers import AutoTokenizer, AutoModelForCausalLM"
   ]
  },
  {
   "cell_type": "markdown",
   "id": "36cf8137-5e59-4ed0-8662-4c2ca725a8b9",
   "metadata": {},
   "source": [
    "## Generate tokens for a prompt/completion"
   ]
  },
  {
   "cell_type": "code",
   "execution_count": 4,
   "id": "6fa4b9af-054b-4d81-aeb5-8bc180249efd",
   "metadata": {},
   "outputs": [
    {
     "name": "stdout",
     "output_type": "stream",
     "text": [
      "Single sentence:  ['<s>', '▁this', '▁is', '▁a', '▁single', '▁sentence']\n",
      "Sentence pair:  ['<s>', '▁this', '▁is', '▁a', '▁prompt', '.', '<s>', '▁this', '▁is', '▁a', '▁completion']\n"
     ]
    }
   ],
   "source": [
    "# model_name = \"facebook/opt-350m\"\n",
    "# model_name = \"google/gemma-2-2b-it\"\n",
    "# model_name = \"deepseek-ai/DeepSeek-V2-Lite\"\n",
    "\n",
    "## Both the following are fine-tuned versions of Mistral\n",
    "# model_name = \"HuggingFaceH4/zephyr-7b-beta\"\n",
    "model_name = \"teknium/OpenHermes-2.5-Mistral-7B\"\n",
    "\n",
    "# Load the tokenizer for the model\n",
    "tokenizer = AutoTokenizer.from_pretrained(pretrained_model_name_or_path=model_name)\n",
    "\n",
    "# Print the tokenized text with special tokens\n",
    "input_text = tokenizer.tokenize(\"this is a single sentence\", add_special_tokens=True)\n",
    "print(\"Single sentence: \", input_text)\n",
    "\n",
    "input_text = tokenizer.tokenize([\"this is a prompt.\", \"this is a completion\"], add_special_tokens=True)\n",
    "print(\"Sentence pair: \", input_text)"
   ]
  },
  {
   "cell_type": "markdown",
   "id": "c3c98339-0c7f-4c87-bd81-4d0365176f83",
   "metadata": {},
   "source": [
    "## Chat template"
   ]
  },
  {
   "cell_type": "code",
   "execution_count": 8,
   "id": "6e052821-bc05-49a5-a058-c4de23b1711b",
   "metadata": {},
   "outputs": [],
   "source": [
    "messages = [\n",
    "    {\"role\": \"user\", \"content\": \"Hello, how are you?\"},\n",
    "    {\n",
    "        \"role\": \"assistant\",\n",
    "        \"content\": \"I'm doing well, thank you! How can I assist you today?\",\n",
    "    },\n",
    "]"
   ]
  },
  {
   "cell_type": "code",
   "execution_count": 5,
   "id": "d4fc2c38-0db1-4546-85c5-9d4a3ef30612",
   "metadata": {},
   "outputs": [
    {
     "name": "stdout",
     "output_type": "stream",
     "text": [
      "<|im_start|>user\n",
      "Hello, how are you?<|im_end|>\n",
      "<|im_start|>assistant\n",
      "I'm doing well, thank you! How can I assist you today?<|im_end|>\n",
      "\n"
     ]
    }
   ],
   "source": [
    "# Setup chat format on tokenizer from the model ONLY if its not set already\n",
    "# i.e., if tokenizer_config.json doesn't have the chat_template attribute\n",
    "if tokenizer.chat_template is  None:\n",
    "    model = AutoModelForCausalLM.from_pretrained(\n",
    "        pretrained_model_name_or_path=model_name\n",
    "    )\n",
    "    model, tokenizer = setup_chat_format(model=model, tokenizer=tokenizer)\n",
    "\n",
    "\n",
    "input_text = tokenizer.apply_chat_template(messages, tokenize=False)\n",
    "print(input_text)"
   ]
  },
  {
   "cell_type": "markdown",
   "id": "c782d654-8615-404b-95b7-b3744a863204",
   "metadata": {},
   "source": [
    "### Add \"assistant\" marker to the end"
   ]
  },
  {
   "cell_type": "code",
   "execution_count": 6,
   "id": "6666b59b-0b0c-467e-85e8-c956809326bb",
   "metadata": {},
   "outputs": [
    {
     "name": "stdout",
     "output_type": "stream",
     "text": [
      "<|im_start|>user\n",
      "Hello, how are you?<|im_end|>\n",
      "<|im_start|>assistant\n",
      "I'm doing well, thank you! How can I assist you today?<|im_end|>\n",
      "<|im_start|>assistant\n",
      "\n"
     ]
    }
   ],
   "source": [
    "input_text = tokenizer.apply_chat_template(messages, tokenize=False, add_generation_prompt=True)\n",
    "print(input_text)"
   ]
  },
  {
   "cell_type": "markdown",
   "id": "aa1d1916-ecd6-4f4a-80eb-e1241a060d5a",
   "metadata": {},
   "source": [
    "### Tokenize"
   ]
  },
  {
   "cell_type": "code",
   "execution_count": 7,
   "id": "7c6f0f7c-cd20-4821-b24c-abfd4dd6a576",
   "metadata": {},
   "outputs": [
    {
     "name": "stdout",
     "output_type": "stream",
     "text": [
      "[32001, 2188, 13, 16230, 28725, 910, 460, 368, 28804, 32000, 28705, 13, 32001, 13892, 13, 28737, 28742, 28719, 2548, 1162, 28725, 6979, 368, 28808, 1602, 541, 315, 6031, 368, 3154, 28804, 32000, 28705, 13, 32001, 13892, 13]\n"
     ]
    }
   ],
   "source": [
    "input_text = tokenizer.apply_chat_template(messages, tokenize=True, add_generation_prompt=True)\n",
    "print(input_text)"
   ]
  },
  {
   "cell_type": "markdown",
   "id": "6e7dc62c-3c40-44e8-b4c3-d4bfd57e9733",
   "metadata": {},
   "source": [
    "## Function templates"
   ]
  },
  {
   "cell_type": "markdown",
   "id": "18c6a714-3983-48ef-8571-731dd9990d96",
   "metadata": {},
   "source": [
    "## Data collators"
   ]
  },
  {
   "cell_type": "code",
   "execution_count": 1,
   "id": "a018f935-d8d1-4a86-a15d-5ec639d9c8c2",
   "metadata": {},
   "outputs": [
    {
     "name": "stdout",
     "output_type": "stream",
     "text": [
      "Python 3.12.4\n"
     ]
    }
   ],
   "source": [
    "!python --version"
   ]
  },
  {
   "cell_type": "code",
   "execution_count": 2,
   "id": "888146ad-e94e-4ad7-a031-6d0010c3261a",
   "metadata": {},
   "outputs": [
    {
     "name": "stdout",
     "output_type": "stream",
     "text": [
      "Package                      Version\n",
      "---------------------------- ---------------\n",
      "accelerate                   1.2.0\n",
      "ai21                         3.0.1\n",
      "ai21-tokenizer               0.12.0\n",
      "aiohappyeyeballs             2.4.3\n",
      "aiohttp                      3.10.5\n",
      "aiosignal                    1.2.0\n",
      "annotated-types              0.6.0\n",
      "anthropic                    0.40.0\n",
      "anyio                        4.6.2\n",
      "argon2-cffi                  21.3.0\n",
      "argon2-cffi-bindings         21.2.0\n",
      "asttokens                    2.0.5\n",
      "async-lru                    2.0.4\n",
      "async-timeout                4.0.3\n",
      "attrs                        24.2.0\n",
      "Babel                        2.11.0\n",
      "beautifulsoup4               4.12.3\n",
      "bitsandbytes                 0.45.0\n",
      "bleach                       6.2.0\n",
      "Brotli                       1.0.9\n",
      "cachetools                   5.5.0\n",
      "certifi                      2024.8.30\n",
      "cffi                         1.17.1\n",
      "charset-normalizer           3.3.2\n",
      "click                        8.1.7\n",
      "cohere                       5.13.3\n",
      "colorama                     0.4.6\n",
      "comm                         0.2.1\n",
      "contourpy                    1.3.1\n",
      "cycler                       0.11.0\n",
      "dataclasses-json             0.6.7\n",
      "datasets                     3.1.0\n",
      "debugpy                      1.6.7\n",
      "decorator                    5.1.1\n",
      "defusedxml                   0.7.1\n",
      "dill                         0.3.8\n",
      "distro                       1.9.0\n",
      "docker-pycreds               0.4.0\n",
      "executing                    0.8.3\n",
      "fastavro                     1.9.7\n",
      "fastjsonschema               2.20.0\n",
      "filelock                     3.13.1\n",
      "filetype                     1.2.0\n",
      "fonttools                    4.51.0\n",
      "frozenlist                   1.5.0\n",
      "fsspec                       2024.6.1\n",
      "future                       1.0.0\n",
      "gitdb                        4.0.11\n",
      "GitPython                    3.1.43\n",
      "google-ai-generativelanguage 0.6.10\n",
      "google-api-core              2.23.0\n",
      "google-api-python-client     2.154.0\n",
      "google-auth                  2.36.0\n",
      "google-auth-httplib2         0.2.0\n",
      "google-generativeai          0.8.3\n",
      "googleapis-common-protos     1.66.0\n",
      "grandalf                     0.7\n",
      "greenlet                     3.0.1\n",
      "grpcio                       1.68.1\n",
      "grpcio-status                1.68.1\n",
      "h11                          0.14.0\n",
      "httpcore                     1.0.2\n",
      "httplib2                     0.22.0\n",
      "httpx                        0.27.0\n",
      "httpx-sse                    0.4.0\n",
      "huggingface-hub              0.26.5\n",
      "idna                         3.7\n",
      "ipykernel                    6.29.5\n",
      "ipython                      8.27.0\n",
      "ipywidgets                   8.1.5\n",
      "jedi                         0.19.1\n",
      "Jinja2                       3.1.4\n",
      "jiter                        0.8.0\n",
      "joblib                       1.4.2\n",
      "json5                        0.9.25\n",
      "jsonpatch                    1.33\n",
      "jsonpointer                  2.1\n",
      "jsonschema                   4.23.0\n",
      "jsonschema-specifications    2023.7.1\n",
      "jupyter                      1.0.0\n",
      "jupyter_client               8.6.0\n",
      "jupyter-console              6.6.3\n",
      "jupyter_core                 5.7.2\n",
      "jupyter-events               0.10.0\n",
      "jupyter-lsp                  2.2.0\n",
      "jupyter_server               2.14.1\n",
      "jupyter_server_terminals     0.4.4\n",
      "jupyterlab                   4.0.11\n",
      "jupyterlab-pygments          0.1.2\n",
      "jupyterlab_server            2.27.3\n",
      "jupyterlab_widgets           3.0.13\n",
      "kiwisolver                   1.4.4\n",
      "langchain                    0.3.10\n",
      "langchain-ai21               1.0.1\n",
      "langchain-anthropic          0.3.0\n",
      "langchain-cohere             0.3.3\n",
      "langchain-community          0.3.10\n",
      "langchain-core               0.3.22\n",
      "langchain-experimental       0.3.3\n",
      "langchain-google-genai       2.0.6\n",
      "langchain-huggingface        0.1.2\n",
      "langchain-ollama             0.2.1\n",
      "langchain-openai             0.2.11\n",
      "langchain-text-splitters     0.3.2\n",
      "langsmith                    0.1.147\n",
      "markdown-it-py               3.0.0\n",
      "MarkupSafe                   2.1.3\n",
      "marshmallow                  3.23.1\n",
      "matplotlib                   3.8.4\n",
      "matplotlib-inline            0.1.6\n",
      "mdurl                        0.1.2\n",
      "mistune                      2.0.4\n",
      "mkl_fft                      1.3.11\n",
      "mkl_random                   1.2.8\n",
      "mkl-service                  2.4.0\n",
      "mpmath                       1.3.0\n",
      "multidict                    6.1.0\n",
      "multiprocess                 0.70.16\n",
      "mypy-extensions              1.0.0\n",
      "nbclient                     0.8.0\n",
      "nbconvert                    7.16.4\n",
      "nbformat                     5.10.4\n",
      "nest-asyncio                 1.6.0\n",
      "networkx                     3.4.2\n",
      "notebook                     7.0.8\n",
      "notebook_shim                0.2.3\n",
      "numpy                        1.26.4\n",
      "ollama                       0.4.3\n",
      "openai                       1.57.0\n",
      "orjson                       3.10.7\n",
      "overrides                    7.4.0\n",
      "packaging                    24.1\n",
      "pandas                       2.2.3\n",
      "pandocfilters                1.5.0\n",
      "parameterized                0.9.0\n",
      "parso                        0.8.3\n",
      "peft                         0.14.0\n",
      "pillow                       11.0.0\n",
      "pip                          24.2\n",
      "platformdirs                 3.10.0\n",
      "ply                          3.11\n",
      "prometheus_client            0.21.0\n",
      "prompt-toolkit               3.0.43\n",
      "propcache                    0.2.0\n",
      "proto-plus                   1.25.0\n",
      "protobuf                     5.29.1\n",
      "psutil                       5.9.0\n",
      "pure-eval                    0.2.2\n",
      "pyarrow                      18.1.0\n",
      "pyasn1                       0.6.1\n",
      "pyasn1_modules               0.4.1\n",
      "pycparser                    2.21\n",
      "pydantic                     2.10.3\n",
      "pydantic_core                2.27.1\n",
      "pydantic-settings            2.6.1\n",
      "Pygments                     2.15.1\n",
      "pyparsing                    3.0.9\n",
      "PyQt5                        5.15.10\n",
      "PyQt5-sip                    12.13.0\n",
      "PySocks                      1.7.1\n",
      "python-dateutil              2.9.0.post0\n",
      "python-dotenv                0.21.0\n",
      "python-json-logger           2.0.7\n",
      "pytz                         2024.1\n",
      "pywin32                      305.1\n",
      "pywinpty                     2.0.14\n",
      "PyYAML                       6.0.2\n",
      "pyzmq                        25.1.2\n",
      "qtconsole                    5.6.0\n",
      "QtPy                         2.4.1\n",
      "referencing                  0.30.2\n",
      "regex                        2024.11.6\n",
      "requests                     2.32.3\n",
      "requests-toolbelt            1.0.0\n",
      "rfc3339-validator            0.1.4\n",
      "rfc3986-validator            0.1.1\n",
      "rich                         13.9.4\n",
      "rpds-py                      0.10.6\n",
      "rsa                          4.9\n",
      "safetensors                  0.4.5\n",
      "scikit-learn                 1.5.2\n",
      "scipy                        1.14.1\n",
      "Send2Trash                   1.8.2\n",
      "sentence-transformers        3.3.1\n",
      "sentencepiece                0.2.0\n",
      "sentry-sdk                   2.19.2\n",
      "setproctitle                 1.3.4\n",
      "setuptools                   75.1.0\n",
      "sip                          6.7.12\n",
      "six                          1.16.0\n",
      "smmap                        5.0.1\n",
      "sniffio                      1.3.0\n",
      "soupsieve                    2.5\n",
      "SQLAlchemy                   2.0.34\n",
      "stack-data                   0.2.0\n",
      "sympy                        1.13.1\n",
      "tabulate                     0.9.0\n",
      "tenacity                     8.5.0\n",
      "terminado                    0.17.1\n",
      "threadpoolctl                3.5.0\n",
      "tiktoken                     0.8.0\n",
      "tinycss2                     1.2.1\n",
      "tokenizers                   0.20.3\n",
      "torch                        2.5.1\n",
      "tornado                      6.4.1\n",
      "tqdm                         4.66.5\n",
      "traitlets                    5.14.3\n",
      "transformers                 4.46.3\n",
      "trl                          0.12.2\n",
      "types-requests               2.32.0.20241016\n",
      "typing_extensions            4.12.2\n",
      "typing-inspect               0.9.0\n",
      "tzdata                       2024.2\n",
      "unicodedata2                 15.1.0\n",
      "uritemplate                  4.1.1\n",
      "urllib3                      2.2.3\n",
      "wandb                        0.19.0\n",
      "wcwidth                      0.2.5\n",
      "webencodings                 0.5.1\n",
      "websocket-client             1.8.0\n",
      "wheel                        0.44.0\n",
      "widgetsnbextension           4.0.13\n",
      "win-inet-pton                1.1.0\n",
      "xxhash                       3.5.0\n",
      "yarl                         1.18.0\n"
     ]
    }
   ],
   "source": [
    "!pip list"
   ]
  },
  {
   "cell_type": "code",
   "execution_count": null,
   "id": "4ff921a0-2102-47a4-99c2-3d4d2720a80b",
   "metadata": {},
   "outputs": [],
   "source": []
  }
 ],
 "metadata": {
  "kernelspec": {
   "display_name": "Python 3 (ipykernel)",
   "language": "python",
   "name": "python3"
  },
  "language_info": {
   "codemirror_mode": {
    "name": "ipython",
    "version": 3
   },
   "file_extension": ".py",
   "mimetype": "text/x-python",
   "name": "python",
   "nbconvert_exporter": "python",
   "pygments_lexer": "ipython3",
   "version": "3.12.4"
  }
 },
 "nbformat": 4,
 "nbformat_minor": 5
}
