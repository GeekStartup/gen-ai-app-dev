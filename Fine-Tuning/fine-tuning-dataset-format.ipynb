{
 "cells": [
  {
   "cell_type": "markdown",
   "id": "fb43904f-7b7f-4d0a-a6c7-2ab920ed0bdc",
   "metadata": {},
   "source": [
    "# ChatML format\n",
    "https://learn.microsoft.com/en-us/azure/ai-services/openai/how-to/chat-markup-language\n",
    "https://towardsdatascience.com/evaluations-with-chat-formats-7604067023c9\n",
    "\n",
    "## Chat templates\n",
    "\n",
    "https://huggingface.co/docs/transformers/main/chat_templating\n",
    "\n",
    "## TRL library\n",
    "https://huggingface.co/docs/trl/en/index\n",
    "\n",
    "**Pre-requisites**\n",
    "\n",
    "You MUST have gone through the lessons in the section : \"Advanced HuggingFace\", as the classes used in this section requires knowledge of transformer library.\n",
    "\n",
    "**NOTE:**\n",
    "\n",
    "The model weights will be downloaded to your local drive"
   ]
  },
  {
   "cell_type": "code",
   "execution_count": 9,
   "id": "842f69fe-e000-466e-9ffd-ce6be0c667c8",
   "metadata": {},
   "outputs": [],
   "source": [
    "# !pip install trl>=0.12.2 datasets>=3.1.0"
   ]
  },
  {
   "cell_type": "code",
   "execution_count": 2,
   "id": "dba760e0-2ab2-4f1a-8461-d24bec7524ec",
   "metadata": {},
   "outputs": [],
   "source": [
    "from trl import setup_chat_format\n",
    "from transformers import AutoTokenizer, AutoModelForCausalLM"
   ]
  },
  {
   "cell_type": "markdown",
   "id": "36cf8137-5e59-4ed0-8662-4c2ca725a8b9",
   "metadata": {},
   "source": [
    "## Generate tokens for a prompt/completion"
   ]
  },
  {
   "cell_type": "code",
   "execution_count": 4,
   "id": "6fa4b9af-054b-4d81-aeb5-8bc180249efd",
   "metadata": {},
   "outputs": [
    {
     "name": "stdout",
     "output_type": "stream",
     "text": [
      "Single sentence:  ['<s>', '▁this', '▁is', '▁a', '▁single', '▁sentence']\n",
      "Sentence pair:  ['<s>', '▁this', '▁is', '▁a', '▁prompt', '.', '<s>', '▁this', '▁is', '▁a', '▁completion']\n"
     ]
    }
   ],
   "source": [
    "# model_name = \"facebook/opt-350m\"\n",
    "# model_name = \"google/gemma-2-2b-it\"\n",
    "# model_name = \"deepseek-ai/DeepSeek-V2-Lite\"\n",
    "\n",
    "## Both the following are fine-tuned versions of Mistral\n",
    "# model_name = \"HuggingFaceH4/zephyr-7b-beta\"\n",
    "model_name = \"teknium/OpenHermes-2.5-Mistral-7B\"\n",
    "\n",
    "# Load the tokenizer for the model\n",
    "tokenizer = AutoTokenizer.from_pretrained(pretrained_model_name_or_path=model_name)\n",
    "\n",
    "# Print the tokenized text with special tokens\n",
    "input_text = tokenizer.tokenize(\"this is a single sentence\", add_special_tokens=True)\n",
    "print(\"Single sentence: \", input_text)\n",
    "\n",
    "input_text = tokenizer.tokenize([\"this is a prompt.\", \"this is a completion\"], add_special_tokens=True)\n",
    "print(\"Sentence pair: \", input_text)"
   ]
  },
  {
   "cell_type": "markdown",
   "id": "c3c98339-0c7f-4c87-bd81-4d0365176f83",
   "metadata": {},
   "source": [
    "## Chat template"
   ]
  },
  {
   "cell_type": "code",
   "execution_count": 8,
   "id": "6e052821-bc05-49a5-a058-c4de23b1711b",
   "metadata": {},
   "outputs": [],
   "source": [
    "messages = [\n",
    "    {\"role\": \"user\", \"content\": \"Hello, how are you?\"},\n",
    "    {\n",
    "        \"role\": \"assistant\",\n",
    "        \"content\": \"I'm doing well, thank you! How can I assist you today?\",\n",
    "    },\n",
    "]"
   ]
  },
  {
   "cell_type": "code",
   "execution_count": 5,
   "id": "d4fc2c38-0db1-4546-85c5-9d4a3ef30612",
   "metadata": {},
   "outputs": [
    {
     "name": "stdout",
     "output_type": "stream",
     "text": [
      "<|im_start|>user\n",
      "Hello, how are you?<|im_end|>\n",
      "<|im_start|>assistant\n",
      "I'm doing well, thank you! How can I assist you today?<|im_end|>\n",
      "\n"
     ]
    }
   ],
   "source": [
    "# Setup chat format on tokenizer from the model ONLY if its not set already\n",
    "# i.e., if tokenizer_config.json doesn't have the chat_template attribute\n",
    "if tokenizer.chat_template is  None:\n",
    "    model = AutoModelForCausalLM.from_pretrained(\n",
    "        pretrained_model_name_or_path=model_name\n",
    "    )\n",
    "    model, tokenizer = setup_chat_format(model=model, tokenizer=tokenizer)\n",
    "\n",
    "\n",
    "input_text = tokenizer.apply_chat_template(messages, tokenize=False)\n",
    "print(input_text)"
   ]
  },
  {
   "cell_type": "markdown",
   "id": "c782d654-8615-404b-95b7-b3744a863204",
   "metadata": {},
   "source": [
    "### Add \"assistant\" marker to the end"
   ]
  },
  {
   "cell_type": "code",
   "execution_count": 6,
   "id": "6666b59b-0b0c-467e-85e8-c956809326bb",
   "metadata": {},
   "outputs": [
    {
     "name": "stdout",
     "output_type": "stream",
     "text": [
      "<|im_start|>user\n",
      "Hello, how are you?<|im_end|>\n",
      "<|im_start|>assistant\n",
      "I'm doing well, thank you! How can I assist you today?<|im_end|>\n",
      "<|im_start|>assistant\n",
      "\n"
     ]
    }
   ],
   "source": [
    "input_text = tokenizer.apply_chat_template(messages, tokenize=False, add_generation_prompt=True)\n",
    "print(input_text)"
   ]
  },
  {
   "cell_type": "markdown",
   "id": "aa1d1916-ecd6-4f4a-80eb-e1241a060d5a",
   "metadata": {},
   "source": [
    "### Tokenize"
   ]
  },
  {
   "cell_type": "code",
   "execution_count": 7,
   "id": "7c6f0f7c-cd20-4821-b24c-abfd4dd6a576",
   "metadata": {},
   "outputs": [
    {
     "name": "stdout",
     "output_type": "stream",
     "text": [
      "[32001, 2188, 13, 16230, 28725, 910, 460, 368, 28804, 32000, 28705, 13, 32001, 13892, 13, 28737, 28742, 28719, 2548, 1162, 28725, 6979, 368, 28808, 1602, 541, 315, 6031, 368, 3154, 28804, 32000, 28705, 13, 32001, 13892, 13]\n"
     ]
    }
   ],
   "source": [
    "input_text = tokenizer.apply_chat_template(messages, tokenize=True, add_generation_prompt=True)\n",
    "print(input_text)"
   ]
  },
  {
   "cell_type": "code",
   "execution_count": null,
   "id": "7dd30284-99b0-406d-9a83-b45f5afc695d",
   "metadata": {},
   "outputs": [],
   "source": []
  }
 ],
 "metadata": {
  "kernelspec": {
   "display_name": "Python 3 (ipykernel)",
   "language": "python",
   "name": "python3"
  },
  "language_info": {
   "codemirror_mode": {
    "name": "ipython",
    "version": 3
   },
   "file_extension": ".py",
   "mimetype": "text/x-python",
   "name": "python",
   "nbconvert_exporter": "python",
   "pygments_lexer": "ipython3",
   "version": "3.12.4"
  }
 },
 "nbformat": 4,
 "nbformat_minor": 5
}
