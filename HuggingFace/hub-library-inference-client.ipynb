{
 "cells": [
  {
   "cell_type": "markdown",
   "id": "c77e97a9-c69f-48c1-935a-a1ec042e0710",
   "metadata": {},
   "source": [
    "# 1. Install the Hugging Face hub library\n",
    "\n",
    "This will use the model hosting on the Hugging Face portal\n",
    "\n",
    "https://huggingface.co/docs/huggingface_hub/index"
   ]
  },
  {
   "cell_type": "markdown",
   "id": "9faf5030-3905-4c7d-96ea-5e5075ba1174",
   "metadata": {},
   "source": [
    "### If using local machine - run the following cell"
   ]
  },
  {
   "cell_type": "code",
   "id": "f721c591-03ab-4f9b-81ca-888dd5842871",
   "metadata": {
    "ExecuteTime": {
     "end_time": "2025-08-16T11:51:11.663350Z",
     "start_time": "2025-08-16T11:51:09.158409Z"
    }
   },
   "source": [
    "!pip install huggingface_hub\n",
    "!pip install --upgrade huggingface_hub langchain-core langchain-huggingface\n"
   ],
   "outputs": [
    {
     "name": "stdout",
     "output_type": "stream",
     "text": [
      "Requirement already satisfied: huggingface_hub in e:\\code\\gen-ai-app-dev-course\\gen-ai-app-dev\\.venv\\lib\\site-packages (0.34.4)\n",
      "Requirement already satisfied: filelock in e:\\code\\gen-ai-app-dev-course\\gen-ai-app-dev\\.venv\\lib\\site-packages (from huggingface_hub) (3.18.0)\n",
      "Requirement already satisfied: fsspec>=2023.5.0 in e:\\code\\gen-ai-app-dev-course\\gen-ai-app-dev\\.venv\\lib\\site-packages (from huggingface_hub) (2025.7.0)\n",
      "Requirement already satisfied: packaging>=20.9 in e:\\code\\gen-ai-app-dev-course\\gen-ai-app-dev\\.venv\\lib\\site-packages (from huggingface_hub) (25.0)\n",
      "Requirement already satisfied: pyyaml>=5.1 in e:\\code\\gen-ai-app-dev-course\\gen-ai-app-dev\\.venv\\lib\\site-packages (from huggingface_hub) (6.0.2)\n",
      "Requirement already satisfied: requests in e:\\code\\gen-ai-app-dev-course\\gen-ai-app-dev\\.venv\\lib\\site-packages (from huggingface_hub) (2.32.4)\n",
      "Requirement already satisfied: tqdm>=4.42.1 in e:\\code\\gen-ai-app-dev-course\\gen-ai-app-dev\\.venv\\lib\\site-packages (from huggingface_hub) (4.67.1)\n",
      "Requirement already satisfied: typing-extensions>=3.7.4.3 in e:\\code\\gen-ai-app-dev-course\\gen-ai-app-dev\\.venv\\lib\\site-packages (from huggingface_hub) (4.14.1)\n",
      "Requirement already satisfied: colorama in e:\\code\\gen-ai-app-dev-course\\gen-ai-app-dev\\.venv\\lib\\site-packages (from tqdm>=4.42.1->huggingface_hub) (0.4.6)\n",
      "Requirement already satisfied: charset_normalizer<4,>=2 in e:\\code\\gen-ai-app-dev-course\\gen-ai-app-dev\\.venv\\lib\\site-packages (from requests->huggingface_hub) (3.4.2)\n",
      "Requirement already satisfied: idna<4,>=2.5 in e:\\code\\gen-ai-app-dev-course\\gen-ai-app-dev\\.venv\\lib\\site-packages (from requests->huggingface_hub) (3.10)\n",
      "Requirement already satisfied: urllib3<3,>=1.21.1 in e:\\code\\gen-ai-app-dev-course\\gen-ai-app-dev\\.venv\\lib\\site-packages (from requests->huggingface_hub) (2.5.0)\n",
      "Requirement already satisfied: certifi>=2017.4.17 in e:\\code\\gen-ai-app-dev-course\\gen-ai-app-dev\\.venv\\lib\\site-packages (from requests->huggingface_hub) (2025.7.14)\n",
      "Requirement already satisfied: huggingface_hub in e:\\code\\gen-ai-app-dev-course\\gen-ai-app-dev\\.venv\\lib\\site-packages (0.34.4)\n",
      "Requirement already satisfied: langchain-core in e:\\code\\gen-ai-app-dev-course\\gen-ai-app-dev\\.venv\\lib\\site-packages (0.3.74)\n",
      "Requirement already satisfied: langchain-huggingface in e:\\code\\gen-ai-app-dev-course\\gen-ai-app-dev\\.venv\\lib\\site-packages (0.3.1)\n",
      "Requirement already satisfied: filelock in e:\\code\\gen-ai-app-dev-course\\gen-ai-app-dev\\.venv\\lib\\site-packages (from huggingface_hub) (3.18.0)\n",
      "Requirement already satisfied: fsspec>=2023.5.0 in e:\\code\\gen-ai-app-dev-course\\gen-ai-app-dev\\.venv\\lib\\site-packages (from huggingface_hub) (2025.7.0)\n",
      "Requirement already satisfied: packaging>=20.9 in e:\\code\\gen-ai-app-dev-course\\gen-ai-app-dev\\.venv\\lib\\site-packages (from huggingface_hub) (25.0)\n",
      "Requirement already satisfied: pyyaml>=5.1 in e:\\code\\gen-ai-app-dev-course\\gen-ai-app-dev\\.venv\\lib\\site-packages (from huggingface_hub) (6.0.2)\n",
      "Requirement already satisfied: requests in e:\\code\\gen-ai-app-dev-course\\gen-ai-app-dev\\.venv\\lib\\site-packages (from huggingface_hub) (2.32.4)\n",
      "Requirement already satisfied: tqdm>=4.42.1 in e:\\code\\gen-ai-app-dev-course\\gen-ai-app-dev\\.venv\\lib\\site-packages (from huggingface_hub) (4.67.1)\n",
      "Requirement already satisfied: typing-extensions>=3.7.4.3 in e:\\code\\gen-ai-app-dev-course\\gen-ai-app-dev\\.venv\\lib\\site-packages (from huggingface_hub) (4.14.1)\n",
      "Requirement already satisfied: langsmith>=0.3.45 in e:\\code\\gen-ai-app-dev-course\\gen-ai-app-dev\\.venv\\lib\\site-packages (from langchain-core) (0.4.8)\n",
      "Requirement already satisfied: tenacity!=8.4.0,<10.0.0,>=8.1.0 in e:\\code\\gen-ai-app-dev-course\\gen-ai-app-dev\\.venv\\lib\\site-packages (from langchain-core) (8.5.0)\n",
      "Requirement already satisfied: jsonpatch<2.0,>=1.33 in e:\\code\\gen-ai-app-dev-course\\gen-ai-app-dev\\.venv\\lib\\site-packages (from langchain-core) (1.33)\n",
      "Requirement already satisfied: pydantic>=2.7.4 in e:\\code\\gen-ai-app-dev-course\\gen-ai-app-dev\\.venv\\lib\\site-packages (from langchain-core) (2.11.7)\n",
      "Requirement already satisfied: jsonpointer>=1.9 in e:\\code\\gen-ai-app-dev-course\\gen-ai-app-dev\\.venv\\lib\\site-packages (from jsonpatch<2.0,>=1.33->langchain-core) (3.0.0)\n",
      "Requirement already satisfied: tokenizers>=0.19.1 in e:\\code\\gen-ai-app-dev-course\\gen-ai-app-dev\\.venv\\lib\\site-packages (from langchain-huggingface) (0.21.4)\n",
      "Requirement already satisfied: httpx<1,>=0.23.0 in e:\\code\\gen-ai-app-dev-course\\gen-ai-app-dev\\.venv\\lib\\site-packages (from langsmith>=0.3.45->langchain-core) (0.28.1)\n",
      "Requirement already satisfied: orjson<4.0.0,>=3.9.14 in e:\\code\\gen-ai-app-dev-course\\gen-ai-app-dev\\.venv\\lib\\site-packages (from langsmith>=0.3.45->langchain-core) (3.11.0)\n",
      "Requirement already satisfied: requests-toolbelt<2.0.0,>=1.0.0 in e:\\code\\gen-ai-app-dev-course\\gen-ai-app-dev\\.venv\\lib\\site-packages (from langsmith>=0.3.45->langchain-core) (1.0.0)\n",
      "Requirement already satisfied: zstandard<0.24.0,>=0.23.0 in e:\\code\\gen-ai-app-dev-course\\gen-ai-app-dev\\.venv\\lib\\site-packages (from langsmith>=0.3.45->langchain-core) (0.23.0)\n",
      "Requirement already satisfied: anyio in e:\\code\\gen-ai-app-dev-course\\gen-ai-app-dev\\.venv\\lib\\site-packages (from httpx<1,>=0.23.0->langsmith>=0.3.45->langchain-core) (4.9.0)\n",
      "Requirement already satisfied: certifi in e:\\code\\gen-ai-app-dev-course\\gen-ai-app-dev\\.venv\\lib\\site-packages (from httpx<1,>=0.23.0->langsmith>=0.3.45->langchain-core) (2025.7.14)\n",
      "Requirement already satisfied: httpcore==1.* in e:\\code\\gen-ai-app-dev-course\\gen-ai-app-dev\\.venv\\lib\\site-packages (from httpx<1,>=0.23.0->langsmith>=0.3.45->langchain-core) (1.0.9)\n",
      "Requirement already satisfied: idna in e:\\code\\gen-ai-app-dev-course\\gen-ai-app-dev\\.venv\\lib\\site-packages (from httpx<1,>=0.23.0->langsmith>=0.3.45->langchain-core) (3.10)\n",
      "Requirement already satisfied: h11>=0.16 in e:\\code\\gen-ai-app-dev-course\\gen-ai-app-dev\\.venv\\lib\\site-packages (from httpcore==1.*->httpx<1,>=0.23.0->langsmith>=0.3.45->langchain-core) (0.16.0)\n",
      "Requirement already satisfied: annotated-types>=0.6.0 in e:\\code\\gen-ai-app-dev-course\\gen-ai-app-dev\\.venv\\lib\\site-packages (from pydantic>=2.7.4->langchain-core) (0.7.0)\n",
      "Requirement already satisfied: pydantic-core==2.33.2 in e:\\code\\gen-ai-app-dev-course\\gen-ai-app-dev\\.venv\\lib\\site-packages (from pydantic>=2.7.4->langchain-core) (2.33.2)\n",
      "Requirement already satisfied: typing-inspection>=0.4.0 in e:\\code\\gen-ai-app-dev-course\\gen-ai-app-dev\\.venv\\lib\\site-packages (from pydantic>=2.7.4->langchain-core) (0.4.1)\n",
      "Requirement already satisfied: charset_normalizer<4,>=2 in e:\\code\\gen-ai-app-dev-course\\gen-ai-app-dev\\.venv\\lib\\site-packages (from requests->huggingface_hub) (3.4.2)\n",
      "Requirement already satisfied: urllib3<3,>=1.21.1 in e:\\code\\gen-ai-app-dev-course\\gen-ai-app-dev\\.venv\\lib\\site-packages (from requests->huggingface_hub) (2.5.0)\n",
      "Requirement already satisfied: colorama in e:\\code\\gen-ai-app-dev-course\\gen-ai-app-dev\\.venv\\lib\\site-packages (from tqdm>=4.42.1->huggingface_hub) (0.4.6)\n",
      "Requirement already satisfied: sniffio>=1.1 in e:\\code\\gen-ai-app-dev-course\\gen-ai-app-dev\\.venv\\lib\\site-packages (from anyio->httpx<1,>=0.23.0->langsmith>=0.3.45->langchain-core) (1.3.1)\n"
     ]
    }
   ],
   "execution_count": 59
  },
  {
   "cell_type": "markdown",
   "id": "e4112101-cd0b-429a-811c-781fdb125f68",
   "metadata": {},
   "source": [
    "### On Google Collab - run the following cell"
   ]
  },
  {
   "cell_type": "code",
   "execution_count": 2,
   "id": "80c20fa5-e38f-4186-92fc-1ed44a3669ef",
   "metadata": {},
   "outputs": [],
   "source": [
    "# !pip install transformers torch huggingface_hub -q"
   ]
  },
  {
   "cell_type": "markdown",
   "id": "2d0646c5-c3d8-480f-94a4-4813698c0cd0",
   "metadata": {},
   "source": [
    "# 2. Create the Inference Client\n",
    "\n",
    "Client will use the model hosted on the Hugging Face portal\n",
    "\n",
    "**Class**\n",
    "\n",
    "https://huggingface.co/docs/huggingface_hub/v0.20.2/en/package_reference/inference_client#huggingface_hub.InferenceClient\n",
    "\n",
    "**Supported tasks**\n",
    "\n",
    "https://huggingface.co/docs/huggingface_hub/guides/inference#supported-tasks\n",
    "\n",
    "**NOTE:**\n",
    "\n",
    "Sometimes API calls fail due to heavy usage of the model on HF. If you get a invocation error, try a again!!"
   ]
  },
  {
   "cell_type": "code",
   "id": "e13cd822-17d7-479e-94f2-069b930ff31e",
   "metadata": {
    "ExecuteTime": {
     "end_time": "2025-08-16T12:33:27.941419Z",
     "start_time": "2025-08-16T12:33:27.936802Z"
    }
   },
   "source": [
    "from huggingface_hub import InferenceClient\n",
    "from dotenv import load_dotenv\n",
    "import os\n",
    "\n",
    "load_dotenv('E:\\\\Code\\\\gen-ai-app-dev-course\\\\.env')\n",
    "HUGGINGFACEHUB_API_TOKEN = os.getenv(\"HUGGINGFACEHUB_API_TOKEN\")"
   ],
   "outputs": [],
   "execution_count": 88
  },
  {
   "cell_type": "code",
   "id": "e1b77e9d-a55e-48a7-9954-eccb6e621050",
   "metadata": {
    "ExecuteTime": {
     "end_time": "2025-08-16T12:39:00.856313Z",
     "start_time": "2025-08-16T12:39:00.851194Z"
    }
   },
   "source": [
    "# Change the model name if you would like to try out a different model\n",
    "model_name = \"distilbert/distilbert-base-uncased-finetuned-sst-2-english\"\n",
    "\n",
    "# Create inference client\n",
    "client = InferenceClient(token=HUGGINGFACEHUB_API_TOKEN)\n"
   ],
   "outputs": [],
   "execution_count": 96
  },
  {
   "cell_type": "markdown",
   "id": "c83c6875-8c8f-495a-9a58-18b56654507a",
   "metadata": {},
   "source": "# 3. Inference"
  },
  {
   "cell_type": "code",
   "id": "1194eea8-5bec-41f6-b762-cb6da0eb429b",
   "metadata": {
    "ExecuteTime": {
     "end_time": "2025-08-16T12:33:36.898433Z",
     "start_time": "2025-08-16T12:33:33.249095Z"
    }
   },
   "source": [
    "%%time\n",
    "\n",
    "text=\"I loved the restaurant\"\n",
    "\n",
    "result = client.text_classification(\n",
    "    text=text,\n",
    "    model=model_name\n",
    ")\n",
    "print(result)"
   ],
   "outputs": [
    {
     "name": "stdout",
     "output_type": "stream",
     "text": [
      "[TextClassificationOutputElement(label='POSITIVE', score=0.9998492002487183), TextClassificationOutputElement(label='NEGATIVE', score=0.0001507535926066339)]\n",
      "CPU times: total: 15.6 ms\n",
      "Wall time: 3.65 s\n"
     ]
    }
   ],
   "execution_count": 90
  },
  {
   "cell_type": "code",
   "id": "716c73ce-9c6f-4808-9e00-7cd0ab6e3683",
   "metadata": {
    "ExecuteTime": {
     "end_time": "2025-08-16T12:33:38.923683Z",
     "start_time": "2025-08-16T12:33:38.645337Z"
    }
   },
   "source": [
    "%%time\n",
    "\n",
    "text = \"i hated it\"\n",
    "\n",
    "result = client.text_classification(\n",
    "    text=text,\n",
    "    model=model_name\n",
    ")\n",
    "print(result)"
   ],
   "outputs": [
    {
     "name": "stdout",
     "output_type": "stream",
     "text": [
      "[TextClassificationOutputElement(label='NEGATIVE', score=0.9996846914291382), TextClassificationOutputElement(label='POSITIVE', score=0.00031535723246634007)]\n",
      "CPU times: total: 15.6 ms\n",
      "Wall time: 277 ms\n"
     ]
    }
   ],
   "execution_count": 91
  },
  {
   "metadata": {},
   "cell_type": "markdown",
   "source": [
    "# 4. List deployed models\n",
    "\n",
    "Returns a subset of models for the specified framework\n",
    "\n",
    "https://huggingface.co/docs/huggingface_hub/package_reference/inference_client#huggingface_hub.InferenceClient.list_deployed_models\n",
    "\n",
    "### Note : Error \"Bad Request\"\n",
    "The HF backend is throwing an error on the list_deployed_models call as of 03/01/2025. Pease check the status at the following thread.\n",
    "Please continue with the course as this API is not critical but good to know.\n",
    "\n",
    "https://discuss.huggingface.co/t/huggingface-hub-client-giving-error-on-list-deployed-models/143678\n",
    "\n",
    "**Note:**\n",
    "\n",
    "An invalid framework throws an HTTP error."
   ],
   "id": "46463e2f-e8cb-4350-bd05-c1c69947700b"
  },
  {
   "metadata": {
    "ExecuteTime": {
     "end_time": "2025-08-16T12:46:14.222362Z",
     "start_time": "2025-08-16T12:46:13.713120Z"
    }
   },
   "cell_type": "code",
   "source": [
    "from huggingface_hub import HfApi\n",
    "api = HfApi()\n",
    "\n",
    "filter=\"text-classification\"\n",
    "\n",
    "models = api.list_models(filter=filter, limit=10, sort=\"downloads\", direction=-1)\n",
    "for model in models:\n",
    "    print(model.id)\n",
    "\n",
    "## Get all the deploymed models\n",
    "#models = api.list_models(filter=\"all\", limit=10, sort=\"downloads\", direction=-1)\n",
    "#for model in models:\n",
    "#    print(model.modelId)\n"
   ],
   "id": "07679d24-0152-444f-a50a-530eed6b016b",
   "outputs": [
    {
     "name": "stdout",
     "output_type": "stream",
     "text": [
      "facebook/bart-large-mnli\n",
      "cross-encoder/ms-marco-MiniLM-L6-v2\n",
      "BAAI/bge-reranker-v2-m3\n",
      "distilbert/distilbert-base-uncased-finetuned-sst-2-english\n",
      "cardiffnlp/twitter-roberta-base-sentiment-latest\n",
      "facebook/roberta-hate-speech-dynabench-r4-target\n",
      "nlptown/bert-base-multilingual-uncased-sentiment\n",
      "microsoft/deberta-large-mnli\n",
      "microsoft/deberta-xlarge-mnli\n",
      "ProsusAI/finbert\n"
     ]
    }
   ],
   "execution_count": 104
  }
 ],
 "metadata": {
  "kernelspec": {
   "display_name": "Python 3 (ipykernel)",
   "language": "python",
   "name": "python3"
  },
  "language_info": {
   "codemirror_mode": {
    "name": "ipython",
    "version": 3
   },
   "file_extension": ".py",
   "mimetype": "text/x-python",
   "name": "python",
   "nbconvert_exporter": "python",
   "pygments_lexer": "ipython3",
   "version": "3.12.4"
  }
 },
 "nbformat": 4,
 "nbformat_minor": 5
}
