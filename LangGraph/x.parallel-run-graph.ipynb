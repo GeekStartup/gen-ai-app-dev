{
 "cells": [
  {
   "cell_type": "markdown",
   "id": "7a63de97-c799-44de-b2e4-5b05b1dae1ec",
   "metadata": {},
   "source": [
    "# Parallel runs\n",
    "A **static** graph in which nodes are run in parallel and results are aggregated by another node. \n",
    "\n",
    "* Voting pattern e.g., pick the best article \n",
    "* Subtasks - break the task into multiple tasks e.g., flight, hotel & car rental\n",
    "* Distributed processing e.g., summarization task for a large corpus; \"map-reduce\" workflow where your graph invokes the same node multiple times in parallel with different states, before aggregating the results back into the main graph's state.\n",
    "\n",
    "### Send API\n",
    "\n",
    "https://langchain-ai.github.io/langgraph/reference/types/#langgraph.types.Send\n",
    "\n",
    "The **Send** API can also be used for creating dynamic parallel graphs.\n",
    "\n",
    "* Invoked in a regular node\n",
    "* Schema for subtasks may be different from parent's schema; differentiates from conditional edges where the schema stays the same\n",
    "* Send takes the node and state for the task\n",
    "\n",
    "\n",
    "https://langchain-ai.github.io/langgraph/tutorials/workflows/?h=par#parallelization\n",
    "\n",
    "Pattern:\n",
    "* [Parallelization](https://langchain-ai.github.io/langgraph/tutorials/workflows/?h=par#parallelization)\n",
    "* [Orchestrator-Worker](https://langchain-ai.github.io/langgraph/tutorials/workflows/?h=par#orchestrator-worker)\n",
    "* "
   ]
  },
  {
   "cell_type": "code",
   "execution_count": 2,
   "id": "8a715352-b86d-4a65-8670-2ffbc44b15de",
   "metadata": {},
   "outputs": [
    {
     "data": {
      "image/png": "[encoded data removed]",
      "text/plain": [
       "<IPython.core.display.Image object>"
      ]
     },
     "metadata": {},
     "output_type": "display_data"
    },
    {
     "name": "stdout",
     "output_type": "stream",
     "text": [
      "Processor generated: 2\n",
      "Processor generated: 5\n",
      "Processor generated: 8\n",
      "It took 8 seconds.\n"
     ]
    }
   ],
   "source": [
    "from langgraph.graph import StateGraph, START, END\n",
    "from typing import List, Annotated, TypedDict\n",
    "from IPython.display import Image, display\n",
    "import random\n",
    "import operator\n",
    "import time\n",
    "\n",
    "# Reducer function : appends the number to list[int]\n",
    "def append_to_list(current: List[int], new: List[int])->List[int]:\n",
    "    return current + new\n",
    "\n",
    "# State schema\n",
    "class StateParallel(TypedDict):\n",
    "    total: Annotated[int, operator.add]\n",
    "    numbers: Annotated[List[int], append_to_list]\n",
    "\n",
    "# Nodes : Same node\n",
    "def processor_node(state: StateParallel)->StateParallel:\n",
    "    rint = random.randint(1, 10)\n",
    "    # Simulate artificial processing delays\n",
    "    time.sleep(rint)\n",
    "    print(f\"Processor generated: {rint}\")\n",
    "    return {\"numbers\": [rint]}\n",
    "\n",
    "def aggregator_node(state: StateParallel)->StateParallel:\n",
    "    nums = state[\"numbers\"]\n",
    "    return {\"total\": sum(nums)}\n",
    "\n",
    "# Graph\n",
    "parallel_graph = StateGraph(StateParallel)\n",
    "\n",
    "# Add nodes\n",
    "parallel_graph.add_node(\"A\", processor_node)\n",
    "parallel_graph.add_node(\"B\", processor_node)\n",
    "parallel_graph.add_node(\"C\", processor_node)\n",
    "parallel_graph.add_node(\"aggregator\", aggregator_node)\n",
    "\n",
    "# Add edges\n",
    "parallel_graph.add_edge(START,\"A\")\n",
    "parallel_graph.add_edge(START,\"B\")\n",
    "parallel_graph.add_edge(START,\"C\")\n",
    "\n",
    "parallel_graph.add_edge(\"A\",\"aggregator\")\n",
    "parallel_graph.add_edge(\"B\",\"aggregator\")\n",
    "parallel_graph.add_edge(\"C\",\"aggregator\")\n",
    "\n",
    "parallel_graph.add_edge(\"aggregator\",END)\n",
    "\n",
    "# Compile\n",
    "parallel_graph_compiled = parallel_graph.compile()\n",
    "\n",
    "# Display\n",
    "display(Image(parallel_graph_compiled.get_graph().draw_mermaid_png()))\n",
    "\n",
    "# Invoke\n",
    "start_time = time.time()\n",
    "parallel_graph_compiled.invoke({\"total\": 0, \"numbers\": []})\n",
    "end_time = time.time()\n",
    "\n",
    "print(f\"It took {int(end_time - start_time)} seconds.\")"
   ]
  },
  {
   "cell_type": "markdown",
   "id": "474fd119-976a-41a7-a2a8-62aee272f811",
   "metadata": {},
   "source": [
    "## Send API\n",
    "https://langchain-ai.github.io/langgraph/reference/types/#langgraph.types.Send\n",
    "\n",
    "Create a graph that would invoke the same processing logic in parallel. The number of parallel tasks is determined by a state attribute.\n",
    "\n",
    "https://dev.to/sreeni5018/leveraging-langgraphs-send-api-for-dynamic-and-parallel-workflow-execution-4pgd\n",
    "https://medium.com/@astropomeai/implementing-map-reduce-with-langgraph-creating-flexible-branches-for-parallel-execution-b6dc44327c0e"
   ]
  },
  {
   "cell_type": "code",
   "execution_count": 3,
   "id": "ca522a8f-30ca-4a2d-94f2-96ee446abfa0",
   "metadata": {},
   "outputs": [
    {
     "data": {
      "image/png": "[encoded data removed]",
      "text/plain": [
       "<IPython.core.display.Image object>"
      ]
     },
     "metadata": {},
     "output_type": "display_data"
    },
    {
     "name": "stdout",
     "output_type": "stream",
     "text": [
      "Task started: task-0\n",
      "Task started: task-1\n",
      "Task started: task-2\n",
      "Task started: task-3\n",
      "Task started: task-4\n",
      "Reducer received : {'rint': [3, 4, 2, 4, 7], 'name': ['task-0', 'task-1', 'task-2', 'task-3', 'task-4']}\n"
     ]
    },
    {
     "data": {
      "text/plain": [
       "{'tasks': 5,\n",
       " 'total': 20,\n",
       " 'result': [{'name': 'task-0', 'rint': 3},\n",
       "  {'name': 'task-1', 'rint': 4},\n",
       "  {'name': 'task-2', 'rint': 2},\n",
       "  {'name': 'task-3', 'rint': 4},\n",
       "  {'name': 'task-4', 'rint': 7}]}"
      ]
     },
     "execution_count": 3,
     "metadata": {},
     "output_type": "execute_result"
    }
   ],
   "source": [
    "from langgraph.types import Send\n",
    "import operator\n",
    "import random\n",
    "# from pydantic import BaseModel, Field\n",
    "\n",
    "# class Result(BaseModel):\n",
    "    \n",
    "\n",
    "class StateParallelSend(TypedDict):\n",
    "    tasks: int\n",
    "    total: int\n",
    "    result: dict\n",
    "\n",
    "# Attributes must be annotated as multiple tasks will be updating the state\n",
    "class TaskState(TypedDict):\n",
    "    rint: Annotated[list[int], operator.add]\n",
    "    name: Annotated[list[str], operator.add]\n",
    "    \n",
    "def processor(state: TaskState):\n",
    "    print(f\"Task started: {state[\"name\"]}\")\n",
    "    # print(f\"message from {state[\"name\"]}\")\n",
    "    rint = random.randint(1, 10)\n",
    "    return {\"rint\": [rint], \"name\": [state[\"name\"]]}\n",
    "\n",
    "# Router logic\n",
    "def map_node(state: StateParallelSend):\n",
    "    sends = []\n",
    "    for i in range(state[\"tasks\"]):\n",
    "        name = f\"task-{i}\"\n",
    "        sends.append(Send(\"processor\", {\"name\": name} ))\n",
    "    return sends\n",
    "\n",
    "def reduce_node(state: TaskState):\n",
    "    print(f\"Reducer received : {state}\")\n",
    "\n",
    "    # transform the received results from processors\n",
    "    result = []\n",
    "    total = 0\n",
    "    for i in range(len(state[\"name\"])):\n",
    "        result.append({\"name\": state[\"name\"][i], \"rint\": state[\"rint\"][i]})\n",
    "        total += state[\"rint\"][i]\n",
    "    return {\"total\": total, \"result\": result}\n",
    "\n",
    "workflow_map_reduce = StateGraph(StateParallelSend)\n",
    "\n",
    "# workflow_map_reduce.add_node(\"map_node\",map_node) # map_node)\n",
    "workflow_map_reduce.add_node(\"processor\",processor)\n",
    "\n",
    "# add reduce node\n",
    "workflow_map_reduce.add_node(\"reduce_node\",reduce_node)\n",
    "\n",
    "# workflow_map_reduce.add_conditional_edges(START, map_node,[\"processor\"])\n",
    "workflow_map_reduce.add_conditional_edges(START, map_node,[\"processor\"])\n",
    "\n",
    "# add edge to reducer node\n",
    "workflow_map_reduce.add_edge(\"processor\", \"reduce_node\")\n",
    "\n",
    "workflow_map_reduce_compiled = workflow_map_reduce.compile()\n",
    "\n",
    "display(Image(workflow_map_reduce_compiled.get_graph().draw_mermaid_png()))\n",
    "\n",
    "workflow_map_reduce_compiled.invoke({\"tasks\": 5})"
   ]
  },
  {
   "cell_type": "code",
   "execution_count": null,
   "id": "d611ac29-1889-47e7-96b2-f81b0ab200f0",
   "metadata": {},
   "outputs": [],
   "source": []
  },
  {
   "cell_type": "code",
   "execution_count": 4,
   "id": "e1691180-ecdb-4b48-9f27-59bf9d617f27",
   "metadata": {},
   "outputs": [
    {
     "data": {
      "image/png": "[encoded data removed]",
      "text/plain": [
       "<IPython.core.display.Image object>"
      ]
     },
     "metadata": {},
     "output_type": "display_data"
    },
    {
     "data": {
      "text/plain": [
       "{'subjects': ['cats', 'dogs'], 'jokes': ['Joke about cats', 'Joke about dogs']}"
      ]
     },
     "execution_count": 4,
     "metadata": {},
     "output_type": "execute_result"
    }
   ],
   "source": [
    "from typing import Annotated\n",
    "import operator\n",
    "from IPython.display import Image, display\n",
    "\n",
    "class OverallState(TypedDict):\n",
    "     subjects: list[str]\n",
    "     jokes: Annotated[list[str], operator.add]\n",
    "\n",
    "from langgraph.types import Send\n",
    "from langgraph.graph import END, START\n",
    "\n",
    "def continue_to_jokes(state: OverallState):\n",
    "     return [Send(\"generate_joke\", {\"subject\": s}) for s in state['subjects']]\n",
    "\n",
    "from langgraph.graph import StateGraph\n",
    "builder = StateGraph(OverallState)\n",
    "builder.add_node(\"generate_joke\", lambda state: {\"jokes\": [f\"Joke about {state['subject']}\"]})\n",
    "builder.add_conditional_edges(START, continue_to_jokes)\n",
    "builder.add_edge(\"generate_joke\", END)\n",
    "graph = builder.compile()\n",
    "\n",
    "display(Image(graph.get_graph().draw_mermaid_png()))\n",
    "\n",
    "# Invoking with two subjects results in a generated joke for each\n",
    "graph.invoke({\"subjects\": [\"cats\", \"dogs\"]})\n",
    "# {'subjects': ['cats', 'dogs'], 'jokes': ['Joke about cats', 'Joke about dogs']}"
   ]
  },
  {
   "cell_type": "code",
   "execution_count": null,
   "id": "a731f0f4-4e06-4f70-b224-e2e7dcd0e714",
   "metadata": {},
   "outputs": [],
   "source": []
  }
 ],
 "metadata": {
  "kernelspec": {
   "display_name": "Python 3 (ipykernel)",
   "language": "python",
   "name": "python3"
  },
  "language_info": {
   "codemirror_mode": {
    "name": "ipython",
    "version": 3
   },
   "file_extension": ".py",
   "mimetype": "text/x-python",
   "name": "python",
   "nbconvert_exporter": "python",
   "pygments_lexer": "ipython3",
   "version": "3.12.9"
  }
 },
 "nbformat": 4,
 "nbformat_minor": 5
}
