{
 "cells": [
  {
   "cell_type": "markdown",
   "id": "c42c0734-b413-48de-b039-9d71d7086162",
   "metadata": {},
   "source": [
    "# Create the news group dataset\n",
    "\n",
    "In this exercise, you will create a new dataset from an existing dataset. \n",
    "\n",
    "**Source dataset:**\n",
    "https://scikit-learn.org/0.19/modules/generated/sklearn.datasets.fetch_20newsgroups.html#sklearn.datasets.fetch_20newsgroups\n",
    "\n",
    "**Uploading a dataset**\n",
    "#https://huggingface.co/docs/datasets/en/upload_dataset\n",
    "\n",
    "To upload a dataset to HuggingFace, you must register and create a repository."
   ]
  },
  {
   "cell_type": "markdown",
   "id": "c0cea9f2-bd9f-4bb7-bb2f-3cf96daa2a2d",
   "metadata": {},
   "source": [
    "## Packages needed"
   ]
  },
  {
   "cell_type": "code",
   "execution_count": 1,
   "id": "f0e38696-ed93-4077-a2be-4675e26c5e84",
   "metadata": {},
   "outputs": [],
   "source": [
    "# !pip install sklearn\n",
    "# !pip install pyarrow\n",
    "# !pip install datasets\n",
    "# !pip install huggingface_hub"
   ]
  },
  {
   "cell_type": "markdown",
   "id": "e7fe451c-6756-4bd7-8554-ed4789409e50",
   "metadata": {},
   "source": [
    "## 1. Hugging Face API Key is needed for uploading the package\n",
    "\n",
    "Change the path to your key file before running the code below."
   ]
  },
  {
   "cell_type": "code",
   "execution_count": 2,
   "id": "12a624ab-e73f-4326-ae33-805d92a9e149",
   "metadata": {},
   "outputs": [
    {
     "data": {
      "text/plain": [
       "True"
      ]
     },
     "execution_count": 2,
     "metadata": {},
     "output_type": "execute_result"
    }
   ],
   "source": [
    "from dotenv import load_dotenv\n",
    "import os\n",
    "\n",
    "import warnings\n",
    "\n",
    "warnings.filterwarnings(\"ignore\")\n",
    "\n",
    "# Load the file that contains the API keys\n",
    "load_dotenv('C:\\\\Users\\\\raj\\\\.jupyter\\\\.env')"
   ]
  },
  {
   "cell_type": "markdown",
   "id": "883ddf23-8e72-46c6-94a8-8da1d8d7743d",
   "metadata": {},
   "source": [
    "## 2. Load the dataset from sklearn"
   ]
  },
  {
   "cell_type": "code",
   "execution_count": 3,
   "id": "e0baee2c-76a6-45df-9c21-3e873b853444",
   "metadata": {},
   "outputs": [
    {
     "data": {
      "text/plain": [
       "['alt.atheism',\n",
       " 'comp.graphics',\n",
       " 'comp.os.ms-windows.misc',\n",
       " 'comp.sys.ibm.pc.hardware',\n",
       " 'comp.sys.mac.hardware',\n",
       " 'comp.windows.x',\n",
       " 'misc.forsale',\n",
       " 'rec.autos',\n",
       " 'rec.motorcycles',\n",
       " 'rec.sport.baseball',\n",
       " 'rec.sport.hockey',\n",
       " 'sci.crypt',\n",
       " 'sci.electronics',\n",
       " 'sci.med',\n",
       " 'sci.space',\n",
       " 'soc.religion.christian',\n",
       " 'talk.politics.guns',\n",
       " 'talk.politics.mideast',\n",
       " 'talk.politics.misc',\n",
       " 'talk.religion.misc']"
      ]
     },
     "execution_count": 3,
     "metadata": {},
     "output_type": "execute_result"
    }
   ],
   "source": [
    "from sklearn.datasets import fetch_20newsgroups\n",
    "import pandas as pd\n",
    "import re\n",
    "\n",
    "newsgroups_train = fetch_20newsgroups(subset='train')\n",
    "\n",
    "# View list of classs for dataset\n",
    "newsgroups_train.target_names"
   ]
  },
  {
   "cell_type": "code",
   "execution_count": 4,
   "id": "f5474fb5-8e83-4aa8-b4a0-181420a62c93",
   "metadata": {},
   "outputs": [],
   "source": [
    "## Uncomment below to checkout the sample data\n",
    "\n",
    "# idx = newsgroups_train.data[0].index('Lines')\n",
    "# print(newsgroups_train.data[0][idx:])"
   ]
  },
  {
   "cell_type": "markdown",
   "id": "a4a7df60-5a78-46ee-861f-c6fe7c979144",
   "metadata": {},
   "source": [
    "### Cleanup data"
   ]
  },
  {
   "cell_type": "code",
   "execution_count": 5,
   "id": "68e0a042-55dd-45d5-a7d1-f23d976e1ca6",
   "metadata": {},
   "outputs": [],
   "source": [
    "# Apply functions to remove names, emails, and extraneous words from data points in newsgroups.data\n",
    "newsgroups_train.data = [re.sub(r'[\\w\\.-]+@[\\w\\.-]+', '', d) for d in newsgroups_train.data] # Remove email\n",
    "newsgroups_train.data = [re.sub(r\"\\([^()]*\\)\", \"\", d) for d in newsgroups_train.data] # Remove names\n",
    "newsgroups_train.data = [d.replace(\"From: \", \"\") for d in newsgroups_train.data] # Remove \"From: \"\n",
    "newsgroups_train.data = [d.replace(\"\\nSubject: \", \"\") for d in newsgroups_train.data] # Remove \"\\nSubject: \""
   ]
  },
  {
   "cell_type": "markdown",
   "id": "31723dd0-1315-4573-b093-0e2c96420ec3",
   "metadata": {},
   "source": [
    "## 3. Create a pandas DataFrame"
   ]
  },
  {
   "cell_type": "code",
   "execution_count": 6,
   "id": "4f1d2a44-5afb-482b-8efe-956f7b33539e",
   "metadata": {},
   "outputs": [],
   "source": [
    "# Put training points into a dataframe\n",
    "df_train = pd.DataFrame(newsgroups_train.data, columns=['Text'])\n",
    "df_train['Label'] = newsgroups_train.target\n",
    "# Match label to target name index\n",
    "df_train['class'] = df_train['Label'].map(newsgroups_train.target_names.__getitem__)\n",
    "# Retain text samples that can be used in the gecko model.\n",
    "df_train = df_train[df_train['Text'].str.len() < 10000]\n",
    "\n",
    "## Uncomment below to checkout the data\n",
    "# df_train"
   ]
  },
  {
   "cell_type": "markdown",
   "id": "e23cca27-76ab-4c9e-bfb3-549c4bcc85c1",
   "metadata": {},
   "source": [
    "## 4. Create a subset by taking 150 rows from each category"
   ]
  },
  {
   "cell_type": "code",
   "execution_count": 7,
   "id": "c698a58d-f60b-47b2-96d1-964340b4950d",
   "metadata": {},
   "outputs": [
    {
     "data": {
      "text/html": [
       "<div>\n",
       "<style scoped>\n",
       "    .dataframe tbody tr th:only-of-type {\n",
       "        vertical-align: middle;\n",
       "    }\n",
       "\n",
       "    .dataframe tbody tr th {\n",
       "        vertical-align: top;\n",
       "    }\n",
       "\n",
       "    .dataframe thead th {\n",
       "        text-align: right;\n",
       "    }\n",
       "</style>\n",
       "<table border=\"1\" class=\"dataframe\">\n",
       "  <thead>\n",
       "    <tr style=\"text-align: right;\">\n",
       "      <th></th>\n",
       "      <th>index</th>\n",
       "      <th>Text</th>\n",
       "      <th>Label</th>\n",
       "      <th>class</th>\n",
       "    </tr>\n",
       "  </thead>\n",
       "  <tbody>\n",
       "    <tr>\n",
       "      <th>0</th>\n",
       "      <td>300</td>\n",
       "      <td>Help! - Disappearing Groups!!!\\nOrganization:...</td>\n",
       "      <td>2</td>\n",
       "      <td>comp.os.ms-windows.misc</td>\n",
       "    </tr>\n",
       "    <tr>\n",
       "      <th>1</th>\n",
       "      <td>301</td>\n",
       "      <td>Any updated Canon BJ-200 driver\\nOrganization...</td>\n",
       "      <td>2</td>\n",
       "      <td>comp.os.ms-windows.misc</td>\n",
       "    </tr>\n",
       "    <tr>\n",
       "      <th>2</th>\n",
       "      <td>302</td>\n",
       "      <td>last\\nDistribution: usa\\nOrganization: Milwauk...</td>\n",
       "      <td>2</td>\n",
       "      <td>comp.os.ms-windows.misc</td>\n",
       "    </tr>\n",
       "    <tr>\n",
       "      <th>3</th>\n",
       "      <td>303</td>\n",
       "      <td>Chera Bekker &lt;&gt;WANTED: Xterm emulator for wind...</td>\n",
       "      <td>2</td>\n",
       "      <td>comp.os.ms-windows.misc</td>\n",
       "    </tr>\n",
       "    <tr>\n",
       "      <th>4</th>\n",
       "      <td>304</td>\n",
       "      <td>Re: WANTED: Address SYMANTEC\\nReply-To: \\nOrg...</td>\n",
       "      <td>2</td>\n",
       "      <td>comp.os.ms-windows.misc</td>\n",
       "    </tr>\n",
       "    <tr>\n",
       "      <th>...</th>\n",
       "      <td>...</td>\n",
       "      <td>...</td>\n",
       "      <td>...</td>\n",
       "      <td>...</td>\n",
       "    </tr>\n",
       "    <tr>\n",
       "      <th>445</th>\n",
       "      <td>895</td>\n",
       "      <td>Imake support for xmosaic\\nOrganization: CS D...</td>\n",
       "      <td>5</td>\n",
       "      <td>comp.windows.x</td>\n",
       "    </tr>\n",
       "    <tr>\n",
       "      <th>446</th>\n",
       "      <td>896</td>\n",
       "      <td>Re: XWindows always opaque\\nOrganization: NAS...</td>\n",
       "      <td>5</td>\n",
       "      <td>comp.windows.x</td>\n",
       "    </tr>\n",
       "    <tr>\n",
       "      <th>447</th>\n",
       "      <td>897</td>\n",
       "      <td>Problems with OpenWindows\\nOrganization: Dept...</td>\n",
       "      <td>5</td>\n",
       "      <td>comp.windows.x</td>\n",
       "    </tr>\n",
       "    <tr>\n",
       "      <th>448</th>\n",
       "      <td>898</td>\n",
       "      <td>Re: Changing dpy-&gt;max_request_size ?\\nOrganiz...</td>\n",
       "      <td>5</td>\n",
       "      <td>comp.windows.x</td>\n",
       "    </tr>\n",
       "    <tr>\n",
       "      <th>449</th>\n",
       "      <td>899</td>\n",
       "      <td>Pointer..Xlib\\nNntp-Posting-Host: flashflood....</td>\n",
       "      <td>5</td>\n",
       "      <td>comp.windows.x</td>\n",
       "    </tr>\n",
       "  </tbody>\n",
       "</table>\n",
       "<p>450 rows × 4 columns</p>\n",
       "</div>"
      ],
      "text/plain": [
       "     index                                               Text  Label  \\\n",
       "0      300   Help! - Disappearing Groups!!!\\nOrganization:...      2   \n",
       "1      301   Any updated Canon BJ-200 driver\\nOrganization...      2   \n",
       "2      302  last\\nDistribution: usa\\nOrganization: Milwauk...      2   \n",
       "3      303  Chera Bekker <>WANTED: Xterm emulator for wind...      2   \n",
       "4      304   Re: WANTED: Address SYMANTEC\\nReply-To: \\nOrg...      2   \n",
       "..     ...                                                ...    ...   \n",
       "445    895   Imake support for xmosaic\\nOrganization: CS D...      5   \n",
       "446    896   Re: XWindows always opaque\\nOrganization: NAS...      5   \n",
       "447    897   Problems with OpenWindows\\nOrganization: Dept...      5   \n",
       "448    898   Re: Changing dpy->max_request_size ?\\nOrganiz...      5   \n",
       "449    899   Pointer..Xlib\\nNntp-Posting-Host: flashflood....      5   \n",
       "\n",
       "                       class  \n",
       "0    comp.os.ms-windows.misc  \n",
       "1    comp.os.ms-windows.misc  \n",
       "2    comp.os.ms-windows.misc  \n",
       "3    comp.os.ms-windows.misc  \n",
       "4    comp.os.ms-windows.misc  \n",
       "..                       ...  \n",
       "445           comp.windows.x  \n",
       "446           comp.windows.x  \n",
       "447           comp.windows.x  \n",
       "448           comp.windows.x  \n",
       "449           comp.windows.x  \n",
       "\n",
       "[450 rows x 4 columns]"
      ]
     },
     "execution_count": 7,
     "metadata": {},
     "output_type": "execute_result"
    }
   ],
   "source": [
    "# Take a sample of each label category from df_train\n",
    "SAMPLE_SIZE = 150\n",
    "df_train = (df_train.groupby('Label', as_index = False)\n",
    "                    .apply(lambda x: x.sample(SAMPLE_SIZE))\n",
    "                    .reset_index(drop=True))\n",
    "\n",
    "# Choose categories about science\n",
    "# df_train = df_train[df_train['class'].str.contains('comp.')]\n",
    "\n",
    "list_cats = ['comp.windows.x', 'comp.os.ms-windows.misc', 'comp.sys.mac.hardware']\n",
    "df_train = df_train[df_train['class'].isin(list_cats)]\n",
    "\n",
    "# Reset the index\n",
    "df_train = df_train.reset_index()\n",
    "\n",
    "## Uncomment below to check out the data\n",
    "df_train"
   ]
  },
  {
   "cell_type": "code",
   "execution_count": 8,
   "id": "b6418cf7-8e80-4fdc-8676-794cf8b88d43",
   "metadata": {},
   "outputs": [
    {
     "data": {
      "text/plain": [
       "class\n",
       "comp.os.ms-windows.misc    150\n",
       "comp.sys.mac.hardware      150\n",
       "comp.windows.x             150\n",
       "Name: count, dtype: int64"
      ]
     },
     "execution_count": 8,
     "metadata": {},
     "output_type": "execute_result"
    }
   ],
   "source": [
    "# Show the counts of rows in all categories\n",
    "df_train['class'].value_counts()"
   ]
  },
  {
   "cell_type": "markdown",
   "id": "193fa97a-e5de-4151-97c6-459de729d060",
   "metadata": {},
   "source": [
    "## 5. Create the HuggingFace dataset"
   ]
  },
  {
   "cell_type": "code",
   "execution_count": 9,
   "id": "0d3302f1-fe2a-4878-ab24-873eebd33d4f",
   "metadata": {},
   "outputs": [],
   "source": [
    "import datasets\n",
    "from datasets import Dataset, DatasetDict"
   ]
  },
  {
   "cell_type": "code",
   "execution_count": 10,
   "id": "6d869213-e727-4317-8b38-163c5785798e",
   "metadata": {},
   "outputs": [],
   "source": [
    "ds = Dataset.from_pandas(df_train).rename_column(\"Text\", \"text\")\n",
    "ds = ds.remove_columns([\"Label\", \"index\"])"
   ]
  },
  {
   "cell_type": "code",
   "execution_count": 11,
   "id": "549031b2-d9a2-4513-b444-f5467e981393",
   "metadata": {},
   "outputs": [
    {
     "data": {
      "text/plain": [
       "Dataset({\n",
       "    features: ['text', 'class'],\n",
       "    num_rows: 450\n",
       "})"
      ]
     },
     "execution_count": 11,
     "metadata": {},
     "output_type": "execute_result"
    }
   ],
   "source": [
    "ds"
   ]
  },
  {
   "cell_type": "markdown",
   "id": "b75a9e82-3467-4405-bd99-64d12842ff17",
   "metadata": {},
   "source": [
    "## 6. Upload to Hugging Face\n",
    "\n",
    "1. Create a repository on HF using the portal\n",
    "2. Change the name of the repository and run the code to upload"
   ]
  },
  {
   "cell_type": "code",
   "execution_count": 12,
   "id": "1ca3bafa-0d7e-4714-968d-ef02fe13697f",
   "metadata": {},
   "outputs": [],
   "source": [
    "ds_name='acloudfan/newsgroups-mini'"
   ]
  },
  {
   "cell_type": "code",
   "execution_count": 13,
   "id": "eb6b479a-3d1a-4610-b92b-99ceb3a20541",
   "metadata": {},
   "outputs": [
    {
     "data": {
      "application/vnd.jupyter.widget-view+json": {
       "model_id": "c48fb10786244dbe902a1fb04a85cc8f",
       "version_major": 2,
       "version_minor": 0
      },
      "text/plain": [
       "Uploading the dataset shards:   0%|          | 0/1 [00:00<?, ?it/s]"
      ]
     },
     "metadata": {},
     "output_type": "display_data"
    },
    {
     "data": {
      "application/vnd.jupyter.widget-view+json": {
       "model_id": "6235934279fb48efbaaaa6cdc25c8e7a",
       "version_major": 2,
       "version_minor": 0
      },
      "text/plain": [
       "Creating parquet from Arrow format:   0%|          | 0/1 [00:00<?, ?ba/s]"
      ]
     },
     "metadata": {},
     "output_type": "display_data"
    },
    {
     "data": {
      "application/vnd.jupyter.widget-view+json": {
       "model_id": "0284cb069b4d43bcaad06d710e5a549c",
       "version_major": 2,
       "version_minor": 0
      },
      "text/plain": [
       "README.md:   0%|          | 0.00/1.30k [00:00<?, ?B/s]"
      ]
     },
     "metadata": {},
     "output_type": "display_data"
    },
    {
     "data": {
      "text/plain": [
       "CommitInfo(commit_url='https://huggingface.co/datasets/acloudfan/newsgroups-mini/commit/ef80190f926f2dc756f2be3028158e8beba518d8', commit_message='Upload dataset', commit_description='', oid='ef80190f926f2dc756f2be3028158e8beba518d8', pr_url=None, pr_revision=None, pr_num=None)"
      ]
     },
     "execution_count": 13,
     "metadata": {},
     "output_type": "execute_result"
    }
   ],
   "source": [
    "ds.push_to_hub(ds_name)"
   ]
  },
  {
   "cell_type": "code",
   "execution_count": null,
   "id": "caae954e-2204-4c52-aff8-0f3c9a431b88",
   "metadata": {},
   "outputs": [],
   "source": []
  }
 ],
 "metadata": {
  "kernelspec": {
   "display_name": "Python 3 (ipykernel)",
   "language": "python",
   "name": "python3"
  },
  "language_info": {
   "codemirror_mode": {
    "name": "ipython",
    "version": 3
   },
   "file_extension": ".py",
   "mimetype": "text/x-python",
   "name": "python",
   "nbconvert_exporter": "python",
   "pygments_lexer": "ipython3",
   "version": "3.12.4"
  }
 },
 "nbformat": 4,
 "nbformat_minor": 5
}
