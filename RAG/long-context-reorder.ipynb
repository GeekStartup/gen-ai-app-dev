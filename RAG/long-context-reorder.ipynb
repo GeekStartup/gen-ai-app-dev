{
 "cells": [
  {
   "cell_type": "markdown",
   "id": "df245f12-f6f6-4963-8739-5ece3b3001f1",
   "metadata": {},
   "source": [
    "# Long Context Reorder\n",
    "\n",
    "https://python.langchain.com/v0.1/docs/modules/data_connection/retrievers/long_context_reorder/\n",
    "https://python.langchain.com/v0.2/docs/how_to/long_context_reorder/\n",
    "\n",
    "#### Research paper : Lost in the Middle. \n",
    "How Language Models Use Long Contexts.\n",
    "\n",
    "https://arxiv.org/pdf/2307.03172\n",
    "\n"
   ]
  },
  {
   "cell_type": "markdown",
   "id": "756f7be1-f820-478c-b5ef-3e68ccfd70a9",
   "metadata": {},
   "source": [
    "## Import packages"
   ]
  },
  {
   "cell_type": "code",
   "execution_count": 1,
   "id": "24e8fb34-a790-4043-a354-aebc04e32212",
   "metadata": {},
   "outputs": [],
   "source": [
    "from langchain_community.embeddings.sentence_transformer import SentenceTransformerEmbeddings\n",
    "from langchain_community.vectorstores import Chroma\n",
    "from langchain_community.document_transformers import LongContextReorder"
   ]
  },
  {
   "cell_type": "markdown",
   "id": "8dba0ca1-9a48-4623-8b90-dcd7fb564859",
   "metadata": {},
   "source": [
    "## 1. Setup test corpus"
   ]
  },
  {
   "cell_type": "code",
   "execution_count": 2,
   "id": "256c7ebb-c04a-4a9f-9f56-4b16a306654f",
   "metadata": {},
   "outputs": [],
   "source": [
    "# First 4 rows are related to RAG=Retrieval Augmented Generation\n",
    "# Rest of the rows are related to rags of clothing\n",
    "data = [\n",
    "    \"RAG retrieves relevant documents to inform generation.\",\n",
    "    \"RAG is used in open-domain question answering.\",\n",
    "    \"The retrieval component in RAG finds pertinent information quickly.\",\n",
    "    \"RAG can handle complex queries with more precision.\",\n",
    "\n",
    "    \"Old t-shirts make great cleaning rags.\",\n",
    "    \"Rags are perfect for dusting furniture.\",\n",
    "    \"Use rags to clean up spills quickly.\",\n",
    "    \"Cut up old towels for durable rags.\",\n",
    "    \"Rags can be reused multiple times.\",\n",
    "    \"Keep rags handy in the kitchen for quick cleanups.\",\n",
    "    \"Rags made from cotton are highly absorbent.\",\n",
    "    \"Store rags in a bucket for easy access.\",\n",
    "    \"Rags are useful for polishing shoes.\",\n",
    "    \"Recycle old clothes into rags instead of throwing them away.\"\n",
    "]\n"
   ]
  },
  {
   "cell_type": "markdown",
   "id": "c9085763-0c93-4e1f-a2ea-ac60c5226192",
   "metadata": {},
   "source": [
    "## 2. Create the Vector Store"
   ]
  },
  {
   "cell_type": "code",
   "execution_count": 3,
   "id": "39c92d9d-765a-4fdc-a67f-244fd5502c8e",
   "metadata": {},
   "outputs": [],
   "source": [
    "# Create instance of ChromaDB and add the documents\n",
    "embedding_function = SentenceTransformerEmbeddings(model_name=\"all-MiniLM-L6-v2\")\n",
    "\n",
    "# Create a vector store from \n",
    "vector_store= Chroma.from_texts(data, embedding=embedding_function)\n",
    "vector_store_retriever = vector_store.as_retriever(search_kwargs={\"k\": 10})"
   ]
  },
  {
   "cell_type": "markdown",
   "id": "f8ea60d1-ca82-4109-9e1e-c749cd2aa819",
   "metadata": {},
   "source": [
    "## 3. Create Long Context Reorderer"
   ]
  },
  {
   "cell_type": "code",
   "execution_count": 4,
   "id": "3df60245-0d7d-4cde-9825-05a26294c262",
   "metadata": {},
   "outputs": [],
   "source": [
    "\n",
    "# Create the long context reorder\n",
    "reordering_retriever = LongContextReorder()\n"
   ]
  },
  {
   "cell_type": "markdown",
   "id": "033cd4e4-2632-42d2-953e-cf13c85ccfc6",
   "metadata": {},
   "source": [
    "## 4. Test: Result with & without reordering"
   ]
  },
  {
   "cell_type": "code",
   "execution_count": 5,
   "id": "9edbcebd-5020-4e9f-96b0-22d0c9f0a7ae",
   "metadata": {},
   "outputs": [],
   "source": [
    "# Print the context \n",
    "def dump_results(docs):\n",
    "    for doc in docs:\n",
    "        print(doc.page_content)"
   ]
  },
  {
   "cell_type": "code",
   "execution_count": 6,
   "id": "0aa458a6-ec0e-46d6-addf-6d98f4888dd5",
   "metadata": {},
   "outputs": [
    {
     "name": "stdout",
     "output_type": "stream",
     "text": [
      "Original ordering of context\n",
      "----------------------------\n",
      "RAG is used in open-domain question answering.\n",
      "The retrieval component in RAG finds pertinent information quickly.\n",
      "RAG can handle complex queries with more precision.\n",
      "Rags are useful for polishing shoes.\n",
      "Rags made from cotton are highly absorbent.\n",
      "Rags are perfect for dusting furniture.\n",
      "RAG retrieves relevant documents to inform generation.\n",
      "Rags can be reused multiple times.\n",
      "Keep rags handy in the kitchen for quick cleanups.\n",
      "Store rags in a bucket for easy access.\n",
      "\n",
      "Re-ordered context\n",
      "-------------------\n",
      "The retrieval component in RAG finds pertinent information quickly.\n",
      "Rags are useful for polishing shoes.\n",
      "Rags are perfect for dusting furniture.\n",
      "Rags can be reused multiple times.\n",
      "Store rags in a bucket for easy access.\n",
      "Keep rags handy in the kitchen for quick cleanups.\n",
      "RAG retrieves relevant documents to inform generation.\n",
      "Rags made from cotton are highly absorbent.\n",
      "RAG can handle complex queries with more precision.\n",
      "RAG is used in open-domain question answering.\n"
     ]
    }
   ],
   "source": [
    "# Test question = input\n",
    "question = \"what is gpt and rag\"\n",
    "\n",
    "# Get the similar questions from vector store\n",
    "print(\"Original ordering of context\")\n",
    "print(\"----------------------------\")\n",
    "vector_store_retriever_results = vector_store_retriever.invoke(input=question)\n",
    "dump_results(vector_store_retriever_results)\n",
    "\n",
    "print(\"\\nRe-ordered context\")\n",
    "print(\"-------------------\")\n",
    "# Reorder the documents\n",
    "reordered_docs = reordering_retriever.transform_documents(vector_store_retriever_results)\n",
    "dump_results(reordered_docs)"
   ]
  },
  {
   "cell_type": "code",
   "execution_count": null,
   "id": "f4e4e505-3bfb-4f10-98fc-4a3ed3490630",
   "metadata": {},
   "outputs": [],
   "source": []
  }
 ],
 "metadata": {
  "kernelspec": {
   "display_name": "Python 3 (ipykernel)",
   "language": "python",
   "name": "python3"
  },
  "language_info": {
   "codemirror_mode": {
    "name": "ipython",
    "version": 3
   },
   "file_extension": ".py",
   "mimetype": "text/x-python",
   "name": "python",
   "nbconvert_exporter": "python",
   "pygments_lexer": "ipython3",
   "version": "3.11.8"
  }
 },
 "nbformat": 4,
 "nbformat_minor": 5
}
