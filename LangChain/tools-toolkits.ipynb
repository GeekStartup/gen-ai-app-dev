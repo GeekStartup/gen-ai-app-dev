{
 "cells": [
  {
   "cell_type": "markdown",
   "id": "cc5a61cf-6bbb-4327-9f92-60e281c3d697",
   "metadata": {},
   "source": [
    "# Tools & Toolkits\n",
    "\n",
    "https://blog.langchain.dev/tool-calling-with-langchain/\n",
    "\n",
    "https://python.langchain.com/v0.2/docs/how_to/tools_builtin/\n",
    "\n"
   ]
  },
  {
   "cell_type": "markdown",
   "id": "b4d6b06f-df21-4ba0-bde7-b74023a05aab",
   "metadata": {},
   "source": [
    "## 1. API wrapper\n",
    "\n",
    "**Requires** !pip install -qU wikipedia\n",
    "\n",
    "**Note**\n",
    "Refer to the documentation for Wikipedia API wrapper.\n",
    "\n",
    "https://api.python.langchain.com/en/latest/utilities/langchain_community.utilities.wikipedia.WikipediaAPIWrapper.html"
   ]
  },
  {
   "cell_type": "code",
   "execution_count": null,
   "id": "9351a737-4ed6-4fd6-87f4-ece7a8ea2446",
   "metadata": {},
   "outputs": [],
   "source": [
    "from langchain_community.tools import WikipediaQueryRun\n",
    "from langchain_community.utilities import WikipediaAPIWrapper\n",
    "from langchain_core.tools import Tool\n",
    "\n",
    "\n",
    "import warnings \n",
    "\n",
    "warnings.filterwarnings('ignore')"
   ]
  },
  {
   "cell_type": "code",
   "execution_count": null,
   "id": "ace2275b-714f-4e48-b4fb-b777c84b41e6",
   "metadata": {},
   "outputs": [],
   "source": [
    "# https://api.python.langchain.com/en/latest/utilities/langchain_community.utilities.wikipedia.WikipediaAPIWrapper.html\n",
    "\n",
    "api_wrapper = WikipediaAPIWrapper(doc_content_chars_max=50, top_k_results=2)\n"
   ]
  },
  {
   "cell_type": "code",
   "execution_count": null,
   "id": "8dcd7f74-78bc-48fc-8c6e-1b2bd5ac9b92",
   "metadata": {},
   "outputs": [],
   "source": [
    "query=\"Prompt engineering\"\n",
    "\n",
    "response = api_wrapper.load(query = query)\n",
    "\n",
    "response"
   ]
  },
  {
   "cell_type": "markdown",
   "id": "fed48fae-7fa1-42c6-8475-f85475a09f9c",
   "metadata": {},
   "source": [
    "## 2. Tool\n",
    "\n",
    "Create a tool with the Wikipedia wrapper\n",
    "\n",
    "https://api.python.langchain.com/en/latest/tools/langchain_core.tools.Tool.html#langchain_core.tools.Tool"
   ]
  },
  {
   "cell_type": "code",
   "execution_count": null,
   "id": "6cd97b0c-7f1d-4c6e-ba32-00022f3559f5",
   "metadata": {},
   "outputs": [],
   "source": [
    "# Added \n",
    "api_wrapper = WikipediaAPIWrapper(doc_content_chars_max=50, top_k_results=2)\n",
    "\n",
    "# Tool is a Runnable which means that it has a function invoke\n",
    "wiki_tool = Tool(\n",
    "    name=\"wikipedia\",\n",
    "    description=\"useful for searching the wikipedia\",\n",
    "    func=api_wrapper.load\n",
    ")"
   ]
  },
  {
   "cell_type": "code",
   "execution_count": null,
   "id": "6f25740f-69c7-4216-9fac-a31e8797fa6c",
   "metadata": {},
   "outputs": [],
   "source": [
    "# Test\n",
    "query=\"Prompt engineering\"\n",
    "\n",
    "response = wiki_tool.invoke({\"query\": query})\n",
    "\n",
    "response"
   ]
  },
  {
   "cell_type": "markdown",
   "id": "18b0c9d0-eb06-4651-8069-bc139c916bc3",
   "metadata": {},
   "source": [
    "### Use the built in tool class for Wikipedia\n",
    "\n",
    "https://api.python.langchain.com/en/latest/tools/langchain_community.tools.wikipedia.tool.WikipediaQueryRun.html"
   ]
  },
  {
   "cell_type": "code",
   "execution_count": null,
   "id": "59b3ed10-fcba-44f6-bf4b-6c15844e0a19",
   "metadata": {},
   "outputs": [],
   "source": [
    "from langchain.tools import WikipediaQueryRun\n",
    "\n",
    "wikipedia_tool = WikipediaQueryRun(api_wrapper=WikipediaAPIWrapper())\n",
    "\n",
    "# You can override the tool specs e.g., name, description\n",
    "# wikipedia_tool = WikipediaQueryRun(api_wrapper=WikipediaAPIWrapper(),name=\"mywiki\", description=\"overridden the description\")\n",
    "\n",
    "wikipedia_tool.verbose=True\n",
    "\n",
    "print(\"name: \", wikipedia_tool.name)\n",
    "print(\"description: \", wikipedia_tool.description)\n",
    "print(\"args_schema: \", wikipedia_tool.args_schema)\n",
    "\n",
    "response = wiki_tool.invoke({\"query\": query})"
   ]
  },
  {
   "cell_type": "markdown",
   "id": "4544640b-760c-4cd8-8195-d67498b31ff3",
   "metadata": {},
   "source": [
    "### Use load_tools\n",
    "\n",
    "https://api.python.langchain.com/en/latest/agent_toolkits/langchain_community.agent_toolkits.load_tools.load_tools.html\n",
    "\n",
    "#### List of tool names\n",
    "https://api.python.langchain.com/en/latest/_modules/langchain_community/agent_toolkits/load_tools.html#load_tools"
   ]
  },
  {
   "cell_type": "code",
   "execution_count": null,
   "id": "aaf4daf6-3ea6-4e26-8445-ae0529818ed1",
   "metadata": {},
   "outputs": [],
   "source": [
    "from langchain_community.agent_toolkits.load_tools import load_tools\n",
    "\n",
    "tools_to_use = load_tools([\n",
    "    \"wikipedia\",\n",
    "    \"arxiv\",\n",
    "    \"read_file\"\n",
    "])\n",
    "\n",
    "for tool in tools_to_use:\n",
    "    print(\"-----------------\")\n",
    "    print(\"name: \", tool.name)\n",
    "    print(\"description: \", tool.description)\n"
   ]
  },
  {
   "cell_type": "markdown",
   "id": "0c59ec9d-da1d-4ea1-9ec1-e8b4d22ff94b",
   "metadata": {},
   "source": [
    "## 3. Toolkit\n",
    "\n",
    "https://python.langchain.com/v0.1/docs/integrations/toolkits/\n",
    "\n",
    "**JsonSpec** & **JsonToolkit** classes\n",
    "\n",
    "https://api.python.langchain.com/en/latest/agent_toolkits/langchain_community.agent_toolkits.json.toolkit.JsonToolkit.html#langchain_community.agent_toolkits.json.toolkit.JsonToolkit\n",
    "\n"
   ]
  },
  {
   "cell_type": "code",
   "execution_count": null,
   "id": "d8b84637-939a-488c-b040-53e3221cc83c",
   "metadata": {},
   "outputs": [],
   "source": [
    "from langchain_community.agent_toolkits import JsonToolkit\n",
    "from langchain_community.tools.json.tool import JsonSpec\n"
   ]
  },
  {
   "cell_type": "code",
   "execution_count": null,
   "id": "3f355eac-f386-4815-beb9-dc663a5141fe",
   "metadata": {},
   "outputs": [],
   "source": [
    "# JSON - dictionary\n",
    "data = {\n",
    "    \"a\": \"value-1\",\n",
    "    \"b\": \"value-2\",\n",
    "    \"c\": {\n",
    "        \"d\": \"value-3\",\n",
    "        \"e\": \"value-4\"\n",
    "    }\n",
    "}\n",
    "\n",
    "json_spec = JsonSpec(dict_=data, max_value_length=4000)\n",
    "json_toolkit = JsonToolkit(spec=json_spec)\n",
    "\n",
    "# Get list of tools\n",
    "tools = json_toolkit.get_tools()\n",
    "\n",
    "# Pass the tools to create an agent\n",
    "# agent = create_agent_method(llm, tools, prompt)"
   ]
  },
  {
   "cell_type": "code",
   "execution_count": null,
   "id": "31275414-f604-4c0d-b687-1de33556b0af",
   "metadata": {},
   "outputs": [],
   "source": [
    "for tool in tools:\n",
    "    print('-----------------')\n",
    "    print(tool.name)\n",
    "    print(tool.description)"
   ]
  },
  {
   "cell_type": "code",
   "execution_count": null,
   "id": "3e64b967-d3d1-4a66-ba44-e7c9b971dc0e",
   "metadata": {},
   "outputs": [],
   "source": [
    "tools[0].invoke('data[\"c\"]')"
   ]
  },
  {
   "cell_type": "code",
   "execution_count": null,
   "id": "f4925869-c422-47ab-83d4-9b8c2ef317dc",
   "metadata": {},
   "outputs": [],
   "source": [
    "# Notice that the input is a string NOT a dictionary\n",
    "tools[1].invoke('data[\"c\"][\"d\"]')"
   ]
  },
  {
   "cell_type": "markdown",
   "id": "ac52a2f8-efc8-4e81-89df-dfbe9df9ca74",
   "metadata": {},
   "source": [
    "## 4. Custom tools\n",
    "\n",
    "https://python.langchain.com/v0.2/docs/how_to/custom_tools/\n",
    "\n",
    "This **@tool decorator** is the simplest way to define a custom tool. The decorator uses the function name as the tool name by default, but this can be overridden by passing a string as the first argument. Additionally, the decorator will use the function's docstring as the tool's description - so a docstring MUST be provided.\n",
    "\n",
    "Another way to do it is by using the **StructuredTool** class.\n",
    "\n",
    "https://blog.langchain.dev/structured-tools/\n"
   ]
  },
  {
   "cell_type": "markdown",
   "id": "3a29e506-b316-461a-a488-e4a8ea0f3d2b",
   "metadata": {},
   "source": [
    "#### @tool"
   ]
  },
  {
   "cell_type": "code",
   "execution_count": 1,
   "id": "e5390c43-ad18-4852-bd45-439097bd7927",
   "metadata": {},
   "outputs": [],
   "source": [
    "from langchain_core.tools import tool\n",
    "\n",
    "@tool\n",
    "def multiply_tool(a: int, b: int) -> int:\n",
    "    \"\"\"\n",
    "    Multiplies two integers.\n",
    "\n",
    "    Args:\n",
    "        a (int): The first integer.\n",
    "        b (int): The second integer.\n",
    "\n",
    "    Returns:\n",
    "        int: The product of the two integers.\n",
    "\n",
    "    Example:\n",
    "        >>> multiply(2, 3)\n",
    "        6\n",
    "    \"\"\"\n",
    "    return a * b\n"
   ]
  },
  {
   "cell_type": "code",
   "execution_count": 2,
   "id": "6c9e56f4-4481-41fb-afb8-01956c200602",
   "metadata": {},
   "outputs": [
    {
     "name": "stdout",
     "output_type": "stream",
     "text": [
      "multiply_tool\n",
      "============Description====================\n",
      "Multiplies two integers.\n",
      "\n",
      "Args:\n",
      "    a (int): The first integer.\n",
      "    b (int): The second integer.\n",
      "\n",
      "Returns:\n",
      "    int: The product of the two integers.\n",
      "\n",
      "Example:\n",
      "    >>> multiply(2, 3)\n",
      "    6\n",
      "============Args schema====================\n",
      "{'a': ModelField(name='a', type=int, required=True), 'b': ModelField(name='b', type=int, required=True)}\n"
     ]
    }
   ],
   "source": [
    "print(multiply_tool.name)\n",
    "print(\"============Description====================\")\n",
    "print(multiply_tool.description)\n",
    "print(\"============Args schema====================\")\n",
    "print(multiply_tool.args_schema.__dict__['__fields__'])"
   ]
  },
  {
   "cell_type": "markdown",
   "id": "917f829d-e7b8-48a3-a6e8-23dc426a1e41",
   "metadata": {},
   "source": [
    "#### StructuredTool"
   ]
  },
  {
   "cell_type": "code",
   "execution_count": 3,
   "id": "3ce79da8-c431-43ab-905e-2b8b0efb8dac",
   "metadata": {},
   "outputs": [],
   "source": [
    "def division_tool(a: int, b: int) -> int:\n",
    "    \"\"\"\n",
    "    Divides two integers.\n",
    "\n",
    "    Args:\n",
    "        a (int): The first integer.\n",
    "        b (int): The second integer. It MUST != 0\n",
    "\n",
    "    Returns:\n",
    "        int: The divison of the two integers.\n",
    "\n",
    "    Example:\n",
    "        >>> division(2, 3)\n",
    "        6\n",
    "    \"\"\"\n",
    "    return a / b"
   ]
  },
  {
   "cell_type": "code",
   "execution_count": 4,
   "id": "bcef6459-3e24-4336-8a3f-ec72f5bf284c",
   "metadata": {},
   "outputs": [
    {
     "name": "stdout",
     "output_type": "stream",
     "text": [
      "division_tool\n",
      "============Description====================\n",
      "Divides two integers.\n",
      "\n",
      "Args:\n",
      "    a (int): The first integer.\n",
      "    b (int): The second integer. It MUST != 0\n",
      "\n",
      "Returns:\n",
      "    int: The divison of the two integers.\n",
      "\n",
      "Example:\n",
      "    >>> division(2, 3)\n",
      "    6\n",
      "============Args schema====================\n",
      "{'a': ModelField(name='a', type=int, required=True), 'b': ModelField(name='b', type=int, required=True)}\n"
     ]
    }
   ],
   "source": [
    "from langchain.tools.base import StructuredTool\n",
    "\n",
    "division_tool = StructuredTool.from_function(division_tool)\n",
    "\n",
    "print(division_tool.name)\n",
    "print(\"============Description====================\")\n",
    "print(division_tool.description)\n",
    "print(\"============Args schema====================\")\n",
    "print(division_tool.args_schema.__dict__['__fields__'])"
   ]
  },
  {
   "cell_type": "markdown",
   "id": "d43c2fc1-3e80-42fe-82d7-5ab18b5f707b",
   "metadata": {},
   "source": [
    "## Exercise : FileManagementToolkit\n",
    "\n",
    "Go through the documentation for the file management toolkit : https://api.python.langchain.com/en/latest/agent_toolkits/langchain_community.agent_toolkits.file_management.toolkit.FileManagementToolkit.html\n",
    "\n",
    "1. Create a temporary directory as the *working_dir*\n",
    "2. List the tools available in file management toolkit\n",
    "3. Write a file (or 2) to the folder\n",
    "4. List the files in the folder\n",
    "5. Read content of a file\n",
    "\n",
    "#### Tools available for selection:\n",
    "['copy_file', 'file_delete', 'file_search', 'move_file', 'read_file', 'write_file', 'list_directory']"
   ]
  },
  {
   "cell_type": "markdown",
   "id": "9bd4a01f-b412-4aae-8782-2f33aa35149a",
   "metadata": {},
   "source": [
    "### 1. Create temp folder"
   ]
  },
  {
   "cell_type": "code",
   "execution_count": 5,
   "id": "95af34fe-a796-4f34-8806-68ee9faa1776",
   "metadata": {},
   "outputs": [],
   "source": [
    "import os\n",
    "\n",
    "# CHANGE the path\n",
    "temp_folder_path = \"c:/temp/temp\"\n",
    "\n",
    "if not os.path.exists(temp_folder_path):\n",
    "    os.makedirs(temp_folder_path)"
   ]
  },
  {
   "cell_type": "markdown",
   "id": "c0064446-52a0-4bbf-a779-777de71f06c3",
   "metadata": {},
   "source": [
    "### 2. List available tools"
   ]
  },
  {
   "cell_type": "code",
   "execution_count": 6,
   "id": "be916b21-0238-4487-8d71-d0e0c41fe153",
   "metadata": {},
   "outputs": [
    {
     "data": {
      "text/plain": [
       "[CopyFileTool(root_dir='c:/temp/temp'),\n",
       " DeleteFileTool(root_dir='c:/temp/temp'),\n",
       " FileSearchTool(root_dir='c:/temp/temp'),\n",
       " MoveFileTool(root_dir='c:/temp/temp'),\n",
       " ReadFileTool(root_dir='c:/temp/temp'),\n",
       " WriteFileTool(root_dir='c:/temp/temp'),\n",
       " ListDirectoryTool(root_dir='c:/temp/temp')]"
      ]
     },
     "execution_count": 6,
     "metadata": {},
     "output_type": "execute_result"
    }
   ],
   "source": [
    "from langchain_community.agent_toolkits import FileManagementToolkit\n",
    "\n",
    "fm_toolkit = FileManagementToolkit(root_dir=temp_folder_path)\n",
    "\n",
    "# Toolkit class function to get the list of tools \n",
    "fm_toolkit.get_tools()"
   ]
  },
  {
   "cell_type": "markdown",
   "id": "fa4814bd-c590-4c1a-ba3c-5ffe79fe4005",
   "metadata": {},
   "source": [
    "### 3. Write a file"
   ]
  },
  {
   "cell_type": "code",
   "execution_count": 10,
   "id": "d4ee477a-fe87-4cea-ab56-77e561ff843b",
   "metadata": {},
   "outputs": [
    {
     "data": {
      "text/plain": [
       "'File written successfully to example.txt.'"
      ]
     },
     "execution_count": 10,
     "metadata": {},
     "output_type": "execute_result"
    }
   ],
   "source": [
    "fm_toolkit = FileManagementToolkit(root_dir=temp_folder_path, selected_tools=['write_file'])\n",
    "\n",
    "# Get just the write tool\n",
    "write_file_tool = FileManagementToolkit(\n",
    "    root_dir=temp_folder_path,\n",
    "    selected_tools=[\"write_file\"],\n",
    ").get_tools()[0]\n",
    "\n",
    "file_name = \"example.txt\"\n",
    "write_file_tool.invoke({\"file_path\": file_name, \"text\": \"Hello World!\"})"
   ]
  },
  {
   "cell_type": "markdown",
   "id": "be2bc817-7c8f-49f6-b804-25fe0c90f757",
   "metadata": {},
   "source": [
    "### 4. List the files"
   ]
  },
  {
   "cell_type": "code",
   "execution_count": 12,
   "id": "25a554d6-3b14-4dae-b43d-628367c6ee5c",
   "metadata": {},
   "outputs": [
    {
     "data": {
      "text/plain": [
       "'example.txt'"
      ]
     },
     "execution_count": 12,
     "metadata": {},
     "output_type": "execute_result"
    }
   ],
   "source": [
    "fm_toolkit = FileManagementToolkit(root_dir=temp_folder_path, selected_tools=['list_directory'])\n",
    "\n",
    "# Get just the list directory tool\n",
    "list_file_tool = FileManagementToolkit(\n",
    "    root_dir=temp_folder_path,\n",
    "    selected_tools=[\"list_directory\"],\n",
    ").get_tools()[0]\n",
    "\n",
    "\n",
    "list_file_tool.invoke(\"\")"
   ]
  },
  {
   "cell_type": "markdown",
   "id": "3c1cfe9c-d43d-4d57-a68e-b525255d2929",
   "metadata": {},
   "source": [
    "### 5. Read the content of a file"
   ]
  },
  {
   "cell_type": "code",
   "execution_count": null,
   "id": "05c87b28-d158-4b4d-b582-3ef980f2eee0",
   "metadata": {},
   "outputs": [],
   "source": [
    "fm_toolkit = FileManagementToolkit(root_dir=temp_folder_path, selected_tools=['read_file'])\n",
    "\n",
    "# Get just the list directory tool\n",
    "read_file_tool = FileManagementToolkit(\n",
    "    root_dir=temp_folder_path,\n",
    "    selected_tools=[\"list_directory\"],\n",
    ").get_tools()[0]\n",
    "\n",
    "read_file_tool.invoke(file_name)"
   ]
  },
  {
   "cell_type": "code",
   "execution_count": null,
   "id": "465cd03a-1465-414f-b21f-daf696f2d2b5",
   "metadata": {},
   "outputs": [],
   "source": []
  }
 ],
 "metadata": {
  "kernelspec": {
   "display_name": "Python 3 (ipykernel)",
   "language": "python",
   "name": "python3"
  },
  "language_info": {
   "codemirror_mode": {
    "name": "ipython",
    "version": 3
   },
   "file_extension": ".py",
   "mimetype": "text/x-python",
   "name": "python",
   "nbconvert_exporter": "python",
   "pygments_lexer": "ipython3",
   "version": "3.11.8"
  }
 },
 "nbformat": 4,
 "nbformat_minor": 5
}
