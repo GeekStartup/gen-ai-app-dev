{
 "cells": [
  {
   "cell_type": "markdown",
   "id": "d063984b-04a8-44fc-b550-b5de47de4485",
   "metadata": {},
   "source": [
    "# HITL : Static interrupts \n",
    "\n",
    "https://langchain-ai.github.io/langgraph/concepts/human_in_the_loop/\n",
    "\n",
    "* Checkpointer is needed for interrupts\n",
    "* Static interrupts may be specified at compile time\n",
    "\n",
    "https://langchain-ai.github.io/langgraph/reference/graphs/#langgraph.graph.state.StateGraph\n",
    "\n",
    "* To resume the graph use : **invoke(Command(resume = value, goto= ...)\n",
    "\n",
    "### Static interrupts\n",
    "https://langchain-ai.github.io/langgraph/reference/graphs/#langgraph.graph.state.StateGraph.compile\n",
    "\n",
    "### interrupt\n",
    "https://langchain-ai.github.io/langgraph/reference/types/#langgraph.types.interrupt\n",
    "\n",
    "### Command\n",
    "https://langchain-ai.github.io/langgraph/reference/types/#langgraph.types.Command"
   ]
  },
  {
   "cell_type": "code",
   "execution_count": 1,
   "id": "9163b5e4-fe97-498c-9810-3b8ba4be91de",
   "metadata": {},
   "outputs": [
    {
     "data": {
      "text/plain": [
       "<langgraph.graph.state.StateGraph at 0x2755719b950>"
      ]
     },
     "execution_count": 1,
     "metadata": {},
     "output_type": "execute_result"
    }
   ],
   "source": [
    "from typing import TypedDict, List\n",
    "from langgraph.types import Command\n",
    "from langgraph.graph import StateGraph, START, END\n",
    "from langgraph.checkpoint.memory import InMemorySaver\n",
    "from IPython.display import Image, display\n",
    "\n",
    "# Provide the schema in the form of keys & their types\n",
    "class StateHITL(TypedDict):\n",
    "    test_str: str  # Each node appends its identity to this string\n",
    "    \n",
    "# Node A\n",
    "def node_a(state: StateHITL)->dict:\n",
    "    print(\"Node A : \", state[\"test_str\"])\n",
    "    return {\"test_str\": state[\"test_str\"] + \" :A \"}\n",
    "\n",
    "# Node B\n",
    "def node_b(state: StateHITL)->dict:\n",
    "    print(\"Node B : \", state[\"test_str\"])\n",
    "    return {\"test_str\": state[\"test_str\"] + \" :B \"}\n",
    "\n",
    "# Node C\n",
    "def node_c(state: StateHITL)->dict:\n",
    "    print(\"Node C : \", state[\"test_str\"])\n",
    "    return {\"test_str\": state[\"test_str\"] + \" :C \"}\n",
    "\n",
    "# Create a stateful graph\n",
    "workflow_hitl = StateGraph(StateHITL)\n",
    "\n",
    "# Add the nodes\n",
    "workflow_hitl.add_node(\"node_a\", node_a)\n",
    "workflow_hitl.add_node(\"node_b\", node_b)\n",
    "workflow_hitl.add_node(\"node_c\", node_c)\n",
    "\n",
    "# Add the edges\n",
    "workflow_hitl.add_edge(START, \"node_a\")  \n",
    "workflow_hitl.add_edge(\"node_a\", \"node_b\")\n",
    "workflow_hitl.add_edge(\"node_b\", \"node_c\")\n",
    "workflow_hitl.add_edge(\"node_c\", END)\n",
    "\n"
   ]
  },
  {
   "cell_type": "markdown",
   "id": "14bc8723-7ea7-451a-9608-b27f471ba6af",
   "metadata": {},
   "source": [
    "## No interrupts"
   ]
  },
  {
   "cell_type": "code",
   "execution_count": 2,
   "id": "16912275-e3d0-4009-ba9a-d6c9df74bb3c",
   "metadata": {},
   "outputs": [
    {
     "data": {
      "image/png": "[encoded data removed]",
      "text/plain": [
       "<IPython.core.display.Image object>"
      ]
     },
     "metadata": {},
     "output_type": "display_data"
    }
   ],
   "source": [
    "# Prepares the graph from the node/edge relations\n",
    "checkpointer = InMemorySaver()\n",
    "workflow_hitl_compiled = workflow_hitl.compile(checkpointer=checkpointer)\n",
    "\n",
    "# Visualize the graph\n",
    "display(Image(workflow_hitl_compiled.get_graph().draw_mermaid_png()))"
   ]
  },
  {
   "cell_type": "markdown",
   "id": "47c1be31-09e1-4283-8a92-5f667db5b59e",
   "metadata": {},
   "source": [
    "## Interrupt before/after B"
   ]
  },
  {
   "cell_type": "code",
   "execution_count": 6,
   "id": "10b9cbeb-54f0-4cab-b637-d17a6995cb8b",
   "metadata": {},
   "outputs": [
    {
     "data": {
      "image/png": "[encoded data removed]",
      "text/plain": [
       "<IPython.core.display.Image object>"
      ]
     },
     "metadata": {},
     "output_type": "display_data"
    }
   ],
   "source": [
    "# Prepares the graph from the node/edge relations\n",
    "checkpointer = InMemorySaver()\n",
    "\n",
    "# Before\n",
    "workflow_hitl_compiled = workflow_hitl.compile(checkpointer=checkpointer, interrupt_before=[\"node_b\"])\n",
    "\n",
    "# After\n",
    "# workflow_hitl_compiled = workflow_hitl.compile(checkpointer=checkpointer, interrupt_after=[\"node_b\"])\n",
    "\n",
    "# Visualize the graph\n",
    "display(Image(workflow_hitl_compiled.get_graph().draw_mermaid_png()))"
   ]
  },
  {
   "cell_type": "markdown",
   "id": "60bf5a66-f190-4790-a1a6-9657b17a895b",
   "metadata": {},
   "source": [
    "## Test graph\n",
    "\n",
    "* Make changes to previous cell for before/after interrupt\n",
    "* Run the cells below to check out the next node\n",
    "* Resume graph by invoking again with input = None"
   ]
  },
  {
   "cell_type": "code",
   "execution_count": 7,
   "id": "0f5a8b25-ad3a-414a-8f31-c508093f6787",
   "metadata": {},
   "outputs": [
    {
     "name": "stdout",
     "output_type": "stream",
     "text": [
      "Node A :  its a sunny day\n",
      "Next node to be executed :  ('node_b',)\n"
     ]
    }
   ],
   "source": [
    "# Setup the thread_id\n",
    "config = {\"configurable\": {\"thread_id\": 2}}\n",
    "\n",
    "response = workflow_hitl_compiled.invoke({\"test_str\": \"its a sunny day\"}, config=config)\n",
    "\n",
    "# Get the state of the graph and extract next node to be executed\n",
    "next_node = workflow_hitl_compiled.get_state(config=config).next\n",
    "print(\"Next node to be executed : \", next_node)"
   ]
  },
  {
   "cell_type": "code",
   "execution_count": 8,
   "id": "3000166e-7bce-4765-9d01-6027fd9c31f5",
   "metadata": {},
   "outputs": [
    {
     "name": "stdout",
     "output_type": "stream",
     "text": [
      "Node B :  its a sunny day :A \n",
      "Node C :  its a sunny day :A  :B \n",
      "Final reponse:  {'test_str': 'its a sunny day :A  :B  :C '}\n"
     ]
    }
   ],
   "source": [
    "# Resume the graph from last interrupt point by providing None instead of Command\n",
    "response  = workflow_hitl_compiled.invoke(None, config=config)\n",
    "\n",
    "# response\n",
    "print(\"Final reponse: \", response)"
   ]
  },
  {
   "cell_type": "code",
   "execution_count": null,
   "id": "51b3348b-4765-40b4-b98f-9b85573b2a78",
   "metadata": {},
   "outputs": [],
   "source": []
  }
 ],
 "metadata": {
  "kernelspec": {
   "display_name": "Python 3 (ipykernel)",
   "language": "python",
   "name": "python3"
  },
  "language_info": {
   "codemirror_mode": {
    "name": "ipython",
    "version": 3
   },
   "file_extension": ".py",
   "mimetype": "text/x-python",
   "name": "python",
   "nbconvert_exporter": "python",
   "pygments_lexer": "ipython3",
   "version": "3.12.9"
  }
 },
 "nbformat": 4,
 "nbformat_minor": 5
}
