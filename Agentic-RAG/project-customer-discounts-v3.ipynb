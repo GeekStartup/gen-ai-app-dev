{
 "cells": [
  {
   "cell_type": "markdown",
   "id": "365edf1d-b26f-4544-9cdc-77e0b57b0178",
   "metadata": {},
   "source": [
    "# project-customer-discounts-v3"
   ]
  },
  {
   "cell_type": "markdown",
   "id": "3201d469-07fe-46f5-9eb3-57f6f0e5a745",
   "metadata": {},
   "source": [
    "Prompt to generate the code"
   ]
  },
  {
   "cell_type": "markdown",
   "id": "f11061dd-348b-49ba-81ce-6da45a16f23f",
   "metadata": {},
   "source": [
    "generate code for the function get_customer_discount(customer_id, promo_code) using the instructions below:\n",
    "\n",
    "1. Just generate the code for the function and nothing else\n",
    "2. Get the loyalty points balance for the customer using the function get_loyalty_point_balance(customer_id)\n",
    "3. Use the document policy:\n",
    "There are two types of discounts.\n",
    "\n",
    "    1. Loyalty discounts:\n",
    "    Customers earns loyalty points as they purchase items on our website. \n",
    "    The customer's loyalty points balance is used for determining the discount percentage for the customer.\n",
    "    Higher the loyalty points balanace, more is the discount percentage.\n",
    "\n",
    "    Use the pseudocode below to calculate the loyalty point discount percentage:\n",
    "\n",
    "    if the loyalty_points_balance >= 500 and loyalty_points_balance < 1000:\n",
    "        loyalty_point_discount_percentage =  0.05\n",
    "    else if the loyalty_points_balance >= 1000 and loyalty_points_balance < 1500:\n",
    "        loyalty_point_discount_percentage = 0.10\n",
    "    else if the loyalty_points_balance >= 1500:\n",
    "        loyalty_point_discount_percentage = 0.15\n",
    "    else:\n",
    "        loyalty_point_discount_percentage = 0.0\n",
    "\n",
    "    2. Promotional discount:\n",
    "    Time to time we give out promotional discount codes. \n",
    "    The discount percentage depends on the promotion code that customer presents at the time of purchase.\n",
    "\n",
    "    Final discount calculations:\n",
    "    The final discount for the customer is caluculated by adding the loyalty discount percentage and promotional discount percentage.\n",
    "\n",
    "    Maximum discount policy:\n",
    "    The customer discount cannot exceed 25%.\n",
    "    If the final discount is greater than 25%, change it to 25%."
   ]
  }
 ],
 "metadata": {
  "kernelspec": {
   "display_name": "Python 3 (ipykernel)",
   "language": "python",
   "name": "python3"
  },
  "language_info": {
   "codemirror_mode": {
    "name": "ipython",
    "version": 3
   },
   "file_extension": ".py",
   "mimetype": "text/x-python",
   "name": "python",
   "nbconvert_exporter": "python",
   "pygments_lexer": "ipython3",
   "version": "3.11.8"
  }
 },
 "nbformat": 4,
 "nbformat_minor": 5
}
