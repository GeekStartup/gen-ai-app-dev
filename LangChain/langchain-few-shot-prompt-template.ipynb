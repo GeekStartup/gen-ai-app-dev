{
 "cells": [
  {
   "cell_type": "markdown",
   "id": "ba3512e4-25a8-47a8-8a15-3c1acc214dee",
   "metadata": {},
   "source": [
    "# FewShotPromptTemplate\n",
    "\n",
    "https://python.langchain.com/docs/modules/model_io/prompts/few_shot_examples\n",
    "\n",
    "https://api.python.langchain.com/en/stable/prompts/langchain_core.prompts.few_shot.FewShotPromptTemplate.html#langchain-core-prompts-few-shot-fewshotprompttemplate\n",
    "\n",
    "In this example we have hard coded the examples in the code.\n"
   ]
  },
  {
   "cell_type": "code",
   "execution_count": 1,
   "id": "166c5873-2b49-418f-9fe4-ac8c92c17c01",
   "metadata": {},
   "outputs": [],
   "source": [
    "\n",
    "from langchain.prompts import PromptTemplate, FewShotPromptTemplate\n",
    "\n",
    "# Taken from GSM8K dataset\n",
    "# https://huggingface.co/datasets/gsm8k/viewer/main/train\n",
    "examples = [\n",
    "    {\n",
    "        \"question\": \"Natalia sold clips to 48 of her friends in April, and then she sold half as many clips in May. How many clips did Natalia sell altogether in April and May?\",\n",
    "        \"answer\": \"Natalia sold 48/2 = <<48/2=24>>24 clips in May. Natalia sold 48+24 = <<48+24=72>>72 clips altogether in April and May. #### 72\"\n",
    "    },\n",
    "    {\n",
    "        \"question\": \"Weng earns $12 an hour for babysitting. Yesterday, she just did 50 minutes of babysitting. How much did she earn?\",\n",
    "        \"answer\": \"Weng earns 12/60 = $<<12/60=0.2>>0.2 per minute. Working 50 minutes, she earned 0.2 x 50 = $<<0.2*50=10>>10. #### 10\"\n",
    "    },\n",
    "    {\n",
    "        \"question\": \"Kevin has a tree growing in his garden that is currently 180 inches tall. That is 50% taller than it was when he planted it there. How tall was the tree, in feet, then?\",\n",
    "        \"answer\": \"Since it is 50% taller, then 180 inches is 100% + 50% = 150% of its height then. So each 1% is equal to 180/150 = <<180/150=1.2>>1.2 inches. So, its height then was 1.2 x 100% = 120 inches. Since 1 foot is equal to 12 inches, then 120 inches is equal to 120/12 = <<120/12=10>>10 feet. #### 10\"\n",
    "    },\n",
    "    {\n",
    "        \"question\": \"Mary went to the store to buy fruit. Apples cost $1, oranges cost $2, and bananas cost $3. For every 5 fruits that customers buy, the store offers a $1 discount. Mary buys 5 apples, 3 oranges, and 2 bananas. How much will she pay?\",\n",
    "        \"answer\": \"For 5 apples, Mary will pay 5*1= <<5*1=5>>5 dollars. For 3 oranges, she will pay 3*2= <<3*2=6>>6 dollars. For 2 bananas, she will pay 2*3 = <<2*3=6>>6 dollars. She bought 5+3+2=<<5+3+2=10>>10 fruits For 10 fruits, Mary gets a discount of 10/5 = <<10/5=2>>2 dollars. In total, the bill is 5 + 6 + 6 = <<5+6+6=17>>17 dollars. Subtracting the discount offered by the stores, Mary will pay 17 - 2 = <<17-2=15>>15 dollars. #### 15\"\n",
    "    }\n",
    "]"
   ]
  },
  {
   "cell_type": "markdown",
   "id": "126da271-1bae-4984-af43-652f135a621c",
   "metadata": {},
   "source": [
    "## 1. Create the template for examples\n"
   ]
  },
  {
   "cell_type": "code",
   "execution_count": 2,
   "id": "0f7db358-101f-4c4b-a35b-e055f06044cb",
   "metadata": {},
   "outputs": [],
   "source": [
    "examples_template = \"\"\"\n",
    "    Question: {question}\n",
    "    Answer: {answer}\n",
    "\"\"\"\n",
    "prompt_template_examples = PromptTemplate(\n",
    "                                template = examples_template,\n",
    "                                input_variables = [\"question\", \"answer\"]\n",
    "                            )\n"
   ]
  },
  {
   "cell_type": "markdown",
   "id": "9464f7d7-ef84-4a45-b5f1-0b317dd29cee",
   "metadata": {},
   "source": [
    "## 2. Create the Few Shot Prompt Template"
   ]
  },
  {
   "cell_type": "code",
   "execution_count": 3,
   "id": "b577bc15-200b-408d-9960-9609b7230cc5",
   "metadata": {},
   "outputs": [],
   "source": [
    "# create the few shot prompt template\n",
    "# Like the prompt template, it requires prompt & input variable\n",
    "llm_prompt_template = FewShotPromptTemplate(\n",
    "                            example_prompt = prompt_template_examples,\n",
    "                            input_variables = [\"input\"],\n",
    "                            examples = examples,\n",
    "                            suffix = \"Question: {input}\",\n",
    "                            prefix = \"Use the examples and answer the question.\",\n",
    "                        )\n"
   ]
  },
  {
   "cell_type": "code",
   "execution_count": 4,
   "id": "4434cd8f-f94d-4a8d-bab4-92d8834fdb4a",
   "metadata": {},
   "outputs": [
    {
     "name": "stdout",
     "output_type": "stream",
     "text": [
      "Use the examples and answer the question.\n",
      "\n",
      "\n",
      "    Question: Natalia sold clips to 48 of her friends in April, and then she sold half as many clips in May. How many clips did Natalia sell altogether in April and May?\n",
      "    Answer: Natalia sold 48/2 = <<48/2=24>>24 clips in May. Natalia sold 48+24 = <<48+24=72>>72 clips altogether in April and May. #### 72\n",
      "\n",
      "\n",
      "\n",
      "    Question: Weng earns $12 an hour for babysitting. Yesterday, she just did 50 minutes of babysitting. How much did she earn?\n",
      "    Answer: Weng earns 12/60 = $<<12/60=0.2>>0.2 per minute. Working 50 minutes, she earned 0.2 x 50 = $<<0.2*50=10>>10. #### 10\n",
      "\n",
      "\n",
      "\n",
      "    Question: Kevin has a tree growing in his garden that is currently 180 inches tall. That is 50% taller than it was when he planted it there. How tall was the tree, in feet, then?\n",
      "    Answer: Since it is 50% taller, then 180 inches is 100% + 50% = 150% of its height then. So each 1% is equal to 180/150 = <<180/150=1.2>>1.2 inches. So, its height then was 1.2 x 100% = 120 inches. Since 1 foot is equal to 12 inches, then 120 inches is equal to 120/12 = <<120/12=10>>10 feet. #### 10\n",
      "\n",
      "\n",
      "\n",
      "    Question: Mary went to the store to buy fruit. Apples cost $1, oranges cost $2, and bananas cost $3. For every 5 fruits that customers buy, the store offers a $1 discount. Mary buys 5 apples, 3 oranges, and 2 bananas. How much will she pay?\n",
      "    Answer: For 5 apples, Mary will pay 5*1= <<5*1=5>>5 dollars. For 3 oranges, she will pay 3*2= <<3*2=6>>6 dollars. For 2 bananas, she will pay 2*3 = <<2*3=6>>6 dollars. She bought 5+3+2=<<5+3+2=10>>10 fruits For 10 fruits, Mary gets a discount of 10/5 = <<10/5=2>>2 dollars. In total, the bill is 5 + 6 + 6 = <<5+6+6=17>>17 dollars. Subtracting the discount offered by the stores, Mary will pay 17 - 2 = <<17-2=15>>15 dollars. #### 15\n",
      "\n",
      "\n",
      "Question: Mark deposited $88 in a bank. Bryan deposited $40 less than five times as much as Mark. How much did Mark deposit in the bank?\n"
     ]
    }
   ],
   "source": [
    "question = \"Mark deposited $88 in a bank. Bryan deposited $40 less than five times as much as Mark. How much did Mark deposit in the bank?\"\n",
    "\n",
    "print(llm_prompt_template.format(input=question))"
   ]
  },
  {
   "cell_type": "markdown",
   "id": "ce06874b-457d-44fc-b70a-28c83d1bbd8e",
   "metadata": {},
   "source": [
    "## 3. Example Selector\n",
    "* You may dynamically select the provided examples\n",
    "* 3 ways of selection:\n",
    "    1. LengthBasedExampleSelector\n",
    "    2. MaxMarginalRelevanceExampleSelector\n",
    "    3. SemanticSimilarityExampleSelector\n",
    "\n",
    "https://api.python.langchain.com/en/stable/core_api_reference.html#module-langchain_core.example_selectors\n"
   ]
  },
  {
   "cell_type": "code",
   "execution_count": 26,
   "id": "ba57a8a3-249e-4455-8bc3-8c6380b684e5",
   "metadata": {},
   "outputs": [
    {
     "name": "stdout",
     "output_type": "stream",
     "text": [
      "Use the examples and answer the question.\n",
      "\n",
      "\n",
      "    Question: Natalia sold clips to 48 of her friends in April, and then she sold half as many clips in May. How many clips did Natalia sell altogether in April and May?\n",
      "    Answer: Natalia sold 48/2 = <<48/2=24>>24 clips in May. Natalia sold 48+24 = <<48+24=72>>72 clips altogether in April and May. #### 72\n",
      "\n",
      "\n",
      "\n",
      "    Question: Weng earns $12 an hour for babysitting. Yesterday, she just did 50 minutes of babysitting. How much did she earn?\n",
      "    Answer: Weng earns 12/60 = $<<12/60=0.2>>0.2 per minute. Working 50 minutes, she earned 0.2 x 50 = $<<0.2*50=10>>10. #### 10\n",
      "\n",
      "\n",
      "\n",
      "    Question: Kevin has a tree growing in his garden that is currently 180 inches tall. That is 50% taller than it was when he planted it there. How tall was the tree, in feet, then?\n",
      "    Answer: Since it is 50% taller, then 180 inches is 100% + 50% = 150% of its height then. So each 1% is equal to 180/150 = <<180/150=1.2>>1.2 inches. So, its height then was 1.2 x 100% = 120 inches. Since 1 foot is equal to 12 inches, then 120 inches is equal to 120/12 = <<120/12=10>>10 feet. #### 10\n",
      "\n",
      "\n",
      "Question: Mark deposited $88 in a bank. Bryan deposited $40 less than five times as much as Mark. How much did Mark deposit in the bank?\n"
     ]
    }
   ],
   "source": [
    "from langchain.prompts import PromptTemplate, FewShotPromptTemplate, LengthBasedExampleSelector\n",
    "\n",
    "# default length = 2048\n",
    "\n",
    "# change to 100, 200, 300 to see the number of examples change in the prompt\n",
    "max_length = 300\n",
    "\n",
    "# Requires the example_prompt template\n",
    "example_selector_length_based = LengthBasedExampleSelector(\n",
    "                                    max_length=max_length,\n",
    "                                    example_prompt = prompt_template_examples,\n",
    "                                    examples = examples,\n",
    "                                )\n",
    "\n",
    "# create the few shot prompt\n",
    "# example and example_selector are mutually exclusive\n",
    "# suffix is required\n",
    "llm_prompt_template_max_length = FewShotPromptTemplate(\n",
    "                            # examples = examples,\n",
    "                            example_prompt = prompt_template_examples,\n",
    "                            example_selector=example_selector_length_based,\n",
    "                            suffix = \"Question: {input}\",\n",
    "                            prefix = \"Use the examples and answer the question.\",\n",
    "                            input_variables = [\"input\"],\n",
    "                        )\n",
    "\n",
    "# print the prompt\n",
    "print(llm_prompt_template_max_length.format(input=question))"
   ]
  },
  {
   "cell_type": "code",
   "execution_count": null,
   "id": "29db077f-0b58-4f60-a71f-1d434dc29a82",
   "metadata": {},
   "outputs": [],
   "source": []
  }
 ],
 "metadata": {
  "kernelspec": {
   "display_name": "Python 3 (ipykernel)",
   "language": "python",
   "name": "python3"
  },
  "language_info": {
   "codemirror_mode": {
    "name": "ipython",
    "version": 3
   },
   "file_extension": ".py",
   "mimetype": "text/x-python",
   "name": "python",
   "nbconvert_exporter": "python",
   "pygments_lexer": "ipython3",
   "version": "3.11.8"
  }
 },
 "nbformat": 4,
 "nbformat_minor": 5
}
