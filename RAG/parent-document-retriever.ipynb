{
 "cells": [
  {
   "cell_type": "markdown",
   "id": "5ce20160-aced-4453-bffb-7d4723aa1e10",
   "metadata": {},
   "source": [
    "# Parent Document Retriever\n",
    "https://python.langchain.com/v0.1/docs/modules/data_connection/retrievers/\n",
    "\n",
    "https://api.python.langchain.com/en/latest/retrievers/langchain.retrievers.parent_document_retriever.ParentDocumentRetriever.html\n",
    "\n",
    "#### Test files\n",
    "Available in a subdirectory\n",
    "\n",
    "#### When to use?\n",
    "The documents in use are small and may be passed as context. \n",
    "Idea is to still split the document so that context is not lost.\n"
   ]
  },
  {
   "cell_type": "code",
   "execution_count": 1,
   "id": "48640b8b-627f-4b72-8a10-a1c860cdec7e",
   "metadata": {},
   "outputs": [],
   "source": [
    "from langchain.storage import InMemoryStore\n",
    "from langchain.retrievers import ParentDocumentRetriever\n",
    "from langchain_community.document_loaders import DirectoryLoader\n",
    "from langchain_text_splitters import RecursiveCharacterTextSplitter\n",
    "from langchain_community.vectorstores import Chroma\n",
    "from langchain_text_splitters import RecursiveCharacterTextSplitter\n",
    "from langchain_community.embeddings.sentence_transformer import SentenceTransformerEmbeddings\n",
    "import logging"
   ]
  },
  {
   "cell_type": "markdown",
   "id": "eb385703-8e46-42da-92a8-56aa261bf85a",
   "metadata": {},
   "source": [
    "## 1. Create Vectorstore, Child  splitter"
   ]
  },
  {
   "cell_type": "code",
   "execution_count": 2,
   "id": "14b4b381-d2e0-4070-9985-ab6746fdd626",
   "metadata": {},
   "outputs": [],
   "source": [
    "# Create the Chroma vector store\n",
    "embedding_function = SentenceTransformerEmbeddings(model_name=\"all-MiniLM-L6-v2\")\n",
    "vector_store = Chroma(collection_name=\"full_documents\", embedding_function=embedding_function) \n",
    "\n",
    "# Smaller chunks stored in the vector DB\n",
    "child_splitter = RecursiveCharacterTextSplitter(chunk_size=300, chunk_overlap=20)"
   ]
  },
  {
   "cell_type": "markdown",
   "id": "52a719c7-1cd6-4236-ba60-3360bf29b23b",
   "metadata": {},
   "source": [
    "## 2. Create the ParentDocumenRetriever"
   ]
  },
  {
   "cell_type": "code",
   "execution_count": 3,
   "id": "5755aafa-fb93-464c-a510-e227aff2e06f",
   "metadata": {},
   "outputs": [],
   "source": [
    "# In memory dictionary to store parent docs\n",
    "parent_doc_store = InMemoryStore()\n",
    "\n",
    "# Create the retriever\n",
    "# If parent splitter is NOT used then the entire document is returned\n",
    "# If parnet splitter is used then the bigger-parent-chunks are returned\n",
    "parent_retriever = ParentDocumentRetriever(\n",
    "    vectorstore=vector_store,\n",
    "    docstore=parent_doc_store,\n",
    "    child_splitter = child_splitter\n",
    ")\n",
    "\n",
    "# Add the data\n",
    "loader = DirectoryLoader('./util', glob=\"**/*.txt\")\n",
    "docs = loader.load()\n",
    "parent_retriever.add_documents(docs, ids=None)\n",
    "\n"
   ]
  },
  {
   "cell_type": "markdown",
   "id": "9b8596b4-efc6-4379-ac52-c8e3c1db4e04",
   "metadata": {},
   "source": [
    "## 3. Test the retriever behavior"
   ]
  },
  {
   "cell_type": "code",
   "execution_count": 4,
   "id": "d956c1dd-492d-4dbe-9b5e-73a536bbfe8d",
   "metadata": {},
   "outputs": [
    {
     "name": "stdout",
     "output_type": "stream",
     "text": [
      "What data is used to train ChatGPT? \n",
      "\n",
      "Results from vector store retriever:  \n",
      "\n",
      "CHUNK:  As mentioned in the previous section, ChatGPT does not copy or store training information in a database. Instead, it learns about associations between words, and those learnings help the model update its numbers/weights. The model then uses those weights to predict and generate new words in \n",
      "\n",
      "CHUNK:  What type of information is used to teach ChatGPT? As noted above, ChatGPT and our other services are developed using (1) information that is publicly available on the internet, (2) information that we license from third parties, and (3) information that our users or human trainers provide. This \n",
      "\n",
      "CHUNK:  Is personal information used to teach ChatGPT? A large amount of data on the internet relates to people, so our training information does incidentally include personal information. We don’t actively seek out personal information to train our models. \n",
      "\n",
      "CHUNK:  What is ChatGPT, and how does it work? ChatGPT is an artificial intelligence-based service that you can access via the internet. You can use ChatGPT to organize or summarize text, or to write new text. ChatGPT has been developed in a way that allows it to understand and respond to user questions \n",
      "\n",
      "========================================\n",
      "Results from parent document retriever:  \n",
      "\n",
      "Title How ChatGPT and our language models are developed\n",
      "\n",
      "Source\n",
      "\n",
      "https://help.openai.com/en/articles/7842364\n",
      "\n",
      "how\n",
      "\n",
      "chatgpt\n",
      "\n",
      "and\n",
      "\n",
      "our\n",
      "\n",
      "language\n",
      "\n",
      "models\n",
      "\n",
      "are\n",
      "\n",
      "developed\n",
      "\n",
      "Abstract OpenAI’s large language models, including the models that power ChatGPT, are developed using three primary sources of information: (1) information that is publicly available on the internet, (2) information that we license from third parties, and (3) information that our users or our human trainers provide.\n",
      "\n",
      "This article provides an overview of the publicly available information we use to help develop our models and how we collect and use that information in compliance with privacy laws. To understand how we collect and use information from users of our services, including how to opt out of having ChatGPT conversations used to help teach our models, please see our Privacy Policy and this help center article.\n",
      "\n",
      "What is ChatGPT, and how does it work? ChatGPT is an artificial intelligence-based service that you can access via the internet. You can use ChatGPT to organize or summarize text, or to write new text. ChatGPT has been developed in a way that allows it to understand and respond to user questions and instructions. It does this by “reading” a large amount of existing text and learning how words tend to appear in context with other words. It then uses what it has learned to predict the next most likely word that might appear in response to a user request, and each subsequent word after that. This is similar to auto-complete capabilities on search engines, smartphones, and email programs.\n",
      "\n",
      "As an example, during the model learning process (called “training”), we might have a model try to complete the sentence: “instead of turning left, she turned ___.” Before training, the model will respond with random words, but as it reads and learns from many lines of text, it better understands this type of sentence and can predict the next word more accurately. It then repeats this process across a very large number of sentences.\n",
      "\n",
      "Because there are many possible words that could come next in this sentence (e.g., instead of turning left, she turned “right,” “around,” or “back”), there is an element of randomness in the way a model can respond, and in many cases our models will answer the same question in different ways.\n",
      "\n",
      "Machine learning models are made up of large strings of numbers, called “weights” or “parameters,” and code that interprets and executes those numbers. Models do not contain or store copies of information that they learn from. Instead, as a model learns, some of the numbers that make up the model change slightly to reflect what it has learned. In the example above, the model read information that helped it improve from predicting random incorrect words to predicting more accurate words, but all that actually happened in the model itself was that the numbers changed slightly. The model did not store or copy the sentences that it read.\n",
      "\n",
      "What type of information is used to teach ChatGPT? As noted above, ChatGPT and our other services are developed using (1) information that is publicly available on the internet, (2) information that we license from third parties, and (3) information that our users or human trainers provide. This article focuses on the first set: information that is publicly available on the internet.\n",
      "\n",
      "For this set of information, we only use publicly available information that is freely and openly available on the Internet – for example, we do not seek information behind paywalls or from the “dark web.” We apply filters and remove information that we do not want our models to learn from or output, such as hate speech, adult content, sites that primarily aggregate personal information, and spam. We then use the information to teach our models.\n",
      "\n",
      "As mentioned in the previous section, ChatGPT does not copy or store training information in a database. Instead, it learns about associations between words, and those learnings help the model update its numbers/weights. The model then uses those weights to predict and generate new words in response to a user request. It does not “copy and paste” training information – much like a person who has read a book and sets it down, our models do not have access to training information after they have learned from it.\n",
      "\n",
      "Is personal information used to teach ChatGPT? A large amount of data on the internet relates to people, so our training information does incidentally include personal information. We don’t actively seek out personal information to train our models.\n",
      "\n",
      "We use training information only to help our models learn about language and how to understand and respond to it. We do not and will not use any personal information in training information to build profiles about people, to contact them, to advertise to them, to try to sell them anything, or to sell the information itself.\n",
      "\n",
      "Our models may learn from personal information to understand how things like names and addresses fit within language and sentences, or to learn about famous people and public figures. This makes our models better at providing relevant responses.\n",
      "\n",
      "We also take steps to reduce the processing of personal information when training our models. For example, we remove websites that aggregate large volumes of personal information and we try to train our models to reject requests for private or sensitive information about people.\n",
      "\n",
      "How does the development of ChatGPT comply with privacy laws? We use training information lawfully. Large language models have many applications that provide significant benefits and are already helping people create content, improve customer service, develop software, customize education, support scientific research, and much more. These benefits cannot be realized without a large amount of information to teach the models. In addition, our use of training information is not meant to negatively impact individuals, and the primary sources of this training information are already publicly available. For these reasons, we base our collection and use of personal information that is included in training information on legitimate interests under privacy laws like the GDPR, as explained in more detail in our Privacy Policy. We have also completed a data protection impact assessment to help ensure we are collecting and using this information legally and responsibly.\n",
      "\n",
      "We respond to objection requests and similar rights. As a result of learning language, ChatGPT responses may sometimes include personal information about individuals whose personal information appears multiple times on the public internet (for example, public figures). Individuals in certain jurisdictions can object to the processing of their personal information by our models in our Privacy Portal. Individuals also may have the right to access, correct, restrict, delete, or transfer their personal information that may be included in our training information. You can exercise these rights by reaching out to dsar@openai.com.\n",
      "\n",
      "Please be aware that, in accordance with privacy laws, some rights may not be absolute. We may decline a request if we have a lawful reason for doing so. However, we strive to prioritize the protection of personal information, and comply with all applicable privacy laws. If you feel we have not adequately addressed an issue, you have the right to lodge a complaint with your local supervisory authority.\n"
     ]
    }
   ],
   "source": [
    "# Test input\n",
    "input = [\"What is RAG?\",\n",
    "         \"How is fine tuning different than RAG?\",\n",
    "         \"What data is used to train ChatGPT?\",\n",
    "         \"What are the benefits of generative AI?\"]\n",
    "\n",
    "\n",
    "# change input index for testing\n",
    "ndx = 2 \n",
    "print(input[ndx],\"\\n\")\n",
    "\n",
    "print(\"Results from vector store retriever: \",\"\\n\")\n",
    "results = vector_store.as_retriever().invoke(input[ndx])\n",
    "for doc in results:\n",
    "    print(\"CHUNK: \", doc.page_content,\"\\n\")\n",
    "print(\"========================================\")\n",
    "print(\"Results from parent document retriever: \",\"\\n\")\n",
    "\n",
    "# This will retrieve the entire document, instead of the chunk itself\n",
    "results = parent_retriever.invoke(input[ndx])\n",
    "\n",
    "# Print retrieved information to validate the behavior\n",
    "print(results[0].page_content)"
   ]
  },
  {
   "cell_type": "markdown",
   "id": "ed48abc3-f673-445a-b889-b8521b3455e4",
   "metadata": {},
   "source": [
    "## 4. Create the RAG chain with PDR\n",
    "\n",
    "Left as an exercise "
   ]
  },
  {
   "cell_type": "code",
   "execution_count": null,
   "id": "e14953b5-6c32-48bd-8816-410d339e3c3b",
   "metadata": {},
   "outputs": [],
   "source": []
  }
 ],
 "metadata": {
  "kernelspec": {
   "display_name": "Python 3 (ipykernel)",
   "language": "python",
   "name": "python3"
  },
  "language_info": {
   "codemirror_mode": {
    "name": "ipython",
    "version": 3
   },
   "file_extension": ".py",
   "mimetype": "text/x-python",
   "name": "python",
   "nbconvert_exporter": "python",
   "pygments_lexer": "ipython3",
   "version": "3.11.8"
  }
 },
 "nbformat": 4,
 "nbformat_minor": 5
}
