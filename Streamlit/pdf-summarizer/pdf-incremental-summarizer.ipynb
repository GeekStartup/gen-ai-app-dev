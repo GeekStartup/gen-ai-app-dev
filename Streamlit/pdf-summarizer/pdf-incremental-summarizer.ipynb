{
 "cells": [
  {
   "cell_type": "markdown",
   "id": "e899c2e8-63c6-4c1d-a0a2-24f9ee04a466",
   "metadata": {},
   "source": [
    "# This is to demonstrate the core logic for the project\n",
    "\n",
    "This is to demonstrate the core logic for the project"
   ]
  },
  {
   "cell_type": "code",
   "execution_count": 2,
   "id": "feb372d5-8680-4b46-b0a2-8df14ed39b84",
   "metadata": {},
   "outputs": [
    {
     "data": {
      "text/plain": [
       "True"
      ]
     },
     "execution_count": 2,
     "metadata": {},
     "output_type": "execute_result"
    }
   ],
   "source": [
    "import time\n",
    "import os\n",
    "from dotenv import load_dotenv\n",
    "import math\n",
    "\n",
    "from langchain.prompts import PromptTemplate\n",
    "from langchain_community.document_loaders import PyPDFLoader\n",
    "\n",
    "# from langchain_community.llms import HuggingFaceHub\n",
    "from langchain_community.llms import HuggingFaceEndpoint\n",
    "\n",
    "# CHANGE the path otherwise script will fail\n",
    "load_dotenv('C:\\\\Users\\\\raj\\\\.jupyter\\\\.env')"
   ]
  },
  {
   "cell_type": "markdown",
   "id": "8281e153-5b60-40d3-80a5-cdb4fd6f8b6d",
   "metadata": {},
   "source": [
    "## 1. Select the model\n",
    "\n",
    "You may use any model of your choice including commercial ones. \n",
    "\n",
    "NOTE:\n",
    "\n",
    "HuggingFace has limit on number of calls you can make per hour. With large PDF documents there is a potential to run out of quota. For testing and experimentation use small PDF documents."
   ]
  },
  {
   "cell_type": "code",
   "execution_count": 3,
   "id": "13f9d346-d7ef-48a0-91ab-8b58c9f0b600",
   "metadata": {},
   "outputs": [
    {
     "name": "stdout",
     "output_type": "stream",
     "text": [
      "Token will not been saved to git credential helper. Pass `add_to_git_credential=True` if you want to set the git credential as well.\n",
      "Token is valid (permission: write).\n",
      "Your token has been saved to C:\\Users\\raj\\.cache\\huggingface\\token\n",
      "Login successful\n"
     ]
    }
   ],
   "source": [
    "# https://huggingface.co/mistralai/Mistral-7B-Instruct-v0.2\n",
    "# Context window = 32K\n",
    "model_id = 'mistralai/Mistral-7B-Instruct-v0.2'\n",
    "CONTEXT_WINDOW_SIZE=32000\n",
    "MAX_TOKENS=2000\n",
    "\n",
    "# Create the client to LLM\n",
    "llm = HuggingFaceEndpoint(\n",
    "        repo_id=model_id, \n",
    "        max_new_tokens=MAX_TOKENS\n",
    ")"
   ]
  },
  {
   "cell_type": "markdown",
   "id": "60a23a50-c17e-4e12-98b6-e3aec9e571fb",
   "metadata": {},
   "source": [
    "## 2. Load the PDF & print statistcis"
   ]
  },
  {
   "cell_type": "code",
   "execution_count": 10,
   "id": "ac37bc37-9d27-4aa9-bb32-b02e9f8a1989",
   "metadata": {},
   "outputs": [
    {
     "name": "stdout",
     "output_type": "stream",
     "text": [
      "Number of pages:  15\n",
      "Total content size =  55594\n",
      "Number of chunks =  2  with context size =  32000\n"
     ]
    }
   ],
   "source": [
    "# Sample pdf\n",
    "# Roughly 788K\n",
    "pdf_link = \"https://sgp.fas.org/crs/misc/R47644.pdf\"\n",
    "\n",
    "loader = PyPDFLoader(pdf_link)\n",
    "pages = loader.load()\n",
    "page_count = len(pages)\n",
    "print(\"Number of pages: \", page_count)\n",
    "\n",
    "# Total size of all pages\n",
    "size = 0 \n",
    "for page in pages:\n",
    "    size = size + len(page.page_content)\n",
    "print(\"Total content size = \", size)\n",
    "print(\"Number of chunks = \", math.ceil(size/CONTEXT_WINDOW_SIZE), \" with context size = \", CONTEXT_WINDOW_SIZE)"
   ]
  },
  {
   "cell_type": "markdown",
   "id": "8cd2f5b9-8a43-4a0b-a19b-a4aca2a16f6d",
   "metadata": {},
   "source": [
    "## 3. Define a template\n",
    "\n",
    "ADJUST the prompt as each model behaves differently.\n"
   ]
  },
  {
   "cell_type": "code",
   "execution_count": 5,
   "id": "233476a9-2552-4cd9-a991-5ed42317efdb",
   "metadata": {},
   "outputs": [
    {
     "name": "stdout",
     "output_type": "stream",
     "text": [
      "\n",
      "    extend the abstractive summary below with the new content. Keep total size of the extended summary around 3000 words.\n",
      "\n",
      "    summary: \n",
      "    partial summary from the previous pages\n",
      "\n",
      "    new content:\n",
      "    new content from a set of pages\n",
      "\n",
      "    extended summary:\n",
      "    \n",
      "\n"
     ]
    }
   ],
   "source": [
    "template = \"\"\"\n",
    "    extend the abstractive summary below with the new content. Keep total size of the extended summary around 3000 words.\n",
    "\n",
    "    summary: \n",
    "    {summary}\n",
    "\n",
    "    new content:\n",
    "    {content}\n",
    "\n",
    "    extended summary:\n",
    "    \n",
    "\"\"\"\n",
    "\n",
    "prompt_template = PromptTemplate(\n",
    "    input_variables = ['summary', 'content'],\n",
    "    template = template\n",
    ")\n",
    "\n",
    "test_template = prompt_template.format(summary='partial summary from the previous pages', content='new content from a set of pages')\n",
    "print(test_template)"
   ]
  },
  {
   "cell_type": "markdown",
   "id": "ca73487a-0c4f-4e43-860f-f3dac0ee0a8c",
   "metadata": {},
   "source": [
    "## 4. Summarization logic\n",
    "\n",
    "Create the summary incrementally as all of PDF content may not fit in the context window of the model. \n",
    "\n",
    "* Create a chunk by concatenating a set of pages such that *len(partial_summary) + len(new_content) + MAX_TOKENS < CONTEXT_WINDOW_SIZE*\n",
    "* Using LLM extend the summary with the new chunk\n",
    "* Continue the process till all pages are included in the summary"
   ]
  },
  {
   "cell_type": "code",
   "execution_count": 6,
   "id": "0e2c468d-78e5-4e50-beef-c8c99f5c6e0b",
   "metadata": {},
   "outputs": [
    {
     "name": "stdout",
     "output_type": "stream",
     "text": [
      "Total pages to process :  15\n",
      "Processing chunk, starting with page index :  0\n",
      "Processing chunk, starting with page index :  9\n"
     ]
    }
   ],
   "source": [
    "# Each chunk should be such that: \n",
    "# len(partial_summary) + len(new_content) + MAX_TOKENS < CONTEXT_WINDOW_SIZE\n",
    "\n",
    "# Holds partial summary\n",
    "partial_summary = ''\n",
    "\n",
    "\n",
    "\n",
    "# Index of the first page in the chunk\n",
    "next_page_index = 0\n",
    "\n",
    "print(\"Total pages to process : \", page_count)\n",
    "# Create the chunk, extend the summary with the chunk\n",
    "while next_page_index < len(pages):\n",
    "    print('Processing chunk, starting with page index : ',next_page_index)\n",
    "\n",
    "    # Holds the chunk = a set of contenated pages\n",
    "    new_content = ''\n",
    "    \n",
    "    # Loop to create chunk \n",
    "    for i, doc in enumerate(pages[next_page_index : ]):\n",
    "        last_i = i\n",
    "        if len(partial_summary) + len(new_content) + len(doc.page_content) + MAX_TOKENS < CONTEXT_WINDOW_SIZE :\n",
    "            new_content = new_content + doc.page_content\n",
    "        else:\n",
    "            break\n",
    "            \n",
    "    # Initialize the new content and next page index\n",
    "    next_page_index = next_page_index + last_i + 1\n",
    "        \n",
    "    # Pass the current summary and new content to LLM for summarization\n",
    "    query = prompt_template.format(summary=partial_summary, content=new_content)\n",
    "    partial_summary = llm.invoke(query)\n"
   ]
  },
  {
   "cell_type": "code",
   "execution_count": 7,
   "id": "e276a1bc-366d-45ee-ab35-bf5ba486c58c",
   "metadata": {},
   "outputs": [
    {
     "name": "stdout",
     "output_type": "stream",
     "text": [
      "Artificial Intelligence: Overview, Recent Advances, and Considerations for the 118th Congress\n",
      "\n",
      "Congressional Research Service\n",
      "August 4, 2023\n",
      "R47644\n",
      "\n",
      "Summary:\n",
      "Artificial intelligence (AI) is a term used to describe computerized systems that work and react in ways commonly thought to require intelligence, such as learning, problem-solving, and decision-making under uncertain and varying conditions. AI technologies have been in development since the 1950s, with recent advances driven by the availability of large datasets, improved machine learning algorithms, and more powerful computers. The widespread availability of AI tools, such as generative AI models like ChatGPT, has renewed debate about appropriate uses and guardrails for AI, particularly in the areas of health care, education, and national security. This report provides an overview of AI, recent advances, benefits and potential risks, and current federal laws addressing AI.\n",
      "\n",
      "Background and History:\n",
      "The concept of AI was first introduced at the Dartmouth Summer Research Project on Artificial Intelligence in 1955. AI research has gone through periods of advancement and lulls, with recent progress attributed to the availability of large datasets, improved machine learning algorithms, and more powerful computers. AI technologies can be categorized as rule-based or machine learning, with the latter being more widely used in recent years due to its ability to learn from data.\n",
      "\n",
      "Recent Advances:\n",
      "Recent advances in AI, particularly in generative AI, have been driven by the transformer architecture and large language models. These models, such as ChatGPT from OpenAI, are capable of generating text, images, music, and other forms of content. They have shown \"capability overhang,\" or hidden capabilities that have not been fully explored or anticipated. However, these models also have limitations, such as generating false content, perpetuating or amplifying biases, and being dependent on vast amounts of data that are not widely accessible.\n",
      "\n",
      "Benefits and Potential Risks:\n",
      "AI technologies have many potential benefits, including accelerating and providing insights into data processing, augmenting human decision-making, optimizing performance for complex systems and tasks, and improving safety for people in dangerous occupations. However, AI systems may also perpetuate or amplify biases, may not yet be fully able to explain their decision-making, and often depend on vast amounts of data that are not widely accessible. These challenges can make it difficult to fully assess and understand the operations and outputs of AI systems.\n",
      "\n",
      "One example of the potential risks of AI is in the area of health care. AI systems can be used to diagnose diseases, develop personalized treatment plans, and analyze medical data. However, they may also perpetuate or amplify biases, such as racial or gender biases, in their outputs. AI systems may also be trained on insufficient or inaccurate data, leading to incorrect diagnoses or treatments.\n",
      "\n",
      "Another area of concern is in education. AI systems can be used to generate personalized lesson plans, provide instant feedback to students, and assist in grading assignments. However, they may also perpetuate or amplify biases, leading to unfair treatment of certain students. AI systems may also be used to cheat on assignments or take tests, raising ethical concerns about academic integrity.\n",
      "\n",
      "Current Federal Laws:\n",
      "Several federal laws have been enacted to address AI, either as standalone legislation or as provisions in broader acts. The National Artificial Intelligence Initiative Act of 2020 established the American AI Initiative and provided direction for AI research, development, and evaluation activities at federal science agencies. The AI in Government Act of 2020 and the Advancing American AI Act of 2021 directed certain agencies to undertake activities to guide AI programs and policies across the federal government. In the 118th Congress, at least 40 bills had been introduced as of June 2023 that either focused on AI/ML or contained AI/ML-focused provisions.\n",
      "\n",
      "Individual agencies, including the General Services Administration (GSA), the Office of Management and Budget (OMB), and the Office of Personnel Management (OPM), have also been statutorily directed to undertake activities to support the use of AI across the federal government. GSA created an AI Center of Excellence to facilitate the adoption of AI technologies in the federal government, and OMB issued a memorandum to federal agencies regarding the development of AI policies and approaches for removing barriers to using AI technologies. OPM was required to establish or update an occupational job series to include positions with primary duties in AI and to estimate current and future numbers of federal employment positions related to AI at each agency.\n",
      "\n",
      "NDAAs have also included provisions focused on AI in the defense, national security, and intelligence communities each year beginning with the FY2019 John S. McCain NDAA, which included the first definition of AI in federal statute. These provisions have included a focus on AI development, acquisition, and policies; AI data repositories; recruiting and retaining personnel in AI; and implementation of recommendations from the 2021 final report of the National Security Commission on AI.\n",
      "\n",
      "Additionally, some enacted legislation has focused on AI R&D or the use of AI in particular federal programs. For example, the CHIPS and Science Act included numerous AI-related provisions directing the Department of Energy, NIST, and NSF to support AI and ML R&D activities and the development of technical standards and guidelines related to safe and trustworthy AI systems. NSF was further directed to evaluate the establishment of an AI scholarship-for-service program to recruit and train AI professionals to support AI work in federal, state, local, and tribal governments.\n",
      "\n",
      "Federal AI Legislation Introduced in the 117th and 118th Congresses:\n",
      "In addition to the enacted legislation, numerous bills for which AI or ML technologies were the main focus, or that had at least one provision focused on AI/ML, were introduced in the 117th Congress and have been introduced in the 118th Congress in both the Senate and the House of Representatives. In the 117th Congress, a search of Congress.gov for all the subject legislation resulted in 235 bills, six of which were enacted. Of those, CRS identified 34 bills that have a main focus on AI/ML and 41 pieces of legislation that include provisions related to AI/ML. Collectively, the introduced and enacted legislation addressed many AI/ML-related topics, including federal planning and coordination, research and education investment, job displacement and workforce retraining, commercial technology use, ethics, bias, and algorithm accountability, government efficiency and cost savings, and health care, defense, national security, and intelligence applications and activities.\n",
      "\n",
      "In the 118th Congress, a search of Congress.gov as of June 2023 resulted in 94 bills, none of which had been enacted. Of those bills, CRS identified 22 pieces of legislation that have a main focus on AI/ML and 18 with provisions related to AI/ML. Collectively, the legislation addresses a range of topics, including oversight of federal government approaches to AI governance and regulation, AI training for federal employees, requirements for federal agencies and the private sector to disclose the use of GenAI broadly and in certain contexts, such as political advertisements, assessing export controls for national interest technologies, including AI, to the People's Republic of China, prohibiting the use of AI in certain contexts, such as decisionmaking for the use of nuclear weapons, biometric surveillance, and workplace surveillance, and support for the use of AI in various areas, including cybersecurity, classification and declassification systems, advanced weather modeling, wildfire detection, airport efficiency and safety, precision agriculture, and prescribing certain pharmaceuticals.\n",
      "\n",
      "Perspectives on Regulating Artificial Intelligence:\n",
      "As the use of AI technologies has grown, so too have discussions of whether and how to regulate them. Internationally, the European Union has proposed the Artificial Intelligence Act (AIA), which would create regulatory oversight for the development and use of a wide range of AI applications, with requirements varying by risk category, from banning systems with \"unacceptable risk\" to allowing free use of those with minimal or no risk. In one recently passed version of the AIA, the European Parliament agreed to changes that included a ban on the use of AI in biometric surveillance and a requirement for GenAI systems to disclose that their outputs are AI-generated. In the United States, legislation such as the Algorithmic Accountability Act of 2022 would have directed the Federal Trade Commission to require certain organizations to perform impact assessments of automated decision systems, including those using ML and AI, and augment critical decision processes. Some researchers have noted that these proposals \"spring from widely different political contexts and legislative traditions.\" The United States has yet to enact legislation to broadly regulate AI, and the AIA now enters a trilogue negotiation among representatives of the three main institutions of the EU. Depending on the final negotiated text of the AIA, the EU and United States might begin to align or diverge on\n"
     ]
    }
   ],
   "source": [
    "print(partial_summary)"
   ]
  },
  {
   "cell_type": "code",
   "execution_count": null,
   "id": "38fdfcb6-08c7-41cf-aacf-ab0072b821d9",
   "metadata": {},
   "outputs": [],
   "source": []
  }
 ],
 "metadata": {
  "kernelspec": {
   "display_name": "Python 3 (ipykernel)",
   "language": "python",
   "name": "python3"
  },
  "language_info": {
   "codemirror_mode": {
    "name": "ipython",
    "version": 3
   },
   "file_extension": ".py",
   "mimetype": "text/x-python",
   "name": "python",
   "nbconvert_exporter": "python",
   "pygments_lexer": "ipython3",
   "version": "3.11.8"
  }
 },
 "nbformat": 4,
 "nbformat_minor": 5
}
