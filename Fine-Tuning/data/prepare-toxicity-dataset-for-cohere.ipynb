{
 "cells": [
  {
   "cell_type": "markdown",
   "id": "5c2995f9-870b-4451-9f69-936c172ce32e",
   "metadata": {},
   "source": [
    "# Prepare Dataset for multi-label classification  (Cohere)\n",
    "\n",
    "### Original dataset\n",
    "https://www.kaggle.com/competitions/jigsaw-toxic-comment-classification-challenge/data\n",
    "\n",
    "### C"
   ]
  },
  {
   "cell_type": "markdown",
   "id": "60db43c5-2c39-422a-9655-e57ec0345d40",
   "metadata": {},
   "source": [
    "## 1. Use HuggingFace\n",
    "\n",
    "\n",
    "* Run the following against the **train** set\n",
    "* Download the parquet file\n",
    "* Rename file to : multi_label_comment_classification_train.parquet\n",
    "\n",
    "```\n",
    "SELECT comment_text, toxic, severe_toxic, threat, insult, identity_hate  FROM (\n",
    "   SELECT * FROM train  where obscene=0 and toxic=0 AND severe_toxic=0 AND threat=0 AND insult=0 AND identity_hate=0  LIMIT 10\n",
    ")\n",
    "UNION\n",
    "SELECT comment_text, toxic, severe_toxic, threat, insult, identity_hate  FROM (\n",
    "   SELECT * FROM train  where obscene=0 and toxic=1 LIMIT 10\n",
    ")\n",
    "UNION\n",
    "SELECT comment_text, toxic, severe_toxic, threat, insult, identity_hate  FROM (\n",
    "   SELECT * FROM train  where obscene=0 and severe_toxic=1 LIMIT 10\n",
    ")\n",
    "UNION\n",
    "SELECT comment_text, toxic, severe_toxic, threat, insult, identity_hate  FROM (\n",
    "   SELECT * FROM train  where obscene=0 and threat=1 LIMIT 10\n",
    ")\n",
    "UNION\n",
    "SELECT comment_text, toxic, severe_toxic, threat, insult, identity_hate  FROM (\n",
    "   SELECT * FROM train  where obscene=0 and identity_hate=1 LIMIT 10\n",
    ")\n",
    "UNION\n",
    "SELECT comment_text, toxic, severe_toxic, threat, insult, identity_hate  FROM (\n",
    "   SELECT * FROM train  where obscene=0 and insult=1 LIMIT 10\n",
    ");\n",
    "```"
   ]
  },
  {
   "cell_type": "code",
   "execution_count": null,
   "id": "2bf62df3-0b92-4dc4-bb35-73c00cb5a8ef",
   "metadata": {},
   "outputs": [],
   "source": []
  }
 ],
 "metadata": {
  "kernelspec": {
   "display_name": "Python 3 (ipykernel)",
   "language": "python",
   "name": "python3"
  },
  "language_info": {
   "codemirror_mode": {
    "name": "ipython",
    "version": 3
   },
   "file_extension": ".py",
   "mimetype": "text/x-python",
   "name": "python",
   "nbconvert_exporter": "python",
   "pygments_lexer": "ipython3",
   "version": "3.12.4"
  }
 },
 "nbformat": 4,
 "nbformat_minor": 5
}
