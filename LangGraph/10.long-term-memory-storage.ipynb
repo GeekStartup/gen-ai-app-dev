{
 "cells": [
  {
   "cell_type": "markdown",
   "id": "b80e626e-94cd-4b3c-923f-8ca256fed68a",
   "metadata": {},
   "source": [
    "# Storage\n",
    "https://langchain-ai.github.io/langgraph/concepts/memory/#memory-storage\n",
    "\n",
    "https://langchain-ai.github.io/langgraph/concepts/persistence/#memory-store\n",
    "\n",
    "https://langchain-ai.github.io/langgraph/reference/store/#storage\n",
    "\n",
    "[Semantic search blog](https://blog.langchain.com/semantic-search-for-langgraph-memory/)\n",
    "\n",
    "[Good blog](https://medium.com/@anil.jain.baba/long-term-agentic-memory-with-langgraph-824050b09852)"
   ]
  },
  {
   "cell_type": "code",
   "execution_count": 1,
   "id": "453ab7e9-9c36-4021-a118-52c803d49190",
   "metadata": {},
   "outputs": [],
   "source": [
    "from langgraph.store.memory import InMemoryStore\n",
    "import uuid\n",
    "\n",
    "in_memory_store = InMemoryStore()"
   ]
  },
  {
   "cell_type": "markdown",
   "id": "a02c6d54-12ad-47a7-9958-f84a22cabddb",
   "metadata": {},
   "source": [
    "## Put & Get"
   ]
  },
  {
   "cell_type": "code",
   "execution_count": 2,
   "id": "39b4cbb9-088e-4ef5-b53c-684b42673428",
   "metadata": {},
   "outputs": [
    {
     "name": "stdout",
     "output_type": "stream",
     "text": [
      "Joe's profile   (get) =  None\n"
     ]
    }
   ],
   "source": [
    "\n",
    "\n",
    "import uuid\n",
    "\n",
    "# (memories, joe)\n",
    "namespace_for_memory = (\"memories\",  \"joe\")\n",
    "\n",
    "# Put operations : profile\n",
    "memory_key = \"profile\"\n",
    "memory = {\"name\" : \"joe\", \"age\": 25, \"interests\": [\"soccer\", \"history\"]}\n",
    "in_memory_store.put(namespace_for_memory, memory_key, value=memory)\n",
    "\n",
    "# Get joe's profile with .get : Return's single document\n",
    "joe_profile = in_memory_store.get( (\"memories\",  \"joe\", \"profile\"), key=\"joe\")\n",
    "print(\"Joe's profile   (get) = \", joe_profile)\n",
    "\n",
    "# Put conversations\n",
    "namespace_for_memory = (\"memories\",  \"joe\", \"conversations\")\n",
    "for i in range(3):\n",
    "    memory_key = uuid.uuid4()\n",
    "    in_memory_store.put(namespace_for_memory, memory_key, value={\"title\": f\"dummy_{i}\", \"id\": i, \"messages\":[{f\"dummy_{i}\":\"\"}]})"
   ]
  },
  {
   "cell_type": "markdown",
   "id": "9f18ec29-b0ad-4305-ad08-476a4ea6a9ed",
   "metadata": {},
   "source": [
    "## Search"
   ]
  },
  {
   "cell_type": "code",
   "execution_count": 3,
   "id": "14d0f703-fecc-4e95-87a2-6bbf1a9a1bd6",
   "metadata": {},
   "outputs": [
    {
     "name": "stdout",
     "output_type": "stream",
     "text": [
      "-------------\n",
      "Joe's profile (search) =  []\n"
     ]
    }
   ],
   "source": [
    "# Get joe's profile with .search : Returns list of documents\n",
    "joe_profile = in_memory_store.search((\"memories\",  \"joe\", \"profile\"))\n",
    "print(\"-------------\\nJoe's profile (search) = \", joe_profile)"
   ]
  },
  {
   "cell_type": "code",
   "execution_count": 4,
   "id": "82056f28-565a-4438-941f-4e6ea030daa5",
   "metadata": {},
   "outputs": [
    {
     "name": "stdout",
     "output_type": "stream",
     "text": [
      "Joe's conversation sessions (search) = \n",
      "Item(namespace=['memories', 'joe', 'conversations'], key='127b3139-3ba3-45a4-929b-24b118f5547f', value={'title': 'dummy_0', 'id': 0, 'messages': [{'dummy_0': ''}]}, created_at='2025-07-28T13:08:53.707012+00:00', updated_at='2025-07-28T13:08:53.707012+00:00', score=None)\n",
      "Item(namespace=['memories', 'joe', 'conversations'], key='aa24b699-5b85-45b3-b907-a550795dbc81', value={'title': 'dummy_1', 'id': 1, 'messages': [{'dummy_1': ''}]}, created_at='2025-07-28T13:08:53.707012+00:00', updated_at='2025-07-28T13:08:53.707012+00:00', score=None)\n",
      "Item(namespace=['memories', 'joe', 'conversations'], key='ddc79070-1d36-4ca9-ae95-3b6efa479ce0', value={'title': 'dummy_2', 'id': 2, 'messages': [{'dummy_2': ''}]}, created_at='2025-07-28T13:08:53.707012+00:00', updated_at='2025-07-28T13:08:53.707012+00:00', score=None)\n"
     ]
    }
   ],
   "source": [
    "# Search for Joe's past conversation session\n",
    "conversation_sessions = in_memory_store.search((\"memories\",  \"joe\", \"conversations\")) #, filter={\"id\" : {\"$gte\": 2}})\n",
    "print(\"Joe's conversation sessions (search) = \")\n",
    "for i, session in enumerate(conversation_sessions):\n",
    "    print(session)"
   ]
  }
 ],
 "metadata": {
  "kernelspec": {
   "display_name": "Python 3 (ipykernel)",
   "language": "python",
   "name": "python3"
  },
  "language_info": {
   "codemirror_mode": {
    "name": "ipython",
    "version": 3
   },
   "file_extension": ".py",
   "mimetype": "text/x-python",
   "name": "python",
   "nbconvert_exporter": "python",
   "pygments_lexer": "ipython3",
   "version": "3.12.9"
  }
 },
 "nbformat": 4,
 "nbformat_minor": 5
}
