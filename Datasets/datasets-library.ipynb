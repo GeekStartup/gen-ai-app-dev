{
 "cells": [
  {
   "cell_type": "markdown",
   "id": "8e309d58",
   "metadata": {},
   "source": [
    "# Hugging Face Datasets API\n",
    "\n",
    "https://huggingface.co/docs/datasets/index\n",
    "\n",
    "Datasets is a library for easily accessing and sharing datasets for Audio, Computer Vision, and Natural Language Processing (NLP) tasks.\n",
    "    "
   ]
  },
  {
   "cell_type": "markdown",
   "id": "faab9745-91eb-417a-838f-f76a9906e659",
   "metadata": {},
   "source": [
    "#### Google Colab\n",
    "\n",
    "If you are running the code in Google colab, install the packages by uncommenting/running the cell below"
   ]
  },
  {
   "cell_type": "code",
   "execution_count": null,
   "id": "3e607f9a-95d3-4c0b-ac1b-4155fc748c6a",
   "metadata": {},
   "outputs": [],
   "source": [
    "#%pip install datasets huggingface-hub"
   ]
  },
  {
   "cell_type": "markdown",
   "id": "34c3152a-80d7-4121-b0af-76d32b8b9e70",
   "metadata": {},
   "source": [
    "## Import packages"
   ]
  },
  {
   "cell_type": "code",
   "execution_count": null,
   "id": "84f20503",
   "metadata": {},
   "outputs": [],
   "source": [
    "import huggingface_hub as hf_hub  \n",
    "import datasets"
   ]
  },
  {
   "cell_type": "markdown",
   "id": "95784d6d",
   "metadata": {},
   "source": [
    "# Get datasets information\n",
    "\n"
   ]
  },
  {
   "cell_type": "code",
   "execution_count": null,
   "id": "5b5abbed",
   "metadata": {},
   "outputs": [],
   "source": [
    "# Returns an Iterable[DatasetInfo]\n",
    "# Set the filter using DatasetFilter\n",
    "# https://huggingface.co/docs/huggingface_hub/v0.19.3/en/package_reference/hf_api#huggingface_hub.DatasetFilter\n",
    "\n",
    "all_datasets = hf_hub.list_datasets()\n",
    "\n",
    "for datasetinfo in all_datasets:\n",
    "    print(datasetinfo.id, datasetinfo.downloads, datasetinfo.likes)"
   ]
  },
  {
   "cell_type": "code",
   "execution_count": null,
   "id": "2c51b599",
   "metadata": {},
   "outputs": [],
   "source": [
    "named_datasets = hf_hub.list_datasets(filter = hf_hub.DatasetFilter(dataset_name='wikineural'))\n",
    "\n",
    "for datasetinfo in named_datasets:\n",
    "    print(datasetinfo.id, datasetinfo.downloads, datasetinfo.likes)"
   ]
  },
  {
   "cell_type": "code",
   "execution_count": null,
   "id": "5e49c9e5",
   "metadata": {},
   "outputs": [],
   "source": [
    "# Easier to see it on the HF portal than here - but go ahead and run it :)\n",
    "\n",
    "ds_builder = datasets.load_dataset_builder(\"rotten_tomatoes\")\n",
    "\n",
    "ds_builder.info"
   ]
  },
  {
   "cell_type": "markdown",
   "id": "d1139b0a",
   "metadata": {},
   "source": [
    "# Load dataset\n",
    "\n",
    "https://huggingface.co/docs/datasets/package_reference/loading_methods#datasets.load_dataset\n",
    "\n",
    "Requires at the minimum:\n",
    "\n",
    "1. Path to be set:\n",
    "\n",
    "* **Path** to the dataset on your local file system\n",
    "* OR **Name** of the dataset (downloaded from Hugging Face)\n",
    "\n",
    "2. Configuration name to be set\n",
    "\n",
    "* Optional in case there are multimple configurations or types available"
   ]
  },
  {
   "cell_type": "code",
   "execution_count": null,
   "id": "a4ddad42",
   "metadata": {},
   "outputs": [],
   "source": [
    "# Get the dataset with the name 'squad'\n",
    "\n",
    "path = 'squad'\n",
    "\n",
    "dataset_squad = datasets.load_dataset(path)"
   ]
  },
  {
   "cell_type": "code",
   "execution_count": null,
   "id": "7549c790",
   "metadata": {},
   "outputs": [],
   "source": [
    "# print information about the dataaset\n",
    "dataset_squad"
   ]
  },
  {
   "cell_type": "code",
   "execution_count": null,
   "id": "575c2a34",
   "metadata": {},
   "outputs": [],
   "source": [
    "# Get the 'glue' sub dataset with name='cola'\n",
    "\n",
    "path = 'glue'\n",
    "name = 'cola'\n",
    "\n",
    "dataset_glue_cola = datasets.load_dataset(path, name)"
   ]
  },
  {
   "cell_type": "code",
   "execution_count": null,
   "id": "eba7afdd",
   "metadata": {},
   "outputs": [],
   "source": [
    "# print information about the dataaset\n",
    "dataset_glue_cola"
   ]
  },
  {
   "cell_type": "markdown",
   "id": "82c341bc",
   "metadata": {},
   "source": [
    "# Dataset operations\n",
    "\n",
    "https://huggingface.co/docs/datasets/package_reference/main_classes#datasets.Dataset\n",
    "\n",
    "* Access the metadata\n",
    "* Select specific columns to access\n",
    "* Sort\n",
    "* Shuffle\n",
    "* Access the data across splits (Train, Test, Validation)\n",
    "* Cast the columns to different data types\n",
    "* Rename columns\n",
    "* Update the data\n",
    "* Apply filter\n",
    "* Create your own dataset and push to hub\n",
    "* ...   ...   ..."
   ]
  },
  {
   "cell_type": "code",
   "execution_count": null,
   "id": "19f921eb",
   "metadata": {},
   "outputs": [],
   "source": [
    "X_train = dataset_squad['train'].select_columns(['question', 'answers'])\n",
    "\n",
    "print(X_train[123])"
   ]
  },
  {
   "cell_type": "markdown",
   "id": "39891d32",
   "metadata": {},
   "source": [
    "## Iterate over data\n",
    "\n",
    "https://huggingface.co/docs/datasets/package_reference/main_classes#datasets.Dataset.iter\n",
    "\n",
    "Datasets are integrated with othe Hugging Face classes that use the various access interfaces exposed by the Dataset class.\n",
    "You may use it for your own purposes by using the iter function."
   ]
  },
  {
   "cell_type": "code",
   "execution_count": null,
   "id": "f2f984bf",
   "metadata": {},
   "outputs": [],
   "source": [
    "X_train = dataset_squad['train'].select_columns(['question', 'answers'])\n",
    "\n",
    "type(X_train)"
   ]
  },
  {
   "cell_type": "code",
   "execution_count": null,
   "id": "0085e045",
   "metadata": {},
   "outputs": [],
   "source": [
    "# Dataset is iterable\n",
    "for X in X_train:\n",
    "    print('[Q]', X['question'], '[A]', X['answers']['text'][0])"
   ]
  },
  {
   "cell_type": "code",
   "execution_count": null,
   "id": "8092477c",
   "metadata": {},
   "outputs": [],
   "source": [
    "# Remove columns instead of Selecting columns\n",
    "\n",
    "X_train = dataset_squad['train'].remove_columns(['id','context'])\n",
    "\n",
    "X_train"
   ]
  },
  {
   "cell_type": "markdown",
   "id": "e7a589c0",
   "metadata": {},
   "source": [
    "## Test - Train split\n",
    "\n",
    "https://huggingface.co/docs/datasets/package_reference/main_classes#datasets.Dataset.train_test_split"
   ]
  },
  {
   "cell_type": "code",
   "execution_count": null,
   "id": "62daf5ce",
   "metadata": {},
   "outputs": [],
   "source": [
    "# Split the \n",
    "my_dataset = X_train.train_test_split(test_size=0.2,  shuffle=True)\n",
    "\n",
    "my_dataset"
   ]
  },
  {
   "cell_type": "markdown",
   "id": "716d3ea6",
   "metadata": {},
   "source": [
    "# Exercises"
   ]
  },
  {
   "cell_type": "markdown",
   "id": "e1f3f475",
   "metadata": {},
   "source": [
    "## Save & Load datasets from disk\n",
    "\n",
    "https://huggingface.co/docs/datasets/v2.15.0/en/package_reference/main_classes#datasets.Dataset.save_to_disk\n",
    "    \n",
    "https://huggingface.co/docs/datasets/v2.15.0/en/package_reference/main_classes#datasets.Dataset.load_from_disk"
   ]
  },
  {
   "cell_type": "code",
   "execution_count": null,
   "id": "68159fc2",
   "metadata": {},
   "outputs": [],
   "source": [
    "# Change the path to folder\n",
    "local_folder = 'c:/temp/my_dataset1'\n",
    "\n",
    "# Save the dataset\n",
    "my_dataset.save_to_disk(local_folder)\n",
    "\n",
    "# Now check the local folder\n",
    "\n",
    "# Load my_dataset\n",
    "my_dataset_from_disk = datasets.load_from_disk(local_folder)\n",
    "\n",
    "my_dataset_from_disk.to_csv(local_folder')"
   ]
  },
  {
   "cell_type": "markdown",
   "id": "0708d3f5",
   "metadata": {},
   "source": [
    "## Convert the dataset format  to other formats\n",
    "\n",
    "to_csv\n",
    "\n",
    "https://huggingface.co/docs/datasets/v2.15.0/en/package_reference/main_classes#datasets.Dataset.to_csv\n",
    "\n",
    "to_pandas\n",
    "\n",
    "https://huggingface.co/docs/datasets/v2.15.0/en/package_reference/main_classes#datasets.Dataset.to_pandas\n",
    "\n",
    "to_dict\n",
    "\n",
    "https://huggingface.co/docs/datasets/v2.15.0/en/package_reference/main_classes#datasets.Dataset.to_dict\n",
    "\n",
    "to_json\n",
    "\n",
    "https://huggingface.co/docs/datasets/v2.15.0/en/package_reference/main_classes#datasets.Dataset.to_json\n",
    "\n",
    "to_parquet\n",
    "\n",
    "https://huggingface.co/docs/datasets/v2.15.0/en/package_reference/main_classes#datasets.Dataset.to_json\n",
    "\n",
    "... ...  ..."
   ]
  },
  {
   "cell_type": "code",
   "execution_count": null,
   "id": "2f1cddf0",
   "metadata": {},
   "outputs": [],
   "source": [
    "# Local path to CSV data\n",
    "local_folder_csv = 'c:/temp/my_dataset_csv'\n",
    "\n",
    "# Save the dataset in CSV format\n",
    "(my_dataset_from_disk['test']).to_csv(local_folder_csv)\n",
    "\n",
    "# Now check the local folder"
   ]
  },
  {
   "cell_type": "markdown",
   "id": "d6b72488",
   "metadata": {},
   "source": [
    "## Streaming\n",
    "\n",
    "\n",
    "* Streaming option downloads a script to process data on demand\n",
    "* No caching with streaming"
   ]
  },
  {
   "cell_type": "code",
   "execution_count": null,
   "id": "2b3d0131",
   "metadata": {},
   "outputs": [],
   "source": [
    "# Use streaming\n",
    "path = 'amazon_polarity'\n",
    "dataset_amazon_polarity = datasets.load_dataset(path, streaming=True)"
   ]
  },
  {
   "cell_type": "code",
   "execution_count": null,
   "id": "5a99d5d0",
   "metadata": {},
   "outputs": [],
   "source": [
    "# Check dataset cache folder - you wont' see the cached dataset\n",
    "# CHANGE folder on Windows\n",
    "# !dir C:\\Users\\raj\\.cache\\huggingface\\datasets\n",
    "    \n",
    "# Mac, Linux - uncomment\n",
    "# ls ~/.cache/huggingface/datasets"
   ]
  },
  {
   "cell_type": "markdown",
   "id": "ba67f304",
   "metadata": {},
   "source": [
    "## Map"
   ]
  },
  {
   "cell_type": "code",
   "execution_count": null,
   "id": "f0375d2e",
   "metadata": {},
   "outputs": [],
   "source": []
  }
 ],
 "metadata": {
  "kernelspec": {
   "display_name": "Python 3 (ipykernel)",
   "language": "python",
   "name": "python3"
  },
  "language_info": {
   "codemirror_mode": {
    "name": "ipython",
    "version": 3
   },
   "file_extension": ".py",
   "mimetype": "text/x-python",
   "name": "python",
   "nbconvert_exporter": "python",
   "pygments_lexer": "ipython3",
   "version": "3.12.4"
  }
 },
 "nbformat": 4,
 "nbformat_minor": 5
}
