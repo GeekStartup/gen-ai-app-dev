{
 "cells": [
  {
   "cell_type": "markdown",
   "id": "0769fdee-20be-4273-8993-336c64cbf841",
   "metadata": {},
   "source": [
    "# Benchmarking ANN\n",
    "\n",
    "Focus in this benchmarking is ONLY on recall\n",
    "\n",
    "### Notebook hangs, Kernel restarts?\n",
    "* It may happen as a result of HIGH memory/cpu usage\n",
    "* Upload to Google Colab and try it there"
   ]
  },
  {
   "cell_type": "code",
   "execution_count": 1,
   "id": "12e6067c-5262-4f44-8f9a-4e75a278c08c",
   "metadata": {},
   "outputs": [],
   "source": [
    "## Needed for notebook on Google Colab\n",
    "# !pip install faiss-gpu datasets -q"
   ]
  },
  {
   "cell_type": "code",
   "execution_count": 2,
   "id": "2a60cc4f-5a81-49ef-8579-b17bc9562429",
   "metadata": {},
   "outputs": [],
   "source": [
    "import faiss\n",
    "from datasets import load_dataset\n",
    "import pandas as pd\n",
    "import numpy as np\n",
    "import time"
   ]
  },
  {
   "cell_type": "markdown",
   "id": "5550fe72-7384-42e8-ad6b-ca8797ed22da",
   "metadata": {},
   "source": [
    "## 1. Load dataset acloudfan/embedded_movies_small"
   ]
  },
  {
   "cell_type": "code",
   "execution_count": 3,
   "id": "fda37f6f-c772-4999-9439-a811993e5c24",
   "metadata": {},
   "outputs": [
    {
     "name": "stdout",
     "output_type": "stream",
     "text": [
      "movies_dataset_train_np.shape =  (1017, 1536)\n",
      "movies_dataset_test_np.shape =  (434, 1536)\n"
     ]
    }
   ],
   "source": [
    "movies_dataset_name = 'acloudfan/embedded_movies_small'\n",
    "\n",
    "movies_dataset = load_dataset(movies_dataset_name)\n",
    "\n",
    "# This will hold the data for movies, will be cross referenced for details\n",
    "movies_dataset_train = movies_dataset['train']\n",
    "# Embeddings need to be in numpy array with dtype=float32\n",
    "movies_dataset_train_np = np.array(movies_dataset_train['plot_embedding']).astype(np.float32)\n",
    "\n",
    "print(\"movies_dataset_train_np.shape = \", movies_dataset_train_np.shape)\n",
    "\n",
    "\n",
    "# This will hold the details for test dataset\n",
    "movies_dataset_test = movies_dataset['test']\n",
    "movies_dataset_test_np = np.array(movies_dataset_test['plot_embedding']).astype(np.float32)\n",
    "\n",
    "print(\"movies_dataset_test_np.shape = \", movies_dataset_test_np.shape)"
   ]
  },
  {
   "cell_type": "code",
   "execution_count": 5,
   "id": "995a424a-805a-4721-97c6-5fce225194cd",
   "metadata": {},
   "outputs": [
    {
     "data": {
      "text/plain": [
       "1536"
      ]
     },
     "execution_count": 5,
     "metadata": {},
     "output_type": "execute_result"
    }
   ],
   "source": [
    "# Check the embedding dimension\n",
    "embedding_dimension = len(movies_dataset_test_np[0])\n",
    "\n",
    "embedding_dimension"
   ]
  },
  {
   "cell_type": "markdown",
   "id": "4d2e9e3b-f8f9-4712-b98c-6c5ce030213d",
   "metadata": {},
   "source": [
    "## 2. Utility metheods for index creation and training\n"
   ]
  },
  {
   "cell_type": "markdown",
   "id": "e9d89bc7-ca22-498c-aa3e-20490551bd70",
   "metadata": {},
   "source": [
    "### FlatL2\n",
    "\n",
    "https://github.com/facebookresearch/faiss/blob/main/tutorial/python/2-IVFFlat.py"
   ]
  },
  {
   "cell_type": "code",
   "execution_count": null,
   "id": "b83e00d8-7e45-4c6b-9660-72640896cda4",
   "metadata": {},
   "outputs": [],
   "source": [
    "# Create the index\n",
    "def  create_index_flatl2():\n",
    "    flatl2_index = faiss.IndexFlatL2(embedding_dimension)\n",
    "    # Add the training embeddings to the index\n",
    "    flatl2_index.train(movies_dataset_train_np)\n",
    "    flatl2_index.add(movies_dataset_train_np)\n",
    "    # return\n",
    "    return flatl2_index"
   ]
  },
  {
   "cell_type": "markdown",
   "id": "312398c0-78aa-408b-ac47-f8c22c78e5f5",
   "metadata": {},
   "source": [
    "### IVFFlat\n",
    "\n",
    "https://github.com/facebookresearch/faiss/blob/main/tutorial/python/2-IVFFlat.py\n",
    "\n",
    "##### If returned search indexes = -1\n",
    "Read the documentation : https://github.com/facebookresearch/faiss/wiki/FAQ#what-does-it-mean-when-a-search-returns--1-ids"
   ]
  },
  {
   "cell_type": "code",
   "execution_count": null,
   "id": "55f562d4-8d11-4f2b-843b-10f93d103a44",
   "metadata": {},
   "outputs": [],
   "source": [
    "\n",
    "# Change to this number will change the performance & recall\n",
    "# nlist_ivfflat = 200\n",
    "\n",
    "def create_index_ivfflat(nlist=200):\n",
    "    # Quantizer\n",
    "    quantizer = faiss.IndexFlatL2(embedding_dimension)\n",
    "    # Index creation\n",
    "    ivfflat_index = faiss.IndexIVFFlat(quantizer, embedding_dimension, nlist)\n",
    "    # Train the index\n",
    "    ivfflat_index.train(movies_dataset_train_np)\n",
    "    ivfflat_index.add(movies_dataset_train_np)\n",
    "\n",
    "    return ivfflat_index"
   ]
  },
  {
   "cell_type": "markdown",
   "id": "3f9765c1-cbec-4a7b-82ce-47c4425e95a7",
   "metadata": {},
   "source": [
    "### PQ\n",
    "\n",
    "https://github.com/facebookresearch/faiss/blob/main/tutorial/python/3-IVFPQ.py"
   ]
  },
  {
   "cell_type": "code",
   "execution_count": null,
   "id": "4b8803a8-ff61-4cab-9f0c-2f6ff3a2cbba",
   "metadata": {},
   "outputs": [],
   "source": [
    "def create_index_ivfpq(nlist=200, number_subspaces=8, number_bits_per_centroid=8):\n",
    "    quantizer = faiss.IndexFlatL2(embedding_dimension)  # we keep the same L2 distance flat index\n",
    "    index_ivfpq = faiss.IndexIVFPQ(quantizer, embedding_dimension, nlist, number_subspaces, number_bits_per_centroid) \n",
    "\n",
    "    # Train\n",
    "    index_ivfpq.train(movies_dataset_train_np)\n",
    "    index_ivfpq.add(movies_dataset_train_np)\n",
    "\n",
    "    # return \n",
    "    return index_ivfpq"
   ]
  },
  {
   "cell_type": "markdown",
   "id": "a4aae63e-2823-4d22-86ca-649353abd9f3",
   "metadata": {},
   "source": [
    "### HNSW Flat\n",
    "\n",
    "https://faiss.ai/cpp_api/struct/structfaiss_1_1IndexHNSWFlat.html"
   ]
  },
  {
   "cell_type": "code",
   "execution_count": null,
   "id": "d139592e-9999-4ea0-a1a3-0fe96dbaa020",
   "metadata": {},
   "outputs": [],
   "source": [
    "def create_index_hnsw_flat(M = 32):\n",
    "\n",
    "    index_hnsw_flat = faiss.IndexHNSWFlat(embedding_dimension, M)\n",
    "    index_hnsw_flat.train(movies_dataset_train_np)\n",
    "    index_hnsw_flat.add(movies_dataset_train_np)\n",
    "\n",
    "    return index_hnsw_flat"
   ]
  },
  {
   "cell_type": "markdown",
   "id": "c541fa38-4223-4cd4-b359-a8a54dd79673",
   "metadata": {},
   "source": [
    "### HNSW Scalar\n",
    "\n",
    "https://faiss.ai/cpp_api/struct/structfaiss_1_1IndexHNSWSQ.html"
   ]
  },
  {
   "cell_type": "code",
   "execution_count": null,
   "id": "7442ebc3-49e2-4bda-b35c-e7d2ee12be92",
   "metadata": {},
   "outputs": [],
   "source": [
    "def create_index_hnsw_sq(scalar_quantizer=faiss.ScalarQuantizer.QT_8bit, M=16):\n",
    "    \n",
    "    index_hnsw_sq = faiss.IndexHNSWSQ(embedding_dimension, scalar_quantizer, M)\n",
    "\n",
    "    index_hnsw_sq.train(movies_dataset_train_np)\n",
    "    index_hnsw_sq.add(movies_dataset_train_np)\n",
    "\n",
    "    # return\n",
    "    return index_hnsw_sq"
   ]
  },
  {
   "cell_type": "markdown",
   "id": "e47e69a4-bc48-41d5-a814-061566bb14cd",
   "metadata": {},
   "source": [
    "## 4. ANN search & compare utility functions\n",
    "Utility function gets the results of search in JSON array"
   ]
  },
  {
   "cell_type": "code",
   "execution_count": null,
   "id": "ae3c684c-5ccc-469b-be35-409e4760f84b",
   "metadata": {},
   "outputs": [],
   "source": [
    "# Runs search using the test dataset\n",
    "# Returns result as a JSON array\n",
    "def run_against_index(index_faiss, dataset_np):\n",
    "    # index = index of test embedding, value = result tuple\n",
    "    results_array = []\n",
    "    \n",
    "    # num_test_embeddings = dataset_test_np.shape[0]\n",
    "    num_test_embeddings = dataset_np.shape[0]\n",
    "\n",
    "    for i in range(num_test_embeddings): \n",
    "        result = index_faiss.search(np.array([dataset_np[i]]), k)\n",
    "        distances = result[0].tolist()[0]\n",
    "        similar_indexes = result[1].tolist()[0]\n",
    "        results_array.append({\"distances\": distances, \"similar_indexes\": similar_indexes})\n",
    "\n",
    "    return results_array\n",
    "    "
   ]
  },
  {
   "cell_type": "code",
   "execution_count": null,
   "id": "debb041e-c6a1-4216-8eea-680611bef0f4",
   "metadata": {},
   "outputs": [],
   "source": [
    "# Calculate Recall\n",
    "# Function gets 2 JSON for comparison\n",
    "def  calculate_recall(exact_result, ann_result):\n",
    "    perfect_recalls = 0\n",
    "    count_matches_found = 0\n",
    "    total_comparisons = 0\n",
    "    \n",
    "    for i, result in enumerate(exact_result):\n",
    "        exact_indices = result['similar_indexes']\n",
    "        ann_indices = ann_result[i]['similar_indexes']\n",
    "        \n",
    "        if exact_indices == ann_indices:\n",
    "            perfect_recalls = perfect_recalls + 1\n",
    "        else:\n",
    "           # check how many indices are common between 2 arrays\n",
    "           for indices in exact_indices:\n",
    "               total_comparisons = total_comparisons + 1\n",
    "               if indices in ann_indices:\n",
    "                  count_matches_found = count_matches_found + 1\n",
    "\n",
    "    # To avoid divide by 0\n",
    "    if total_comparisons == 0:\n",
    "        # Means perfect recall !!\n",
    "        average_recall = 1\n",
    "    else:\n",
    "        average_recall = round((count_matches_found/total_comparisons), 2)\n",
    "        \n",
    "    return     perfect_recalls,average_recall"
   ]
  },
  {
   "cell_type": "markdown",
   "id": "96be1b66-80f1-4212-af5a-18b3be2d578a",
   "metadata": {},
   "source": [
    "## 5. Create index\n",
    "Adjust the parameters for algorithms as needed"
   ]
  },
  {
   "cell_type": "code",
   "execution_count": null,
   "id": "974afb01-a648-413c-b292-f4d594cfd4f4",
   "metadata": {},
   "outputs": [],
   "source": [
    "# Create the indexes using the functions defined in earlier cells\n",
    "index_flat = create_index_flatl2()\n",
    "\n",
    "# Manitain data in a dictionary\n",
    "index_benchmark_results = []\n",
    "\n",
    "# IVF Flat Adjust: nlist\n",
    "index_ivfflat_config = { \"nlist\": 10 }\n",
    "# Create index\n",
    "index_ivfflat = create_index_ivfflat(**index_ivfflat_config)\n",
    "index_benchmark_results.append(\n",
    "    {\n",
    "        \"label\": \"IVF Flat\",\n",
    "        \"parameters\": index_ivfflat,\n",
    "        \"index\" : index_ivfflat\n",
    "    }\n",
    ")\n",
    "\n",
    "# IVF PQ  Adjust: nlist_ivfpq, number_subspaces, number_bits_per_centroid\n",
    "index_ivfpq_config = {\"nlist\": 20, \"number_subspaces\": 8, \"number_bits_per_centroid\": 8}\n",
    "index_ivfpq = create_index_ivfpq(**index_ivfpq_config)\n",
    "index_benchmark_results.append(\n",
    "    {\n",
    "        \"label\": \"IVF PQ\",\n",
    "        \"parameters\": index_ivfpq_config,\n",
    "        \"index\" : index_ivfpq\n",
    "    }\n",
    ")\n",
    "\n",
    "# HNSW Flat   Adjust: M\n",
    "index_hnsw_flat_config = {\"M\":20}\n",
    "index_hnsw_flat = create_index_hnsw_flat(**index_hnsw_flat_config)\n",
    "index_benchmark_results.append(\n",
    "    {\n",
    "        \"label\": \"HNSW Flat\",\n",
    "        \"parameters\": index_hnsw_flat_config,\n",
    "        \"index\" : index_hnsw_flat\n",
    "    }\n",
    ")\n",
    "\n",
    "\n",
    "# HNSW Scalar Quantizer  Adjust : M\n",
    "index_hnsw_sq_config = {\"M\":20, \"scalar_quantizer\": faiss.ScalarQuantizer.QT_8bit}\n",
    "index_hnsw_sq = create_index_hnsw_sq(**index_hnsw_sq_config)\n",
    "index_benchmark_results.append(\n",
    "    {\n",
    "        \"label\": \"HNSW SQ\",\n",
    "        \"parameters\": index_hnsw_sq_config,\n",
    "        \"index\" : index_hnsw_sq\n",
    "    }\n",
    ")\n"
   ]
  },
  {
   "cell_type": "markdown",
   "id": "7e4f0118-17d0-43f1-9ef2-2201c5a490d5",
   "metadata": {},
   "source": [
    "## 6. Run benchmark for all indexes"
   ]
  },
  {
   "cell_type": "code",
   "execution_count": null,
   "id": "b4ada33e-3694-44a8-a40d-65da5f6a20aa",
   "metadata": {},
   "outputs": [],
   "source": [
    "k = 5\n",
    "\n",
    "# Establish the baseline\n",
    "exact_search_result = run_against_index(index_flat, movies_dataset_test_np)\n",
    "\n",
    "for benchmark_info in index_benchmark_results:\n",
    "    index_for_test = benchmark_info['index']\n",
    "    ann_search_result = run_against_index(index_for_test, movies_dataset_test_np)\n",
    "    recall = calculate_recall(exact_search_result, ann_search_result)\n",
    "    benchmark_info['recall'] = recall[1]\n",
    "\n",
    "# Set the index\n",
    "# index_for_test = index_ivfflat\n",
    "# ann_search_result = run_against_index(index_for_test, movies_dataset_test_np)\n",
    "# calculate_recall(exact_search_result, ann_search_result)\n",
    "index_benchmark_results"
   ]
  },
  {
   "cell_type": "markdown",
   "id": "8ab58d2a-12d4-4b64-8a96-698578dc96bd",
   "metadata": {},
   "source": [
    "## 7. Plot the bar chart with recalls"
   ]
  },
  {
   "cell_type": "code",
   "execution_count": null,
   "id": "0609c2bf-ad76-4ab8-988f-09083bc0ed0a",
   "metadata": {},
   "outputs": [],
   "source": [
    "import matplotlib.pyplot as plt \n",
    "\n",
    "fig = plt.figure(figsize = (10, 5))\n",
    "\n",
    "metrics_data={}\n",
    "for result in index_benchmark_results:\n",
    "    metrics_data[result['label']] = int(result['recall']*100)\n",
    "\n",
    "print(metrics_data)\n",
    "\n",
    "plt.bar(metrics_data.keys(), metrics_data.values(), color ='lightblue', width = 0.4)\n",
    "plt.xlabel('FAISS index')\n",
    "plt.ylabel('Recall')\n",
    "plt.grid(True)\n",
    "plt.show()"
   ]
  },
  {
   "cell_type": "code",
   "execution_count": null,
   "id": "efaf08b0-8bd9-4c9e-9159-9b7b21f766d6",
   "metadata": {},
   "outputs": [],
   "source": []
  }
 ],
 "metadata": {
  "kernelspec": {
   "display_name": "Python 3 (ipykernel)",
   "language": "python",
   "name": "python3"
  },
  "language_info": {
   "codemirror_mode": {
    "name": "ipython",
    "version": 3
   },
   "file_extension": ".py",
   "mimetype": "text/x-python",
   "name": "python",
   "nbconvert_exporter": "python",
   "pygments_lexer": "ipython3",
   "version": "3.11.8"
  }
 },
 "nbformat": 4,
 "nbformat_minor": 5
}
