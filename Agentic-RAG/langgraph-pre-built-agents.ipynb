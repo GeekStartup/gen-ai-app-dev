{
 "cells": [
  {
   "cell_type": "markdown",
   "id": "4ef5fe05-9914-4cf4-afaa-df5fa5005057",
   "metadata": {},
   "source": [
    "# Pre-built agents\n",
    "\n",
    "https://langchain-ai.github.io/langgraph/how-tos/create-react-agent/#code"
   ]
  },
  {
   "cell_type": "code",
   "execution_count": 3,
   "id": "acdc8cb0-4fc9-4665-a5fd-44a4067f842a",
   "metadata": {},
   "outputs": [
    {
     "ename": "AttributeError",
     "evalue": "'dict' object has no attribute 'bind_tools'",
     "output_type": "error",
     "traceback": [
      "\u001b[1;31m---------------------------------------------------------------------------\u001b[0m",
      "\u001b[1;31mAttributeError\u001b[0m                            Traceback (most recent call last)",
      "Cell \u001b[1;32mIn[3], line 4\u001b[0m\n\u001b[0;32m      1\u001b[0m \u001b[38;5;28;01mfrom\u001b[39;00m \u001b[38;5;21;01mlanggraph\u001b[39;00m\u001b[38;5;21;01m.\u001b[39;00m\u001b[38;5;21;01mprebuilt\u001b[39;00m \u001b[38;5;28;01mimport\u001b[39;00m create_react_agent\n\u001b[0;32m      3\u001b[0m tools \u001b[38;5;241m=\u001b[39m []\n\u001b[1;32m----> 4\u001b[0m graph \u001b[38;5;241m=\u001b[39m create_react_agent(model, tools\u001b[38;5;241m=\u001b[39mtools)\n",
      "File \u001b[1;32m~\\anaconda3\\envs\\genai-course\\Lib\\site-packages\\langgraph\\prebuilt\\chat_agent_executor.py:411\u001b[0m, in \u001b[0;36mcreate_react_agent\u001b[1;34m(model, tools, messages_modifier, checkpointer, interrupt_before, interrupt_after, debug)\u001b[0m\n\u001b[0;32m    409\u001b[0m \u001b[38;5;28;01melse\u001b[39;00m:\n\u001b[0;32m    410\u001b[0m     tool_classes \u001b[38;5;241m=\u001b[39m tools\n\u001b[1;32m--> 411\u001b[0m model \u001b[38;5;241m=\u001b[39m model\u001b[38;5;241m.\u001b[39mbind_tools(tool_classes)\n\u001b[0;32m    413\u001b[0m \u001b[38;5;66;03m# Define the function that determines whether to continue or not\u001b[39;00m\n\u001b[0;32m    414\u001b[0m \u001b[38;5;28;01mdef\u001b[39;00m \u001b[38;5;21mshould_continue\u001b[39m(state: AgentState):\n",
      "\u001b[1;31mAttributeError\u001b[0m: 'dict' object has no attribute 'bind_tools'"
     ]
    }
   ],
   "source": [
    "from langgraph.prebuilt import create_react_agent\n",
    "\n",
    "tools = []\n",
    "graph = create_react_agent(model, tools=tools)"
   ]
  },
  {
   "cell_type": "code",
   "execution_count": null,
   "id": "477b6b86-1389-428c-a7c3-8db4761ab5b7",
   "metadata": {},
   "outputs": [],
   "source": []
  }
 ],
 "metadata": {
  "kernelspec": {
   "display_name": "Python 3 (ipykernel)",
   "language": "python",
   "name": "python3"
  },
  "language_info": {
   "codemirror_mode": {
    "name": "ipython",
    "version": 3
   },
   "file_extension": ".py",
   "mimetype": "text/x-python",
   "name": "python",
   "nbconvert_exporter": "python",
   "pygments_lexer": "ipython3",
   "version": "3.11.8"
  }
 },
 "nbformat": 4,
 "nbformat_minor": 5
}
