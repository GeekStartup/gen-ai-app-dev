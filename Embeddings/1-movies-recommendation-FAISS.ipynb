{
 "cells": [
  {
   "cell_type": "markdown",
   "id": "bce2a440-0a16-49a2-832d-7650eb23d245",
   "metadata": {},
   "source": [
    "# Project: Movies recommendation\n",
    "## Part-1 Checkout the index/algorithms for recall\n",
    "\n",
    "#### Objective:\n",
    "\n",
    "* Gain general understanding of the algorithms\n",
    "* Change the parameters and observe impact on behavior of various algorithms\n",
    "* Select the algorithm\n",
    "\n",
    "https://github.com/facebookresearch/faiss/wiki/Getting-started\n",
    "\n",
    "https://cheatsheet.md/python-cheatsheet/faiss-python-api\n",
    "\n",
    "#### Supported Distance metric\n",
    "\n",
    "https://faiss.ai/cpp_api/file/MetricType_8h.html#_CPPv4N5faiss10MetricTypeE\n",
    "\n",
    "\n",
    "#### Notebook hangs?\n",
    "It may happen on machines with low resource availability.\n",
    "\n",
    "* Try to restart local notebook\n",
    "        - jupyter notebook stop \n",
    "        - jupyter notebook start\n",
    "* If that doesn't help, use *Google collab*\n",
    "* Upload this notebook\n",
    "* Run the cell below to install the required packages"
   ]
  },
  {
   "cell_type": "code",
   "execution_count": null,
   "id": "b8b26c04-9bda-4336-bd25-579f2f57e187",
   "metadata": {},
   "outputs": [],
   "source": [
    "## Needed for notebook on Google Colab\n",
    "# !pip install faiss-gpu datasets"
   ]
  },
  {
   "cell_type": "code",
   "execution_count": 1,
   "id": "6cd39c81-163e-4827-8864-ec7dc52b63a1",
   "metadata": {},
   "outputs": [],
   "source": [
    "import faiss\n",
    "from datasets import load_dataset\n",
    "import pandas as pd\n",
    "import numpy as np"
   ]
  },
  {
   "cell_type": "markdown",
   "id": "8031177f-a026-4d0d-a2c9-76b271697a39",
   "metadata": {},
   "source": [
    "## 1. Load dataset acloudfan/embedded_movies_small"
   ]
  },
  {
   "cell_type": "code",
   "execution_count": 2,
   "id": "356cc2aa-9f48-4f18-b882-9f416332e32d",
   "metadata": {},
   "outputs": [],
   "source": [
    "movies_dataset_name = 'acloudfan/embedded_movies_small'\n",
    "\n",
    "movies_dataset = load_dataset(movies_dataset_name)\n",
    "\n",
    "# This will hold the data for movies, will be cross referenced for details\n",
    "movies_dataset_train = movies_dataset['train']\n",
    "# Embeddings need to be in numpy array with dtype=float32\n",
    "movies_dataset_train_np = np.array(movies_dataset_train['plot_embedding']).astype(np.float32)\n",
    "\n",
    "# This will hold the details for test dataset\n",
    "movies_dataset_test = movies_dataset['test']\n",
    "movies_dataset_test_np = np.array(movies_dataset_test['plot_embedding']).astype(np.float32)"
   ]
  },
  {
   "cell_type": "code",
   "execution_count": 3,
   "id": "58526bb8-881c-42dc-9b21-a093c9901088",
   "metadata": {},
   "outputs": [
    {
     "data": {
      "text/plain": [
       "1536"
      ]
     },
     "execution_count": 3,
     "metadata": {},
     "output_type": "execute_result"
    }
   ],
   "source": [
    "# Check the embedding dimension\n",
    "embeddings_dimension = len(movies_dataset_test_np[0])\n",
    "\n",
    "embeddings_dimension"
   ]
  },
  {
   "cell_type": "markdown",
   "id": "7b90a31b-849b-4212-8d38-d2dc5d1d0f7b",
   "metadata": {},
   "source": [
    "## 2. Utility methods \n",
    "\n",
    "Print the recommended movies for ez read."
   ]
  },
  {
   "cell_type": "code",
   "execution_count": 4,
   "id": "2ba8cc61-bc7a-46d5-a74c-98f9b5c19eff",
   "metadata": {},
   "outputs": [],
   "source": [
    "# Utility method to print the movie information\n",
    "def  print_movie(movie):\n",
    "    print('title = ', movie['title'])\n",
    "    print('genres = ',movie['genres'])\n",
    "    print('fullplot = ', movie['fullplot'])\n",
    "\n",
    "# Utility method to run search and print results\n",
    "# Returns the indexes\n",
    "def   query_embeddings(faiss_index, k, test_index):\n",
    "    query_embedding = movies_dataset_test_np[test_index]\n",
    "    query_embedding = np.expand_dims(query_embedding, axis=0)\n",
    "\n",
    "    result_indexes = []\n",
    "    \n",
    "    print('Query Result')\n",
    "    print('-----------------')\n",
    "    print_movie(movies_dataset_test[test_index])\n",
    "\n",
    "    distances, movie_indexes = faiss_index.search(query_embedding, k)\n",
    "\n",
    "    print(distances)\n",
    "    for i, movie_index in enumerate(movie_indexes[0]):\n",
    "        result_indexes.append(movie_index)\n",
    "        print(i,'--',movie_index,'-- Distance = ', distances[0][i],'---')\n",
    "        print_movie(movies_dataset_train[movie_index.item()])\n",
    "\n",
    "    return result_indexes\n",
    "        "
   ]
  },
  {
   "cell_type": "markdown",
   "id": "b77d4703-e6fb-4592-bd65-ff48207d0f16",
   "metadata": {},
   "source": [
    "## 3. Setup FlatL2 index (Baseline)\n",
    "\n",
    "#### Baseline metrics = Exact Search\n",
    "Brute forcess KNN, using the Eucledian/L2 distance measurements\n",
    "\n",
    "##### FAISS API Reference\n",
    "https://faiss.ai/cpp_api/file/IndexFlat_8h.html#_CPPv4N5faiss9IndexFlatE"
   ]
  },
  {
   "cell_type": "code",
   "execution_count": 5,
   "id": "0280ece4-3f9c-4f14-a064-e93695b4b9c9",
   "metadata": {},
   "outputs": [
    {
     "data": {
      "text/plain": [
       "True"
      ]
     },
     "execution_count": 5,
     "metadata": {},
     "output_type": "execute_result"
    }
   ],
   "source": [
    "# Create the index\n",
    "flatl2_index = faiss.IndexFlatL2(embeddings_dimension)\n",
    "\n",
    "# Add the training embeddings to the index\n",
    "flatl2_index.add(movies_dataset_train_np)\n",
    "\n",
    "# Check if index needs training\n",
    "flatl2_index.is_trained"
   ]
  },
  {
   "cell_type": "code",
   "execution_count": 6,
   "id": "38a63676-9364-4a91-bc0e-f7cce91a02fd",
   "metadata": {},
   "outputs": [
    {
     "name": "stdout",
     "output_type": "stream",
     "text": [
      "Query Result\n",
      "-----------------\n",
      "title =  The Accidental Spy\n",
      "genres =  ['Action', 'Comedy', 'Thriller']\n",
      "fullplot =  This action movie unfolds with the story of Bei, a salesman at a workout equipment store, who harbors dreams of adventures. It all starts when on one normal dull day, Bei follows his instincts to trail two suspicious looking men into an alley. When he realizes that these men are robbing a jewelry store, he jumps into action to foil their plans. Soon after Bei meets Liu, a private investigator who convinces Bei that he may be the long-lost son of a rich Korean businessman. In no time, Bei is on his way to fulfill his dreams of adventure and fortune travelling to Korea and even exotic Turkey. As Bei is drawn deeper into the game of cat and mouse, he realizes he has become the key to locating a lung cancer virus. With an assortment of characters fighting him along the way, will Bei succeed in finding the virus himself?\n",
      "[[0.32972398 0.3340392 ]]\n",
      "0 -- 917 -- Distance =  0.32972398 ---\n",
      "title =  Circle of Iron\n",
      "genres =  ['Action', 'Adventure', 'Fantasy']\n",
      "fullplot =  A young martial artist, Cord the Seeker, competes for and loses the right to go on a quest for the Book of All Knowlege held by a wizard named Zetan, but he goes along the path to seek Zetan anyway. Along the way, he meets strange tests and challenges by enemies and allies - often having difficulty determining which is which.\n",
      "1 -- 546 -- Distance =  0.3340392 ---\n",
      "title =  Once Upon a Time in China and America\n",
      "genres =  ['Action', 'Adventure', 'History']\n",
      "fullplot =  The story is set in both Hong Kong and the U.S. So goes to the U.S. to open a martial arts school. Around this time, many Chinese people were sold off to U.S. railroad companies, and were brutally treated by the Americans under the harsh working conditions. Thus, the American workers' hatred towards the Chinese immigrants is high. As a result, So gets into trouble with the Americans and the mob, and calls Master Wong for help.\n",
      "-----Query Movie----\n",
      "Terrorists take over a 747 bound from Athens to Washington D.C., supposedly to effect the release of their leader. Intelligence expert David Grant suspects another reason and convinces the military that the 'plane should not be allowed to enter U.S. airspace. An assault mission is devised, using a specially equipped 'plane designed for mid-air crew transfers, and Grant finds himself aboard the 747 with a team of military anti-terrorists who have to defuse a bomb and overpower the terrorists.\n",
      "--------------------\n",
      "Baseline indexes =  [917, 546]\n",
      "CPU times: total: 15.6 ms\n",
      "Wall time: 20 ms\n"
     ]
    }
   ],
   "source": [
    "%%time\n",
    "\n",
    "# Change the index to try out different movies ~400 rows\n",
    "test_movie_index = 14\n",
    "\n",
    "# Change the value of k as needed\n",
    "k = 2\n",
    "\n",
    "# Test for a few movies\n",
    "baseline_result_indexes = query_embeddings(flatl2_index,k,test_movie_index)\n",
    "\n",
    "print('-----Query Movie----')\n",
    "print(movies_dataset_train[test_movie_index]['fullplot'])\n",
    "print('--------------------')\n",
    "print(\"Baseline indexes = \", baseline_result_indexes)"
   ]
  },
  {
   "cell_type": "markdown",
   "id": "26b9c846-fb23-4e62-86af-aa75f7e5963d",
   "metadata": {},
   "source": [
    "## 4. Setup IVVFLAT\n",
    "\n",
    "CPP class information.\n",
    "\n",
    "https://faiss.ai/cpp_api/struct/structfaiss_1_1IndexIVFFlat.html"
   ]
  },
  {
   "cell_type": "code",
   "execution_count": null,
   "id": "b7ee7884-dce1-4464-836c-1715c3af4fcd",
   "metadata": {},
   "outputs": [],
   "source": [
    "# How many cells to be created\n",
    "\n",
    "# Change to this number will change the performance & recall\n",
    "nlist_ivfflat = 200\n",
    "\n",
    "# Quantizer = maintains the actual vector space. Think of it as the index used by IVF algorithm. It can be PQ as well (covered below)\n",
    "quantizer = faiss.IndexFlatL2(embeddings_dimension)\n",
    "\n",
    "# Index creation\n",
    "index_ivfflat = faiss.IndexIVFFlat(quantizer, embeddings_dimension, nlist_ivfflat)\n",
    "\n",
    "# index\n",
    "print(\"Is trained: \", index_ivfflat.is_trained)"
   ]
  },
  {
   "cell_type": "markdown",
   "id": "760439a3-3cb8-4433-891b-360274122da8",
   "metadata": {},
   "source": [
    "### Train the index"
   ]
  },
  {
   "cell_type": "code",
   "execution_count": null,
   "id": "1b133ef9-065b-4a1d-a999-b9398f71055c",
   "metadata": {},
   "outputs": [],
   "source": [
    "%%time\n",
    "\n",
    "# Now add the embeddings to the index\n",
    "index_ivfflat.train(movies_dataset_train_np)\n",
    "index_ivfflat.add(movies_dataset_train_np)\n",
    "\n",
    "print(\"Is trained: \", index_ivfflat.is_trained)"
   ]
  },
  {
   "cell_type": "markdown",
   "id": "5785c7ba-fc51-4198-b121-7b84d95f74a1",
   "metadata": {},
   "source": [
    "### Run test query"
   ]
  },
  {
   "cell_type": "code",
   "execution_count": null,
   "id": "cde6467a-e6f0-4887-8800-80090ff7d53d",
   "metadata": {},
   "outputs": [],
   "source": [
    "%%time\n",
    "\n",
    "# Set the number of cells to be searched\n",
    "nprobes = 1\n",
    "\n",
    "index_ivfflat.nprobe = nprobes\n",
    "\n",
    "# Test for a few movies\n",
    "result_indexes = query_embeddings(index_ivfflat,k,test_movie_index)\n",
    "\n",
    "print('----------')\n",
    "print('Baseline indexes = ', baseline_result_indexes)\n",
    "print('Query indexes = ', result_indexes)"
   ]
  },
  {
   "cell_type": "markdown",
   "id": "f15b7bb7-cd41-4c6a-aee6-1a6884b21742",
   "metadata": {},
   "source": [
    "## 5. LSH\n",
    "\n",
    "* Change the nbits to see the effect on build time\n",
    "\n",
    "https://faiss.ai/cpp_api/struct/structfaiss_1_1IndexLSH.html"
   ]
  },
  {
   "cell_type": "code",
   "execution_count": null,
   "id": "3261a6f2-2076-4c00-94fb-5dfd07798da0",
   "metadata": {},
   "outputs": [],
   "source": [
    "%%time\n",
    "\n",
    "# Bucket resoultion = Size of the hashcode in bits\n",
    "# Change the nbits to see the difference in the Index Build Time\"\n",
    "nbits =5*embeddings_dimension\n",
    "\n",
    "# initialize index and add vectors\n",
    "index_lsh = faiss.IndexLSH(embeddings_dimension, nbits)\n",
    "\n",
    "print(\"is trained : \", index_lsh.is_trained)\n",
    "\n",
    "index_lsh.train(movies_dataset_train_np)\n",
    "index_lsh.add(movies_dataset_train_np)\n"
   ]
  },
  {
   "cell_type": "markdown",
   "id": "920d7a3a-caf6-4514-a823-92729accb43c",
   "metadata": {},
   "source": [
    "### Run test query"
   ]
  },
  {
   "cell_type": "code",
   "execution_count": null,
   "id": "d00fd51b-6ff6-47fa-9517-5b31603247a2",
   "metadata": {},
   "outputs": [],
   "source": [
    "%%time\n",
    "\n",
    "# Test for a few movies\n",
    "result_indexes = query_embeddings(index_lsh,k,test_movie_index)\n",
    "\n",
    "print('----------')\n",
    "print('Baseline indexes = ', baseline_result_indexes)\n",
    "print('Query indexes = ', result_indexes)"
   ]
  },
  {
   "cell_type": "markdown",
   "id": "0fbc2372-a2fe-4bc0-9ef6-20de9740d9dc",
   "metadata": {},
   "source": [
    "## 6. Product Quantization\n",
    "\n",
    "https://faiss.ai/cpp_api/struct/structfaiss_1_1IndexPQ.html#\n",
    "\n",
    "IndexPQ(int d, size_t M, size_t nbits, MetricType metric = METRIC_L2)\n",
    "\n",
    "- d – dimensionality of the input vectors\n",
    "- \r\n",
    "M – number of subquantize\n",
    "- \r\n",
    "\r\n",
    "nbits – number of bit per subvector i\n",
    "ndex"
   ]
  },
  {
   "cell_type": "code",
   "execution_count": null,
   "id": "dbdcdf03-d444-4341-a437-9f48c64931f2",
   "metadata": {},
   "outputs": [],
   "source": [
    "# Number of sub spaces\n",
    "m = 128\n",
    "\n",
    "# Number of bits per subquantizer K = 2**nbits\n",
    "nbits = 3\n",
    "\n",
    "# embedding dimension must be divisble by number of vector spaces\n",
    "assert embeddings_dimension % m == 0\n",
    "\n",
    "# Create the index\n",
    "index_pq = faiss.IndexPQ(embeddings_dimension, m, nbits)\n",
    "\n",
    "print(\"is_trained :\", index_pq.is_trained)\n"
   ]
  },
  {
   "cell_type": "markdown",
   "id": "080d6b64-32ed-4ac2-bef0-8c22e09b5590",
   "metadata": {},
   "source": [
    "### Train index"
   ]
  },
  {
   "cell_type": "code",
   "execution_count": null,
   "id": "d7b2a31e-4887-48f9-ab36-210a1b320cc8",
   "metadata": {},
   "outputs": [],
   "source": [
    "%%time\n",
    "\n",
    "index_pq.train(movies_dataset_train_np)\n",
    "index_pq.add(movies_dataset_train_np)\n",
    "\n",
    "print(\"is_trained :\", index_pq.is_trained)\n",
    "print(\"ntotal : \", index_pq.ntotal)"
   ]
  },
  {
   "cell_type": "markdown",
   "id": "4a41c61c-6cbe-4934-b269-b5ecbe812746",
   "metadata": {},
   "source": [
    "### Run test query"
   ]
  },
  {
   "cell_type": "code",
   "execution_count": null,
   "id": "c22dd512-6f70-4e3d-9089-99664b20c248",
   "metadata": {},
   "outputs": [],
   "source": [
    "%%time\n",
    "\n",
    "# Test for a few movies\n",
    "result_indexes = query_embeddings(index_pq,k,test_movie_index)\n",
    "\n",
    "print('----------')\n",
    "print('Baseline indexes = ', baseline_result_indexes)\n",
    "print('Query indexes = ', result_indexes)"
   ]
  },
  {
   "cell_type": "markdown",
   "id": "4fce7785-9295-412c-bdd5-4e7a7f281c88",
   "metadata": {},
   "source": [
    "## 7. IVF + PQ\n",
    "\n",
    "https://faiss.ai/cpp_api/struct/structfaiss_1_1IndexIVFPQ.html\n",
    "\n",
    "IndexIVFPQ(Index *quantizer, size_t d, size_t nlist, size_t M, size_t nbits_per_idx, MetricType metric = METRIC_L2)"
   ]
  },
  {
   "cell_type": "code",
   "execution_count": null,
   "id": "e34927a3-06b4-466b-98a7-5342506b4c8b",
   "metadata": {},
   "outputs": [],
   "source": [
    "# Change to this number will change the performance & recall\n",
    "nlist_ivfpq = 100\n",
    "\n",
    "# Number of subspaces\n",
    "number_subspaces = 8  \n",
    "\n",
    "# Number of bits in each centroid\n",
    "number_bits_per_centroid = 4\n",
    "\n",
    "quantizer = faiss.IndexFlatL2(embeddings_dimension)  # we keep the same L2 distance flat index\n",
    "index_ivfpq = faiss.IndexIVFPQ(quantizer, embeddings_dimension, nlist_ivfpq, number_subspaces, number_bits_per_centroid) \n",
    "\n",
    "print(\"Is trained: \", index_ivfpq.is_trained)"
   ]
  },
  {
   "cell_type": "markdown",
   "id": "7e866a1c-2570-4464-8fbb-b9a1717f9a0a",
   "metadata": {},
   "source": [
    "### Train the index"
   ]
  },
  {
   "cell_type": "code",
   "execution_count": null,
   "id": "9531a7ff-dded-4ed0-b70f-12b06d92682d",
   "metadata": {},
   "outputs": [],
   "source": [
    "%%time\n",
    "\n",
    "# Now add the embeddings to the index\n",
    "index_ivfpq.train(movies_dataset_train_np)\n",
    "index_ivfpq.add(movies_dataset_train_np)\n",
    "\n",
    "print(\"Is trained: \", index_ivfpq.is_trained)\n",
    "print(\"ntotal : \", index_ivfpq.ntotal)"
   ]
  },
  {
   "cell_type": "markdown",
   "id": "ebc5c3a7-8de5-4894-8d02-6ec57761a9f7",
   "metadata": {},
   "source": [
    "### Run test query"
   ]
  },
  {
   "cell_type": "code",
   "execution_count": null,
   "id": "eac6e62d-c1d8-40a2-81ff-f416b3aec1a6",
   "metadata": {},
   "outputs": [],
   "source": [
    "%%time\n",
    "\n",
    "\n",
    "# Test for a few movies\n",
    "result_indexes = query_embeddings(index_ivfpq,k,test_movie_index)\n",
    "\n",
    "print('----------')\n",
    "print('Baseline indexes = ', baseline_result_indexes)\n",
    "print('Query indexes = ', result_indexes)"
   ]
  },
  {
   "cell_type": "markdown",
   "id": "206f3a6c-4f01-41a6-bd62-cd3b38428f71",
   "metadata": {},
   "source": [
    "## 7. HNSW with Flat Quantizer\n",
    "\n",
    "https://faiss.ai/cpp_api/struct/structfaiss_1_1IndexHNSWFlat.html\n",
    "\n",
    "#### IndexHNSWFlat.hnsw\n",
    "\n",
    "https://faiss.ai/cpp_api/file/HNSW_8h.html#_CPPv4N5faiss4HNSWE\n",
    "\n",
    "https://github.com/facebookresearch/faiss/blob/main/benchs/bench_hnsw.py\n",
    "\n"
   ]
  },
  {
   "cell_type": "code",
   "execution_count": null,
   "id": "cd1da1a5-d592-4112-8e6a-49b4c3694635",
   "metadata": {},
   "outputs": [],
   "source": [
    "# Bidirectional links \n",
    "m = 32\n",
    "\n",
    "index_hnsw_flat = faiss.IndexHNSWFlat(embeddings_dimension, m)\n",
    "\n",
    "# layer_depth_construction\n",
    "efConstruction = 64\n",
    "\n",
    "# layer_depth_in_search \n",
    "efSearch = 32\n",
    "\n",
    "index_hnsw_flat.hnsw.efConstruction = efConstruction \n",
    "index_hnsw_flat.hnsw.efSearch = efSearch # \n",
    "\n",
    "\n",
    "print(\"Is trained: \", index_hnsw_flat.is_trained)\n",
    "\n",
    "index_hnsw_flat.add(movies_dataset_train_np)"
   ]
  },
  {
   "cell_type": "markdown",
   "id": "e48d4d7a-562e-40ac-8f00-2fdb789229bb",
   "metadata": {},
   "source": [
    "### Run test query"
   ]
  },
  {
   "cell_type": "code",
   "execution_count": null,
   "id": "32586e64-c64e-4dcf-9252-81ddf8aa50c4",
   "metadata": {},
   "outputs": [],
   "source": [
    "%%time\n",
    "\n",
    "# Test for a few movies\n",
    "result_indexes = query_embeddings(index_hnsw_flat,k,test_movie_index)\n",
    "\n",
    "print('----------')\n",
    "print('Baseline indexes = ', baseline_result_indexes)\n",
    "print('Query indexes = ', result_indexes)"
   ]
  },
  {
   "cell_type": "markdown",
   "id": "c40327c6-cce9-4081-a5a5-c8f369ee13e8",
   "metadata": {},
   "source": [
    "## 8. HNSW with Scalar Quantizer\n",
    "\n",
    "https://faiss.ai/cpp_api/struct/structfaiss_1_1IndexHNSWSQ.html"
   ]
  },
  {
   "cell_type": "code",
   "execution_count": null,
   "id": "0b55e9f8-4f10-4398-b260-79415f38cd05",
   "metadata": {},
   "outputs": [],
   "source": [
    "%%time\n",
    "\n",
    "# also set M so that the vectors and links both use 128 bytes per\n",
    "# entry (total 256 bytes)\n",
    "\n",
    "index_hnsw_sq = faiss.IndexHNSWSQ(embeddings_dimension, faiss.ScalarQuantizer.QT_8bit, 16)\n",
    "\n",
    "index_hnsw_sq.train(movies_dataset_train_np)\n",
    "index_hnsw_sq.add(movies_dataset_train_np)"
   ]
  },
  {
   "cell_type": "markdown",
   "id": "12e42f05-ff52-4310-b562-a656553c82bf",
   "metadata": {},
   "source": [
    "### Run test query"
   ]
  },
  {
   "cell_type": "code",
   "execution_count": null,
   "id": "e70a7b0c-a735-4bb8-ad83-fc2ffc33cf77",
   "metadata": {},
   "outputs": [],
   "source": [
    "%%time\n",
    "\n",
    "# Test for a few movies\n",
    "result_indexes = query_embeddings(index_hnsw_sq,k,test_movie_index)\n",
    "\n",
    "print('----------')\n",
    "print('Baseline indexes = ', baseline_result_indexes)\n",
    "print('Query indexes = ', result_indexes)"
   ]
  },
  {
   "cell_type": "code",
   "execution_count": null,
   "id": "e98f2ccb-3e67-4b32-80c9-941f01bff98f",
   "metadata": {},
   "outputs": [],
   "source": []
  }
 ],
 "metadata": {
  "kernelspec": {
   "display_name": "Python 3 (ipykernel)",
   "language": "python",
   "name": "python3"
  },
  "language_info": {
   "codemirror_mode": {
    "name": "ipython",
    "version": 3
   },
   "file_extension": ".py",
   "mimetype": "text/x-python",
   "name": "python",
   "nbconvert_exporter": "python",
   "pygments_lexer": "ipython3",
   "version": "3.11.8"
  }
 },
 "nbformat": 4,
 "nbformat_minor": 5
}
