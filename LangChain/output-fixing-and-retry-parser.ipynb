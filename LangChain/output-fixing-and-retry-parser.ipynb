{
 "cells": [
  {
   "cell_type": "markdown",
   "id": "6120a444-ca66-4411-a473-8f8fdb0aa6f1",
   "metadata": {},
   "source": [
    "# Fixing & Retry Output Parsers\n",
    "\n",
    "**Results:**\n",
    "\n",
    "* GPT & AI21 worked well\n",
    "* Cohere gave mixed results\n",
    "\n",
    "https://python.langchain.com/docs/modules/model_io/output_parsers/types/output_fixing\n",
    "\n",
    "https://api.python.langchain.com/en/stable/output_parsers/langchain.output_parsers.fix.OutputFixingParser.html#"
   ]
  },
  {
   "cell_type": "markdown",
   "id": "c2ede015-fdab-48cd-aed0-ce233dd80b02",
   "metadata": {},
   "source": [
    "## Setup the environment"
   ]
  },
  {
   "cell_type": "code",
   "execution_count": 1,
   "id": "58f7c3e0-003c-49a7-81bb-a12825e0fd54",
   "metadata": {},
   "outputs": [
    {
     "data": {
      "text/plain": [
       "True"
      ]
     },
     "execution_count": 1,
     "metadata": {},
     "output_type": "execute_result"
    }
   ],
   "source": [
    "from IPython.display import JSON\n",
    "from dotenv import load_dotenv\n",
    "import os\n",
    "\n",
    "import warnings\n",
    "\n",
    "warnings.filterwarnings(\"ignore\")\n",
    "\n",
    "# Load the file that contains the API keys\n",
    "load_dotenv('C:\\\\Users\\\\raj\\\\.jupyter\\\\.env')"
   ]
  },
  {
   "cell_type": "markdown",
   "id": "bdedc036-cddc-41f0-bddc-17db7778f33f",
   "metadata": {},
   "source": [
    "## Create LLM"
   ]
  },
  {
   "cell_type": "code",
   "execution_count": 2,
   "id": "a8cceb38-accd-423d-b517-a7051eee3761",
   "metadata": {},
   "outputs": [],
   "source": [
    "import sys\n",
    " \n",
    "# setting path\n",
    "sys.path.append('../')\n",
    "\n",
    "from utils.create_llm import create_gpt_llm, create_cohere_llm, create_ai21_llm\n",
    "\n",
    "# OpenAI GPT args\n",
    "openai_args = {\"max_tokens\": -1, \"temperature\": 0}\n",
    "llm_gpt = create_gpt_llm(openai_args)\n",
    "\n",
    "llm_cohere = create_cohere_llm()\n",
    "\n",
    "llm_ai21 = create_ai21_llm()"
   ]
  },
  {
   "cell_type": "markdown",
   "id": "9c3063b8-42a1-4220-a745-ee1096770b9f",
   "metadata": {},
   "source": [
    "## 1. Output fixing Parser\n",
    "\n",
    "1. Needs the actual parser\n",
    "2. Uses an LLM to fix structural issues with data\n",
    "   \n",
    "The fixing parser first tries the actual parser, if there is an issue it requests the LLM to fix the issue. Once the issue is addressed, the parser tries to parse again. The number of retries made by fixing parse is controlled by the max-retries\n",
    "\n",
    "\n"
   ]
  },
  {
   "cell_type": "code",
   "execution_count": 3,
   "id": "87751dbb-480b-44ba-bbf9-198f126f230c",
   "metadata": {},
   "outputs": [],
   "source": [
    "from langchain_core.pydantic_v1 import BaseModel, Field, validator\n",
    "from langchain.output_parsers import PydanticOutputParser\n",
    "from langchain.output_parsers import OutputFixingParser\n",
    "from langchain import PromptTemplate"
   ]
  },
  {
   "cell_type": "markdown",
   "id": "a6f432b5-9c66-44e5-b2f6-e1c896bac231",
   "metadata": {},
   "source": [
    "### Create Pydantic parser"
   ]
  },
  {
   "cell_type": "code",
   "execution_count": 4,
   "id": "b2acccba-8c33-411f-a57c-eae4c470e63e",
   "metadata": {},
   "outputs": [],
   "source": [
    "# Create the class for JSON representation\n",
    "class Actor(BaseModel):\n",
    "    name: str = Field(description=\"name of an actor\")\n",
    "    film_names: list[str] = Field(description=\"list of names of films they starred in\")\n",
    "\n",
    "pydantic_output_parser = PydanticOutputParser(pydantic_object=Actor)"
   ]
  },
  {
   "cell_type": "markdown",
   "id": "1c7076b0-db0a-412c-9d5d-8325be54a3fe",
   "metadata": {},
   "source": [
    "### Create Output Fixing parser"
   ]
  },
  {
   "cell_type": "code",
   "execution_count": 5,
   "id": "3678984c-efd3-4b65-9a40-71feeb9ce05e",
   "metadata": {},
   "outputs": [],
   "source": [
    "# Create fixing output parser with retries\n",
    "max_fixing_retries = 2\n",
    "fixing_parser = OutputFixingParser.from_llm(parser=pydantic_output_parser, llm=llm_cohere, max_retries=max_fixing_retries)"
   ]
  },
  {
   "cell_type": "markdown",
   "id": "2bb3727a-4e96-47c3-bdd4-5a02fc87f92f",
   "metadata": {},
   "source": [
    "### Utility functions"
   ]
  },
  {
   "cell_type": "code",
   "execution_count": 6,
   "id": "f60f4a5e-1205-417e-b716-3166f422f5ca",
   "metadata": {},
   "outputs": [],
   "source": [
    "def   run_with_pydantic(parse_string):\n",
    "    # Pydantic : Handle the parse error with try-except\n",
    "    try:\n",
    "        object = pydantic_output_parser.parse(parse_string)\n",
    "        print(\"Pydantic parser : Successful : object\")\n",
    "    except:\n",
    "        print(\"Pydantic parser : Exception\")\n",
    "\n",
    "def  run_with_fixing(parse_string):\n",
    "    # Fixing : Handle the parse error with try-except\n",
    "    try:\n",
    "        object = fixing_parser.parse(parse_string)\n",
    "        print(\"Fixing parser : Success : \", object)\n",
    "    except:\n",
    "        print(\"Fixing parser : Exception\")"
   ]
  },
  {
   "cell_type": "markdown",
   "id": "e8f7a76f-c442-4ea4-a000-5f90fb26dfe3",
   "metadata": {},
   "source": [
    "### Test with Pydantic & Fixing parsers"
   ]
  },
  {
   "cell_type": "code",
   "execution_count": 9,
   "id": "fd0e3f12-3d86-4403-841f-f139da60f4b2",
   "metadata": {},
   "outputs": [
    {
     "name": "stdout",
     "output_type": "stream",
     "text": [
      "String- 0\n",
      "Pydantic parser : Exception\n",
      "Fixing parser : Exception\n",
      "String- 1\n",
      "Pydantic parser : Successful : object\n",
      "Fixing parser : Success :  name='Tom Hanks' film_names=['Forrest']\n",
      "String- 2\n",
      "Pydantic parser : Successful : object\n",
      "Fixing parser : Success :  name='Tom Hanks' film_names=['Forrest Gump']\n",
      "String- 3\n",
      "Pydantic parser : Exception\n",
      "Fixing parser : Success :  name='Tom Hanks' film_names=['Forrest Gump', 'Cast Away', 'A League of Their Own']\n",
      "String- 4\n",
      "Pydantic parser : Exception\n",
      "Fixing parser : Success :  name='Tom Hanks' film_names=['Forrest Gump']\n"
     ]
    }
   ],
   "source": [
    "# LLM Query\n",
    "actor_query = \"Generate the filmography for a Tom Hanks.\"\n",
    "\n",
    "# Example of well formed JSON from LLM\n",
    "well_formed = '{\"name\": \"Tom Hanks\", \"film_names\": [\"Forrest Gump\"]}'\n",
    "\n",
    "# Example of mis-formatted outputs from LLM\n",
    "mis_formatted = [\n",
    "    \"{'name': 'Tom Hanks', 'film_names': ['Forrest Gump']}\",                   # Use of single quote for attributes (instead of double quotes)\n",
    "    '{\"name\": \"Tom Hanks\", \"film_names\": [\"Forrest',                           # Partial JSON !!\n",
    "    '{\"name\": \"Tom Hanks\", \"years\": [1994],  \"film_names\": [\"Forrest Gump\"]}', # Hallucination : Extra field year\n",
    "        \n",
    "    '{\"name\": \"Tom Hanks\"}',                                                   # Missed out field   - NOT fixed by fixing parser\n",
    "    '{\"nam_87uiy3gjfhj\": \"Tom Hanks\", \"film_names\": [\"Forrest Gump\"]}'           # Mispelled namefield     - NOT fixed by fixing parser\n",
    "]\n",
    "\n",
    "# Change index to try out different jsons in the array above\n",
    "for i, parse_string in enumerate(mis_formatted):\n",
    "    print(\"String-\",i)\n",
    "    run_with_pydantic(parse_string)\n",
    "    run_with_fixing(parse_string)"
   ]
  },
  {
   "cell_type": "markdown",
   "id": "e18573d1-0bb2-41b7-87ff-0512fcbbc57d",
   "metadata": {},
   "source": [
    "## 2. Retry Parser\n",
    "\n",
    "Use if the Fixing parser is also giving an exception !!\n",
    "\n",
    "This sends the prompt and the original output to the LLM to try again to get a better result.\n",
    "\n",
    "https://python.langchain.com/docs/modules/model_io/output_parsers/types/retry\n",
    "\n",
    "https://api.python.langchain.com/en/stable/output_parsers/langchain.output_parsers.retry.RetryOutputParser.html#\n",
    "\n",
    "https://api.python.langchain.com/en/stable/output_parsers/langchain.output_parsers.retry.RetryWithErrorOutputParser.html#langchain.output_parsers.retry.RetryWithErrorOutputParser"
   ]
  },
  {
   "cell_type": "code",
   "execution_count": null,
   "id": "90c6b922-96cc-4f00-82c8-13ece0b757cc",
   "metadata": {},
   "outputs": [],
   "source": [
    "from langchain.output_parsers import RetryWithErrorOutputParser\n",
    "from langchain.output_parsers import RetryOutputParser\n",
    "\n",
    "max_retries = 2\n",
    "retry_parser = RetryWithErrorOutputParser.from_llm(parser=pydantic_output_parser, llm=llm_cohere, max_retries=max_retries)\n"
   ]
  },
  {
   "cell_type": "markdown",
   "id": "3ba95200-52e7-4814-9c74-a677dc218721",
   "metadata": {},
   "source": [
    "### Utility function"
   ]
  },
  {
   "cell_type": "code",
   "execution_count": null,
   "id": "2e6d24d1-ed81-41bc-a1ee-84a783143e8d",
   "metadata": {},
   "outputs": [],
   "source": [
    "def   run_with_retry(parse_string, prompt):\n",
    "    # Pydantic : Handle the parse error with try-except\n",
    "    try:\n",
    "        object = retry_parser.parse_with_prompt(parse_string, prompt)\n",
    "        print(\"Retry parser : Successful : \", object)\n",
    "    except:\n",
    "        print(\"Retry parser : Exception\")\n"
   ]
  },
  {
   "cell_type": "markdown",
   "id": "34857f68-75ea-4d20-96ec-1e84c9f721ff",
   "metadata": {},
   "source": [
    "### Create a prompt for testing"
   ]
  },
  {
   "cell_type": "code",
   "execution_count": null,
   "id": "3b33bf14-d10b-4382-9507-5f9cf8715178",
   "metadata": {},
   "outputs": [],
   "source": [
    "actor_query_template = \"\"\"\n",
    "Generate the filmography for {actor}.\n",
    "Format Instructions:\n",
    "{format_instructions}\n",
    "\"\"\"\n",
    "\n",
    "actor_query_prompt_template = PromptTemplate(\n",
    "    template = actor_query_template,\n",
    "    input_variables = ['actor'],\n",
    "    partial_variables = {\"format_instructions\": pydantic_output_parser.get_format_instructions()}\n",
    ")\n",
    "\n",
    "# Responses at index= 4,5\n",
    "parse_string = mis_formatted[4]\n",
    "\n",
    "# Pay attention to the use of format_prompt instead of format. \n",
    "# https://api.python.langchain.com/en/latest/prompts/langchain_core.prompts.prompt.PromptTemplate.html#\n",
    "prompt_value = actor_query_prompt_template.format_prompt(actor='Tom Hanks')\n",
    "\n",
    "# type(prompt_value)"
   ]
  },
  {
   "cell_type": "markdown",
   "id": "18406691-3cc2-41c5-ad98-29734cf7283a",
   "metadata": {},
   "source": [
    "### Run the test"
   ]
  },
  {
   "cell_type": "code",
   "execution_count": null,
   "id": "6033d957-9848-42c3-acf4-f5815945e423",
   "metadata": {},
   "outputs": [],
   "source": [
    "for i, parse_string in enumerate(mis_formatted):\n",
    "    print(\"String-\",i)\n",
    "    run_with_retry(parse_string, prompt_value)"
   ]
  },
  {
   "cell_type": "code",
   "execution_count": null,
   "id": "25abd9c2-f433-43aa-a8c8-8f5dabdc1a84",
   "metadata": {},
   "outputs": [],
   "source": []
  }
 ],
 "metadata": {
  "kernelspec": {
   "display_name": "Python 3 (ipykernel)",
   "language": "python",
   "name": "python3"
  },
  "language_info": {
   "codemirror_mode": {
    "name": "ipython",
    "version": 3
   },
   "file_extension": ".py",
   "mimetype": "text/x-python",
   "name": "python",
   "nbconvert_exporter": "python",
   "pygments_lexer": "ipython3",
   "version": "3.11.7"
  }
 },
 "nbformat": 4,
 "nbformat_minor": 5
}
