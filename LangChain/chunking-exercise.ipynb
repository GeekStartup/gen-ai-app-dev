{
 "cells": [
  {
   "cell_type": "markdown",
   "id": "7f52071a-b374-4808-b83c-0e648e74f007",
   "metadata": {},
   "source": [
    "# Chunking exercise"
   ]
  },
  {
   "cell_type": "code",
   "execution_count": null,
   "id": "850d28b4-40b2-4c6d-a6e3-dc70c8c91773",
   "metadata": {},
   "outputs": [],
   "source": []
  }
 ],
 "metadata": {
  "kernelspec": {
   "display_name": "Python 3 (ipykernel)",
   "language": "python",
   "name": "python3"
  },
  "language_info": {
   "codemirror_mode": {
    "name": "ipython",
    "version": 3
   },
   "file_extension": ".py",
   "mimetype": "text/x-python",
   "name": "python",
   "nbconvert_exporter": "python",
   "pygments_lexer": "ipython3",
   "version": "3.11.8"
  }
 },
 "nbformat": 4,
 "nbformat_minor": 5
}
