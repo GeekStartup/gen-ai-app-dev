{
 "cells": [
  {
   "cell_type": "markdown",
   "id": "d225dce8-d9e8-47d9-b6e9-783069f95b13",
   "metadata": {},
   "source": [
    "# Cohere : Fine tuned model testing\n",
    "\n",
    "#### Intro to fine-tuning\n",
    "https://docs.cohere.com/docs/fine-tuning\n",
    "\n",
    "#### Hyperparameters\n",
    "https://github.com/cohere-ai/cohere-aws/blob/main/notebooks/sagemaker/Run%20command%20R%20finetuning.ipynb\n",
    "\n"
   ]
  },
  {
   "cell_type": "markdown",
   "id": "ccabb666-ed2d-4dda-a0a5-c73c1f67a8f5",
   "metadata": {},
   "source": [
    "#### Google Colab\n",
    "\n",
    "If you are running the code in Google colab, install the packages by uncommenting/running the cell below"
   ]
  },
  {
   "cell_type": "code",
   "execution_count": null,
   "id": "1c5210fd-f4a7-4fd1-96c1-8635a4f0b5e2",
   "metadata": {},
   "outputs": [],
   "source": [
    "# !pip install python-dotenv"
   ]
  },
  {
   "cell_type": "markdown",
   "id": "4888c826-d679-4883-bcdd-9a462bd94e20",
   "metadata": {},
   "source": [
    "## 1. Setup environment variables\n",
    "\n",
    "This will read the local enviroment file. You MUST change the location of the **env** file"
   ]
  },
  {
   "cell_type": "code",
   "execution_count": 1,
   "id": "a814d88a-f876-490b-961c-4f43711ed895",
   "metadata": {},
   "outputs": [
    {
     "data": {
      "text/plain": [
       "True"
      ]
     },
     "execution_count": 1,
     "metadata": {},
     "output_type": "execute_result"
    }
   ],
   "source": [
    "from dotenv import load_dotenv\n",
    "import os\n",
    "import sys\n",
    "import warnings\n",
    "\n",
    "# Setting path so we can access the utils folder\n",
    "sys.path.append('../')\n",
    "sys.path.append('./')\n",
    "\n",
    "from IPython.display import Markdown, JSON\n",
    "\n",
    "warnings.filterwarnings(\"ignore\")\n",
    "\n",
    "# Load the file that contains the API keys - CHANGE THIS\n",
    "load_dotenv('C:\\\\Users\\\\raj\\\\.jupyter\\\\.env')"
   ]
  },
  {
   "cell_type": "markdown",
   "id": "ece4a8ef-2bd3-4b29-890a-fce452bd648f",
   "metadata": {},
   "source": [
    "## 2. Utility class\n",
    "Invocation of the fine-tuned model"
   ]
  },
  {
   "cell_type": "code",
   "execution_count": 3,
   "id": "43d938a1-331b-4f8f-9729-72111522dcac",
   "metadata": {},
   "outputs": [],
   "source": [
    "# Use the Cohere REST endpoint for invoking the model\n",
    "\n",
    "import requests\n",
    "import getpass\n",
    "import os\n",
    "\n",
    "class cohere_rest_client:\n",
    "    # Holds the model to be invoked\n",
    "    model = \"\"\n",
    "\n",
    "    # Holds api URL\n",
    "    api_url = \"\"\n",
    "    \n",
    "    # Holds the API token\n",
    "    COHERE_API_KEY=\"\"\n",
    "\n",
    "    # Initialize\n",
    "    def  __init__(self, model, api_url=\"https://api.cohere.com/v2/classify\", api_key=None):\n",
    "        self.api_url = api_url\n",
    "        self.model = model\n",
    "\n",
    "        # Check if API token is provided, if not then check env, if not ask for it\n",
    "        if not api_key:\n",
    "            self.COHERE_API_KEY=os.getenv('COHERE_API_KEY')\n",
    "            if not self.COHERE_API_KEY:\n",
    "                print(\"Provide the COHERE_API_KEY:\")\n",
    "                self.COHERE_API_KEY=getpass.getpass()\n",
    "        else:\n",
    "            self.COHERE_API_KEY=api_key\n",
    "\n",
    "    # Returns the model's API URL\n",
    "    def get_model_url(self):\n",
    "        return self.api_url\n",
    "\n",
    "    # Invoke function\n",
    "    def invoke(self, inputs, examples = None, parameters = {}, options={}):\n",
    "\n",
    "        # Setup header with API token\n",
    "        headers = {\n",
    "            \"Authorization\": f\"Bearer {self.COHERE_API_KEY}\",\n",
    "            \"Content-Type\": \"application/json\"\n",
    "        }\n",
    "        \n",
    "\n",
    "        # Create the payload JSON\n",
    "        payload =  {\n",
    "            \"model\": self.model,\n",
    "            \"inputs\": inputs,\n",
    "            \"parameters\": parameters\n",
    "        }\n",
    "\n",
    "        \n",
    "\n",
    "        if  examples:\n",
    "            payload['examples'] = examples\n",
    "\n",
    "        print(payload)\n",
    "\n",
    "        # print(payload)\n",
    "\n",
    "        # Post to the model URL\n",
    "        response = requests.post(self.api_url, headers=headers, json=payload)\n",
    "\n",
    "        # Check for errors\n",
    "        if response.status_code != 200:\n",
    "            # error !!\n",
    "            return {\n",
    "                \"status_code\": response.status_code,\n",
    "                \"reason\" : response.reason,\n",
    "                \"error\": True\n",
    "            }\n",
    "        else:\n",
    "            # Return response as JSON\n",
    "            return response.json()\n"
   ]
  },
  {
   "cell_type": "markdown",
   "id": "0e23a085-2846-4635-a215-5b97c5b43c43",
   "metadata": {},
   "source": [
    "## 3. Unit test the utility"
   ]
  },
  {
   "cell_type": "code",
   "execution_count": 4,
   "id": "4d0a5566-8970-4f6e-9007-504b828d8680",
   "metadata": {},
   "outputs": [],
   "source": [
    "# Test if the fine tuned model is responding\n",
    "cohere_api_url = \"https://api.cohere.com/v2/classify\"\n",
    "\n",
    "# Copy from Dashboard & paste it here [Model MUST be in Ready state]\n",
    "model = \"862c41b7-55c7-4625-98ad-426ca1d295b3-ft\"\n",
    "\n",
    "api_client = cohere_rest_client(model=model, api_url=cohere_api_url)"
   ]
  },
  {
   "cell_type": "code",
   "execution_count": 7,
   "id": "6672570a-7320-49dc-b72b-830df81096c0",
   "metadata": {},
   "outputs": [
    {
     "name": "stdout",
     "output_type": "stream",
     "text": [
      "{'model': '862c41b7-55c7-4625-98ad-426ca1d295b3-ft', 'inputs': ['i like you'], 'parameters': {}}\n"
     ]
    },
    {
     "data": {
      "application/json": {
       "classifications": [
        {
         "classification_type": "multi-label",
         "confidences": [
          0.9928231
         ],
         "id": "3d4e6953-29ab-4f94-ba3d-5da14a28b45a",
         "input": "i like you",
         "labels": {
          "identity_hate": {
           "confidence": 0.010902374
          },
          "insult": {
           "confidence": 0.34466398
          },
          "severe_toxic": {
           "confidence": 0.00094730896
          },
          "threat": {
           "confidence": 0.13341522
          },
          "toxic": {
           "confidence": 0.9928231
          }
         },
         "predictions": [
          "toxic"
         ]
        }
       ],
       "id": "abf70a23-25fc-49b8-a682-85b69963d679",
       "meta": {
        "api_version": {
         "version": "2"
        },
        "billed_units": {
         "classifications": 1
        }
       }
      },
      "text/plain": [
       "<IPython.core.display.JSON object>"
      ]
     },
     "execution_count": 7,
     "metadata": {
      "application/json": {
       "expanded": false,
       "root": "root"
      }
     },
     "output_type": "execute_result"
    }
   ],
   "source": [
    "from IPython.display import Markdown, JSON\n",
    "\n",
    "inputs = [\n",
    "    \"i like you\"\n",
    "]\n",
    "\n",
    "response = api_client.invoke(inputs)\n",
    "\n",
    "JSON(response)"
   ]
  },
  {
   "cell_type": "markdown",
   "id": "d4f102c9-fbeb-409b-ae82-07bd8a4c40eb",
   "metadata": {},
   "source": [
    "## 4. Evaluate model\n",
    "\n",
    "* Read the test dataset\n",
    "* For each line in the dataset call inference\n",
    "* Check accuracy by comparing predicted with predicted"
   ]
  },
  {
   "cell_type": "markdown",
   "id": "89e3ed85-0e37-406c-99fc-8c091cbd7eea",
   "metadata": {},
   "source": [
    "### 4.1 Read test dataset and prepare inputs\n",
    "\n",
    "On Google Colab?\n",
    "Uncomment the following cell and run it. It will download the test data file."
   ]
  },
  {
   "cell_type": "code",
   "execution_count": 8,
   "id": "fc1f8a8c-ac21-4b3b-9c70-01cba979d620",
   "metadata": {},
   "outputs": [],
   "source": [
    "# !mkdir  -p ./data/toxicity-classifier/\n",
    "# !curl  https://raw.githubusercontent.com/acloudfan/gen-ai-app-dev/refs/heads/main/Fine-Tuning/data/toxicity-classifier/multi_label_comment_classification_test_cohere.jsonl -o ./data/toxicity-classifier/multi_label_comment_classification_test_cohere.jsonl"
   ]
  },
  {
   "cell_type": "code",
   "execution_count": 9,
   "id": "f6f80a2c-4b76-4321-8442-c19c644e2681",
   "metadata": {},
   "outputs": [],
   "source": [
    "import json\n",
    "\n",
    "with open('./data/toxicity-classifier/multi_label_comment_classification_test_cohere.jsonl', 'r') as json_file:\n",
    "    json_list = list(json_file)\n",
    "\n",
    "# Prepare the inputs array that we will send to \n",
    "inputs = []\n",
    "labels = []\n",
    "for json_str in json_list: \n",
    "    result = json.loads(json_str)\n",
    "    inputs.append(result['text'])\n",
    "    labels.append(result['label'])\n",
    "    "
   ]
  },
  {
   "cell_type": "markdown",
   "id": "ba676c84-4c36-4f06-817c-bdc50b9f5322",
   "metadata": {},
   "source": [
    "### 4.2 Invoke model "
   ]
  },
  {
   "cell_type": "code",
   "execution_count": 10,
   "id": "e11a5e6f-68d2-4526-8a73-a12c336cf6a3",
   "metadata": {},
   "outputs": [
    {
     "name": "stdout",
     "output_type": "stream",
     "text": [
      "{'model': '862c41b7-55c7-4625-98ad-426ca1d295b3-ft', 'inputs': [':::::::::Moi? Ego? I am mortified that you could say such a thing - poor old Mona I always thiught she was a miserable looking woman - probably hormonal.', '\" \\n\\n So, on the tenth anniversary of 9/11, \"\"New York Times\"\" \"\"columnist\"\" Paul Krugman delivered the odious piece of dribble ever on the attack  well, at least since the last time he wrote about it. The headline is, quote, \"\"The Years of Shame,\"\" end quote. And no, it\\'s not directed at radical Islam. Instead, he targets America and the, quote, \"\"fake heroes.\"\" Krugman claims that the atrocity has been hijacked. The sick word given that he\\'s not actually talking about the real hijackers who killed some 3,000 Americans. No, he\\'s referring to people like George Bush and Rudy Giuliani who he thinks capitalized on the horrible crimes. But the worst part, at the end of this column, the creep writes, \"\"I\\'m not going to allow comments on the post for obvious reasons.\"\" That obvious reason, he\\'s a coward. I mean, why else would you ban responses? He\\'s like a 10-year-old boy crank-calling all of us only to hang up even before he hears a response, hearing his shame for his own wickedness. Now, I watch the memorial services and I feel sorrow for the families whose grief never really ends. But since I\\'m lousy at emotional reflection I usually avoid it. But at least I can summarize what many feel today in nine words: go to hell, Paul Krugman, you bearded, bitter buffoon.\"', 'Karl Tearle is a mop haired twat', '== Intolerance in India == \\n\\n  india is a Generator of liars like you', \":* Because the overall aim of the project is worth putting up with this for. \\n :* Because there is sometimes some personal learning involved in the topic research, which is itself a worthwhile goal. \\n :: Otherwise no reason. You can put up with the shit if you wish to, it's not usually too onerous. Even the idiocy isn't too painful - you're only required to make the show of being civil to the fools, not to respect them.\", \"::Foolish nonsense. I have never had to do something that stretched to the point of communicating with friends of friends to people on the other side of the earth. It's quite pathetic, actually, and Calton is an inconsiderable, selfish beast.\", '== Ryan Boe IS A QUEER == \\n\\n this is the truth, hes a big ol gay bag \\n\\n that is all', 'Ech, you silly Mensans, you have IQ points to spare )', '== willeys  == \\n\\n if u are a male with no willey then u are likley to be gay lol', 'your beat as hell stop getting rid of my cool junk aight homie i know we can get along why must we fight ;0', \"Look, you're a pedant, and Fetzer is a Jew-hater. On Press TV in the UK today - September 2nd 2011 - he said that the Israelis were behind 9/11. The man is a complete fool.\", 'Bill \\n\\n  \\n\\n  \\n\\n  \\n dear \\n sir \\n\\n  \\n you are gay \\n\\n  \\n\\n stay over at dans \\n\\n  \\n\\n you can bum', '::mostly true (some blacks voted in every state)but that happened around 1900 and had no connection with CSA.', 'black people deserve to die,', '== All admins must DIE! == \\n\\n prepare for your death, Banno!', 'hurricane machine to kill him.', '== Kill him  == \\n\\n I want to kill him for hurting good people. but That gy got him first so i will haft to wate. i want to resel a gator!! DIE!! DIE!!', 'Punched in the Head \\n I am blade, daywalker, I am going to punch you in head just like I did to Ashley Walters', 'Hey, fellow wikipedia. \\n\\n I WILL KILL YOU! Jk. ]', \"== Why all muslims should be burned alive == \\n\\n Because they deserve it.  \\n\\n We hope to finish off some 800 million muslims by the year 2010.  \\n That's a lot of killing to do. But we will sure enjoy it.  \\n In the name of the United States of America in the name of freedom this must be accomplished.  \\n\\n Post your comments on how best to achieve this.\", '\"Just go fucking kill him\"\" \\n * \"\"\"', 'Thank you for understanding. I think very highly of you and would not revert without discussion.', ':Dear god this site is horrible.', '\"::: Somebody will invariably try to add Religion?  Really??  You mean, the way people have invariably kept adding \"\"Religion\"\" to the Samuel Beckett infobox?  And why do you bother bringing up the long-dead completely non-existent \"\"Influences\"\" issue?  You\\'re just flailing, making up crap on the fly. \\n ::: For comparison, the only explicit acknowledgement in the entire Amos Oz article that he is personally Jewish is in the categories!    \\n\\n \"', '\" \\n\\n It says it right there that it IS a type. The \"\"Type\"\" of institution is needed in this case because there are three levels of SUNY schools: \\n -University Centers and Doctoral Granting Institutions \\n -State Colleges \\n -Community Colleges. \\n\\n It is needed in this case to clarify that UB is a SUNY Center. It says it even in Binghamton University, University at Albany, State University of New York, and Stony Brook University. Stop trying to say it\\'s not because I am totally right in this case.\"', '\" \\n\\n == Before adding a new product to the list, make sure it\\'s relevant == \\n\\n Before adding a new product to the list, make sure it has a wikipedia entry already, \"\"proving\"\" it\\'s relevance and giving the reader the possibility to read more about it. \\n Otherwise it could be subject to deletion. See this article\\'s revision history.\"', 'this other one from 1897', '== Reason for banning throwing == \\n\\n This article needs a section on /why/ throwing is banned. At the moment, to a non-cricket fan, it seems kind of arbitrary.', '|blocked]] from editing Wikipedia.   |', '== Arabs are committing genocide in Iraq, but no protests in Europe. == \\n\\n May Europe also burn in hell.', \"How dare you vandalize that page about the HMS Beagle! Don't vandalize again, demon!\", ':Eek, but shes cute in an earthy kind of way. Cant sing for shit though. Thanks for giving me an unhappy memory.', 'what the hell are you doing', 'Being drunk made Gibson say what he really believes. The little freak is a Nazi like his father, and I hope he dies of lung cancer. Soon.', 'The true truth is that only my balls have official status in the Principality of Monaco. Stupid. \\n Warm, musky regards, \\n His Most Serene Highness Prince Scruffy Musky Coinpurse IV'], 'parameters': {}}\n"
     ]
    }
   ],
   "source": [
    "responses = api_client.invoke(inputs)\n",
    "\n",
    "# JSON(response)"
   ]
  },
  {
   "cell_type": "markdown",
   "id": "36b1b17a-5d11-4c60-92fe-d78ad8e6c0b6",
   "metadata": {},
   "source": [
    "### 4.3 Compare predicted vs original"
   ]
  },
  {
   "cell_type": "code",
   "execution_count": 11,
   "id": "d177c29c-1548-40e3-a703-5e6fe399d30f",
   "metadata": {},
   "outputs": [],
   "source": [
    "correct = 0\n",
    "in_correct = 0\n",
    "\n",
    "for i, response in enumerate(responses[\"classifications\"]):\n",
    "    # print(response[\"predictions\"])\n",
    "\n",
    "    # Using the set as order of elements don't matter\n",
    "    if set(response['predictions']) == set(labels[i]):\n",
    "        correct = correct + 1\n",
    "    else:\n",
    "        in_correct = in_correct + 1\n",
    "        # print(response['predictions'], \"   \", labels[i])"
   ]
  },
  {
   "cell_type": "code",
   "execution_count": 12,
   "id": "5ad6851d-15c9-47bc-aec4-44f25a0b48ce",
   "metadata": {},
   "outputs": [
    {
     "name": "stdout",
     "output_type": "stream",
     "text": [
      "Correct:    17\n",
      "Incorrect:  18\n",
      "Accuracy:   48 %\n"
     ]
    }
   ],
   "source": [
    "print(\"Correct:   \", correct)\n",
    "print(\"Incorrect: \", in_correct)\n",
    "\n",
    "print(\"Accuracy:  \", int((correct/(correct+in_correct))*100),\"%\")"
   ]
  },
  {
   "cell_type": "code",
   "execution_count": null,
   "id": "42ea9d0b-994b-4edf-adb1-4e26de78c038",
   "metadata": {},
   "outputs": [],
   "source": []
  }
 ],
 "metadata": {
  "kernelspec": {
   "display_name": "Python 3 (ipykernel)",
   "language": "python",
   "name": "python3"
  },
  "language_info": {
   "codemirror_mode": {
    "name": "ipython",
    "version": 3
   },
   "file_extension": ".py",
   "mimetype": "text/x-python",
   "name": "python",
   "nbconvert_exporter": "python",
   "pygments_lexer": "ipython3",
   "version": "3.12.4"
  }
 },
 "nbformat": 4,
 "nbformat_minor": 5
}
