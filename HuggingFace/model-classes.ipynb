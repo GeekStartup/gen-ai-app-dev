{
 "cells": [
  {
   "cell_type": "markdown",
   "id": "134790df-c977-4e44-9952-ae31f638f1bd",
   "metadata": {},
   "source": [
    "# Model, Config classes"
   ]
  },
  {
   "cell_type": "markdown",
   "id": "2176ba48-d5a3-42f9-85ca-5fda4604b863",
   "metadata": {},
   "source": [
    "#### Google Colab\n",
    "If you are running the code in Google colab, install the packages by uncommenting/running the cell below"
   ]
  },
  {
   "cell_type": "code",
   "execution_count": 1,
   "id": "b75d5603-1188-4fc6-8ee7-5e2eafb9fd72",
   "metadata": {},
   "outputs": [],
   "source": [
    "# !pip install transformers torch"
   ]
  },
  {
   "cell_type": "markdown",
   "id": "5079554d-c093-475d-aa0c-1483455c25a9",
   "metadata": {},
   "source": [
    "### Import appropriate model & config classes"
   ]
  },
  {
   "cell_type": "code",
   "id": "bf03720d-1028-49f0-a038-66c00145a820",
   "metadata": {
    "ExecuteTime": {
     "end_time": "2025-08-23T05:20:09.957604Z",
     "start_time": "2025-08-23T05:20:04.871930Z"
    }
   },
   "source": [
    "from transformers import BertModel, BertConfig, BertTokenizer"
   ],
   "outputs": [],
   "execution_count": 1
  },
  {
   "cell_type": "markdown",
   "id": "39f4e3bf-3110-402e-99e1-f9f0e92e0d5a",
   "metadata": {},
   "source": [
    "## 1. Config Classes\n",
    "\n",
    "Instance Creation:\n",
    "\n",
    "* from_pretrained(model_name)\n",
    "  \n",
    "* from_pretrained(Config JSON)\n",
    "\n",
    "Objective : Compare the Bert variants with the base configuration."
   ]
  },
  {
   "cell_type": "code",
   "id": "688eb66f-7ea3-482b-8fb7-70d4be09fd73",
   "metadata": {
    "ExecuteTime": {
     "end_time": "2025-08-23T05:24:22.904357Z",
     "start_time": "2025-08-23T05:24:22.580830Z"
    }
   },
   "source": [
    "# Config for the base version \n",
    "bert_base_config = BertConfig.from_pretrained('bert-base-uncased')\n",
    "bert_base_config"
   ],
   "outputs": [
    {
     "data": {
      "text/plain": [
       "BertConfig {\n",
       "  \"architectures\": [\n",
       "    \"BertForMaskedLM\"\n",
       "  ],\n",
       "  \"attention_probs_dropout_prob\": 0.1,\n",
       "  \"classifier_dropout\": null,\n",
       "  \"gradient_checkpointing\": false,\n",
       "  \"hidden_act\": \"gelu\",\n",
       "  \"hidden_dropout_prob\": 0.1,\n",
       "  \"hidden_size\": 768,\n",
       "  \"initializer_range\": 0.02,\n",
       "  \"intermediate_size\": 3072,\n",
       "  \"layer_norm_eps\": 1e-12,\n",
       "  \"max_position_embeddings\": 512,\n",
       "  \"model_type\": \"bert\",\n",
       "  \"num_attention_heads\": 12,\n",
       "  \"num_hidden_layers\": 12,\n",
       "  \"pad_token_id\": 0,\n",
       "  \"position_embedding_type\": \"absolute\",\n",
       "  \"transformers_version\": \"4.54.1\",\n",
       "  \"type_vocab_size\": 2,\n",
       "  \"use_cache\": true,\n",
       "  \"vocab_size\": 30522\n",
       "}"
      ]
     },
     "execution_count": 3,
     "metadata": {},
     "output_type": "execute_result"
    }
   ],
   "execution_count": 3
  },
  {
   "cell_type": "code",
   "id": "f6e51185-682c-4435-b04a-cb565bb6f0e1",
   "metadata": {
    "ExecuteTime": {
     "end_time": "2025-08-23T05:24:45.280575Z",
     "start_time": "2025-08-23T05:24:44.742668Z"
    }
   },
   "source": [
    "# Config for bert large variant\n",
    "bert_large_config = BertConfig.from_pretrained('bert-large-uncased')\n",
    "bert_large_config"
   ],
   "outputs": [
    {
     "data": {
      "text/plain": [
       "config.json:   0%|          | 0.00/571 [00:00<?, ?B/s]"
      ],
      "application/vnd.jupyter.widget-view+json": {
       "version_major": 2,
       "version_minor": 0,
       "model_id": "aeec06f1ef8b4bd4913999b40ba7aff3"
      }
     },
     "metadata": {},
     "output_type": "display_data"
    },
    {
     "data": {
      "text/plain": [
       "BertConfig {\n",
       "  \"architectures\": [\n",
       "    \"BertForMaskedLM\"\n",
       "  ],\n",
       "  \"attention_probs_dropout_prob\": 0.1,\n",
       "  \"classifier_dropout\": null,\n",
       "  \"gradient_checkpointing\": false,\n",
       "  \"hidden_act\": \"gelu\",\n",
       "  \"hidden_dropout_prob\": 0.1,\n",
       "  \"hidden_size\": 1024,\n",
       "  \"initializer_range\": 0.02,\n",
       "  \"intermediate_size\": 4096,\n",
       "  \"layer_norm_eps\": 1e-12,\n",
       "  \"max_position_embeddings\": 512,\n",
       "  \"model_type\": \"bert\",\n",
       "  \"num_attention_heads\": 16,\n",
       "  \"num_hidden_layers\": 24,\n",
       "  \"pad_token_id\": 0,\n",
       "  \"position_embedding_type\": \"absolute\",\n",
       "  \"transformers_version\": \"4.54.1\",\n",
       "  \"type_vocab_size\": 2,\n",
       "  \"use_cache\": true,\n",
       "  \"vocab_size\": 30522\n",
       "}"
      ]
     },
     "execution_count": 4,
     "metadata": {},
     "output_type": "execute_result"
    }
   ],
   "execution_count": 4
  },
  {
   "cell_type": "markdown",
   "id": "5b95d5c1-b9a2-4399-96d0-f99b07ea1532",
   "metadata": {},
   "source": [
    "## 2. Model classes\n",
    "\n",
    "* Create instance with BertModel.from_pretrained(model_name)\n",
    "\n",
    "* Create instance with BertModel(config instance)"
   ]
  },
  {
   "cell_type": "code",
   "id": "94b5df69-382c-4d7f-bc2a-955629384b59",
   "metadata": {
    "ExecuteTime": {
     "end_time": "2025-08-23T05:25:43.182345Z",
     "start_time": "2025-08-23T05:25:42.559633Z"
    }
   },
   "source": [
    "# Create the model class for the base\n",
    "# The checkpoint is downloaded/cached \n",
    "model = BertModel.from_pretrained('bert-base-uncased')\n",
    "\n",
    "model"
   ],
   "outputs": [
    {
     "data": {
      "text/plain": [
       "BertModel(\n",
       "  (embeddings): BertEmbeddings(\n",
       "    (word_embeddings): Embedding(30522, 768, padding_idx=0)\n",
       "    (position_embeddings): Embedding(512, 768)\n",
       "    (token_type_embeddings): Embedding(2, 768)\n",
       "    (LayerNorm): LayerNorm((768,), eps=1e-12, elementwise_affine=True)\n",
       "    (dropout): Dropout(p=0.1, inplace=False)\n",
       "  )\n",
       "  (encoder): BertEncoder(\n",
       "    (layer): ModuleList(\n",
       "      (0-11): 12 x BertLayer(\n",
       "        (attention): BertAttention(\n",
       "          (self): BertSdpaSelfAttention(\n",
       "            (query): Linear(in_features=768, out_features=768, bias=True)\n",
       "            (key): Linear(in_features=768, out_features=768, bias=True)\n",
       "            (value): Linear(in_features=768, out_features=768, bias=True)\n",
       "            (dropout): Dropout(p=0.1, inplace=False)\n",
       "          )\n",
       "          (output): BertSelfOutput(\n",
       "            (dense): Linear(in_features=768, out_features=768, bias=True)\n",
       "            (LayerNorm): LayerNorm((768,), eps=1e-12, elementwise_affine=True)\n",
       "            (dropout): Dropout(p=0.1, inplace=False)\n",
       "          )\n",
       "        )\n",
       "        (intermediate): BertIntermediate(\n",
       "          (dense): Linear(in_features=768, out_features=3072, bias=True)\n",
       "          (intermediate_act_fn): GELUActivation()\n",
       "        )\n",
       "        (output): BertOutput(\n",
       "          (dense): Linear(in_features=3072, out_features=768, bias=True)\n",
       "          (LayerNorm): LayerNorm((768,), eps=1e-12, elementwise_affine=True)\n",
       "          (dropout): Dropout(p=0.1, inplace=False)\n",
       "        )\n",
       "      )\n",
       "    )\n",
       "  )\n",
       "  (pooler): BertPooler(\n",
       "    (dense): Linear(in_features=768, out_features=768, bias=True)\n",
       "    (activation): Tanh()\n",
       "  )\n",
       ")"
      ]
     },
     "execution_count": 6,
     "metadata": {},
     "output_type": "execute_result"
    }
   ],
   "execution_count": 6
  },
  {
   "cell_type": "code",
   "id": "ec174223-ebb7-43e3-a29c-8dc9763207cc",
   "metadata": {
    "ExecuteTime": {
     "end_time": "2025-08-23T05:26:11.794393Z",
     "start_time": "2025-08-23T05:26:09.419786Z"
    }
   },
   "source": [
    "# Use bert_large_config to create the model instance\n",
    "model = BertModel(bert_large_config)\n",
    "\n",
    "model"
   ],
   "outputs": [
    {
     "data": {
      "text/plain": [
       "BertModel(\n",
       "  (embeddings): BertEmbeddings(\n",
       "    (word_embeddings): Embedding(30522, 1024, padding_idx=0)\n",
       "    (position_embeddings): Embedding(512, 1024)\n",
       "    (token_type_embeddings): Embedding(2, 1024)\n",
       "    (LayerNorm): LayerNorm((1024,), eps=1e-12, elementwise_affine=True)\n",
       "    (dropout): Dropout(p=0.1, inplace=False)\n",
       "  )\n",
       "  (encoder): BertEncoder(\n",
       "    (layer): ModuleList(\n",
       "      (0-23): 24 x BertLayer(\n",
       "        (attention): BertAttention(\n",
       "          (self): BertSdpaSelfAttention(\n",
       "            (query): Linear(in_features=1024, out_features=1024, bias=True)\n",
       "            (key): Linear(in_features=1024, out_features=1024, bias=True)\n",
       "            (value): Linear(in_features=1024, out_features=1024, bias=True)\n",
       "            (dropout): Dropout(p=0.1, inplace=False)\n",
       "          )\n",
       "          (output): BertSelfOutput(\n",
       "            (dense): Linear(in_features=1024, out_features=1024, bias=True)\n",
       "            (LayerNorm): LayerNorm((1024,), eps=1e-12, elementwise_affine=True)\n",
       "            (dropout): Dropout(p=0.1, inplace=False)\n",
       "          )\n",
       "        )\n",
       "        (intermediate): BertIntermediate(\n",
       "          (dense): Linear(in_features=1024, out_features=4096, bias=True)\n",
       "          (intermediate_act_fn): GELUActivation()\n",
       "        )\n",
       "        (output): BertOutput(\n",
       "          (dense): Linear(in_features=4096, out_features=1024, bias=True)\n",
       "          (LayerNorm): LayerNorm((1024,), eps=1e-12, elementwise_affine=True)\n",
       "          (dropout): Dropout(p=0.1, inplace=False)\n",
       "        )\n",
       "      )\n",
       "    )\n",
       "  )\n",
       "  (pooler): BertPooler(\n",
       "    (dense): Linear(in_features=1024, out_features=1024, bias=True)\n",
       "    (activation): Tanh()\n",
       "  )\n",
       ")"
      ]
     },
     "execution_count": 7,
     "metadata": {},
     "output_type": "execute_result"
    }
   ],
   "execution_count": 7
  },
  {
   "cell_type": "markdown",
   "id": "291a0279-c839-426a-9e54-225b7c7ab449",
   "metadata": {},
   "source": [
    "## 3. Tokenizer class\n",
    "\n",
    "Try out various methods:\n",
    "\n",
    "* tokenize(\"text\")\n",
    "* encode(\"text\")   :   converts to IDs of the tokens"
   ]
  },
  {
   "cell_type": "code",
   "id": "ec518e9c-4bdf-4e51-8b88-22a6702dcc4b",
   "metadata": {
    "ExecuteTime": {
     "end_time": "2025-08-23T05:26:36.431428Z",
     "start_time": "2025-08-23T05:26:33.348302Z"
    }
   },
   "source": [
    "tokenizer = BertTokenizer.from_pretrained('bert-base-uncased')"
   ],
   "outputs": [
    {
     "data": {
      "text/plain": [
       "tokenizer_config.json:   0%|          | 0.00/48.0 [00:00<?, ?B/s]"
      ],
      "application/vnd.jupyter.widget-view+json": {
       "version_major": 2,
       "version_minor": 0,
       "model_id": "846660d342f84e9cbabaa6946902d1e6"
      }
     },
     "metadata": {},
     "output_type": "display_data"
    },
    {
     "data": {
      "text/plain": [
       "vocab.txt:   0%|          | 0.00/232k [00:00<?, ?B/s]"
      ],
      "application/vnd.jupyter.widget-view+json": {
       "version_major": 2,
       "version_minor": 0,
       "model_id": "91489ed5eff342628f890a4fb45122df"
      }
     },
     "metadata": {},
     "output_type": "display_data"
    },
    {
     "data": {
      "text/plain": [
       "tokenizer.json:   0%|          | 0.00/466k [00:00<?, ?B/s]"
      ],
      "application/vnd.jupyter.widget-view+json": {
       "version_major": 2,
       "version_minor": 0,
       "model_id": "1b71bdb698cc4b3ea78173e5b2241ce1"
      }
     },
     "metadata": {},
     "output_type": "display_data"
    }
   ],
   "execution_count": 8
  },
  {
   "cell_type": "code",
   "id": "9416dca0-42f4-47fc-a3ba-c91cb61f8edf",
   "metadata": {
    "ExecuteTime": {
     "end_time": "2025-08-23T05:26:42.774170Z",
     "start_time": "2025-08-23T05:26:42.762550Z"
    }
   },
   "source": [
    "text = \"this is a test sentence\"\n",
    "\n",
    "tokenizer.tokenize(text)"
   ],
   "outputs": [
    {
     "data": {
      "text/plain": [
       "['this', 'is', 'a', 'test', 'sentence']"
      ]
     },
     "execution_count": 10,
     "metadata": {},
     "output_type": "execute_result"
    }
   ],
   "execution_count": 10
  },
  {
   "cell_type": "code",
   "id": "b0015566-74d3-4aaf-9fa2-3ea12ee17600",
   "metadata": {
    "ExecuteTime": {
     "end_time": "2025-08-23T05:26:46.806681Z",
     "start_time": "2025-08-23T05:26:46.799251Z"
    }
   },
   "source": [
    "encoded = tokenizer.encode(text)\n",
    "\n",
    "encoded"
   ],
   "outputs": [
    {
     "data": {
      "text/plain": [
       "[101, 2023, 2003, 1037, 3231, 6251, 102]"
      ]
     },
     "execution_count": 12,
     "metadata": {},
     "output_type": "execute_result"
    }
   ],
   "execution_count": 12
  },
  {
   "cell_type": "code",
   "id": "4b27b5ae-82ea-4d6d-a7be-fba3e1843538",
   "metadata": {
    "ExecuteTime": {
     "end_time": "2025-08-23T05:26:50.178206Z",
     "start_time": "2025-08-23T05:26:50.170585Z"
    }
   },
   "source": [
    "tokenizer.decode(encoded)"
   ],
   "outputs": [
    {
     "data": {
      "text/plain": [
       "'[CLS] this is a test sentence [SEP]'"
      ]
     },
     "execution_count": 14,
     "metadata": {},
     "output_type": "execute_result"
    }
   ],
   "execution_count": 14
  },
  {
   "cell_type": "code",
   "execution_count": null,
   "id": "6c7223ed-179a-4dd1-b87d-b3029834c0c2",
   "metadata": {},
   "outputs": [],
   "source": []
  }
 ],
 "metadata": {
  "kernelspec": {
   "display_name": "Python 3 (ipykernel)",
   "language": "python",
   "name": "python3"
  },
  "language_info": {
   "codemirror_mode": {
    "name": "ipython",
    "version": 3
   },
   "file_extension": ".py",
   "mimetype": "text/x-python",
   "name": "python",
   "nbconvert_exporter": "python",
   "pygments_lexer": "ipython3",
   "version": "3.11.9"
  }
 },
 "nbformat": 4,
 "nbformat_minor": 5
}
