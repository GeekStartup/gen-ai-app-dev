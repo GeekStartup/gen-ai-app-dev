{
 "cells": [
  {
   "cell_type": "markdown",
   "id": "c266e58e-0536-419b-be9c-2bd8b6415c5e",
   "metadata": {},
   "source": [
    "# Message classes\n",
    "\n",
    "#### API Reference\n",
    "https://api.python.langchain.com/en/latest/core_api_reference.html#module-langchain_core.messages\n",
    "\n"
   ]
  },
  {
   "cell_type": "markdown",
   "id": "1fa4b9f5-4f7e-4bbb-b97d-a7db138eb8da",
   "metadata": {},
   "source": [
    "## 1. Import message classes"
   ]
  },
  {
   "cell_type": "code",
   "execution_count": 1,
   "id": "09a86498-f83e-4db2-a8b4-a4fdb666a933",
   "metadata": {},
   "outputs": [],
   "source": [
    "from langchain_core.messages import HumanMessage, AIMessage, SystemMessage, ChatMessage"
   ]
  },
  {
   "cell_type": "markdown",
   "id": "f0fac3b9-350e-455d-b923-c55cdf8a4389",
   "metadata": {},
   "source": [
    "## 2. Create a messages"
   ]
  },
  {
   "cell_type": "code",
   "execution_count": 14,
   "id": "ffafd6e4-f81a-4182-8c1f-8d50ecdd89e9",
   "metadata": {},
   "outputs": [
    {
     "name": "stdout",
     "output_type": "stream",
     "text": [
      "Message type =  system\n"
     ]
    }
   ],
   "source": [
    "system_message = SystemMessage(content=\"You are a polite customer service assistant.\", id=\"1\")\n",
    "print(\"Message type = \", system_message.type)\n"
   ]
  },
  {
   "cell_type": "code",
   "execution_count": 12,
   "id": "d484ac6a-584c-46ed-8383-d26787f23268",
   "metadata": {},
   "outputs": [
    {
     "name": "stdout",
     "output_type": "stream",
     "text": [
      "Message type =  human\n"
     ]
    }
   ],
   "source": [
    "human_message = HumanMessage(content=\"Hello\", id=\"1\")\n",
    "print(\"Message type = \", human_message.type)\n"
   ]
  },
  {
   "cell_type": "code",
   "execution_count": 13,
   "id": "d7c8b036-6f59-432d-a89e-a0dafb218335",
   "metadata": {},
   "outputs": [
    {
     "name": "stdout",
     "output_type": "stream",
     "text": [
      "Message type =  ai\n"
     ]
    }
   ],
   "source": [
    "ai_message = AIMessage(content=\"Hi there !! how can I help you today?\")\n",
    "print(\"Message type = \", ai_message.type)\n"
   ]
  },
  {
   "cell_type": "markdown",
   "id": "9a20875f-8d3d-4065-a75e-5d369a399210",
   "metadata": {},
   "source": [
    "## 3. Message lists\n",
    "\n",
    "Chat models expect a list of messages as input"
   ]
  },
  {
   "cell_type": "code",
   "execution_count": 15,
   "id": "98253cba-f0f8-4340-80dd-2c1e8ac94c6a",
   "metadata": {},
   "outputs": [
    {
     "name": "stdout",
     "output_type": "stream",
     "text": [
      "================================\u001b[1m System Message \u001b[0m================================\n",
      "\n",
      "You are a polite customer service assistant.\n",
      "================================\u001b[1m Human Message \u001b[0m=================================\n",
      "\n",
      "Hello\n",
      "==================================\u001b[1m Ai Message \u001b[0m==================================\n",
      "\n",
      "Hi there !! how can I help you today?\n"
     ]
    }
   ],
   "source": [
    "messages = [\n",
    "    system_message,\n",
    "    human_message,\n",
    "    ai_message]\n",
    "\n",
    "for message in messages:\n",
    "    message.pretty_print()"
   ]
  },
  {
   "cell_type": "code",
   "execution_count": null,
   "id": "f139d140-572e-448f-8f95-eb6c57c10e0b",
   "metadata": {},
   "outputs": [],
   "source": []
  }
 ],
 "metadata": {
  "kernelspec": {
   "display_name": "Python 3 (ipykernel)",
   "language": "python",
   "name": "python3"
  },
  "language_info": {
   "codemirror_mode": {
    "name": "ipython",
    "version": 3
   },
   "file_extension": ".py",
   "mimetype": "text/x-python",
   "name": "python",
   "nbconvert_exporter": "python",
   "pygments_lexer": "ipython3",
   "version": "3.11.8"
  }
 },
 "nbformat": 4,
 "nbformat_minor": 5
}
