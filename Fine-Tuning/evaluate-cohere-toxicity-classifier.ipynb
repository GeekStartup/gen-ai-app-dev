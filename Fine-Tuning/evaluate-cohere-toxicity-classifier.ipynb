{
 "cells": [
  {
   "cell_type": "markdown",
   "id": "d225dce8-d9e8-47d9-b6e9-783069f95b13",
   "metadata": {},
   "source": [
    "# Cohere : Fine tuned model testing\n",
    "\n",
    "#### Intro to fine-tuning\n",
    "https://docs.cohere.com/docs/fine-tuning\n"
   ]
  },
  {
   "cell_type": "markdown",
   "id": "4888c826-d679-4883-bcdd-9a462bd94e20",
   "metadata": {},
   "source": [
    "## 1. Setup environment variables"
   ]
  },
  {
   "cell_type": "code",
   "execution_count": 11,
   "id": "a814d88a-f876-490b-961c-4f43711ed895",
   "metadata": {},
   "outputs": [
    {
     "data": {
      "text/plain": [
       "True"
      ]
     },
     "execution_count": 11,
     "metadata": {},
     "output_type": "execute_result"
    }
   ],
   "source": [
    "from dotenv import load_dotenv\n",
    "import os\n",
    "import sys\n",
    "import warnings\n",
    "\n",
    "# Setting path so we can access the utils folder\n",
    "sys.path.append('../')\n",
    "sys.path.append('./')\n",
    "\n",
    "from IPython.display import Markdown, JSON\n",
    "\n",
    "warnings.filterwarnings(\"ignore\")\n",
    "\n",
    "# Load the file that contains the API keys\n",
    "load_dotenv('C:\\\\Users\\\\raj\\\\.jupyter\\\\.env')"
   ]
  },
  {
   "cell_type": "markdown",
   "id": "ece4a8ef-2bd3-4b29-890a-fce452bd648f",
   "metadata": {},
   "source": [
    "## 2. Utility class\n",
    "Invocation of the fine-tuned model"
   ]
  },
  {
   "cell_type": "code",
   "execution_count": 12,
   "id": "43d938a1-331b-4f8f-9729-72111522dcac",
   "metadata": {},
   "outputs": [
    {
     "ename": "SyntaxError",
     "evalue": "parameter without a default follows parameter with a default (1846510831.py, line 25)",
     "output_type": "error",
     "traceback": [
      "\u001b[1;36m  Cell \u001b[1;32mIn[12], line 25\u001b[1;36m\u001b[0m\n\u001b[1;33m    def  __init__(self, api_url=\"https://api.cohere.com/v2/classify\", model, api_key=None):\u001b[0m\n\u001b[1;37m                                                                      ^\u001b[0m\n\u001b[1;31mSyntaxError\u001b[0m\u001b[1;31m:\u001b[0m parameter without a default follows parameter with a default\n"
     ]
    }
   ],
   "source": [
    "# Use the model API endpoint to invoke the model\n",
    "# https://huggingface.co/docs/api-inference/detailed_parameters#text-generation-task\n",
    "# Note:\n",
    "# If the requested model is not loaded in memory, the Serverless Inference API will start by loading the model into memory and returning a 503 response, before it # can respond with the prediction.\n",
    "# Invocation parameters\n",
    "#  - String input & output\n",
    "#  - Task specific\n",
    "#\n",
    "\n",
    "import requests\n",
    "import getpass\n",
    "import os\n",
    "\n",
    "class cohere_rest_client:\n",
    "    # Holds the model to be invoked\n",
    "    model = \"\"\n",
    "\n",
    "    # Holds api URL\n",
    "    api_url = \"\"\n",
    "    \n",
    "    # Holds the API token\n",
    "    COHERE_API_KEY=\"\"\n",
    "\n",
    "    # Initialize\n",
    "    def  __init__(self, api_url=\"https://api.cohere.com/v2/classify\", model, api_key=None):\n",
    "        self.api_url = api_url\n",
    "        self.model = model\n",
    "\n",
    "        # Check if API token is provided, if not then check env, if not ask for it\n",
    "        if not api_key:\n",
    "            self.COHERE_API_KEY=os.getenv('COHERE_API_KEY')\n",
    "            if not self.COHERE_API_KEY:\n",
    "                print(\"Provide the COHERE_API_KEY:\")\n",
    "                self.COHERE_API_KEY=getpass.getpass()\n",
    "        else:\n",
    "            self.COHERE_API_KEY=api_key\n",
    "\n",
    "    # Returns the model's API URL\n",
    "    def get_model_url(self):\n",
    "        return self.api_url\n",
    "\n",
    "    # Invoke function\n",
    "    def invoke(self, inputs, parameters = {}, options={}):\n",
    "\n",
    "        # Setup header with API token\n",
    "        headers = {\n",
    "            \"Authorization\": f\"Bearer {self.COHERE_API_KEY}\",\n",
    "            \"Content-Type\": \"application/json\"\n",
    "        }\n",
    "        \n",
    "\n",
    "        # Create the payload JSON\n",
    "        payload =  {\n",
    "            \"model\": self.model,\n",
    "            \"inputs\": inputs,\n",
    "            \"parameters\": parameters\n",
    "        }\n",
    "\n",
    "        # print(payload)\n",
    "\n",
    "        # Post to the model URL\n",
    "        response = requests.post(self.api_url, headers=headers, json=payload)\n",
    "\n",
    "        # Check for errors\n",
    "        if response.status_code != 200:\n",
    "            # error !!\n",
    "            return {\n",
    "                \"status_code\": response.status_code,\n",
    "                \"reason\" : response.reason,\n",
    "                \"error\": True\n",
    "            }\n",
    "        else:\n",
    "            # Return response as JSON\n",
    "            return response.json()\n"
   ]
  },
  {
   "cell_type": "markdown",
   "id": "0e23a085-2846-4635-a215-5b97c5b43c43",
   "metadata": {},
   "source": [
    "## 3. Unit test the utility"
   ]
  },
  {
   "cell_type": "code",
   "execution_count": 5,
   "id": "4d0a5566-8970-4f6e-9007-504b828d8680",
   "metadata": {},
   "outputs": [],
   "source": [
    "# \n",
    "cohere_api_url = \"https://api.cohere.com/v2/classify\"\n",
    "\n",
    "model = \"862c41b7-55c7-4625-98ad-426ca1d295b3-ft\"\n",
    "\n",
    "api_client = cohere_rest_client(model=model, api_url=cohere_api_url)"
   ]
  },
  {
   "cell_type": "code",
   "execution_count": 9,
   "id": "6672570a-7320-49dc-b72b-830df81096c0",
   "metadata": {},
   "outputs": [
    {
     "data": {
      "application/json": {
       "classifications": [
        {
         "classification_type": "multi-label",
         "confidences": [
          0.9928231
         ],
         "id": "5b47152c-5ddb-4299-be80-424b92b5f871",
         "input": "i like you",
         "labels": {
          "identity_hate": {
           "confidence": 0.010902374
          },
          "insult": {
           "confidence": 0.34466398
          },
          "severe_toxic": {
           "confidence": 0.00094730896
          },
          "threat": {
           "confidence": 0.13341522
          },
          "toxic": {
           "confidence": 0.9928231
          }
         },
         "predictions": [
          "toxic"
         ]
        }
       ],
       "id": "35086b5f-5044-43e1-9ba5-aab53dad9d0c",
       "meta": {
        "api_version": {
         "version": "2"
        },
        "billed_units": {
         "classifications": 1
        }
       }
      },
      "text/plain": [
       "<IPython.core.display.JSON object>"
      ]
     },
     "execution_count": 9,
     "metadata": {
      "application/json": {
       "expanded": false,
       "root": "root"
      }
     },
     "output_type": "execute_result"
    }
   ],
   "source": [
    "from IPython.display import Markdown, JSON\n",
    "\n",
    "inputs = [\n",
    "    \"i like you\"\n",
    "]\n",
    "\n",
    "response = api_client.invoke(inputs)\n",
    "\n",
    "JSON(response)"
   ]
  },
  {
   "cell_type": "code",
   "execution_count": null,
   "id": "f292b465-fc3d-452b-956c-abfb99f8b213",
   "metadata": {},
   "outputs": [],
   "source": []
  }
 ],
 "metadata": {
  "kernelspec": {
   "display_name": "Python 3 (ipykernel)",
   "language": "python",
   "name": "python3"
  },
  "language_info": {
   "codemirror_mode": {
    "name": "ipython",
    "version": 3
   },
   "file_extension": ".py",
   "mimetype": "text/x-python",
   "name": "python",
   "nbconvert_exporter": "python",
   "pygments_lexer": "ipython3",
   "version": "3.12.4"
  }
 },
 "nbformat": 4,
 "nbformat_minor": 5
}
