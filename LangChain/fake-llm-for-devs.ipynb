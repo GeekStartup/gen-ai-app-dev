{
 "cells": [
  {
   "cell_type": "markdown",
   "id": "36d5cf52-b57c-4aef-a558-0aeb33981186",
   "metadata": {},
   "source": [
    "# Fake LLM\n",
    "\n",
    "https://api.python.langchain.com/en/stable/llms/langchain_community.llms.fake.FakeListLLM.html#langchain_community.llms.fake.FakeListLLM\n",
    "\n",
    "Use at development time to save on the costs.\n"
   ]
  },
  {
   "cell_type": "code",
   "execution_count": 1,
   "id": "4d3dae4b-4a35-4a57-a4e5-b1dbf3d5bbaf",
   "metadata": {},
   "outputs": [],
   "source": [
    "from langchain_community.llms.fake import FakeListLLM\n",
    "from langchain.prompts import PromptTemplate\n",
    "from langchain.chains import SimpleSequentialChain, LLMChain"
   ]
  },
  {
   "cell_type": "markdown",
   "id": "32c71ca0-64f1-4e0f-99c0-a261f0747fdd",
   "metadata": {},
   "source": [
    "## 1. Setup the Fake LLM"
   ]
  },
  {
   "cell_type": "code",
   "execution_count": 2,
   "id": "b98f5f5f-e860-4ff6-95ac-302b492df190",
   "metadata": {},
   "outputs": [],
   "source": [
    "# Random responses sent by the LLM\n",
    "fake_responses = [\n",
    "    \"this is a fake response 1\",\n",
    "    \"this is a fake response 2\",\n",
    "]\n",
    "\n",
    "llm = FakeListLLM(responses=fake_responses)"
   ]
  },
  {
   "cell_type": "code",
   "execution_count": 3,
   "id": "b0ce125e-6474-4e73-b369-1cbca8adb5cd",
   "metadata": {},
   "outputs": [
    {
     "data": {
      "text/plain": [
       "'this is a fake response 1'"
      ]
     },
     "execution_count": 3,
     "metadata": {},
     "output_type": "execute_result"
    }
   ],
   "source": [
    "# Quick test to see if it is working\n",
    "llm.invoke(\"give whatever\")"
   ]
  },
  {
   "cell_type": "markdown",
   "id": "04384905-6221-4ff2-8eec-a9001db5d420",
   "metadata": {},
   "source": [
    "## 2. Create 2 chains with 2 Fake LLM"
   ]
  },
  {
   "cell_type": "code",
   "execution_count": 4,
   "id": "02943273-28ba-4a42-a931-92287a423717",
   "metadata": {},
   "outputs": [],
   "source": [
    "llm_1 = FakeListLLM(responses=[fake_responses[0]])\n",
    "llm_2 = FakeListLLM(responses=[fake_responses[1]])"
   ]
  },
  {
   "cell_type": "code",
   "execution_count": 5,
   "id": "51b1a919-b30b-4769-8b04-b1f637b8a13f",
   "metadata": {},
   "outputs": [],
   "source": [
    "# Chain 1\n",
    "\n",
    "prompt_template_1 = PromptTemplate(\n",
    "    template = \"Fake Input : {input-1}\",\n",
    "    input_variables = ['input-1']\n",
    ")\n",
    "\n",
    "llm_chain_1 = LLMChain(\n",
    "    prompt = prompt_template_1,\n",
    "    llm = llm_1\n",
    ")"
   ]
  },
  {
   "cell_type": "code",
   "execution_count": 6,
   "id": "a08ec19c-1abc-4185-85ae-b69d43b9815c",
   "metadata": {},
   "outputs": [],
   "source": [
    "# Chain 2\n",
    "\n",
    "prompt_template_2 = PromptTemplate(\n",
    "    template = \"Fake Input : {input-2}\",\n",
    "    input_variables = ['input-2']\n",
    ")\n",
    "\n",
    "llm_chain_2 = LLMChain(\n",
    "    prompt = prompt_template_2,\n",
    "    llm = llm_2\n",
    ")"
   ]
  },
  {
   "cell_type": "markdown",
   "id": "7ff41eb7-5ebd-4dfc-bbea-967fee8826ec",
   "metadata": {},
   "source": [
    "## 3. Create the SimpleSequentialChain"
   ]
  },
  {
   "cell_type": "code",
   "execution_count": 9,
   "id": "94456b79-d50d-4a42-84b0-93c49f0e9d59",
   "metadata": {},
   "outputs": [],
   "source": [
    "simple_sequential_chain = SimpleSequentialChain(\n",
    "    chains = [llm_chain_1, llm_chain_2]\n",
    ")"
   ]
  },
  {
   "cell_type": "code",
   "execution_count": 8,
   "id": "fe65cbb6-1349-435f-a73f-fedd1123b643",
   "metadata": {},
   "outputs": [
    {
     "data": {
      "text/plain": [
       "{'input': \"doesn't matter\", 'output': 'this is a fake response 2'}"
      ]
     },
     "execution_count": 8,
     "metadata": {},
     "output_type": "execute_result"
    }
   ],
   "source": [
    "# Invoke to test\n",
    "\n",
    "simple_sequential_chain.invoke(\"doesn't matter\")"
   ]
  },
  {
   "cell_type": "code",
   "execution_count": null,
   "id": "da8ce0e5-92bc-4f29-9b51-dc51f6d9a9b5",
   "metadata": {},
   "outputs": [],
   "source": []
  }
 ],
 "metadata": {
  "kernelspec": {
   "display_name": "Python 3 (ipykernel)",
   "language": "python",
   "name": "python3"
  },
  "language_info": {
   "codemirror_mode": {
    "name": "ipython",
    "version": 3
   },
   "file_extension": ".py",
   "mimetype": "text/x-python",
   "name": "python",
   "nbconvert_exporter": "python",
   "pygments_lexer": "ipython3",
   "version": "3.11.7"
  }
 },
 "nbformat": 4,
 "nbformat_minor": 5
}
