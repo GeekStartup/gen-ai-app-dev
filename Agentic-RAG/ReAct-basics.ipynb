{
 "cells": [
  {
   "cell_type": "markdown",
   "id": "9460b105-6c79-43f3-838d-b2a9df025e90",
   "metadata": {},
   "source": [
    "# ReAct basics\n",
    "\n",
    "https://react-lm.github.io/\n",
    "\n",
    "https://arxiv.org/pdf/2210.03629"
   ]
  },
  {
   "cell_type": "markdown",
   "id": "c00ce250-e2c8-4cbb-b08d-76b81ab6d557",
   "metadata": {},
   "source": [
    "## Setup LLM"
   ]
  },
  {
   "cell_type": "code",
   "execution_count": 1,
   "id": "1f4c2585-bc05-49ba-9be4-b18b90ad5a69",
   "metadata": {},
   "outputs": [],
   "source": [
    "from dotenv import load_dotenv\n",
    "import sys\n",
    "import json\n",
    "\n",
    "from langchain.prompts import PromptTemplate\n",
    "\n",
    "# Load the file that contains the API keys - OPENAI_API_KEY\n",
    "load_dotenv('C:\\\\Users\\\\raj\\\\.jupyter\\\\.env')\n",
    "\n",
    "# setting path\n",
    "sys.path.append('../')\n",
    "\n",
    "from utils.create_chat_llm import create_gpt_chat_llm, create_cohere_chat_llm, create_anthropic_chat_llm\n",
    "from utils.create_llm import create_cohere_llm, create_gpt_llm\n",
    "\n",
    "# Try with GPT\n",
    "llm = create_gpt_chat_llm({\"temperature\":0.1}) #, \"model_kwargs\":{\"top_p\":0.1}})"
   ]
  },
  {
   "cell_type": "markdown",
   "id": "cd2932a1-3332-428d-aa4d-f5dd35dff416",
   "metadata": {},
   "source": [
    "## Select a question from HotPotQA\n",
    "\n",
    "https://hotpotqa.github.io/explorer.html"
   ]
  },
  {
   "cell_type": "code",
   "execution_count": 2,
   "id": "543242e3-24cf-40dd-880d-1510d83a8650",
   "metadata": {},
   "outputs": [],
   "source": [
    "question = \" Are both Superdrag and Collective Soul rock bands?\""
   ]
  },
  {
   "cell_type": "markdown",
   "id": "7ebc2939-5411-40b8-bb91-bcfbf756c48f",
   "metadata": {},
   "source": [
    "## 1. Try with Chain of Thought (CoT)\n",
    "\n",
    "Doesn't interact with the environment. Responses are solely based on LLM's parametric knowledge."
   ]
  },
  {
   "cell_type": "code",
   "execution_count": 3,
   "id": "1dc198a7-718d-4a42-ae6d-b62d5013d1fc",
   "metadata": {},
   "outputs": [
    {
     "name": "stdout",
     "output_type": "stream",
     "text": [
      "1. Superdrag is a rock band.\n",
      "2. Collective Soul is also a rock band.\n",
      "3. Therefore, both Superdrag and Collective Soul are rock bands.\n"
     ]
    }
   ],
   "source": [
    "\n",
    "question_str= f\"\"\"\n",
    "Answer the question:\n",
    "\n",
    "{question}\n",
    "\n",
    "Think step by step.\n",
    "\"\"\"\n",
    "\n",
    "response = llm.invoke(question_str.format(question))\n",
    "\n",
    "print(response.content)"
   ]
  },
  {
   "cell_type": "markdown",
   "id": "4ef660af-0a91-4d94-bb20-2dc202f9cfa9",
   "metadata": {},
   "source": [
    "## 2. Try out tool calling agent\n",
    "\n",
    "https://python.langchain.com/v0.1/docs/integrations/tools/wikipedia/\n"
   ]
  },
  {
   "cell_type": "code",
   "execution_count": 4,
   "id": "c3aef109-2fcf-4e69-bd80-1a5e8bdccb48",
   "metadata": {},
   "outputs": [],
   "source": [
    "from langchain_core.prompts import PromptTemplate, ChatPromptTemplate\n",
    "from langchain.agents import AgentExecutor, create_tool_calling_agent, create_react_agent\n",
    "from langchain.tools import WikipediaQueryRun\n",
    "from langchain_community.utilities import WikipediaAPIWrapper\n",
    "\n",
    "system_message = \"\"\"\n",
    "You are a polite agent who uses tools to answer questions.\n",
    "\n",
    "Keep the answer concise.\n",
    "\"\"\"\n",
    "\n",
    "prompt = ChatPromptTemplate.from_messages([\n",
    "    (\"system\", system_message),\n",
    "    (\"human\", \"answer the question: {question}\"),\n",
    "    (\"placeholder\", \"{agent_scratchpad}\"),\n",
    "])\n"
   ]
  },
  {
   "cell_type": "markdown",
   "id": "b7817d83-d633-4d5b-b83d-cb7099ca8bdd",
   "metadata": {},
   "source": [
    "## 3. ReAct agent\n",
    "\n",
    "https://api.python.langchain.com/en/latest/agents/langchain.agents.react.agent.create_react_agent.html\n",
    "\n",
    "Prompt source: https://smith.langchain.com/hub/hwchase17/react"
   ]
  },
  {
   "cell_type": "code",
   "execution_count": 30,
   "id": "7b4dfcae-94bb-4127-b67f-6be4a836428b",
   "metadata": {},
   "outputs": [],
   "source": [
    "question = \"SR connector is based on the connector that is often used for what type of cable?\"\n",
    "\n",
    "prompt_template = \"\"\"\n",
    "Answer the following questions as best you can. You have access to the following tools:\n",
    "\n",
    "{tools}\n",
    "\n",
    "Use the following format:\n",
    "\n",
    "Question: the input question you must answer\n",
    "\n",
    "Thought: you should always think about what to do\n",
    "\n",
    "Action: the action to take, should be one of [{tool_names}]\n",
    "\n",
    "Action Input: the input to the action\n",
    "\n",
    "Observation: the result of the action\n",
    "\n",
    "... (this Thought/Action/Action Input/Observation can repeat N times)\n",
    "\n",
    "Thought: I now know the final answer\n",
    "\n",
    "Final Answer: the final answer to the original input question\n",
    "\n",
    "Here are some examples:\n",
    "{examples}\n",
    "\n",
    "Begin!\n",
    "\n",
    "Question: {question}\n",
    "\n",
    "Thought:{agent_scratchpad}\n",
    "\"\"\"\n",
    "\n",
    "prompt = PromptTemplate(\n",
    "    template = prompt_template,\n",
    "    input_variables = [\"tools\", \"question\", \"examples\", \"agent_scratchpad\"]\n",
    ")"
   ]
  },
  {
   "cell_type": "code",
   "execution_count": 49,
   "id": "d646844d-9ad8-4ef2-8a47-829290836b2f",
   "metadata": {},
   "outputs": [
    {
     "name": "stdout",
     "output_type": "stream",
     "text": [
      "\n",
      "\n",
      "\u001b[1m> Entering new AgentExecutor chain...\u001b[0m\n",
      "\u001b[32;1m\u001b[1;3mI need to find out what type of cable the SR connector is often used for.\n",
      "\n",
      "Action: wikipedia\n",
      "Action Input: SR connector\u001b[0m\u001b[36;1m\u001b[1;3mPage: SR connector\n",
      "Summary: The SR connector or CP connector (Russian: Соединитель Радиочастотный, 'radio frequency connector') is a Russian-made radio frequency connector for coaxial cables. It is based on the American BNC connector. Types with an American equivalent have slightly different dimensions due to discrepancies in imperial to metric conversion, though with some force the two can still be mated. There are other types which do not resemble their American counterpart.\n",
      "Most SR connectors are variants of SR-50 (50 Ω) or SR-75 (75 Ω) versions, with the SR-75 typically having a thinner center pin. They often resemble C connectors in shape, and have threaded inserts similar to N connectors. Further numerical suffixes denote specific kinds of connectors, for instance the CP 75-164 is a much larger high power connector, designed for upwards of 3000W, with a similar appearance to an N or UHF type. The various letters after the number refer to the dielectric material used.\n",
      "Below is a breakdown of the various suffixes used in the order they would appear:\n",
      "\n",
      "Page: JST connector\n",
      "Summary: JST connectors are electrical connectors manufactured to the design standards originally developed by J.S.T. Mfg. Co. (Japan Solderless Terminal).  JST manufactures numerous series (families) and pitches (pin-to-pin distance) of connectors.\n",
      "JST connectors are used in many types of products, and commonly used by electronics hobbyists and consumer products for rechargeable battery packs, battery balancers, battery eliminator circuits, 3D printers, and radio controlled servos.\n",
      "The term \"JST\" is sometimes incorrectly used as a vernacular term meaning any small white electrical connector mounted on PCBs.\n",
      "\n",
      "Page: BNC connector\n",
      "Summary: The BNC connector (initialism of \"Bayonet Neill–Concelman\") is a miniature quick connect/disconnect radio frequency connector used for coaxial cable. It is designed to maintain the same characteristic impedance of the cable, with 50 ohm and 75 ohm types being made. It is usually applied for video and radio frequency connections up to about 2 GHz and up to 500 volts. The connector has a twist to lock design with two lugs in the female portion of the connector engaging a slot in the shell of the male portion. The type was introduced on military radio equipment in the 1940s and has since become widely applied in radio systems, and is a common type of video connector. Similar radio-frequency connectors differ in dimensions and attachment features, and may allow for higher voltages, higher frequencies, or three-wire connections.\u001b[0m\u001b[32;1m\u001b[1;3mI need to find out what type of cable the BNC connector is often used for.\n",
      "\n",
      "Action: wikipedia\n",
      "Action Input: BNC connector\u001b[0m\u001b[36;1m\u001b[1;3mPage: BNC connector\n",
      "Summary: The BNC connector (initialism of \"Bayonet Neill–Concelman\") is a miniature quick connect/disconnect radio frequency connector used for coaxial cable. It is designed to maintain the same characteristic impedance of the cable, with 50 ohm and 75 ohm types being made. It is usually applied for video and radio frequency connections up to about 2 GHz and up to 500 volts. The connector has a twist to lock design with two lugs in the female portion of the connector engaging a slot in the shell of the male portion. The type was introduced on military radio equipment in the 1940s and has since become widely applied in radio systems, and is a common type of video connector. Similar radio-frequency connectors differ in dimensions and attachment features, and may allow for higher voltages, higher frequencies, or three-wire connections.\n",
      "\n",
      "Page: VGA connector\n",
      "Summary: The Video Graphics Array (VGA) connector is a standard connector used for computer video output. Originating with the 1987 IBM PS/2 and its VGA graphics system, the 15-pin connector went on to become ubiquitous on PCs, as well as many monitors, projectors and HD television sets.\n",
      "Other connectors have been used to carry VGA-compatible signals, such as mini-VGA or BNC, but \"VGA connector\" typically refers to this design.\n",
      "Devices continue to be manufactured with VGA connectors, although newer digital interfaces such as DVI, HDMI and DisplayPort are increasingly displacing VGA, and many modern computers and other devices do not include it.\n",
      "\n",
      "Page: UHF connector\n",
      "Summary: The UHF connector is a name for a threaded RF connector. \n",
      "The connector design was invented in the 1930s for use in the radio industry, and is a shielded form of the \"banana plug\". It is a widely used standard connector for HF transmission lines on full-sized radio equipment, with BNC connectors predominating for smaller, hand-held equipment.\n",
      "The name \"UHF\" is a source of confusion, since the name of the connectors did not change when the frequency ranges were renamed. The design was named during an era when \"UHF\" meant frequencies over 30 MHz. Today, Ultra high frequency (UHF) instead refers to frequencies between 300 MHz and 3 GHz and the range of frequencies formerly known as UHF is now called \"VHF\".\n",
      "Unlike modern connector designs that replaced it, no active specification or standard exists to govern the mechanical and electrical characteristics of the so-called \"UHF\" connector system making it effectively a deprecated design with no guarantee for suitability to an electrical or mechanical purpose.. Evidence of inconsistency exists. Testing reveals post WWII connectors designs, such as N connector and BNC connector are electrically superior to the 'UHF' connector for modern UHF frequencies. Other testing reveals one UHF connector sample shows negligible effect on frequencies up to 435 MHz.\u001b[0m\u001b[32;1m\u001b[1;3mI need to find out what type of cable the VGA connector is often used for.\n",
      "\n",
      "Action: wikipedia\n",
      "Action Input: VGA connector\u001b[0m\u001b[36;1m\u001b[1;3mPage: VGA connector\n",
      "Summary: The Video Graphics Array (VGA) connector is a standard connector used for computer video output. Originating with the 1987 IBM PS/2 and its VGA graphics system, the 15-pin connector went on to become ubiquitous on PCs, as well as many monitors, projectors and HD television sets.\n",
      "Other connectors have been used to carry VGA-compatible signals, such as mini-VGA or BNC, but \"VGA connector\" typically refers to this design.\n",
      "Devices continue to be manufactured with VGA connectors, although newer digital interfaces such as DVI, HDMI and DisplayPort are increasingly displacing VGA, and many modern computers and other devices do not include it.\n",
      "\n",
      "Page: Video Graphics Array\n",
      "Summary: Video Graphics Array (VGA) is a video display controller and accompanying de facto graphics standard, first introduced with the IBM PS/2 line of computers in 1987, which became ubiquitous in the IBM PC compatible industry within three years. The term can now refer to the computer display standard, the 15-pin D-subminiature VGA connector, or the 640 × 480 resolution characteristic of the VGA hardware.\n",
      "VGA was the last IBM graphics standard to which the majority of IBM PC compatible computer manufacturers conformed, making it the lowest common denominator that virtually all post-1990 PC graphics hardware can be expected to implement.\n",
      "VGA was adapted into many extended forms by third parties, collectively known as Super VGA, then gave way to custom graphics processing units which, in addition to their proprietary interfaces and capabilities, continue to implement common VGA graphics modes and interfaces to the present day.\n",
      "The VGA analog interface standard has been extended to support resolutions of up to 2048 × 1536 for general usage, with specialized applications improving it further still.\n",
      "\n",
      "\n",
      "\n",
      "Page: Mini-VGA\n",
      "Summary: Mini-VGA connectors are proprietary and non-standard alternative video connectors that were used on some laptops and other computer systems in place of a standard VGA connector. Apple, HP, and Asus each introduced separate connectors using the same moniker of \"mini-VGA\", but which are otherwise physically incompatible with each other (though all of them are compatible with standard VGA using the correct adapter).\n",
      "Apple's mini-VGA ports may be found on some older Apple computers, including iBooks, eMacs, certain PowerBooks (e.g.: 12-inch), and some iMacs (e.g.: the iMac G5). In addition to a more compact form-factor, Apple's mini-VGA ports also have the added ability to output composite as well as S-Video, in addition to VGA signals, through the use of EDID. When used for S-Video, S-Video's chrominance (C) and luminance (Y) signals replace VGA's red (R) and green (G) channels, while for composite video, the signal is output through VGA's blue (B) channel. (The horizontal and vertical sync pins of VGA are left unused.)\n",
      "HP's version of mini-VGA can be found in HP Minis and HP TouchSmarts. Samsung Chromebooks, as released in June 2011, feature their own implementation of mini-VGA. Various other Samsung laptops, such as the Series 7 and Series 9, also featured this new connector. Mini-VGA ports can also be found on several laptops previously manufactured by Sony.\n",
      "With the introduction of mini-DVI, as well as Mini DisplayPort, mini-VGA connectors were largely superseded in favor of these newer, more versatile connector types.\u001b[0m\u001b[32;1m\u001b[1;3mI need to find out what type of cable the Mini-VGA connector is often used for.\n",
      "\n",
      "Action: wikipedia\n",
      "Action Input: Mini-VGA connector\u001b[0m\u001b[36;1m\u001b[1;3mPage: VGA connector\n",
      "Summary: The Video Graphics Array (VGA) connector is a standard connector used for computer video output. Originating with the 1987 IBM PS/2 and its VGA graphics system, the 15-pin connector went on to become ubiquitous on PCs, as well as many monitors, projectors and HD television sets.\n",
      "Other connectors have been used to carry VGA-compatible signals, such as mini-VGA or BNC, but \"VGA connector\" typically refers to this design.\n",
      "Devices continue to be manufactured with VGA connectors, although newer digital interfaces such as DVI, HDMI and DisplayPort are increasingly displacing VGA, and many modern computers and other devices do not include it.\n",
      "\n",
      "Page: Mini-VGA\n",
      "Summary: Mini-VGA connectors are proprietary and non-standard alternative video connectors that were used on some laptops and other computer systems in place of a standard VGA connector. Apple, HP, and Asus each introduced separate connectors using the same moniker of \"mini-VGA\", but which are otherwise physically incompatible with each other (though all of them are compatible with standard VGA using the correct adapter).\n",
      "Apple's mini-VGA ports may be found on some older Apple computers, including iBooks, eMacs, certain PowerBooks (e.g.: 12-inch), and some iMacs (e.g.: the iMac G5). In addition to a more compact form-factor, Apple's mini-VGA ports also have the added ability to output composite as well as S-Video, in addition to VGA signals, through the use of EDID. When used for S-Video, S-Video's chrominance (C) and luminance (Y) signals replace VGA's red (R) and green (G) channels, while for composite video, the signal is output through VGA's blue (B) channel. (The horizontal and vertical sync pins of VGA are left unused.)\n",
      "HP's version of mini-VGA can be found in HP Minis and HP TouchSmarts. Samsung Chromebooks, as released in June 2011, feature their own implementation of mini-VGA. Various other Samsung laptops, such as the Series 7 and Series 9, also featured this new connector. Mini-VGA ports can also be found on several laptops previously manufactured by Sony.\n",
      "With the introduction of mini-DVI, as well as Mini DisplayPort, mini-VGA connectors were largely superseded in favor of these newer, more versatile connector types.\n",
      "\n",
      "Page: Mini-DVI\n",
      "Summary: The Mini-DVI connector is used on certain Apple computers as a digital alternative to the Mini-VGA connector. Its size is between the full-sized DVI and the tiny Micro-DVI. It is found on the 12-inch PowerBook G4 (except the original 12-inch 867 MHz PowerBook G4, which used Mini-VGA), the Intel-based iMac, the MacBook Intel-based laptop, the Intel-based Xserve, the 2009 Mac mini, and some late model eMacs.\n",
      "In October 2008, Apple announced the company was phasing Mini-DVI out in favor of Mini DisplayPort.\n",
      "Mini-DVI connectors on Apple hardware are capable of carrying DVI, VGA, or TV signals through the use of adapters, detected with EDID (Extended display identification data) via DDC. This connector is often used in place of a DVI connector in order to save physical space on devices. Mini-DVI does not support dual-link connections and hence cannot support resolutions higher than 1920×1200 @60 Hz.\n",
      "There are various types of Mini-DVI adapter:\n",
      "\n",
      "Apple Mini-DVI to VGA Adapter Apple part number M9320G/A (discontinued)\n",
      "Apple Mini-DVI to Video Adapter Apple part number M9319G/A, provided both S-Video and Composite video connectors (discontinued)\n",
      "Apple Mini-DVI to DVI Adapter (DVI-D) Apple part number M9321G/B (discontinued)\n",
      "Non-OEM Mini-DVI to HDMI adapters are also available at online stores such as eBay and Amazon, and from some retail stores, but were not sold by Apple.\n",
      "The physical connector is similar to Mini-VGA, but is differentiated by having four rows of pins arranged in two vertically stacked slots rather than the two rows of pins in the Mini-VGA.\n",
      "Connecting to a DVI-I connector requires a Mini-DVI to DVI-D cable plus a DVI-D to DVI-I adapter.\u001b[0m\u001b[32;1m\u001b[1;3mI need to find out what type of cable the Mini-DVI connector is often used for.\n",
      "\n",
      "Action: wikipedia\n",
      "Action Input: Mini-DVI connector\u001b[0m\u001b[36;1m\u001b[1;3mPage: Mini-DVI\n",
      "Summary: The Mini-DVI connector is used on certain Apple computers as a digital alternative to the Mini-VGA connector. Its size is between the full-sized DVI and the tiny Micro-DVI. It is found on the 12-inch PowerBook G4 (except the original 12-inch 867 MHz PowerBook G4, which used Mini-VGA), the Intel-based iMac, the MacBook Intel-based laptop, the Intel-based Xserve, the 2009 Mac mini, and some late model eMacs.\n",
      "In October 2008, Apple announced the company was phasing Mini-DVI out in favor of Mini DisplayPort.\n",
      "Mini-DVI connectors on Apple hardware are capable of carrying DVI, VGA, or TV signals through the use of adapters, detected with EDID (Extended display identification data) via DDC. This connector is often used in place of a DVI connector in order to save physical space on devices. Mini-DVI does not support dual-link connections and hence cannot support resolutions higher than 1920×1200 @60 Hz.\n",
      "There are various types of Mini-DVI adapter:\n",
      "\n",
      "Apple Mini-DVI to VGA Adapter Apple part number M9320G/A (discontinued)\n",
      "Apple Mini-DVI to Video Adapter Apple part number M9319G/A, provided both S-Video and Composite video connectors (discontinued)\n",
      "Apple Mini-DVI to DVI Adapter (DVI-D) Apple part number M9321G/B (discontinued)\n",
      "Non-OEM Mini-DVI to HDMI adapters are also available at online stores such as eBay and Amazon, and from some retail stores, but were not sold by Apple.\n",
      "The physical connector is similar to Mini-VGA, but is differentiated by having four rows of pins arranged in two vertically stacked slots rather than the two rows of pins in the Mini-VGA.\n",
      "Connecting to a DVI-I connector requires a Mini-DVI to DVI-D cable plus a DVI-D to DVI-I adapter.\n",
      "\n",
      "Page: Mini DisplayPort\n",
      "Summary: The Mini DisplayPort (MiniDP or mDP) is a miniaturized version of the DisplayPort audio-visual digital interface.\n",
      "It was announced by Apple in October 2008, and by early 2013 all new Apple Macintosh computers had Mini DisplayPort, as did the LED Cinema Display. However, in 2016 Apple began phasing out the port and replacing it with the new USB-C connector. The Mini DisplayPort is also fitted to some PC motherboards, video cards, and some PC notebooks from Asus, Microsoft, MSI, Lenovo, Toshiba, HP, Dell, and other manufacturers.\n",
      "Apple offers a free license for the Mini DisplayPort but they reserve the right to cancel the license should the licensee \"commence an action for patent infringement against Apple\".\n",
      "\n",
      "Page: Micro-DVI\n",
      "Summary: The Micro-DVI port is a proprietary video output port introduced on the original MacBook Air in 2008. It is smaller than the Mini-DVI port used by its MacBook models.\n",
      "To use the port for displaying video on a standard monitor or television, an adapter must be used. Both a Micro-DVI to DVI adapter and a Micro-DVI to VGA adapter were bundled with the original MacBook Air. A Micro-DVI to Video adapter, which provided composite and S-video outputs, was also sold separately. The Micro-DVI to DVI adapter is only compatible with a DVI-D (digital) signal; DVI-A and DVI-I signals do not work as they do not have the required analog connections.\n",
      "The Micro-DVI connector was replaced with the Mini DisplayPort connector starting with the Late 2008 MacBook Air, making it one of the shortest lived connectors created by Apple.\n",
      "Additionally, the Asus U2E subnotebook includes a \"Micro-DVI\" port, which unlike the Apple version has the same form factor as HDMI.\n",
      "Although it is electrically compatible with HDMI, it does not provide audio output.\u001b[0m\u001b[32;1m\u001b[1;3mI now know the final answer.\n",
      "\n",
      "Final Answer: The SR connector is based on the BNC connector, which is often used for coaxial cables.\u001b[0m\n",
      "\n",
      "\u001b[1m> Finished chain.\u001b[0m\n"
     ]
    }
   ],
   "source": [
    "examples = \"\"\"\n",
    "\n",
    "Question: who is older Einstien or Newton\n",
    "Thought:I need to find out the birth dates of both Einstein and Newton to determine who is older.\n",
    "Action: wikipedia[Isaac Newton]\n",
    "Action Input: Isaac Newton\n",
    "Observation: Isaac Newton was born on December 25, 1642\n",
    "Action: wikipedia[Albert Einstien]\n",
    "Action Input: Albert Einstien\n",
    "Observation: Albert Einstein was born on March 14, 1879\n",
    "Thought: I now know the final answer to the original question.\n",
    "Action: Finish (Newton is older)\n",
    "\"\"\"\n",
    "\n",
    "examples = \"\"\"\n",
    "\n",
    "Question: who is older Einstien or Newton\n",
    "Thought:I need to find out the birth dates of both Einstein and Newton to determine who is older.\n",
    "Action: search[Isaac Newton]\n",
    "Observation: Isaac Newton was born on December 25, 1642\n",
    "Action: search[Albert Einstien]\n",
    "Observation: Albert Einstein was born on March 14, 1879\n",
    "Thought: I now know the final answer to the original question.\n",
    "Action: Finish (Newton is older)\n",
    "\"\"\"\n",
    "\n",
    "agent = create_react_agent(llm, tools, prompt)\n",
    "agent_executor = AgentExecutor(agent=agent, tools=tools, handle_parsing_errors=True, verbose=True)\n",
    "response = agent_executor.invoke({\"question\": question, \"examples\": examples})"
   ]
  },
  {
   "cell_type": "code",
   "execution_count": 50,
   "id": "d27238ef-3db3-499e-8998-686d0d5aa717",
   "metadata": {},
   "outputs": [
    {
     "data": {
      "text/plain": [
       "{'question': 'SR connector is based on the connector that is often used for what type of cable?',\n",
       " 'examples': '\\n\\nQuestion: who is older Einstien or Newton\\nThought:I need to find out the birth dates of both Einstein and Newton to determine who is older.\\nAction: search[Isaac Newton]\\nObservation: Isaac Newton was born on December 25, 1642\\nAction: search[Albert Einstien]\\nObservation: Albert Einstein was born on March 14, 1879\\nThought: I now know the final answer to the original question.\\nAction: Finish (Newton is older)\\n',\n",
       " 'output': 'The SR connector is based on the BNC connector, which is often used for coaxial cables.'}"
      ]
     },
     "execution_count": 50,
     "metadata": {},
     "output_type": "execute_result"
    }
   ],
   "source": [
    "response"
   ]
  },
  {
   "cell_type": "code",
   "execution_count": 47,
   "id": "189ba4af-39c0-41e5-959d-d174c47a5358",
   "metadata": {},
   "outputs": [
    {
     "name": "stdout",
     "output_type": "stream",
     "text": [
      "[(AgentAction(tool='wikipedia', tool_input='SR connector', log='I need to find out what type of cable the SR connector is often used for.\\n\\nAction: wikipedia\\nAction Input: SR connector'), 'Page: SR connector\\nSummary: The SR connector or CP connector (Russian: Соединитель Радиочастотный, \\'radio frequency connector\\') is a Russian-made radio frequency connector for coaxial cables. It is based on the American BNC connector. Types with an American equivalent have slightly different dimensions due to discrepancies in imperial to metric conversion, though with some force the two can still be mated. There are other types which do not resemble their American counterpart.\\nMost SR connectors are variants of SR-50 (50 Ω) or SR-75 (75 Ω) versions, with the SR-75 typically having a thinner center pin. They often resemble C connectors in shape, and have threaded inserts similar to N connectors. Further numerical suffixes denote specific kinds of connectors, for instance the CP 75-164 is a much larger high power connector, designed for upwards of 3000W, with a similar appearance to an N or UHF type. The various letters after the number refer to the dielectric material used.\\nBelow is a breakdown of the various suffixes used in the order they would appear:\\n\\nPage: JST connector\\nSummary: JST connectors are electrical connectors manufactured to the design standards originally developed by J.S.T. Mfg. Co. (Japan Solderless Terminal).  JST manufactures numerous series (families) and pitches (pin-to-pin distance) of connectors.\\nJST connectors are used in many types of products, and commonly used by electronics hobbyists and consumer products for rechargeable battery packs, battery balancers, battery eliminator circuits, 3D printers, and radio controlled servos.\\nThe term \"JST\" is sometimes incorrectly used as a vernacular term meaning any small white electrical connector mounted on PCBs.\\n\\nPage: BNC connector\\nSummary: The BNC connector (initialism of \"Bayonet Neill–Concelman\") is a miniature quick connect/disconnect radio frequency connector used for coaxial cable. It is designed to maintain the same characteristic impedance of the cable, with 50 ohm and 75 ohm types being made. It is usually applied for video and radio frequency connections up to about 2 GHz and up to 500 volts. The connector has a twist to lock design with two lugs in the female portion of the connector engaging a slot in the shell of the male portion. The type was introduced on military radio equipment in the 1940s and has since become widely applied in radio systems, and is a common type of video connector. Similar radio-frequency connectors differ in dimensions and attachment features, and may allow for higher voltages, higher frequencies, or three-wire connections.'), (AgentAction(tool='wikipedia', tool_input='BNC connector', log='I need to find out what type of cable the BNC connector is often used for.\\n\\nAction: wikipedia\\nAction Input: BNC connector'), 'Page: BNC connector\\nSummary: The BNC connector (initialism of \"Bayonet Neill–Concelman\") is a miniature quick connect/disconnect radio frequency connector used for coaxial cable. It is designed to maintain the same characteristic impedance of the cable, with 50 ohm and 75 ohm types being made. It is usually applied for video and radio frequency connections up to about 2 GHz and up to 500 volts. The connector has a twist to lock design with two lugs in the female portion of the connector engaging a slot in the shell of the male portion. The type was introduced on military radio equipment in the 1940s and has since become widely applied in radio systems, and is a common type of video connector. Similar radio-frequency connectors differ in dimensions and attachment features, and may allow for higher voltages, higher frequencies, or three-wire connections.\\n\\nPage: VGA connector\\nSummary: The Video Graphics Array (VGA) connector is a standard connector used for computer video output. Originating with the 1987 IBM PS/2 and its VGA graphics system, the 15-pin connector went on to become ubiquitous on PCs, as well as many monitors, projectors and HD television sets.\\nOther connectors have been used to carry VGA-compatible signals, such as mini-VGA or BNC, but \"VGA connector\" typically refers to this design.\\nDevices continue to be manufactured with VGA connectors, although newer digital interfaces such as DVI, HDMI and DisplayPort are increasingly displacing VGA, and many modern computers and other devices do not include it.\\n\\nPage: UHF connector\\nSummary: The UHF connector is a name for a threaded RF connector. \\nThe connector design was invented in the 1930s for use in the radio industry, and is a shielded form of the \"banana plug\". It is a widely used standard connector for HF transmission lines on full-sized radio equipment, with BNC connectors predominating for smaller, hand-held equipment.\\nThe name \"UHF\" is a source of confusion, since the name of the connectors did not change when the frequency ranges were renamed. The design was named during an era when \"UHF\" meant frequencies over 30 MHz. Today, Ultra high frequency (UHF) instead refers to frequencies between 300 MHz and 3 GHz and the range of frequencies formerly known as UHF is now called \"VHF\".\\nUnlike modern connector designs that replaced it, no active specification or standard exists to govern the mechanical and electrical characteristics of the so-called \"UHF\" connector system making it effectively a deprecated design with no guarantee for suitability to an electrical or mechanical purpose.. Evidence of inconsistency exists. Testing reveals post WWII connectors designs, such as N connector and BNC connector are electrically superior to the \\'UHF\\' connector for modern UHF frequencies. Other testing reveals one UHF connector sample shows negligible effect on frequencies up to 435 MHz.'), (AgentAction(tool='wikipedia', tool_input='VGA connector', log='I need to find out what type of cable the VGA connector is often used for.\\n\\nAction: wikipedia\\nAction Input: VGA connector'), 'Page: VGA connector\\nSummary: The Video Graphics Array (VGA) connector is a standard connector used for computer video output. Originating with the 1987 IBM PS/2 and its VGA graphics system, the 15-pin connector went on to become ubiquitous on PCs, as well as many monitors, projectors and HD television sets.\\nOther connectors have been used to carry VGA-compatible signals, such as mini-VGA or BNC, but \"VGA connector\" typically refers to this design.\\nDevices continue to be manufactured with VGA connectors, although newer digital interfaces such as DVI, HDMI and DisplayPort are increasingly displacing VGA, and many modern computers and other devices do not include it.\\n\\nPage: Video Graphics Array\\nSummary: Video Graphics Array (VGA) is a video display controller and accompanying de facto graphics standard, first introduced with the IBM PS/2 line of computers in 1987, which became ubiquitous in the IBM PC compatible industry within three years. The term can now refer to the computer display standard, the 15-pin D-subminiature VGA connector, or the 640\\u2009×\\u2009480 resolution characteristic of the VGA hardware.\\nVGA was the last IBM graphics standard to which the majority of IBM PC compatible computer manufacturers conformed, making it the lowest common denominator that virtually all post-1990 PC graphics hardware can be expected to implement.\\nVGA was adapted into many extended forms by third parties, collectively known as Super VGA, then gave way to custom graphics processing units which, in addition to their proprietary interfaces and capabilities, continue to implement common VGA graphics modes and interfaces to the present day.\\nThe VGA analog interface standard has been extended to support resolutions of up to 2048\\u2009×\\u20091536 for general usage, with specialized applications improving it further still.\\n\\n\\n\\nPage: Mini-VGA\\nSummary: Mini-VGA connectors are proprietary and non-standard alternative video connectors that were used on some laptops and other computer systems in place of a standard VGA connector. Apple, HP, and Asus each introduced separate connectors using the same moniker of \"mini-VGA\", but which are otherwise physically incompatible with each other (though all of them are compatible with standard VGA using the correct adapter).\\nApple\\'s mini-VGA ports may be found on some older Apple computers, including iBooks, eMacs, certain PowerBooks (e.g.: 12-inch), and some iMacs (e.g.: the iMac G5). In addition to a more compact form-factor, Apple\\'s mini-VGA ports also have the added ability to output composite as well as S-Video, in addition to VGA signals, through the use of EDID. When used for S-Video, S-Video\\'s chrominance (C) and luminance (Y) signals replace VGA\\'s red (R) and green (G) channels, while for composite video, the signal is output through VGA\\'s blue (B) channel. (The horizontal and vertical sync pins of VGA are left unused.)\\nHP\\'s version of mini-VGA can be found in HP Minis and HP TouchSmarts. Samsung Chromebooks, as released in June 2011, feature their own implementation of mini-VGA. Various other Samsung laptops, such as the Series 7 and Series 9, also featured this new connector. Mini-VGA ports can also be found on several laptops previously manufactured by Sony.\\nWith the introduction of mini-DVI, as well as Mini DisplayPort, mini-VGA connectors were largely superseded in favor of these newer, more versatile connector types.'), (AgentAction(tool='wikipedia', tool_input='Mini-VGA connector', log='I need to find out what type of cable the Mini-VGA connector is often used for.\\n\\nAction: wikipedia\\nAction Input: Mini-VGA connector'), 'Page: VGA connector\\nSummary: The Video Graphics Array (VGA) connector is a standard connector used for computer video output. Originating with the 1987 IBM PS/2 and its VGA graphics system, the 15-pin connector went on to become ubiquitous on PCs, as well as many monitors, projectors and HD television sets.\\nOther connectors have been used to carry VGA-compatible signals, such as mini-VGA or BNC, but \"VGA connector\" typically refers to this design.\\nDevices continue to be manufactured with VGA connectors, although newer digital interfaces such as DVI, HDMI and DisplayPort are increasingly displacing VGA, and many modern computers and other devices do not include it.\\n\\nPage: Mini-VGA\\nSummary: Mini-VGA connectors are proprietary and non-standard alternative video connectors that were used on some laptops and other computer systems in place of a standard VGA connector. Apple, HP, and Asus each introduced separate connectors using the same moniker of \"mini-VGA\", but which are otherwise physically incompatible with each other (though all of them are compatible with standard VGA using the correct adapter).\\nApple\\'s mini-VGA ports may be found on some older Apple computers, including iBooks, eMacs, certain PowerBooks (e.g.: 12-inch), and some iMacs (e.g.: the iMac G5). In addition to a more compact form-factor, Apple\\'s mini-VGA ports also have the added ability to output composite as well as S-Video, in addition to VGA signals, through the use of EDID. When used for S-Video, S-Video\\'s chrominance (C) and luminance (Y) signals replace VGA\\'s red (R) and green (G) channels, while for composite video, the signal is output through VGA\\'s blue (B) channel. (The horizontal and vertical sync pins of VGA are left unused.)\\nHP\\'s version of mini-VGA can be found in HP Minis and HP TouchSmarts. Samsung Chromebooks, as released in June 2011, feature their own implementation of mini-VGA. Various other Samsung laptops, such as the Series 7 and Series 9, also featured this new connector. Mini-VGA ports can also be found on several laptops previously manufactured by Sony.\\nWith the introduction of mini-DVI, as well as Mini DisplayPort, mini-VGA connectors were largely superseded in favor of these newer, more versatile connector types.\\n\\nPage: Mini-DVI\\nSummary: The Mini-DVI connector is used on certain Apple computers as a digital alternative to the Mini-VGA connector. Its size is between the full-sized DVI and the tiny Micro-DVI. It is found on the 12-inch PowerBook G4 (except the original 12-inch 867 MHz PowerBook G4, which used Mini-VGA), the Intel-based iMac, the MacBook Intel-based laptop, the Intel-based Xserve, the 2009 Mac mini, and some late model eMacs.\\nIn October 2008, Apple announced the company was phasing Mini-DVI out in favor of Mini DisplayPort.\\nMini-DVI connectors on Apple hardware are capable of carrying DVI, VGA, or TV signals through the use of adapters, detected with EDID (Extended display identification data) via DDC. This connector is often used in place of a DVI connector in order to save physical space on devices. Mini-DVI does not support dual-link connections and hence cannot support resolutions higher than 1920×1200 @60 Hz.\\nThere are various types of Mini-DVI adapter:\\n\\nApple Mini-DVI to VGA Adapter Apple part number M9320G/A (discontinued)\\nApple Mini-DVI to Video Adapter Apple part number M9319G/A, provided both S-Video and Composite video connectors (discontinued)\\nApple Mini-DVI to DVI Adapter (DVI-D) Apple part number M9321G/B (discontinued)\\nNon-OEM Mini-DVI to HDMI adapters are also available at online stores such as eBay and Amazon, and from some retail stores, but were not sold by Apple.\\nThe physical connector is similar to Mini-VGA, but is differentiated by having four rows of pins arranged in two vertically stacked slots rather than the two rows of pins in the Mini-VGA.\\nConnecting to a DVI-I connector requires a Mini-DVI to DVI-D cable plus a DVI-D to DVI-I adapter.')]\n"
     ]
    }
   ],
   "source": [
    "print(response[\"intermediate_steps\"])"
   ]
  },
  {
   "cell_type": "code",
   "execution_count": null,
   "id": "bde71388-6507-43d5-880e-24d7214280dc",
   "metadata": {},
   "outputs": [],
   "source": []
  }
 ],
 "metadata": {
  "kernelspec": {
   "display_name": "Python 3 (ipykernel)",
   "language": "python",
   "name": "python3"
  },
  "language_info": {
   "codemirror_mode": {
    "name": "ipython",
    "version": 3
   },
   "file_extension": ".py",
   "mimetype": "text/x-python",
   "name": "python",
   "nbconvert_exporter": "python",
   "pygments_lexer": "ipython3",
   "version": "3.11.8"
  }
 },
 "nbformat": 4,
 "nbformat_minor": 5
}
