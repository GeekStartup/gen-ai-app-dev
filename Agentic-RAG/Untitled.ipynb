{
 "cells": [
  {
   "cell_type": "markdown",
   "id": "3d31aa37-6731-4d53-b160-51998b8fc949",
   "metadata": {},
   "source": [
    "# OpenAI Tools\n",
    "\n",
    "https://python.langchain.com/v0.1/docs/modules/agents/agent_types/openai_tools/\n",
    "\n",
    "##### Note\n",
    "OpenAI termed the capability to invoke a single function as **functions**, and the capability to invoke one or more functions as **tools**. In the OpenAI Chat API, functions are now considered a legacy options that is deprecated in favor of tools."
   ]
  },
  {
   "cell_type": "code",
   "execution_count": 1,
   "id": "8c313095-b07e-4e72-be62-a39cddd12d06",
   "metadata": {},
   "outputs": [],
   "source": [
    "from langchain_core.prompts import PromptTemplate, ChatPromptTemplate\n",
    "from langchain.agents import AgentExecutor, create_tool_calling_agent, tool\n",
    "import json"
   ]
  },
  {
   "cell_type": "markdown",
   "id": "fbe14872-d6b6-4c7e-bbf6-1c93f2facef1",
   "metadata": {},
   "source": [
    "## Setup LLM"
   ]
  },
  {
   "cell_type": "code",
   "execution_count": 2,
   "id": "a14a1069-b255-43e9-95bb-fc78845ada1a",
   "metadata": {},
   "outputs": [],
   "source": [
    "from dotenv import load_dotenv\n",
    "import sys\n",
    "import json\n",
    "\n",
    "from langchain.prompts import PromptTemplate\n",
    "\n",
    "# Load the file that contains the API keys - OPENAI_API_KEY\n",
    "load_dotenv('C:\\\\Users\\\\raj\\\\.jupyter\\\\.env')\n",
    "\n",
    "# setting path\n",
    "sys.path.append('../')\n",
    "\n",
    "from utils.create_chat_llm import create_gpt_chat_llm, create_cohere_chat_llm, create_anthropic_chat_llm\n",
    "from utils.create_llm import create_gpt_llm\n",
    "\n",
    "# Try with GPT\n",
    "llm = create_gpt_chat_llm()"
   ]
  },
  {
   "cell_type": "code",
   "execution_count": null,
   "id": "688fa092-ed36-4c70-a4bc-f963bdf516c1",
   "metadata": {},
   "outputs": [],
   "source": []
  }
 ],
 "metadata": {
  "kernelspec": {
   "display_name": "Python 3 (ipykernel)",
   "language": "python",
   "name": "python3"
  },
  "language_info": {
   "codemirror_mode": {
    "name": "ipython",
    "version": 3
   },
   "file_extension": ".py",
   "mimetype": "text/x-python",
   "name": "python",
   "nbconvert_exporter": "python",
   "pygments_lexer": "ipython3",
   "version": "3.11.8"
  }
 },
 "nbformat": 4,
 "nbformat_minor": 5
}
