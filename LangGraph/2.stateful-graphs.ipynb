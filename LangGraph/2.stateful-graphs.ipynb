{
 "cells": [
  {
   "cell_type": "markdown",
   "id": "738c1b31-d9a4-4673-837b-2bdcbea79145",
   "metadata": {},
   "source": [
    "# Stateful graph\n",
    "Requires a well defined schema for managing the state of the graph.\n",
    "\n",
    "[StateGraph class](https://langchain-ai.github.io/langgraph/reference/graphs/)\n",
    "[State schema](https://langchain-ai.github.io/langgraph/how-tos/graph-api/#define-input-and-output-schemas)\n",
    "\n",
    "### State\n",
    "A shared data structure that represents the current snapshot of your application. It can be any Python type, but is typically a TypedDict or Pydantic BaseModel.\n",
    "\n",
    "* The input schema is well defined\n",
    "* By default the input & output schema are the same\n",
    "* You may define an output schema explicitly. Overall state is a combination of input & output schema \n",
    "\n",
    "### Node\n",
    "* A function : receives the state as argument\n",
    "* The node must return a dictionary which may be partial set of keys or the entire state\n",
    "\n",
    "### Edge\n",
    "* Connects the nodes\n",
    "* Decides the direction of the flow i.e., next node to be executed"
   ]
  },
  {
   "cell_type": "code",
   "execution_count": 5,
   "id": "0812a8e7-a821-454a-b5be-bac64b4d1690",
   "metadata": {},
   "outputs": [
    {
     "data": {
      "image/png": "[encoded data removed]",
      "text/plain": [
       "<IPython.core.display.Image object>"
      ]
     },
     "metadata": {},
     "output_type": "display_data"
    },
    {
     "data": {
      "text/plain": [
       "{'messages': ['This is a dummy message when total_words = 0'],\n",
       " 'total_words': 44}"
      ]
     },
     "execution_count": 5,
     "metadata": {},
     "output_type": "execute_result"
    }
   ],
   "source": [
    "from typing import TypedDict, List\n",
    "from langgraph.graph import StateGraph, START, END\n",
    "\n",
    "# Provide the schema in the form of keys & their types\n",
    "class StateBasic(TypedDict):\n",
    "    messages: List[str]\n",
    "    total_words: int\n",
    "    \n",
    "# Node\n",
    "# Updates & returns the entire state\n",
    "def add_message(state: StateBasic) -> dict:\n",
    "    message = f\"This is a dummy message when total words = {state[\"total_words\"]}\"\n",
    "\n",
    "    messages = state[\"messages\"] + [message]\n",
    "\n",
    "    return { \"messages\": messages}\n",
    "\n",
    "# Node\n",
    "# Returns a dict with only the state-keys that are updated\n",
    "def increment_word_count(state: StateBasic)->dict:\n",
    "    last_message = state[\"messages\"][-1]\n",
    "    total_word = state[\"total_words\"]+len(last_message)\n",
    "    return {\"total_words\": total_word}\n",
    "\n",
    "# Create a stateful graph\n",
    "workflow_stateful = StateGraph(StateBasic)\n",
    "\n",
    "# Add the nodes\n",
    "workflow_stateful.add_node(\"add_message\", add_message)\n",
    "workflow_stateful.add_node(\"increment_word_count\", increment_word_count)\n",
    "\n",
    "# Add the edges\n",
    "# START is a special node that receives user input\n",
    "workflow_stateful.add_edge(START, \"add_message\")  \n",
    "workflow_stateful.add_edge(\"add_message\", \"increment_word_count\")\n",
    "# END is a special node that returns the state and ends the graph run\n",
    "workflow_stateful.add_edge(\"increment_word_count\", END)\n",
    "\n",
    "# Prepares the graph from the node/edge relations\n",
    "workflow_stateful_compiled = workflow_stateful.compile()\n",
    "\n",
    "# Visualize the graph\n",
    "from IPython.display import Image, display\n",
    "display(Image(workflow_stateful_compiled.get_graph().draw_mermaid_png()))\n",
    "\n",
    "# Invoke the graph\n",
    "workflow_stateful_compiled.invoke({\"total_words\":0, \"messages\": []})"
   ]
  },
  {
   "cell_type": "markdown",
   "id": "64df7375-39d4-4c6a-aa49-5a46a1aea46e",
   "metadata": {},
   "source": [
    "## **Python Annotated** \n",
    "is a type hint introduced in Python 3.9 (available via typing package) that allows you to attach metadata to type annotations. It doesn't affect type checking but provides additional information that can be used by tools and libraries.\n",
    "\n",
    "```\n",
    "from typing import Annotated\n",
    "\n",
    "variable: Annotated[type, metadata1, metadata2, ...]\n",
    "```\n",
    "\n",
    "* Preserves the base type - The actual type remains the first argument\n",
    "\n",
    "* Accepts arbitrary metadata - Any Python object can be used as metadata\n",
    "\n",
    "* Doesn't affect runtime behavior - Just like other typing hints\n",
    "\n",
    "* Useful for documentation and tools - Many libraries leverage these annotations\n",
    "\n",
    "#### **LangGraph** use of Annotated\n",
    "In LangGraph, when you define a graph State, you can use Annotated to attach update functions to state variables. These functions specify how the state should be modified when new values arrive.\n",
    "\n",
    "**Key Behavior:**\n",
    "* Metadata is a function that takes the current value and the new value.\n",
    "\n",
    "* When the state updates, LangGraph applies this function to merge values.\n",
    "\n",
    "* If no function is provided, it defaults to replacement (new value overwrites the old one).\n",
    "\n",
    "#### Reducer functions\n",
    "\n",
    "A reducer function may be used with Annotated[..] to define how the messages field in the graph state should be updated when multiple nodes modify it.\n",
    "\n",
    "#### add_message\n",
    "https://langchain-ai.github.io/langgraph/reference/graphs/#langgraph.graph.message.add_messages\n"
   ]
  },
  {
   "cell_type": "code",
   "execution_count": 4,
   "id": "8d27ceee-798d-4830-9ea7-34b53915c5dd",
   "metadata": {},
   "outputs": [
    {
     "data": {
      "image/png": "[encoded data removed]",
      "text/plain": [
       "<IPython.core.display.Image object>"
      ]
     },
     "metadata": {},
     "output_type": "display_data"
    },
    {
     "name": "stdout",
     "output_type": "stream",
     "text": [
      "{'messages': ['This is a dummy message when total_words = 0', 'This is a dummy message when total_words = 44'], 'total_words': 89}\n"
     ]
    }
   ],
   "source": [
    "from typing import TypedDict, List, Annotated\n",
    "import operator\n",
    "from langgraph.graph import StateGraph, START, END\n",
    "\n",
    "# Reducer function that appends a message to the list\n",
    "def append_to_list(current: List[str], \n",
    "                   new: List[str])->List[str]:\n",
    "    return current + new\n",
    "    \n",
    "# Provide the schema in the form of keys & their types\n",
    "class StateAnnotated(TypedDict):\n",
    "    # Applies reducer function to the updated value\n",
    "    messages: Annotated[List[str], append_to_list]\n",
    "    \n",
    "    # Applies the add function to the updated value\n",
    "    total_words: Annotated[int, operator.add]\n",
    "    \n",
    "# Node\n",
    "# Updates & returns the entire state\n",
    "def add_message_annotated(state: StateAnnotated)->StateAnnotated:\n",
    "    message = f\"This is a dummy message when total_words = {state[\"total_words\"]}\"\n",
    "\n",
    "    # NO NEED TO DO THIS - Let LangGraph apply the reducer function\n",
    "    # state[\"messages\"] = state[\"messages\"] + [message]\n",
    "    \n",
    "    return {\"messages\": [message]}\n",
    "\n",
    "# Node\n",
    "# Returns a dict with only the state-keys that are updated\n",
    "def increment_word_count_annotated(state: StateAnnotated)->dict:\n",
    "    last_message = state[\"messages\"][-1]\n",
    "\n",
    "    # NO NEED TO DO THIS - Let LangGraph apply the reducer\n",
    "    # total_word = state[\"total_words\"]+len(last_message)\n",
    "    \n",
    "    return {\"total_words\": len(last_message)}\n",
    "\n",
    "# Create a stateful graph\n",
    "workflow_stateful_annotated = StateGraph(StateAnnotated)\n",
    "\n",
    "# Add the nodes\n",
    "workflow_stateful_annotated.add_node(\"add_message\", add_message_annotated)\n",
    "workflow_stateful_annotated.add_node(\"increment_counter\", increment_word_count_annotated)\n",
    "\n",
    "# Add the edges\n",
    "# START is a special node that receives user input\n",
    "workflow_stateful_annotated.add_edge(START, \"add_message\")  \n",
    "workflow_stateful_annotated.add_edge(\"add_message\", \"increment_counter\")\n",
    "# END is a special node that returns the state and ends the graph run\n",
    "workflow_stateful_annotated.add_edge(\"increment_counter\", END)\n",
    "\n",
    "# Prepares the graph from the node/edge relations\n",
    "workflow_stateful_annotated_compiled = workflow_stateful_annotated.compile()\n",
    "\n",
    "# Visualize the graph\n",
    "from IPython.display import Image, display\n",
    "display(Image(workflow_stateful_annotated_compiled.get_graph().draw_mermaid_png()))\n",
    "\n",
    "# Invoke the graph twice\n",
    "\n",
    "#1. Call#1 with initial state\n",
    "response = workflow_stateful_annotated_compiled.invoke({\"total_words\":0, \"messages\": []})\n",
    "\n",
    "#2. Pass the response from first call as a request in second call\n",
    "response = workflow_stateful_annotated_compiled.invoke(response)\n",
    "\n",
    "print(response)\n"
   ]
  },
  {
   "cell_type": "code",
   "execution_count": null,
   "id": "a9d88afc-6eb1-4605-bcfd-893ff8531273",
   "metadata": {},
   "outputs": [],
   "source": []
  }
 ],
 "metadata": {
  "kernelspec": {
   "display_name": "Python 3 (ipykernel)",
   "language": "python",
   "name": "python3"
  },
  "language_info": {
   "codemirror_mode": {
    "name": "ipython",
    "version": 3
   },
   "file_extension": ".py",
   "mimetype": "text/x-python",
   "name": "python",
   "nbconvert_exporter": "python",
   "pygments_lexer": "ipython3",
   "version": "3.12.7"
  }
 },
 "nbformat": 4,
 "nbformat_minor": 5
}
