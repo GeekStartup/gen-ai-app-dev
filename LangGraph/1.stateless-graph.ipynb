{
 "cells": [
  {
   "cell_type": "markdown",
   "id": "db4162db-6b00-4a83-92d3-1c523242b76b",
   "metadata": {},
   "source": [
    "# Basics of LangGraph\n",
    "\n",
    "Workflows are defined as graphs. A graph has 3 components.\n",
    "\n",
    "### State\n",
    "* No shared state between nodes\n",
    "\n",
    "### Node\n",
    "* Each node operates in isolation\n",
    "* Function decides its own input (i.e., argument) & output (i.e., return value)\n",
    "\n",
    "### Edge\n",
    "* Connects the nodes\n",
    "* Passes output of a node as input to the next node\n",
    "\n",
    "\n",
    "#### Running\n",
    "https://langchain-ai.github.io/langgraph/agents/run_agents/#running-agents\n",
    "\n",
    "[API](https://langchain-ai.github.io/langgraph/reference/graphs/)"
   ]
  },
  {
   "cell_type": "markdown",
   "id": "9e4c2c9b-c9e1-4983-b7aa-a4f374832134",
   "metadata": {},
   "source": [
    "## Stateless graph"
   ]
  },
  {
   "cell_type": "code",
   "execution_count": null,
   "id": "4620995c-bf13-4546-9348-22deb8c5b0b3",
   "metadata": {},
   "outputs": [],
   "source": [
    "from langgraph.graph import Graph, START, END\n",
    "import random\n",
    "\n",
    "# A node is defined as a function\n",
    "# Random number generator\n",
    "# Takes an int that represents the max random int value\n",
    "def generate_random_number(state:int)->int:\n",
    "    rint = random.randint(1, state)\n",
    "    print(f\"Random generated : {rint}\")\n",
    "    return rint\n",
    "\n",
    "# A node that takes an int as input and outputs a string\n",
    "def create_message(state:int)->str:\n",
    "    return f\"I received number : {state}\"\n",
    "\n",
    "# Create a graph builder object\n",
    "workflow = Graph()\n",
    "\n",
    "# Add the two nodes\n",
    "# workflow.add_node(add_random_number) = will add a node with name=\"add_random_number\"\n",
    "workflow.add_node(\"generate_random\", generate_random_number)\n",
    "workflow.add_node(\"create_message\", create_message)\n",
    "\n",
    "# Define the edges between nodes\n",
    "# START = Special node that indicate entry point\n",
    "# END = Special node that indicates the finish point\n",
    "workflow.add_edge(START, \"generate_random\")\n",
    "workflow.add_edge(\"generate_random\", \"create_message\")\n",
    "workflow.add_edge(\"create_message\",END)\n",
    "\n",
    "# Compile to an executable graph\n",
    "workflow_compiled = workflow.compile()\n",
    "\n",
    "# visulaize the graph\n",
    "from IPython.display import Image, display\n",
    "display(Image(workflow_compiled.get_graph().draw_mermaid_png()))\n",
    "\n",
    "# Invoke the graph\n",
    "# First node takes an int so pass an int as input\n",
    "response = workflow_compiled.invoke(input=100)\n",
    "\n",
    "# Print\n",
    "print(response)"
   ]
  }
 ],
 "metadata": {
  "kernelspec": {
   "display_name": "Python 3 (ipykernel)",
   "language": "python",
   "name": "python3"
  },
  "language_info": {
   "codemirror_mode": {
    "name": "ipython",
    "version": 3
   },
   "file_extension": ".py",
   "mimetype": "text/x-python",
   "name": "python",
   "nbconvert_exporter": "python",
   "pygments_lexer": "ipython3",
   "version": "3.12.7"
  }
 },
 "nbformat": 4,
 "nbformat_minor": 5
}
