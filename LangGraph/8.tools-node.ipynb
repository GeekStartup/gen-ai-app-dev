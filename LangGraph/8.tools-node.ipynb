{
 "cells": [
  {
   "cell_type": "markdown",
   "id": "58435ae8-8eb9-4c74-b6d6-9b00c87b2d2e",
   "metadata": {},
   "source": [
    "# Tools\n",
    "https://langchain-ai.github.io/langgraph/concepts/tools/#tool-calling\n",
    "\n",
    "## ToolNode\n",
    "https://langchain-ai.github.io/langgraph/reference/agents/#langgraph.prebuilt.tool_node.ToolNode\n",
    "\n",
    "## Validation Node\n",
    "https://langchain-ai.github.io/langgraph/reference/agents/#langgraph.prebuilt.tool_validator.ValidationNode\n",
    "\n",
    "### Pre-built LangChain Tools\n",
    "\n",
    "**Pre-built LangChain tools**\n",
    "https://python.langchain.com/docs/integrations/tools/\n",
    "\n",
    "**Community tools**\n",
    "https://python.langchain.com/api_reference/community/tools.html\n",
    "\n",
    "### Custom tool\n",
    "https://langchain-ai.github.io/langgraph/concepts/tools/#custom-tools\n",
    "\n",
    "### Tool execution\n",
    "LangGraph provides a prebuilt component for tools.\n",
    "\n",
    "**Tool call**\n",
    "https://python.langchain.com/api_reference/core/messages/langchain_core.messages.tool.ToolCall.html\n",
    "\n",
    "[ToolNode](https://langchain-ai.github.io/langgraph/reference/agents/#langgraph.prebuilt.tool_node.ToolNode) :A prebuilt node that executes tools. \n",
    "* A node that runs the tools called in the last AIMessage.\n",
    "* Multiple tools if specified in AIMessage = tools run in parallel\n",
    "* [AIMessage](https://python.langchain.com/api_reference/core/messages/langchain_core.messages.ai.AIMessage.html)\n",
    "\n",
    "[create_react_agent](https://langchain-ai.github.io/langgraph/reference/agents/#langgraph.prebuilt.chat_agent_executor.create_react_agent) : Constructs a full agent that manages tool calling automatically.\n"
   ]
  },
  {
   "cell_type": "code",
   "execution_count": 1,
   "id": "7614c544-8600-4a2e-a4a6-9a54b3b9cb91",
   "metadata": {},
   "outputs": [],
   "source": [
    "from langchain_core.tools import tool\n",
    "from langgraph.prebuilt import ToolNode\n",
    "from langchain_core.messages import AIMessage\n",
    "from langgraph.graph import StateGraph, START, END, MessagesState\n",
    "from typing import List, Annotated, TypedDict\n",
    "import operator\n",
    "from IPython.display import Image, display\n",
    "\n",
    "@tool\n",
    "def multiply(number_1: int, number_2: int) -> int:\n",
    "    \"\"\"Multiply two numbers.\"\"\"\n",
    "    return number_1 * number_2\n",
    "\n",
    "@tool\n",
    "def add(number_1: int, number_2: int) -> int:\n",
    "    \"\"\"Add two numbers.\"\"\"\n",
    "    return number_1 + number_2\n",
    "\n",
    "@tool\n",
    "def subtract(number_1: int, number_2: int) -> int:\n",
    "    \"\"\"Subtract two numbers.\"\"\"\n",
    "    return number_1 - number_2\n",
    "\n",
    "# Create an instance of tool node\n",
    "tool_node = ToolNode(\n",
    "    name = \"tool_node\",\n",
    "    tools = [multiply,add,subtract]\n",
    ")\n"
   ]
  },
  {
   "cell_type": "markdown",
   "id": "6d13c289-04ff-4bb6-aa70-ee958c7709af",
   "metadata": {},
   "source": [
    "### 1. Invoke tool with an AIMessage"
   ]
  },
  {
   "cell_type": "code",
   "execution_count": 2,
   "id": "365aeabb-214d-46c2-b097-c4a418dedfdb",
   "metadata": {},
   "outputs": [
    {
     "data": {
      "text/plain": [
       "{'messages': [ToolMessage(content='15', name='multiply', tool_call_id='dummy')]}"
      ]
     },
     "execution_count": 2,
     "metadata": {},
     "output_type": "execute_result"
    }
   ],
   "source": [
    "\n",
    "# Setup AI message with tool_calls\n",
    "tool_call_message = AIMessage(\n",
    "    content = \"dummy\",\n",
    "    # Add one or more tool calls\n",
    "    tool_calls = [\n",
    "        {\"name\": \"multiply\", \"args\": {\"number_1\": 5, \"number_2\": 3}, \"id\": \"dummy\"}\n",
    "    ]\n",
    ")\n",
    "\n",
    "# Setup messages\n",
    "messages = {\"messages\": [tool_call_message]}\n",
    "\n",
    "# Invoke the tool node to simulation realtime execution driven by LLM\n",
    "response = tool_node.invoke(messages)\n",
    "\n",
    "response"
   ]
  },
  {
   "cell_type": "markdown",
   "id": "7d558dd4-6c33-4e50-ad51-0cb6d0dc820a",
   "metadata": {},
   "source": [
    "### 2. Invoke multiple tools in parallel"
   ]
  },
  {
   "cell_type": "code",
   "execution_count": 3,
   "id": "cd5e3d02-394a-47b7-bd58-39ea28464eef",
   "metadata": {},
   "outputs": [
    {
     "data": {
      "text/plain": [
       "{'messages': [ToolMessage(content='15', name='multiply', tool_call_id='dummy'),\n",
       "  ToolMessage(content='8', name='add', tool_call_id='dummy'),\n",
       "  ToolMessage(content='2', name='subtract', tool_call_id='dummy')]}"
      ]
     },
     "execution_count": 3,
     "metadata": {},
     "output_type": "execute_result"
    }
   ],
   "source": [
    "tool_call_message_multiple = AIMessage(\n",
    "    content = \"dummy\",\n",
    "    tool_calls = [\n",
    "                    {\"name\": \"multiply\", \"args\": {\"number_1\": 5, \"number_2\": 3}, \"id\": \"dummy\"},\n",
    "                    {\"name\": \"add\", \"args\": {\"number_1\": 5, \"number_2\": 3}, \"id\": \"dummy\"},\n",
    "                    {\"name\": \"subtract\", \"args\": {\"number_1\": 5, \"number_2\": 3}, \"id\": \"dummy\"}\n",
    "    ]\n",
    ")\n",
    "\n",
    "# Setup messages\n",
    "messages = {\"messages\": [tool_call_message_multiple]}\n",
    "\n",
    "# Invoke tool node\n",
    "response = tool_node.invoke(messages)\n",
    "\n",
    "response"
   ]
  },
  {
   "cell_type": "markdown",
   "id": "bde8a5ce-88ca-4961-8c3b-8c2c89722f65",
   "metadata": {},
   "source": [
    "## 3. Use ToolNode in workflow"
   ]
  },
  {
   "cell_type": "code",
   "execution_count": 4,
   "id": "42babf36-2c59-46b8-94a0-cc3919cb618f",
   "metadata": {},
   "outputs": [
    {
     "data": {
      "image/png": "[encoded data removed]",
      "text/plain": [
       "<IPython.core.display.Image object>"
      ]
     },
     "metadata": {},
     "output_type": "display_data"
    }
   ],
   "source": [
    "# Define state using the MessagesState as the base class\n",
    "class StateToolsDemo(MessagesState):\n",
    "    number_1: int\n",
    "    number_2: int\n",
    "    ops : List[str]\n",
    "\n",
    "# Simulates execution of an LLM\n",
    "def llm_simulation(state: StateToolsDemo)->StateToolsDemo:\n",
    "    tool_calls = []\n",
    "    for op in state[\"ops\"]:\n",
    "        tool_calls.append({\"name\": op, \"args\": {\"number_1\": state[\"number_1\"], \"number_2\": state[\"number_2\"]}, \"id\": \"dummy\"})\n",
    "\n",
    "    # Simulation : LLM requests for execution of multiple operations\n",
    "    # Setup messages\n",
    "    tool_call_message_multiple = AIMessage(\n",
    "        content = \"dummy\",\n",
    "        tool_calls = tool_calls\n",
    "    )\n",
    "\n",
    "    messages = {\"messages\": tool_call_message_multiple}\n",
    "    return messages\n",
    "\n",
    "\n",
    "# Tool node\n",
    "tool_node = ToolNode(\n",
    "    name = \"tool_node\",\n",
    "    tools = [multiply,add,subtract],\n",
    "    handle_tool_errors = True\n",
    ")\n",
    "\n",
    "# Create the state graph builder\n",
    "workflow_builder = StateGraph(StateToolsDemo)\n",
    "\n",
    "workflow_builder.add_node(\"llm_simulation\", llm_simulation)\n",
    "workflow_builder.add_node(\"tool_node\", tool_node)\n",
    "workflow_builder.add_edge(START, \"llm_simulation\")\n",
    "workflow_builder.add_edge(\"llm_simulation\", \"tool_node\")\n",
    "workflow_builder.add_edge(\"tool_node\", END)\n",
    "\n",
    "workflow_compiled = workflow_builder.compile()\n",
    "\n",
    "# Display\n",
    "display(Image(workflow_compiled.get_graph().draw_mermaid_png()))\n"
   ]
  },
  {
   "cell_type": "code",
   "execution_count": 6,
   "id": "f25ffea9-1b7f-45a4-82a4-bdca5005609d",
   "metadata": {},
   "outputs": [
    {
     "name": "stdout",
     "output_type": "stream",
     "text": [
      "<class 'langchain_core.messages.ai.AIMessage'> \n",
      "    content='dummy' additional_kwargs={} response_metadata={} id='d6b3329e-c048-4f34-a937-1fb355f6e08c' tool_calls=[{'name': 'multiply', 'args': {'number_1': 15, 'number_2': 7}, 'id': 'dummy', 'type': 'tool_call'}]\n",
      "------------------------------------\n",
      "<class 'langchain_core.messages.tool.ToolMessage'> \n",
      "    content='105' name='multiply' id='8f14c5a6-2418-43c1-baed-b44cd59ae20c' tool_call_id='dummy'\n",
      "------------------------------------\n"
     ]
    }
   ],
   "source": [
    "# Invoke\n",
    "ops = [\"multiply\",\"add\",\"subtract\"]\n",
    "response = workflow_compiled.invoke({\"number_1\": 15, \"number_2\": 7, \"ops\" : ops})\n",
    "\n",
    "for message in response[\"messages\"]:\n",
    "    print(type(message), \"\\n   \", message)\n",
    "    print(\"------------------------------------\")"
   ]
  },
  {
   "cell_type": "markdown",
   "id": "1903a594-f2de-43ed-a005-1bda6db34ff7",
   "metadata": {},
   "source": [
    "### 4. Error handling\n",
    "\n",
    "Demonstrates the error handling via simulation."
   ]
  },
  {
   "cell_type": "code",
   "execution_count": null,
   "id": "875b0e04-af12-4caf-86b5-c57d836c13e4",
   "metadata": {},
   "outputs": [],
   "source": [
    "from langchain_core.messages import AIMessage\n",
    "from langgraph.prebuilt import ToolNode\n",
    "\n",
    "# Set the handle_tool_errors = False so an exception is thrown when tool is executed\n",
    "tool_node_with_error_handling = ToolNode(\n",
    "    name = \"tool_node\",\n",
    "    tools = [multiply,add,subtract],\n",
    "    handle_tool_errors = False\n",
    ")\n",
    "\n",
    "operation = \"multiply\"\n",
    "tool_call_message = AIMessage(\n",
    "    content = \"dummy\",\n",
    "    tool_calls = [{\"name\": operation, \"args\": {\"number_1\": 5, \"number_2\": 3}, \"id\": \"dummy\"}]\n",
    ")\n",
    "\n",
    "# Create the request dictionary\n",
    "messages_list = [tool_call_message]\n",
    "messages = {\"messages\": messages_list}\n",
    "\n",
    "# Put the invoke in a try-except block to handle error\n",
    "try:\n",
    "    response = tool_node_with_error_handling.invoke(messages)\n",
    "except Exception as error:\n",
    "    print(\"------ Error -----\")\n",
    "    print(error)\n",
    "\n",
    "print(\"------ Response -----\")\n",
    "print(response)"
   ]
  },
  {
   "cell_type": "code",
   "execution_count": null,
   "id": "e0f3fa81-b968-48c2-81a1-f03e5841a904",
   "metadata": {},
   "outputs": [],
   "source": []
  }
 ],
 "metadata": {
  "kernelspec": {
   "display_name": "Python 3 (ipykernel)",
   "language": "python",
   "name": "python3"
  },
  "language_info": {
   "codemirror_mode": {
    "name": "ipython",
    "version": 3
   },
   "file_extension": ".py",
   "mimetype": "text/x-python",
   "name": "python",
   "nbconvert_exporter": "python",
   "pygments_lexer": "ipython3",
   "version": "3.12.9"
  }
 },
 "nbformat": 4,
 "nbformat_minor": 5
}
