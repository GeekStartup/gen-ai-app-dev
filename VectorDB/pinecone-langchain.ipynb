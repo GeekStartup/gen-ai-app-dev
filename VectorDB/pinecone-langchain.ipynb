{
 "cells": [
  {
   "cell_type": "markdown",
   "id": "415c2bac-57f1-4064-a08f-dacb20a5c9e3",
   "metadata": {},
   "source": [
    "# Langchain Retrievers for Pinecone\n",
    "\n",
    "#### Pinecone API overview\n",
    "https://docs.pinecone.io/docs/overview\n",
    "\n",
    "#### LangChain Pinecone\n",
    "https://docs.pinecone.io/docs/langchain\n",
    "\n",
    "Dependencies:\n",
    "\n",
    "pip install --upgrade --quiet  langchain-pinecone langchain-openai langchain\n",
    "\n",
    "1. Requires a pinecone index\n",
    "* Create pinecone index using the website\n",
    "* For dimension select the OpenAI model dimension\n",
    "\n",
    "2. Requires OpenAI access\n",
    "* https://platform.openai.com/docs/models/embeddings\n",
    "* Embedding Model:  text-embedding-ada-002 (1536)\n",
    "\n",
    "### REMOVE in final\n",
    "https://www.packtpub.com/article-hub/hands-on-tutorial-on-how-to-use-pinecone-with-langchain\n",
    "\n",
    "https://medium.com/@james.li/cheatsheet-for-pinecone-crud-using-langchain-caa0a5f97fe0"
   ]
  },
  {
   "cell_type": "code",
   "execution_count": 1,
   "id": "392b0882-b1eb-4444-8a83-6867f948d905",
   "metadata": {},
   "outputs": [],
   "source": [
    "!pip install --upgrade --quiet  langchain-pinecone langchain-openai langchain"
   ]
  },
  {
   "cell_type": "markdown",
   "id": "b33aa037-2f45-4c02-ac5e-e6e4a85d8f33",
   "metadata": {},
   "source": [
    "## Setup Pinecone index\n",
    "\n",
    "Two ways to do it:\n",
    "\n",
    "1. Set it up using the Pinecone console\n",
    "2. Use the Pinecone API to create the index"
   ]
  },
  {
   "cell_type": "markdown",
   "id": "dd986319-0498-467f-b71e-23f19da67f41",
   "metadata": {},
   "source": [
    "## Setup environment\n",
    "\n",
    "**Note**\n",
    "\n",
    "You MUST change the Location of the keys file"
   ]
  },
  {
   "cell_type": "code",
   "execution_count": 2,
   "id": "591e8870-6978-4b9c-8008-50780d8ac2c2",
   "metadata": {},
   "outputs": [],
   "source": [
    "from datasets import load_dataset\n",
    "from dotenv import load_dotenv\n",
    "import os\n",
    "import warnings\n",
    "from IPython.display import JSON\n",
    "\n",
    "warnings.filterwarnings(\"ignore\")\n",
    "\n",
    "# Load the file that contains the API keys\n",
    "load_dotenv('C:\\\\Users\\\\raj\\\\.jupyter\\\\.env')\n",
    "\n",
    "pinecone_api_key = os.environ.get('PINECONE_API_KEY')\n",
    "openai_api_key = os.environ.get('OPENAI_API_KEY')"
   ]
  },
  {
   "cell_type": "markdown",
   "id": "68896c62-65ae-454a-ac5c-df1deb6d3296",
   "metadata": {},
   "source": [
    "## Load data set\n",
    "\n",
    "acloudfan/newsgroups-mini"
   ]
  },
  {
   "cell_type": "code",
   "execution_count": 3,
   "id": "c7c1f0f4-e980-4e16-be5e-3f4ca93e6417",
   "metadata": {},
   "outputs": [
    {
     "data": {
      "text/plain": [
       "DatasetDict({\n",
       "    train: Dataset({\n",
       "        features: ['text', 'class'],\n",
       "        num_rows: 405\n",
       "    })\n",
       "    test: Dataset({\n",
       "        features: ['text', 'class'],\n",
       "        num_rows: 45\n",
       "    })\n",
       "})"
      ]
     },
     "execution_count": 3,
     "metadata": {},
     "output_type": "execute_result"
    }
   ],
   "source": [
    "dataset_name = 'acloudfan/newsgroups-mini'\n",
    "newsgroup_dataset = load_dataset(dataset_name)\n",
    "# Split the 'train' split to test & train\n",
    "newsgroup_dataset = newsgroup_dataset['train'].train_test_split(test_size=0.1)\n",
    "\n",
    "newsgroup_dataset"
   ]
  },
  {
   "cell_type": "markdown",
   "id": "11dfb3bd-6bf5-4abc-89fd-226ab99df0ba",
   "metadata": {},
   "source": [
    "## 1. Convert the text to LangChain documents with metadata"
   ]
  },
  {
   "cell_type": "code",
   "execution_count": 4,
   "id": "07e6e06c-be07-4ab5-a9a9-ddc157115c86",
   "metadata": {},
   "outputs": [
    {
     "data": {
      "text/plain": [
       "405"
      ]
     },
     "execution_count": 4,
     "metadata": {},
     "output_type": "execute_result"
    }
   ],
   "source": [
    "from langchain_pinecone import PineconeVectorStore\n",
    "from langchain.docstore.document import Document\n",
    "from langchain_openai import OpenAIEmbeddings\n",
    "\n",
    "pinecone_index_name = 'newsgroup'\n",
    "index_dimension = 1536\n",
    "\n",
    "train_docs = []\n",
    "doc_ids = []\n",
    "for row in newsgroup_dataset['train']:\n",
    "    doc_id = 'post-'+str(len(doc_ids))\n",
    "    doc_ids.append(doc_id)\n",
    "    # Add newsgroup name/class and id of the document as metadata\n",
    "    doc = Document(page_content=row['text'], metadata={'group': row['class'], 'id' :doc_id})\n",
    "    train_docs.append(doc)\n",
    "\n",
    "len(train_docs)"
   ]
  },
  {
   "cell_type": "markdown",
   "id": "b0e50f72-7361-4b39-8ab6-2e38c9b1ce06",
   "metadata": {},
   "source": [
    "## 2. Add the documents to the PineCone index\n",
    "**upsert** : If the document for given ID is already in the store, it will be updated for page_content and metadata\n",
    "\n",
    "You may break this into 2 parts:\n",
    "\n",
    "1. Create connection to Pinecone\n",
    "\n",
    "   *pinecone_vdb = PineconeVectorStore(index_name = pinecone_index_name, embedding = openai_embeddings)*\n",
    "   \n",
    "3. Add documents to the index by using the add method"
   ]
  },
  {
   "cell_type": "code",
   "execution_count": 5,
   "id": "0ec3d851-7c8f-4350-9e11-35caf94d02bb",
   "metadata": {},
   "outputs": [],
   "source": [
    "# Vector store requires access to the embedding model for converting the document to vector representation\n",
    "openai_embeddings = OpenAIEmbeddings()\n",
    "\n",
    "# Create the vector store  db object - adds the documents with upsert behavior\n",
    "pinecone_vdb = PineconeVectorStore.from_documents( train_docs, index_name = pinecone_index_name, embedding = openai_embeddings, ids=doc_ids)"
   ]
  },
  {
   "cell_type": "markdown",
   "id": "9ce5928f-1789-4982-9d6d-044b531502cb",
   "metadata": {},
   "source": [
    "## 3. Similarity Search with test data"
   ]
  },
  {
   "cell_type": "code",
   "execution_count": 6,
   "id": "9198bbae-a195-47b3-bf37-e5ebf87ad02e",
   "metadata": {},
   "outputs": [],
   "source": [
    "# Utility function for prining search results\n",
    "def print_search_results(docs,display_text=False):\n",
    "    for doc in docs:\n",
    "        print('-------')\n",
    "        print(doc.metadata)\n",
    "        if display_text: print(doc.page_content)"
   ]
  },
  {
   "cell_type": "code",
   "execution_count": 7,
   "id": "cd8a28ec-13ff-4ede-9264-eb10a1c93eb0",
   "metadata": {},
   "outputs": [
    {
     "name": "stdout",
     "output_type": "stream",
     "text": [
      "comp.sys.mac.hardware\n",
      "-------\n",
      "{'group': 'comp.sys.mac.hardware', 'id': 'post-129'}\n",
      "-------\n",
      "{'group': 'comp.sys.mac.hardware', 'id': 'post-303'}\n",
      "-------\n",
      "{'group': 'comp.sys.mac.hardware', 'id': 'post-205'}\n",
      "-------\n",
      "{'group': 'comp.os.ms-windows.misc', 'id': 'post-349'}\n",
      "-------\n",
      "{'group': 'comp.os.ms-windows.misc', 'id': 'post-22'}\n",
      "CPU times: total: 406 ms\n",
      "Wall time: 937 ms\n"
     ]
    }
   ],
   "source": [
    "%%time\n",
    "# This will create a new connection\n",
    "# Uncomment if you are facing running cells with long pauses - that may cause connection to drop\n",
    "pinecone_vdb = PineconeVectorStore(index_name = pinecone_index_name, embedding = openai_embeddings)\n",
    "\n",
    "\n",
    "# Must be < 45  (newsgroup_dataset['test'].num_rows)\n",
    "test_post_index = 22\n",
    "\n",
    "test_query = newsgroup_dataset['test'][test_post_index]['text']\n",
    "print(newsgroup_dataset['test'][test_post_index]['class'])\n",
    "# print(newsgroup_dataset['test'][test_post_index]['text'])\n",
    "\n",
    "# Change the value of k for \n",
    "k = 5\n",
    "\n",
    "# similarity search\n",
    "docs = pinecone_vdb.similarity_search(test_query, k = k)\n",
    "print_search_results(docs)"
   ]
  },
  {
   "cell_type": "markdown",
   "id": "1fd91480-a94c-4a62-9b08-fc4c2083dff4",
   "metadata": {},
   "source": [
    "## 4. MMR Search"
   ]
  },
  {
   "cell_type": "code",
   "execution_count": 8,
   "id": "455d9c53-de50-4dee-b29a-bf02fd646bac",
   "metadata": {},
   "outputs": [
    {
     "name": "stdout",
     "output_type": "stream",
     "text": [
      "-------\n",
      "{'group': 'comp.sys.mac.hardware', 'id': 'post-129'}\n",
      "-------\n",
      "{'group': 'comp.sys.mac.hardware', 'id': 'post-173'}\n",
      "-------\n",
      "{'group': 'comp.sys.mac.hardware', 'id': 'post-205'}\n"
     ]
    }
   ],
   "source": [
    "lambda_mult = 0.5\n",
    "\n",
    "docs = pinecone_vdb.max_marginal_relevance_search(test_query, k=3, fetch_k=10, lambda_mult=lambda_mult)\n",
    "\n",
    "print_search_results(docs)"
   ]
  },
  {
   "cell_type": "markdown",
   "id": "d767115e-7ce5-4686-9075-eb4d54a2e6eb",
   "metadata": {},
   "source": [
    "## 5. Search with relevance score\n",
    "\n",
    "Returns a list of docs and scores as tuples\n",
    "\n",
    "https://api.python.langchain.com/en/latest/vectorstores/langchain_core.vectorstores.VectorStore.html#langchain_core.vectorstores.VectorStore.similarity_search_with_relevance_scores\n",
    "\r\n",
    "Return docs and relevance scores in the range [0, 1 ]"
   ]
  },
  {
   "cell_type": "code",
   "execution_count": 9,
   "id": "1ef69f81-ade3-4c31-9ea1-4792bf078c48",
   "metadata": {},
   "outputs": [
    {
     "name": "stdout",
     "output_type": "stream",
     "text": [
      "Relevance score =  1.001629355\n",
      "-------\n",
      "{'group': 'comp.sys.mac.hardware', 'id': 'post-129'}\n",
      "\n",
      "Relevance score =  0.9190459845000001\n",
      "-------\n",
      "{'group': 'comp.sys.mac.hardware', 'id': 'post-205'}\n",
      "\n",
      "Relevance score =  0.9190459845000001\n",
      "-------\n",
      "{'group': 'comp.sys.mac.hardware', 'id': 'post-303'}\n",
      "\n",
      "Relevance score =  0.9069040420000001\n",
      "-------\n",
      "{'group': 'comp.os.ms-windows.misc', 'id': 'post-22'}\n",
      "\n",
      "Relevance score =  0.9069040420000001\n",
      "-------\n",
      "{'group': 'comp.os.ms-windows.misc', 'id': 'post-349'}\n",
      "\n",
      "Relevance score =  0.906125903\n",
      "-------\n",
      "{'group': 'comp.sys.mac.hardware', 'id': 'post-59'}\n",
      "\n",
      "Relevance score =  0.9032123384999999\n",
      "-------\n",
      "{'group': 'comp.sys.mac.hardware', 'id': 'post-173'}\n",
      "\n",
      "Relevance score =  0.9032123384999999\n",
      "-------\n",
      "{'group': 'comp.sys.mac.hardware', 'id': 'post-271'}\n",
      "\n",
      "Relevance score =  0.902611971\n",
      "-------\n",
      "{'group': 'comp.sys.mac.hardware', 'id': 'post-103'}\n",
      "\n",
      "Relevance score =  0.902611971\n",
      "-------\n",
      "{'group': 'comp.sys.mac.hardware', 'id': 'post-262'}\n",
      "\n"
     ]
    }
   ],
   "source": [
    "# Returns a list of tuples (Document, Score)\n",
    "doc_distance_tuples = pinecone_vdb.similarity_search_with_relevance_scores(test_query, k=10)\n",
    "for doc_distance_tuple in  doc_distance_tuples:\n",
    "    print(\"Relevance score = \", doc_distance_tuple[1])\n",
    "    print_search_results([doc_distance_tuple[0]])\n",
    "    print()\n"
   ]
  },
  {
   "cell_type": "markdown",
   "id": "b4be158b-d04d-415f-a328-ee9e2a659f68",
   "metadata": {},
   "source": [
    "## 6.  Run similarity search with distance.\n",
    "\n",
    "https://api.python.langchain.com/en/latest/vectorstores/langchain_core.vectorstores.VectorStore.html#langchain_core.vectorstores.VectorStore.similarity_search_with_score\n",
    "\n"
   ]
  },
  {
   "cell_type": "code",
   "execution_count": 10,
   "id": "a1e2e571-dd28-4732-adcd-4ea080c566ff",
   "metadata": {},
   "outputs": [
    {
     "name": "stdout",
     "output_type": "stream",
     "text": [
      "Distance score =  1.00325871\n",
      "-------\n",
      "{'group': 'comp.sys.mac.hardware', 'id': 'post-129'}\n",
      "\n",
      "Distance score =  0.838091969\n",
      "-------\n",
      "{'group': 'comp.sys.mac.hardware', 'id': 'post-205'}\n",
      "\n",
      "Distance score =  0.838091969\n",
      "-------\n",
      "{'group': 'comp.sys.mac.hardware', 'id': 'post-303'}\n",
      "\n",
      "Distance score =  0.813808084\n",
      "-------\n",
      "{'group': 'comp.os.ms-windows.misc', 'id': 'post-22'}\n",
      "\n",
      "Distance score =  0.813808084\n",
      "-------\n",
      "{'group': 'comp.os.ms-windows.misc', 'id': 'post-349'}\n",
      "\n",
      "Distance score =  0.812251806\n",
      "-------\n",
      "{'group': 'comp.sys.mac.hardware', 'id': 'post-59'}\n",
      "\n",
      "Distance score =  0.806424677\n",
      "-------\n",
      "{'group': 'comp.sys.mac.hardware', 'id': 'post-173'}\n",
      "\n",
      "Distance score =  0.806424677\n",
      "-------\n",
      "{'group': 'comp.sys.mac.hardware', 'id': 'post-271'}\n",
      "\n",
      "Distance score =  0.805223942\n",
      "-------\n",
      "{'group': 'comp.sys.mac.hardware', 'id': 'post-262'}\n",
      "\n",
      "Distance score =  0.805223942\n",
      "-------\n",
      "{'group': 'comp.sys.mac.hardware', 'id': 'post-103'}\n",
      "\n"
     ]
    }
   ],
   "source": [
    "# Returns a list of tuples (Document, Score)\n",
    "doc_distance_tuples = pinecone_vdb.similarity_search_with_score(test_query, k=10)\n",
    "for doc_distance_tuple in  doc_distance_tuples:\n",
    "    print(\"Distance score = \", doc_distance_tuple[1])\n",
    "    print_search_results([doc_distance_tuple[0]])\n",
    "    print()\n"
   ]
  },
  {
   "cell_type": "markdown",
   "id": "78d85a2d-c825-4a7c-8c8c-f19a16efe092",
   "metadata": {},
   "source": [
    "## 7. Search\n",
    "\n",
    "https://api.python.langchain.com/en/latest/vectorstores/langchain_core.vectorstores.VectorStore.html#langchain_core.vectorstores.VectorStore.search\n",
    "\n",
    "https://python.langchain.com/docs/modules/data_connection/retrievers/vectorstore#similarity-score-threshold-retrieval\n",
    "\n",
    "search(query: str, search_type: str, **kwargs: Any)\n",
    "\n",
    "**search_type** = similarity, similarity_score_threshold, mmr\n",
    "\n",
    "**Note**\n",
    "* Pinecone does not support *similarity_score_threshold*\n"
   ]
  },
  {
   "cell_type": "code",
   "execution_count": 11,
   "id": "a06c0396-6f33-45f6-9fdc-53afebdaac47",
   "metadata": {},
   "outputs": [
    {
     "name": "stdout",
     "output_type": "stream",
     "text": [
      "-------\n",
      "{'group': 'comp.sys.mac.hardware', 'id': 'post-129'}\n",
      "-------\n",
      "{'group': 'comp.sys.mac.hardware', 'id': 'post-205'}\n",
      "-------\n",
      "{'group': 'comp.sys.mac.hardware', 'id': 'post-303'}\n"
     ]
    }
   ],
   "source": [
    "# Similarity search\n",
    "kwargs={\"k\": 3}\n",
    "\n",
    "docs = pinecone_vdb.search(test_query, \"similarity\", **kwargs)\n",
    "\n",
    "print_search_results(docs)"
   ]
  },
  {
   "cell_type": "code",
   "execution_count": 12,
   "id": "ce6c8021-5912-48b8-86e7-146488697f1a",
   "metadata": {},
   "outputs": [
    {
     "name": "stdout",
     "output_type": "stream",
     "text": [
      "-------\n",
      "{'group': 'comp.sys.mac.hardware', 'id': 'post-129'}\n",
      "-------\n",
      "{'group': 'comp.sys.mac.hardware', 'id': 'post-173'}\n",
      "-------\n",
      "{'group': 'comp.sys.mac.hardware', 'id': 'post-205'}\n"
     ]
    }
   ],
   "source": [
    "# MMR Search\n",
    "kwargs={\"k\": 3, \"fetch_k\": 10}\n",
    "\n",
    "docs = pinecone_vdb.search(test_query, \"mmr\", **kwargs)\n",
    "\n",
    "print_search_results(docs)"
   ]
  },
  {
   "cell_type": "code",
   "execution_count": null,
   "id": "5b937093-d41e-46fc-9c53-66ef74d19d50",
   "metadata": {},
   "outputs": [],
   "source": []
  }
 ],
 "metadata": {
  "kernelspec": {
   "display_name": "Python 3 (ipykernel)",
   "language": "python",
   "name": "python3"
  },
  "language_info": {
   "codemirror_mode": {
    "name": "ipython",
    "version": 3
   },
   "file_extension": ".py",
   "mimetype": "text/x-python",
   "name": "python",
   "nbconvert_exporter": "python",
   "pygments_lexer": "ipython3",
   "version": "3.11.8"
  }
 },
 "nbformat": 4,
 "nbformat_minor": 5
}
