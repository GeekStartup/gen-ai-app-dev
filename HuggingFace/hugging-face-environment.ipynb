{
 "cells": [
  {
   "cell_type": "markdown",
   "id": "d8fe8dbb",
   "metadata": {},
   "source": [
    "# Hugging Face environment"
   ]
  },
  {
   "cell_type": "code",
   "execution_count": 1,
   "id": "52615d9c",
   "metadata": {},
   "outputs": [],
   "source": [
    "!pip install huggingface_hub[cli] -q"
   ]
  },
  {
   "cell_type": "markdown",
   "id": "0f383ac5",
   "metadata": {},
   "source": [
    "## Hugging Face CLI\n",
    "A tool for interacting with Hugging Face Hub.\n",
    "\n",
    "https://huggingface.co/docs/huggingface_hub/guides/cli"
   ]
  },
  {
   "cell_type": "code",
   "execution_count": 2,
   "id": "3052353d",
   "metadata": {},
   "outputs": [
    {
     "name": "stdout",
     "output_type": "stream",
     "text": [
      "usage: huggingface-cli <command> [<args>]\n",
      "\n",
      "positional arguments:\n",
      "  {env,login,whoami,logout,repo,upload,download,lfs-enable-largefiles,lfs-multipart-upload,scan-cache,delete-cache}\n",
      "                        huggingface-cli command helpers\n",
      "    env                 Print information about the environment.\n",
      "    login               Log in using a token from\n",
      "                        huggingface.co/settings/tokens\n",
      "    whoami              Find out which huggingface.co account you are logged\n",
      "                        in as.\n",
      "    logout              Log out\n",
      "    repo                {create} Commands to interact with your huggingface.co\n",
      "                        repos.\n",
      "    upload              Upload a file or a folder to a repo on the Hub\n",
      "    download            Download files from the Hub\n",
      "    lfs-enable-largefiles\n",
      "                        Configure your repository to enable upload of files >\n",
      "                        5GB.\n",
      "    scan-cache          Scan cache directory.\n",
      "    delete-cache        Delete revisions from the cache directory.\n",
      "\n",
      "options:\n",
      "  -h, --help            show this help message and exit\n"
     ]
    }
   ],
   "source": [
    "!huggingface-cli --help"
   ]
  },
  {
   "cell_type": "code",
   "execution_count": 4,
   "id": "57a7f564",
   "metadata": {},
   "outputs": [
    {
     "name": "stdout",
     "output_type": "stream",
     "text": [
      "\n",
      "Copy-and-paste the text below in your GitHub issue.\n",
      "\n",
      "- huggingface_hub version: 0.20.2\n",
      "- Platform: Windows-10-10.0.19045-SP0\n",
      "- Python version: 3.11.7\n",
      "- Running in iPython ?: No\n",
      "- Running in notebook ?: No\n",
      "- Running in Google Colab ?: No\n",
      "- Token path ?: C:\\Users\\raj\\.cache\\huggingface\\token\n",
      "- Has saved token ?: False\n",
      "- Configured git credential helpers: manager\n",
      "- FastAI: N/A\n",
      "- Tensorflow: N/A\n",
      "- Torch: 2.1.2\n",
      "- Jinja2: 3.1.2\n",
      "- Graphviz: N/A\n",
      "- Pydot: N/A\n",
      "- Pillow: N/A\n",
      "- hf_transfer: N/A\n",
      "- gradio: N/A\n",
      "- tensorboard: N/A\n",
      "- numpy: 1.26.3\n",
      "- pydantic: N/A\n",
      "- aiohttp: N/A\n",
      "- ENDPOINT: https://huggingface.co\n",
      "- HF_HUB_CACHE: C:\\Users\\raj\\.cache\\huggingface\\hub\n",
      "- HF_ASSETS_CACHE: C:\\Users\\raj\\.cache\\huggingface\\assets\n",
      "- HF_TOKEN_PATH: C:\\Users\\raj\\.cache\\huggingface\\token\n",
      "- HF_HUB_OFFLINE: False\n",
      "- HF_HUB_DISABLE_TELEMETRY: False\n",
      "- HF_HUB_DISABLE_PROGRESS_BARS: None\n",
      "- HF_HUB_DISABLE_SYMLINKS_WARNING: False\n",
      "- HF_HUB_DISABLE_EXPERIMENTAL_WARNING: False\n",
      "- HF_HUB_DISABLE_IMPLICIT_TOKEN: False\n",
      "- HF_HUB_ENABLE_HF_TRANSFER: False\n",
      "- HF_HUB_ETAG_TIMEOUT: 10\n",
      "- HF_HUB_DOWNLOAD_TIMEOUT: 10\n",
      "\n"
     ]
    }
   ],
   "source": [
    "!huggingface-cli env"
   ]
  },
  {
   "cell_type": "markdown",
   "id": "bf9dadc0",
   "metadata": {},
   "source": [
    "## Caching\n",
    "Hugging Face APIs caches the assets downloaded from the hub. This provides better performance.\n",
    "\n",
    "\n",
    "https://huggingface.co/docs/huggingface_hub/guides/manage-cache"
   ]
  },
  {
   "cell_type": "code",
   "execution_count": 3,
   "id": "f344936b",
   "metadata": {},
   "outputs": [
    {
     "name": "stdout",
     "output_type": "stream",
     "text": [
      "REPO ID                                          REPO TYPE SIZE ON DISK NB FILES LAST_ACCESSED LAST_MODIFIED REFS LOCAL PATH                                                                                    \n",
      "------------------------------------------------ --------- ------------ -------- ------------- ------------- ---- --------------------------------------------------------------------------------------------- \n",
      "acloudfan/wikismall                              dataset           4.3K        9 1 week ago    1 week ago    main C:\\Users\\raj\\.cache\\huggingface\\hub\\datasets--acloudfan--wikismall                            \n",
      "acloudfan/wikismall-bert-pre-processed           dataset           7.9K       15 1 week ago    1 week ago    main C:\\Users\\raj\\.cache\\huggingface\\hub\\datasets--acloudfan--wikismall-bert-pre-processed         \n",
      "acloudfan/wikismall-nsp                          dataset           1.4K        4 1 week ago    1 week ago    main C:\\Users\\raj\\.cache\\huggingface\\hub\\datasets--acloudfan--wikismall-nsp                        \n",
      "acloudfan/wikismall-bert                         model           327.0K       11 1 week ago    1 week ago    main C:\\Users\\raj\\.cache\\huggingface\\hub\\models--acloudfan--wikismall-bert                         \n",
      "acloudfan/wikismall-roberta                      model           502.2M        7 6 days ago    1 week ago    main C:\\Users\\raj\\.cache\\huggingface\\hub\\models--acloudfan--wikismall-roberta                      \n",
      "acloudfan/wikismall_bert                         model            82.3K        4 1 week ago    1 week ago    main C:\\Users\\raj\\.cache\\huggingface\\hub\\models--acloudfan--wikismall_bert                         \n",
      "bert-base-cased                                  model           436.4M        5 1 week ago    2 months ago  main C:\\Users\\raj\\.cache\\huggingface\\hub\\models--bert-base-cased                                   \n",
      "bert-base-uncased                                model           441.1M        5 1 week ago    2 months ago  main C:\\Users\\raj\\.cache\\huggingface\\hub\\models--bert-base-uncased                                 \n",
      "bert-large-uncased                               model            571.0        1 2 weeks ago   5 weeks ago   main C:\\Users\\raj\\.cache\\huggingface\\hub\\models--bert-large-uncased                                \n",
      "dbmdz/bert-large-cased-finetuned-conll03-english model             1.3G        4 6 weeks ago   2 months ago  main C:\\Users\\raj\\.cache\\huggingface\\hub\\models--dbmdz--bert-large-cased-finetuned-conll03-english \n",
      "distilbert-base-cased-distilled-squad            model           261.4M        5 3 days ago    3 weeks ago   main C:\\Users\\raj\\.cache\\huggingface\\hub\\models--distilbert-base-cased-distilled-squad             \n",
      "distilbert-base-uncased                          model           268.7M        5 3 weeks ago   2 months ago  main C:\\Users\\raj\\.cache\\huggingface\\hub\\models--distilbert-base-uncased                           \n",
      "distilbert-base-uncased-distilled-squad          model           266.2M        5 6 weeks ago   6 weeks ago   main C:\\Users\\raj\\.cache\\huggingface\\hub\\models--distilbert-base-uncased-distilled-squad           \n",
      "distilbert-base-uncased-finetuned-sst-2-english  model           536.1M        8 2 days ago    3 weeks ago   main C:\\Users\\raj\\.cache\\huggingface\\hub\\models--distilbert-base-uncased-finetuned-sst-2-english   \n",
      "distilroberta-base                               model           333.8M        5 1 week ago    6 weeks ago   main C:\\Users\\raj\\.cache\\huggingface\\hub\\models--distilroberta-base                                \n",
      "facebook/bart-base                               model           560.4M        5 3 weeks ago   3 weeks ago   main C:\\Users\\raj\\.cache\\huggingface\\hub\\models--facebook--bart-base                               \n",
      "facebook/bart-large-cnn                          model             1.6G        6 22 hours ago  6 weeks ago   main C:\\Users\\raj\\.cache\\huggingface\\hub\\models--facebook--bart-large-cnn                          \n",
      "facebook/bart-large-mnli                         model             1.6G        6 6 weeks ago   6 weeks ago   main C:\\Users\\raj\\.cache\\huggingface\\hub\\models--facebook--bart-large-mnli                         \n",
      "facebook/blenderbot_small-90M                    model           351.7M        7 3 weeks ago   3 weeks ago   main C:\\Users\\raj\\.cache\\huggingface\\hub\\models--facebook--blenderbot_small-90M                    \n",
      "facebook/nllb-200-distilled-1.3B                 model             5.5G        7 6 weeks ago   6 weeks ago   main C:\\Users\\raj\\.cache\\huggingface\\hub\\models--facebook--nllb-200-distilled-1.3B                 \n",
      "facebook/nllb-200-distilled-600M                 model             2.5G        7 6 weeks ago   6 weeks ago   main C:\\Users\\raj\\.cache\\huggingface\\hub\\models--facebook--nllb-200-distilled-600M                 \n",
      "Falconsai/text_summarization                     model           245.3M        7 22 hours ago  22 hours ago  main C:\\Users\\raj\\.cache\\huggingface\\hub\\models--Falconsai--text_summarization                     \n",
      "google/bigbird-roberta-base                      model           848.3K        4 3 weeks ago   3 weeks ago   main C:\\Users\\raj\\.cache\\huggingface\\hub\\models--google--bigbird-roberta-base                      \n",
      "google/flan-t5-base                              model           993.6M        7 4 weeks ago   2 months ago  main C:\\Users\\raj\\.cache\\huggingface\\hub\\models--google--flan-t5-base                              \n",
      "google/flan-t5-small                             model           311.1M        7 22 hours ago  6 weeks ago   main C:\\Users\\raj\\.cache\\huggingface\\hub\\models--google--flan-t5-small                             \n",
      "google/madlad400-3b-mt                           model            749.0        1 6 weeks ago   6 weeks ago   main C:\\Users\\raj\\.cache\\huggingface\\hub\\models--google--madlad400-3b-mt                           \n",
      "google/pegasus-cnn_dailymail                     model             2.3G        6 6 weeks ago   6 weeks ago   main C:\\Users\\raj\\.cache\\huggingface\\hub\\models--google--pegasus-cnn_dailymail                     \n",
      "google/pegasus-large                             model             2.3G        6 22 hours ago  22 hours ago  main C:\\Users\\raj\\.cache\\huggingface\\hub\\models--google--pegasus-large                             \n",
      "google/pegasus-xsum                              model             2.3G        7 23 hours ago  23 hours ago  main C:\\Users\\raj\\.cache\\huggingface\\hub\\models--google--pegasus-xsum                              \n",
      "google/t5-11b-ssm-tqa                            model            596.0        1 6 weeks ago   6 weeks ago   main C:\\Users\\raj\\.cache\\huggingface\\hub\\models--google--t5-11b-ssm-tqa                            \n",
      "gpt2                                             model           551.0M        6 3 weeks ago   3 weeks ago   main C:\\Users\\raj\\.cache\\huggingface\\hub\\models--gpt2                                              \n",
      "L-R/LLmRa-2.7B                                   model             3.4M        7 3 weeks ago   3 weeks ago   main C:\\Users\\raj\\.cache\\huggingface\\hub\\models--L-R--LLmRa-2.7B                                   \n",
      "microsoft/DialoGPT-small                         model           352.8M        6 3 weeks ago   3 weeks ago   main C:\\Users\\raj\\.cache\\huggingface\\hub\\models--microsoft--DialoGPT-small                         \n",
      "microsoft/prophetnet-large-uncased               model             1.6G        6 3 weeks ago   3 weeks ago   main C:\\Users\\raj\\.cache\\huggingface\\hub\\models--microsoft--prophetnet-large-uncased               \n",
      "numind/generic-entity_recognition_NER-v1         model           501.5M        7 2 months ago  2 months ago  main C:\\Users\\raj\\.cache\\huggingface\\hub\\models--numind--generic-entity_recognition_NER-v1         \n",
      "roberta-base                                     model           501.5M        5 6 days ago    1 week ago    main C:\\Users\\raj\\.cache\\huggingface\\hub\\models--roberta-base                                      \n",
      "sentence-transformers/all-MiniLM-L6-v2           model            91.6M        6 2 weeks ago   5 weeks ago   main C:\\Users\\raj\\.cache\\huggingface\\hub\\models--sentence-transformers--all-MiniLM-L6-v2           \n",
      "sentence-transformers/all-mpnet-base-v2          model           698.2K        4 3 weeks ago   3 weeks ago   main C:\\Users\\raj\\.cache\\huggingface\\hub\\models--sentence-transformers--all-mpnet-base-v2          \n",
      "sgugger/bert-like-tokenizer                      model           539.9K        4 1 week ago    1 week ago    main C:\\Users\\raj\\.cache\\huggingface\\hub\\models--sgugger--bert-like-tokenizer                      \n",
      "sgugger/gpt2-like-tokenizer                      model             1.3M        5 1 week ago    1 week ago    main C:\\Users\\raj\\.cache\\huggingface\\hub\\models--sgugger--gpt2-like-tokenizer                      \n",
      "t5-large                                         model             2.2M        3 4 weeks ago   4 weeks ago   main C:\\Users\\raj\\.cache\\huggingface\\hub\\models--t5-large                                          \n",
      "xlm-roberta-large-finetuned-conll03-english      model             2.3G        4 6 weeks ago   6 weeks ago   main C:\\Users\\raj\\.cache\\huggingface\\hub\\models--xlm-roberta-large-finetuned-conll03-english       \n",
      "xlnet-base-cased                                 model           469.2M        5 6 weeks ago   6 weeks ago   main C:\\Users\\raj\\.cache\\huggingface\\hub\\models--xlnet-base-cased                                  \n",
      "\n",
      "Done in 2.0s. Scanned 43 repo(s) for a total of \u001b[1m\u001b[31m31.2G\u001b[0m.\n",
      "\u001b[90mGot 22 warning(s) while scanning. Use -vvv to print details.\u001b[0m\n"
     ]
    }
   ],
   "source": [
    "# Checkout the downloaded assets\n",
    "!huggingface-cli scan-cache"
   ]
  },
  {
   "cell_type": "markdown",
   "id": "8ee48e6a",
   "metadata": {},
   "source": [
    "### Change the caching folder\n",
    "\n",
    "You may change the caching folder by setting the environment variable HF_HUB_CACHE"
   ]
  },
  {
   "cell_type": "code",
   "execution_count": null,
   "id": "45a24cf0",
   "metadata": {},
   "outputs": [],
   "source": [
    "%env HF_HUB_CACHE=C:\\Users\\raj\\OneDrive\\Documents\\temp"
   ]
  },
  {
   "cell_type": "markdown",
   "id": "1dff4a87",
   "metadata": {},
   "source": [
    "### Cleaning the cache\n",
    "You may delete the model folder directly or use the CLI\n",
    "\n",
    "You need to run the command in a terminal and select the revisions that you would like to delete\n",
    "\n",
    "*huggingface-cli  delete-cache*"
   ]
  },
  {
   "cell_type": "markdown",
   "id": "6fcd12db",
   "metadata": {},
   "source": [
    "### Degraded cache performance warning\n",
    "\n",
    "**Windows**\n",
    "\n",
    "HF caching system uses Sym Links that are not available on Windows. So on Windows you will see a warning indicating that caching is degraded; you may ignore it or you may suppress the warning by using the following environment variable.\n",
    "\n",
    "%env HF_HUB_DISABLE_SYMLINKS_WARNING=True"
   ]
  },
  {
   "cell_type": "code",
   "execution_count": null,
   "id": "d2d019fa",
   "metadata": {},
   "outputs": [],
   "source": []
  }
 ],
 "metadata": {
  "kernelspec": {
   "display_name": "Python 3 (ipykernel)",
   "language": "python",
   "name": "python3"
  },
  "language_info": {
   "codemirror_mode": {
    "name": "ipython",
    "version": 3
   },
   "file_extension": ".py",
   "mimetype": "text/x-python",
   "name": "python",
   "nbconvert_exporter": "python",
   "pygments_lexer": "ipython3",
   "version": "3.11.7"
  }
 },
 "nbformat": 4,
 "nbformat_minor": 5
}
