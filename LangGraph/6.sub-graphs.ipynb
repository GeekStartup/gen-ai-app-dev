{
 "cells": [
  {
   "cell_type": "markdown",
   "id": "11d9d8b5-8d47-45e0-a4c5-e7c9efc5983b",
   "metadata": {},
   "source": [
    "# Subgraphs\n",
    "\n",
    "A subgraph is a graph that is used as a node in another graph. This helps with:\n",
    "* Encapsulation of re-usable graphs\n",
    "* Simplifies the design of complex system such as multi-agent systems\n",
    "* Independent development of graphs (think microservices)\n",
    "\n",
    "## State management\n",
    "Parent & Subgraph may have different state keys. There are 2 options to deal with the state\n",
    "\n",
    "1. **Shared schema keys** : Parent & subgraph can have *shared state keys* in their state schema\n",
    "   - Add subgraph as a node\n",
    "2. **Different schema** : Subgraph invoked from a node in the parent graph\n",
    "   - Call the subgraph from inside a node\n",
    "   - Transform the state before/after the call to subgraph\n",
    "\n",
    "https://langchain-ai.github.io/langgraph/concepts/subgraphs/\n",
    "\n",
    "### Note\n",
    "The code is intentionally kept simple as the intent is to show the working of subgraphs. The subgraph can be complex graphs with fully blown functionality."
   ]
  },
  {
   "cell_type": "code",
   "execution_count": 1,
   "id": "a5d209cc-1d13-4037-9c86-127c9e69225d",
   "metadata": {},
   "outputs": [],
   "source": [
    "from langgraph.graph import StateGraph, START, END\n",
    "from typing import List, Annotated, TypedDict\n",
    "from IPython.display import Image, display\n",
    "import random\n",
    "import operator"
   ]
  },
  {
   "cell_type": "markdown",
   "id": "30171099-e007-4784-bf90-5972d2b81e31",
   "metadata": {},
   "source": [
    "## Parent state\n",
    "\n",
    "Define the state of the parent"
   ]
  },
  {
   "cell_type": "code",
   "execution_count": 2,
   "id": "68e4f369-bfdb-4ae3-bef3-d9632dc8185a",
   "metadata": {},
   "outputs": [],
   "source": [
    "# State schema of the parent graph\n",
    "class StateParentGraph(TypedDict):\n",
    "    topic: str                     # Report topic\n",
    "    report: str                    # Generated content of the report\n",
    "    quality: float                 # Refers to a score between 1 & 5\n"
   ]
  },
  {
   "cell_type": "markdown",
   "id": "41e2d269-41c6-4f57-a185-b99dcea35b4e",
   "metadata": {},
   "source": [
    "## Subgraphs"
   ]
  },
  {
   "cell_type": "markdown",
   "id": "e3ad9527-7492-4017-901d-23f28095ba10",
   "metadata": {},
   "source": [
    "### Research subgraph : shares keys with parent\n",
    "* Simple graph to demonstrate the working of a subgraph.\n",
    "* Added as a node to the parent graph"
   ]
  },
  {
   "cell_type": "code",
   "execution_count": 3,
   "id": "fc2eb942-8ca0-4a1f-ad1a-fb4cdf5cb47a",
   "metadata": {},
   "outputs": [
    {
     "data": {
      "image/png": "[encoded data removed]",
      "text/plain": [
       "<IPython.core.display.Image object>"
      ]
     },
     "metadata": {},
     "output_type": "display_data"
    }
   ],
   "source": [
    "# State schema shares the 'report' attribute with the parent\n",
    "class  StateResearchSubgraph(TypedDict):\n",
    "    topic: str\n",
    "    report: str  # Shared attribute\n",
    "    \n",
    "# Dummy processing\n",
    "def research_node(state: StateResearchSubgraph) -> TypedDict:\n",
    "    return { \"report\": f\"This is a dummy report on {state[\"topic\"]}\"}\n",
    "\n",
    "# Create the subgraph\n",
    "subgraph_research = StateGraph(StateResearchSubgraph)\n",
    "\n",
    "# Add the research node\n",
    "subgraph_research.add_node(\"research_node\", research_node)\n",
    "\n",
    "# Add the edges\n",
    "subgraph_research.add_edge(START, \"research_node\")\n",
    "subgraph_research.add_edge(\"research_node\", END)\n",
    "\n",
    "subgraph_research_compiled = subgraph_research.compile()\n",
    "\n",
    "# Unit testing\n",
    "# subgraph_research_compiled.invoke({\"topic\": \"movies\"})\n",
    "\n",
    "# Display subgraph\n",
    "display(Image(subgraph_research_compiled.get_graph().draw_mermaid_png()))"
   ]
  },
  {
   "cell_type": "markdown",
   "id": "684058a5-df32-4421-8f44-d32fcaded0aa",
   "metadata": {},
   "source": [
    "### Reviewer subgraph : doesn't shares keys with parent\n",
    "* A node is created in the parent graph to invoke this graph"
   ]
  },
  {
   "cell_type": "code",
   "execution_count": 4,
   "id": "d9524f8d-7fd5-453e-b68d-a10d821ed669",
   "metadata": {},
   "outputs": [
    {
     "data": {
      "image/png": "[encoded data removed]",
      "text/plain": [
       "<IPython.core.display.Image object>"
      ]
     },
     "metadata": {},
     "output_type": "display_data"
    }
   ],
   "source": [
    "class  StateReviewerSubgraph(TypedDict):\n",
    "    content: str\n",
    "    score: int\n",
    "\n",
    "def review_node(state: StateReviewerSubgraph) -> TypedDict:\n",
    "    return { \"score\": 3}\n",
    "\n",
    "subgraph_review = StateGraph(StateReviewerSubgraph)\n",
    "\n",
    "subgraph_review.add_node(\"review\", review_node)\n",
    "\n",
    "subgraph_review.add_edge(START, \"review\")\n",
    "subgraph_review.add_edge(\"review\", END)\n",
    "\n",
    "subgraph_review_compiled = subgraph_review.compile()\n",
    "\n",
    "subgraph_review_compiled.invoke({\"article\": \"another dummy text\"})\n",
    "\n",
    "# Display subgraph\n",
    "display(Image(subgraph_review_compiled.get_graph().draw_mermaid_png()))"
   ]
  },
  {
   "cell_type": "markdown",
   "id": "7273a720-2ffc-449f-a67b-b97f024ec7f6",
   "metadata": {},
   "source": [
    "## Parent graph"
   ]
  },
  {
   "cell_type": "code",
   "execution_count": 5,
   "id": "ec22e19b-361a-4005-a539-eb71eaa099a7",
   "metadata": {},
   "outputs": [
    {
     "data": {
      "image/png": "[encoded data removed]",
      "text/plain": [
       "<IPython.core.display.Image object>"
      ]
     },
     "metadata": {},
     "output_type": "display_data"
    },
    {
     "data": {
      "text/plain": [
       "{'topic': 'movies', 'report': 'This is a dummy report on movies', 'quality': 3}"
      ]
     },
     "execution_count": 5,
     "metadata": {},
     "output_type": "execute_result"
    }
   ],
   "source": [
    "# Parent node\n",
    "# Dummy node that picks a topic for research\n",
    "def topic_node(StateParentGraph):\n",
    "    # some processing\n",
    "    return {\"topic\": \"movies\"}\n",
    "\n",
    "# Parent node : invokes subgraph for review (subgraph without shared key)\n",
    "# 1. Converts the state schema to match with the state schema supported by Review node\n",
    "# 2 Node invokes the subgraph \n",
    "# 3. Converts the response to the state schema for the parent graph\n",
    "def review_node(state:StateParentGraph):\n",
    "    response = subgraph_review_compiled.invoke({\"content\": state[\"report\"]})\n",
    "    review_score = response[\"score\"]\n",
    "    return {\"quality\": review_score}\n",
    "\n",
    "\n",
    "# Graph\n",
    "parent_graph = StateGraph(StateParentGraph)\n",
    "\n",
    "parent_graph.add_node(\"topic_selection\",topic_node)\n",
    "# subgraph with shared keys\n",
    "parent_graph.add_node(\"research_node\",subgraph_research_compiled)\n",
    "# subgraph without shared keys\n",
    "parent_graph.add_node(\"review_node\",review_node)\n",
    "\n",
    "# Add edges\n",
    "parent_graph.add_edge(START, \"topic_selection\")\n",
    "parent_graph.add_edge(\"topic_selection\", \"research_node\")\n",
    "parent_graph.add_edge(\"research_node\",\"review_node\")\n",
    "parent_graph.add_edge(\"review_node\", END)\n",
    "\n",
    "# Compile\n",
    "parent_graph_compiled = parent_graph.compile()\n",
    "\n",
    "# Display\n",
    "display(Image(parent_graph_compiled.get_graph().draw_mermaid_png()))\n",
    "\n",
    "# Invoke\n",
    "parent_graph_compiled.invoke({})"
   ]
  },
  {
   "cell_type": "code",
   "execution_count": null,
   "id": "272c0ffb-f00c-44ef-8691-d94e279a43b3",
   "metadata": {},
   "outputs": [],
   "source": []
  }
 ],
 "metadata": {
  "kernelspec": {
   "display_name": "Python 3 (ipykernel)",
   "language": "python",
   "name": "python3"
  },
  "language_info": {
   "codemirror_mode": {
    "name": "ipython",
    "version": 3
   },
   "file_extension": ".py",
   "mimetype": "text/x-python",
   "name": "python",
   "nbconvert_exporter": "python",
   "pygments_lexer": "ipython3",
   "version": "3.12.9"
  }
 },
 "nbformat": 4,
 "nbformat_minor": 5
}
