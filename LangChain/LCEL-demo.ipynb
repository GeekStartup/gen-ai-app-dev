{
 "cells": [
  {
   "cell_type": "markdown",
   "id": "22af6388-7c56-4ff8-9217-ec5dbb19df50",
   "metadata": {},
   "source": [
    "# LCEL demo"
   ]
  },
  {
   "cell_type": "markdown",
   "id": "138b70df-d043-4ea9-8098-9b7c81e0e86d",
   "metadata": {},
   "source": [
    "#### Google Colab\n",
    "If you are running the code in Google colab, install the packages by uncommenting/running the cell below\n",
    "\n",
    "* The API key file file will not be available\n",
    "* You will be prompted to provide the Cohere API Token\n",
    "\n",
    "Uncomment & run the code in the cell below:"
   ]
  },
  {
   "cell_type": "code",
   "execution_count": null,
   "id": "2fa3eece-b906-4da5-a7ed-8c126fc8cb3a",
   "metadata": {},
   "outputs": [],
   "source": [
    "## The script is downloaded and run to setup the utils folder\n",
    "\n",
    "# !curl -H \"Accept: application/vnd.github.VERSION.raw\" https://raw.githubusercontent.com/acloudfan/gen-ai-app-dev/main/Setup/gcsetup.sh  > gcsetup.sh\n",
    "# !chmod u+x gcsetup.sh\n",
    "# !./gcsetup.sh -l"
   ]
  },
  {
   "cell_type": "markdown",
   "id": "a1a634d1-0276-4512-b12b-1a6e63438673",
   "metadata": {},
   "source": [
    "## 1. The Python '|' operator\n",
    "\n",
    "* Equivalent to the __or__ operator\n",
    "* In Python, this operator can be overloaded\n",
    "* LangChain framework has overloaded it to achieve a UNIX pipe like behavior!!"
   ]
  },
  {
   "cell_type": "code",
   "execution_count": 1,
   "id": "ed560891-066a-485e-a217-f3454146c642",
   "metadata": {},
   "outputs": [
    {
     "data": {
      "text/plain": [
       "True"
      ]
     },
     "execution_count": 1,
     "metadata": {},
     "output_type": "execute_result"
    }
   ],
   "source": [
    "# https://docs.python.org/3/library/operator.html#operator.__or__\n",
    "from operator import __or__\n",
    "\n",
    "number_1 = 1\n",
    "number_2 = 5\n",
    "\n",
    "bool_value = __or__(number_1, number_2) > 4\n",
    "\n",
    "bool_value"
   ]
  },
  {
   "cell_type": "markdown",
   "id": "cb90ac32-d706-4a75-a08d-2c1d56e997dc",
   "metadata": {},
   "source": [
    "#### Expression __ __or__ __(number_1, number_2) is equivalent to   (number_1  |  number_2)"
   ]
  },
  {
   "cell_type": "code",
   "execution_count": 2,
   "id": "8b7be5d1-09ef-47cc-b252-a187523e959e",
   "metadata": {},
   "outputs": [
    {
     "data": {
      "text/plain": [
       "True"
      ]
     },
     "execution_count": 2,
     "metadata": {},
     "output_type": "execute_result"
    }
   ],
   "source": [
    "bool_value = number_1 | number_2 > 4\n",
    "\n",
    "bool_value"
   ]
  },
  {
   "cell_type": "markdown",
   "id": "aea7b8ee-d781-4605-bd1d-65161aa32501",
   "metadata": {},
   "source": [
    "## 2. LangChain has overridden the '|'   __ __or__ __ operator\n",
    "\n",
    "* All components of the chain implement the **invoke(..)** methods\n",
    "* The **input/output types** for the **invoke function** varies depending on the type of the component\n",
    "* Component exposes the *input/output schema**\n",
    "* User/application input is fed as input for the first component\n",
    "* Output of each component in the chain is fed as input into the next component in the chain\n",
    "* Output from the last component is the final output from the chain"
   ]
  },
  {
   "cell_type": "code",
   "execution_count": 4,
   "id": "7f4e7e0e-12da-4176-aac7-edcc3f33ad89",
   "metadata": {},
   "outputs": [],
   "source": [
    "from dotenv import load_dotenv\n",
    "import os\n",
    "import sys\n",
    "\n",
    "# Load the file that contains the API keys\n",
    "load_dotenv('C:\\\\Users\\\\raj\\\\.jupyter\\\\.env1')\n",
    "\n",
    "# Setting path so we can access the utils folder\n",
    "sys.path.append('../')\n",
    "sys.path.append('./')"
   ]
  },
  {
   "cell_type": "code",
   "execution_count": 5,
   "id": "9755b861-79b4-42ac-be35-5fb8c52989b1",
   "metadata": {},
   "outputs": [],
   "source": [
    "from langchain.prompts import PromptTemplate\n",
    "from utils.create_llm import create_google_llm"
   ]
  },
  {
   "cell_type": "markdown",
   "id": "47be736a-d185-48c8-ac6f-db96fee383c3",
   "metadata": {},
   "source": [
    "### Create the prompt template"
   ]
  },
  {
   "cell_type": "code",
   "execution_count": 7,
   "id": "2f84c659-eb24-4650-b6a2-409627ebf8b1",
   "metadata": {},
   "outputs": [],
   "source": [
    "tell_joke_template = \"tell me a joke on {topic}\"\n",
    "\n",
    "prompt_template = PromptTemplate(template=tell_joke_template, input_variables=[\"topic\"])"
   ]
  },
  {
   "cell_type": "markdown",
   "id": "a1523309-cdc9-4f66-b97d-b5501b470a28",
   "metadata": {},
   "source": [
    "### Create the LLM"
   ]
  },
  {
   "cell_type": "code",
   "execution_count": 8,
   "id": "528d1bda-0789-46be-ba94-3d1678577fa4",
   "metadata": {},
   "outputs": [
    {
     "name": "stdout",
     "output_type": "stream",
     "text": [
      "Key NOT found in environment.\n",
      "Provide the  GOOGLE_API_KEY  : \n"
     ]
    },
    {
     "name": "stdin",
     "output_type": "stream",
     "text": [
      " ········\n"
     ]
    },
    {
     "name": "stdout",
     "output_type": "stream",
     "text": [
      "Added key:  GOOGLE_API_KEY  to the environment.\n"
     ]
    }
   ],
   "source": [
    "llm = create_google_llm(api_key_prompt=True)"
   ]
  },
  {
   "cell_type": "markdown",
   "id": "84e8b234-47e1-4f34-8872-0bfd2d28e9e9",
   "metadata": {},
   "source": [
    "### Create the chain"
   ]
  },
  {
   "cell_type": "code",
   "execution_count": 9,
   "id": "16993f17-0f40-4b3e-b330-8817d8157c4d",
   "metadata": {},
   "outputs": [],
   "source": [
    "joke_chain = prompt_template | llm"
   ]
  },
  {
   "cell_type": "markdown",
   "id": "fb9a86cb-bd68-48d1-9863-944f65d512a8",
   "metadata": {},
   "source": [
    "### Inference"
   ]
  },
  {
   "cell_type": "code",
   "execution_count": 11,
   "id": "ffda7542-c6c4-499d-aa3b-e86029d49b38",
   "metadata": {},
   "outputs": [
    {
     "data": {
      "text/plain": [
       "'Why did the chicken cross the playground? \\n\\nTo get to the other slide! 🐔😄 \\n'"
      ]
     },
     "execution_count": 11,
     "metadata": {},
     "output_type": "execute_result"
    }
   ],
   "source": [
    "joke_chain.invoke(\"chickens\")"
   ]
  },
  {
   "cell_type": "code",
   "execution_count": null,
   "id": "d1f1ca2c-ac24-4acf-baff-f0d61e44036a",
   "metadata": {},
   "outputs": [],
   "source": []
  }
 ],
 "metadata": {
  "kernelspec": {
   "display_name": "Python 3 (ipykernel)",
   "language": "python",
   "name": "python3"
  },
  "language_info": {
   "codemirror_mode": {
    "name": "ipython",
    "version": 3
   },
   "file_extension": ".py",
   "mimetype": "text/x-python",
   "name": "python",
   "nbconvert_exporter": "python",
   "pygments_lexer": "ipython3",
   "version": "3.12.4"
  }
 },
 "nbformat": 4,
 "nbformat_minor": 5
}
