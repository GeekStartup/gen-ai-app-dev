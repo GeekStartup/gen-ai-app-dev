{
 "cells": [
  {
   "cell_type": "markdown",
   "id": "820ef202",
   "metadata": {},
   "source": [
    "# LangChain Prompt Templates\n",
    "Greatly simplifies the task of creating maintaible prompts."
   ]
  },
  {
   "cell_type": "markdown",
   "id": "0658ce59-cd24-4abb-b9e0-db7005a4644d",
   "metadata": {},
   "source": [
    "#### Google Colab\n",
    "If you are running the code in Google colab, install the packages by uncommenting/running the cell below\n",
    "\n",
    "* The API key file file will not be available\n",
    "* You will be prompted to provide the Cohere API Token\n",
    "\n",
    "Uncomment & run the code in the cell below:"
   ]
  },
  {
   "cell_type": "code",
   "execution_count": 1,
   "id": "4bc7bf9a",
   "metadata": {},
   "outputs": [],
   "source": [
    "# !pip install langchain -q"
   ]
  },
  {
   "cell_type": "markdown",
   "id": "a15ad351",
   "metadata": {},
   "source": [
    "## 1. PromptTemplate\n",
    "\n",
    "Use a formatted string with placeholders. The placeholders are referred to as inputs in the context of LangChain prompts"
   ]
  },
  {
   "cell_type": "code",
   "execution_count": 5,
   "id": "c4a48dc1",
   "metadata": {},
   "outputs": [],
   "source": [
    "from langchain.prompts import PromptTemplate\n",
    "\n",
    "# A prompt with two inputs {subject} and {grade}\n",
    "instruction_template = \"\"\"\n",
    "You are a helpful {subject} teacher for grade {grade} class\n",
    "\"\"\"\n",
    "\n",
    "# create a prompt template \n",
    "prompt_template = PromptTemplate(\n",
    "    template = instruction_template,\n",
    "    input_variables = [\"subject\", \"grade\"]\n",
    ")\n"
   ]
  },
  {
   "cell_type": "code",
   "execution_count": 8,
   "id": "7ee5405f",
   "metadata": {},
   "outputs": [
    {
     "data": {
      "text/plain": [
       "'\\nYou are helpful science teacher for grade 6 class\\n'"
      ]
     },
     "execution_count": 8,
     "metadata": {},
     "output_type": "execute_result"
    }
   ],
   "source": [
    "# To create a prompt, you must supply value for all placeholders\n",
    "\n",
    "prompt = prompt_template.format(subject=\"science\", grade=\"6\")\n",
    "\n",
    "prompt"
   ]
  },
  {
   "cell_type": "markdown",
   "id": "0918fb54",
   "metadata": {},
   "source": [
    "## 2. Partial prompts\n",
    "\n",
    "https://python.langchain.com/docs/modules/model_io/prompts/partial\n",
    "\n",
    "Sometimes you may not have all the input variables needed for a prompt. In those situations, you can use the *partial* prompt template to incrementally prepare the prompt (as variables become available)."
   ]
  },
  {
   "cell_type": "markdown",
   "id": "b88378a2",
   "metadata": {},
   "source": [
    "### partial string\n",
    "The input variables take the values as string with the call to partial function. The output is not a string but a *PromptTemplate*."
   ]
  },
  {
   "cell_type": "code",
   "execution_count": null,
   "id": "8e877f20",
   "metadata": {},
   "outputs": [],
   "source": [
    "## This will give an error\n",
    "# prompt = prompt_template.format(subject=\"science\")"
   ]
  },
  {
   "cell_type": "code",
   "execution_count": 10,
   "id": "82ed1e2a",
   "metadata": {},
   "outputs": [],
   "source": [
    "# use *partial* instead of *format*\n",
    "partial_prompt = prompt_template.partial(subject=\"science\")"
   ]
  },
  {
   "cell_type": "code",
   "execution_count": 11,
   "id": "f20363f2",
   "metadata": {},
   "outputs": [
    {
     "data": {
      "text/plain": [
       "'\\nYou are helpful science teacher for grade 6 class\\n'"
      ]
     },
     "execution_count": 11,
     "metadata": {},
     "output_type": "execute_result"
    }
   ],
   "source": [
    "# At a later time provide the other inputs as they become availabe\n",
    "prompt = partial_prompt.format(grade=\"6\")\n",
    "prompt"
   ]
  },
  {
   "cell_type": "markdown",
   "id": "7473bc34",
   "metadata": {},
   "source": [
    "### partial function\n",
    "Provide a reference to function instead of a string."
   ]
  },
  {
   "cell_type": "code",
   "execution_count": 13,
   "id": "e8aaab1c",
   "metadata": {},
   "outputs": [
    {
     "data": {
      "text/plain": [
       "7"
      ]
     },
     "execution_count": 13,
     "metadata": {},
     "output_type": "execute_result"
    }
   ],
   "source": [
    "import random\n",
    "\n",
    "# utility function for demo\n",
    "def generate_random_number():\n",
    "  \"\"\"Generates a random number between start and end, inclusive.\"\"\"\n",
    "  return random.randint(1, 10)\n"
   ]
  },
  {
   "cell_type": "code",
   "execution_count": 40,
   "id": "c77cf777",
   "metadata": {},
   "outputs": [
    {
     "name": "stdout",
     "output_type": "stream",
     "text": [
      "<class 'langchain_core.prompts.prompt.PromptTemplate'>\n"
     ]
    }
   ],
   "source": [
    "# Set the \n",
    "partial_prompt = prompt_template.partial(grade=generate_random_number)\n",
    "\n",
    "prompt = partial_prompt.format(subject=\"science\")\n",
    "\n",
    "prompt\n"
   ]
  },
  {
   "cell_type": "markdown",
   "id": "6b74e96d",
   "metadata": {},
   "source": [
    "## 3. FewShotPrompt\n",
    "\n",
    "https://python.langchain.com/docs/modules/model_io/prompts/few_shot_examples\n",
    "    \n",
    "https://api.python.langchain.com/en/stable/prompts/langchain_core.prompts.few_shot.FewShotPromptTemplate.html#langchain_core.prompts.few_shot.FewShotPromptTemplate\n",
    "\n"
   ]
  },
  {
   "cell_type": "markdown",
   "id": "c14349ed",
   "metadata": {},
   "source": [
    "#### Prepare a template for examples"
   ]
  },
  {
   "cell_type": "code",
   "execution_count": 24,
   "id": "24d95636",
   "metadata": {},
   "outputs": [],
   "source": [
    "# sample examples to be used in the prompt\n",
    "examples = [\n",
    "    \n",
    "    {\n",
    "        \"question\": \"Natalia sold clips to 48 of her friends in April, and then she sold half as many clips in May. How many clips did Natalia sell altogether in April and May?\",\n",
    "        \"answer\": \"Natalia sold 48/2 = <<48/2=24>>24 clips in May. Natalia sold 48+24 = <<48+24=72>>72 clips altogether in April and May. #### 72\"\n",
    "    },\n",
    "    {\n",
    "        \"question\": \"Weng earns $12 an hour for babysitting. Yesterday, she just did 50 minutes of babysitting. How much did she earn?\",\n",
    "        \"answer\": \"Weng earns 12/60 = $<<12/60=0.2>>0.2 per minute. Working 50 minutes, she earned 0.2 x 50 = $<<0.2*50=10>>10. #### 10\"        \n",
    "    },\n",
    "    {\n",
    "        \"question\": \"Betty is saving money for a new wallet which costs $100. Betty has only half of the money she needs. Her parents decided to give her $15 for that purpose, and her grandparents twice as much as her parents. How much more money does Betty need to buy the wallet?\",\n",
    "        \"answer\": \"In the beginning, Betty has only 100 / 2 = $<<100/2=50>>50. Betty's grandparents gave her 15 * 2 = $<<15*2=30>>30. This means, Betty needs 100 - 50 - 30 - 15 = $<<100-50-30-15=5>>5 more. #### 5\"\n",
    "    }\n",
    "]\n",
    "\n",
    "# define the prompt template without examples\n",
    "example_template = \"question: {question}\\nanswer:{answer}\"\n",
    "\n",
    "# template for the example\n",
    "example_prompt_template = PromptTemplate(\n",
    "    template = example_template,\n",
    "    input_variables = [\"question\", \"answer\"]\n",
    ")\n",
    "\n",
    "# test the example prompt\n",
    "# print(example_template.format(**examples[0]))"
   ]
  },
  {
   "cell_type": "markdown",
   "id": "704d0b02",
   "metadata": {},
   "source": [
    "#### Prepare a template for the few shot prompt"
   ]
  },
  {
   "cell_type": "code",
   "execution_count": 26,
   "id": "a922385f",
   "metadata": {},
   "outputs": [],
   "source": [
    "from langchain.prompts import FewShotPromptTemplate\n",
    "\n",
    "\n",
    "fewshot_template = FewShotPromptTemplate(\n",
    "    # example prompt template\n",
    "    example_prompt = example_prompt_template,\n",
    "    \n",
    "    # examples\n",
    "    examples = examples,\n",
    "    \n",
    "    # A prompt template string to put after the examples\n",
    "    suffix =\"question: {input}\",\n",
    "    \n",
    "    input_variables = [\"input\"]\n",
    ")"
   ]
  },
  {
   "cell_type": "code",
   "execution_count": 29,
   "id": "c6ac21d9",
   "metadata": {},
   "outputs": [
    {
     "name": "stdout",
     "output_type": "stream",
     "text": [
      "question: Natalia sold clips to 48 of her friends in April, and then she sold half as many clips in May. How many clips did Natalia sell altogether in April and May?\n",
      "answer:Natalia sold 48/2 = <<48/2=24>>24 clips in May. Natalia sold 48+24 = <<48+24=72>>72 clips altogether in April and May. #### 72\n",
      "\n",
      "question: Weng earns $12 an hour for babysitting. Yesterday, she just did 50 minutes of babysitting. How much did she earn?\n",
      "answer:Weng earns 12/60 = $<<12/60=0.2>>0.2 per minute. Working 50 minutes, she earned 0.2 x 50 = $<<0.2*50=10>>10. #### 10\n",
      "\n",
      "question: Betty is saving money for a new wallet which costs $100. Betty has only half of the money she needs. Her parents decided to give her $15 for that purpose, and her grandparents twice as much as her parents. How much more money does Betty need to buy the wallet?\n",
      "answer:In the beginning, Betty has only 100 / 2 = $<<100/2=50>>50. Betty's grandparents gave her 15 * 2 = $<<15*2=30>>30. This means, Betty needs 100 - 50 - 30 - 15 = $<<100-50-30-15=5>>5 more. #### 5\n",
      "\n",
      "question: Albert is wondering how much pizza he can eat in one day. He buys 2 large pizzas and 2 small pizzas. A large pizza has 16 slices and a small pizza has 8 slices. If he eats it all, how many pieces does he eat that day?\n"
     ]
    }
   ],
   "source": [
    "input = \"Albert is wondering how much pizza he can eat in one day. He buys 2 large pizzas and 2 small pizzas. A large pizza has 16 slices and a small pizza has 8 slices. If he eats it all, how many pieces does he eat that day?\"\n",
    "\n",
    "prompt = fewshot_template.format(input=input)\n",
    "\n",
    "print(prompt)"
   ]
  },
  {
   "cell_type": "markdown",
   "id": "794d9448",
   "metadata": {},
   "source": [
    "## 4. ExampleSelector\n",
    "\n",
    "https://python.langchain.com/docs/modules/model_io/prompts/few_shot_examples#using-an-example-selector\n",
    "    \n",
    "https://api.python.langchain.com/en/stable/core_api_reference.html#module-langchain_core.example_selectors\n",
    "\n",
    "https://python.langchain.com/docs/modules/model_io/prompts/example_selector_types/length_based"
   ]
  },
  {
   "cell_type": "code",
   "execution_count": 37,
   "id": "01d26f95",
   "metadata": {},
   "outputs": [],
   "source": [
    "# Change the length to see the difference in the prompt \n",
    "# You will always see a full example!!\n",
    "\n",
    "from langchain.prompts.example_selector import LengthBasedExampleSelector\n",
    "\n",
    "example_selector = LengthBasedExampleSelector(\n",
    "    examples = examples,\n",
    "    example_prompt = example_prompt_template,\n",
    "    max_length=100,\n",
    "    \n",
    "    # you can provide your own function for get the length of example\n",
    "    # get_text_length = your func reference\n",
    ")"
   ]
  },
  {
   "cell_type": "code",
   "execution_count": 38,
   "id": "4c634e76",
   "metadata": {},
   "outputs": [],
   "source": [
    "fewshot_template = FewShotPromptTemplate(\n",
    "    # example prompt template\n",
    "    example_prompt = example_prompt_template,\n",
    "    \n",
    "    # examples - CANNOT provide examples if example_selector is provided\n",
    "    # examples = examples,\n",
    "    \n",
    "    # examples selector\n",
    "    example_selector = example_selector,\n",
    "    \n",
    "    # A prompt template string to put after the examples\n",
    "    suffix =\"question: {input}\",\n",
    "    \n",
    "    input_variables = [\"input\"]\n",
    ")"
   ]
  },
  {
   "cell_type": "code",
   "execution_count": 39,
   "id": "a5b09d09",
   "metadata": {},
   "outputs": [
    {
     "name": "stdout",
     "output_type": "stream",
     "text": [
      "question: Natalia sold clips to 48 of her friends in April, and then she sold half as many clips in May. How many clips did Natalia sell altogether in April and May?\n",
      "answer:Natalia sold 48/2 = <<48/2=24>>24 clips in May. Natalia sold 48+24 = <<48+24=72>>72 clips altogether in April and May. #### 72\n",
      "\n",
      "question: Albert is wondering how much pizza he can eat in one day. He buys 2 large pizzas and 2 small pizzas. A large pizza has 16 slices and a small pizza has 8 slices. If he eats it all, how many pieces does he eat that day?\n"
     ]
    }
   ],
   "source": [
    "input = \"Albert is wondering how much pizza he can eat in one day. He buys 2 large pizzas and 2 small pizzas. A large pizza has 16 slices and a small pizza has 8 slices. If he eats it all, how many pieces does he eat that day?\"\n",
    "\n",
    "prompt = fewshot_template.format(input=input)\n",
    "\n",
    "print(prompt)"
   ]
  },
  {
   "cell_type": "code",
   "execution_count": null,
   "id": "c752bd82",
   "metadata": {},
   "outputs": [],
   "source": []
  }
 ],
 "metadata": {
  "kernelspec": {
   "display_name": "Python 3 (ipykernel)",
   "language": "python",
   "name": "python3"
  },
  "language_info": {
   "codemirror_mode": {
    "name": "ipython",
    "version": 3
   },
   "file_extension": ".py",
   "mimetype": "text/x-python",
   "name": "python",
   "nbconvert_exporter": "python",
   "pygments_lexer": "ipython3",
   "version": "3.12.4"
  }
 },
 "nbformat": 4,
 "nbformat_minor": 5
}
