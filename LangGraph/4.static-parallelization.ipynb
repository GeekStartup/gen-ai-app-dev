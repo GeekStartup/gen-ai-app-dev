{
 "cells": [
  {
   "cell_type": "markdown",
   "id": "7a63de97-c799-44de-b2e4-5b05b1dae1ec",
   "metadata": {},
   "source": [
    "# Parallel runs\n",
    "A **static** graph in which nodes are run in parallel and results are aggregated by another node. \n",
    "\n",
    "* Voting pattern e.g., pick the best article \n",
    "* Subtasks - break the task into multiple tasks e.g., flight, hotel & car rental\n",
    "* Distributed processing e.g., summarization task for a large corpus; \"map-reduce\" workflow where your graph invokes the same node multiple times in parallel with different states, before aggregating the results back into the main graph's state.\n",
    "\n",
    "\n",
    "### References:\n",
    "https://langchain-ai.github.io/langgraph/tutorials/workflows/?h=par#parallelization\n",
    "\n",
    "* [Complex task decomposition](https://langchain-ai.github.io/langgraph/tutorials/workflows/?h=par#parallelization)\n",
    "* [Orchestrator-Worker](https://langchain-ai.github.io/langgraph/tutorials/workflows/?h=par#orchestrator-worker)\n",
    "* Voting"
   ]
  },
  {
   "cell_type": "code",
   "execution_count": 3,
   "id": "8a715352-b86d-4a65-8670-2ffbc44b15de",
   "metadata": {},
   "outputs": [
    {
     "data": {
      "image/png": "[encoded data removed]",
      "text/plain": [
       "<IPython.core.display.Image object>"
      ]
     },
     "metadata": {},
     "output_type": "display_data"
    },
    {
     "name": "stdout",
     "output_type": "stream",
     "text": [
      "Processor generated: 3\n",
      "Processor generated: 3\n",
      "Processor generated: 3\n",
      "----------------------------------\n",
      "Parallel execution took : 3 secs\n",
      "Sequential execution would have taken : 9 secs\n",
      "Speed up by a factor of : 3\n"
     ]
    }
   ],
   "source": [
    "## Implementation of orchestrator-worker pattern\n",
    "## 1. Launches 3 workers in parallel\n",
    "## 2. Each worker:\n",
    "##    - Generates a random number R\n",
    "##    - Sleeps for R seconds \n",
    "## 3. State : {total of 3 numbers, list of 3 numbers}\n",
    "## On invocation, prints the total time taken to execute the graph.\n",
    "\n",
    "\n",
    "from langgraph.graph import StateGraph, START, END\n",
    "from typing import List, Annotated, TypedDict\n",
    "from IPython.display import Image, display\n",
    "import random\n",
    "import operator\n",
    "import time\n",
    "\n",
    "# Reducer function : appends the number to list[int]\n",
    "def append_to_list(current: List[int], new: List[int])->List[int]:\n",
    "    return current + new\n",
    "\n",
    "# State schema\n",
    "class StateParallel(TypedDict):\n",
    "    total: int            # Total of all the generated numbers\n",
    "    numbers: Annotated[List[int], append_to_list]   # Numbers generated by the nodes\n",
    "\n",
    "# Worker nodes \n",
    "def worker_node(state: StateParallel)->StateParallel:\n",
    "    rint = random.randint(1, 10)\n",
    "    # Simulate artificial processing delays\n",
    "    time.sleep(rint)\n",
    "    print(f\"Processor generated: {rint}\")\n",
    "    return {\"numbers\": [rint]}\n",
    "\n",
    "def aggregator_node(state: StateParallel)->StateParallel:\n",
    "    nums = state[\"numbers\"]\n",
    "    return {\"total\": sum(nums)}\n",
    "\n",
    "# Graph\n",
    "parallel_graph = StateGraph(StateParallel)\n",
    "\n",
    "# Add nodes\n",
    "parallel_graph.add_node(\"Worker-A\", worker_node)\n",
    "parallel_graph.add_node(\"Worker-B\", worker_node)\n",
    "parallel_graph.add_node(\"Worker-C\", worker_node)\n",
    "parallel_graph.add_node(\"Aggregator\", aggregator_node)\n",
    "\n",
    "# Add edges\n",
    "parallel_graph.add_edge(START,\"Worker-A\")\n",
    "parallel_graph.add_edge(START,\"Worker-B\")\n",
    "parallel_graph.add_edge(START,\"Worker-C\")\n",
    "\n",
    "parallel_graph.add_edge(\"Worker-A\",\"Aggregator\")\n",
    "parallel_graph.add_edge(\"Worker-B\",\"Aggregator\")\n",
    "parallel_graph.add_edge(\"Worker-C\",\"Aggregator\")\n",
    "\n",
    "parallel_graph.add_edge(\"Aggregator\",END)\n",
    "\n",
    "# Compile\n",
    "parallel_graph_compiled = parallel_graph.compile()\n",
    "\n",
    "# Display\n",
    "display(Image(parallel_graph_compiled.get_graph().draw_mermaid_png()))\n",
    "\n",
    "# Invoke\n",
    "start_time = time.time()\n",
    "response = parallel_graph_compiled.invoke({\"total\": 0, \"numbers\": []})\n",
    "end_time = time.time()\n",
    "\n",
    "print(\"----------------------------------\")\n",
    "print(f\"Parallel execution took : {int(end_time - start_time)} secs\")\n",
    "print(f\"Sequential execution would have taken : {response[\"total\"]} secs\")\n",
    "print(f\"Speed up by a factor of : {round(response[\"total\"] / int(end_time - start_time))}\")"
   ]
  },
  {
   "cell_type": "code",
   "execution_count": null,
   "id": "e288cfd3-c657-45c5-b4aa-32950aff8e2e",
   "metadata": {},
   "outputs": [],
   "source": []
  }
 ],
 "metadata": {
  "kernelspec": {
   "display_name": "Python 3 (ipykernel)",
   "language": "python",
   "name": "python3"
  },
  "language_info": {
   "codemirror_mode": {
    "name": "ipython",
    "version": 3
   },
   "file_extension": ".py",
   "mimetype": "text/x-python",
   "name": "python",
   "nbconvert_exporter": "python",
   "pygments_lexer": "ipython3",
   "version": "3.12.9"
  }
 },
 "nbformat": 4,
 "nbformat_minor": 5
}
