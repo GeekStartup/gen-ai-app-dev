{
 "cells": [
  {
   "cell_type": "markdown",
   "id": "3737ee48",
   "metadata": {},
   "source": [
    "# Next Sentence Prediction (NSP)\n",
    "\n",
    "\n",
    "Use the **AutoModelForNextSentencePrediction** to predict the next sentence."
   ]
  },
  {
   "cell_type": "code",
   "execution_count": 1,
   "id": "0642c886",
   "metadata": {},
   "outputs": [],
   "source": [
    "from transformers import AutoModelForNextSentencePrediction, AutoTokenizer\n",
    "\n",
    "import torch"
   ]
  },
  {
   "cell_type": "markdown",
   "id": "54ffc9e9",
   "metadata": {},
   "source": [
    "## 1. Create the model for NSP"
   ]
  },
  {
   "cell_type": "code",
   "execution_count": 2,
   "id": "3bd23d29",
   "metadata": {},
   "outputs": [],
   "source": [
    "# change this to try out other models\n",
    "model_name = \"bert-base-uncased\"\n",
    "\n",
    "# create an instanmce of tokenizer\n",
    "tokenizer = AutoTokenizer.from_pretrained(model_name)\n",
    "\n",
    "# create the model class\n",
    "model = AutoModelForNextSentencePrediction.from_pretrained(model_name)\n",
    "\n",
    "# model"
   ]
  },
  {
   "cell_type": "markdown",
   "id": "fdf791d9",
   "metadata": {},
   "source": [
    "## 2. Carry out next sentence prediction\n",
    "\n"
   ]
  },
  {
   "cell_type": "markdown",
   "id": "a2772453",
   "metadata": {},
   "source": [
    "### 2.1 Sentence is NOT a continuation"
   ]
  },
  {
   "cell_type": "code",
   "execution_count": 3,
   "id": "5336a8ff",
   "metadata": {},
   "outputs": [
    {
     "name": "stdout",
     "output_type": "stream",
     "text": [
      "2nd sentence is NOT a continuation of the 1st sentence.\n"
     ]
    }
   ],
   "source": [
    "# example text\n",
    "# notice the use of model specific special mask.\n",
    "input_text_1 = \"The cat sat on the rug.\" \n",
    "input_text_2 = \"Clouds are white\" \n",
    "\n",
    "\n",
    "# prepare the input\n",
    "inputs = tokenizer(input_text_1, input_text_2, return_tensors=\"pt\")\n",
    "\n",
    "# labels parameter\n",
    "labels=torch.LongTensor([1])\n",
    "\n",
    "outputs = model(**inputs, labels = labels)\n",
    "\n",
    "# return indices of element with max probability\n",
    "prediction = outputs.logits.argmax(dim=1)\n",
    "\n",
    "if prediction == 0:\n",
    "    print(\"2nd sentence is a continuation of the 1st sentence.\")\n",
    "else:\n",
    "    print(\"2nd sentence is NOT a continuation of the 1st sentence.\")\n"
   ]
  },
  {
   "cell_type": "markdown",
   "id": "d6c51d4b",
   "metadata": {},
   "source": [
    "### 2.2 Sentence is a continuation"
   ]
  },
  {
   "cell_type": "code",
   "execution_count": 4,
   "id": "d77de5e7",
   "metadata": {},
   "outputs": [
    {
     "name": "stdout",
     "output_type": "stream",
     "text": [
      "2nd sentence is a continuation of the 1st sentence.\n"
     ]
    }
   ],
   "source": [
    "# example text\n",
    "# notice the use of model specific special mask.\n",
    "input_text_1 = \"The cat sat on the rug.\" \n",
    "input_text_2 = \"It watched the birds outside.\" \n",
    "\n",
    "# prepare the input\n",
    "inputs = tokenizer(input_text_1, input_text_2, return_tensors=\"pt\")\n",
    "\n",
    "outputs = model(**inputs, labels = labels)\n",
    "\n",
    "# return indices of element with max probability\n",
    "prediction = outputs.logits.argmax(dim=1)\n",
    "\n",
    "if prediction == 0:\n",
    "    print(\"2nd sentence is a continuation of the 1st sentence.\")\n",
    "else:\n",
    "    print(\"2nd sentence is NOT a continuation of the 1st sentence.\")"
   ]
  },
  {
   "cell_type": "code",
   "execution_count": 13,
   "id": "e84b6a96",
   "metadata": {},
   "outputs": [
    {
     "data": {
      "text/plain": [
       "'[CLS] the cat sat on the rug. [SEP] it watched the birds outside. [SEP]'"
      ]
     },
     "execution_count": 13,
     "metadata": {},
     "output_type": "execute_result"
    }
   ],
   "source": [
    "input_sequence = \"The cat sat on the rug.\" \n",
    "\n",
    "# Encode the input\n",
    "encoded = tokenizer.encode([input_text_1, input_text_2])\n",
    "\n",
    "# Decode \n",
    "tokenizer.decode(encoded)"
   ]
  },
  {
   "cell_type": "code",
   "execution_count": 14,
   "id": "04c92d32",
   "metadata": {},
   "outputs": [
    {
     "data": {
      "text/plain": [
       "[101, 1996, 4937, 2938, 2006, 1996, 20452, 1012, 102]"
      ]
     },
     "execution_count": 14,
     "metadata": {},
     "output_type": "execute_result"
    }
   ],
   "source": [
    "tokenizer(input_sequence)['input_ids']"
   ]
  },
  {
   "cell_type": "code",
   "execution_count": null,
   "id": "e2ec616b",
   "metadata": {},
   "outputs": [],
   "source": []
  }
 ],
 "metadata": {
  "kernelspec": {
   "display_name": "Python 3 (ipykernel)",
   "language": "python",
   "name": "python3"
  },
  "language_info": {
   "codemirror_mode": {
    "name": "ipython",
    "version": 3
   },
   "file_extension": ".py",
   "mimetype": "text/x-python",
   "name": "python",
   "nbconvert_exporter": "python",
   "pygments_lexer": "ipython3",
   "version": "3.8.18"
  }
 },
 "nbformat": 4,
 "nbformat_minor": 5
}
