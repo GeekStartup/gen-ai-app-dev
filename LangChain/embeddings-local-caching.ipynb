{
 "cells": [
  {
   "cell_type": "markdown",
   "id": "2e3c9fc4-2321-43f5-90e8-819e7c970fd6",
   "metadata": {},
   "source": [
    "# Embeddings cache\n",
    "\n",
    "Demonstrates the use of local filesystem cache for embeddings."
   ]
  },
  {
   "cell_type": "markdown",
   "id": "1626913b-04b2-42bd-9b0e-cbc7535fb23d",
   "metadata": {},
   "source": [
    "## Setup environment"
   ]
  },
  {
   "cell_type": "code",
   "execution_count": 1,
   "id": "3eeb5a86-90e7-445d-99b1-353594f7686f",
   "metadata": {},
   "outputs": [
    {
     "data": {
      "text/plain": [
       "True"
      ]
     },
     "execution_count": 1,
     "metadata": {},
     "output_type": "execute_result"
    }
   ],
   "source": [
    "from dotenv import load_dotenv\n",
    "import os\n",
    "\n",
    "import warnings\n",
    "\n",
    "warnings.filterwarnings(\"ignore\")\n",
    "\n",
    "# Load the file that contains the API keys\n",
    "# CHANGE THIS TO YOUR ENV FILE LOCATION\n",
    "load_dotenv('C:\\\\Users\\\\raj\\\\.jupyter\\\\.env')"
   ]
  },
  {
   "cell_type": "markdown",
   "id": "14aa0630-312d-46f4-b9e1-40b1d4d8c0ed",
   "metadata": {},
   "source": [
    "## 1. Create the embeddings model instance"
   ]
  },
  {
   "cell_type": "code",
   "execution_count": 2,
   "id": "ec041584-f131-49d1-b044-1825d4b6cdf8",
   "metadata": {},
   "outputs": [],
   "source": [
    "# Import the Cohere embeddings model class\n",
    "# https://docs.cohere.com/reference/embed\n",
    "from langchain_community.embeddings import CohereEmbeddings\n",
    "\n",
    "# Create the embeddings model\n",
    "\n",
    "model_name = \"embed-english-light-v3.0\"\n",
    "\n",
    "embeddings = CohereEmbeddings(model=model_name)\n",
    "\n",
    "corpus = [\n",
    "    \"A man is eating food.\",\n",
    "    \"A man is eating a piece of bread.\",\n",
    "    \"The girl is carrying a baby.\",\n",
    "    \"A man is riding a horse.\",\n",
    "    \"A woman is playing violin.\",\n",
    "    \"Two men pushed carts through the woods.\",\n",
    "    \"A man is riding a white horse on an enclosed ground.\",\n",
    "    \"A monkey is playing drums.\",\n",
    "    \"A cheetah is running behind its prey.\",\n",
    "]\n"
   ]
  },
  {
   "cell_type": "markdown",
   "id": "09630877-532c-4a1d-905a-7c3793409b60",
   "metadata": {},
   "source": [
    "## 2. Create the cached backing embeddings\n",
    "\n",
    "https://python.langchain.com/docs/modules/data_connection/text_embedding/caching_embeddings\n",
    "\n",
    "https://api.python.langchain.com/en/stable/embeddings/langchain.embeddings.cache.CacheBackedEmbeddings.html#langchain.embeddings.cache.CacheBackedEmbeddings"
   ]
  },
  {
   "cell_type": "code",
   "execution_count": 3,
   "id": "e0cde4ec-502b-49c8-a0cf-e0ddb0efc5f8",
   "metadata": {},
   "outputs": [],
   "source": [
    "from langchain.embeddings import CacheBackedEmbeddings\n",
    "\n",
    "from langchain.storage import LocalFileStore"
   ]
  },
  {
   "cell_type": "code",
   "execution_count": 7,
   "id": "ecd67dd3-e53f-42f5-a203-dd028eab5256",
   "metadata": {},
   "outputs": [],
   "source": [
    "# CHANGE THIS TO DESIRED LOCATION OF CACHE ON FILE SYSTEM\n",
    "cache_dir = \"c:/temp/exercise-2/embeddings\"\n",
    "\n",
    "store = LocalFileStore(cache_dir)\n",
    "\n",
    "cached_embedder = CacheBackedEmbeddings.from_bytes_store(underlying_embeddings  = embeddings, \n",
    "                                                         document_embedding_cache =store,\n",
    "                                                         namespace = \"model_name)"
   ]
  },
  {
   "cell_type": "code",
   "execution_count": 8,
   "id": "9047cc47-6743-4a75-9828-28ef2b2ea776",
   "metadata": {},
   "outputs": [],
   "source": [
    "corpus_embeddings = cached_embedder.embed_documents(corpus)"
   ]
  },
  {
   "cell_type": "markdown",
   "id": "0d50d85a-b5f9-4721-8eb4-63be81ce5ac5",
   "metadata": {},
   "source": [
    "## 3. Check storage"
   ]
  },
  {
   "cell_type": "code",
   "execution_count": 9,
   "id": "6a84a8b4-9107-4404-8120-81703592a7cb",
   "metadata": {},
   "outputs": [
    {
     "name": "stdout",
     "output_type": "stream",
     "text": [
      " Volume in drive C is Windows\n",
      " Volume Serial Number is 64D0-5440\n",
      "\n",
      " Directory of c:\\temp\\exercise-2\\embeddings\n",
      "\n",
      "02/20/2024  09:15 AM    <DIR>          .\n",
      "02/20/2024  09:15 AM    <DIR>          ..\n",
      "02/20/2024  09:12 AM             5,070 embed-english-light-v3.021811493-25ee-5fa1-84ab-fbfe08cf0b94\n",
      "02/20/2024  09:12 AM             5,077 embed-english-light-v3.07833ab0f-a741-506b-b64f-eff2aabca361\n",
      "02/20/2024  09:12 AM             5,088 embed-english-light-v3.07e75527c-300a-5d9b-b079-0a61f1d669c7\n",
      "02/20/2024  09:12 AM             5,085 embed-english-light-v3.08200e727-6cc6-5c66-8532-175d1dd29e0c\n",
      "02/20/2024  09:12 AM             5,096 embed-english-light-v3.0a168f043-b0e3-5936-b8d8-18c6f17a604f\n",
      "02/20/2024  09:12 AM             5,080 embed-english-light-v3.0b80467e2-c202-52d1-8eac-f06b6b486372\n",
      "02/20/2024  09:12 AM             5,096 embed-english-light-v3.0dcf068ec-f4be-5d6b-98fb-0ca235c2f086\n",
      "02/20/2024  09:12 AM             5,063 embed-english-light-v3.0e544bd6e-09cb-5acc-9a59-5a343cac99ce\n",
      "02/20/2024  09:12 AM             5,080 embed-english-light-v3.0ec137fa5-473d-512a-8d85-2a7b47cc8ca0\n",
      "02/20/2024  09:15 AM             5,070 Xembed-english-light-v3.021811493-25ee-5fa1-84ab-fbfe08cf0b94\n",
      "02/20/2024  09:15 AM             5,077 Xembed-english-light-v3.07833ab0f-a741-506b-b64f-eff2aabca361\n",
      "02/20/2024  09:15 AM             5,088 Xembed-english-light-v3.07e75527c-300a-5d9b-b079-0a61f1d669c7\n",
      "02/20/2024  09:15 AM             5,085 Xembed-english-light-v3.08200e727-6cc6-5c66-8532-175d1dd29e0c\n",
      "02/20/2024  09:15 AM             5,096 Xembed-english-light-v3.0a168f043-b0e3-5936-b8d8-18c6f17a604f\n",
      "02/20/2024  09:15 AM             5,080 Xembed-english-light-v3.0b80467e2-c202-52d1-8eac-f06b6b486372\n",
      "02/20/2024  09:15 AM             5,096 Xembed-english-light-v3.0dcf068ec-f4be-5d6b-98fb-0ca235c2f086\n",
      "02/20/2024  09:15 AM             5,063 Xembed-english-light-v3.0e544bd6e-09cb-5acc-9a59-5a343cac99ce\n",
      "02/20/2024  09:15 AM             5,080 Xembed-english-light-v3.0ec137fa5-473d-512a-8d85-2a7b47cc8ca0\n",
      "              18 File(s)         91,470 bytes\n",
      "               2 Dir(s)  680,017,637,376 bytes free\n"
     ]
    }
   ],
   "source": [
    "# CHANGE THIS TO - LOCATION OF CACHE ON FILE SYSTEM\n",
    "\n",
    "# Linux/Mac\n",
    "# !ls <Path to cache>\n",
    "\n",
    "# Windows\n",
    "!dir c:\\temp\\exercise-2\\embeddings"
   ]
  },
  {
   "cell_type": "markdown",
   "id": "a92ffdf4-45bd-48b2-8332-c67e4afc2dd3",
   "metadata": {},
   "source": [
    "## 4. Subsequent embed_query, embed_documents\n",
    "1. Run the embeddings generation again, you won't see additional files in the directory\n",
    "2. Change the namespace (e.g., prefix with \"X+\") & run the embed_docs again. Check file system folder for cache"
   ]
  },
  {
   "cell_type": "code",
   "execution_count": null,
   "id": "9be0e8fb-0d15-465a-af5a-8e271124c606",
   "metadata": {},
   "outputs": [],
   "source": [
    "# 1. Retrieved from local cache\n",
    "corpus_embeddings = cached_embedder.embed_documents(corpus)"
   ]
  },
  {
   "cell_type": "code",
   "execution_count": null,
   "id": "1faddf2a-732e-4f46-a7fa-7b0ab0590e29",
   "metadata": {},
   "outputs": [],
   "source": [
    "# 2. Retrieved from model as the namespace is different\n",
    "corpus_embeddings = cached_embedder.embed_documents(corpus)"
   ]
  }
 ],
 "metadata": {
  "kernelspec": {
   "display_name": "Python 3 (ipykernel)",
   "language": "python",
   "name": "python3"
  },
  "language_info": {
   "codemirror_mode": {
    "name": "ipython",
    "version": 3
   },
   "file_extension": ".py",
   "mimetype": "text/x-python",
   "name": "python",
   "nbconvert_exporter": "python",
   "pygments_lexer": "ipython3",
   "version": "3.11.7"
  }
 },
 "nbformat": 4,
 "nbformat_minor": 5
}
