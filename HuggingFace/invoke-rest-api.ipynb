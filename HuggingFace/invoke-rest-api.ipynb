{
 "cells": [
  {
   "cell_type": "markdown",
   "id": "c8b2327f-b87e-4ec7-880c-301f1001f666",
   "metadata": {},
   "source": [
    "# Hugging Face REST API\n",
    "Here you will try out the REST API for invoking the models.\n",
    "\n",
    "* Use an appropriate model for the task\n",
    "* Response depends of the task & model in use\n",
    "\n",
    "**Note:**\n",
    "An error = 503 indicates that model is in *cold* state but will be loaded. Try again after a few moments.\n",
    "\n",
    "https://huggingface.co/docs/api-inference/"
   ]
  },
  {
   "cell_type": "code",
   "execution_count": 1,
   "id": "fb251864-3f24-4d42-869e-e05d487c9ece",
   "metadata": {},
   "outputs": [],
   "source": [
    "import sys\n",
    "import getpass\n",
    "\n",
    "# setting path for utils package\n",
    "sys.path.append('../')"
   ]
  },
  {
   "cell_type": "markdown",
   "id": "bad8805f-0d3e-4177-8b41-5e3cd9c75c45",
   "metadata": {},
   "source": [
    "## Get the HUGGINGFACEHUB_API_TOKEN"
   ]
  },
  {
   "cell_type": "code",
   "execution_count": 2,
   "id": "9eea1131-2e4d-42c6-8427-594b0ac437b2",
   "metadata": {},
   "outputs": [
    {
     "name": "stdout",
     "output_type": "stream",
     "text": [
      "Provide the HF API Token:\n"
     ]
    },
    {
     "name": "stdin",
     "output_type": "stream",
     "text": [
      " ········\n"
     ]
    }
   ],
   "source": [
    "print(\"Provide the HF API Token:\")\n",
    "HUGGINGFACEHUB_API_TOKEN=getpass.getpass()"
   ]
  },
  {
   "cell_type": "markdown",
   "id": "be0b19a2-bdf7-488b-9f24-ffeaa3c1dd64",
   "metadata": {},
   "source": [
    "## Test models"
   ]
  },
  {
   "cell_type": "code",
   "execution_count": 12,
   "id": "3d56f726-e28d-4932-8d47-0acb3b10d86f",
   "metadata": {},
   "outputs": [],
   "source": [
    "from utils.hf_post_api import hf_rest_client\n",
    "\n",
    "hugging_face_model_ids = [\n",
    "    'tiiuae/falcon-7b-instruct',\n",
    "    'distilbert/distilbert-base-cased-distilled-squad',\n",
    "    'mistralai/Mistral-7B-Instruct-v0.2',\n",
    "    'facebook/bart-large-mnli',\n",
    "    'google/tapas-base-finetuned-wtq',\n",
    "    'openlm-research/open_llama_3b_v2',\n",
    "    'meta-llama/Meta-Llama-3.1-8B-Instruct'\n",
    "]\n"
   ]
  },
  {
   "cell_type": "markdown",
   "id": "71cedfcd-13ad-4ff3-b07a-a68c29a83200",
   "metadata": {},
   "source": [
    "## 1. Text generation task\n",
    "\n",
    "https://huggingface.co/docs/api-inference/detailed_parameters#text-generation-task"
   ]
  },
  {
   "cell_type": "code",
   "execution_count": 4,
   "id": "7dded814-8542-4dd2-8bf2-4ff574bc0791",
   "metadata": {},
   "outputs": [
    {
     "name": "stdout",
     "output_type": "stream",
     "text": [
      "Model URL:  https://api-inference.huggingface.co/models/mistralai/Mistral-7B-Instruct-v0.2\n"
     ]
    }
   ],
   "source": [
    "# Select the model for the task\n",
    "# 'mistralai/Mistral-7B-Instruct-v0.2' is a good text gen model\n",
    "model_index = 2\n",
    "\n",
    "# Create the client\n",
    "hf_client = hf_rest_client(hugging_face_model_ids[model_index], api_token=HUGGINGFACEHUB_API_TOKEN)\n",
    "\n",
    "# Check endpoint URL\n",
    "print(\"Model URL: \", hf_client.get_model_url())"
   ]
  },
  {
   "cell_type": "code",
   "execution_count": 5,
   "id": "a2d77231-8cea-4457-a180-5550dae42637",
   "metadata": {},
   "outputs": [
    {
     "data": {
      "text/plain": [
       "[{'generated_text': \"hello friend,\\n\\ni'm trying to make a simple game in which the player can move around a 2d world, and interact with objects.\\n\\ni've been following the tutorials on the wiki, and i've managed to get a player moving around, and i've also managed to make a simple object that the player can interact with.\\n\\nhowever, i'm having trouble making the object do something when the player interacts with it.\\n\\n\"}]"
      ]
     },
     "execution_count": 5,
     "metadata": {},
     "output_type": "execute_result"
    }
   ],
   "source": [
    "query = \"hello friend\"\n",
    "response = hf_client.invoke(query)\n",
    "response"
   ]
  },
  {
   "cell_type": "markdown",
   "id": "9971c017-637a-4f2d-aca1-3673a3b0fd34",
   "metadata": {},
   "source": [
    "## 2. Question answering"
   ]
  },
  {
   "cell_type": "code",
   "execution_count": 6,
   "id": "c86c192c-1005-422a-b5bb-855248cc5189",
   "metadata": {},
   "outputs": [
    {
     "name": "stdout",
     "output_type": "stream",
     "text": [
      "Model URL:  https://api-inference.huggingface.co/models/distilbert/distilbert-base-cased-distilled-squad\n"
     ]
    }
   ],
   "source": [
    "# Select the model for the task\n",
    "# 'distilbert/distilbert-base-cased-distilled-squad' is a good Q&A model\n",
    "model_index = 1\n",
    "\n",
    "# Create the client\n",
    "hf_client = hf_rest_client(hugging_face_model_ids[model_index], api_token=HUGGINGFACEHUB_API_TOKEN)\n",
    "\n",
    "# Check endpoint URL\n",
    "print(\"Model URL: \", hf_client.get_model_url())"
   ]
  },
  {
   "cell_type": "code",
   "execution_count": 7,
   "id": "b04a974b-4a53-4901-89a6-b0e6559450b4",
   "metadata": {},
   "outputs": [
    {
     "data": {
      "text/plain": [
       "{'score': 0.996519148349762, 'start': 11, 'end': 16, 'answer': 'Clara'}"
      ]
     },
     "execution_count": 7,
     "metadata": {},
     "output_type": "execute_result"
    }
   ],
   "source": [
    "# Q&A tasks expects the input to have an attribute question\n",
    "query = {\n",
    "            \"question\": \"What's my name?\",\n",
    "            \"context\": \"My name is Clara and I live in Berkeley.\",\n",
    "}\n",
    "\n",
    "response = hf_client.invoke(query)\n",
    "response"
   ]
  },
  {
   "cell_type": "markdown",
   "id": "d2c2352c-e7ec-4069-9c1b-61c938f0c9b5",
   "metadata": {},
   "source": [
    "## 3. Zero shot classification\n",
    "Without any prior examples or fine-tuning, the model needs to classify the sentence into one of the given categories. \n",
    "The model attempts to classify the given input into a category. The categories are provided as labels."
   ]
  },
  {
   "cell_type": "code",
   "execution_count": 8,
   "id": "23c91603-ca16-44d6-a4fc-f1499cae8b0e",
   "metadata": {},
   "outputs": [
    {
     "name": "stdout",
     "output_type": "stream",
     "text": [
      "Model URL:  https://api-inference.huggingface.co/models/facebook/bart-large-mnli\n"
     ]
    }
   ],
   "source": [
    "# Select the model for the task\n",
    "# 'facebook/bart-large-mnli' is a good Q&A model\n",
    "model_index = 3\n",
    "\n",
    "# Create the client\n",
    "hf_client = hf_rest_client(hugging_face_model_ids[model_index], api_token=HUGGINGFACEHUB_API_TOKEN)\n",
    "\n",
    "# Check endpoint URL\n",
    "print(\"Model URL: \", hf_client.get_model_url())"
   ]
  },
  {
   "cell_type": "code",
   "execution_count": 9,
   "id": "1989be4e-284e-4ed5-90fa-142aac6b974b",
   "metadata": {},
   "outputs": [
    {
     "data": {
      "text/plain": [
       "{'sequence': 'A retired hitman is forced back into action when a group of assassins targets his family.',\n",
       " 'labels': ['action', 'comedy', 'romance'],\n",
       " 'scores': [0.9827109575271606, 0.012721630744636059, 0.004567424766719341]}"
      ]
     },
     "execution_count": 9,
     "metadata": {},
     "output_type": "execute_result"
    }
   ],
   "source": [
    "# Identify movie genre\n",
    "text = \"A retired hitman is forced back into action when a group of assassins targets his family.\"\n",
    "\n",
    "# Labels provided in parameters\n",
    "parameters = {\"candidate_labels\": [\"action\", \"romance\", \"comedy\"]}\n",
    "\n",
    "response = hf_client.invoke(text, parameters=parameters)\n",
    "response"
   ]
  },
  {
   "cell_type": "markdown",
   "id": "c078f3a9-c3ce-40c3-ba84-56d6a02f06bf",
   "metadata": {},
   "source": [
    "## 4. Table Q&A"
   ]
  },
  {
   "cell_type": "code",
   "execution_count": 38,
   "id": "15c2063e-d33e-4a89-be23-839b44d7bfd3",
   "metadata": {},
   "outputs": [
    {
     "name": "stdout",
     "output_type": "stream",
     "text": [
      "Model URL:  https://api-inference.huggingface.co/models/microsoft/tapex-large-finetuned-wtq\n"
     ]
    }
   ],
   "source": [
    "# Select the model for the task\n",
    "# google/tapas-base-finetuned-wtq is a good model for table Q&A\n",
    "\n",
    "# model_id='google/tapas-large-finetuned-wtq'\n",
    "model_id='microsoft/tapex-large-finetuned-wtq'\n",
    "\n",
    "# Create the client\n",
    "hf_client = hf_rest_client(model_id, api_token=HUGGINGFACEHUB_API_TOKEN)\n",
    "\n",
    "# Check endpoint URL\n",
    "print(\"Model URL: \", hf_client.get_model_url())"
   ]
  },
  {
   "cell_type": "code",
   "execution_count": 40,
   "id": "d414c76b-fae5-4e54-8957-ac1d861554be",
   "metadata": {},
   "outputs": [
    {
     "data": {
      "text/plain": [
       "{'answer': ' smartphone'}"
      ]
     },
     "execution_count": 40,
     "metadata": {},
     "output_type": "execute_result"
    }
   ],
   "source": [
    "table_data = {\n",
    "  \"Product\": [\"Laptop\", \"Smartphone\", \"Tablet\", \"Headphones\", \"Laptop\", \"Smartphone\", \"Tablet\"],\n",
    "  \"Region\": [\"North America\", \"Europe\", \"Asia\", \"North America\", \"Europe\", \"Asia\", \"North America\"],\n",
    "  \"Units Sold\": [5000, 8000, 6500, 12000, 4200, 10000, 7000],\n",
    "  \"Revenue (USD)\": [5000000, 4800000, 3250000, 1200000, 4200000, 6000000, 3500000],\n",
    "  \"Profit (USD in thousands)\": [1200, 800, 650, 300, 1000, 1200, 700]\n",
    "}\n",
    "\n",
    "# Sample questions for the data\n",
    "questions = [\n",
    "    \"Which product category achieved the highest profit in Europe?\",\n",
    "    \"How many total units of Smartphones were sold across all regions?\",\n",
    "    \"What was the average revenue per unit for Tablets sold in Asia?\"\n",
    "]\n",
    "\n",
    "# Answers for reference ONLY.\n",
    "# Models will be used for generating the answers\n",
    "# answers = [\n",
    "#     \"Laptops achieved the highest profit in Europe, with a profit of $1,000,000.\",\n",
    "#     \"A total of 18,000 units of Smartphones were sold across all regions (8,000 in Europe + 10,000 in Asia).\",\n",
    "#     \"The average revenue per unit for Tablets sold in Asia was $500 (calculated as $3,250,000 ÷ 6,500 units).\"\n",
    "# ]\n",
    "\n",
    "question = {\n",
    "    \"query\": questions[0],\n",
    "    \"table\": table_data\n",
    "}\n",
    "\n",
    "response = hf_client.invoke(question)\n",
    "response"
   ]
  },
  {
   "cell_type": "code",
   "execution_count": null,
   "id": "71e32a41-d9b5-4c4a-87aa-00dda916d9c6",
   "metadata": {},
   "outputs": [],
   "source": []
  },
  {
   "cell_type": "code",
   "execution_count": null,
   "id": "485c2587-6f01-4946-9999-812b66943626",
   "metadata": {},
   "outputs": [],
   "source": []
  }
 ],
 "metadata": {
  "kernelspec": {
   "display_name": "Python 3 (ipykernel)",
   "language": "python",
   "name": "python3"
  },
  "language_info": {
   "codemirror_mode": {
    "name": "ipython",
    "version": 3
   },
   "file_extension": ".py",
   "mimetype": "text/x-python",
   "name": "python",
   "nbconvert_exporter": "python",
   "pygments_lexer": "ipython3",
   "version": "3.12.4"
  }
 },
 "nbformat": 4,
 "nbformat_minor": 5
}
