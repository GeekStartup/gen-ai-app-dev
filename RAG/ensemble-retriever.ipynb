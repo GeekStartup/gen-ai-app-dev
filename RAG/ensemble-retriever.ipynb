{
 "cells": [
  {
   "cell_type": "markdown",
   "id": "819a412d-aa75-4de8-bd79-efa00e46d0b2",
   "metadata": {},
   "source": [
    "# Ensemble retriever\n",
    "\n",
    "https://python.langchain.com/v0.1/docs/modules/data_connection/retrievers/ensemble/\n",
    "\n",
    "Note:\n",
    "* Code uses the LangChain BM25Retriever that depends on the rank_bm25 package"
   ]
  },
  {
   "cell_type": "code",
   "execution_count": 1,
   "id": "ab790a90-24eb-4168-a955-19adccd257f8",
   "metadata": {},
   "outputs": [],
   "source": [
    "# Must install \n",
    "# !pip install --upgrade --quiet  rank_bm25"
   ]
  },
  {
   "cell_type": "code",
   "execution_count": 2,
   "id": "837fd9c1-f4ba-4485-8173-99885a21134b",
   "metadata": {},
   "outputs": [],
   "source": [
    "# https://api.python.langchain.com/en/latest/documents/langchain_core.documents.base.Document.html\n",
    "from langchain_core.documents import Document\n",
    "from langchain_community.retrievers import BM25Retriever\n",
    "from langchain_community.embeddings.sentence_transformer import SentenceTransformerEmbeddings\n",
    "from langchain_community.vectorstores import Chroma\n",
    "from langchain.retrievers import EnsembleRetriever"
   ]
  },
  {
   "cell_type": "markdown",
   "id": "86e5d538-e14e-471b-b0b6-99ec6e349d60",
   "metadata": {},
   "source": [
    "## 1. Setup test corpus\n",
    "\n",
    "Documents will have metadata with an attribute that holds the source document information. For simplecity and ease of understanding the corpus consists of a set of sentences."
   ]
  },
  {
   "cell_type": "code",
   "execution_count": 3,
   "id": "4456cee5-78e6-44ba-a6b0-68a68eca6a0a",
   "metadata": {},
   "outputs": [
    {
     "data": {
      "text/plain": [
       "[Document(page_content='RAG addresses hallucinations', metadata={'source': 'doc-0'}),\n",
       " Document(page_content='Symptoms are hallucinations', metadata={'source': 'doc-1'}),\n",
       " Document(page_content='RAG is easier than fine tuning', metadata={'source': 'doc-2'}),\n",
       " Document(page_content='Use a RAG to clean it', metadata={'source': 'doc-3'}),\n",
       " Document(page_content='Retrieval Augmented Generation', metadata={'source': 'doc-4'})]"
      ]
     },
     "execution_count": 3,
     "metadata": {},
     "output_type": "execute_result"
    }
   ],
   "source": [
    "## 1. Create a test corpus\n",
    "corpus = [\n",
    "    \"RAG addresses hallucinations\",\n",
    "    \"Symptoms are hallucinations\",\n",
    "    \"RAG is easier than fine tuning\",\n",
    "    \"Use a RAG to clean it\",\n",
    "    \"Retrieval Augmented Generation\"\n",
    "]\n",
    "\n",
    "corpus_docs = []\n",
    "\n",
    "# Add metadata\n",
    "for i, dat in enumerate(corpus):\n",
    "    document = Document(\n",
    "        page_content= dat,\n",
    "        metadata = {\"source\": \"doc-\"+str(i)}\n",
    "    )\n",
    "    corpus_docs.append(document)\n",
    "\n",
    "# Print corpus\n",
    "corpus_docs"
   ]
  },
  {
   "cell_type": "markdown",
   "id": "50f8dc64-e623-46f0-9fb4-b140fd9b0d84",
   "metadata": {},
   "source": [
    "## 2. Setup BM25 Retriever"
   ]
  },
  {
   "cell_type": "code",
   "execution_count": 4,
   "id": "a99b9c09-4a55-42ff-83c5-d64ec5ca803b",
   "metadata": {},
   "outputs": [],
   "source": [
    "# Create the BM25 Retriever\n",
    "bm25_retriever = BM25Retriever.from_documents(corpus_docs, k=3)"
   ]
  },
  {
   "cell_type": "markdown",
   "id": "91ee100e-f924-4a07-a118-9ac9251bc8e1",
   "metadata": {},
   "source": [
    "## 3. Setup a vector store retriever\n",
    "\n",
    "Setup the Vector store with same set of documents that were used for BM25 retriever."
   ]
  },
  {
   "cell_type": "code",
   "execution_count": 5,
   "id": "8f76da2e-3526-4db1-a2db-5d9213379eaf",
   "metadata": {},
   "outputs": [],
   "source": [
    "# Create instance of ChromaDB and add the \n",
    "embedding_function = SentenceTransformerEmbeddings(model_name=\"all-MiniLM-L6-v2\")\n",
    "vector_store = Chroma(collection_name=\"full_documents\", embedding_function=embedding_function) \n",
    "vector_store.add_documents(corpus_docs)\n",
    "\n",
    "# https://api.python.langchain.com/en/latest/vectorstores/langchain_community.vectorstores.chroma.Chroma.html#langchain_community.vectorstores.chroma.Chroma.as_retriever\n",
    "chromadb_retriever = vector_store.as_retriever(search_kwargs={\"k\": 3})"
   ]
  },
  {
   "cell_type": "markdown",
   "id": "68b8717c-b4d9-41c2-b0a5-e5a58e548405",
   "metadata": {},
   "source": [
    "## 4. Create the Ensemble retriever\n",
    "\n",
    "https://api.python.langchain.com/en/latest/retrievers/langchain.retrievers.ensemble.EnsembleRetriever.html\n",
    "\n",
    "* Requires a list of retrievers\n",
    "* Weights for the retriever (by default equal weights to all retrievers)\n",
    "* Metdata attribute that holds the document's identity"
   ]
  },
  {
   "cell_type": "code",
   "execution_count": 6,
   "id": "ecc28ed9-de36-47f3-94aa-8f54c61f3661",
   "metadata": {},
   "outputs": [],
   "source": [
    "retrievers = [bm25_retriever, chromadb_retriever]\n",
    "retriever_weights = [0.4, 0.6]\n",
    "\n",
    "ensemble_retriever = EnsembleRetriever(\n",
    "    retrievers = retrievers,\n",
    "    weights = retriever_weights,\n",
    "    id_key = \"source\"\n",
    ")"
   ]
  },
  {
   "cell_type": "markdown",
   "id": "5d41468b-0cf5-4084-903a-068cecd1f8a1",
   "metadata": {},
   "source": [
    "## 5. Test"
   ]
  },
  {
   "cell_type": "code",
   "execution_count": 7,
   "id": "a3569710-9922-497f-ada9-a52efd9c7f91",
   "metadata": {},
   "outputs": [],
   "source": [
    "# Utility function to print the list of ranked documents\n",
    "def dump_doc_source(result_documents):\n",
    "    for doc in result_documents:\n",
    "        print(doc.metadata[\"source\"])\n",
    "    print(\"\\n\")"
   ]
  },
  {
   "cell_type": "code",
   "execution_count": 8,
   "id": "5c1913b1-ad39-4f13-9131-c761d3c8eb65",
   "metadata": {},
   "outputs": [
    {
     "name": "stdout",
     "output_type": "stream",
     "text": [
      "Input:  rag is cheaper \n",
      "\n",
      "BM25\n",
      "----\n",
      "doc-2\n",
      "doc-4\n",
      "doc-3\n",
      "\n",
      "\n",
      "ChromaDB\n",
      "--------\n",
      "doc-2\n",
      "doc-3\n",
      "doc-0\n",
      "\n",
      "\n",
      "Ensemble Retriever\n",
      "------------------\n",
      "doc-2\n",
      "doc-3\n",
      "doc-0\n",
      "doc-4\n",
      "\n",
      "\n"
     ]
    },
    {
     "data": {
      "text/plain": [
       "[Document(page_content='RAG is easier than fine tuning', metadata={'source': 'doc-2'}),\n",
       " Document(page_content='Use a RAG to clean it', metadata={'source': 'doc-3'}),\n",
       " Document(page_content='RAG addresses hallucinations', metadata={'source': 'doc-0'}),\n",
       " Document(page_content='Retrieval Augmented Generation', metadata={'source': 'doc-4'})]"
      ]
     },
     "execution_count": 8,
     "metadata": {},
     "output_type": "execute_result"
    }
   ],
   "source": [
    "# Test input \n",
    "input = [\"rag is cheaper\",\n",
    "         \"benefits of rag\",\n",
    "         \"piece of cloth\"\n",
    "        ]\n",
    "\n",
    "# change input index for testing\n",
    "ndx = 0\n",
    "print(\"Input: \", input[ndx],\"\\n\")\n",
    "\n",
    "# Dump the ranked list for BM25\n",
    "print(\"BM25\")\n",
    "print(\"----\")\n",
    "results_bm25 = bm25_retriever.invoke(input[ndx])\n",
    "dump_doc_source(results_bm25)\n",
    "\n",
    "# Dump the ranked list for ChromaDB\n",
    "print(\"ChromaDB\")\n",
    "print(\"--------\")\n",
    "results_chromadb = chromadb_retriever.invoke(input[ndx])\n",
    "dump_doc_source(results_chromadb)\n",
    "\n",
    "print(\"Ensemble Retriever\")\n",
    "print(\"------------------\")\n",
    "results = ensemble_retriever.invoke(input[ndx])\n",
    "\n",
    "dump_doc_source(results)\n",
    "\n",
    "results"
   ]
  },
  {
   "cell_type": "code",
   "execution_count": null,
   "id": "6b451eeb-b625-45ee-a5ed-001582d4dc26",
   "metadata": {},
   "outputs": [],
   "source": []
  }
 ],
 "metadata": {
  "kernelspec": {
   "display_name": "Python 3 (ipykernel)",
   "language": "python",
   "name": "python3"
  },
  "language_info": {
   "codemirror_mode": {
    "name": "ipython",
    "version": 3
   },
   "file_extension": ".py",
   "mimetype": "text/x-python",
   "name": "python",
   "nbconvert_exporter": "python",
   "pygments_lexer": "ipython3",
   "version": "3.11.8"
  }
 },
 "nbformat": 4,
 "nbformat_minor": 5
}
