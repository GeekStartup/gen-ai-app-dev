{
 "cells": [
  {
   "cell_type": "markdown",
   "id": "045b8e62-59b8-4ed0-97e9-1a617226fd41",
   "metadata": {},
   "source": [
    "# Creative Writing Workbench using SequentialChain (version 2)\n",
    "\n",
    "Solution to **exercise #6**\n",
    "\n",
    "Convert the Creative Writing Workbench code from *exercise #5* to use LCEL\n"
   ]
  },
  {
   "cell_type": "markdown",
   "id": "0ef06b73-7984-404f-8ea2-18f1062ddcbc",
   "metadata": {},
   "source": [
    "Create a chain that has 4 steps.\n",
    "\n",
    "1. Chain#1 : Generate 3 plan\n",
    "2. Chain#2 : Vote the best plan out of the 3 plans\n",
    "3. Chain#3 : Generate 3 writeups from the best plan\n",
    "4. Chain#4 : Vote the best passage out of the 3 passages\n",
    "\n",
    "\n",
    "**Hints**:\n",
    "\n",
    "* To specify JSON formats in prompts use double '{{' instead of '{'  i.e., *{{   ...  }*\n",
    "* You may need to adjust the prompt i.e., you cant use the prompts from earlier version as-is\n",
    "* You may need to adjust the number of tokens returned from the model as a response\n",
    "* If need be, use JSON output parser. Pydantic may also be used. Try out both and pick one that works best for you.\n",
    "* Output indicators may be hard coded in the prompt as we will not be parsing the output from the LLM at each step"
   ]
  },
  {
   "cell_type": "markdown",
   "id": "b33fe4b4-a269-4372-a9a1-4eeadc56b87a",
   "metadata": {},
   "source": [
    "#### Google Colab\n",
    "If you are running the code in Google colab, install the packages by uncommenting/running the cell below\n",
    "\n",
    "* The API key file file will not be available\n",
    "* You will be prompted to provide the Cohere API Token\n",
    "\n",
    "Uncomment & run the code in the cell below:"
   ]
  },
  {
   "cell_type": "code",
   "execution_count": null,
   "id": "ba1071f2-de6b-46f1-945a-62d95304e2fa",
   "metadata": {},
   "outputs": [],
   "source": [
    "## The script is downloaded and run to setup the utils folder\n",
    "\n",
    "# !curl -H \"Accept: application/vnd.github.VERSION.raw\" https://raw.githubusercontent.com/acloudfan/gen-ai-app-dev/main/Setup/gcsetup.sh  > gcsetup.sh\n",
    "# !chmod u+x gcsetup.sh\n",
    "# !./gcsetup.sh -l"
   ]
  },
  {
   "cell_type": "markdown",
   "id": "d4d56862-ee1f-4d04-b8c0-f79474ab8274",
   "metadata": {},
   "source": [
    "## Setup the environment variable for API access\n",
    "\n",
    "#### NOTE\n",
    "You MUST change the path to your own environment file or provide the API key value"
   ]
  },
  {
   "cell_type": "code",
   "execution_count": 1,
   "id": "4f53cd45-e30e-4b25-a790-85044ef7e49c",
   "metadata": {},
   "outputs": [
    {
     "data": {
      "text/plain": [
       "True"
      ]
     },
     "execution_count": 1,
     "metadata": {},
     "output_type": "execute_result"
    }
   ],
   "source": [
    "from dotenv import load_dotenv\n",
    "import os\n",
    "import sys\n",
    "import warnings\n",
    "\n",
    "from IPython.display import Markdown, JSON\n",
    "\n",
    "warnings.filterwarnings(\"ignore\")\n",
    "\n",
    "# Load the file that contains the API keys\n",
    "load_dotenv('C:\\\\Users\\\\raj\\\\.jupyter\\\\.env')"
   ]
  },
  {
   "cell_type": "code",
   "execution_count": 2,
   "id": "743ca244-f854-4671-807c-0d15631b2512",
   "metadata": {},
   "outputs": [],
   "source": [
    "# Setting path so we can access the utils folder\n",
    "sys.path.append('../')\n",
    "sys.path.append('./')\n",
    "\n",
    "from langchain_core.runnables import RunnablePassthrough, RunnableParallel, RunnableSequence\n",
    "from operator import itemgetter\n",
    "from utils.create_llm import create_google_llm, create_cohere_llm, create_gpt_llm\n",
    "from langchain.globals import set_debug\n",
    "\n",
    "from langchain.prompts import PromptTemplate\n",
    "from langchain.chains  import LLMChain, SequentialChain\n",
    "\n",
    "from IPython.display import Markdown, JSON"
   ]
  },
  {
   "cell_type": "markdown",
   "id": "d34a75cd-5a48-4bf3-98ab-2da78557dc25",
   "metadata": {},
   "source": [
    "## Writeup instructions"
   ]
  },
  {
   "cell_type": "code",
   "execution_count": 3,
   "id": "8a6d4a60-afdb-4390-bbdc-a66e4e0c6f54",
   "metadata": {},
   "outputs": [],
   "source": [
    "writeup_instructions = \"\"\"\n",
    "Write a passage of under 100 words to describe our new product:\n",
    "Javelin 20 High Performance Shoes.\n",
    "\n",
    "The title must contain the sentence: A new you\n",
    "\n",
    "The first sentence must contain a few of these words: motivation, workout, sports, attractive\n",
    "\n",
    "The last few sentences must motivate the reader to visit out website http://acme.com/jav20\n",
    "\n",
    "The passage must contain the phrase : trendsetter\n",
    "\"\"\""
   ]
  },
  {
   "cell_type": "markdown",
   "id": "b4c8b6d2-41af-41f6-95b1-8779541258ec",
   "metadata": {},
   "source": [
    "## LLM setup"
   ]
  },
  {
   "cell_type": "code",
   "execution_count": 4,
   "id": "7a8546d8-5158-4c30-9203-99c938b99584",
   "metadata": {},
   "outputs": [
    {
     "name": "stdout",
     "output_type": "stream",
     "text": [
      "Key:  GOOGLE_API_KEY  already set in environment.\n"
     ]
    }
   ],
   "source": [
    "# You may use different LLM  for each of the chains !!\n",
    "# NOTE : the behavior will change as we are not adjusting the prompt\n",
    "llm_chain_1 = create_google_llm(api_key_prompt=True)\n",
    "llm_chain_2 = llm_chain_1\n",
    "llm_chain_3 = llm_chain_1\n",
    "llm_chain_4 = llm_chain_1\n",
    "\n"
   ]
  },
  {
   "cell_type": "markdown",
   "id": "d6403e52-992b-4e45-b08e-f3b516c03171",
   "metadata": {},
   "source": [
    "## 1. Create LLMChain #1   Generate 3 plans\n"
   ]
  },
  {
   "cell_type": "code",
   "execution_count": 5,
   "id": "beb52964-f8b6-4f09-97f7-8a62c913189e",
   "metadata": {},
   "outputs": [],
   "source": [
    "ouput_passage_indicator = \"Passage:\"\n",
    "ouput_plan_indicator = \"Plan:\"\n",
    "\n",
    "template_1 = \"\"\"\n",
    "Generate three separate step by step plans for executing the given task with the following task instructions.\n",
    "\n",
    "Task Instructions:\n",
    "{task_instructions}\n",
    "\n",
    "{ouput_plan_indicator}\n",
    "Your plan here.\n",
    "\n",
    "\"\"\" \n",
    "\n",
    "prompt_template_1 = PromptTemplate(\n",
    "                        template = template_1,\n",
    "                        input_variables = [\"task_instructions\"],\n",
    "                        partial_variables = {\"ouput_plan_indicator\":ouput_plan_indicator}\n",
    ")\n",
    "\n",
    "# print(prompt_template_1.format(task_instructions=writeup_instructions))"
   ]
  },
  {
   "cell_type": "code",
   "execution_count": 6,
   "id": "00922460-6d35-4e78-bf7d-f1bda4ff939e",
   "metadata": {},
   "outputs": [],
   "source": [
    "# Setup a sequential chain with prompt & LLM\n",
    "chain_1_sequence = prompt_template_1 |  llm_chain_1\n",
    "\n",
    "# We will use the RunnableParallel so we can pass on the task_instructions as is to the output\n",
    "generate_plan_chain_1 = RunnableParallel(\n",
    "    task_instructions=itemgetter('task_instructions'), \n",
    "    proposed_plans = chain_1_sequence\n",
    ")\n"
   ]
  },
  {
   "cell_type": "markdown",
   "id": "f057d3d2-31ce-4324-9d04-79b40b4a06eb",
   "metadata": {},
   "source": [
    "#### Unit test chain#1\n",
    "Verify the output from the chain - it should be a dictionary with 2 keys [task_instructions, proposed_plans]"
   ]
  },
  {
   "cell_type": "code",
   "execution_count": 7,
   "id": "36d99229-ee27-4081-822e-2cb370664cff",
   "metadata": {},
   "outputs": [
    {
     "data": {
      "application/json": {
       "proposed_plans": "## Plan 1:  Focus on Performance\n\n**Step 1:** Start with a sentence highlighting the shoes' performance and appeal: \n> \"Stay motivated during your workouts and sports in these attractive Javelin 20 High Performance Shoes.\"\n\n**Step 2:** Briefly describe the shoes' key features:\n> \"These lightweight, breathable shoes are designed for maximum comfort and support, allowing you to push your limits and achieve your athletic goals.\"\n\n**Step 3:** Emphasize the trendsetter aspect:\n> \"Be a trendsetter and stand out on the track or in the gym with the Javelin 20.\"\n\n**Step 4:** Conclude with a call to action:\n> \"Visit our website at http://acme.com/jav20 to learn more and order your pair today!\"\n\n**Title:**  A New You: Unleash Your Athletic Potential\n\n## Plan 2:  Focus on Style\n\n**Step 1:** Start with a sentence highlighting the shoes' style and appeal:\n> \"Step into a new you with the Javelin 20 High Performance Shoes, the perfect blend of style and performance.\"\n\n**Step 2:** Briefly describe the shoes' stylish design:\n> \"These shoes feature a sleek, modern design that's sure to turn heads, making you a trendsetter wherever you go.\"\n\n**Step 3:** Briefly mention the shoes' performance features:\n> \"But don't let the style fool you - the Javelin 20 also delivers exceptional comfort and support for your workouts and sports.\"\n\n**Step 4:** Conclude with a call to action:\n> \"Visit our website at http://acme.com/jav20 to explore the Javelin 20 and find the perfect color for your style.\"\n\n**Title:** A New You:  Style and Performance in One\n\n## Plan 3:  Focus on Motivation\n\n**Step 1:** Start with a sentence highlighting the shoes' motivational aspect:\n> \"Fuel your motivation and elevate your workouts with the Javelin 20 High Performance Shoes.\"\n\n**Step 2:** Briefly describe the shoes' impact on performance:\n> \"Designed to enhance your every stride, these shoes provide the comfort and support you need to push yourself further and achieve your fitness goals.\"\n\n**Step 3:** Emphasize the trendsetter aspect:\n> \"Be a trendsetter and inspire others with your dedication and commitment to fitness.\"\n\n**Step 4:** Conclude with a call to action:\n> \"Visit our website at http://acme.com/jav20 to discover the power of the Javelin 20 and unlock your full potential.\"\n\n**Title:** A New You:  Unleash Your Potential with the Javelin 20 \n",
       "task_instructions": "\nWrite a passage of under 100 words to describe our new product:\nJavelin 20 High Performance Shoes.\n\nThe title must contain the sentence: A new you\n\nThe first sentence must contain a few of these words: motivation, workout, sports, attractive\n\nThe last few sentences must motivate the reader to visit out website http://acme.com/jav20\n\nThe passage must contain the phrase : trendsetter\n"
      },
      "text/plain": [
       "<IPython.core.display.JSON object>"
      ]
     },
     "execution_count": 7,
     "metadata": {
      "application/json": {
       "expanded": false,
       "root": "root"
      }
     },
     "output_type": "execute_result"
    }
   ],
   "source": [
    "# Response form the chain\n",
    "response = generate_plan_chain_1.invoke({\"task_instructions\": writeup_instructions})\n",
    "\n",
    "# Pretty print JSON\n",
    "JSON(response) #['proposed_plans'])\n"
   ]
  },
  {
   "cell_type": "markdown",
   "id": "e7366952-1186-4c2d-b9c8-849ae932555b",
   "metadata": {},
   "source": [
    "## 2. Vote the best plan out of the 3 plans"
   ]
  },
  {
   "cell_type": "code",
   "execution_count": 8,
   "id": "4f95997f-5c8c-41c0-876e-1350165d5a76",
   "metadata": {},
   "outputs": [],
   "source": [
    "output_best_plan_indicator = \"Selected Plan:\"\n",
    "\n",
    "template_2 = \"\"\"\n",
    "Three  expert marketing writers were asked to put together a plan for the following task. \n",
    "Your job is to pick the best plan.\n",
    "\n",
    "Task Instructions:\n",
    "{task_instructions}\n",
    "\n",
    "Proposed Plans:\n",
    "{proposed_plans}\n",
    "\n",
    "Your out should be in following format.\n",
    "\n",
    "{output_best_plan_indicator} \n",
    "Put the plan steps here.\n",
    "\n",
    "\"\"\"\n",
    "\n",
    "prompt_template_2 = PromptTemplate(\n",
    "                        template = template_2,\n",
    "                        input_variables = [\"task_instructions\", \"proposed_plans\"],\n",
    "                        partial_variables = {\"output_best_plan_indicator\":output_best_plan_indicator}\n",
    ")\n",
    "\n",
    "# print(prompt_template_2.format(task_instructions=writeup_instructions, proposed_plans = \"DUMMY PLANS\"))"
   ]
  },
  {
   "cell_type": "code",
   "execution_count": 9,
   "id": "1c3ab497-47c5-489c-834e-c7d8418f172f",
   "metadata": {},
   "outputs": [],
   "source": [
    "# Setup a sequential chain with prompt & LLM\n",
    "chain_2_sequence = prompt_template_2 |  llm_chain_2\n",
    "\n",
    "# We will use the RunnableParallel so we can pass on the task_instructions & proposed plans as is to the output\n",
    "vote_on_plan_chain_2 = RunnableParallel(\n",
    "    task_instructions=itemgetter('task_instructions'), \n",
    "    proposed_plans = itemgetter('proposed_plans'),\n",
    "    best_voted_plan = chain_2_sequence\n",
    ")\n",
    "\n",
    "# vote_on_plan_chain_2 = prompt_template_2 | {\"best_voted_plan\": llm_chain_2}\n"
   ]
  },
  {
   "cell_type": "markdown",
   "id": "1f6a2065-b1ac-47b8-b0ec-9004d669007e",
   "metadata": {},
   "source": [
    "#### Unit testing\n",
    "\n",
    "Create a chain with chain#1 and chain#2, to check out how things are going.\n",
    "\n",
    "OPTIONAL step - just to check how things are going"
   ]
  },
  {
   "cell_type": "code",
   "execution_count": 10,
   "id": "3a8c28a5-1b63-48e1-bcaa-dde7cb5ccf22",
   "metadata": {},
   "outputs": [],
   "source": [
    "# Create a sequential chain with chain#1 and chain#2\n",
    "chain_1_chain_2 =  generate_plan_chain_1  | vote_on_plan_chain_2\n"
   ]
  },
  {
   "cell_type": "code",
   "execution_count": 11,
   "id": "3776a0d3-3328-496b-945e-b7ff8b83fb69",
   "metadata": {},
   "outputs": [
    {
     "data": {
      "application/json": {
       "best_voted_plan": "## Selected Plan: Plan 3: Combine Performance and Style\n\n**Step 1:**  Start with a sentence that combines performance and style:\n> **Unlock your inner athlete and turn heads with the powerful, stylish Javelin 20 High Performance Shoes.**\n\n**Step 2:**  Highlight the benefits of the shoes:\n>  The Javelin 20 combines cutting-edge technology with a sleek design, offering both performance and style.  Experience the ultimate blend of comfort, support, and aesthetic appeal.\n\n**Step 3:**  Emphasize the trendsetting aspect:\n>  Be a trendsetter and lead the way with the Javelin 20.\n\n**Step 4:**  Direct the reader to the website:\n>  Visit http://acme.com/jav20 to learn more about the Javelin 20 and take your performance and style to the next level.\n\n**Step 5:**  Conclude with a powerful tagline:\n> **A new you is just a step away with Javelin 20.** \n\n\n**Reason:**\n\nPlan 3 strikes the best balance between performance and style, appealing to a wider audience. It also incorporates the key elements requested in the task instructions, including the opening sentence with relevant keywords, the \"trendsetter\" phrase, and a compelling call to action.  The language is engaging and concise, effectively conveying the product's benefits within the word limit. \n",
       "proposed_plans": "## Plan 1: Focus on Performance\n\n**Step 1:**  Start with a captivating opening sentence: \n> **Find your motivation for every workout, sport, and life moment with the attractive Javelin 20 High Performance Shoes.**\n\n**Step 2:**  Highlight the key features and benefits:\n> The Javelin 20 is designed for peak performance, featuring advanced cushioning, stability, and breathability.  It's the perfect shoe for athletes of all levels, helping you push your limits and reach new heights.\n\n**Step 3:**  Add a compelling call to action:\n> Be a trendsetter and experience the future of performance footwear.  Visit our website at http://acme.com/jav20 to learn more and order your pair today!\n\n**Step 4:**  Conclude with a powerful tagline:\n> **A new you starts with Javelin 20.**\n\n\n## Plan 2: Emphasize Style and Confidence\n\n**Step 1:**  Start with a sentence that emphasizes style and confidence:\n> **Feel the confidence and power of a trendsetter with the stylish and high-performing Javelin 20 shoes.**\n\n**Step 2:**  Describe the design and aesthetic:\n>  The Javelin 20 features a sleek, modern design that complements any outfit, while its innovative technology provides unparalleled comfort and support.\n\n**Step 3:**  Appeal to the reader's desire to stand out:\n>  Be the envy of your friends and make a statement with the Javelin 20. \n\n**Step 4:**  Direct the reader to the website:\n>  Visit http://acme.com/jav20 to discover the Javelin 20 and unlock your full potential.\n\n**Step 5:**  Conclude with a powerful tagline:\n> **A new you begins with Javelin 20.**\n\n\n## Plan 3:  Combine Performance and Style\n\n**Step 1:**  Start with a sentence that combines performance and style:\n> **Unlock your inner athlete and turn heads with the powerful, stylish Javelin 20 High Performance Shoes.**\n\n**Step 2:**  Highlight the benefits of the shoes:\n>  The Javelin 20 combines cutting-edge technology with a sleek design, offering both performance and style.  Experience the ultimate blend of comfort, support, and aesthetic appeal.\n\n**Step 3:**  Emphasize the trendsetting aspect:\n>  Be a trendsetter and lead the way with the Javelin 20.\n\n**Step 4:**  Direct the reader to the website:\n>  Visit http://acme.com/jav20 to learn more about the Javelin 20 and take your performance and style to the next level.\n\n**Step 5:**  Conclude with a powerful tagline:\n> **A new you is just a step away with Javelin 20.** \n",
       "task_instructions": "\nWrite a passage of under 100 words to describe our new product:\nJavelin 20 High Performance Shoes.\n\nThe title must contain the sentence: A new you\n\nThe first sentence must contain a few of these words: motivation, workout, sports, attractive\n\nThe last few sentences must motivate the reader to visit out website http://acme.com/jav20\n\nThe passage must contain the phrase : trendsetter\n"
      },
      "text/plain": [
       "<IPython.core.display.JSON object>"
      ]
     },
     "execution_count": 11,
     "metadata": {
      "application/json": {
       "expanded": false,
       "root": "root"
      }
     },
     "output_type": "execute_result"
    }
   ],
   "source": [
    "response = chain_1_chain_2.invoke({\"task_instructions\":writeup_instructions})\n",
    "\n",
    "JSON(response) #['best_voted_plan'])"
   ]
  },
  {
   "cell_type": "markdown",
   "id": "2e247f11-05d0-4b98-863a-baf4d7a9f770",
   "metadata": {},
   "source": [
    "## 3. Create 3 passages with best_voted_plan"
   ]
  },
  {
   "cell_type": "code",
   "execution_count": 12,
   "id": "775f5b5b-18c1-4509-9652-dd0f948fc5f8",
   "metadata": {},
   "outputs": [],
   "source": [
    "template_3 = \"\"\"\n",
    "Create three passages using the following task instructions and the plan.\n",
    "\n",
    "Task Instructions:\n",
    "{task_instructions}\n",
    "\n",
    "Plan:\n",
    "{best_voted_plan}\n",
    "\n",
    "Your output will be in following format.\n",
    "\n",
    "{ouput_passage_indicator}\n",
    "Put the passage here.\n",
    "\n",
    "\"\"\"\n",
    "\n",
    "prompt_template_3 = PromptTemplate(\n",
    "    template = template_3,\n",
    "    input_variables = [\"best_voted_plan\"],\n",
    "    partial_variables = {\"ouput_passage_indicator\" : ouput_passage_indicator, \"task_instructions\": writeup_instructions},\n",
    ")\n",
    "\n",
    "# print(prompt_template_3.format(best_voted_plan=\"DUMMY PLAN\"))"
   ]
  },
  {
   "cell_type": "code",
   "execution_count": 13,
   "id": "2f1c8136-0113-4bf2-8c06-9301f863748f",
   "metadata": {},
   "outputs": [],
   "source": [
    "# Setup a sequential chain with prompt & LLM\n",
    "chain_3_sequence = prompt_template_3 |  llm_chain_3\n",
    "\n",
    "# We will use the RunnableParallel so we can pass on the task_instructions & proposed plans as is to the output\n",
    "create_3_passages_chain_3 = RunnableParallel(\n",
    "    task_instructions=itemgetter('task_instructions'), \n",
    "    proposed_plans = itemgetter('proposed_plans'),\n",
    "    best_voted_plan = itemgetter('best_voted_plan'),\n",
    "    passages = chain_3_sequence\n",
    ")"
   ]
  },
  {
   "cell_type": "markdown",
   "id": "0b6b139d-2f5b-499c-9628-4dd8a0773917",
   "metadata": {},
   "source": [
    "#### Unit testing\n",
    "Check with a sequence of chain#1, chain#2, chain#3\n"
   ]
  },
  {
   "cell_type": "code",
   "execution_count": 14,
   "id": "7c778dc3-f76f-413c-8a0c-c989c6a6472c",
   "metadata": {},
   "outputs": [],
   "source": [
    "# Create a sequential chain with chain#1 and chain#2\n",
    "chain_1_chain_2_chain_3 =  generate_plan_chain_1  | vote_on_plan_chain_2 | create_3_passages_chain_3"
   ]
  },
  {
   "cell_type": "code",
   "execution_count": 15,
   "id": "3f3f77a0-b216-46ce-925c-8874221d1b11",
   "metadata": {},
   "outputs": [
    {
     "data": {
      "application/json": {
       "best_voted_plan": "Selected Plan: **Plan 3: Combine Performance & Style**\n\n**Step 1:**  Start with a powerful sentence using the specified words: \"Ignite your workout routine and step onto the field with confidence in the Javelin 20, our most attractive high-performance shoe.\" \n\n**Step 2:**  Combine performance and style aspects: \"The Javelin 20 seamlessly blends cutting-edge technology with a sleek, modern design, offering both unparalleled performance and a trendsetting aesthetic.\"\n\n**Step 3:**  Conclude with a call to action and website address: \"Don't settle for ordinary. Be a trendsetter and experience the game-changing performance and style of the Javelin 20. Visit http://acme.com/jav20 to learn more and join the revolution.\" \n\n**Reasoning:**\n\nPlan 3 is the best because it strikes a balance between performance and style, appealing to a wider audience. It uses strong language, effectively incorporates the required elements, and creates a compelling call to action. \n\n* **Plan 1** focuses too heavily on performance, potentially alienating those who prioritize style.\n* **Plan 2** emphasizes style too much, neglecting the performance aspect that could be a key selling point for many potential customers.\n\nPlan 3 successfully captures both aspects, making it the most effective option for describing the Javelin 20. \n",
       "passages": "## Passage 1:\n\n**A New You: The Javelin 20**\n\nIgnite your workout routine and step onto the field with confidence in the Javelin 20, our most attractive high-performance shoe. The Javelin 20 seamlessly blends cutting-edge technology with a sleek, modern design, offering both unparalleled performance and a trendsetting aesthetic. Don't settle for ordinary. Be a trendsetter and experience the game-changing performance and style of the Javelin 20. Visit http://acme.com/jav20 to learn more and join the revolution. \n\n\n## Passage 2:\n\n**A New You: The Javelin 20**\n\nFeel the motivation to push your limits in the Javelin 20, a shoe designed for athletes seeking both performance and style.  The Javelin 20 is the perfect blend of cutting-edge technology and a sleek, modern design, allowing you to perform at your peak while looking your best.  Be a trendsetter and experience the Javelin 20. Visit http://acme.com/jav20 to learn more and join the revolution. \n\n\n## Passage 3:\n\n**A New You: The Javelin 20**\n\nElevate your sports performance and make a statement with the Javelin 20, our most attractive high-performance shoe. The Javelin 20 combines the latest technology with a sleek, modern design, making it a trendsetter in the world of sports footwear.  Experience the game-changing performance and style of the Javelin 20. Visit http://acme.com/jav20 to learn more and join the revolution. \n",
       "proposed_plans": "## Plan 1: Focus on Performance\n\n**Step 1:**  Start with a captivating sentence using the specified words: \"Find the motivation you need to crush your workouts and dominate your sports in the Javelin 20, our most attractive high-performance shoe yet.\" \n\n**Step 2:**  Highlight the performance features of the Javelin 20.  \"Engineered with cutting-edge technology, the Javelin 20 offers superior comfort, support, and durability for athletes of all levels.\"\n\n**Step 3:**  Conclude with a call to action and website address: \"Be a trendsetter and experience the Javelin 20 difference. Visit http://acme.com/jav20 to learn more and secure your pair today.\"\n\n## Plan 2: Emphasize Style\n\n**Step 1:** Start with an attention-grabbing sentence incorporating the specified words: \"Elevate your sports style and find the motivation to reach new heights with the Javelin 20, our most attractive high-performance shoe.\"\n\n**Step 2:** Focus on the stylish design and appeal of the Javelin 20. \"The Javelin 20 boasts a sleek, modern design that turns heads on and off the field, making you a trendsetter wherever you go.\"\n\n**Step 3:** Conclude with a call to action and website address: \"Ready to redefine your athletic look and performance? Visit http://acme.com/jav20 to discover the Javelin 20 and unlock your potential.\"\n\n## Plan 3:  Combine Performance & Style\n\n**Step 1:**  Start with a powerful sentence using the specified words: \"Ignite your workout routine and step onto the field with confidence in the Javelin 20, our most attractive high-performance shoe.\" \n\n**Step 2:**  Combine performance and style aspects: \"The Javelin 20 seamlessly blends cutting-edge technology with a sleek, modern design, offering both unparalleled performance and a trendsetting aesthetic.\"\n\n**Step 3:**  Conclude with a call to action and website address: \"Don't settle for ordinary. Be a trendsetter and experience the game-changing performance and style of the Javelin 20. Visit http://acme.com/jav20 to learn more and join the revolution.\" \n",
       "task_instructions": "\nWrite a passage of under 100 words to describe our new product:\nJavelin 20 High Performance Shoes.\n\nThe title must contain the sentence: A new you\n\nThe first sentence must contain a few of these words: motivation, workout, sports, attractive\n\nThe last few sentences must motivate the reader to visit out website http://acme.com/jav20\n\nThe passage must contain the phrase : trendsetter\n"
      },
      "text/plain": [
       "<IPython.core.display.JSON object>"
      ]
     },
     "execution_count": 15,
     "metadata": {
      "application/json": {
       "expanded": false,
       "root": "root"
      }
     },
     "output_type": "execute_result"
    }
   ],
   "source": [
    "response = chain_1_chain_2_chain_3.invoke({\"task_instructions\":writeup_instructions})\n",
    "\n",
    "JSON(response) "
   ]
  },
  {
   "cell_type": "markdown",
   "id": "6e11078a-6b7c-40e4-92d7-db22388c8513",
   "metadata": {},
   "source": [
    "## 4. Vote the best passage"
   ]
  },
  {
   "cell_type": "code",
   "execution_count": 16,
   "id": "521ec3b1-8c0d-41b1-b3e2-142a38c4c664",
   "metadata": {},
   "outputs": [],
   "source": [
    "\n",
    "output_best_passage_indicator = \"Selected Passage:\"\n",
    "\n",
    "template_4 = \"\"\"\n",
    "Three experts were given the following task.\n",
    "\n",
    "Task:\n",
    "{task_instructions}\n",
    "\n",
    "You need to review the 3 passages and identify ONE best passage out of the three. \n",
    "\n",
    "Proposed Passages:\n",
    "{passages}\n",
    "\n",
    "Your output will be in following format.\n",
    "\n",
    "{output_best_passage_indicator}\n",
    "Put the passage here.\n",
    "\n",
    "\"\"\"\n",
    "\n",
    "prompt_template_4 = PromptTemplate(\n",
    "    template = template_4,\n",
    "    input_variables = [\"passages\"],\n",
    "    partial_variables = {\"task_instructions\": writeup_instructions, \"output_best_passage_indicator\" : output_best_passage_indicator, },\n",
    ")\n",
    "\n",
    "# print(prompt_template_4.format(passages = \"DUMMY PASSAGES\"))"
   ]
  },
  {
   "cell_type": "code",
   "execution_count": 17,
   "id": "20483235-d4ac-4fe3-8c6e-f4d4ef52d1db",
   "metadata": {},
   "outputs": [],
   "source": [
    "# Setup a sequential chain with prompt & LLM\n",
    "chain_4_sequence = prompt_template_4 |  llm_chain_4\n",
    "\n",
    "# We will use the RunnableParallel so we can pass on the task_instructions & proposed plans as is to the output\n",
    "create_creative_passage_chain_4 = RunnableParallel(\n",
    "    task_instructions=itemgetter('task_instructions'), \n",
    "    proposed_plans = itemgetter('proposed_plans'),\n",
    "    best_voted_plan = itemgetter('best_voted_plan'),\n",
    "    passages = itemgetter('passages'),\n",
    "    creative_passage = chain_4_sequence\n",
    ")"
   ]
  },
  {
   "cell_type": "code",
   "execution_count": 18,
   "id": "2ca616ab-9bfd-4eec-ae74-e78b18fe3282",
   "metadata": {},
   "outputs": [],
   "source": [
    "## 5. Create a sequence from all chains\n",
    "\n",
    "creative_writing_chain = generate_plan_chain_1 | vote_on_plan_chain_2 | create_3_passages_chain_3 | create_creative_passage_chain_4"
   ]
  },
  {
   "cell_type": "markdown",
   "id": "bb387c81-161c-48c9-b45a-207e51b4107f",
   "metadata": {},
   "source": [
    "## 5. End-to-end testing\n",
    "Check with a sequence of chain#1, chain#2, chain#3"
   ]
  },
  {
   "cell_type": "code",
   "execution_count": 19,
   "id": "8f236849-f2f9-4600-a154-5ccb41c83555",
   "metadata": {},
   "outputs": [
    {
     "data": {
      "application/json": {
       "best_voted_plan": "Selected Plan: **Plan 2: Focus on Confidence and Empowerment**\n\n**Step 1:**  Start with a sentence that combines sports and attractive: \"Step into the world of sports with the **Javelin 20 High Performance Shoes**, a bold and attractive choice for the confident athlete.\"\n\n**Step 2:**  Describe how the shoes empower the wearer: \"Feel the power of the Javelin 20 as you conquer your goals.  These shoes are designed to provide superior support and stability, giving you the confidence to push your limits.\"\n\n**Step 3:**  Highlight the trendsetting aspect: \"With its cutting-edge design and advanced features, the Javelin 20 is more than just a shoe; it's a statement.  Be a trendsetter and make your mark.\"\n\n**Step 4:**  Conclude with a call to action: \"Visit our website at http://acme.com/jav20 to discover the Javelin 20 and unlock your full potential.\"\n\n**Reasoning:**\n\nPlan 2 strikes a balance between highlighting the performance aspects of the shoes while focusing on the emotional benefit of wearing them. It speaks to the athlete's desire for confidence and empowerment, making it a more compelling and persuasive message. \n\nHere's why the other plans are less effective:\n\n* **Plan 1:** While it mentions performance, it lacks the emotional connection that Plan 2 establishes. The focus on \"style\" might not resonate as strongly with athletes who prioritize functionality.\n* **Plan 3:** The emphasis on \"comfort\" might not be as appealing to athletes who are looking for high-performance shoes. The focus on \"fashion statement\" might also feel out of place for a product that is primarily designed for athletic use. \n",
       "creative_passage": "Selected Passage:\n\n**A New You:  Ready to elevate your workout?** The Javelin 20 High Performance Shoes are designed to help you achieve your goals. These shoes offer superior comfort and support, allowing you to focus on your performance.  With its sleek and stylish design, the Javelin 20 is a statement piece that will make you stand out.  Become a trendsetter and inspire others. Visit our website at http://acme.com/jav20 to explore the Javelin 20 and unlock your athletic potential. \n\n**Reason:**\n\nPassage 2 is the best choice because it effectively incorporates the required elements while remaining concise and engaging. \n\n* **Title:** \"A New You\" is a strong and motivational title.\n* **First Sentence:** It uses the word \"workout\" and effectively sets the tone for the passage.\n* **Last Sentences:** It motivates the reader to visit the website and emphasizes the \"trendsetter\" aspect.\n* **Word Count:** It stays well under the 100-word limit.\n\nCompared to the other passages, Passage 2 is more focused and to the point. Passage 1 is a bit wordy and less compelling, while Passage 3 lacks a strong call to action. \n",
       "passages": "## Passage 1:\n\n**A New You: Step into the world of sports with the Javelin 20 High Performance Shoes, a bold and attractive choice for the confident athlete.** Feel the power of the Javelin 20 as you conquer your goals.  These shoes are designed to provide superior support and stability, giving you the confidence to push your limits. With its cutting-edge design and advanced features, the Javelin 20 is more than just a shoe; it's a statement.  Be a trendsetter and make your mark. Visit our website at http://acme.com/jav20 to discover the Javelin 20 and unlock your full potential. \n\n## Passage 2:\n\n**A New You:  Ready to elevate your workout?** The Javelin 20 High Performance Shoes are designed to help you achieve your goals. These shoes offer superior comfort and support, allowing you to focus on your performance.  With its sleek and stylish design, the Javelin 20 is a statement piece that will make you stand out.  Become a trendsetter and inspire others. Visit our website at http://acme.com/jav20 to explore the Javelin 20 and unlock your athletic potential.\n\n## Passage 3:\n\n**A New You:  Experience the ultimate in athletic performance with the Javelin 20 High Performance Shoes.**  These shoes provide the perfect blend of comfort, support, and style, making them the ideal choice for any athlete.  The Javelin 20 is designed to help you reach your peak performance, while its stylish design makes you a trendsetter.  Visit our website at http://acme.com/jav20 to discover the Javelin 20 and take your athletic journey to the next level. \n",
       "proposed_plans": "## Plan 1:  Focus on Performance and Style\n\n**Step 1:** Start with a sentence that combines motivation, workout, and attractive:  \"Get motivated for your next workout with the **Javelin 20 High Performance Shoes**, a stylish and powerful choice for any athlete.\"\n\n**Step 2:**  Describe the key features of the shoes, highlighting their performance aspects: \"Engineered for speed and comfort, the Javelin 20 features innovative technology that enhances your performance, allowing you to push your limits further.\"\n\n**Step 3:**  Emphasize the trendsetting aspect:  \"Be a trendsetter with the sleek design and vibrant color options of the Javelin 20.  Make a statement on and off the field.\"\n\n**Step 4:**  Conclude with a call to action: \"Visit our website at http://acme.com/jav20 to learn more and experience the Javelin 20 difference.\"\n\n## Plan 2:  Focus on Confidence and Empowerment\n\n**Step 1:**  Start with a sentence that combines sports and attractive: \"Step into the world of sports with the **Javelin 20 High Performance Shoes**, a bold and attractive choice for the confident athlete.\"\n\n**Step 2:**  Describe how the shoes empower the wearer: \"Feel the power of the Javelin 20 as you conquer your goals.  These shoes are designed to provide superior support and stability, giving you the confidence to push your limits.\"\n\n**Step 3:**  Highlight the trendsetting aspect: \"With its cutting-edge design and advanced features, the Javelin 20 is more than just a shoe; it's a statement.  Be a trendsetter and make your mark.\"\n\n**Step 4:**  Conclude with a call to action: \"Visit our website at http://acme.com/jav20 to discover the Javelin 20 and unlock your full potential.\"\n\n## Plan 3:  Focus on Comfort and Style\n\n**Step 1:**  Start with a sentence that combines motivation and workout: \"Feel motivated for every workout with the **Javelin 20 High Performance Shoes**, designed for both performance and comfort.\"\n\n**Step 2:**  Describe the comfort features of the shoes: \"Experience unparalleled comfort with the Javelin 20's breathable materials and ergonomic design, providing a perfect fit for all-day wear.\"\n\n**Step 3:**  Emphasize the trendsetting aspect:  \"The Javelin 20 is more than just a performance shoe; it's a fashion statement.  With its sleek design and vibrant color options, you'll be turning heads wherever you go.\"\n\n**Step 4:**  Conclude with a call to action: \"Visit our website at http://acme.com/jav20 to explore the Javelin 20 and discover a new level of comfort and style.\" \n",
       "task_instructions": "\nWrite a passage of under 100 words to describe our new product:\nJavelin 20 High Performance Shoes.\n\nThe title must contain the sentence: A new you\n\nThe first sentence must contain a few of these words: motivation, workout, sports, attractive\n\nThe last few sentences must motivate the reader to visit out website http://acme.com/jav20\n\nThe passage must contain the phrase : trendsetter\n"
      },
      "text/plain": [
       "<IPython.core.display.JSON object>"
      ]
     },
     "execution_count": 19,
     "metadata": {
      "application/json": {
       "expanded": false,
       "root": "root"
      }
     },
     "output_type": "execute_result"
    }
   ],
   "source": [
    "response = creative_writing_chain.invoke({\"task_instructions\":writeup_instructions})\n",
    "JSON(response)"
   ]
  },
  {
   "cell_type": "markdown",
   "id": "9a7cdbab-fc64-4dd3-af9d-67a18fbeb48f",
   "metadata": {},
   "source": [
    "## 6. Create the graph"
   ]
  },
  {
   "cell_type": "code",
   "execution_count": null,
   "id": "b88ff8d6-1fa1-4e74-ac5a-30f7650fb0c5",
   "metadata": {},
   "outputs": [],
   "source": [
    "# !pip install grandalf"
   ]
  },
  {
   "cell_type": "code",
   "execution_count": 21,
   "id": "95378c5a-0777-42e4-9d62-b0b0fe8b08c0",
   "metadata": {
    "scrolled": true
   },
   "outputs": [
    {
     "name": "stdout",
     "output_type": "stream",
     "text": [
      "                                          +-------------------------------------------------+                                    \n",
      "                                          | Parallel<task_instructions,proposed_plans>Input |                                    \n",
      "                                          +-------------------------------------------------+                                    \n",
      "                                                           ***           ***                                                     \n",
      "                                                         **                 **                                                   \n",
      "                                                       **                     **                                                 \n",
      "                                            +----------------+                  **                                               \n",
      "                                            | PromptTemplate |                   *                                               \n",
      "                                            +----------------+                   *                                               \n",
      "                                                     *                           *                                               \n",
      "                                                     *                           *                                               \n",
      "                                                     *                           *                                               \n",
      "                                          +--------------------+            +--------+                                           \n",
      "                                          | GoogleGenerativeAI |            | Lambda |                                           \n",
      "                                          +--------------------+            +--------+                                           \n",
      "                                                           ***           ***                                                     \n",
      "                                                              **       **                                                        \n",
      "                                                                **   **                                                          \n",
      "                                         +--------------------------------------------------+                                    \n",
      "                                         | Parallel<task_instructions,proposed_plans>Output |                                    \n",
      "                                         +--------------------------------------------------+                                    \n",
      "                                                                   *                                                             \n",
      "                                                                   *                                                             \n",
      "                                                                   *                                                             \n",
      "                                  +-----------------------------------------------------------------+                            \n",
      "                                  | Parallel<task_instructions,proposed_plans,best_voted_plan>Input |                            \n",
      "                                  +-----------------------------------------------------------------+                            \n",
      "                                                   *****           *           *****                                             \n",
      "                                               ****                *                *****                                        \n",
      "                                            ***                    *                     ****                                    \n",
      "                              +----------------+                   *                         ***                                 \n",
      "                              | PromptTemplate |                   *                           *                                 \n",
      "                              +----------------+                   *                           *                                 \n",
      "                                       *                           *                           *                                 \n",
      "                                       *                           *                           *                                 \n",
      "                                       *                           *                           *                                 \n",
      "                            +--------------------+            +--------+                  +--------+                             \n",
      "                            | GoogleGenerativeAI |            | Lambda |                **| Lambda |                             \n",
      "                            +--------------------+*           +--------+            ****  +--------+                             \n",
      "                                                   *****           *           *****                                             \n",
      "                                                        ****       *       ****                                                  \n",
      "                                                            ***    *    ***                                                      \n",
      "                                 +------------------------------------------------------------------+                            \n",
      "                                 | Parallel<task_instructions,proposed_plans,best_voted_plan>Output |                            \n",
      "                                 +------------------------------------------------------------------+                            \n",
      "                                                                   *                                                             \n",
      "                                                                   *                                                             \n",
      "                                                                   *                                                             \n",
      "                             +--------------------------------------------------------------------------+                        \n",
      "                             | Parallel<task_instructions,proposed_plans,best_voted_plan,passages>Input |                        \n",
      "                             +--------------------------------------------------------------------------+                        \n",
      "                                           *******          **           ***         *******                                     \n",
      "                                    *******              ***                **              *******                              \n",
      "                                ****                   **                     **                   *******                       \n",
      "                +----------------+                   **                         **                        ****                   \n",
      "                | PromptTemplate |                   *                           *                           *                   \n",
      "                +----------------+                   *                           *                           *                   \n",
      "                         *                           *                           *                           *                   \n",
      "                         *                           *                           *                           *                   \n",
      "                         *                           *                           *                           *                   \n",
      "              +--------------------+            +--------+                  +--------+                  +--------+               \n",
      "              | GoogleGenerativeAI |            | Lambda |                  | Lambda |               ***| Lambda |               \n",
      "              +--------------------+*******     +--------+*                 +--------+       ********   +--------+               \n",
      "                                           *******         ***           ***          *******                                    \n",
      "                                                  *******     **       **     ********                                           \n",
      "                                                         ****   **   **   ****                                                   \n",
      "                            +---------------------------------------------------------------------------+                        \n",
      "                            | Parallel<task_instructions,proposed_plans,best_voted_plan,passages>Output |                        \n",
      "                            +---------------------------------------------------------------------------+                        \n",
      "                                                                   *                                                             \n",
      "                                                                   *                                                             \n",
      "                                                                   *                                                             \n",
      "                    +-------------------------------------------------------------------------------------------+                \n",
      "                    | Parallel<task_instructions,proposed_plans,best_voted_plan,passages,creative_passage>Input |                \n",
      "                    +-------------------------------------------------------------------------------------------+                \n",
      "                                   *********       *****           *           *****       *********                             \n",
      "                         **********           *****                *                *****           *********                    \n",
      "                    *****                 ****                     *                     ****                **********          \n",
      "  +----------------+                   ***                         *                         ***                       *****     \n",
      "  | PromptTemplate |                   *                           *                           *                           *     \n",
      "  +----------------+                   *                           *                           *                           *     \n",
      "           *                           *                           *                           *                           *     \n",
      "           *                           *                           *                           *                           *     \n",
      "           *                           *                           *                           *                           *     \n",
      "+--------------------+            +--------+                  +--------+                  +--------+                  +--------+ \n",
      "| GoogleGenerativeAI |***         | Lambda |***               | Lambda |                **| Lambda |             *****| Lambda | \n",
      "+--------------------+   *********+--------+   ****           +--------+            ****  +--------+   **********     +--------+ \n",
      "                                   *********       *****           *           *****        ***********                          \n",
      "                                            **********  ****       *       ****   **********                                     \n",
      "                                                      ***** ***    *    *** ******                                               \n",
      "                    +--------------------------------------------------------------------------------------------+               \n",
      "                    | Parallel<task_instructions,proposed_plans,best_voted_plan,passages,creative_passage>Output |               \n",
      "                    +--------------------------------------------------------------------------------------------+               \n"
     ]
    }
   ],
   "source": [
    "## Checkout the final layout\n",
    "\n",
    "# creative_writing_chain.get_graph().print_ascii()"
   ]
  },
  {
   "cell_type": "code",
   "execution_count": null,
   "id": "25f6cc06-7441-4d51-94cf-c2da22c4adcd",
   "metadata": {},
   "outputs": [],
   "source": []
  }
 ],
 "metadata": {
  "kernelspec": {
   "display_name": "Python 3 (ipykernel)",
   "language": "python",
   "name": "python3"
  },
  "language_info": {
   "codemirror_mode": {
    "name": "ipython",
    "version": 3
   },
   "file_extension": ".py",
   "mimetype": "text/x-python",
   "name": "python",
   "nbconvert_exporter": "python",
   "pygments_lexer": "ipython3",
   "version": "3.12.4"
  }
 },
 "nbformat": 4,
 "nbformat_minor": 5
}
