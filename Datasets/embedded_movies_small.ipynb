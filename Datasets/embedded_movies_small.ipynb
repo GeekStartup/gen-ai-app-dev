{
 "cells": [
  {
   "cell_type": "markdown",
   "id": "7da128b3-9d38-46d5-92bf-740111b9b036",
   "metadata": {},
   "source": [
    "# Dataset: embedded_movies_small\n",
    "\n",
    "https://huggingface.co/datasets/acloudfan/embedded_movies_small\n",
    "\n",
    "This dataset was created from the HuggingFace dataset **AIatMongoDB/embedded_movies**\n",
    "\n",
    "**Why was it needed?**\n",
    "\n",
    "1. The original dataset is close to 25 GB, for learning and experiments it is an overkill\n",
    "2. Data in the dataset needs to be cleaned up e.g., some features are No that requires extra care\n",
    "3. Some of the embeddings are missing\n",
    "\n",
    "**How to use?**\n",
    "* Use for sentiment analysis\n",
    "* Text similarity (plot)\n",
    "* Embeddings : ready to use with vector DB & search libraries\n",
    "\n",
    "**Details**\n",
    "\n",
    "* Embeddings generated on the full_plot column\n",
    "* This data set contains details on movies with genres of Western, Action, or Fantasy\n",
    "* Each document contains a single movie, and information such as its title, release year, and cast.\r",
    "* \r\n",
    "In addition, documents in this collection include a plot_embedding field that contains embeddings created using OpenAI's text-embedding-ada-00e."
   ]
  },
  {
   "cell_type": "markdown",
   "id": "c51973c4-952e-438f-8447-357cd4ba8ba7",
   "metadata": {},
   "source": [
    "## Setup environment\n",
    "\n",
    "*Change keys file location, if you would like to create your own version*\n",
    "*Do not forget to change the HuggingFace dataset name, in last step*"
   ]
  },
  {
   "cell_type": "code",
   "execution_count": 1,
   "id": "d947bc34-8cf6-456a-8484-df441298722c",
   "metadata": {},
   "outputs": [
    {
     "data": {
      "text/plain": [
       "True"
      ]
     },
     "execution_count": 1,
     "metadata": {},
     "output_type": "execute_result"
    }
   ],
   "source": [
    "from dotenv import load_dotenv\n",
    "import os\n",
    "\n",
    "import warnings\n",
    "\n",
    "warnings.filterwarnings(\"ignore\")\n",
    "\n",
    "# Load the file that contains the API keys\n",
    "# CHANGE THIS TO YOUR ENV FILE LOCATION\n",
    "load_dotenv('C:\\\\Users\\\\raj\\\\.jupyter\\\\.env')"
   ]
  },
  {
   "cell_type": "markdown",
   "id": "bed2d60e-faf0-43a1-96cb-3c68b07848c2",
   "metadata": {},
   "source": [
    "## 1. Load, Split, and Cleanup dataset"
   ]
  },
  {
   "cell_type": "code",
   "execution_count": 2,
   "id": "eeddea02-5318-4295-977d-015ac98584e2",
   "metadata": {},
   "outputs": [
    {
     "data": {
      "text/plain": [
       "DatasetDict({\n",
       "    train: Dataset({\n",
       "        features: ['rated', 'writers', 'runtime', 'num_mflix_comments', 'title', 'cast', 'plot', 'directors', 'type', 'fullplot', 'languages', 'awards', 'imdb', 'plot_embedding', 'metacritic', 'countries', 'genres', 'poster'],\n",
       "        num_rows: 1050\n",
       "    })\n",
       "    test: Dataset({\n",
       "        features: ['rated', 'writers', 'runtime', 'num_mflix_comments', 'title', 'cast', 'plot', 'directors', 'type', 'fullplot', 'languages', 'awards', 'imdb', 'plot_embedding', 'metacritic', 'countries', 'genres', 'poster'],\n",
       "        num_rows: 450\n",
       "    })\n",
       "})"
      ]
     },
     "execution_count": 2,
     "metadata": {},
     "output_type": "execute_result"
    }
   ],
   "source": [
    "from datasets import load_dataset, Dataset, DatasetDict\n",
    "import pandas as pd\n",
    "import numpy as np\n",
    "\n",
    "\n",
    "\n",
    "movie_db = f\"AIatMongoDB/embedded_movies\"\n",
    "\n",
    "# Downloads the dataset to local cache\n",
    "docs = load_dataset(movie_db, split=\"train\")  \n",
    "\n",
    "# Split dataset\n",
    "ds_split = docs.train_test_split(test_size=0.3)\n",
    "ds_split"
   ]
  },
  {
   "cell_type": "code",
   "execution_count": 3,
   "id": "5037d6d9-74d7-452b-8e2b-fc66f9bcce80",
   "metadata": {},
   "outputs": [],
   "source": [
    "def  convert_to_df_cleanup_dataset(ds):\n",
    "    df = pd.DataFrame(ds)\n",
    "    df = df.dropna(subset=['plot_embedding', 'fullplot','genres'])\n",
    "    return df"
   ]
  },
  {
   "cell_type": "markdown",
   "id": "8aad4956-ff59-4718-9b2c-794890e23933",
   "metadata": {},
   "source": [
    "## 2. Create the dataset"
   ]
  },
  {
   "cell_type": "code",
   "execution_count": 4,
   "id": "f8e31292-6b36-4cd8-9397-a1d254eb1d91",
   "metadata": {},
   "outputs": [
    {
     "data": {
      "text/plain": [
       "DatasetDict({\n",
       "    train: Dataset({\n",
       "        features: ['rated', 'writers', 'runtime', 'num_mflix_comments', 'title', 'cast', 'plot', 'directors', 'type', 'fullplot', 'languages', 'awards', 'imdb', 'plot_embedding', 'metacritic', 'countries', 'genres', 'poster', '__index_level_0__'],\n",
       "        num_rows: 1017\n",
       "    })\n",
       "    test: Dataset({\n",
       "        features: ['rated', 'writers', 'runtime', 'num_mflix_comments', 'title', 'cast', 'plot', 'directors', 'type', 'fullplot', 'languages', 'awards', 'imdb', 'plot_embedding', 'metacritic', 'countries', 'genres', 'poster', '__index_level_0__'],\n",
       "        num_rows: 434\n",
       "    })\n",
       "})"
      ]
     },
     "execution_count": 4,
     "metadata": {},
     "output_type": "execute_result"
    }
   ],
   "source": [
    "dataset_train_split = Dataset.from_pandas(convert_to_df_cleanup_dataset(ds_split['train']), split='train')\n",
    "dataset_test_split = Dataset.from_pandas(convert_to_df_cleanup_dataset(ds_split['test']), split='test')\n",
    "\n",
    "ds = DatasetDict()\n",
    "ds['train'] = dataset_train_split\n",
    "ds['test'] = dataset_test_split\n",
    "\n",
    "ds"
   ]
  },
  {
   "cell_type": "markdown",
   "id": "d8f471c0-d9e0-4855-9087-a090bdc0012d",
   "metadata": {},
   "source": [
    "## 3. Load to hub\n",
    "\n",
    "*Change the name, if you would like to create your own version of the dataset*"
   ]
  },
  {
   "cell_type": "code",
   "execution_count": 5,
   "id": "7da7fb9d-da19-4e3a-ab1c-d83189547b68",
   "metadata": {},
   "outputs": [],
   "source": [
    "ds_name='acloudfan/embedded_movies_small'"
   ]
  },
  {
   "cell_type": "code",
   "execution_count": 6,
   "id": "9391b61e-3093-4ea1-a4e5-57babdd33e54",
   "metadata": {},
   "outputs": [
    {
     "data": {
      "application/vnd.jupyter.widget-view+json": {
       "model_id": "c573cfec90d74c7f9231984d45db97d6",
       "version_major": 2,
       "version_minor": 0
      },
      "text/plain": [
       "Uploading the dataset shards:   0%|          | 0/1 [00:00<?, ?it/s]"
      ]
     },
     "metadata": {},
     "output_type": "display_data"
    },
    {
     "data": {
      "application/vnd.jupyter.widget-view+json": {
       "model_id": "1c0ad54ef88d4a1abf4af05b1324d593",
       "version_major": 2,
       "version_minor": 0
      },
      "text/plain": [
       "Creating parquet from Arrow format:   0%|          | 0/2 [00:00<?, ?ba/s]"
      ]
     },
     "metadata": {},
     "output_type": "display_data"
    },
    {
     "data": {
      "application/vnd.jupyter.widget-view+json": {
       "model_id": "2166ee630858428188fb7e0d8095dec8",
       "version_major": 2,
       "version_minor": 0
      },
      "text/plain": [
       "Uploading the dataset shards:   0%|          | 0/1 [00:00<?, ?it/s]"
      ]
     },
     "metadata": {},
     "output_type": "display_data"
    },
    {
     "data": {
      "application/vnd.jupyter.widget-view+json": {
       "model_id": "a74b36a6fd68480c858bc826f02bc106",
       "version_major": 2,
       "version_minor": 0
      },
      "text/plain": [
       "Creating parquet from Arrow format:   0%|          | 0/1 [00:00<?, ?ba/s]"
      ]
     },
     "metadata": {},
     "output_type": "display_data"
    },
    {
     "data": {
      "application/vnd.jupyter.widget-view+json": {
       "model_id": "b4db9413e90046c38574dcf47a44f8a0",
       "version_major": 2,
       "version_minor": 0
      },
      "text/plain": [
       "README.md:   0%|          | 0.00/3.58k [00:00<?, ?B/s]"
      ]
     },
     "metadata": {},
     "output_type": "display_data"
    },
    {
     "data": {
      "text/plain": [
       "CommitInfo(commit_url='https://huggingface.co/datasets/acloudfan/embedded_movies_small/commit/a691b5f445035dc719d27c6fbe93b67b127447d1', commit_message='Upload dataset', commit_description='', oid='a691b5f445035dc719d27c6fbe93b67b127447d1', pr_url=None, pr_revision=None, pr_num=None)"
      ]
     },
     "execution_count": 6,
     "metadata": {},
     "output_type": "execute_result"
    }
   ],
   "source": [
    "ds.push_to_hub(ds_name)"
   ]
  },
  {
   "cell_type": "code",
   "execution_count": null,
   "id": "4a442261-724e-408d-9c5f-6c72f14f632c",
   "metadata": {},
   "outputs": [],
   "source": []
  }
 ],
 "metadata": {
  "kernelspec": {
   "display_name": "Python 3 (ipykernel)",
   "language": "python",
   "name": "python3"
  },
  "language_info": {
   "codemirror_mode": {
    "name": "ipython",
    "version": 3
   },
   "file_extension": ".py",
   "mimetype": "text/x-python",
   "name": "python",
   "nbconvert_exporter": "python",
   "pygments_lexer": "ipython3",
   "version": "3.11.7"
  }
 },
 "nbformat": 4,
 "nbformat_minor": 5
}
