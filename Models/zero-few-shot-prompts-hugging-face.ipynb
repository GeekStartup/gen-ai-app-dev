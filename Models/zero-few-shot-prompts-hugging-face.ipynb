{
 "cells": [
  {
   "cell_type": "markdown",
   "id": "a3de0296",
   "metadata": {},
   "source": [
    "# Zero & Few Shot Prompts : Hugging Face\n",
    "\n",
    "Demonstrates the zero/few shot prompting technique using the Cohere commands models\n",
    "\n",
    "**Note**\n",
    "* Results will vary depending on the model\n",
    "* To use this notebook you must have the Cohere API key."
   ]
  },
  {
   "cell_type": "markdown",
   "id": "9df18b6a-6e56-4c8d-8f20-4ee2f7faddfb",
   "metadata": {},
   "source": [
    "#### Google Colab\n",
    "If you are running the code in Google colab, install the packages by uncommenting/running the cell below\n",
    "\n",
    "* The API key file file will not be available\n",
    "* You will be prompted to provide the HF API Token\n",
    "\n",
    "Uncomment & run the code in the cell below:"
   ]
  },
  {
   "cell_type": "code",
   "execution_count": 1,
   "id": "f0173dfe-bbec-44c3-ac52-d01e8320c910",
   "metadata": {},
   "outputs": [],
   "source": [
    "## The script is downloaded and run to setup the utils folder\n",
    "\n",
    "# !curl -H \"Accept: application/vnd.github.VERSION.raw\" https://raw.githubusercontent.com/acloudfan/gen-ai-app-dev/main/Setup/gcsetup.sh  > gcsetup.sh\n",
    "# !chmod u+x gcsetup.sh\n",
    "# !./gcsetup.sh \n"
   ]
  },
  {
   "cell_type": "markdown",
   "id": "25a20058-4b82-4247-826b-e3756347240f",
   "metadata": {},
   "source": [
    "## Change the location of the environment file before proceeding"
   ]
  },
  {
   "cell_type": "code",
   "execution_count": 2,
   "id": "933d71c8",
   "metadata": {},
   "outputs": [
    {
     "data": {
      "text/plain": [
       "True"
      ]
     },
     "execution_count": 2,
     "metadata": {},
     "output_type": "execute_result"
    }
   ],
   "source": [
    "from dotenv import load_dotenv\n",
    "import os\n",
    "import sys\n",
    "\n",
    "import warnings\n",
    "\n",
    "warnings.filterwarnings(\"ignore\")\n",
    "\n",
    "# Load the file that contains the API keys\n",
    "load_dotenv('C:\\\\Users\\\\raj\\\\.jupyter\\\\.env')\n"
   ]
  },
  {
   "cell_type": "code",
   "execution_count": 3,
   "id": "e40a5cba-592a-4f6c-a9e6-c0eee055a6bd",
   "metadata": {},
   "outputs": [
    {
     "name": "stdout",
     "output_type": "stream",
     "text": [
      "Key:  HUGGINGFACEHUB_API_TOKEN  already set in environment.\n"
     ]
    }
   ],
   "source": [
    "# Setting path so we can access the utils folder\n",
    "sys.path.append('../')\n",
    "sys.path.append('./')\n",
    "\n",
    "from utils.api_key_check_utility import api_key_check\n",
    "\n",
    "# Check if the HF key is available\n",
    "api_key = api_key_check(\"HUGGINGFACEHUB_API_TOKEN\")"
   ]
  },
  {
   "cell_type": "code",
   "execution_count": 4,
   "id": "0d27fd78",
   "metadata": {},
   "outputs": [],
   "source": [
    "from huggingface_hub import InferenceClient\n",
    "\n",
    "model_id = 'tiiuae/falcon-7b-instruct'\n",
    "\n",
    "# model_id = 'google/flan-t5-xxl'\n",
    "\n",
    "client = InferenceClient(model=model_id)"
   ]
  },
  {
   "cell_type": "markdown",
   "id": "d6895b65",
   "metadata": {},
   "source": [
    "## Try Zero-Shot"
   ]
  },
  {
   "cell_type": "code",
   "execution_count": 5,
   "id": "0fd39166",
   "metadata": {},
   "outputs": [
    {
     "data": {
      "text/plain": [
       "'<pre><code>[John] [Person] [Animal] [Adul] [Friend]\\n</code></pre>'"
      ]
     },
     "execution_count": 5,
     "metadata": {},
     "output_type": "execute_result"
    }
   ],
   "source": [
    "prompt = \"\"\"\n",
    "Return a list of named entities and their types in the text.\n",
    "\n",
    "Text: john travelled with his dog duffy from texas to Turkey and met with his friend abdul\n",
    "\"\"\"\n",
    "\n",
    "client.text_generation(prompt, max_new_tokens=75)"
   ]
  },
  {
   "cell_type": "markdown",
   "id": "bd94362e",
   "metadata": {},
   "source": [
    "## Instruct the output to be in JSON format"
   ]
  },
  {
   "cell_type": "code",
   "execution_count": 6,
   "id": "c4602c83",
   "metadata": {},
   "outputs": [
    {
     "data": {
      "text/plain": [
       "'{\\n  \"named_entities\": [\\n    {\"type\": \"Person\"},\\n    {\"type\": \"Location\"},\\n    {\"type\": \"Animal\"},\\n    {\"type\": \"Friend\"}\\n  ],\\n  \"sentences\": [\\n    {\"type\": \"Voyage\"},\\n    {\"type\": \"Meeting\"},\\n    {\"type\": \"Dog\"},\\n    {\"type\": \"Turkey\"},\\n    {\"type\": \"Abdul\"}\\n  ]\\n}'"
      ]
     },
     "execution_count": 6,
     "metadata": {},
     "output_type": "execute_result"
    }
   ],
   "source": [
    "prompt = \"\"\"\n",
    "Return a list of named entities and their types in the text.\n",
    "\n",
    "Format response as JSON\n",
    "\n",
    "Text: john travelled with his dog duffy from texas to Turkey and met with his friend abdul\n",
    "Answer:\n",
    "\"\"\"\n",
    "\n",
    "client.text_generation(prompt, max_new_tokens=100)"
   ]
  },
  {
   "cell_type": "markdown",
   "id": "75b94030",
   "metadata": {},
   "source": [
    "## 1-Shot\n",
    "\n",
    "We want the JSON to be in this format: [{entity: type}, {entity : type}....]\n",
    "\n",
    "All locattions should have a type = place"
   ]
  },
  {
   "cell_type": "code",
   "execution_count": 7,
   "id": "fc0f51bc",
   "metadata": {},
   "outputs": [
    {
     "data": {
      "text/plain": [
       "\"[{'entity': 'john', 'type': 'person'}, {'entity': 'duffy', 'type': 'animal'}, {'entity': 'dul', 'type': 'person'}, {'entity': 'abdul', 'type': 'person'}]\""
      ]
     },
     "execution_count": 7,
     "metadata": {},
     "output_type": "execute_result"
    }
   ],
   "source": [
    "prompt = \"\"\"\n",
    "Return a list of named entities and their types in the text.\n",
    "\n",
    "Format response as JSON shown in answer\n",
    "\n",
    "Text: Anil lives in Paris, the most beautiful city in France\n",
    "Answer: [{'entity': 'Anil', 'type': 'person'}, {'entity': 'Paris', 'type' : 'place'}, {'entity': 'France', 'type' : 'place'}]\n",
    "\n",
    "\n",
    "Text: john travelled with his dog duffy from texas to Turkey and met with his friend abdul\n",
    "Answer: \n",
    "\"\"\"\n",
    "# Use the stop_sequences parameter to stop the generation after a \"]\" is output by model\n",
    "# THERE IS ERROR IN HF DOCUMENTATION - it shows the parameter name as stop instead of stop_sequences\n",
    "client.text_generation(prompt, max_new_tokens=75,stop_sequences=[\"]\"])"
   ]
  },
  {
   "cell_type": "markdown",
   "id": "c50ab163",
   "metadata": {},
   "source": [
    "## 2-Shot"
   ]
  },
  {
   "cell_type": "code",
   "execution_count": 8,
   "id": "fde82a52",
   "metadata": {},
   "outputs": [
    {
     "data": {
      "text/plain": [
       "\"[{'entity': 'john', 'type': 'person'}, {'entity': 'duffy', 'type': 'animal'}, {'entity': 'turkey', 'type': 'place'}, {'entity': 'abdul', 'type': 'person'}]\""
      ]
     },
     "execution_count": 8,
     "metadata": {},
     "output_type": "execute_result"
    }
   ],
   "source": [
    "prompt = \"\"\"\n",
    "Return a list of named entities and their types in the text.\n",
    "\n",
    "Format response as JSON. Stop generating once valid JSON is created.\n",
    "\n",
    "Text: Anil lives in Paris the most beautiful city in France\n",
    "Answer: [{'entity': 'Anil', 'type': 'person'}, {'entity': 'Paris', 'type' : 'place'}, {'entity': 'France', 'type' : 'place'}]\n",
    "\n",
    "Text: Jim lives in texas and he owns a cat named Alexa\n",
    "Answer: [{'entity': 'Jim', 'type':'person'}, {'entity': 'texas', 'type': 'place'}, {'entity': 'alexa', 'type': 'cat'}]\n",
    "\n",
    "Text: john travelled with his dog duffy from Texas to Turkey and met with his friend abdul\n",
    "Answer:\n",
    "\"\"\"\n",
    "\n",
    "client.text_generation(prompt, max_new_tokens=75, stop_sequences=[\"]\"])"
   ]
  },
  {
   "cell_type": "markdown",
   "id": "d5a19c06",
   "metadata": {},
   "source": [
    "## Few -Shots"
   ]
  },
  {
   "cell_type": "code",
   "execution_count": 9,
   "id": "d2e33d75",
   "metadata": {},
   "outputs": [
    {
     "data": {
      "text/plain": [
       "\"[{'entity': 'john', 'type':'person'}, {'entity': 'duffy', 'type': 'animal'}, {'entity': 'Abdul', 'type': 'person'}]\""
      ]
     },
     "execution_count": 9,
     "metadata": {},
     "output_type": "execute_result"
    }
   ],
   "source": [
    "prompt = \"\"\"\n",
    "Return a list of named entities and their types in the text.\n",
    "\n",
    "Return a list of named entities and their types in the text.\n",
    "\n",
    "Format response as JSON. Stop generating once valid JSON is created.\n",
    "\n",
    "Text: Anil lives in Paris the most beautiful city in France\n",
    "Answer: [{'entity': 'Anil', 'type': 'person'}, {'entity': 'Paris', 'type' : 'place'}, {'entity': 'France', 'type' : 'place'}]\n",
    "\n",
    "Text: Jim lives in texas and he owns a cat named Alexa\n",
    "Answer: [{'entity': 'Jim', 'type':'person'}, {'entity': 'texas', 'type': 'place'}, {'entity': 'alexa', 'type': 'cat'}]\n",
    "\n",
    "Text: Mary loves her hometown in Calfiornia, where she lives with her husband Paul\n",
    "Answer: [{'entity': 'Mary', 'type':'person'}, {'entity': 'Calfiornia', 'type': 'state'},{'entity': 'Paul', 'type':'person'}]\n",
    "\n",
    "Text: Jim is friends with Brad  who lives in LA in California\n",
    "Answer: [{'entity': 'Jim', 'type':'person'}, {'entity': 'LA', 'type': 'city'}, {'entity': 'Calfiornia', 'type': 'state'}{'entity': 'Brad', 'type':'person'}]\n",
    "\n",
    "\n",
    "Text: john travelled with his dog duffy from New Jersey to Turkey and met with his friend abdul\n",
    "Answer:\n",
    "\"\"\"\n",
    "\n",
    "client.text_generation(prompt, max_new_tokens=75, stop_sequences=[\"]\"])"
   ]
  },
  {
   "cell_type": "code",
   "execution_count": 12,
   "id": "3491dcb8",
   "metadata": {},
   "outputs": [
    {
     "data": {
      "text/plain": [
       "\"\\nThe article belongs to the 'finance' category.\""
      ]
     },
     "execution_count": 12,
     "metadata": {},
     "output_type": "execute_result"
    }
   ],
   "source": [
    "text = \"using the LLM you can build intelligent apps\"\n",
    "\n",
    "\n",
    "prompt = f\"what category out of these ['news', 'health', 'finance', 'technology'], does this article belong to : \" + text\n",
    "\n",
    "client.text_generation(prompt)"
   ]
  },
  {
   "cell_type": "markdown",
   "id": "f141155b",
   "metadata": {},
   "source": [
    "## Limitation with few-shot technique\n",
    "\n",
    "### Few shot may not produce the desired result for reasoning/mathematics/logical problems\n",
    "\n",
    "Try out this prompt with \n",
    "\n",
    "* Chat GPT 3.5\n",
    "\n",
    "* Chere Command (use playground)\n",
    "\n",
    "* Google Bard   (uses Gemini AI / LaMDA model)\n",
    "\n",
    "You will realize that it works for Bard and it doesn't work for Chat GPT 3.5 or Cohere Command!!!\n",
    "\n",
    "Do your research to figure out why is that the case. Share your results on the Q&A forum."
   ]
  },
  {
   "cell_type": "raw",
   "id": "30ad93de",
   "metadata": {},
   "source": [
    "refer to examples and answer generate a yes or a no as response to the question.\n",
    "\n",
    "example: the odd numbers in this list [1,3,4,5,2] adds up to an odd number\n",
    "answer: yes\n",
    "\n",
    "example: the odd numbers in this list [1,2,4,5,6,2] adds up to an odd number\n",
    "answer: no\n",
    "\n",
    "example: the odd numbers in this list [1,2,4,7,9] adds up to an odd number\n",
    "answer: yes\n",
    "\n",
    "example: the odd numbers in this list [1,3,4,7,9] adds up to an odd number\n",
    "answer: no\n",
    "\n",
    "question: the odd numbers in this list [1,2,1,9,1] adds up to an odd number\n",
    "answer:"
   ]
  }
 ],
 "metadata": {
  "kernelspec": {
   "display_name": "Python 3 (ipykernel)",
   "language": "python",
   "name": "python3"
  },
  "language_info": {
   "codemirror_mode": {
    "name": "ipython",
    "version": 3
   },
   "file_extension": ".py",
   "mimetype": "text/x-python",
   "name": "python",
   "nbconvert_exporter": "python",
   "pygments_lexer": "ipython3",
   "version": "3.12.4"
  }
 },
 "nbformat": 4,
 "nbformat_minor": 5
}
