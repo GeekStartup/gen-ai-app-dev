{
 "cells": [
  {
   "cell_type": "markdown",
   "id": "6ad7aae5",
   "metadata": {},
   "source": [
    "# Tree of Thought approach\n",
    "\n",
    "\n",
    "### Paper \n",
    "https://arxiv.org/pdf/2305.10601.pdf\n",
    "\n",
    "This notebook demonstrates the use of Tree of thought as a 4 step process for a creative writing task.\n",
    "\n",
    "1. Create *K* plans to approach the task\n",
    "2. Vote the best 1 out of the *K* plans\n",
    "3. Create *N* passages with the best plan\n",
    "4. Vote the best 1 out of the *N* passages\n",
    "\n",
    "### Task\n",
    "\n",
    "In this demonstration, we will use LLM to create a product marketing slogan. The marketing lead has some thoughts in mind that she would like the LLM to follow. Refer to the standard prompt that describes the marketing lead's preferences.\n",
    "\n",
    "\n",
    "### Note:\n",
    "1. Since we are using commerical API, it will cost you $ to run the code\n",
    "2. The code can be adjusted for similar tasks by tweaking the prompts, rest of the code stays the same\n",
    "\n",
    "### Langchain\n",
    "Use of Langchain will simplify the code below. Langchain has not been used deliberately to show you the concept of LLM chains :) in the next iteration you will use Langchain to rewrite this code. If you already know Langchain, then feel free to use it instead of the solution proposed in this notebook."
   ]
  },
  {
   "cell_type": "markdown",
   "id": "9e43f39d",
   "metadata": {},
   "source": [
    "## Setup the environment variable for API access\n",
    "\n",
    "#### NOTE\n",
    "You MUST change the path to your own environment file"
   ]
  },
  {
   "cell_type": "code",
   "execution_count": 56,
   "id": "4654782e",
   "metadata": {},
   "outputs": [
    {
     "data": {
      "text/plain": [
       "True"
      ]
     },
     "execution_count": 56,
     "metadata": {},
     "output_type": "execute_result"
    }
   ],
   "source": [
    "from dotenv import load_dotenv\n",
    "import os\n",
    "\n",
    "import warnings\n",
    "\n",
    "warnings.filterwarnings(\"ignore\")\n",
    "\n",
    "# Load the file that contains the API keys\n",
    "load_dotenv('C:\\\\Users\\\\raj\\\\.jupyter\\\\.env')"
   ]
  },
  {
   "cell_type": "markdown",
   "id": "34da3953",
   "metadata": {},
   "source": [
    "### Use OpenAI to run infrence\n",
    "\n",
    "https://platform.openai.com/docs/api-reference/chat"
   ]
  },
  {
   "cell_type": "code",
   "execution_count": 57,
   "id": "df4eb870",
   "metadata": {},
   "outputs": [],
   "source": [
    "from openai import OpenAI\n",
    "\n",
    "client = OpenAI()\n",
    "\n",
    "# utility function for running infrence\n",
    "def  run_openai_infrence(prompt, temperature=0.5, max_tokens=400, stop_sequence=[], count=1):\n",
    "    client = OpenAI()\n",
    "    \n",
    "    response_content = []\n",
    "\n",
    "    for i in range(count):\n",
    "        response = client.chat.completions.create(\n",
    "          model=\"gpt-3.5-turbo\",\n",
    "          messages=[\n",
    "            {\n",
    "                \"role\": \"system\", \n",
    "                \"content\": \"you are an expert in generating product marketing material\"\n",
    "            },\n",
    "            {\n",
    "              \"role\": \"user\",\n",
    "              \"content\": prompt\n",
    "            }\n",
    "          ],\n",
    "          temperature=temperature,\n",
    "          max_tokens=max_tokens,\n",
    "          stop=stop_sequence\n",
    "        )\n",
    "\n",
    "        response_content.append(response.choices[0].message.content)\n",
    "        \n",
    "    return response_content"
   ]
  },
  {
   "cell_type": "markdown",
   "id": "dbffd1d1",
   "metadata": {},
   "source": [
    "## Response without ToT\n",
    "\n",
    "We will first create a prompt and get a response from Open AI/GPT."
   ]
  },
  {
   "cell_type": "code",
   "execution_count": null,
   "id": "704a18f7",
   "metadata": {},
   "outputs": [],
   "source": [
    "# These are output indicators  used in the prompt\n",
    "ouput_passage_indicator = \"Passage:\"\n",
    "ouput_plan_indicator = \"Plan:\"\n",
    "output_best_plan_indicator = \"Best Plan:\"\n",
    "output_best_passage_indicator = \"Best Passage:\""
   ]
  },
  {
   "cell_type": "code",
   "execution_count": 58,
   "id": "fe2ea040",
   "metadata": {},
   "outputs": [],
   "source": [
    "# This is a standard prompt\n",
    "prompt_instructions = \"\"\"Write a passage to describe our new product:\n",
    "Javelin 20 High Performance Shoes.\n",
    "\n",
    "The passage should be no more than 100 words.\n",
    "\n",
    "The title must contain the sentence: \n",
    "A new you\n",
    "\n",
    "The first sentence must contain a few of these words: \n",
    "motivation, workout, sports, attractive\n",
    "\n",
    "The last few sentences must motivate the reader to visit out website http://acme.com/jav20\n",
    "\n",
    "The passage must contain the phrase : \n",
    "trend setter\n",
    "\"\"\"\n",
    "\n",
    "prompt = prompt_instructions + ouput_passage_indicator + \"\\nYour passage here.\"\n",
    "# print( prompt )"
   ]
  },
  {
   "cell_type": "code",
   "execution_count": 59,
   "id": "c6db7098",
   "metadata": {},
   "outputs": [
    {
     "name": "stdout",
     "output_type": "stream",
     "text": [
      "A new you awaits with our Javelin 20 High Performance Shoes. Designed to ignite your motivation during workouts, these sports shoes are not only attractive but also engineered to enhance your performance. Whether you're a trend setter or a fitness enthusiast, our Javelin 20 shoes will elevate your game to new heights. Experience the perfect blend of style and functionality, allowing you to conquer any challenge with confidence. Don't miss out on this opportunity to revolutionize your fitness journey. Visit our website at http://acme.com/jav20 and be prepared to unleash your true potential.\n"
     ]
    }
   ],
   "source": [
    "# response to the standard prompt\n",
    "response = run_openai_infrence(prompt)\n",
    "\n",
    "print(response[0])"
   ]
  },
  {
   "cell_type": "markdown",
   "id": "cb55126c",
   "metadata": {},
   "source": [
    "## Response with ToT"
   ]
  },
  {
   "cell_type": "markdown",
   "id": "b3751408",
   "metadata": {},
   "source": [
    "### 1. Generate 3 plans"
   ]
  },
  {
   "cell_type": "code",
   "execution_count": 60,
   "id": "5977199d",
   "metadata": {},
   "outputs": [
    {
     "name": "stdout",
     "output_type": "stream",
     "text": [
      "Write a passage to describe our new product:\n",
      "Javelin 20 High Performance Shoes.\n",
      "\n",
      "The passage should be no more than 100 words.\n",
      "\n",
      "The title must contain the sentence: \n",
      "A new you\n",
      "\n",
      "The first sentence must contain a few of these words: \n",
      "motivation, workout, sports, attractive\n",
      "\n",
      "The last few sentences must motivate the reader to visit out website http://acme.com/jav20\n",
      "\n",
      "The passage must contain the phrase : \n",
      "trend setter\n",
      "\n",
      "Your output will be in following format.\n",
      "\n",
      "Plan:\n",
      "Your plan here.\n",
      "\n",
      "Passage:\n",
      "Your passage here.\n",
      "\n"
     ]
    }
   ],
   "source": [
    "prompt = prompt_instructions + \"\"\"\n",
    "Your output will be in following format.\n",
    "\n",
    "{ouput_plan_indicator}\n",
    "Your plan here.\n",
    "\n",
    "{ouput_passage_indicator}\n",
    "Your passage here.\n",
    "\"\"\" \n",
    "\n",
    "prompt = prompt.format(ouput_plan_indicator=ouput_plan_indicator, ouput_passage_indicator=ouput_passage_indicator)\n",
    "\n",
    "\n",
    "print(prompt)"
   ]
  },
  {
   "cell_type": "code",
   "execution_count": 61,
   "id": "f0db7bef",
   "metadata": {},
   "outputs": [],
   "source": [
    "# use stop sequence to generate just the plan\n",
    "passage_stop_sequence = [ouput_passage_indicator]\n",
    "\n",
    "# This will return an array with 3 elements\n",
    "plans_for_passage = run_openai_infrence(prompt,0.8,400,passage_stop_sequence,3)"
   ]
  },
  {
   "cell_type": "code",
   "execution_count": 62,
   "id": "8fbe65e5",
   "metadata": {},
   "outputs": [
    {
     "name": "stdout",
     "output_type": "stream",
     "text": [
      "Plan:\n",
      "Title: A new you\n",
      "First sentence: Get motivated for your workout with our attractive Javelin 20 high performance shoes designed for sports enthusiasts.\n",
      "Last few sentences: Discover the trendsetter in you by visiting our website at http://acme.com/jav20 and get ready to experience the ultimate in comfort and style.\n",
      "\n",
      "\n",
      "Plan:\n",
      "- Introduce the product as Javelin 20 High Performance Shoes\n",
      "- Mention its features and benefits\n",
      "- Highlight its appeal for sports enthusiasts and fitness enthusiasts\n",
      "- Emphasize the attractive design and performance capabilities\n",
      "- Provide a call to action to visit the website for more information\n",
      "\n",
      "\n",
      "Plan:\n",
      "Title: A new you\n",
      "First sentence: Motivation, sports, workout, attractive\n",
      "Last sentences: Motivate reader to visit website http://acme.com/jav20\n",
      "Phrase: Trend setter\n",
      "\n",
      "\n"
     ]
    }
   ],
   "source": [
    "for plan in plans_for_passage:\n",
    "    print(plan)"
   ]
  },
  {
   "cell_type": "markdown",
   "id": "1fb89a05",
   "metadata": {},
   "source": [
    "### 2. Ask LLM to vote on the plan"
   ]
  },
  {
   "cell_type": "code",
   "execution_count": 63,
   "id": "c54b5cd5",
   "metadata": {},
   "outputs": [
    {
     "name": "stdout",
     "output_type": "stream",
     "text": [
      "\n",
      "3 experts were given the following task.\n",
      "\n",
      "Task:\n",
      "\n",
      "Write a passage to describe our new product:\n",
      "Javelin 20 High Performance Shoes.\n",
      "\n",
      "The passage should be no more than 100 words.\n",
      "\n",
      "The title must contain the sentence: \n",
      "A new you\n",
      "\n",
      "The first sentence must contain a few of these words: \n",
      "motivation, workout, sports, attractive\n",
      "\n",
      "The last few sentences must motivate the reader to visit out website http://acme.com/jav20\n",
      "\n",
      "The passage must contain the phrase : \n",
      "trend setter\n",
      "\n",
      "\n",
      "you need to review the 3 plans and identify the best plan out of the 3. \n",
      "\n",
      "Output your response as follows, where N is the plan number. \n",
      "Best Plan: N\n",
      "\n",
      "Give 3 reasons why you select the plan.\n",
      "\n",
      "Plan 1:\n",
      "Title: A new you\n",
      "First sentence: Get motivated for your workout with our attractive Javelin 20 high performance shoes designed for sports enthusiasts.\n",
      "Last few sentences: Discover the trendsetter in you by visiting our website at http://acme.com/jav20 and get ready to experience the ultimate in comfort and style.\n",
      "\n",
      "Plan 2:\n",
      "- Introduce the product as Javelin 20 High Performance Shoes\n",
      "- Mention its features and benefits\n",
      "- Highlight its appeal for sports enthusiasts and fitness enthusiasts\n",
      "- Emphasize the attractive design and performance capabilities\n",
      "- Provide a call to action to visit the website for more information\n",
      "\n",
      "Plan 3:\n",
      "Title: A new you\n",
      "First sentence: Motivation, sports, workout, attractive\n",
      "Last sentences: Motivate reader to visit website http://acme.com/jav20\n",
      "Phrase: Trend setter\n",
      "\n",
      "\n",
      "\n",
      "\n"
     ]
    }
   ],
   "source": [
    "prompt_plan_vote = \"\"\"\n",
    "3 experts were given the following task.\n",
    "\n",
    "Task:\n",
    "\n",
    "{prompt_instructions}\n",
    "\n",
    "you need to review the 3 plans and identify the best plan out of the 3. \n",
    "\n",
    "Output your response as follows, where N is the plan number. \n",
    "{output_best_plan_indicator} N\n",
    "\n",
    "Give 3 reasons why you select the plan.\n",
    "\n",
    "{plans}\n",
    "\n",
    "\"\"\"\n",
    "\n",
    "prompt_plans = \"\"\n",
    "for i, plan in enumerate(plans_for_passage):\n",
    "    plan = plan.replace(ouput_plan_indicator, '')\n",
    "    prompt_plan = \"Plan {i}:{plan}\".format(i=(i+1), plan=plan)\n",
    "    \n",
    "    prompt_plans = prompt_plans + prompt_plan\n",
    "\n",
    "prompt = prompt_plan_vote.format(prompt_instructions=prompt_instructions, plans = prompt_plans, output_best_plan_indicator=output_best_plan_indicator)\n",
    "print(prompt)"
   ]
  },
  {
   "cell_type": "code",
   "execution_count": 64,
   "id": "4d6dedc3",
   "metadata": {},
   "outputs": [],
   "source": [
    "# use stop sequence to generate just the plan\n",
    "passage_stop_sequence = [ouput_passage_indicator]\n",
    "\n",
    "# This will return an array with 3 elements\n",
    "plan_voted_best = run_openai_infrence(prompt,0.8,400)"
   ]
  },
  {
   "cell_type": "code",
   "execution_count": 65,
   "id": "9cdf3d1f",
   "metadata": {},
   "outputs": [
    {
     "name": "stdout",
     "output_type": "stream",
     "text": [
      "Best Plan Index: 1\n",
      "------\n",
      "Best Plan: 2\n",
      "\n",
      "Reasons for selecting Plan 2:\n",
      "\n",
      "1. Plan 2 provides a clear and concise introduction of the product, Javelin 20 High Performance Shoes, while also highlighting its features and benefits. This helps potential customers understand the value proposition of the product right from the start.\n",
      "\n",
      "2. The plan effectively emphasizes the appeal of the product to sports enthusiasts and fitness enthusiasts, which is likely the target audience for high-performance shoes. By addressing the specific needs and interests of this audience, the plan increases the chances of attracting the right customers.\n",
      "\n",
      "3. Plan 2 includes a call to action to visit the website for more information, which is crucial for driving traffic and conversions. By directing readers to the website, the plan enables them to explore further details about the product, ultimately increasing the likelihood of making a purchase.\n",
      "\n",
      "In summary, Plan 2 effectively introduces the product, highlights its appeal to the target audience, and includes a call to action to visit the website, making it the best plan out of the three.\n"
     ]
    }
   ],
   "source": [
    "# Get the index of the best plan by searching for the \"Best Plan:\"\n",
    "best_plan_index = plan_voted_best[0].find(output_best_plan_indicator)\n",
    "temp_index = best_plan_index+len(output_best_plan_indicator)\n",
    "new_line_index  = plan_voted_best[0].find(\"\\n\",temp_index)\n",
    "best_plan_index = int(plan_voted_best[0][temp_index : new_line_index]) - 1\n",
    "\n",
    "print('Best Plan Index:', best_plan_index)\n",
    "print('------')\n",
    "print(plan_voted_best[0])"
   ]
  },
  {
   "cell_type": "markdown",
   "id": "19e5668f",
   "metadata": {},
   "source": [
    "## 3. Prompt LLM to generate 3 passages using the best plan"
   ]
  },
  {
   "cell_type": "code",
   "execution_count": 66,
   "id": "dc1436b4",
   "metadata": {},
   "outputs": [],
   "source": [
    "prompt_generate_3_passages = \"\"\"\n",
    "Create three passages using the following instructions and plan.\n",
    "\n",
    "Instructions:\n",
    "{prompt_instructions}\n",
    "\n",
    "{best_plan}\n",
    "\n",
    "Your output will be in following format.\n",
    "\n",
    "{ouput_passage_indicator}\n",
    "Your response here\n",
    "\n",
    "\n",
    "\"\"\"\n",
    "\n",
    "# Use the plans generated in step-1, best plan index from step 2\n",
    "best_plan = plans_for_passage[best_plan_index]\n",
    "\n",
    "prompt = prompt_generate_3_passages.format(prompt_instructions=prompt_instructions, \n",
    "                                           best_plan=best_plan,\n",
    "                                           ouput_passage_indicator=ouput_passage_indicator)\n"
   ]
  },
  {
   "cell_type": "code",
   "execution_count": 67,
   "id": "44fd6187",
   "metadata": {},
   "outputs": [
    {
     "name": "stdout",
     "output_type": "stream",
     "text": [
      "\n",
      "Create three passages using the following instructions and plan.\n",
      "\n",
      "Instructions:\n",
      "Write a passage to describe our new product:\n",
      "Javelin 20 High Performance Shoes.\n",
      "\n",
      "The passage should be no more than 100 words.\n",
      "\n",
      "The title must contain the sentence: \n",
      "A new you\n",
      "\n",
      "The first sentence must contain a few of these words: \n",
      "motivation, workout, sports, attractive\n",
      "\n",
      "The last few sentences must motivate the reader to visit out website http://acme.com/jav20\n",
      "\n",
      "The passage must contain the phrase : \n",
      "trend setter\n",
      "\n",
      "\n",
      "Plan:\n",
      "- Introduce the product as Javelin 20 High Performance Shoes\n",
      "- Mention its features and benefits\n",
      "- Highlight its appeal for sports enthusiasts and fitness enthusiasts\n",
      "- Emphasize the attractive design and performance capabilities\n",
      "- Provide a call to action to visit the website for more information\n",
      "\n",
      "\n",
      "\n",
      "Your output will be in following format.\n",
      "\n",
      "Passage:\n",
      "Your response here\n",
      "\n",
      "\n",
      "\n"
     ]
    }
   ],
   "source": [
    "print(prompt)"
   ]
  },
  {
   "cell_type": "code",
   "execution_count": 68,
   "id": "93ff246f",
   "metadata": {},
   "outputs": [],
   "source": [
    "# This will return an array with 3 elements\n",
    "passages_based_on_best_plan = run_openai_infrence(prompt,temperature=0.5,max_tokens=400,stop_sequence=[],count=3)"
   ]
  },
  {
   "cell_type": "code",
   "execution_count": 69,
   "id": "4ff8dd6b",
   "metadata": {},
   "outputs": [
    {
     "name": "stdout",
     "output_type": "stream",
     "text": [
      "A New You: Javelin 20 High Performance Shoes are the perfect motivation for your workout routine. Designed for sports and fitness enthusiasts, these shoes are a trendsetter in the industry. With their sleek and attractive design, they not only make a fashion statement but also enhance your performance. The Javelin 20 High Performance Shoes offer superior comfort, durability, and support, allowing you to push your limits and achieve your fitness goals. Don't miss out on this opportunity to elevate your workouts. Visit our website http://acme.com/jav20 to learn more about these game-changing shoes and unleash your full potential.\n",
      "Title: A New You with Javelin 20 High Performance Shoes\n",
      "\n",
      "Passage:\n",
      "Looking for some motivation to enhance your workout routine? Look no further than our latest innovation, Javelin 20 High Performance Shoes. Designed for trend setters like you, these shoes are the perfect companion for your sports activities. With their exceptional features and benefits, Javelin 20 will elevate your performance to new heights. Not only do they provide unparalleled support and comfort, but their attractive design will make you the envy of your fitness community. Don't miss out on this opportunity to be a trend setter. Visit our website at http://acme.com/jav20 and step into a new you today!\n",
      "Title: A new you\n",
      "\n",
      "Passage:\n",
      "Looking for motivation to elevate your workout? Look no further than the Javelin 20 High Performance Shoes. Designed for sports and fitness enthusiasts, these shoes are a trend setter in the world of athletic footwear. With their sleek and attractive design, they not only make a fashion statement but also deliver exceptional performance. The Javelin 20 is equipped with advanced features that enhance your athletic performance, providing the perfect balance of comfort and support. Don't miss out on this game-changing footwear. Visit our website at http://acme.com/jav20 to discover more about the Javelin 20 and take the first step towards a new you.\n"
     ]
    }
   ],
   "source": [
    "for passage in passages_based_on_best_plan:\n",
    "    print(passage)"
   ]
  },
  {
   "cell_type": "markdown",
   "id": "72766e5c",
   "metadata": {},
   "source": [
    "### 4. Vote the best out of the 3 passages"
   ]
  },
  {
   "cell_type": "code",
   "execution_count": 70,
   "id": "1e9880ec",
   "metadata": {},
   "outputs": [
    {
     "name": "stdout",
     "output_type": "stream",
     "text": [
      "\n",
      "3 experts were given the following task.\n",
      "\n",
      "Task:\n",
      "Write a passage to describe our new product:\n",
      "Javelin 20 High Performance Shoes.\n",
      "\n",
      "The passage should be no more than 100 words.\n",
      "\n",
      "The title must contain the sentence: \n",
      "A new you\n",
      "\n",
      "The first sentence must contain a few of these words: \n",
      "motivation, workout, sports, attractive\n",
      "\n",
      "The last few sentences must motivate the reader to visit out website http://acme.com/jav20\n",
      "\n",
      "The passage must contain the phrase : \n",
      "trend setter\n",
      "\n",
      "\n",
      "you need to review the 3 passages and identify the best passage out of the 3. \n",
      "\n",
      "Output your response as follows, where N is the passage number. \n",
      "Best Passage: N\n",
      "\n",
      "Give 3 reasons why you select the passage.\n",
      "\n",
      "Passage 1:A New You: Javelin 20 High Performance Shoes are the perfect motivation for your workout routine. Designed for sports and fitness enthusiasts, these shoes are a trendsetter in the industry. With their sleek and attractive design, they not only make a fashion statement but also enhance your performance. The Javelin 20 High Performance Shoes offer superior comfort, durability, and support, allowing you to push your limits and achieve your fitness goals. Don't miss out on this opportunity to elevate your workouts. Visit our website http://acme.com/jav20 to learn more about these game-changing shoes and unleash your full potential.\n",
      "\n",
      "Passage 2:Title: A New You with Javelin 20 High Performance Shoes\n",
      "\n",
      "\n",
      "Looking for some motivation to enhance your workout routine? Look no further than our latest innovation, Javelin 20 High Performance Shoes. Designed for trend setters like you, these shoes are the perfect companion for your sports activities. With their exceptional features and benefits, Javelin 20 will elevate your performance to new heights. Not only do they provide unparalleled support and comfort, but their attractive design will make you the envy of your fitness community. Don't miss out on this opportunity to be a trend setter. Visit our website at http://acme.com/jav20 and step into a new you today!\n",
      "\n",
      "Passage 3:Title: A new you\n",
      "\n",
      "\n",
      "Looking for motivation to elevate your workout? Look no further than the Javelin 20 High Performance Shoes. Designed for sports and fitness enthusiasts, these shoes are a trend setter in the world of athletic footwear. With their sleek and attractive design, they not only make a fashion statement but also deliver exceptional performance. The Javelin 20 is equipped with advanced features that enhance your athletic performance, providing the perfect balance of comfort and support. Don't miss out on this game-changing footwear. Visit our website at http://acme.com/jav20 to discover more about the Javelin 20 and take the first step towards a new you.\n",
      "\n",
      "\n",
      "\n",
      "\n"
     ]
    }
   ],
   "source": [
    "prompt_passage_vote = \"\"\"\n",
    "3 experts were given the following task.\n",
    "\n",
    "Task:\n",
    "{prompt_instructions}\n",
    "\n",
    "you need to review the 3 passages and identify the best passage out of the 3. \n",
    "\n",
    "Output your response as follows, where N is the passage number. \n",
    "{output_best_passage_indicator} N\n",
    "\n",
    "Give 3 reasons why you select the passage.\n",
    "\n",
    "{passages}\n",
    "\n",
    "\"\"\"\n",
    "\n",
    "prompt_passages = \"\"\n",
    "for i, passage in enumerate(passages_based_on_best_plan):\n",
    "    passage = passage.replace(ouput_passage_indicator, '')\n",
    "    prompt_passage = \"Passage {i}:{passage}\\n\\n\".format(i=(i+1), passage=passage)\n",
    "    \n",
    "    prompt_passages = prompt_passages + prompt_passage\n",
    "\n",
    "prompt = prompt_passage_vote.format(prompt_instructions=prompt_instructions, \n",
    "                                    passages = prompt_passages, \n",
    "                                    output_best_passage_indicator=output_best_passage_indicator)\n",
    "print(prompt)"
   ]
  },
  {
   "cell_type": "code",
   "execution_count": 71,
   "id": "520c035c",
   "metadata": {},
   "outputs": [],
   "source": [
    "# use stop sequence to generate just the plan\n",
    "passage_stop_sequence = [ouput_passage_indicator]\n",
    "\n",
    "# This will return an array with 3 elements\n",
    "passage_voted_best = run_openai_infrence(prompt,0.8,400)"
   ]
  },
  {
   "cell_type": "code",
   "execution_count": 72,
   "id": "90c81320",
   "metadata": {},
   "outputs": [
    {
     "name": "stdout",
     "output_type": "stream",
     "text": [
      "Best Passage Index: 0\n",
      "------\n",
      "Best Passage: 1\n",
      "\n",
      "Reasons for selection:\n",
      "1. The passage effectively uses the title \"A New You\" in the opening sentence, capturing the attention of the reader and conveying the idea of transformation.\n",
      "2. The passage incorporates the words \"motivation,\" \"workout,\" \"sports,\" and \"attractive\" in the first sentence, effectively conveying the key features of the product.\n",
      "3. The passage successfully motivates the reader to visit the website http://acme.com/jav20 by emphasizing the unique qualities of the Javelin 20 High Performance Shoes and the opportunity to enhance their workouts and unleash their full potential.\n"
     ]
    }
   ],
   "source": [
    "# Get the index of the best pasage by searching for the \"Best Passage:\"\n",
    "best_passage_index = passage_voted_best[0].find(output_best_passage_indicator)\n",
    "temp_index = best_passage_index+len(output_best_passage_indicator)\n",
    "new_line_index  = passage_voted_best[0].find(\"\\n\",temp_index)\n",
    "best_passage_index = int(passage_voted_best[0][temp_index : new_line_index]) - 1\n",
    "\n",
    "print('Best Passage Index:', best_passage_index)\n",
    "print('------')\n",
    "print(passage_voted_best[0])"
   ]
  },
  {
   "cell_type": "code",
   "execution_count": 73,
   "id": "85221b7f",
   "metadata": {},
   "outputs": [
    {
     "name": "stdout",
     "output_type": "stream",
     "text": [
      "Final Result\n",
      "------------\n",
      "A New You: Javelin 20 High Performance Shoes are the perfect motivation for your workout routine. Designed for sports and fitness enthusiasts, these shoes are a trendsetter in the industry. With their sleek and attractive design, they not only make a fashion statement but also enhance your performance. The Javelin 20 High Performance Shoes offer superior comfort, durability, and support, allowing you to push your limits and achieve your fitness goals. Don't miss out on this opportunity to elevate your workouts. Visit our website http://acme.com/jav20 to learn more about these game-changing shoes and unleash your full potential.\n"
     ]
    }
   ],
   "source": [
    "print(\"Final Result\")\n",
    "print(\"------------\")\n",
    "print(passages_based_on_best_plan[best_passage_index])"
   ]
  },
  {
   "cell_type": "code",
   "execution_count": null,
   "id": "9b0490cb",
   "metadata": {},
   "outputs": [],
   "source": []
  }
 ],
 "metadata": {
  "kernelspec": {
   "display_name": "Python 3 (ipykernel)",
   "language": "python",
   "name": "python3"
  },
  "language_info": {
   "codemirror_mode": {
    "name": "ipython",
    "version": 3
   },
   "file_extension": ".py",
   "mimetype": "text/x-python",
   "name": "python",
   "nbconvert_exporter": "python",
   "pygments_lexer": "ipython3",
   "version": "3.11.8"
  }
 },
 "nbformat": 4,
 "nbformat_minor": 5
}
