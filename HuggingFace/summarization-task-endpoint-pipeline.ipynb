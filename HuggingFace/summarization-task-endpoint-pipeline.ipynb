{
 "cells": [
  {
   "cell_type": "markdown",
   "id": "79a64a29-a333-4815-acfa-d19ffd3538ce",
   "metadata": {},
   "source": [
    "# Summarization Task\n",
    "\n",
    "There are 2 parts in this exercise.\n",
    "\n",
    "#### Part-1 \n",
    "\n",
    "1. Start by exploring models on the Hugging Face Hub. Identify 2 models, one for each of the following \n",
    "   * Extractive summarization  (*Hint:* facebook/bart...)\n",
    "   * Abstractive summarization (*Hint:* Falconsai/text_...)\n",
    "2. Use the *Inference client class* to summarize the text with both models\n",
    "   * Compare the results\n",
    "   * Which model worked out better for you?\n",
    "3. Measure the inference time for the better model\n",
    "   * Place the **client.summarize(text)** call in its own cell, with **%%time** on top of cell\n",
    "  \n",
    "#### Part-2\n",
    "\n",
    "4. Use the better model with Pipeline class to summarize the text\n",
    "   * Place the inference invocation call in its own cell i.e., **summarization_pipeline(text)**\n",
    "   * Use **%%time** to measure the time it took to summarize the document \n",
    "5. Which mechanism worked out better from performance perspective?\n",
    "   * Pipeline?\n",
    "   * Inference Cli\n",
    "ent i.e., Endpoint?\n",
    "\n",
    "**(Optional)*in the Q&A * Sha\n",
    " your Sample text for summarization##\"\"\"ers in the Q&A :)\n",
    "\n",
    "rizFueling your body with a healthy diet isn't just about looking good, it's about building a vibrant\n",
    "foundation for a life well-lived. Imagine a symphony of vibrant vegetables, a chorus of juicy fruits, and a \n",
    "rhythm of whole grains and lean protein – that's the melody of a healthy diet, \n",
    "nourishing your cells and empowering your spirit. Ditch the processed sirens and sugary temptations, \n",
    "and embrace the natural orchestra of flavors and textures that nature offers. Let leafy greens be \n",
    "your verdant bassline, their antioxidants dancing on your tongue. Citrus fruits, like sunshine-\n",
    "kissed trumpets, add a bright, refreshing melody. Whole grains, the sturdy timpani, provide \n",
    "sustained energy, while lean protein, a soulful cello, builds and repairs your body's instruments. \n",
    "Don't forget the playful percussion of nuts and seeds, bursting with essential nutrients, and the \n",
    "creamy, comforting oboe of legumes, rich in fiber and protein. This symphony of flavors isn't just \n",
    "delicious, it's a powerful conductor, harmonizing your gut, boosting your immunity, and keeping your \n",
    "energy levels soaring. So, ditch the culinary cacophony of processed foods, and embrace the healthy \n",
    "concerto of a vibrant, colorful diet. Let your body be the maestro, conducting a symphony of well-\n",
    "being, one delicious bite at a time.ry of its construction.\"\"\"\n",
    "\n",
    "\n",
    "**Note:**\n",
    "If you are running on Google Colab:\n",
    "\n",
    "1. Install the packages in runtime\n",
    "2. Restart the kernel before running the cells\n",
    "\n",
    "**Additional libraries**\n",
    "* Some Models require addtional libraries to be installed e.g., google/pegasus-large has a dependency on sentencepiece package !!\n",
    "* If you come across a model like that, either install dependency or try another model"
   ]
  },
  {
   "cell_type": "markdown",
   "id": "9a1caabc-d85d-4456-8129-1225031c5ec9",
   "metadata": {},
   "source": [
    "#### Google Colab\n",
    "If you are running the code in Google colab, install the packages by uncommenting/running the cell below"
   ]
  },
  {
   "cell_type": "code",
   "execution_count": 15,
   "id": "a387e0b4-4856-42cb-9a1d-b174ea2d7fad",
   "metadata": {},
   "outputs": [],
   "source": [
    "# !pip install transformers torch huggingface_hub\n",
    "# ! uv add huggingface_hub torch transformers"
   ]
  },
  {
   "cell_type": "code",
   "id": "cac938e7-2076-4f0c-a058-7c6e9b8308b5",
   "metadata": {
    "ExecuteTime": {
     "end_time": "2025-08-16T13:38:56.017049Z",
     "start_time": "2025-08-16T13:38:56.001457Z"
    }
   },
   "source": [
    "from dotenv import load_dotenv\n",
    "import os\n",
    "\n",
    "# Abstractive & Extractive summarization\n",
    "MODEL_EXTRACTIVE  = 'facebook/bart-large-cnn'\n",
    "\n",
    "MODEL_ABSTRACTIVE = 'Falconsai/text_summarization'\n",
    "\n",
    "######## Alternatives ######\n",
    "\n",
    "# Another example of abstractive summarization model\n",
    "# MODEL_ABSTRACTIVE = 'google/flan-t5-small'\n",
    "\n",
    "# You need to have sentencepiece installed to convert a slow tokenizer to a fast one.\n",
    "# MODEL_ABSTRACTIVE = 'google/pegasus-large'\n",
    "\n",
    "############################\n",
    "\n",
    "\n",
    "\n",
    "text = \"\"\"Fueling your body with a healthy diet isn't just about looking good, it's about building a vibrant\n",
    "foundation for a life well-lived. Imagine a symphony of vibrant vegetables, a chorus of juicy fruits, and a \n",
    "rhythm of whole grains and lean protein – that's the melody of a healthy diet, \n",
    "nourishing your cells and empowering your spirit. Ditch the processed sirens and sugary temptations, \n",
    "and embrace the natural orchestra of flavors and textures that nature offers. Let leafy greens be \n",
    "your verdant bassline, their antioxidants dancing on your tongue. Citrus fruits, like sunshine-\n",
    "kissed trumpets, add a bright, refreshing melody. Whole grains, the sturdy timpani, provide \n",
    "sustained energy, while lean protein, a soulful cello, builds and repairs your body's instruments. \n",
    "Don't forget the playful percussion of nuts and seeds, bursting with essential nutrients, and the \n",
    "creamy, comforting oboe of legumes, rich in fiber and protein. This symphony of flavors isn't just \n",
    "delicious, it's a powerful conductor, harmonizing your gut, boosting your immunity, and keeping your \n",
    "energy levels soaring. So, ditch the culinary cacophony of processed foods, and embrace the healthy \n",
    "concerto of a vibrant, colorful diet. Let your body be the maestro, conducting a symphony of well-\n",
    "being, one delicious bite at a time.\"\"\"\n",
    "\n",
    "\n",
    "load_dotenv('E:\\\\Code\\\\gen-ai-app-dev-course\\\\.env')\n",
    "HUGGINGFACEHUB_API_TOKEN = os.getenv(\"HUGGINGFACEHUB_API_TOKEN\")"
   ],
   "outputs": [],
   "execution_count": 1
  },
  {
   "cell_type": "markdown",
   "id": "24827cf1-0371-47b8-9b2f-ae78edba96ab",
   "metadata": {},
   "source": [
    "## Part-1\n",
    "\n",
    "### HuggingFace Inference Endpoint API\n",
    "This will use the model hosting on the Hugging Face portal\n",
    "\n",
    "https://huggingface.co/docs/huggingface_hub/guides/inference#legacy-inferenceapi-client.\n",
    "\n",
    "Class\n",
    "\n",
    "https://huggingface.co/docs/huggingface_hub/v0.20.2/en/package_reference/inference_client#huggingface_hub.InferenceClient\n",
    "\n",
    "Supported tasks\n",
    "\n",
    "https://huggingface.co/docs/huggingface_hub/guides/inference#supported-tasks\n",
    "\n",
    "NOTE:\n",
    "\n",
    "Sometimes API calls fail due to heavy usage of the model on HF. If you get a invocation error, try a again/few times."
   ]
  },
  {
   "cell_type": "markdown",
   "id": "85af8e57-0949-48bc-b58f-0421d439ba2b",
   "metadata": {},
   "source": [
    "#### Use Extractive Model"
   ]
  },
  {
   "cell_type": "code",
   "id": "d4f0df7d-3a0a-4202-995d-28837cdfaab0",
   "metadata": {
    "ExecuteTime": {
     "end_time": "2025-08-16T13:39:07.529224Z",
     "start_time": "2025-08-16T13:39:07.041763Z"
    }
   },
   "source": [
    "from huggingface_hub import InferenceClient\n",
    "\n",
    "# Create the Inference Client\n",
    "client = InferenceClient(model=MODEL_EXTRACTIVE, token=HUGGINGFACEHUB_API_TOKEN)"
   ],
   "outputs": [],
   "execution_count": 2
  },
  {
   "cell_type": "code",
   "id": "7fa6ea2c-aae3-4dd3-bce1-2494f4dded00",
   "metadata": {
    "ExecuteTime": {
     "end_time": "2025-08-16T13:39:15.150882Z",
     "start_time": "2025-08-16T13:39:10.125254Z"
    }
   },
   "source": [
    "%%time\n",
    "\n",
    "# Summarize using the summarize function on the client class\n",
    "client.summarization(text)"
   ],
   "outputs": [
    {
     "name": "stdout",
     "output_type": "stream",
     "text": [
      "CPU times: total: 62.5 ms\n",
      "Wall time: 5.02 s\n"
     ]
    },
    {
     "data": {
      "text/plain": [
       "SummarizationOutput(summary_text=\"Ditch the processed sirens and sugary temptations and embrace the natural orchestra of flavors and textures that nature offers. Let leafy greens be your bassline, their antioxidants dancing on your tongue. Citrus fruits, like sunshine-kissed trumpets, add a bright, refreshing melody. Whole grains provide sturdy timpani, while lean protein, a soulful cello, builds and repairs your body's instruments.\")"
      ]
     },
     "execution_count": 3,
     "metadata": {},
     "output_type": "execute_result"
    }
   ],
   "execution_count": 3
  },
  {
   "cell_type": "markdown",
   "id": "a5fe0f1b-8cea-4ffb-9724-0c9a248772d8",
   "metadata": {},
   "source": [
    "#### Use Abstractive Model"
   ]
  },
  {
   "cell_type": "code",
   "id": "42ecb7db-7727-4d5a-9b29-14a216a66b85",
   "metadata": {
    "ExecuteTime": {
     "end_time": "2025-08-16T13:39:20.364184Z",
     "start_time": "2025-08-16T13:39:20.361296Z"
    }
   },
   "source": [
    "# Create the Inference Client\n",
    "client = InferenceClient(model=MODEL_ABSTRACTIVE, token=HUGGINGFACEHUB_API_TOKEN)"
   ],
   "outputs": [],
   "execution_count": 4
  },
  {
   "cell_type": "code",
   "id": "0750860d-abdf-497c-9ef8-7dbdae2b0eb6",
   "metadata": {
    "ExecuteTime": {
     "end_time": "2025-08-16T13:42:01.985466Z",
     "start_time": "2025-08-16T13:41:57.953425Z"
    }
   },
   "source": [
    "%%time\n",
    "\n",
    "# Summarize using the summarize function on the client class\n",
    "client.summarization(text)"
   ],
   "outputs": [
    {
     "name": "stdout",
     "output_type": "stream",
     "text": [
      "CPU times: total: 0 ns\n",
      "Wall time: 4.03 s\n"
     ]
    },
    {
     "data": {
      "text/plain": [
       "SummarizationOutput(summary_text=\"Imagine a symphony of vibrant vegetables, a chorus of juicy fruits, and a rhythm of whole grains and lean protein – that's the melody of a healthy diet . Let leafy greens be your verdant bassline, their antioxidants dancing on your tongue .\")"
      ]
     },
     "execution_count": 10,
     "metadata": {},
     "output_type": "execute_result"
    }
   ],
   "execution_count": 10
  },
  {
   "cell_type": "markdown",
   "id": "fe5dec29-c76b-4499-ade8-9d1f84558033",
   "metadata": {},
   "source": [
    "## Part-2\n",
    "\n",
    "### Use HuggingFace Pipeline API (MODEL_ABSTRACTIVE)\n",
    "\n",
    "**Note:**\n",
    "* You MUST have disk space for the model artefacts, otherwise pipeline will fail !!\n",
    "* The pipeline downloads the model weights, loads them in memory to run the inference. "
   ]
  },
  {
   "cell_type": "code",
   "id": "57e3c1bb-8aa9-4b03-8f7b-02297ad452a4",
   "metadata": {
    "ExecuteTime": {
     "end_time": "2025-08-16T13:40:11.795814Z",
     "start_time": "2025-08-16T13:40:10.647737Z"
    }
   },
   "source": [
    "from transformers import pipeline\n",
    "\n",
    "# Specify the task\n",
    "TASK = \"summarization\"\n",
    "\n",
    "summarization_pipeline = pipeline(TASK,model = MODEL_ABSTRACTIVE, max_new_tokens=100)"
   ],
   "outputs": [
    {
     "name": "stderr",
     "output_type": "stream",
     "text": [
      "Device set to use cpu\n"
     ]
    }
   ],
   "execution_count": 7
  },
  {
   "cell_type": "code",
   "id": "a6a0ad6d-75f7-4c53-9fae-38b500341833",
   "metadata": {
    "ExecuteTime": {
     "end_time": "2025-08-16T13:41:53.137648Z",
     "start_time": "2025-08-16T13:41:51.565430Z"
    }
   },
   "source": [
    "%%time\n",
    "\n",
    "summarization_pipeline(text)[0]['summary_text']"
   ],
   "outputs": [
    {
     "name": "stdout",
     "output_type": "stream",
     "text": [
      "CPU times: total: 6.09 s\n",
      "Wall time: 1.55 s\n"
     ]
    },
    {
     "data": {
      "text/plain": [
       "\"Imagine a symphony of vibrant vegetables, a chorus of juicy fruits, and a rhythm of whole grains and lean protein – that's the melody of a healthy diet . Let leafy greens be your verdant bassline, their antioxidants dancing on your tongue .\""
      ]
     },
     "execution_count": 9,
     "metadata": {},
     "output_type": "execute_result"
    }
   ],
   "execution_count": 9
  },
  {
   "cell_type": "code",
   "execution_count": null,
   "id": "1e597b6f-1156-40f8-8147-a5741e53f61a",
   "metadata": {},
   "outputs": [],
   "source": []
  }
 ],
 "metadata": {
  "kernelspec": {
   "display_name": "Python 3 (ipykernel)",
   "language": "python",
   "name": "python3"
  },
  "language_info": {
   "codemirror_mode": {
    "name": "ipython",
    "version": 3
   },
   "file_extension": ".py",
   "mimetype": "text/x-python",
   "name": "python",
   "nbconvert_exporter": "python",
   "pygments_lexer": "ipython3",
   "version": "3.12.9"
  }
 },
 "nbformat": 4,
 "nbformat_minor": 5
}
