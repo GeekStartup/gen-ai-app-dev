{
 "cells": [
  {
   "cell_type": "markdown",
   "id": "30ba818c-cebb-4c09-9387-60e52a60ddc8",
   "metadata": {},
   "source": [
    "### Utility function to plot bar charts"
   ]
  },
  {
   "cell_type": "code",
   "execution_count": 1,
   "id": "2ee2fcd1-fb16-430c-a5ee-1ffadda01b0e",
   "metadata": {},
   "outputs": [],
   "source": [
    "import matplotlib.pyplot as plt\n",
    "import numpy as np\n",
    "\n",
    "       \n",
    "def plot_quantizations(original, quantized_32, quantized_8, quantized_4):\n",
    "\n",
    "    x = np.arange(len(original))\n",
    "\n",
    "    width = 0.2\n",
    "    \n",
    "    # Create the plot\n",
    "    fig, ax = plt.subplots()\n",
    "\n",
    "    # Plotting the bars for each array with offsets to group them\n",
    "    bars1 = ax.bar(x - width, original, width, label='Original', color='b')\n",
    "    bars2 = ax.bar(x, quantized_8, width, label='INT8', color='g')\n",
    "    bars3 = ax.bar(x + width, quantized_4, width, label='INT4', color='r')\n",
    "\n",
    "    # Add some text for labels, title, and custom x-axis tick labels, etc.\n",
    "    # ax.set_xlabel('Category')\n",
    "    ax.set_ylabel('Values')\n",
    "    ax.set_title('Dequantized values ')\n",
    "    ax.set_xticks(x)\n",
    "    # ax.set_xticklabels(labels)\n",
    "    ax.legend()\n",
    "\n",
    "    # Add legend\n",
    "    plt.legend()\n",
    "\n",
    "    # Show the plot\n",
    "    plt.show()"
   ]
  },
  {
   "cell_type": "markdown",
   "id": "fafc66a5-fa37-4d59-a377-563c2bf19c59",
   "metadata": {},
   "source": [
    "# Uniform quantization\n",
    "\n",
    "Uniform quantization is a simple and efficient approach but may introduce quantization errors.\n",
    "\n",
    "* Uses a single scaling factor for all values in the input array.\n",
    "* Does not use an offset (a.k.a. zero step)\n",
    "* The quantization range is determined by the minimum and maximum values of the input array."
   ]
  },
  {
   "cell_type": "code",
   "execution_count": 2,
   "id": "27168035-89d1-455b-b1ee-3d8637f8dd65",
   "metadata": {},
   "outputs": [],
   "source": [
    "\n",
    "\n",
    "def uniform_quantize(array, num_bits):\n",
    "    # Determine the range of the array\n",
    "    min_val, max_val = np.min(array), np.max(array)\n",
    "    \n",
    "    # Calculate the quantization step size\n",
    "    q_levels = 2 ** num_bits  # Number of quantization levels\n",
    "    step_size = (max_val - min_val) / (q_levels - 1)\n",
    "    \n",
    "    # Apply uniform quantization\n",
    "    quantized_array = np.round((array - min_val) / step_size)\n",
    "    \n",
    "    # Dequantize to map back to original value range\n",
    "    dequantized_array = quantized_array * step_size + min_val\n",
    "    \n",
    "    return quantized_array, dequantized_array\n",
    "    \n",
    "\n"
   ]
  },
  {
   "cell_type": "markdown",
   "id": "f08f7d1f-a3ca-4d10-88f6-dfcc74063dcb",
   "metadata": {},
   "source": [
    "### Quantize & De-Quantize\n",
    "This is to show the loss of accuracy due to quantization"
   ]
  },
  {
   "cell_type": "code",
   "execution_count": 3,
   "id": "346cd46e-70f5-4bd7-9f31-2f6f27e76136",
   "metadata": {},
   "outputs": [
    {
     "name": "stdout",
     "output_type": "stream",
     "text": [
      "32 bit :  [-0.2 -0.6  0.1  0.4  0.5  0.7]\n",
      "8  bit :  [-0.20235294 -0.6         0.09843137  0.39921569  0.50117647  0.7       ]\n",
      "4  bit :  [-0.16666667 -0.6         0.09333333  0.44        0.52666667  0.7       ]\n"
     ]
    },
    {
     "data": {
      "image/png": "[encoded data removed]",
      "text/plain": [
       "<Figure size 640x480 with 1 Axes>"
      ]
     },
     "metadata": {},
     "output_type": "display_data"
    }
   ],
   "source": [
    "original = np.array([-0.2, -0.6,0.1, 0.4, 0.5, 0.7])\n",
    "\n",
    "# 32 bit quantization \n",
    "x_quantized_32, x_dequantized_32 = uniform_quantize(original, num_bits=32)\n",
    "print(\"32 bit : \", x_dequantized_32)\n",
    "\n",
    "# 8 bit quantization \n",
    "x_quantized_8, x_dequantized_8 = uniform_quantize(original, num_bits=8)\n",
    "print(\"8  bit : \", x_dequantized_8)\n",
    "\n",
    "# 4 bit quantization \n",
    "x_quantized_4, x_dequantized_4 = uniform_quantize(original, num_bits=4)\n",
    "print(\"4  bit : \", x_dequantized_4)\n",
    "\n",
    "plot_quantizations(original, x_dequantized_32, x_dequantized_8, x_dequantized_4)"
   ]
  },
  {
   "cell_type": "markdown",
   "id": "2911e4a9-785a-42ce-b28f-eb1a93cdbb03",
   "metadata": {},
   "source": [
    "# Affine quantization\n",
    "\n",
    "Scaling quantization or affine quantization is more flexible and can potentially achieve better accuracy, but it requires more computation to determine the optimal scaling parameters.\n",
    "\n",
    "* Uses a scaling factor and offset (zero point) for each value in the input array.\n",
    "* The scaling factor is calculated based on the quantization range and the offset.\n",
    "* The offset is added to the input values before scaling and subtracted from the quantized values after scaling.\n",
    "\n",
    "This additional flexibility in affine quantization allows it to better adapt to the distribution of values in the input array, potentially improving accuracy for some models. However, it also requires additional computational overhead during inference."
   ]
  },
  {
   "cell_type": "code",
   "execution_count": 4,
   "id": "07e94e1b-335c-4107-9d33-1055906d63be",
   "metadata": {},
   "outputs": [],
   "source": [
    "def affine_quantize(array, num_bits):\n",
    "    # Determine the range of the array\n",
    "    min_val, max_val = np.min(array), np.max(array)\n",
    "    \n",
    "    # Calculate the number of quantization levels\n",
    "    q_levels = 2 ** num_bits  # Number of quantization levels\n",
    "\n",
    "    # Calculate the scale (step size) and zero-point (shift)\n",
    "    scale = (max_val - min_val) / (q_levels - 1)\n",
    "    zero_point = np.round(-min_val / scale)\n",
    "    \n",
    "    # Apply affine quantization\n",
    "    quantized_array = np.round((array / scale) + zero_point)\n",
    "    \n",
    "    # Dequantize to map back to original value range for display\n",
    "    dequantized_array = (quantized_array - zero_point) * scale\n",
    "    \n",
    "    return quantized_array, dequantized_array"
   ]
  },
  {
   "cell_type": "code",
   "execution_count": 5,
   "id": "96504d8d-031e-44ff-b4ef-5a396ca89bfb",
   "metadata": {},
   "outputs": [
    {
     "name": "stdout",
     "output_type": "stream",
     "text": [
      "32 bit :  [-0.2 -0.6  0.1  0.4  0.5  0.7]\n",
      "8  bit :  [-0.19882353 -0.60156863  0.10196078  0.39764706  0.49960784  0.69843137]\n",
      "4  bit :  [-0.17333333 -0.60666667  0.08666667  0.43333333  0.52        0.69333333]\n"
     ]
    },
    {
     "data": {
      "image/png": "[encoded data removed]",
      "text/plain": [
       "<Figure size 640x480 with 1 Axes>"
      ]
     },
     "metadata": {},
     "output_type": "display_data"
    }
   ],
   "source": [
    "original = np.array([-0.2, -0.6,0.1, 0.4, 0.5, 0.7])\n",
    "\n",
    "# 32 bit quantization \n",
    "x_quantized_32, x_dequantized_32 = affine_quantize(original, num_bits=32)\n",
    "print(\"32 bit : \", x_dequantized_32)\n",
    "\n",
    "# 8 bit quantization \n",
    "x_quantized_8, x_dequantized_8 = affine_quantize(original, num_bits=8)\n",
    "print(\"8  bit : \", x_dequantized_8)\n",
    "\n",
    "# 4 bit quantization \n",
    "x_quantized_4, x_dequantized_4 = affine_quantize(original, num_bits=4)\n",
    "print(\"4  bit : \", x_dequantized_4)\n",
    "\n",
    "plot_quantizations(original, x_dequantized_32, x_dequantized_8, x_dequantized_4)"
   ]
  },
  {
   "cell_type": "code",
   "execution_count": null,
   "id": "360186d7-a962-4f6f-b531-f42fd96cc423",
   "metadata": {},
   "outputs": [],
   "source": []
  }
 ],
 "metadata": {
  "kernelspec": {
   "display_name": "Python 3 (ipykernel)",
   "language": "python",
   "name": "python3"
  },
  "language_info": {
   "codemirror_mode": {
    "name": "ipython",
    "version": 3
   },
   "file_extension": ".py",
   "mimetype": "text/x-python",
   "name": "python",
   "nbconvert_exporter": "python",
   "pygments_lexer": "ipython3",
   "version": "3.12.4"
  }
 },
 "nbformat": 4,
 "nbformat_minor": 5
}
