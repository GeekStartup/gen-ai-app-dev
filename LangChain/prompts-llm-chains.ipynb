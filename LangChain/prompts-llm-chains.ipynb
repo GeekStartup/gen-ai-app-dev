{
 "cells": [
  {
   "cell_type": "markdown",
   "id": "7071a6fa",
   "metadata": {},
   "source": [
    "# LLM and Chains\n",
    "\n",
    "Requires installation of  \n",
    "\n",
    "pip install -U langchain-openai\n",
    "\n"
   ]
  },
  {
   "cell_type": "code",
   "execution_count": 1,
   "id": "12cf7b71",
   "metadata": {},
   "outputs": [],
   "source": [
    "# !pip install -U langchain\n",
    "\n",
    "# !pip install openai\n",
    "# !pip install -U langchain-openai\n",
    "\n",
    "# !pip install -U openai\n",
    "\n",
    "# !pip install -U langchain-openai"
   ]
  },
  {
   "cell_type": "markdown",
   "id": "321edcab",
   "metadata": {},
   "source": [
    "## Setup the environment variable for API access\n",
    "\n",
    "#### NOTE\n",
    "You MUST change the path to your own environment file"
   ]
  },
  {
   "cell_type": "code",
   "execution_count": 2,
   "id": "6d1ecad0",
   "metadata": {},
   "outputs": [
    {
     "data": {
      "text/plain": [
       "True"
      ]
     },
     "execution_count": 2,
     "metadata": {},
     "output_type": "execute_result"
    }
   ],
   "source": [
    "from dotenv import load_dotenv\n",
    "import os\n",
    "\n",
    "import warnings\n",
    "\n",
    "warnings.filterwarnings(\"ignore\")\n",
    "\n",
    "# Load the file that contains the API keys\n",
    "load_dotenv('C:\\\\Users\\\\raj\\\\.jupyter\\\\.env')"
   ]
  },
  {
   "cell_type": "markdown",
   "id": "6070673f",
   "metadata": {},
   "source": [
    "## 1. LLM : HuggingFaceHub\n",
    "\n",
    "This will use the model hosting on the Hugging Face portal\n",
    "\n",
    "https://huggingface.co/docs/huggingface_hub/guides/inference#legacy-inferenceapi-client.\n",
    "\n",
    "Class\n",
    "\n",
    "https://huggingface.co/docs/huggingface_hub/v0.20.2/en/package_reference/inference_client#huggingface_hub.InferenceClient\n",
    "\n",
    "Supported tasks\n",
    "\n",
    "https://huggingface.co/docs/huggingface_hub/guides/inference#supported-tasks\n",
    "\n",
    "NOTE:\n",
    "\n",
    "Sometimes API calls fail due to heavy usage of the model on HF. If you get a invocation error, try a again/few times."
   ]
  },
  {
   "cell_type": "code",
   "execution_count": 9,
   "id": "c9f6c3e3",
   "metadata": {},
   "outputs": [
    {
     "name": "stdout",
     "output_type": "stream",
     "text": [
      "Token will not been saved to git credential helper. Pass `add_to_git_credential=True` if you want to set the git credential as well.\n",
      "Token is valid (permission: write).\n",
      "Your token has been saved to C:\\Users\\raj\\.cache\\huggingface\\token\n",
      "Login successful\n",
      "\n",
      "\n",
      "Answer: 1977\n",
      "\n",
      "A Star Wars saga is a series of films in the Star Wars franchise. It began with the release of the original trilogy, comprising the films Star Wars (1977), The Empire Strikes Back (1980), and Return of the Jedi (1983). The prequel trilogy, comprising the films The Phantom Menace (1999), Attack of the Clones (2002), and Revenge of the Sith (2005), was released between 1999 and 2005. The sequel trilogy, consisting of The Force Awakens (2015), The Last Jedi (2017), and The Rise of Skywalker (2019), was released from 2015 to 2019. The anthology films Rogue One (2016) and Solo (2018) were released in 2016 and 2018, respectively.\n",
      "\n",
      "The first Star Wars movie was released in 1977.\n"
     ]
    }
   ],
   "source": [
    "from langchain.llms import HuggingFaceHub\n",
    "from langchain_community.llms import HuggingFaceEndpoint\n",
    "\n",
    "# model_id = 'google/flan-t5-xxl'\n",
    "model_id = 'mistralai/Mistral-7B-v0.1'\n",
    "\n",
    "prompt = \"In what year was the first first Star Wars movie released?\"\n",
    "\n",
    "llm_hf = HuggingFaceHub(\n",
    "    repo_id=model_id, \n",
    "    model_kwargs={ \"temperature\": \"0.9\" }\n",
    ")\n",
    "\n",
    "llm_hf = HuggingFaceEndpoint(\n",
    "    repo_id=model_id, \n",
    "    # model_kwargs={ \"temperature\": \"0.9\" }\n",
    ")\n",
    "\n",
    "print(llm_hf.invoke(prompt))"
   ]
  },
  {
   "cell_type": "markdown",
   "id": "6eaa99e9",
   "metadata": {},
   "source": [
    "## 2. LLMChain\n",
    "\n",
    "Chains refer to sequences of calls - whether to an LLM, a tool, or a data preprocessing step\n",
    "\n",
    "https://python.langchain.com/docs/modules/chains\n",
    "\n",
    "https://api.python.langchain.com/en/stable/chains/langchain.chains.llm.LLMChain.html#langchain.chains.llm.LLMChain\n",
    "\n",
    "https://api.python.langchain.com/en/latest/llms/langchain_community.llms.huggingface_endpoint.HuggingFaceEndpoint.html"
   ]
  },
  {
   "cell_type": "code",
   "execution_count": 10,
   "id": "eaf75382",
   "metadata": {},
   "outputs": [],
   "source": [
    "from langchain.prompts import PromptTemplate\n",
    "\n",
    "superbowl_template = \"who won super bowl in year {year}?\"\n",
    "\n",
    "prompt_template = PromptTemplate(\n",
    "    template = superbowl_template,\n",
    "    input_variables = [\"year\"]\n",
    ")"
   ]
  },
  {
   "cell_type": "code",
   "execution_count": 11,
   "id": "db74fa3a",
   "metadata": {},
   "outputs": [],
   "source": [
    "from langchain import LLMChain\n",
    "\n",
    "# Create a simple chain\n",
    "chain = LLMChain(\n",
    "            prompt = prompt_template, \n",
    "            llm = llm_hf,\n",
    "            output_key = \"superbowl_winner\"\n",
    "        )"
   ]
  },
  {
   "cell_type": "code",
   "execution_count": 12,
   "id": "c333c04d-b36d-48b2-b01d-7bfd3810ed5c",
   "metadata": {},
   "outputs": [],
   "source": [
    "# Both the lines will yield the same result\n",
    "\n",
    "response = chain.invoke(1977)    \n",
    "\n",
    "# response = chain.invoke({\"year\": 1977}))"
   ]
  },
  {
   "cell_type": "code",
   "execution_count": 13,
   "id": "87175c44-5b99-4839-b44b-703d523bf6d8",
   "metadata": {
    "scrolled": true
   },
   "outputs": [
    {
     "data": {
      "text/plain": [
       "{'year': 1977,\n",
       " 'superbowl_winner': '\\n\\nLos Angeles Rams\\n\\nWho won Super Bowl 1977?\\n\\nPittsburgh Steelers\\n\\nWhat year was the Super Bowl 1977?\\n\\nSuper Bowl X\\n\\nWho won Super Bowl 1978?\\n\\nPittsburgh Steelers\\n\\n## Who won the Super Bowl in 1977?\\n\\nLos Angeles Rams\\n\\n## Who won the Super Bowl in 1979?\\n\\nPittsburgh Steelers\\n\\n## Who won the Super Bowl in 1978?\\n\\nSuper Bowl XIII (XIII) was an American football game played on January 21, 1979 at the Orange Bowl in Miami, Florida to decide the National Football League (NFL) champion following the 1978 NFL season.\\n\\n## Who won the Super Bowl in 1977?\\n\\nThe Los Angeles Rams won their first and only Super Bowl victory on January 15, 1979, beating the Pittsburgh Steelers 31–19 in Super Bowl XIV.\\n\\n## Who won the Super Bowl in 1979?\\n\\nPittsburgh Steelers\\n\\n## Who won the Super Bowl in 1980?\\n\\nPittsburgh Steelers\\n\\n## Who won Super Bowl 1978?\\n\\nPittsburgh Steelers\\n\\n## Who won the Super Bowl in 1976?\\n\\nThe 1976 Super Bowl was the sixth Super Bowl in the National Football League’s (NFL) 70-year history. The American Football Conference (AFC) champion Oakland Raiders defeated the National Football Conference (NFC) champion Minnesota Vikings by the score of 32–14.\\n\\n## Who won the Super Bowl in 1976?\\n\\nOakland Raiders\\n\\n## Who won Super Bowl 1982?\\n\\nPittsburgh Steelers\\n\\n## Who won Super Bowl 1981?\\n\\nPittsburgh Steelers\\n\\n## Who won Super Bowl in 1975?\\n\\nThe 1975 Super Bowl was the ninth Super Bowl in the National Football League’s (NFL) 70-year history. The National Football Conference (NFC) champion Dallas Cowboys defeated the American Football Conference'}"
      ]
     },
     "execution_count": 13,
     "metadata": {},
     "output_type": "execute_result"
    }
   ],
   "source": [
    "response "
   ]
  },
  {
   "cell_type": "markdown",
   "id": "a73c7e8e",
   "metadata": {},
   "source": [
    "## 3. Simple LLM Sequential Chain\n",
    "\n",
    "Use the HuggingFace model google/flan-t5-xxl to answer a question. The send the question/answer pair to OpenAI/gpt3.5 to verify if the answer is correct or not.\n",
    "\n",
    "https://api.python.langchain.com/en/stable/chains/langchain.chains.sequential.SimpleSequentialChain.html#langchain.chains.sequential.SimpleSequentialChain"
   ]
  },
  {
   "cell_type": "markdown",
   "id": "ed892043",
   "metadata": {},
   "source": [
    "### Create a LLMChain with HF model"
   ]
  },
  {
   "cell_type": "code",
   "execution_count": 14,
   "id": "5de530d8",
   "metadata": {},
   "outputs": [],
   "source": [
    "# Template for HF model\n",
    "prompt_template_1 = PromptTemplate.from_template(\n",
    "    template=\"define {term}\", \n",
    "    inputs=['term']\n",
    ")\n",
    "\n",
    "# Create the LLM chain object\n",
    "llm_chain_1 = LLMChain(\n",
    "    llm = llm_hf,\n",
    "    prompt = prompt_template_1,\n",
    "    output_key = \"definition\"\n",
    ")\n",
    "\n",
    "## example\n",
    "# llm_chain_1.invoke(\"momentum\")"
   ]
  },
  {
   "cell_type": "markdown",
   "id": "5a38a4df",
   "metadata": {},
   "source": [
    "### Create the OpenAI LLM\n",
    "\n",
    "LLM\n",
    "\n",
    "https://python.langchain.com/docs/integrations/platforms/openai"
   ]
  },
  {
   "cell_type": "code",
   "execution_count": 15,
   "id": "adb0b0b1",
   "metadata": {},
   "outputs": [],
   "source": [
    "from langchain_openai import OpenAI\n",
    "\n",
    "# default \"gpt-3.5-turbo\"\n",
    "llm_openai = OpenAI()"
   ]
  },
  {
   "cell_type": "code",
   "execution_count": 16,
   "id": "ebc1bd3c",
   "metadata": {},
   "outputs": [],
   "source": [
    "# Template for OpenAI\n",
    "prompt_template_2 = PromptTemplate.from_template(\n",
    "    template=\"\"\"rate the accuracy of the definition on a scale of (0 to 5).\n",
    "                Definition of :  {definition}\"\"\", \n",
    "    inputs=['definition']\n",
    ")\n",
    "\n",
    "## The following template if used with SimpleSequentialChain will FAIL\n",
    "## Added for demonstration purposes only - to try uncomment the code below\n",
    "# prompt_template_openai =PromptTemplate.from_template(template=\"\"\"\n",
    "# rate the accuracy of the definition on a scale of (0 to 5).\n",
    "# Definition of {term}:  {definition}\"\"\", inputs=['definition','term'])\n",
    "\n",
    "\n",
    "llm_chain_2 = LLMChain(\n",
    "    llm = llm_openai,\n",
    "    prompt = prompt_template_2,\n",
    "    output_key = \"score\"\n",
    ")"
   ]
  },
  {
   "cell_type": "code",
   "execution_count": 17,
   "id": "930371ea",
   "metadata": {},
   "outputs": [],
   "source": [
    "from langchain.chains import SimpleSequentialChain\n",
    "\n",
    "simple_sequential_chain = SimpleSequentialChain(\n",
    "    chains=[llm_chain_1, llm_chain_2],\n",
    "    verbose = True,\n",
    ")"
   ]
  },
  {
   "cell_type": "code",
   "execution_count": 18,
   "id": "37eea656",
   "metadata": {},
   "outputs": [
    {
     "name": "stdout",
     "output_type": "stream",
     "text": [
      "\n",
      "\n",
      "\u001b[1m> Entering new SimpleSequentialChain chain...\u001b[0m\n",
      "\u001b[36;1m\u001b[1;3m to be m = I/r^2\n",
      "\n",
      "where I is the moment of inertia of the object and r is the radius.\n",
      "\n",
      "The moment of inertia of an object is the inertia of the object times its distance from the rotation axis.\n",
      "\n",
      "For example, consider a sphere. The moment of inertia of a sphere is:\n",
      "\n",
      "I = (2/3)mR^2\n",
      "\n",
      "where m is the mass of the sphere and R is the radius.\n",
      "\n",
      "The moment of inertia of a cube is:\n",
      "\n",
      "I = (2/3)mR^2\n",
      "\n",
      "where m is the mass of the cube and R is the radius.\n",
      "\n",
      "The moment of inertia of a cylinder is:\n",
      "\n",
      "I = (2/3)mR^2\n",
      "\n",
      "where m is the mass of the cylinder and R is the radius.\n",
      "\n",
      "The moment of inertia of a sphere is:\n",
      "\n",
      "I = (2/3)mR^2\n",
      "\n",
      "where m is the mass of the sphere and R is the radius.\n",
      "\n",
      "The moment of inertia of a cube is:\n",
      "\n",
      "I = (2/3)mR^2\n",
      "\n",
      "where m is the mass of the cube and R is the radius.\n",
      "\n",
      "The moment of inertia of a cylinder is:\n",
      "\n",
      "I = (2/3)mR^2\n",
      "\n",
      "where m is the mass of the cylinder and R is the radius.\n",
      "\n",
      "The moment of inertia of a sphere is:\n",
      "\n",
      "I = (2/3)mR^2\n",
      "\n",
      "where m is the mass of the sphere and R is the radius.\n",
      "\n",
      "The moment of inertia of a cube is:\n",
      "\n",
      "I = (2/3)mR^2\n",
      "\n",
      "where m is the mass of the cube and R is the radius.\n",
      "\n",
      "The moment of inertia of a cylinder is:\n",
      "\n",
      "I = (2/3)mR^2\n",
      "\n",
      "where m is the mass of the cylinder and R is the radius.\n",
      "\n",
      "The moment of inertia of a sphere is:\n",
      "\n",
      "I = (2/3)mR^2\n",
      "\n",
      "where m is the mass of the sphere and R is the radius.\n",
      "\n",
      "The moment of inertia of a cube is:\n",
      "\n",
      "I\u001b[0m\n",
      "\u001b[33;1m\u001b[1;3m = (2/3)mR^2\n",
      "\n",
      "where m is the mass of the cube and R is the radius.\n",
      "\n",
      "The moment of inertia of a cylinder is:\n",
      "\n",
      "I = (2/3)mR^2\n",
      "\n",
      "where m is the mass of the cylinder and R is the radius.\n",
      "\n",
      "Rating: 4. The definition accurately describes the concept of moment of inertia and its relationship to mass and distance from the rotation axis. However, it could be improved by clarifying that the moment of inertia is a measure of an object's resistance to rotational motion and that the formula given is a simplified version that applies to certain shapes.\u001b[0m\n",
      "\n",
      "\u001b[1m> Finished chain.\u001b[0m\n"
     ]
    }
   ],
   "source": [
    "# Input = String value if there is ONLY one input variable\n",
    "# Input = Dictionary if there are multiple input variables\n",
    "\n",
    "response = simple_sequential_chain.invoke(\"moment of interia\")"
   ]
  },
  {
   "cell_type": "code",
   "execution_count": null,
   "id": "3f32ad4d",
   "metadata": {},
   "outputs": [],
   "source": [
    "print(response)"
   ]
  },
  {
   "cell_type": "code",
   "execution_count": null,
   "id": "501b8af2-3580-4729-9a87-0e337f71c234",
   "metadata": {},
   "outputs": [],
   "source": []
  }
 ],
 "metadata": {
  "kernelspec": {
   "display_name": "Python 3 (ipykernel)",
   "language": "python",
   "name": "python3"
  },
  "language_info": {
   "codemirror_mode": {
    "name": "ipython",
    "version": 3
   },
   "file_extension": ".py",
   "mimetype": "text/x-python",
   "name": "python",
   "nbconvert_exporter": "python",
   "pygments_lexer": "ipython3",
   "version": "3.12.4"
  }
 },
 "nbformat": 4,
 "nbformat_minor": 5
}
