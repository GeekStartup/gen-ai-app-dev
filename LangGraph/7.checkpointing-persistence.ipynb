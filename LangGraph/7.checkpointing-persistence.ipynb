{
 "cells": [
  {
   "cell_type": "markdown",
   "id": "137615e8-b545-4336-89dc-1689df5cae28",
   "metadata": {},
   "source": [
    "# Checkpoints & persistence\n",
    "https://langchain-ai.github.io/langgraph/concepts/persistence/#checkpoints\n",
    "\n",
    "* Checkpointer config is used at compile time. Checkpoint requires one or more of following keys:\n",
    "     - keys: ['thread_id', 'checkpoint_ns', 'checkpoint_id']\n",
    "* Thread id is passed at run time\n",
    "\n",
    "### Checkpointer memory:\n",
    "* In memory (for debugging/testing)\n",
    "* SQLLite\n",
    "* PostgreSQL\n",
    "* Custom : conforms to BaseCheckpointSaver\n",
    "\n",
    "### Checkpointer benefits\n",
    "1. Fault tolerance & Recovery\n",
    "2. Cost & efficiency optimization\n",
    "3. Reproducability / Time travel\n",
    "4. Long running tasks\n",
    "\n",
    "\n",
    "**Note**\n",
    "In case you see unexpected results - retstart kernel and run all cells"
   ]
  },
  {
   "cell_type": "code",
   "execution_count": 1,
   "id": "ea526f08-a230-4bd4-8d94-90b670e940d8",
   "metadata": {},
   "outputs": [
    {
     "data": {
      "image/png": "[encoded data removed]",
      "text/plain": [
       "<IPython.core.display.Image object>"
      ]
     },
     "metadata": {},
     "output_type": "display_data"
    },
    {
     "name": "stdout",
     "output_type": "stream",
     "text": [
      "Executed : node_a\n",
      "Executed : node_b\n"
     ]
    },
    {
     "data": {
      "text/plain": [
       "{'foo': 'a', 'bar': ['a', 'b']}"
      ]
     },
     "execution_count": 1,
     "metadata": {},
     "output_type": "execute_result"
    }
   ],
   "source": [
    "from langgraph.graph import StateGraph, START, END\n",
    "from langgraph.checkpoint.memory import InMemorySaver\n",
    "from typing import Annotated\n",
    "from typing_extensions import TypedDict\n",
    "from operator import add\n",
    "from IPython.display import Image, display\n",
    "\n",
    "# This is for JSON pretty print\n",
    "from IPython.display import JSON\n",
    "\n",
    "class State(TypedDict):\n",
    "    foo: str\n",
    "    bar: Annotated[list[str], add]\n",
    "\n",
    "# Overwrites the value in foo\n",
    "def node_a(state: State):\n",
    "    print(\"Executed : node_a\")\n",
    "    return {\"foo\": \"a\"}\n",
    "\n",
    "# Sets the bar = [value of foo] + [b]\n",
    "def node_b(state: State):\n",
    "    print(\"Executed : node_b\")\n",
    "    bar = [state[\"foo\"]] + [\"b\"]\n",
    "    return { \"bar\": bar}\n",
    "\n",
    "\n",
    "workflow = StateGraph(State)\n",
    "workflow.add_node(node_a)\n",
    "workflow.add_node(node_b)\n",
    "workflow.add_edge(START, \"node_a\")\n",
    "workflow.add_edge(\"node_a\", \"node_b\")\n",
    "workflow.add_edge(\"node_b\", END)\n",
    "\n",
    "# Setup the checkpointer @ compile time\n",
    "checkpointer = InMemorySaver()\n",
    "graph_compiled = workflow.compile(checkpointer=checkpointer)\n",
    "\n",
    "# Visualize\n",
    "display(Image(graph_compiled.get_graph().draw_mermaid_png()))\n",
    "\n",
    "# Invocation requires a thread_id in configuration\n",
    "config = {\"configurable\": {\"thread_id\": \"1\"}}\n",
    "\n",
    "# foo will be overwritten\n",
    "graph_compiled.invoke({\"foo\": \"X\"}, config)\n"
   ]
  },
  {
   "cell_type": "markdown",
   "id": "f5d72415-60a6-495b-b7da-1bdebb11836f",
   "metadata": {},
   "source": [
    "#### **Checkpoint** \n",
    "is a snapshot of the graph state saved at each super-step and is represented by StateSnapshot object with the following key properties:\n",
    "\n",
    "**config:** Config associated with this checkpoint.\n",
    "\n",
    "**metadata:** Metadata associated with this checkpoint.\n",
    "\n",
    "**values:** Values of the state channels at this point in time.\n",
    "\n",
    "**next:** A tuple of the node names to execute next in the graph.\n",
    "\n",
    "**tasks:** A tuple of PregelTask objects that contain information about next tasks to be executed. If the step was previously attempted, it will include error information. If a graph was interrupted dynamically from within a node, tasks will contain additional data associated with interrupts."
   ]
  },
  {
   "cell_type": "code",
   "execution_count": 2,
   "id": "d2a5fbd5-35ef-4cea-9749-fb7b87d19ddb",
   "metadata": {},
   "outputs": [],
   "source": [
    "# Utility for printing information in the snapshot\n",
    "def print_snapshot(snapshot):\n",
    "    print(f\"Step-{snapshot.metadata[\"step\"]}\")\n",
    "    print(f\"Next={snapshot.next}\")\n",
    "    print(f\"values={snapshot.values}\")\n",
    "\n",
    "    keys = snapshot.metadata.keys()\n",
    "    for key in keys:\n",
    "        print(f\"\\tmetadata[{key}] = {snapshot.metadata[key]}\")\n",
    "\n",
    "    print(f\"config={snapshot.config}\")\n",
    "    print(f\"parent_config={snapshot.parent_config}\")\n",
    "    print(f\"created_at={snapshot.created_at}\")\n"
   ]
  },
  {
   "cell_type": "markdown",
   "id": "c145d63d-9fbb-4ec3-9521-6eea2717d681",
   "metadata": {},
   "source": [
    "##### get_state"
   ]
  },
  {
   "cell_type": "code",
   "execution_count": 3,
   "id": "e8662346-2faa-48c4-8d10-d5f26d3e95ca",
   "metadata": {},
   "outputs": [
    {
     "name": "stdout",
     "output_type": "stream",
     "text": [
      "Step-2\n",
      "Next=()\n",
      "values={'foo': 'a', 'bar': ['a', 'b']}\n",
      "\tmetadata[source] = loop\n",
      "\tmetadata[step] = 2\n",
      "\tmetadata[parents] = {}\n",
      "\tmetadata[thread_id] = 1\n",
      "config={'configurable': {'thread_id': '1', 'checkpoint_ns': '', 'checkpoint_id': '1f0609d8-8bc7-69cc-8002-b8646ceaf390'}}\n",
      "parent_config={'configurable': {'thread_id': '1', 'checkpoint_ns': '', 'checkpoint_id': '1f0609d8-8bc5-6295-8001-05ccfcefe601'}}\n",
      "created_at=2025-07-14T10:30:16.867066+00:00\n"
     ]
    }
   ],
   "source": [
    "# Fetch the latest checkpoint using get_state\n",
    "# https://langchain-ai.github.io/langgraph/concepts/persistence/#get-state\n",
    "last_state = graph_compiled.get_state(config)\n",
    "\n",
    "print_snapshot(last_state)\n"
   ]
  },
  {
   "cell_type": "markdown",
   "id": "25261379-9004-4d8c-be62-ee52f9680738",
   "metadata": {},
   "source": [
    "### History\n",
    "https://langchain-ai.github.io/langgraph/reference/graphs/#langgraph.graph.state.CompiledStateGraph.get_state_history\n",
    "\n",
    "You can get the history of graph states by using the get_state_history. \n",
    "\n",
    "**Expected checkpoints for the graph above**\n",
    "- 4. checkpoint with the outputs of node_b {'foo': 'b', 'bar': ['a', 'b']} and no next nodes to be executed\n",
    "- 3. checkpoint with the outputs of node_a {'foo': 'a', 'bar': ['a']} and node_b as the next node to be executed\n",
    "- 2. checkpoint with the user input {'foo': '', 'bar': []} and node_a as the next node to be executed\n",
    "- 1. empty checkpoint with START as the next node to be executed"
   ]
  },
  {
   "cell_type": "markdown",
   "id": "4cee109d-06aa-45b3-8c09-c42bc1b9f58f",
   "metadata": {},
   "source": [
    "##### get_state_history()"
   ]
  },
  {
   "cell_type": "code",
   "execution_count": 4,
   "id": "ac3d223c-6a74-4f12-b4e1-301f39a6d8a0",
   "metadata": {},
   "outputs": [
    {
     "name": "stdout",
     "output_type": "stream",
     "text": [
      "Snapshot count = 4\n",
      "Step-2\n",
      "Next=()\n",
      "values={'foo': 'a', 'bar': ['a', 'b']}\n",
      "\tmetadata[source] = loop\n",
      "\tmetadata[step] = 2\n",
      "\tmetadata[parents] = {}\n",
      "\tmetadata[thread_id] = 1\n",
      "config={'configurable': {'thread_id': '1', 'checkpoint_ns': '', 'checkpoint_id': '1f0609d8-8bc7-69cc-8002-b8646ceaf390'}}\n",
      "parent_config={'configurable': {'thread_id': '1', 'checkpoint_ns': '', 'checkpoint_id': '1f0609d8-8bc5-6295-8001-05ccfcefe601'}}\n",
      "created_at=2025-07-14T10:30:16.867066+00:00\n",
      "-----------------------------------------------\n",
      "Step-1\n",
      "Next=('node_b',)\n",
      "values={'foo': 'a', 'bar': []}\n",
      "\tmetadata[source] = loop\n",
      "\tmetadata[step] = 1\n",
      "\tmetadata[parents] = {}\n",
      "\tmetadata[thread_id] = 1\n",
      "config={'configurable': {'thread_id': '1', 'checkpoint_ns': '', 'checkpoint_id': '1f0609d8-8bc5-6295-8001-05ccfcefe601'}}\n",
      "parent_config={'configurable': {'thread_id': '1', 'checkpoint_ns': '', 'checkpoint_id': '1f0609d8-8bc2-6afc-8000-d0fe5942170f'}}\n",
      "created_at=2025-07-14T10:30:16.866062+00:00\n",
      "-----------------------------------------------\n",
      "Step-0\n",
      "Next=('node_a',)\n",
      "values={'foo': 'X', 'bar': []}\n",
      "\tmetadata[source] = loop\n",
      "\tmetadata[step] = 0\n",
      "\tmetadata[parents] = {}\n",
      "\tmetadata[thread_id] = 1\n",
      "config={'configurable': {'thread_id': '1', 'checkpoint_ns': '', 'checkpoint_id': '1f0609d8-8bc2-6afc-8000-d0fe5942170f'}}\n",
      "parent_config={'configurable': {'thread_id': '1', 'checkpoint_ns': '', 'checkpoint_id': '1f0609d8-8bc0-63e8-bfff-1a5e78dccb35'}}\n",
      "created_at=2025-07-14T10:30:16.865049+00:00\n",
      "-----------------------------------------------\n",
      "Step--1\n",
      "Next=('__start__',)\n",
      "values={'bar': []}\n",
      "\tmetadata[source] = input\n",
      "\tmetadata[step] = -1\n",
      "\tmetadata[parents] = {}\n",
      "\tmetadata[thread_id] = 1\n",
      "config={'configurable': {'thread_id': '1', 'checkpoint_ns': '', 'checkpoint_id': '1f0609d8-8bc0-63e8-bfff-1a5e78dccb35'}}\n",
      "parent_config=None\n",
      "created_at=2025-07-14T10:30:16.864048+00:00\n",
      "-----------------------------------------------\n"
     ]
    }
   ],
   "source": [
    "# Requires thread_id or checkpoint_id to get the history\n",
    "def get_print_history(history):\n",
    "\n",
    "    print(f\"Snapshot count = {len(history)}\")\n",
    "\n",
    "    for snapshot in history:\n",
    "        print_snapshot(snapshot)\n",
    "        print(\"-----------------------------------------------\")\n",
    "\n",
    "history=list(graph_compiled.get_state_history(config))\n",
    "get_print_history(history)"
   ]
  },
  {
   "cell_type": "markdown",
   "id": "83cc1a6b-713d-420c-bc4f-3abdecd791d3",
   "metadata": {},
   "source": [
    "### Update the state\n",
    "https://langchain-ai.github.io/langgraph/concepts/persistence/#update-state\n",
    "\n",
    "You may update checkpoints (add) in the executed graph and run again from the point onwards"
   ]
  },
  {
   "cell_type": "markdown",
   "id": "fbf338d0-f694-43d9-a3ee-bbb09b9c9e99",
   "metadata": {},
   "source": [
    "##### Identify the step/checkpoint that you want to update"
   ]
  },
  {
   "cell_type": "code",
   "execution_count": 5,
   "id": "142b8075-64e7-4ba3-bf2a-759799e2a2d6",
   "metadata": {},
   "outputs": [
    {
     "name": "stdout",
     "output_type": "stream",
     "text": [
      "Next node = ('node_b',)\n",
      "Snapshot = {'foo': 'a', 'bar': []}\n"
     ]
    }
   ],
   "source": [
    "# Checkout the snapshot at step-1\n",
    "selected_state = history[1]\n",
    "print(f\"Next node = {selected_state.next}\")\n",
    "print(f\"Snapshot = {selected_state.values}\")"
   ]
  },
  {
   "cell_type": "markdown",
   "id": "49ba9335-0d7e-4cb2-8be5-c8cbb1a1a1f5",
   "metadata": {},
   "source": [
    "##### update_state()"
   ]
  },
  {
   "cell_type": "code",
   "execution_count": 6,
   "id": "b05bafb6-7b9f-4d95-a1ab-91c3ec55fff6",
   "metadata": {},
   "outputs": [
    {
     "name": "stdout",
     "output_type": "stream",
     "text": [
      "{'configurable': {'thread_id': '1', 'checkpoint_ns': '', 'checkpoint_id': '1f0609d8-8c7b-6bd8-8002-fc05601ffae4'}}\n"
     ]
    }
   ],
   "source": [
    "# Update the state of the graph, with new value and execute\n",
    "new_config = graph_compiled.update_state(selected_state.config, values={\"foo\": \"YYY\"})\n",
    "print(new_config)"
   ]
  },
  {
   "cell_type": "code",
   "execution_count": 7,
   "id": "77236955-da17-4d3c-ab88-25b665826cc0",
   "metadata": {},
   "outputs": [
    {
     "name": "stdout",
     "output_type": "stream",
     "text": [
      "Snapshot count = 5\n",
      "Step-2\n",
      "Next=('node_b',)\n",
      "values={'foo': 'YYY', 'bar': []}\n",
      "\tmetadata[source] = update\n",
      "\tmetadata[step] = 2\n",
      "\tmetadata[parents] = {}\n",
      "\tmetadata[thread_id] = 1\n",
      "config={'configurable': {'thread_id': '1', 'checkpoint_ns': '', 'checkpoint_id': '1f0609d8-8c7b-6bd8-8002-fc05601ffae4'}}\n",
      "parent_config={'configurable': {'thread_id': '1', 'checkpoint_ns': '', 'checkpoint_id': '1f0609d8-8bc5-6295-8001-05ccfcefe601'}}\n",
      "created_at=2025-07-14T10:30:16.940847+00:00\n",
      "-----------------------------------------------\n",
      "Step-2\n",
      "Next=()\n",
      "values={'foo': 'a', 'bar': ['a', 'b']}\n",
      "\tmetadata[source] = loop\n",
      "\tmetadata[step] = 2\n",
      "\tmetadata[parents] = {}\n",
      "\tmetadata[thread_id] = 1\n",
      "config={'configurable': {'thread_id': '1', 'checkpoint_ns': '', 'checkpoint_id': '1f0609d8-8bc7-69cc-8002-b8646ceaf390'}}\n",
      "parent_config={'configurable': {'thread_id': '1', 'checkpoint_ns': '', 'checkpoint_id': '1f0609d8-8bc5-6295-8001-05ccfcefe601'}}\n",
      "created_at=2025-07-14T10:30:16.867066+00:00\n",
      "-----------------------------------------------\n",
      "Step-1\n",
      "Next=('node_b',)\n",
      "values={'foo': 'a', 'bar': []}\n",
      "\tmetadata[source] = loop\n",
      "\tmetadata[step] = 1\n",
      "\tmetadata[parents] = {}\n",
      "\tmetadata[thread_id] = 1\n",
      "config={'configurable': {'thread_id': '1', 'checkpoint_ns': '', 'checkpoint_id': '1f0609d8-8bc5-6295-8001-05ccfcefe601'}}\n",
      "parent_config={'configurable': {'thread_id': '1', 'checkpoint_ns': '', 'checkpoint_id': '1f0609d8-8bc2-6afc-8000-d0fe5942170f'}}\n",
      "created_at=2025-07-14T10:30:16.866062+00:00\n",
      "-----------------------------------------------\n",
      "Step-0\n",
      "Next=('node_a',)\n",
      "values={'foo': 'X', 'bar': []}\n",
      "\tmetadata[source] = loop\n",
      "\tmetadata[step] = 0\n",
      "\tmetadata[parents] = {}\n",
      "\tmetadata[thread_id] = 1\n",
      "config={'configurable': {'thread_id': '1', 'checkpoint_ns': '', 'checkpoint_id': '1f0609d8-8bc2-6afc-8000-d0fe5942170f'}}\n",
      "parent_config={'configurable': {'thread_id': '1', 'checkpoint_ns': '', 'checkpoint_id': '1f0609d8-8bc0-63e8-bfff-1a5e78dccb35'}}\n",
      "created_at=2025-07-14T10:30:16.865049+00:00\n",
      "-----------------------------------------------\n",
      "Step--1\n",
      "Next=('__start__',)\n",
      "values={'bar': []}\n",
      "\tmetadata[source] = input\n",
      "\tmetadata[step] = -1\n",
      "\tmetadata[parents] = {}\n",
      "\tmetadata[thread_id] = 1\n",
      "config={'configurable': {'thread_id': '1', 'checkpoint_ns': '', 'checkpoint_id': '1f0609d8-8bc0-63e8-bfff-1a5e78dccb35'}}\n",
      "parent_config=None\n",
      "created_at=2025-07-14T10:30:16.864048+00:00\n",
      "-----------------------------------------------\n"
     ]
    }
   ],
   "source": [
    "# Checkpoint @ index 4 for Step-2 will override the output at Step-2 @ index \n",
    "history=list(graph_compiled.get_state_history(config))\n",
    "get_print_history(history)"
   ]
  },
  {
   "cell_type": "markdown",
   "id": "f620cffc-076a-44b7-8afb-a65651a32290",
   "metadata": {},
   "source": [
    "### Replay from sanpshot\n",
    "https://langchain-ai.github.io/langgraph/concepts/persistence/#replay\n",
    "\n",
    "You can replay th egraph from a snapshot onwards\n",
    "\n",
    "#### Time travel\n",
    "https://langchain-ai.github.io/langgraph/how-tos/human_in_the_loop/time-travel/\n",
    "\n",
    "What is happening?\n",
    "* We updated the state after *node_a* [foo = 'YYY' overwrote 'a']\n",
    "* Next node to be executed is node_b\n",
    "* After the execution of node_b the final state is {'foo': 'YYY', 'bar': ['YYY', 'b']}"
   ]
  },
  {
   "cell_type": "code",
   "execution_count": 8,
   "id": "4132f01c-1302-44b0-9aea-252a103719e5",
   "metadata": {},
   "outputs": [
    {
     "name": "stdout",
     "output_type": "stream",
     "text": [
      "new_config={'configurable': {'thread_id': '1', 'checkpoint_ns': '', 'checkpoint_id': '1f0609d8-8c7b-6bd8-8002-fc05601ffae4'}}\n",
      "Executed : node_b\n"
     ]
    },
    {
     "data": {
      "text/plain": [
       "{'foo': 'YYY', 'bar': ['YYY', 'b']}"
      ]
     },
     "execution_count": 8,
     "metadata": {},
     "output_type": "execute_result"
    }
   ],
   "source": [
    "print(f\"new_config={new_config}\")\n",
    "\n",
    "# None indicates that execution of the graph starts @ specified checkpoint\n",
    "graph_compiled.invoke(None, new_config)"
   ]
  },
  {
   "cell_type": "markdown",
   "id": "226287d0-9469-47ba-9edb-548d9c4bec2e",
   "metadata": {},
   "source": [
    "##### Checkout the history again\n",
    "* Pay attention to the count\n",
    "* Check out the updated Step-2 & Step-3 "
   ]
  },
  {
   "cell_type": "code",
   "execution_count": 9,
   "id": "f2f7d166-f84d-4fba-89fc-47c580bab0cb",
   "metadata": {},
   "outputs": [
    {
     "name": "stdout",
     "output_type": "stream",
     "text": [
      "Snapshot count = 6\n",
      "Step-3\n",
      "Next=()\n",
      "values={'foo': 'YYY', 'bar': ['YYY', 'b']}\n",
      "\tmetadata[source] = loop\n",
      "\tmetadata[step] = 3\n",
      "\tmetadata[parents] = {}\n",
      "\tmetadata[thread_id] = 1\n",
      "config={'configurable': {'thread_id': '1', 'checkpoint_ns': '', 'checkpoint_id': '1f0609d8-8cba-6410-8003-1476f4ce4134'}}\n",
      "parent_config={'configurable': {'thread_id': '1', 'checkpoint_ns': '', 'checkpoint_id': '1f0609d8-8c7b-6bd8-8002-fc05601ffae4'}}\n",
      "created_at=2025-07-14T10:30:16.966452+00:00\n",
      "-----------------------------------------------\n",
      "Step-2\n",
      "Next=('node_b',)\n",
      "values={'foo': 'YYY', 'bar': []}\n",
      "\tmetadata[source] = update\n",
      "\tmetadata[step] = 2\n",
      "\tmetadata[parents] = {}\n",
      "\tmetadata[thread_id] = 1\n",
      "config={'configurable': {'thread_id': '1', 'checkpoint_ns': '', 'checkpoint_id': '1f0609d8-8c7b-6bd8-8002-fc05601ffae4'}}\n",
      "parent_config={'configurable': {'thread_id': '1', 'checkpoint_ns': '', 'checkpoint_id': '1f0609d8-8bc5-6295-8001-05ccfcefe601'}}\n",
      "created_at=2025-07-14T10:30:16.940847+00:00\n",
      "-----------------------------------------------\n",
      "Step-2\n",
      "Next=()\n",
      "values={'foo': 'a', 'bar': ['a', 'b']}\n",
      "\tmetadata[source] = loop\n",
      "\tmetadata[step] = 2\n",
      "\tmetadata[parents] = {}\n",
      "\tmetadata[thread_id] = 1\n",
      "config={'configurable': {'thread_id': '1', 'checkpoint_ns': '', 'checkpoint_id': '1f0609d8-8bc7-69cc-8002-b8646ceaf390'}}\n",
      "parent_config={'configurable': {'thread_id': '1', 'checkpoint_ns': '', 'checkpoint_id': '1f0609d8-8bc5-6295-8001-05ccfcefe601'}}\n",
      "created_at=2025-07-14T10:30:16.867066+00:00\n",
      "-----------------------------------------------\n",
      "Step-1\n",
      "Next=('node_b',)\n",
      "values={'foo': 'a', 'bar': []}\n",
      "\tmetadata[source] = loop\n",
      "\tmetadata[step] = 1\n",
      "\tmetadata[parents] = {}\n",
      "\tmetadata[thread_id] = 1\n",
      "config={'configurable': {'thread_id': '1', 'checkpoint_ns': '', 'checkpoint_id': '1f0609d8-8bc5-6295-8001-05ccfcefe601'}}\n",
      "parent_config={'configurable': {'thread_id': '1', 'checkpoint_ns': '', 'checkpoint_id': '1f0609d8-8bc2-6afc-8000-d0fe5942170f'}}\n",
      "created_at=2025-07-14T10:30:16.866062+00:00\n",
      "-----------------------------------------------\n",
      "Step-0\n",
      "Next=('node_a',)\n",
      "values={'foo': 'X', 'bar': []}\n",
      "\tmetadata[source] = loop\n",
      "\tmetadata[step] = 0\n",
      "\tmetadata[parents] = {}\n",
      "\tmetadata[thread_id] = 1\n",
      "config={'configurable': {'thread_id': '1', 'checkpoint_ns': '', 'checkpoint_id': '1f0609d8-8bc2-6afc-8000-d0fe5942170f'}}\n",
      "parent_config={'configurable': {'thread_id': '1', 'checkpoint_ns': '', 'checkpoint_id': '1f0609d8-8bc0-63e8-bfff-1a5e78dccb35'}}\n",
      "created_at=2025-07-14T10:30:16.865049+00:00\n",
      "-----------------------------------------------\n",
      "Step--1\n",
      "Next=('__start__',)\n",
      "values={'bar': []}\n",
      "\tmetadata[source] = input\n",
      "\tmetadata[step] = -1\n",
      "\tmetadata[parents] = {}\n",
      "\tmetadata[thread_id] = 1\n",
      "config={'configurable': {'thread_id': '1', 'checkpoint_ns': '', 'checkpoint_id': '1f0609d8-8bc0-63e8-bfff-1a5e78dccb35'}}\n",
      "parent_config=None\n",
      "created_at=2025-07-14T10:30:16.864048+00:00\n",
      "-----------------------------------------------\n"
     ]
    }
   ],
   "source": [
    "history=list(graph_compiled.get_state_history(config))\n",
    "get_print_history(history)"
   ]
  }
 ],
 "metadata": {
  "kernelspec": {
   "display_name": "Python 3 (ipykernel)",
   "language": "python",
   "name": "python3"
  },
  "language_info": {
   "codemirror_mode": {
    "name": "ipython",
    "version": 3
   },
   "file_extension": ".py",
   "mimetype": "text/x-python",
   "name": "python",
   "nbconvert_exporter": "python",
   "pygments_lexer": "ipython3",
   "version": "3.12.9"
  }
 },
 "nbformat": 4,
 "nbformat_minor": 5
}
