{
 "cells": [
  {
   "cell_type": "markdown",
   "id": "70961daf-1271-4a8d-991f-5fb93d89d2ff",
   "metadata": {},
   "source": [
    "# Creative Writing v3\n",
    "\n",
    "Create a SequentialChain with 4 LLMChain(s)\r\n",
    "Define the JSON Schema\n",
    "\n",
    "1. LLMChain 1 : Generate 3 plan\n",
    "2. LLMChain 2 : Vote the best plan out of the 3 plans\n",
    "3. LLMChain 3 : Generate 3 writeups from the best plan\n",
    "4. LLMChain 4 : Vote the best passage out of the 3 passages\n",
    "5. SequentialChain : Combine the 4 chains above\n",
    "\n",
    "To keep things simple you can ues the same LLM for all chains\n",
    "\n",
    "### Solution\n",
    "#### Part-1 \n",
    "Setup the JSON classes & ouuput parsers\n",
    "\n",
    "#### Part-2\n",
    "Create the sequential chaain that retuurns a JSON wrapper with all outputs from LLM\n",
    "\n",
    "\n",
    "### Unit Testing : Step by ste execution\n",
    "\n",
    "Helpful to debug in case you have issues with ouput format issues.\n",
    "n\n",
    "* In order to test the working of each step\n",
    "* UNCOMMENT the code in cells with the heading OPTIONAL\n",
    "* Run each step one-by-one and go through the output\n",
    "\n",
    "### NOTE\n",
    "* Code & prompts are intentionally kept simple to make it easy to understand\n",
    "* Code was tested with OpenAI GPT\n",
    "* Prompts will need to be adjusted for other models\n",
    "* Changes in model parameters may result in different output\n",
    "* Format issues:\n",
    "  - You may see a parsing failure\n",
    "  - You can reduce the chance of error by providing 2 or 3 examples in each template\n",
    " \n",
    "### Challenge problem\n",
    "* Make a copy of this notebook\n",
    "* Use a different model\n",
    "    - Adjust prompts as neede.."
   ]
  },
  {
   "cell_type": "markdown",
   "id": "2a8f888d-d190-4bc1-a9b4-27ede6d463b2",
   "metadata": {},
   "source": [
    "#### Google Colab\n",
    "If you are running the code in Google colab, install the packages by uncommenting/running the cell below\n",
    "\n",
    "* The API key file file will not be available\n",
    "* You will be prompted to provide the API Token\n",
    "\n",
    "Uncomment & run the code in the cell below:"
   ]
  },
  {
   "cell_type": "code",
   "execution_count": 1,
   "id": "0e1002c5-cf96-42b4-9d89-18c4af7eb1c5",
   "metadata": {},
   "outputs": [],
   "source": [
    "## The script is downloaded and run to setup the utils folder\n",
    "\n",
    "# !curl -H \"Accept: application/vnd.github.VERSION.raw\" https://raw.githubusercontent.com/acloudfan/gen-ai-app-dev/main/Setup/gcsetup.sh  > gcsetup.sh\n",
    "# !chmod u+x gcsetup.sh\n",
    "# !./gcsetup.sh -l"
   ]
  },
  {
   "cell_type": "markdown",
   "id": "b75e0476-a336-4c7d-bc8c-563d5c788e51",
   "metadata": {},
   "source": [
    "## Setup environment"
   ]
  },
  {
   "cell_type": "code",
   "execution_count": 2,
   "id": "4732b1ff-28f9-4090-a47f-dffe2d15c5a4",
   "metadata": {},
   "outputs": [
    {
     "data": {
      "text/plain": [
       "True"
      ]
     },
     "execution_count": 2,
     "metadata": {},
     "output_type": "execute_result"
    }
   ],
   "source": [
    "from dotenv import load_dotenv\n",
    "import os\n",
    "from IPython.display import Markdown, JSON\n",
    "\n",
    "import warnings\n",
    "\n",
    "warnings.filterwarnings(\"ignore\")\n",
    "\n",
    "# Load the file that contains the API keys\n",
    "load_dotenv('C:\\\\Users\\\\raj\\\\.jupyter\\\\.env')"
   ]
  },
  {
   "cell_type": "markdown",
   "id": "524d9bf3-5572-457e-868a-338c63176abc",
   "metadata": {},
   "source": [
    "## Create LLM"
   ]
  },
  {
   "cell_type": "code",
   "execution_count": 3,
   "id": "06713aa7-e1e8-4b7d-bb47-d63e4729a56f",
   "metadata": {},
   "outputs": [],
   "source": [
    "import sys\n",
    " \n",
    "# setting path\n",
    "sys.path.append('../')\n",
    "\n",
    "from utils.create_llm import create_gpt_llm, create_cohere_llm, create_ai21_llm, create_ollama_llm\n",
    "\n",
    "# OpenAI GPT args\n",
    "openai_args = {\"max_tokens\": -1, \"temperature\": 0.5}\n",
    "llm = create_gpt_llm(openai_args)\n",
    "\n",
    "llm = create_gpt_llm()\n",
    "\n",
    "## Use Ollama\n",
    "# llm = create_ollama_llm()"
   ]
  },
  {
   "cell_type": "markdown",
   "id": "9d219ac1-38d6-4b44-a239-e99bf14d7684",
   "metadata": {},
   "source": [
    "## Writeup instructions"
   ]
  },
  {
   "cell_type": "code",
   "execution_count": 4,
   "id": "f6ba60cf-0ca5-41ff-acc0-9cc289fdcaae",
   "metadata": {},
   "outputs": [],
   "source": [
    "writeup_instructions = \"\"\"\n",
    "Write a passage of under 100 words to describe our new product 'Javelin 20 High Performance Shoes'.\n",
    "The title must contain the sentence 'A new you'.The first sentence must contain a few of these words 'motivation, workout, sports, attractive'.\n",
    "The last few sentences must motivate the reader to visit out website http://acme.com/jav20. The passage must contain the phrase 'trendsetter'.\n",
    "\"\"\""
   ]
  },
  {
   "cell_type": "markdown",
   "id": "070bc076-a388-4d6c-9617-e740cddefceb",
   "metadata": {},
   "source": [
    "## Part-1\n",
    "\n",
    "### Prompts & Ouput Parsers\n",
    "\n",
    "https://api.python.langchain.com/en/latest/output_parsers/langchain_core.output_parsers.json.JsonOutputParser.html#langchain_core.output_parsers.json.JsonOutputParser"
   ]
  },
  {
   "cell_type": "code",
   "execution_count": 5,
   "id": "1db89dae-fc5a-4ef8-9c21-3a85797777ae",
   "metadata": {},
   "outputs": [],
   "source": [
    "from langchain_core.pydantic_v1 import BaseModel, Field\n",
    "from langchain_core.output_parsers import JsonOutputParser"
   ]
  },
  {
   "cell_type": "markdown",
   "id": "db861e56-77e7-4b7d-b337-b4bc0a952067",
   "metadata": {},
   "source": [
    "### 1. Template, JSON Schema & Parser : Generate 3 plans"
   ]
  },
  {
   "cell_type": "code",
   "execution_count": 6,
   "id": "1adbd350-fb27-425a-b8b7-3d5921f6b932",
   "metadata": {},
   "outputs": [],
   "source": [
    "template_1 = \"\"\"\n",
    "you are an expert in writing creative marketing material.\n",
    "\n",
    "Generate a list of writing plans for executing the task with the following instructions.\n",
    "The size of the plans list will be three. Keep the number of steps for each plan between 4 and 10.\n",
    "\n",
    "\n",
    "{task_instructions}\n",
    "\n",
    "Format Instructructions:\n",
    "{format_instructions}\n",
    "\n",
    "\"\"\" \n",
    "\n",
    "# 1. Define the JSON classes for plans & list\n",
    "class PassagePlans(BaseModel):\n",
    "    plan_number: int = Field(description = \"this is the plan number\")\n",
    "    plan_steps: list[str] = Field(description = \"these are the plan steps\")\n",
    "\n",
    "class ListPassagePlansOutput(BaseModel):\n",
    "    plans: list[PassagePlans] = Field(description = \"list of PassagePlans\")\n",
    "\n",
    "# Create the parser\n",
    "output_parser_generate_plan = JsonOutputParser(pydantic_object=ListPassagePlansOutput)"
   ]
  },
  {
   "cell_type": "markdown",
   "id": "82471f23-98b2-4853-bc3f-84925a407b91",
   "metadata": {},
   "source": [
    "### 2. Template & JSON Schema: Vote the best plan"
   ]
  },
  {
   "cell_type": "code",
   "execution_count": 7,
   "id": "75e0d74b-2807-4302-bee3-0c3b634b40b9",
   "metadata": {},
   "outputs": [],
   "source": [
    "template_2 = \"\"\"\n",
    "you are an expert in writing creative marketing material.\n",
    "\n",
    "three experts created separate writing plans for carrying out the following task.\n",
    "your job is to review the three plans, identify the best plan out of the three and provide three reasons for selecting the plan.\n",
    "you must strictly follow the format instructions to generate your output.\n",
    "\n",
    "Task Instructions:\n",
    "{task_instructions}\n",
    "\n",
    "Plans:\n",
    "{proposed_plans}\n",
    "\n",
    "Format Instructions:\n",
    "{format_instructions}\n",
    "\n",
    "\"\"\" \n",
    "\n",
    "# Create the class that represents output of step 2 i.e., best voted plan\n",
    "class VoteBestPlan(BaseModel):\n",
    "    plan_number: int = Field(description = \"this is the plan number for the plan voted as best\")\n",
    "    plan_steps: list[str] = Field(description = \"these are the plan steps\")\n",
    "    reasons: list[str] = Field(description = \"provides 3 reasons why the plan was voted the best\")\n",
    "\n",
    "# Create the parser\n",
    "best_plan_parser = JsonOutputParser(pydantic_object=VoteBestPlan)"
   ]
  },
  {
   "cell_type": "markdown",
   "id": "05aaac3d-f002-4791-bc06-f8fead7cc4a2",
   "metadata": {},
   "source": [
    "### 3. Template & JSON Schema : Generate 3 plans with the best voted plan"
   ]
  },
  {
   "cell_type": "code",
   "execution_count": 8,
   "id": "8b2f36ee-264c-4367-9a26-fe7ac60b7722",
   "metadata": {},
   "outputs": [],
   "source": [
    "template_3 = \"\"\"\n",
    "You are a writer for marketing material.\n",
    "Create three passages using the following task instructions and the provided plan.\n",
    "You must strictly follow the format instructions for the generated passages.\n",
    "\n",
    "Task Instructions:\n",
    "{task_instructions}\n",
    "\n",
    "Plan:\n",
    "{best_voted_plan_details}\n",
    "\n",
    "Format Instructions:\n",
    "{format_instructions}\n",
    "\n",
    "\"\"\"\n",
    "\n",
    "# Output for generating 3 passages from the best plan\n",
    "class ThreePassgesWithBestPlan(BaseModel):\n",
    "    passages: list[str] = Field(description = \"list containing the generated passages\")\n",
    "\n",
    "# Create the parser\n",
    "generate_passages_parser = JsonOutputParser(pydantic_object=ThreePassgesWithBestPlan)"
   ]
  },
  {
   "cell_type": "markdown",
   "id": "82fc0e39-cb95-46e7-bbed-3a666c927037",
   "metadata": {},
   "source": [
    "### 4. Template & JSON Schema : Select the best passage"
   ]
  },
  {
   "cell_type": "code",
   "execution_count": 9,
   "id": "8cfe74f7-c14c-4c23-967d-a1d90485d2b9",
   "metadata": {},
   "outputs": [],
   "source": [
    "template_4 = \"\"\"\n",
    "you are an expert in writing creative marketing material.\n",
    "\n",
    "three experts were given a writing assignment with task instructions.\n",
    "your task is to review the 3 passages and pick the best passage out of the three. \n",
    "provide three reasons why you selected the passage.\n",
    "you must strictly follow the format instructions for the generated passages.\n",
    "\n",
    "Task Instructions:\n",
    "{task_instructions}\n",
    "\n",
    "Passages:\n",
    "{generated_passages_with_best_plan}\n",
    "\n",
    "Your output will be in the following format.\n",
    "\n",
    "Format Instructions:\n",
    "{format_instructions}\n",
    "\n",
    "\"\"\"\n",
    "\n",
    "# Define schema for output from last step\n",
    "\n",
    "class BestPassage(BaseModel):\n",
    "    passage_number: int = Field(description = \"this is the passage number for the best passage out of the three passages\")\n",
    "    reasons: list[str] = Field(description = \"three reasons in a list on why you selected the passage\")\n",
    "\n",
    "# Create the parser\n",
    "best_passage_parser = JsonOutputParser(pydantic_object=BestPassage)"
   ]
  },
  {
   "cell_type": "markdown",
   "id": "69f48ebf-0d23-485f-8e87-dba4ffd81f17",
   "metadata": {},
   "source": [
    "## Part-2\n",
    "\n",
    "Setup the chains"
   ]
  },
  {
   "cell_type": "markdown",
   "id": "fce0a91f-266e-4027-8dc4-2d324fbac382",
   "metadata": {},
   "source": [
    "### Utility function\n",
    "\n",
    "Creates the chain with given set of parameters"
   ]
  },
  {
   "cell_type": "code",
   "execution_count": 10,
   "id": "dd9d1c85-f85f-44eb-9696-0731b25301d0",
   "metadata": {},
   "outputs": [],
   "source": [
    "from langchain import PromptTemplate, LLMChain\n",
    "\n",
    "def  create_chain(template, llm, input_variables=[], partial_variables={},  output_parser=None, output_key='text'):\n",
    "    \"\"\"\n",
    "        Utility function to create the LLMChain\n",
    "    \"\"\"\n",
    "    # create the prompt template\n",
    "    prompt_template = PromptTemplate(\n",
    "        template = template,\n",
    "        input_variables = input_variables,\n",
    "        partial_variables = partial_variables\n",
    "    )\n",
    "\n",
    "    # create the chain\n",
    "    if output_parser:\n",
    "        # Legacy\n",
    "        # llm_chain  = LLMChain(\n",
    "        #     prompt = prompt_template,\n",
    "        #     llm = llm,\n",
    "        #     output_key = output_key,\n",
    "        #     output_parser = output_parser\n",
    "        # )\n",
    "\n",
    "        # Use LCEL\n",
    "        llm_chain = prompt_template | llm | output_parser\n",
    "    else:\n",
    "        # Legacy\n",
    "        # llm_chain  = LLMChain(\n",
    "        #     prompt = prompt_template,\n",
    "        #     llm = llm,\n",
    "        #     output_key = output_key,\n",
    "        # )\n",
    "        llm_chain = prompt_template | llm\n",
    "\n",
    "    return prompt_template, llm_chain"
   ]
  },
  {
   "cell_type": "markdown",
   "id": "62db3d62-1f52-48d1-82c9-d45cbedce615",
   "metadata": {},
   "source": [
    "### 1. Generate the plans"
   ]
  },
  {
   "cell_type": "markdown",
   "id": "a232d24c-16e1-4312-ac06-c795ff2e1eaa",
   "metadata": {},
   "source": [
    "#### Setup prompt & create LLMChain"
   ]
  },
  {
   "cell_type": "code",
   "execution_count": 11,
   "id": "a1d0be1a-aaac-49c8-bfc6-3cb927d6136e",
   "metadata": {},
   "outputs": [],
   "source": [
    "partial_variables = {\"format_instructions\": output_parser_generate_plan.get_format_instructions(), \"task_instructions\": writeup_instructions}\n",
    "prompt_template, llm_chain_generate_plan = create_chain(template_1, \n",
    "                                       llm, \n",
    "                                       partial_variables=partial_variables,\n",
    "                                       output_key=\"proposed_plans\",\n",
    "                                       output_parser=None  \n",
    "                        )\n",
    "\n"
   ]
  },
  {
   "cell_type": "markdown",
   "id": "f2b9a434-e714-468f-8639-65f99ae6ef85",
   "metadata": {},
   "source": [
    "#### Invoke Chain  - OPTIONAL STEP for unit testing"
   ]
  },
  {
   "cell_type": "code",
   "execution_count": 12,
   "id": "9a58fc86-78df-4527-94c2-c6acd038467d",
   "metadata": {},
   "outputs": [
    {
     "name": "stdout",
     "output_type": "stream",
     "text": [
      "\n",
      "you are an expert in writing creative marketing material.\n",
      "\n",
      "Generate a list of writing plans for executing the task with the following instructions.\n",
      "The size of the plans list will be three. Keep the number of steps for each plan between 4 and 10.\n",
      "\n",
      "\n",
      "\n",
      "Write a passage of under 100 words to describe our new product 'Javelin 20 High Performance Shoes'.\n",
      "The title must contain the sentence 'A new you'.The first sentence must contain a few of these words 'motivation, workout, sports, attractive'.\n",
      "The last few sentences must motivate the reader to visit out website http://acme.com/jav20. The passage must contain the phrase 'trendsetter'.\n",
      "\n",
      "\n",
      "Format Instructructions:\n",
      "The output should be formatted as a JSON instance that conforms to the JSON schema below.\n",
      "\n",
      "As an example, for the schema {\"properties\": {\"foo\": {\"title\": \"Foo\", \"description\": \"a list of strings\", \"type\": \"array\", \"items\": {\"type\": \"string\"}}}, \"required\": [\"foo\"]}\n",
      "the object {\"foo\": [\"bar\", \"baz\"]} is a well-formatted instance of the schema. The object {\"properties\": {\"foo\": [\"bar\", \"baz\"]}} is not well-formatted.\n",
      "\n",
      "Here is the output schema:\n",
      "```\n",
      "{\"properties\": {\"plans\": {\"title\": \"Plans\", \"description\": \"list of PassagePlans\", \"type\": \"array\", \"items\": {\"$ref\": \"#/definitions/PassagePlans\"}}}, \"required\": [\"plans\"], \"definitions\": {\"PassagePlans\": {\"title\": \"PassagePlans\", \"type\": \"object\", \"properties\": {\"plan_number\": {\"title\": \"Plan Number\", \"description\": \"this is the plan number\", \"type\": \"integer\"}, \"plan_steps\": {\"title\": \"Plan Steps\", \"description\": \"these are the plan steps\", \"type\": \"array\", \"items\": {\"type\": \"string\"}}}, \"required\": [\"plan_number\", \"plan_steps\"]}}}\n",
      "```\n",
      "\n",
      "\n"
     ]
    }
   ],
   "source": [
    "# print(prompt_template.format())\n",
    "# response = llm_chain_generate_plan.invoke({})"
   ]
  },
  {
   "cell_type": "markdown",
   "id": "3284c785-d08a-40b9-9d4e-db09522a6742",
   "metadata": {},
   "source": [
    "#### Parse the response - OPTIONAL STEP for unit testing"
   ]
  },
  {
   "cell_type": "code",
   "execution_count": 17,
   "id": "2758bb65-50ae-4f85-b82f-336a82d45363",
   "metadata": {},
   "outputs": [
    {
     "ename": "JSONDecodeError",
     "evalue": "Unterminated string starting at: line 25 column 9 (char 1035)",
     "output_type": "error",
     "traceback": [
      "\u001b[1;31m---------------------------------------------------------------------------\u001b[0m",
      "\u001b[1;31mJSONDecodeError\u001b[0m                           Traceback (most recent call last)",
      "Cell \u001b[1;32mIn[17], line 3\u001b[0m\n\u001b[0;32m      1\u001b[0m \u001b[38;5;66;03m# proposed_plans = output_parser_generate_plan.parse(response['proposed_plans'])\u001b[39;00m\n\u001b[1;32m----> 3\u001b[0m JSON(response)\n",
      "File \u001b[1;32m~\\anaconda3\\envs\\gen-ai-app-dev-course\\Lib\\site-packages\\IPython\\core\\display.py:601\u001b[0m, in \u001b[0;36mJSON.__init__\u001b[1;34m(self, data, url, filename, expanded, metadata, root, **kwargs)\u001b[0m\n\u001b[0;32m    599\u001b[0m \u001b[38;5;28;01mif\u001b[39;00m kwargs:\n\u001b[0;32m    600\u001b[0m     \u001b[38;5;28mself\u001b[39m\u001b[38;5;241m.\u001b[39mmetadata\u001b[38;5;241m.\u001b[39mupdate(kwargs)\n\u001b[1;32m--> 601\u001b[0m \u001b[38;5;28msuper\u001b[39m(JSON, \u001b[38;5;28mself\u001b[39m)\u001b[38;5;241m.\u001b[39m\u001b[38;5;21m__init__\u001b[39m(data\u001b[38;5;241m=\u001b[39mdata, url\u001b[38;5;241m=\u001b[39murl, filename\u001b[38;5;241m=\u001b[39mfilename)\n",
      "File \u001b[1;32m~\\anaconda3\\envs\\gen-ai-app-dev-course\\Lib\\site-packages\\IPython\\core\\display.py:320\u001b[0m, in \u001b[0;36mDisplayObject.__init__\u001b[1;34m(self, data, url, filename, metadata)\u001b[0m\n\u001b[0;32m    316\u001b[0m \u001b[38;5;28mself\u001b[39m\u001b[38;5;241m.\u001b[39mfilename \u001b[38;5;241m=\u001b[39m filename\n\u001b[0;32m    317\u001b[0m \u001b[38;5;66;03m# because of @data.setter methods in\u001b[39;00m\n\u001b[0;32m    318\u001b[0m \u001b[38;5;66;03m# subclasses ensure url and filename are set\u001b[39;00m\n\u001b[0;32m    319\u001b[0m \u001b[38;5;66;03m# before assigning to self.data\u001b[39;00m\n\u001b[1;32m--> 320\u001b[0m \u001b[38;5;28mself\u001b[39m\u001b[38;5;241m.\u001b[39mdata \u001b[38;5;241m=\u001b[39m data\n\u001b[0;32m    322\u001b[0m \u001b[38;5;28;01mif\u001b[39;00m metadata \u001b[38;5;129;01mis\u001b[39;00m \u001b[38;5;129;01mnot\u001b[39;00m \u001b[38;5;28;01mNone\u001b[39;00m:\n\u001b[0;32m    323\u001b[0m     \u001b[38;5;28mself\u001b[39m\u001b[38;5;241m.\u001b[39mmetadata \u001b[38;5;241m=\u001b[39m metadata\n",
      "File \u001b[1;32m~\\anaconda3\\envs\\gen-ai-app-dev-course\\Lib\\site-packages\\IPython\\core\\display.py:619\u001b[0m, in \u001b[0;36mJSON.data\u001b[1;34m(self, data)\u001b[0m\n\u001b[0;32m    617\u001b[0m     \u001b[38;5;28;01mif\u001b[39;00m \u001b[38;5;28mself\u001b[39m\u001b[38;5;241m.\u001b[39mfilename \u001b[38;5;129;01mis\u001b[39;00m \u001b[38;5;28;01mNone\u001b[39;00m \u001b[38;5;129;01mand\u001b[39;00m \u001b[38;5;28mself\u001b[39m\u001b[38;5;241m.\u001b[39murl \u001b[38;5;129;01mis\u001b[39;00m \u001b[38;5;28;01mNone\u001b[39;00m:\n\u001b[0;32m    618\u001b[0m         warnings\u001b[38;5;241m.\u001b[39mwarn(\u001b[38;5;124m\"\u001b[39m\u001b[38;5;124mJSON expects JSONable dict or list, not JSON strings\u001b[39m\u001b[38;5;124m\"\u001b[39m)\n\u001b[1;32m--> 619\u001b[0m     data \u001b[38;5;241m=\u001b[39m json\u001b[38;5;241m.\u001b[39mloads(data)\n\u001b[0;32m    620\u001b[0m \u001b[38;5;28mself\u001b[39m\u001b[38;5;241m.\u001b[39m_data \u001b[38;5;241m=\u001b[39m data\n",
      "File \u001b[1;32m~\\anaconda3\\envs\\gen-ai-app-dev-course\\Lib\\json\\__init__.py:346\u001b[0m, in \u001b[0;36mloads\u001b[1;34m(s, cls, object_hook, parse_float, parse_int, parse_constant, object_pairs_hook, **kw)\u001b[0m\n\u001b[0;32m    341\u001b[0m     s \u001b[38;5;241m=\u001b[39m s\u001b[38;5;241m.\u001b[39mdecode(detect_encoding(s), \u001b[38;5;124m'\u001b[39m\u001b[38;5;124msurrogatepass\u001b[39m\u001b[38;5;124m'\u001b[39m)\n\u001b[0;32m    343\u001b[0m \u001b[38;5;28;01mif\u001b[39;00m (\u001b[38;5;28mcls\u001b[39m \u001b[38;5;129;01mis\u001b[39;00m \u001b[38;5;28;01mNone\u001b[39;00m \u001b[38;5;129;01mand\u001b[39;00m object_hook \u001b[38;5;129;01mis\u001b[39;00m \u001b[38;5;28;01mNone\u001b[39;00m \u001b[38;5;129;01mand\u001b[39;00m\n\u001b[0;32m    344\u001b[0m         parse_int \u001b[38;5;129;01mis\u001b[39;00m \u001b[38;5;28;01mNone\u001b[39;00m \u001b[38;5;129;01mand\u001b[39;00m parse_float \u001b[38;5;129;01mis\u001b[39;00m \u001b[38;5;28;01mNone\u001b[39;00m \u001b[38;5;129;01mand\u001b[39;00m\n\u001b[0;32m    345\u001b[0m         parse_constant \u001b[38;5;129;01mis\u001b[39;00m \u001b[38;5;28;01mNone\u001b[39;00m \u001b[38;5;129;01mand\u001b[39;00m object_pairs_hook \u001b[38;5;129;01mis\u001b[39;00m \u001b[38;5;28;01mNone\u001b[39;00m \u001b[38;5;129;01mand\u001b[39;00m \u001b[38;5;129;01mnot\u001b[39;00m kw):\n\u001b[1;32m--> 346\u001b[0m     \u001b[38;5;28;01mreturn\u001b[39;00m _default_decoder\u001b[38;5;241m.\u001b[39mdecode(s)\n\u001b[0;32m    347\u001b[0m \u001b[38;5;28;01mif\u001b[39;00m \u001b[38;5;28mcls\u001b[39m \u001b[38;5;129;01mis\u001b[39;00m \u001b[38;5;28;01mNone\u001b[39;00m:\n\u001b[0;32m    348\u001b[0m     \u001b[38;5;28mcls\u001b[39m \u001b[38;5;241m=\u001b[39m JSONDecoder\n",
      "File \u001b[1;32m~\\anaconda3\\envs\\gen-ai-app-dev-course\\Lib\\json\\decoder.py:337\u001b[0m, in \u001b[0;36mJSONDecoder.decode\u001b[1;34m(self, s, _w)\u001b[0m\n\u001b[0;32m    332\u001b[0m \u001b[38;5;28;01mdef\u001b[39;00m \u001b[38;5;21mdecode\u001b[39m(\u001b[38;5;28mself\u001b[39m, s, _w\u001b[38;5;241m=\u001b[39mWHITESPACE\u001b[38;5;241m.\u001b[39mmatch):\n\u001b[0;32m    333\u001b[0m \u001b[38;5;250m    \u001b[39m\u001b[38;5;124;03m\"\"\"Return the Python representation of ``s`` (a ``str`` instance\u001b[39;00m\n\u001b[0;32m    334\u001b[0m \u001b[38;5;124;03m    containing a JSON document).\u001b[39;00m\n\u001b[0;32m    335\u001b[0m \n\u001b[0;32m    336\u001b[0m \u001b[38;5;124;03m    \"\"\"\u001b[39;00m\n\u001b[1;32m--> 337\u001b[0m     obj, end \u001b[38;5;241m=\u001b[39m \u001b[38;5;28mself\u001b[39m\u001b[38;5;241m.\u001b[39mraw_decode(s, idx\u001b[38;5;241m=\u001b[39m_w(s, \u001b[38;5;241m0\u001b[39m)\u001b[38;5;241m.\u001b[39mend())\n\u001b[0;32m    338\u001b[0m     end \u001b[38;5;241m=\u001b[39m _w(s, end)\u001b[38;5;241m.\u001b[39mend()\n\u001b[0;32m    339\u001b[0m     \u001b[38;5;28;01mif\u001b[39;00m end \u001b[38;5;241m!=\u001b[39m \u001b[38;5;28mlen\u001b[39m(s):\n",
      "File \u001b[1;32m~\\anaconda3\\envs\\gen-ai-app-dev-course\\Lib\\json\\decoder.py:353\u001b[0m, in \u001b[0;36mJSONDecoder.raw_decode\u001b[1;34m(self, s, idx)\u001b[0m\n\u001b[0;32m    344\u001b[0m \u001b[38;5;250m\u001b[39m\u001b[38;5;124;03m\"\"\"Decode a JSON document from ``s`` (a ``str`` beginning with\u001b[39;00m\n\u001b[0;32m    345\u001b[0m \u001b[38;5;124;03ma JSON document) and return a 2-tuple of the Python\u001b[39;00m\n\u001b[0;32m    346\u001b[0m \u001b[38;5;124;03mrepresentation and the index in ``s`` where the document ended.\u001b[39;00m\n\u001b[1;32m   (...)\u001b[0m\n\u001b[0;32m    350\u001b[0m \n\u001b[0;32m    351\u001b[0m \u001b[38;5;124;03m\"\"\"\u001b[39;00m\n\u001b[0;32m    352\u001b[0m \u001b[38;5;28;01mtry\u001b[39;00m:\n\u001b[1;32m--> 353\u001b[0m     obj, end \u001b[38;5;241m=\u001b[39m \u001b[38;5;28mself\u001b[39m\u001b[38;5;241m.\u001b[39mscan_once(s, idx)\n\u001b[0;32m    354\u001b[0m \u001b[38;5;28;01mexcept\u001b[39;00m \u001b[38;5;167;01mStopIteration\u001b[39;00m \u001b[38;5;28;01mas\u001b[39;00m err:\n\u001b[0;32m    355\u001b[0m     \u001b[38;5;28;01mraise\u001b[39;00m JSONDecodeError(\u001b[38;5;124m\"\u001b[39m\u001b[38;5;124mExpecting value\u001b[39m\u001b[38;5;124m\"\u001b[39m, s, err\u001b[38;5;241m.\u001b[39mvalue) \u001b[38;5;28;01mfrom\u001b[39;00m \u001b[38;5;28;01mNone\u001b[39;00m\n",
      "\u001b[1;31mJSONDecodeError\u001b[0m: Unterminated string starting at: line 25 column 9 (char 1035)"
     ]
    }
   ],
   "source": [
    "\n",
    "# proposed_plans = output_parser_generate_plan.parse(response['proposed_plans'])\n",
    "\n",
    "# JSON(proposed_plans)"
   ]
  },
  {
   "cell_type": "markdown",
   "id": "c7e4aad7-5c32-4390-abe7-334a9f98ca36",
   "metadata": {},
   "source": [
    "### 2. Vote the best plan"
   ]
  },
  {
   "cell_type": "markdown",
   "id": "be6cac99-4e76-4bf2-872e-98de4cb689b0",
   "metadata": {},
   "source": [
    "#### Setup prompt template & LLMChain"
   ]
  },
  {
   "cell_type": "code",
   "execution_count": 13,
   "id": "6b6aeb9a-aeaf-410b-85cf-dfd9c04d9874",
   "metadata": {},
   "outputs": [],
   "source": [
    "partial_variables = {\"format_instructions\": best_plan_parser.get_format_instructions(), \"task_instructions\": writeup_instructions}\n",
    "prompt_template, llm_chain_vote_plan = create_chain(template_2, \n",
    "                                       llm, \n",
    "                                       input_variables=['proposed_plans'],\n",
    "                                       partial_variables=partial_variables,\n",
    "                                       output_key=\"best_voted_plan_details\"\n",
    "                        )\n",
    "\n"
   ]
  },
  {
   "cell_type": "markdown",
   "id": "53f7692e-1c34-4d8e-aa3a-219e21d17857",
   "metadata": {},
   "source": [
    "#### Invoke chain - OPTIONAL STEP for unit testing"
   ]
  },
  {
   "cell_type": "code",
   "execution_count": 14,
   "id": "6a599e3e-ebd1-4031-9c28-8644ea2f4904",
   "metadata": {},
   "outputs": [],
   "source": [
    "# print(prompt_template.format(proposed_plans=proposed_plans['plans']))\n",
    "# response = llm_chain_vote_plan.invoke({'proposed_plans': proposed_plans})"
   ]
  },
  {
   "cell_type": "markdown",
   "id": "5d429ad9-148f-45fe-8926-edb9d689dc77",
   "metadata": {},
   "source": [
    "#### Parse response - OPTIONAL STEP for unit testing"
   ]
  },
  {
   "cell_type": "code",
   "execution_count": 15,
   "id": "8f60be9e-e93c-4cf2-91c7-46b9954f8df7",
   "metadata": {},
   "outputs": [
    {
     "data": {
      "application/json": {
       "plan_number": 1,
       "plan_steps": [
        "Brainstorm potential keywords and phrases related to the product",
        "Create a compelling title that incorporates the phrase 'A new you'",
        "Use words like 'motivation', 'workout', 'sports', and 'attractive' to describe the product in the first sentence",
        "Highlight the key features and benefits of the Javelin 20 High Performance Shoes",
        "Include a call to action to visit our website http://acme.com/jav20",
        "Emphasize how wearing these shoes will make the reader a trendsetter",
        "Edit and revise the passage for clarity and impact",
        "Proofread for spelling and grammar errors",
        "Add an eye-catching image of the Javelin 20 High Performance Shoes"
       ],
       "reasons": [
        "This plan incorporates all the necessary elements for a strong marketing passage, including keywords and phrases, a compelling title, and a call to action.",
        "The use of storytelling techniques and engaging language will captivate the reader and draw them in.",
        "The mention of becoming a trendsetter with these shoes adds a unique and attractive selling point to the product."
       ]
      },
      "text/plain": [
       "<IPython.core.display.JSON object>"
      ]
     },
     "execution_count": 15,
     "metadata": {
      "application/json": {
       "expanded": false,
       "root": "root"
      }
     },
     "output_type": "execute_result"
    }
   ],
   "source": [
    "# best_voted_plan_details = best_plan_parser.parse(response['best_voted_plan_details'])\n",
    "# JSON(best_voted_plan_details)"
   ]
  },
  {
   "cell_type": "markdown",
   "id": "5323b691-aa6c-496c-a4ee-7a93e2b650ff",
   "metadata": {},
   "source": [
    "### 3. Generate 3 passages with best plan"
   ]
  },
  {
   "cell_type": "markdown",
   "id": "94e19070-3954-4956-978c-ba100a421d64",
   "metadata": {},
   "source": [
    "#### Setup prompt and LLMChain"
   ]
  },
  {
   "cell_type": "code",
   "execution_count": 16,
   "id": "3badb203-8d9e-4553-b201-0ce83dfd426c",
   "metadata": {},
   "outputs": [],
   "source": [
    "\n",
    "\n",
    "partial_variables = {\"format_instructions\": generate_passages_parser.get_format_instructions(), \"task_instructions\": writeup_instructions}\n",
    "prompt_template, llm_chain_generate_passages_on_best_plan = create_chain(template_3, \n",
    "                                       llm, \n",
    "                                       input_variables=['best_voted_plan_details'],\n",
    "                                       partial_variables=partial_variables,\n",
    "                                       output_key=\"generated_passages_with_best_plan\"\n",
    "                        )\n",
    "\n"
   ]
  },
  {
   "cell_type": "markdown",
   "id": "5b1ddf25-9ce5-489d-a440-33e535a7632b",
   "metadata": {},
   "source": [
    "#### Invoke chain - OPTIONAL STEP for unit testing"
   ]
  },
  {
   "cell_type": "code",
   "execution_count": 17,
   "id": "8cd72293-de86-4c92-952c-c201b5d5b4cb",
   "metadata": {},
   "outputs": [],
   "source": [
    "# response = llm_chain_generate_passages_on_best_plan.invoke({'best_voted_plan_details': best_voted_plan_details})"
   ]
  },
  {
   "cell_type": "markdown",
   "id": "0d8449ae-e2ef-435b-8337-1d9d35371ad0",
   "metadata": {},
   "source": [
    "#### Parse - OPTIONAL STEP for unit testing"
   ]
  },
  {
   "cell_type": "code",
   "execution_count": 18,
   "id": "4586599d-993a-4f38-9700-288c7efc9cd1",
   "metadata": {},
   "outputs": [
    {
     "data": {
      "application/json": {
       "passages": [
        "A New You: Motivation and Style Combined with Javelin 20 High Performance Shoes. These attractive shoes are perfect for your workout or sports needs. Stay ahead of the game and become a trendsetter with our latest product. Don't miss out on the chance to improve your performance, visit http://acme.com/jav20 now!",
        "Looking for motivation and style in your workout routine? Look no further than Javelin 20 High Performance Shoes. With their sleek design and top-notch features, these shoes will make you stand out in any sports setting. Don't wait any longer to become a trendsetter, head to http://acme.com/jav20 and elevate your game!",
        "Ready to take your workout to the next level? Javelin 20 High Performance Shoes are here to help. Not only will they provide you with the necessary motivation, but their attractive design will also make you a trendsetter. Don't miss out on the opportunity to improve your sports performance. Visit http://acme.com/jav20 now and be the first to experience these game-changing shoes."
       ]
      },
      "text/plain": [
       "<IPython.core.display.JSON object>"
      ]
     },
     "execution_count": 18,
     "metadata": {
      "application/json": {
       "expanded": false,
       "root": "root"
      }
     },
     "output_type": "execute_result"
    }
   ],
   "source": [
    "# three_passages = generate_passages_parser.parse(response['generated_passages_with_best_plan'])\n",
    "# JSON(three_passages)"
   ]
  },
  {
   "cell_type": "markdown",
   "id": "0d3e38dd-3e6a-4bf7-834c-3e50739c199e",
   "metadata": {},
   "source": [
    "### 4 Vote the best passage"
   ]
  },
  {
   "cell_type": "markdown",
   "id": "e5edf9a8-d690-4a24-8e1f-70cb4294495a",
   "metadata": {},
   "source": [
    "#### Setup prompt & LLMChain"
   ]
  },
  {
   "cell_type": "code",
   "execution_count": 19,
   "id": "d741d39d-c045-4e05-9b77-09ecbfce26d4",
   "metadata": {},
   "outputs": [],
   "source": [
    "partial_variables = {\"format_instructions\": best_passage_parser.get_format_instructions(), \"task_instructions\": writeup_instructions}\n",
    "prompt_template, llm_chain_vote_best_passage = create_chain(template_4, \n",
    "                                       llm, \n",
    "                                       input_variables=['generated_passages_with_best_plan'],\n",
    "                                       partial_variables=partial_variables,\n",
    "                                       output_key=\"best_passage\"\n",
    "                        )"
   ]
  },
  {
   "cell_type": "markdown",
   "id": "ae836c43-16c5-4443-b27e-0dac17cf5974",
   "metadata": {},
   "source": [
    "#### Invoke chain - OPTIONAL STEP for unit testing"
   ]
  },
  {
   "cell_type": "code",
   "execution_count": 20,
   "id": "ca3007d4-1ef5-4b3d-aebb-b6b7af2cb8ff",
   "metadata": {},
   "outputs": [],
   "source": [
    "passages = three_passages['passages']\n",
    "\n",
    "response  = llm_chain_vote_best_passage.invoke({'generated_passages_with_best_plan': passages})"
   ]
  },
  {
   "cell_type": "markdown",
   "id": "1ec94a78-307c-4170-899d-ff9d2f6c87a6",
   "metadata": {},
   "source": [
    "#### Parse - OPTIONAL STEP for unit testing"
   ]
  },
  {
   "cell_type": "code",
   "execution_count": 21,
   "id": "99e59aca-90be-492c-b812-30777e9a5261",
   "metadata": {},
   "outputs": [
    {
     "data": {
      "application/json": {
       "passage_number": 1,
       "reasons": [
        "The title 'A New You: Motivation and Style Combined with Javelin 20 High Performance Shoes' immediately grabs the reader's attention and conveys the main message of the passage.",
        "The use of words like 'motivation', 'workout', 'sports', and 'attractive' effectively highlight the features and benefits of the product.",
        "The last few sentences successfully motivate the reader to visit the website and become a trendsetter, creating a sense of urgency and excitement."
       ]
      },
      "text/plain": [
       "<IPython.core.display.JSON object>"
      ]
     },
     "execution_count": 21,
     "metadata": {
      "application/json": {
       "expanded": false,
       "root": "root"
      }
     },
     "output_type": "execute_result"
    }
   ],
   "source": [
    "best_passage_info = best_passage_parser.parse(response['best_passage'])\n",
    "\n",
    "JSON(best_passage_info)"
   ]
  },
  {
   "cell_type": "markdown",
   "id": "4c5252a0-f425-439e-b2b9-5a3960b13b42",
   "metadata": {},
   "source": [
    "### 5. Create SequentialChain"
   ]
  },
  {
   "cell_type": "code",
   "execution_count": 22,
   "id": "9e6a076b-2692-4171-98fc-cd4aee8f7acb",
   "metadata": {},
   "outputs": [],
   "source": [
    "from langchain.chains import SequentialChain\n",
    "\n",
    "sequential_chain = SequentialChain(\n",
    "    chains=[llm_chain_generate_plan, llm_chain_vote_plan, llm_chain_generate_passages_on_best_plan, llm_chain_vote_best_passage ],\n",
    "    input_variables = [],\n",
    "    output_variables = [\"proposed_plans\", \"best_voted_plan_details\", \"generated_passages_with_best_plan\", \"best_passage\"],\n",
    "    verbose = True,\n",
    ")\n",
    "\n"
   ]
  },
  {
   "cell_type": "code",
   "execution_count": 23,
   "id": "79417868-61e9-4591-a215-d380742a83a6",
   "metadata": {},
   "outputs": [
    {
     "name": "stdout",
     "output_type": "stream",
     "text": [
      "\n",
      "\n",
      "\u001b[1m> Entering new SequentialChain chain...\u001b[0m\n",
      "\n",
      "\u001b[1m> Finished chain.\u001b[0m\n"
     ]
    }
   ],
   "source": [
    "response = sequential_chain.invoke({}, verbose=True)"
   ]
  },
  {
   "cell_type": "code",
   "execution_count": 24,
   "id": "48ad61f7-1410-41f8-8370-7a56d6fed1c3",
   "metadata": {},
   "outputs": [
    {
     "data": {
      "application/json": {
       "best_passage": "{\"passage_number\": 1, \"reasons\": [\"The first passage contains a clear and compelling title that catches the reader's attention and includes relevant keywords such as 'motivation' and 'attractive'.\", \"The language used in the passage is energetic and conveys a sense of excitement and possibility for the reader.\", \"The final sentence effectively encourages the reader to take action and visit the website to learn more about the product and become a trendsetter.\"]}",
       "best_voted_plan_details": "\n{\"plan_number\": 1, \"plan_steps\": [\"Get ready to unleash a new you with the Javelin 20 High Performance Shoes!\", \"These shoes are designed to provide the perfect combination of motivation, comfort and support for your workout and sports activities.\", \"With their attractive design and cutting-edge technology, the Javelin 20s are sure to make you a trendsetter among your peers.\", \"So don't wait any longer, visit our website http://acme.com/jav20 and upgrade your shoe game today!\"], \"reasons\": [\"The plan effectively uses key words from the task instructions, such as 'motivation', 'workout', 'sports', and 'attractive'.\", \"The plan provides a clear call to action by motivating the reader to visit the website to upgrade their shoe game.\", \"The plan highlights the trendsetting aspect of the product, making it appealing to potential customers.\"]}",
       "generated_passages_with_best_plan": "{\"passages\": [\n    \"Get ready to unleash a new you with the Javelin 20 High Performance Shoes! These shoes are designed to provide the perfect combination of motivation, comfort and support for your workout and sports activities. With their attractive design and cutting-edge technology, the Javelin 20s are sure to make you a trendsetter among your peers. So don't wait any longer, visit our website http://acme.com/jav20 and upgrade your shoe game today!\",\n    \"Looking for a way to elevate your workout and sports game? Look no further than the Javelin 20 High Performance Shoes. These shoes are the perfect blend of motivation, comfort and support, making them a must-have for all athletes. And with their attractive design and cutting-edge technology, the Javelin 20s are sure to make you a trendsetter among your peers. Don't miss out, visit our website http://acme.com/jav20 and upgrade your shoe game today!\",\n    \"Ready to take your sports and workout routine to the next level? The Javelin 20 High Performance Shoes are here to help. With their perfect combination of motivation, comfort and support, these shoes are a game-changer. Plus, their attractive design and cutting-edge",
       "proposed_plans": "\n{\n    \"plans\": [\n        {\n            \"plan_number\": 1,\n            \"plan_steps\": [\n                \"Get ready to unleash a new you with the Javelin 20 High Performance Shoes!\",\n                \"These shoes are designed to provide the perfect combination of motivation, comfort and support for your workout and sports activities.\",\n                \"With their attractive design and cutting-edge technology, the Javelin 20s are sure to make you a trendsetter among your peers.\",\n                \"So don't wait any longer, visit our website http://acme.com/jav20 and upgrade your shoe game today!\"\n            ]\n        },\n        {\n            \"plan_number\": 2,\n            \"plan_steps\": [\n                \"Are you ready to take your workout to the next level?\",\n                \"Look no further than the Javelin 20 High Performance Shoes.\",\n                \"With their sleek and stylish design, these shoes are a must-have for any sports enthusiast.\",\n                \"Don't miss out on the opportunity to be a trendsetter, head over to http://acme.com/jav20 and grab your pair now!\"\n            ]\n        },\n        {\n            \"plan_number\": 3,\n            \"plan_steps\": [\n                \"Introducing the Javelin 20 High Performance"
      },
      "text/plain": [
       "<IPython.core.display.JSON object>"
      ]
     },
     "execution_count": 24,
     "metadata": {
      "application/json": {
       "expanded": false,
       "root": "root"
      }
     },
     "output_type": "execute_result"
    }
   ],
   "source": [
    "JSON(response)"
   ]
  },
  {
   "cell_type": "code",
   "execution_count": 25,
   "id": "df46e9e9-569b-4d3d-b4f9-0f4240d35afb",
   "metadata": {},
   "outputs": [],
   "source": [
    "proposed_plans = output_parser_generate_plan.parse(response['proposed_plans'])\n",
    "best_voted_plan_details = best_plan_parser.parse(response['best_voted_plan_details'])\n",
    "generated_passages_with_best_plan = generate_passages_parser.parse(response['generated_passages_with_best_plan'])\n",
    "best_passage = best_passage_parser.parse(response['best_passage'])"
   ]
  },
  {
   "cell_type": "code",
   "execution_count": 26,
   "id": "fe66355c-d282-417d-9368-758f0b32a595",
   "metadata": {},
   "outputs": [
    {
     "data": {
      "application/json": {
       "best_passage": {
        "passage_number": 1,
        "reasons": [
         "The first passage contains a clear and compelling title that catches the reader's attention and includes relevant keywords such as 'motivation' and 'attractive'.",
         "The language used in the passage is energetic and conveys a sense of excitement and possibility for the reader.",
         "The final sentence effectively encourages the reader to take action and visit the website to learn more about the product and become a trendsetter."
        ]
       },
       "best_voted_plan_details": {
        "plan_number": 1,
        "plan_steps": [
         "Get ready to unleash a new you with the Javelin 20 High Performance Shoes!",
         "These shoes are designed to provide the perfect combination of motivation, comfort and support for your workout and sports activities.",
         "With their attractive design and cutting-edge technology, the Javelin 20s are sure to make you a trendsetter among your peers.",
         "So don't wait any longer, visit our website http://acme.com/jav20 and upgrade your shoe game today!"
        ],
        "reasons": [
         "The plan effectively uses key words from the task instructions, such as 'motivation', 'workout', 'sports', and 'attractive'.",
         "The plan provides a clear call to action by motivating the reader to visit the website to upgrade their shoe game.",
         "The plan highlights the trendsetting aspect of the product, making it appealing to potential customers."
        ]
       },
       "generated_passages_with_best_plan": {
        "passages": [
         "Get ready to unleash a new you with the Javelin 20 High Performance Shoes! These shoes are designed to provide the perfect combination of motivation, comfort and support for your workout and sports activities. With their attractive design and cutting-edge technology, the Javelin 20s are sure to make you a trendsetter among your peers. So don't wait any longer, visit our website http://acme.com/jav20 and upgrade your shoe game today!",
         "Looking for a way to elevate your workout and sports game? Look no further than the Javelin 20 High Performance Shoes. These shoes are the perfect blend of motivation, comfort and support, making them a must-have for all athletes. And with their attractive design and cutting-edge technology, the Javelin 20s are sure to make you a trendsetter among your peers. Don't miss out, visit our website http://acme.com/jav20 and upgrade your shoe game today!",
         "Ready to take your sports and workout routine to the next level? The Javelin 20 High Performance Shoes are here to help. With their perfect combination of motivation, comfort and support, these shoes are a game-changer. Plus, their attractive design and cutting-edge"
        ]
       },
       "proposed_plans": {
        "plans": [
         {
          "plan_number": 1,
          "plan_steps": [
           "Get ready to unleash a new you with the Javelin 20 High Performance Shoes!",
           "These shoes are designed to provide the perfect combination of motivation, comfort and support for your workout and sports activities.",
           "With their attractive design and cutting-edge technology, the Javelin 20s are sure to make you a trendsetter among your peers.",
           "So don't wait any longer, visit our website http://acme.com/jav20 and upgrade your shoe game today!"
          ]
         },
         {
          "plan_number": 2,
          "plan_steps": [
           "Are you ready to take your workout to the next level?",
           "Look no further than the Javelin 20 High Performance Shoes.",
           "With their sleek and stylish design, these shoes are a must-have for any sports enthusiast.",
           "Don't miss out on the opportunity to be a trendsetter, head over to http://acme.com/jav20 and grab your pair now!"
          ]
         },
         {
          "plan_number": 3,
          "plan_steps": [
           "Introducing the Javelin 20 High Performance"
          ]
         }
        ]
       }
      },
      "text/plain": [
       "<IPython.core.display.JSON object>"
      ]
     },
     "execution_count": 26,
     "metadata": {
      "application/json": {
       "expanded": false,
       "root": "root"
      }
     },
     "output_type": "execute_result"
    }
   ],
   "source": [
    "wrapper_for_ui = {\n",
    "    \"proposed_plans\" : proposed_plans,\n",
    "    \"best_voted_plan_details\": best_voted_plan_details,\n",
    "    \"generated_passages_with_best_plan\": generated_passages_with_best_plan,\n",
    "    \"best_passage\": best_passage\n",
    "}\n",
    "\n",
    "JSON(wrapper_for_ui)"
   ]
  },
  {
   "cell_type": "code",
   "execution_count": null,
   "id": "c2a9870a-d19e-4402-a5f8-631cf1babc8e",
   "metadata": {},
   "outputs": [],
   "source": []
  }
 ],
 "metadata": {
  "kernelspec": {
   "display_name": "Python 3 (ipykernel)",
   "language": "python",
   "name": "python3"
  },
  "language_info": {
   "codemirror_mode": {
    "name": "ipython",
    "version": 3
   },
   "file_extension": ".py",
   "mimetype": "text/x-python",
   "name": "python",
   "nbconvert_exporter": "python",
   "pygments_lexer": "ipython3",
   "version": "3.12.4"
  }
 },
 "nbformat": 4,
 "nbformat_minor": 5
}
