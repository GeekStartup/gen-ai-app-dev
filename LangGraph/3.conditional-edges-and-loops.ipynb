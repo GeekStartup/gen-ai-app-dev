{
 "cells": [
  {
   "cell_type": "markdown",
   "id": "ce524cff-5d3d-4886-866b-d7c998a1824e",
   "metadata": {},
   "source": [
    "# Conditional edges in graph\n",
    "\n",
    "https://langchain-ai.github.io/langgraph/concepts/why-langgraph/\n",
    "\n",
    "https://langchain-ai.github.io/langgraph/reference/\n",
    "\n",
    "https://langchain-ai.github.io/langgraph/reference/graphs/#langgraph.graph.state.StateGraph.add_conditional_edges\n",
    "\n",
    "* A decision function (a.k.a. router logic function) is a needed for deciding the next node\n",
    "* A decision function note is NOT added via the add_node function\n",
    "* The decision function node gets added to the graph via **add_condition_edges(..)** function\n",
    "\n"
   ]
  },
  {
   "cell_type": "code",
   "execution_count": 21,
   "id": "20e5aa73-69c3-4266-b9aa-108bfce82d21",
   "metadata": {},
   "outputs": [
    {
     "data": {
      "image/png": "[encoded data removed]",
      "text/plain": [
       "<IPython.core.display.Image object>"
      ]
     },
     "metadata": {},
     "output_type": "display_data"
    },
    {
     "name": "stdout",
     "output_type": "stream",
     "text": [
      "Random generated : 1\n",
      "node_c received odd number : 1\n",
      "{'rint': 1}\n"
     ]
    }
   ],
   "source": [
    "from langgraph.graph import StateGraph, START, END\n",
    "from typing import TypedDict\n",
    "import random\n",
    "\n",
    "\n",
    "class StateBasic(TypedDict):\n",
    "    rint: int  # Holds a random integer\n",
    "\n",
    "# This is a decision node \n",
    "# The conditional edge logic will be injected at this node\n",
    "def node_a(state: StateBasic)->dict:\n",
    "    rint = random.randint(1, 100)\n",
    "    print(f\"Random generated : {rint}\")\n",
    "    return {\"rint\": rint}\n",
    "\n",
    "# Called when the random number is even\n",
    "def node_b(state: StateBasic):\n",
    "    print(f\"node_b received even number : {state[\"rint\"]}\")\n",
    "    return {}\n",
    "\n",
    "# Called when the random number is odd\n",
    "def node_c(state: StateBasic):\n",
    "    print(f\"node_c received odd number : {state[\"rint\"]}\")\n",
    "    return {}\n",
    "\n",
    "# Router logic\n",
    "def router_logic(state: StateBasic)->str:\n",
    "    if (state[\"rint\"] % 2) == 0:\n",
    "        return \"even_number\"\n",
    "    else:\n",
    "        return \"odd_number\"\n",
    "        \n",
    "# Create a graph builder object\n",
    "workflow = StateGraph(StateBasic)\n",
    "\n",
    "# Add the nodes\n",
    "workflow.add_node(\"node_a\", node_a)\n",
    "workflow.add_node(\"node_b\", node_b)\n",
    "workflow.add_node(\"node_c\", node_c)\n",
    "\n",
    "\n",
    "# Add the edges\n",
    "workflow.add_edge(START, \"node_a\")\n",
    "\n",
    "workflow.add_conditional_edges( \"node_a\", \n",
    "                                \n",
    "                                router_logic,\n",
    "                                \n",
    "                                 {\n",
    "                                     \"even_number\": \"node_b\",\n",
    "                                     \"odd_number\" : \"node_c\"\n",
    "                                 })\n",
    "workflow.add_edge(\"node_b\",END)\n",
    "workflow.add_edge(\"node_c\",END)\n",
    "\n",
    "# Compile to an executable graph\n",
    "workflow_compiled = workflow.compile()\n",
    "\n",
    "# visulaize the graph\n",
    "from IPython.display import Image, display\n",
    "display(Image(workflow_compiled.get_graph().draw_mermaid_png()))\n",
    "\n",
    "# Invoke the graph\n",
    "# First node takes an int so pass an int as input\n",
    "response = workflow_compiled.invoke({})\n",
    "\n",
    "# Print\n",
    "print(response)"
   ]
  },
  {
   "cell_type": "code",
   "execution_count": null,
   "id": "c85c7ad5-d1d6-4b24-8d00-e9288c2cf522",
   "metadata": {},
   "outputs": [],
   "source": []
  },
  {
   "cell_type": "markdown",
   "id": "7aa578ac-b969-411d-b3ea-b4789cbd2b87",
   "metadata": {},
   "source": [
    "# Looping behavior\n",
    "\n",
    "* The router logic decides whether the loop continues or exit\n",
    "* In  this example the state maintains variables for number-of-iterations and current-iterations-completed"
   ]
  },
  {
   "cell_type": "code",
   "execution_count": 24,
   "id": "688de87b-fe0d-4766-8eb6-f404dfe1c95d",
   "metadata": {},
   "outputs": [
    {
     "data": {
      "image/png": "[encoded data removed]",
      "text/plain": [
       "<IPython.core.display.Image object>"
      ]
     },
     "metadata": {},
     "output_type": "display_data"
    },
    {
     "name": "stdout",
     "output_type": "stream",
     "text": [
      "Processing iteration # 1\n",
      "Processing iteration # 2\n",
      "Processing iteration # 3\n",
      "Processing iteration # 4\n",
      "Processing iteration # 5\n",
      "Processing iteration # 6\n"
     ]
    }
   ],
   "source": [
    "from langgraph.graph import StateGraph, START, END\n",
    "from typing import TypedDict\n",
    "import random\n",
    "\n",
    "# Define the state schema to implement loop\n",
    "class StateBasicLoop(TypedDict):\n",
    "    number_iteration: int\n",
    "    current_iteration: int\n",
    "\n",
    "# Router checks if the loop needs to continue or end\n",
    "def router_logic(state: StateBasicLoop) -> str:\n",
    "    if state[\"current_iteration\"] < state[\"number_iteration\"]:\n",
    "        return \"continue\"\n",
    "    else:\n",
    "        return \"exit\"\n",
    "\n",
    "# A dummy decision node to which the conditional logic will be added\n",
    "def decision_node(state: StateBasicLoop) -> dict:\n",
    "    return {}\n",
    "\n",
    "def processor(state: StateBasicLoop) -> dict:\n",
    "    iteration = state[\"current_iteration\"] + 1\n",
    "    print(f\"Processing iteration # {iteration}\")\n",
    "    return {\"current_iteration\": iteration}\n",
    "\n",
    "workflow_loop = StateGraph(StateBasicLoop)\n",
    "\n",
    "workflow_loop.add_node(\"decision_node\", decision_node)\n",
    "workflow_loop.add_node(\"processor\", processor)\n",
    "\n",
    "workflow_loop.add_edge(START, \"decision_node\")\n",
    "workflow_loop.add_conditional_edges(\n",
    "                                        \"decision_node\",\n",
    "                                        router_logic,\n",
    "                                        {\n",
    "                                            \"continue\": \"processor\",\n",
    "                                            \"exit\": END\n",
    "                                        })\n",
    "workflow_loop.add_edge(\"processor\", \"decision_node\")\n",
    "\n",
    "# Compile to an executable graph\n",
    "workflow_loop_compiled = workflow_loop.compile()\n",
    "\n",
    "# visulaize the graph\n",
    "from IPython.display import Image, display\n",
    "display(Image(workflow_loop_compiled.get_graph().draw_mermaid_png()))\n",
    "\n",
    "# Invoke\n",
    "response = workflow_loop_compiled.invoke({\"number_iteration\": 6, \"current_iteration\": 0})"
   ]
  },
  {
   "cell_type": "code",
   "execution_count": null,
   "id": "9759f53a-8f02-42d9-bd2f-e91d3fedaa38",
   "metadata": {},
   "outputs": [],
   "source": []
  }
 ],
 "metadata": {
  "kernelspec": {
   "display_name": "Python 3 (ipykernel)",
   "language": "python",
   "name": "python3"
  },
  "language_info": {
   "codemirror_mode": {
    "name": "ipython",
    "version": 3
   },
   "file_extension": ".py",
   "mimetype": "text/x-python",
   "name": "python",
   "nbconvert_exporter": "python",
   "pygments_lexer": "ipython3",
   "version": "3.12.9"
  }
 },
 "nbformat": 4,
 "nbformat_minor": 5
}
