{
 "cells": [
  {
   "cell_type": "markdown",
   "id": "9ef5267f-6df7-4e55-baf8-1b676e4e9c52",
   "metadata": {},
   "source": [
    "# MCP tools\n",
    "Demonstrates how the ToolNode can connect to MCP servers for invoking the tools, access the resources, and prompts.\n",
    "\n",
    "1. Create an MCP session to 2 MCP servers\n",
    "2. Create a graph with ToolNode\n",
    "3. Use the MultiServerMCP client from ToolNode to interact with servers\n",
    "\n",
    "\n",
    "#### LangChain MCP adapter\n",
    "https://github.com/langchain-ai/langchain-mcp-adapters\n",
    "\n",
    "#### LangGraph MultiServerMCPClient\n",
    "https://langchain-ai.github.io/langgraph/reference/mcp/#langchain_mcp_adapters.client.MultiServerMCPClient\n",
    "\n"
   ]
  },
  {
   "cell_type": "code",
   "execution_count": 15,
   "id": "8eda1962-bf3a-4a92-8bef-865056442ff0",
   "metadata": {},
   "outputs": [],
   "source": [
    "from mcp import ClientSession\n",
    "import pathlib\n",
    "from langchain_mcp_adapters.client import MultiServerMCPClient\n",
    "import asyncio"
   ]
  },
  {
   "cell_type": "markdown",
   "id": "a0ad06bd-2d3a-4eae-9d57-726a54b54d83",
   "metadata": {},
   "source": [
    "## Create the client session"
   ]
  },
  {
   "cell_type": "code",
   "execution_count": 16,
   "id": "f491458c-e8aa-4aeb-9e76-d74a55062ae8",
   "metadata": {},
   "outputs": [],
   "source": [
    "async def create_client() -> ClientSession:\n",
    "\n",
    "    # get the folder for this script\n",
    "    current_script_folder = pathlib.Path(__file__).parent.resolve()\n",
    "    client = MultiServerMCPClient(\n",
    "    {\n",
    "        \"weather\": {\n",
    "            \"command\": \"uv\",\n",
    "            \"args\": [\"run\", f\"current_script_folder/mcp/mcp-server-weather.py\"],\n",
    "            \"transport\": \"stdio\",\n",
    "        },\n",
    "        \"stock\": {\n",
    "            \"command\": \"uv\",\n",
    "            \"args\": [\"run\", f\"current_script_folder/mcp/mcp-server-stock.py\"],\n",
    "            \"transport\": \"stdio\",\n",
    "        }\n",
    "    })\n",
    "\n",
    "    return client"
   ]
  },
  {
   "cell_type": "code",
   "execution_count": 18,
   "id": "d690d3eb-cea0-4cdf-96cd-e6c6f2f25289",
   "metadata": {},
   "outputs": [
    {
     "ename": "RuntimeError",
     "evalue": "asyncio.run() cannot be called from a running event loop",
     "output_type": "error",
     "traceback": [
      "\u001b[31m---------------------------------------------------------------------------\u001b[39m",
      "\u001b[31mRuntimeError\u001b[39m                              Traceback (most recent call last)",
      "\u001b[36mCell\u001b[39m\u001b[36m \u001b[39m\u001b[32mIn[18]\u001b[39m\u001b[32m, line 1\u001b[39m\n\u001b[32m----> \u001b[39m\u001b[32m1\u001b[39m client = \u001b[43masyncio\u001b[49m\u001b[43m.\u001b[49m\u001b[43mrun\u001b[49m\u001b[43m(\u001b[49m\u001b[43mcreate_client_session\u001b[49m\u001b[43m(\u001b[49m\u001b[43m)\u001b[49m\u001b[43m)\u001b[49m\n\u001b[32m      2\u001b[39m asyncio.run(client.get_tools())\n",
      "\u001b[36mFile \u001b[39m\u001b[32m~\\AppData\\Roaming\\uv\\python\\cpython-3.12.9-windows-x86_64-none\\Lib\\asyncio\\runners.py:191\u001b[39m, in \u001b[36mrun\u001b[39m\u001b[34m(main, debug, loop_factory)\u001b[39m\n\u001b[32m    161\u001b[39m \u001b[38;5;250m\u001b[39m\u001b[33;03m\"\"\"Execute the coroutine and return the result.\u001b[39;00m\n\u001b[32m    162\u001b[39m \n\u001b[32m    163\u001b[39m \u001b[33;03mThis function runs the passed coroutine, taking care of\u001b[39;00m\n\u001b[32m   (...)\u001b[39m\u001b[32m    187\u001b[39m \u001b[33;03m    asyncio.run(main())\u001b[39;00m\n\u001b[32m    188\u001b[39m \u001b[33;03m\"\"\"\u001b[39;00m\n\u001b[32m    189\u001b[39m \u001b[38;5;28;01mif\u001b[39;00m events._get_running_loop() \u001b[38;5;129;01mis\u001b[39;00m \u001b[38;5;129;01mnot\u001b[39;00m \u001b[38;5;28;01mNone\u001b[39;00m:\n\u001b[32m    190\u001b[39m     \u001b[38;5;66;03m# fail fast with short traceback\u001b[39;00m\n\u001b[32m--> \u001b[39m\u001b[32m191\u001b[39m     \u001b[38;5;28;01mraise\u001b[39;00m \u001b[38;5;167;01mRuntimeError\u001b[39;00m(\n\u001b[32m    192\u001b[39m         \u001b[33m\"\u001b[39m\u001b[33masyncio.run() cannot be called from a running event loop\u001b[39m\u001b[33m\"\u001b[39m)\n\u001b[32m    194\u001b[39m \u001b[38;5;28;01mwith\u001b[39;00m Runner(debug=debug, loop_factory=loop_factory) \u001b[38;5;28;01mas\u001b[39;00m runner:\n\u001b[32m    195\u001b[39m     \u001b[38;5;28;01mreturn\u001b[39;00m runner.run(main)\n",
      "\u001b[31mRuntimeError\u001b[39m: asyncio.run() cannot be called from a running event loop"
     ]
    }
   ],
   "source": [
    "async def client = asyncio.run(create_client_session())\n",
    "asyncio.run(client.get_tools())"
   ]
  },
  {
   "cell_type": "code",
   "execution_count": 13,
   "id": "ce6f4ec0-f96a-4d56-bd73-2b3cbd426351",
   "metadata": {},
   "outputs": [
    {
     "data": {
      "text/plain": [
       "<coroutine object create_client_session at 0x000002186C711C60>"
      ]
     },
     "execution_count": 13,
     "metadata": {},
     "output_type": "execute_result"
    }
   ],
   "source": [
    "client"
   ]
  },
  {
   "cell_type": "code",
   "execution_count": null,
   "id": "02e5d7d6-46b0-47e6-af58-f149673b4b78",
   "metadata": {},
   "outputs": [],
   "source": []
  }
 ],
 "metadata": {
  "kernelspec": {
   "display_name": "Python 3 (ipykernel)",
   "language": "python",
   "name": "python3"
  },
  "language_info": {
   "codemirror_mode": {
    "name": "ipython",
    "version": 3
   },
   "file_extension": ".py",
   "mimetype": "text/x-python",
   "name": "python",
   "nbconvert_exporter": "python",
   "pygments_lexer": "ipython3",
   "version": "3.12.9"
  }
 },
 "nbformat": 4,
 "nbformat_minor": 5
}
