{
 "cells": [
  {
   "cell_type": "markdown",
   "id": "c82964da-0ed5-4916-8033-05455b64f246",
   "metadata": {},
   "source": [
    "# Try out ChromaDB\n",
    "\n",
    "### Objective:\n",
    "* Hands on experience with a Vector database\n",
    "* Familiarize with common operations/capabilities\n",
    "\n",
    "The exercise uses Chroma in *embedded* mode. You may also use the client-server mode using the instructions below.\n",
    "\n",
    "#### Chroma samples\n",
    "* https://www.trychroma.com/\n",
    "* https://docs.trychroma.com/\n",
    "\n",
    "#### API Reference\n",
    "\n",
    "https://docs.trychroma.com/api-reference\n",
    "\n",
    "#### Client-Server mode\n",
    "To use the client server setup, launch the chromadb server with command below\n",
    "\n",
    "$ chroma run --path ./temp.db1\n",
    "\n",
    "Use the HTTP client instead of PersistentClient\n",
    "\n",
    "Math word problems\n",
    "\n",
    "https://huggingface.co/datasets/microsoft/orca-math-word-problems-200k?row=5"
   ]
  },
  {
   "cell_type": "markdown",
   "id": "82e7cfac-7f02-4a36-b587-e05a7f61280b",
   "metadata": {},
   "source": [
    "## Install ChromaDB\n",
    "\n",
    "* To use the embedded model, install the package: *chormadb*\n",
    "* For client-server, you just need the package: *chromadb-client*\n",
    "\n",
    "#### Potential issues on Windows 10/11\n",
    "* pip install for chromadb may fail !!\n",
    "* Pay attention to the failure message : You may need to install Microsoft C++ build tools : Download \"Build Tools\" & Install \"Desktop development with C++\" and then try pip install chromadb\n",
    "* Refer :    https://visualstudio.microsoft.com/visual-cpp-build-tools/\n",
    "* Stackexchange : https://stackoverflow.com/questions/73969269/error-could-not-build-wheels-for-hnswlib-which-is-required-to-install-pyprojec/76245995#76245995\n",
    "\n",
    "#### Runtime error?\n",
    "RuntimeError: Chroma is running in http-only client mode, and can only be run with 'chromadb.api.fastapi.FastAPI' or 'chromadb.api.async_fastapi.AsyncFastAPI' as the chroma_api_impl.\n",
    "\n",
    "If you get the above error, it means that you have installed both chromadb & chromadb-client, which is causing the conflict. You need to:\n",
    "* pip unintsall chromadb  chromadb-client\n",
    "* pip install chromadb"
   ]
  },
  {
   "cell_type": "code",
   "execution_count": 6,
   "id": "152c1297-b200-4572-a1f6-980b11a41be9",
   "metadata": {},
   "outputs": [],
   "source": [
    "# DO NOT INSTALL BOTH chomadb and chromadb-client as there are conflicts : You will get Runtime error !!\n",
    "# For in-memory and persistent class\n",
    "# Not needed if client-server is in user\n",
    "# !pip install chromadb\n",
    "\n",
    "# Needed for client-server\n",
    "# !pip install chromadb-client"
   ]
  },
  {
   "cell_type": "markdown",
   "id": "fb445130-9d43-453f-9506-44143b15ec43",
   "metadata": {},
   "source": [
    "# Part-1 Used default embeddings"
   ]
  },
  {
   "cell_type": "markdown",
   "id": "54548afb-bb2e-4e62-9a53-8b0f7a5a8923",
   "metadata": {},
   "source": [
    "## 1. Create a collection\n",
    "\n",
    "Instructions below are for using the embedded mode.\n",
    "\n",
    "1. Create a database with the *PersistentClient* - pass the local file system location for persistence\n",
    "2. Create the collection. Metadata is used to select the:\n",
    "* Algorithm\n",
    "* Distance metric\n",
    "\n",
    "#### API Documentation\n",
    "\n",
    "**Client** \n",
    "https://docs.trychroma.com/reference/Client\n",
    "\n",
    "**Collection**\n",
    "https://docs.trychroma.com/reference/Collection\n",
    "\n",
    "collection = client.create_collection(\r\n",
    "        name=\"collection_name\",\r\n",
    "        metadata={\"hnsw:space\": \"cosine\"} # l2 is the default\r\n",
    "    )\n"
   ]
  },
  {
   "cell_type": "code",
   "execution_count": 1,
   "id": "6465d3ad-6c2f-4772-a464-d7aa0b371149",
   "metadata": {},
   "outputs": [],
   "source": [
    "import chromadb"
   ]
  },
  {
   "cell_type": "code",
   "execution_count": 2,
   "id": "857a2718-51e4-4f04-a1ed-3ba17edc6d2a",
   "metadata": {},
   "outputs": [
    {
     "name": "stderr",
     "output_type": "stream",
     "text": [
      "⚠️ It looks like you upgraded from a version below 0.5.6 and could benefit from vacuuming your database. Run chromadb utils vacuum --help for more information.\n"
     ]
    }
   ],
   "source": [
    "# Create the client\n",
    "client = chromadb.PersistentClient(path=\"c:/temp/chromadb-test\")\n",
    "\n",
    "# Setup the collection name - use a naming convention, add metasdata\n",
    "collection_name = \"testset_MiniLM-L6-V2\"\n",
    "\n",
    "# Add relevant fields to the metadata e.g., source of information, PDF page#, Internal-ID, expiry date, owner of information, ....\n",
    "collection_metadata= {\"hnsw:space\": \"cosine\"} \n",
    "\n",
    "# Comment the code below to prevent re-creation of the collection\n",
    "try:\n",
    "    client.delete_collection(name=collection_name)\n",
    "except:\n",
    "    print(\"Ignore if the collection is not there\")\n",
    "\n",
    "# Create the collection\n",
    "collection = client.get_or_create_collection(name=collection_name, metadata=collection_metadata)\n",
    "\n",
    "# collection"
   ]
  },
  {
   "cell_type": "markdown",
   "id": "fb554b63-7db1-48d3-b578-a2cbb499eea9",
   "metadata": {},
   "source": [
    "## 2. Add embeddings to collection\n",
    "\n",
    "Chroma uses the \"all-MiniLM-L6-v2\" by default to generate the embeddings."
   ]
  },
  {
   "cell_type": "code",
   "execution_count": 3,
   "id": "9889aed8-e261-4098-80cc-b74eccb5dbb0",
   "metadata": {},
   "outputs": [],
   "source": [
    "# Test corpus\n",
    "corpus = [\n",
    "  \"A man is eating food.\", \"A man is eating a piece of bread.\",\n",
    "  \"The chef is preparing a delicious meal in the kitchen.\", \"A chef is tossing vegetables in a sizzling pan.\",\n",
    "  \"A man is riding a horse.\", \"A man is riding a white horse on an enclosed ground.\",\n",
    "  \"A woman is playing violin.\", \"A musician is tuning his guitar before the concert.\",\n",
    "  \"The girl is carrying a baby.\", \"The baby is giggling while playing with her toys.\",\n",
    "  \"The family is having a picnic under the shady oak tree.\", \"A group of friends is hiking up the mountain trail.\",\n",
    "  \"The mechanic is repairing a broken-down car in the garage.\", \"The old man is feeding breadcrumbs to the ducks at the pond.\",\n",
    "  \"The artist is sketching a beautiful landscape at sunset.\", \"A man is painting a colorful mural on the city wall.\",\n",
    "  \"A team of scientists is conducting experiments in the laboratory.\", \"A group of students is studying together in the library.\",\n",
    "  \"The birds are chirping happily in the morning sun.\", \"The dog is chasing its tail around the backyard.\",\n",
    "  \"A group of children are playing soccer in the park.\", \"A monkey is playing drums.\",\n",
    "  \"A boy is flying a kite in the open field.\", \"Two men pushed carts through the woods.\",\n",
    "  \"A woman is walking her dog along the beach.\", \"A young girl is reading a book under a shady tree.\",\n",
    "  \"The dancer is gracefully performing on stage.\", \"The farmer is harvesting ripe tomatoes from the vine.\"\n",
    "]\n",
    "\n",
    "# Fileds stored alongside embeddings\n",
    "ids  = []\n",
    "metadatas = []\n",
    "\n",
    "# Loop through corpus to generate the ids and metdata = {wordcount, uri}\n",
    "for i in range(len(corpus)):\n",
    "    # print(corpus[i])\n",
    "    ids.append(\"id-\"+str(i))\n",
    "    uri = \"https://link-\"+str(i)\n",
    "    metadatas.append({\"words_count\": len(corpus[i]), \"uri\": uri})\n",
    "\n",
    "collection.add(documents = corpus, metadatas=metadatas, ids=ids)"
   ]
  },
  {
   "cell_type": "markdown",
   "id": "ebffd140-5079-4988-9270-18b8b18a3123",
   "metadata": {},
   "source": [
    "## 3. Check count & peek()"
   ]
  },
  {
   "cell_type": "code",
   "execution_count": 6,
   "id": "6ffe53cb-e3bb-4bf5-b484-2f4547ea898b",
   "metadata": {},
   "outputs": [
    {
     "name": "stdout",
     "output_type": "stream",
     "text": [
      "Index count :  28\n",
      "['id-0', 'id-1', 'id-10', 'id-11', 'id-12', 'id-13', 'id-14', 'id-15', 'id-16', 'id-17']\n",
      "[{'uri': 'https://link-0', 'words_count': 21}, {'uri': 'https://link-1', 'words_count': 33}, {'uri': 'https://link-10', 'words_count': 55}, {'uri': 'https://link-11', 'words_count': 51}, {'uri': 'https://link-12', 'words_count': 58}, {'uri': 'https://link-13', 'words_count': 60}, {'uri': 'https://link-14', 'words_count': 56}, {'uri': 'https://link-15', 'words_count': 52}, {'uri': 'https://link-16', 'words_count': 65}, {'uri': 'https://link-17', 'words_count': 56}]\n",
      "['A man is eating food.', 'A man is eating a piece of bread.', 'The family is having a picnic under the shady oak tree.', 'A group of friends is hiking up the mountain trail.', 'The mechanic is repairing a broken-down car in the garage.', 'The old man is feeding breadcrumbs to the ducks at the pond.', 'The artist is sketching a beautiful landscape at sunset.', 'A man is painting a colorful mural on the city wall.', 'A team of scientists is conducting experiments in the laboratory.', 'A group of students is studying together in the library.']\n"
     ]
    }
   ],
   "source": [
    "# Get the count and check a few items\n",
    "count = collection.count()\n",
    "\n",
    "# Returns 10 rows\n",
    "result = collection.peek()\n",
    "# print(result)\n",
    "\n",
    "# Print information on the collection\n",
    "print(\"Index count : \", count)\n",
    "print(result['ids'])\n",
    "print(result['metadatas'])\n",
    "print(result['documents'])\n"
   ]
  },
  {
   "cell_type": "markdown",
   "id": "36545a11-9b16-47ff-b2a3-feb18144f11c",
   "metadata": {},
   "source": [
    "## 4. Query\n",
    "\n",
    "https://docs.trychroma.com/usage-guide#querying-a-collection\n",
    "\n",
    "Carry out ANN search over the embeddings files.\"}\r\n",
    ")"
   ]
  },
  {
   "cell_type": "code",
   "execution_count": 9,
   "id": "1ddba9dd-2f17-4dae-8e9a-e31230b123b8",
   "metadata": {},
   "outputs": [
    {
     "name": "stdout",
     "output_type": "stream",
     "text": [
      "[['The chef is preparing a delicious meal in the kitchen.', 'A chef is tossing vegetables in a sizzling pan.']]\n",
      "[['id-2', 'id-3']]\n",
      "[[{'uri': 'https://link-2', 'words_count': 54}, {'uri': 'https://link-3', 'words_count': 47}]]\n"
     ]
    }
   ],
   "source": [
    "result = collection.query(\n",
    "    query_texts = [\"I like to cook\"], # \"small child is having fun\"],\n",
    "    n_results = 3,\n",
    "    # include=[\"documents\"],             # projections\n",
    "    # where={\"words_count\": {\"$lt\": 50}},\n",
    "    # where_document={\"$contains\":\"chef\"},\n",
    "    \n",
    ")\n",
    "\n",
    "print(result['documents'])\n",
    "print(result['ids'])\n",
    "print(result['metadatas'])"
   ]
  },
  {
   "cell_type": "markdown",
   "id": "9b2fdc71-38c9-4a9e-832e-a95ce732c07f",
   "metadata": {},
   "source": [
    "## 5. Get\n",
    "\n",
    "Retrieve items with ids"
   ]
  },
  {
   "cell_type": "code",
   "execution_count": 25,
   "id": "97282d7a-95f0-436d-af1b-236e08615450",
   "metadata": {},
   "outputs": [
    {
     "data": {
      "text/plain": [
       "{'ids': [],\n",
       " 'embeddings': None,\n",
       " 'metadatas': [],\n",
       " 'documents': [],\n",
       " 'uris': None,\n",
       " 'data': None}"
      ]
     },
     "execution_count": 25,
     "metadata": {},
     "output_type": "execute_result"
    }
   ],
   "source": [
    "# get documents collection\n",
    "result = collection.get(\n",
    "    ids = [\"id-17\", \"id-21\"],\n",
    "    where = {\"words_count\": {\"$gt\": 0}},\n",
    "    # where_document={\"$contains\":\"chef\"},\n",
    "    include = [\"documents\", \"metadatas\"]    # projections\n",
    ")\n",
    "\n",
    "result"
   ]
  },
  {
   "cell_type": "markdown",
   "id": "480e1ef1-23a4-49ec-9ace-38058c99e662",
   "metadata": {},
   "source": [
    "# Part-2 : Cohere custom embedding\n",
    "You can specify your own embedding function\n",
    "\n",
    "Chroma provides a lightweight wrapper for multiple popular models\n",
    "\n",
    "https://docs.trychroma.com/embeddings"
   ]
  },
  {
   "cell_type": "code",
   "execution_count": 12,
   "id": "2217a575-cdb2-4feb-89e7-18223e9c2907",
   "metadata": {},
   "outputs": [],
   "source": [
    "from chromadb.utils import embedding_functions"
   ]
  },
  {
   "cell_type": "markdown",
   "id": "ae3bc8b7-476e-46c3-a65f-8fb48052e664",
   "metadata": {},
   "source": [
    "## 1.Read Cohere API Key"
   ]
  },
  {
   "cell_type": "code",
   "execution_count": 13,
   "id": "c687c7c5-a203-419b-a3c8-c165e4378682",
   "metadata": {},
   "outputs": [],
   "source": [
    "from dotenv import load_dotenv\n",
    "import os\n",
    "\n",
    "import warnings\n",
    "\n",
    "warnings.filterwarnings(\"ignore\")\n",
    "\n",
    "# Load the file that contains the API keys\n",
    "load_dotenv('C:\\\\Users\\\\raj\\\\.jupyter\\\\.env')\n",
    "\n",
    "COHERE_API_KEY = os.getenv('COHERE_API_KEY')"
   ]
  },
  {
   "cell_type": "markdown",
   "id": "f2207771-746d-4c4e-85e8-e0eaef1d337b",
   "metadata": {},
   "source": [
    "## 2.Create the Cohere Embedding Function"
   ]
  },
  {
   "cell_type": "code",
   "execution_count": 14,
   "id": "db615397-e77f-46b2-b6a0-dd75abc030d6",
   "metadata": {},
   "outputs": [],
   "source": [
    "# https://docs.cohere.com/docs/models#embed\n",
    "# Check documentation for embedding size\n",
    "model_name = 'embed-english-light-v2.0'\n",
    "embedding_dimension = 1024\n",
    "\n",
    "cohere_ef  = embedding_functions.CohereEmbeddingFunction(\n",
    "        api_key=COHERE_API_KEY, \n",
    "        model_name=model_name)"
   ]
  },
  {
   "cell_type": "markdown",
   "id": "63781536-60cc-40ab-8c4c-07e44c07ccb9",
   "metadata": {},
   "source": [
    "## 3.Create collection with Cohere embeddings"
   ]
  },
  {
   "cell_type": "code",
   "execution_count": 15,
   "id": "3057e529-095c-4882-a0a5-45facbca57f9",
   "metadata": {},
   "outputs": [
    {
     "data": {
      "text/plain": [
       "Collection(name=testset_cohere-embed-english-light-v2.0)"
      ]
     },
     "execution_count": 15,
     "metadata": {},
     "output_type": "execute_result"
    }
   ],
   "source": [
    "# Setup the collection name - use a naming convention, add metasdata\n",
    "cohere_collection_name = \"testset_cohere-embed-english-light-v2.0\"\n",
    "\n",
    "collection_cohere = client.get_or_create_collection(name=cohere_collection_name, embedding_function=cohere_ef)\n",
    "\n",
    "collection_cohere"
   ]
  },
  {
   "cell_type": "markdown",
   "id": "28e5d856-ea25-4f76-9d39-e37cdd4a1564",
   "metadata": {},
   "source": [
    "## 4.Add documents"
   ]
  },
  {
   "cell_type": "code",
   "execution_count": 16,
   "id": "1505f5c0-e70b-4b6a-9c54-477a11fdb4e3",
   "metadata": {},
   "outputs": [],
   "source": [
    "collection_cohere.add(documents = corpus, metadatas=metadatas, ids=ids)"
   ]
  },
  {
   "cell_type": "code",
   "execution_count": 17,
   "id": "45406831-44db-46b9-8131-db0287a874f2",
   "metadata": {},
   "outputs": [
    {
     "data": {
      "text/plain": [
       "28"
      ]
     },
     "execution_count": 17,
     "metadata": {},
     "output_type": "execute_result"
    }
   ],
   "source": [
    "collection_cohere.count()"
   ]
  },
  {
   "cell_type": "markdown",
   "id": "935682bf-6aa1-46a0-a839-39e97704b986",
   "metadata": {},
   "source": [
    "## 5.Query"
   ]
  },
  {
   "cell_type": "code",
   "execution_count": 19,
   "id": "694cde43-f127-4036-bf95-cb4c51f2e316",
   "metadata": {},
   "outputs": [
    {
     "name": "stdout",
     "output_type": "stream",
     "text": [
      "[['The chef is preparing a delicious meal in the kitchen.', 'A chef is tossing vegetables in a sizzling pan.', 'A man is eating food.']]\n",
      "[['id-2', 'id-3', 'id-0']]\n",
      "[[{'uri': 'https://link-2', 'words_count': 54}, {'uri': 'https://link-3', 'words_count': 47}, {'uri': 'https://link-0', 'words_count': 21}]]\n"
     ]
    }
   ],
   "source": [
    "result = collection_cohere.query(\n",
    "    query_texts = [\"I like to cook\"], # \"small child is having fun\"],\n",
    "    n_results = 3,\n",
    "    # include=[\"documents\"],             # projections\n",
    "    # where={\"words_count\": {\"$lt\": 50}},\n",
    "    # where_document={\"$contains\":\"chef\"},\n",
    "    \n",
    ")\n",
    "\n",
    "print(result['documents'])\n",
    "print(result['ids'])\n",
    "print(result['metadatas'])"
   ]
  },
  {
   "cell_type": "code",
   "execution_count": null,
   "id": "8eeedb1d-4604-4dc5-8cdb-38315bac69f6",
   "metadata": {},
   "outputs": [],
   "source": []
  }
 ],
 "metadata": {
  "kernelspec": {
   "display_name": "Python 3 (ipykernel)",
   "language": "python",
   "name": "python3"
  },
  "language_info": {
   "codemirror_mode": {
    "name": "ipython",
    "version": 3
   },
   "file_extension": ".py",
   "mimetype": "text/x-python",
   "name": "python",
   "nbconvert_exporter": "python",
   "pygments_lexer": "ipython3",
   "version": "3.12.4"
  }
 },
 "nbformat": 4,
 "nbformat_minor": 5
}
