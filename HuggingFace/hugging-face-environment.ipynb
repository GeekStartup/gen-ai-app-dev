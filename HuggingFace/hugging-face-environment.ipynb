{
 "cells": [
  {
   "cell_type": "markdown",
   "id": "d8fe8dbb",
   "metadata": {},
   "source": [
    "# Hugging Face environment"
   ]
  },
  {
   "cell_type": "code",
   "id": "52615d9c",
   "metadata": {
    "ExecuteTime": {
     "end_time": "2025-08-16T13:49:06.225057Z",
     "start_time": "2025-08-16T13:49:04.229047Z"
    }
   },
   "source": [
    "!pip install huggingface_hub[cli] -q"
   ],
   "outputs": [],
   "execution_count": 2
  },
  {
   "cell_type": "markdown",
   "id": "0f383ac5",
   "metadata": {},
   "source": [
    "## Hugging Face CLI\n",
    "A tool for interacting with Hugging Face Hub.\n",
    "\n",
    "https://huggingface.co/docs/huggingface_hub/guides/cli"
   ]
  },
  {
   "cell_type": "code",
   "id": "3052353d",
   "metadata": {
    "ExecuteTime": {
     "end_time": "2025-08-16T13:49:10.201482Z",
     "start_time": "2025-08-16T13:49:09.621179Z"
    }
   },
   "source": [
    "!huggingface-cli --help"
   ],
   "outputs": [
    {
     "name": "stdout",
     "output_type": "stream",
     "text": [
      "usage: huggingface-cli <command> [<args>]\n",
      "\n",
      "positional arguments:\n",
      "  {download,upload,repo-files,env,login,whoami,logout,auth,repo,lfs-enable-largefiles,lfs-multipart-upload,scan-cache,delete-cache,tag,version,upload-large-folder}\n",
      "                        huggingface-cli command helpers\n",
      "    download            Download files from the Hub\n",
      "    upload              Upload a file or a folder to a repo on the Hub\n",
      "    repo-files          Manage files in a repo on the Hub\n",
      "    env                 Print information about the environment.\n",
      "    login               Log in using a token from\n",
      "                        huggingface.co/settings/tokens\n",
      "    whoami              Find out which huggingface.co account you are logged\n",
      "                        in as.\n",
      "    logout              Log out\n",
      "    auth                Other authentication related commands\n",
      "    repo                {create} Commands to interact with your huggingface.co\n",
      "                        repos.\n",
      "    lfs-enable-largefiles\n",
      "                        Configure your repository to enable upload of files >\n",
      "                        5GB.\n",
      "    scan-cache          Scan cache directory.\n",
      "    delete-cache        Delete revisions from the cache directory.\n",
      "    tag                 (create, list, delete) tags for a repo in the hub\n",
      "    version             Print information about the huggingface-cli version.\n",
      "    upload-large-folder\n",
      "                        Upload a large folder to a repo on the Hub\n",
      "\n",
      "options:\n",
      "  -h, --help            show this help message and exit\n"
     ]
    }
   ],
   "execution_count": 3
  },
  {
   "cell_type": "code",
   "id": "57a7f564",
   "metadata": {
    "ExecuteTime": {
     "end_time": "2025-08-16T13:51:29.468160Z",
     "start_time": "2025-08-16T13:51:28.697244Z"
    }
   },
   "source": "!hf env",
   "outputs": [
    {
     "name": "stdout",
     "output_type": "stream",
     "text": [
      "\n",
      "Copy-and-paste the text below in your GitHub issue.\n",
      "\n",
      "- huggingface_hub version: 0.34.4\n",
      "- Platform: Windows-11-10.0.26100-SP0\n",
      "- Python version: 3.12.11\n",
      "- Running in iPython ?: No\n",
      "- Running in notebook ?: No\n",
      "- Running in Google Colab ?: No\n",
      "- Running in Google Colab Enterprise ?: No\n",
      "- Token path ?: C:\\Users\\ashis\\.cache\\huggingface\\token\n",
      "- Has saved token ?: False\n",
      "- Configured git credential helpers: manager\n",
      "- FastAI: N/A\n",
      "- Tensorflow: N/A\n",
      "- Torch: 2.7.1\n",
      "- Jinja2: 3.1.6\n",
      "- Graphviz: N/A\n",
      "- keras: N/A\n",
      "- Pydot: N/A\n",
      "- Pillow: 11.3.0\n",
      "- hf_transfer: N/A\n",
      "- gradio: N/A\n",
      "- tensorboard: N/A\n",
      "- numpy: 2.3.2\n",
      "- pydantic: 2.11.7\n",
      "- aiohttp: 3.12.15\n",
      "- hf_xet: N/A\n",
      "- ENDPOINT: https://huggingface.co\n",
      "- HF_HUB_CACHE: C:\\Users\\ashis\\.cache\\huggingface\\hub\n",
      "- HF_ASSETS_CACHE: C:\\Users\\ashis\\.cache\\huggingface\\assets\n",
      "- HF_TOKEN_PATH: C:\\Users\\ashis\\.cache\\huggingface\\token\n",
      "- HF_STORED_TOKENS_PATH: C:\\Users\\ashis\\.cache\\huggingface\\stored_tokens\n",
      "- HF_HUB_OFFLINE: False\n",
      "- HF_HUB_DISABLE_TELEMETRY: False\n",
      "- HF_HUB_DISABLE_PROGRESS_BARS: None\n",
      "- HF_HUB_DISABLE_SYMLINKS_WARNING: False\n",
      "- HF_HUB_DISABLE_EXPERIMENTAL_WARNING: False\n",
      "- HF_HUB_DISABLE_IMPLICIT_TOKEN: False\n",
      "- HF_HUB_DISABLE_XET: False\n",
      "- HF_HUB_ENABLE_HF_TRANSFER: False\n",
      "- HF_HUB_ETAG_TIMEOUT: 10\n",
      "- HF_HUB_DOWNLOAD_TIMEOUT: 10\n",
      "\n"
     ]
    }
   ],
   "execution_count": 7
  },
  {
   "cell_type": "markdown",
   "id": "bf9dadc0",
   "metadata": {},
   "source": [
    "## Caching\n",
    "Hugging Face APIs caches the assets downloaded from the hub. This provides better performance.\n",
    "\n",
    "\n",
    "https://huggingface.co/docs/huggingface_hub/guides/manage-cache"
   ]
  },
  {
   "cell_type": "code",
   "id": "f344936b",
   "metadata": {
    "ExecuteTime": {
     "end_time": "2025-08-16T13:51:35.043496Z",
     "start_time": "2025-08-16T13:51:34.456187Z"
    }
   },
   "source": [
    "# Checkout the downloaded assets\n",
    "!hf cache scan"
   ],
   "outputs": [
    {
     "name": "stdout",
     "output_type": "stream",
     "text": [
      "REPO ID                                         REPO TYPE SIZE ON DISK NB FILES LAST_ACCESSED  LAST_MODIFIED  REFS LOCAL PATH                                                                                    \n",
      "----------------------------------------------- --------- ------------ -------- -------------- -------------- ---- --------------------------------------------------------------------------------------------- \n",
      "distilbert-base-uncased-finetuned-sst-2-english model           268.1M        4 5 minutes ago  2 weeks ago    main C:\\Users\\ashis\\.cache\\huggingface\\hub\\models--distilbert-base-uncased-finetuned-sst-2-english \n",
      "Falconsai/text_summarization                    model           245.3M        7 11 minutes ago 12 minutes ago main C:\\Users\\ashis\\.cache\\huggingface\\hub\\models--Falconsai--text_summarization                   \n",
      "\n",
      "Done in 0.0s. Scanned 2 repo(s) for a total of \u001B[1m\u001B[31m513.3M\u001B[0m.\n"
     ]
    }
   ],
   "execution_count": 8
  },
  {
   "cell_type": "markdown",
   "id": "8ee48e6a",
   "metadata": {},
   "source": [
    "### Change the caching folder\n",
    "\n",
    "You may change the caching folder by setting the environment variable HF_HUB_CACHE"
   ]
  },
  {
   "cell_type": "code",
   "execution_count": null,
   "id": "45a24cf0",
   "metadata": {},
   "outputs": [],
   "source": [
    "%env HF_HUB_CACHE=C:\\Users\\raj\\OneDrive\\Documents\\temp"
   ]
  },
  {
   "cell_type": "markdown",
   "id": "1dff4a87",
   "metadata": {},
   "source": [
    "### Cleaning the cache\n",
    "You may delete the model folder directly or use the CLI\n",
    "\n",
    "You need to run the command in a terminal and select the revisions that you would like to delete\n",
    "\n",
    "*huggingface-cli  delete-cache*"
   ]
  },
  {
   "cell_type": "markdown",
   "id": "6fcd12db",
   "metadata": {},
   "source": [
    "### Degraded cache performance warning\n",
    "\n",
    "**Windows**\n",
    "\n",
    "HF caching system uses Sym Links that are not available on Windows. So on Windows you will see a warning indicating that caching is degraded; you may ignore it or you may suppress the warning by using the following environment variable.\n",
    "\n",
    "%env HF_HUB_DISABLE_SYMLINKS_WARNING=True"
   ]
  },
  {
   "cell_type": "code",
   "execution_count": null,
   "id": "d2d019fa",
   "metadata": {},
   "outputs": [],
   "source": []
  }
 ],
 "metadata": {
  "kernelspec": {
   "display_name": "Python 3 (ipykernel)",
   "language": "python",
   "name": "python3"
  },
  "language_info": {
   "codemirror_mode": {
    "name": "ipython",
    "version": 3
   },
   "file_extension": ".py",
   "mimetype": "text/x-python",
   "name": "python",
   "nbconvert_exporter": "python",
   "pygments_lexer": "ipython3",
   "version": "3.11.9"
  }
 },
 "nbformat": 4,
 "nbformat_minor": 5
}
