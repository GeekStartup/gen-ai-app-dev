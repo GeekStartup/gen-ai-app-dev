{
 "cells": [
  {
   "cell_type": "markdown",
   "id": "6ad7aae5",
   "metadata": {},
   "source": [
    "# Tree of Thought approach\n",
    "\n",
    "\n",
    "#### Paper \n",
    "https://arxiv.org/pdf/2305.10601.pdf\n",
    "\n",
    "This notebook demonstrates the use of Tree of thought as a 4 step process for a creative writing task.\n",
    "\n",
    "1. Create *K* plans to approach the task\n",
    "2. Vote the best 1 out of the *K* plans\n",
    "3. Create *N* passages with the best plan\n",
    "4. Vote the best 1 out of the *N* passages\n",
    "\n",
    "#### Task\n",
    "\n",
    "In this demonstration, we will use LLM to create a product marketing slogan. The marketing lead has some thoughts in mind that she would like the LLM to follow. Refer to the standard prompt that describes the marketing lead's preferences.\n",
    "\n",
    "\n",
    "#### Note:\n",
    "1. Since we are using commerical API, it will cost you $ to run the code\n",
    "2. The code can be adjusted for similar tasks by tweaking the prompts, rest of the code stays the same\n",
    "\n",
    "#### Langchain\n",
    "Use of Langchain will simplify the code below. Langchain has **NOT** been used deliberately to show you the concept of LLM chains :) in the next iteration you will use Langchain to rewrite this code. If you already know Langchain, then feel free to use it instead of the solution proposed in this notebook."
   ]
  },
  {
   "cell_type": "markdown",
   "id": "721990a6-fc74-4708-9a06-1c37ab942fd7",
   "metadata": {},
   "source": [
    "#### Google Colab\n",
    "If you are running the code in Google colab, install the packages by uncommenting/running the cell below\n",
    "\n",
    "* The API key file file will not be available\n",
    "* You will be prompted to provide the Cohere API Token\n",
    "\n",
    "Uncomment & run the code in the cell below:"
   ]
  },
  {
   "cell_type": "code",
   "execution_count": 20,
   "id": "29ee2ed6-ada2-440e-9e4f-020644a5cdfe",
   "metadata": {},
   "outputs": [],
   "source": [
    "## The script is downloaded and run to setup the utils folder\n",
    "\n",
    "# !curl -H \"Accept: application/vnd.github.VERSION.raw\" https://raw.githubusercontent.com/acloudfan/gen-ai-app-dev/main/Setup/gcsetup.sh  > gcsetup.sh\n",
    "# !chmod u+x gcsetup.sh\n",
    "# !./gcsetup.sh -l"
   ]
  },
  {
   "cell_type": "markdown",
   "id": "9e43f39d",
   "metadata": {},
   "source": [
    "## Setup the environment variable for API access\n",
    "\n",
    "#### NOTE\n",
    "You MUST change the path to your own environment file"
   ]
  },
  {
   "cell_type": "code",
   "execution_count": 1,
   "id": "4654782e",
   "metadata": {},
   "outputs": [
    {
     "data": {
      "text/plain": [
       "True"
      ]
     },
     "execution_count": 1,
     "metadata": {},
     "output_type": "execute_result"
    }
   ],
   "source": [
    "from dotenv import load_dotenv\n",
    "import os\n",
    "import sys\n",
    "\n",
    "import warnings\n",
    "\n",
    "warnings.filterwarnings(\"ignore\")\n",
    "\n",
    "# Load the file that contains the API keys\n",
    "load_dotenv('C:\\\\Users\\\\raj\\\\.jupyter\\\\.env')"
   ]
  },
  {
   "cell_type": "code",
   "execution_count": null,
   "id": "0dc26f16-0609-4212-8dd4-dc0d60030756",
   "metadata": {},
   "outputs": [],
   "source": [
    "# Setting path so we can access the utils folder\n",
    "sys.path.append('../')\n",
    "sys.path.append('./')\n",
    "\n",
    "from utils.api_key_check_utility import api_key_check\n",
    "\n",
    "# Check if the Open AI key is available\n",
    "cohere_api_key = api_key_check(\"OPENAI_API_KEY\")"
   ]
  },
  {
   "cell_type": "markdown",
   "id": "34da3953",
   "metadata": {},
   "source": [
    "### Use OpenAI to run infrence\n",
    "\n",
    "https://platform.openai.com/docs/api-reference/chat"
   ]
  },
  {
   "cell_type": "code",
   "execution_count": 2,
   "id": "df4eb870",
   "metadata": {},
   "outputs": [],
   "source": [
    "from openai import OpenAI\n",
    "\n",
    "client = OpenAI()\n",
    "\n",
    "# utility function for running infrence\n",
    "def  run_openai_infrence(prompt, temperature=0.5, max_tokens=400, stop_sequence=[], count=1):\n",
    "    client = OpenAI()\n",
    "    \n",
    "    response_content = []\n",
    "\n",
    "    for i in range(count):\n",
    "        response = client.chat.completions.create(\n",
    "          model=\"gpt-3.5-turbo\",\n",
    "          messages=[\n",
    "            {\n",
    "                \"role\": \"system\", \n",
    "                \"content\": \"you are an expert in generating product marketing material\"\n",
    "            },\n",
    "            {\n",
    "              \"role\": \"user\",\n",
    "              \"content\": prompt\n",
    "            }\n",
    "          ],\n",
    "          temperature=temperature,\n",
    "          max_tokens=max_tokens,\n",
    "          stop=stop_sequence\n",
    "        )\n",
    "\n",
    "        response_content.append(response.choices[0].message.content)\n",
    "        \n",
    "    return response_content"
   ]
  },
  {
   "cell_type": "markdown",
   "id": "dbffd1d1",
   "metadata": {},
   "source": [
    "## Response without ToT\n",
    "\n",
    "We will first create a prompt and get a response from Open AI/GPT."
   ]
  },
  {
   "cell_type": "code",
   "execution_count": 3,
   "id": "704a18f7",
   "metadata": {},
   "outputs": [],
   "source": [
    "# These are output indicators  used in the prompt\n",
    "ouput_passage_indicator = \"Passage:\"\n",
    "ouput_plan_indicator = \"Plan:\"\n",
    "output_best_plan_indicator = \"Best Plan:\"\n",
    "output_best_passage_indicator = \"Best Passage:\""
   ]
  },
  {
   "cell_type": "code",
   "execution_count": 4,
   "id": "fe2ea040",
   "metadata": {},
   "outputs": [],
   "source": [
    "# This is a standard prompt\n",
    "prompt_instructions = \"\"\"Write a passage to describe our new product:\n",
    "Javelin 20 High Performance Shoes.\n",
    "\n",
    "The passage should be no more than 100 words.\n",
    "\n",
    "The title must contain the sentence: \n",
    "A new you\n",
    "\n",
    "The first sentence must contain a few of these words: \n",
    "motivation, workout, sports, attractive\n",
    "\n",
    "The last few sentences must motivate the reader to visit out website http://acme.com/jav20\n",
    "\n",
    "The passage must contain the phrase : \n",
    "trend setter\n",
    "\"\"\"\n",
    "\n",
    "prompt = prompt_instructions + ouput_passage_indicator + \"\\nYour passage here.\"\n",
    "# print( prompt )"
   ]
  },
  {
   "cell_type": "code",
   "execution_count": 5,
   "id": "c6db7098",
   "metadata": {},
   "outputs": [
    {
     "name": "stdout",
     "output_type": "stream",
     "text": [
      "Title: A new you with Javelin 20 High Performance Shoes\n",
      "\n",
      "Looking for motivation to enhance your workout or sports performance? The Javelin 20 High Performance Shoes are designed to not only boost your athletic abilities but also make a stylish statement. These attractive shoes are the perfect blend of comfort and functionality, making you a trend setter in the world of sports footwear. Elevate your game and take the first step towards a new you with Javelin 20. Visit our website at http://acme.com/jav20 to discover the ultimate in athletic footwear.\n"
     ]
    }
   ],
   "source": [
    "# response to the standard prompt\n",
    "response = run_openai_infrence(prompt)\n",
    "\n",
    "print(response[0])"
   ]
  },
  {
   "cell_type": "markdown",
   "id": "cb55126c",
   "metadata": {},
   "source": [
    "## Response with ToT"
   ]
  },
  {
   "cell_type": "markdown",
   "id": "b3751408",
   "metadata": {},
   "source": [
    "### 1. Generate 3 plans"
   ]
  },
  {
   "cell_type": "code",
   "execution_count": 6,
   "id": "5977199d",
   "metadata": {},
   "outputs": [
    {
     "name": "stdout",
     "output_type": "stream",
     "text": [
      "Write a passage to describe our new product:\n",
      "Javelin 20 High Performance Shoes.\n",
      "\n",
      "The passage should be no more than 100 words.\n",
      "\n",
      "The title must contain the sentence: \n",
      "A new you\n",
      "\n",
      "The first sentence must contain a few of these words: \n",
      "motivation, workout, sports, attractive\n",
      "\n",
      "The last few sentences must motivate the reader to visit out website http://acme.com/jav20\n",
      "\n",
      "The passage must contain the phrase : \n",
      "trend setter\n",
      "\n",
      "Your output will be in following format.\n",
      "\n",
      "Plan:\n",
      "Your plan here.\n",
      "\n",
      "Passage:\n",
      "Your passage here.\n",
      "\n"
     ]
    }
   ],
   "source": [
    "prompt = prompt_instructions + \"\"\"\n",
    "Your output will be in following format.\n",
    "\n",
    "{ouput_plan_indicator}\n",
    "Your plan here.\n",
    "\n",
    "{ouput_passage_indicator}\n",
    "Your passage here.\n",
    "\"\"\" \n",
    "\n",
    "prompt = prompt.format(ouput_plan_indicator=ouput_plan_indicator, ouput_passage_indicator=ouput_passage_indicator)\n",
    "\n",
    "\n",
    "print(prompt)"
   ]
  },
  {
   "cell_type": "code",
   "execution_count": 7,
   "id": "f0db7bef",
   "metadata": {},
   "outputs": [],
   "source": [
    "# use stop sequence to generate just the plan\n",
    "passage_stop_sequence = [ouput_passage_indicator]\n",
    "\n",
    "# This will return an array with 3 elements\n",
    "plans_for_passage = run_openai_infrence(prompt,0.8,400,passage_stop_sequence,3)"
   ]
  },
  {
   "cell_type": "code",
   "execution_count": 8,
   "id": "8fbe65e5",
   "metadata": {},
   "outputs": [
    {
     "name": "stdout",
     "output_type": "stream",
     "text": [
      "Plan:\n",
      "Highlight the motivational aspect of the Javelin 20 High Performance Shoes, emphasizing their appeal for workouts, sports, and an active lifestyle. Include a call-to-action to visit the website for more information.\n",
      "\n",
      "\n",
      "Plan:\n",
      "Highlight the motivation and attractiveness of the Javelin 20 High Performance Shoes, mentioning their suitability for both workouts and sports. End with an enticing call-to-action to visit the website.\n",
      "\n",
      "\n",
      "Plan:\n",
      "Incorporate words like motivation, workout, sports, and attractive to emphasize the benefits of the Javelin 20 High Performance Shoes. Conclude with a strong call-to-action encouraging readers to visit the website.\n",
      "\n",
      "\n"
     ]
    }
   ],
   "source": [
    "for plan in plans_for_passage:\n",
    "    print(plan)"
   ]
  },
  {
   "cell_type": "markdown",
   "id": "1fb89a05",
   "metadata": {},
   "source": [
    "### 2. Ask LLM to vote on the plan"
   ]
  },
  {
   "cell_type": "code",
   "execution_count": 9,
   "id": "c54b5cd5",
   "metadata": {},
   "outputs": [
    {
     "name": "stdout",
     "output_type": "stream",
     "text": [
      "\n",
      "3 experts were given the following task.\n",
      "\n",
      "Task:\n",
      "\n",
      "Write a passage to describe our new product:\n",
      "Javelin 20 High Performance Shoes.\n",
      "\n",
      "The passage should be no more than 100 words.\n",
      "\n",
      "The title must contain the sentence: \n",
      "A new you\n",
      "\n",
      "The first sentence must contain a few of these words: \n",
      "motivation, workout, sports, attractive\n",
      "\n",
      "The last few sentences must motivate the reader to visit out website http://acme.com/jav20\n",
      "\n",
      "The passage must contain the phrase : \n",
      "trend setter\n",
      "\n",
      "\n",
      "you need to review the 3 plans and identify the best plan out of the 3. \n",
      "\n",
      "Output your response as follows, where N is the plan number. \n",
      "Best Plan: N\n",
      "\n",
      "Give 3 reasons why you select the plan.\n",
      "\n",
      "Plan 1:\n",
      "Highlight the motivational aspect of the Javelin 20 High Performance Shoes, emphasizing their appeal for workouts, sports, and an active lifestyle. Include a call-to-action to visit the website for more information.\n",
      "\n",
      "Plan 2:\n",
      "Highlight the motivation and attractiveness of the Javelin 20 High Performance Shoes, mentioning their suitability for both workouts and sports. End with an enticing call-to-action to visit the website.\n",
      "\n",
      "Plan 3:\n",
      "Incorporate words like motivation, workout, sports, and attractive to emphasize the benefits of the Javelin 20 High Performance Shoes. Conclude with a strong call-to-action encouraging readers to visit the website.\n",
      "\n",
      "\n",
      "\n",
      "\n"
     ]
    }
   ],
   "source": [
    "prompt_plan_vote = \"\"\"\n",
    "3 experts were given the following task.\n",
    "\n",
    "Task:\n",
    "\n",
    "{prompt_instructions}\n",
    "\n",
    "you need to review the 3 plans and identify the best plan out of the 3. \n",
    "\n",
    "Output your response as follows, where N is the plan number. \n",
    "{output_best_plan_indicator} N\n",
    "\n",
    "Give 3 reasons why you select the plan.\n",
    "\n",
    "{plans}\n",
    "\n",
    "\"\"\"\n",
    "\n",
    "prompt_plans = \"\"\n",
    "for i, plan in enumerate(plans_for_passage):\n",
    "    plan = plan.replace(ouput_plan_indicator, '')\n",
    "    prompt_plan = \"Plan {i}:{plan}\".format(i=(i+1), plan=plan)\n",
    "    \n",
    "    prompt_plans = prompt_plans + prompt_plan\n",
    "\n",
    "prompt = prompt_plan_vote.format(prompt_instructions=prompt_instructions, plans = prompt_plans, output_best_plan_indicator=output_best_plan_indicator)\n",
    "print(prompt)"
   ]
  },
  {
   "cell_type": "code",
   "execution_count": 10,
   "id": "4d6dedc3",
   "metadata": {},
   "outputs": [],
   "source": [
    "# use stop sequence to generate just the plan\n",
    "passage_stop_sequence = [ouput_passage_indicator]\n",
    "\n",
    "# This will return an array with 3 elements\n",
    "plan_voted_best = run_openai_infrence(prompt,0.8,400)"
   ]
  },
  {
   "cell_type": "code",
   "execution_count": 11,
   "id": "9cdf3d1f",
   "metadata": {},
   "outputs": [
    {
     "name": "stdout",
     "output_type": "stream",
     "text": [
      "Best Plan Index: 1\n",
      "------\n",
      "Best Plan: 2\n",
      "\n",
      "Three reasons for selecting Plan 2:\n",
      "\n",
      "1. Plan 2 effectively combines the elements of motivation and attractiveness to appeal to a wider audience, enhancing the overall desirability of the Javelin 20 High Performance Shoes.\n",
      "   \n",
      "2. By highlighting the suitability of the shoes for both workouts and sports, Plan 2 showcases the versatility of the product, making it more appealing to customers with different fitness interests.\n",
      "   \n",
      "3. The enticing call-to-action at the end of Plan 2 creates a sense of urgency and encourages immediate engagement, driving traffic to the website effectively.\n",
      "\n",
      "\n"
     ]
    }
   ],
   "source": [
    "# Get the index of the best plan by searching for the \"Best Plan:\"\n",
    "best_plan_index = plan_voted_best[0].find(output_best_plan_indicator)\n",
    "temp_index = best_plan_index+len(output_best_plan_indicator)\n",
    "new_line_index  = plan_voted_best[0].find(\"\\n\",temp_index)\n",
    "best_plan_index = int(plan_voted_best[0][temp_index : new_line_index]) - 1\n",
    "\n",
    "print('Best Plan Index:', best_plan_index)\n",
    "print('------')\n",
    "print(plan_voted_best[0])"
   ]
  },
  {
   "cell_type": "markdown",
   "id": "19e5668f",
   "metadata": {},
   "source": [
    "## 3. Prompt LLM to generate 3 passages using the best plan"
   ]
  },
  {
   "cell_type": "code",
   "execution_count": 12,
   "id": "dc1436b4",
   "metadata": {},
   "outputs": [],
   "source": [
    "prompt_generate_3_passages = \"\"\"\n",
    "Create three passages using the following instructions and plan.\n",
    "\n",
    "Instructions:\n",
    "{prompt_instructions}\n",
    "\n",
    "{best_plan}\n",
    "\n",
    "Your output will be in following format.\n",
    "\n",
    "{ouput_passage_indicator}\n",
    "Your response here\n",
    "\n",
    "\n",
    "\"\"\"\n",
    "\n",
    "# Use the plans generated in step-1, best plan index from step 2\n",
    "best_plan = plans_for_passage[best_plan_index]\n",
    "\n",
    "prompt = prompt_generate_3_passages.format(prompt_instructions=prompt_instructions, \n",
    "                                           best_plan=best_plan,\n",
    "                                           ouput_passage_indicator=ouput_passage_indicator)\n"
   ]
  },
  {
   "cell_type": "code",
   "execution_count": 13,
   "id": "44fd6187",
   "metadata": {},
   "outputs": [
    {
     "name": "stdout",
     "output_type": "stream",
     "text": [
      "\n",
      "Create three passages using the following instructions and plan.\n",
      "\n",
      "Instructions:\n",
      "Write a passage to describe our new product:\n",
      "Javelin 20 High Performance Shoes.\n",
      "\n",
      "The passage should be no more than 100 words.\n",
      "\n",
      "The title must contain the sentence: \n",
      "A new you\n",
      "\n",
      "The first sentence must contain a few of these words: \n",
      "motivation, workout, sports, attractive\n",
      "\n",
      "The last few sentences must motivate the reader to visit out website http://acme.com/jav20\n",
      "\n",
      "The passage must contain the phrase : \n",
      "trend setter\n",
      "\n",
      "\n",
      "Plan:\n",
      "Highlight the motivation and attractiveness of the Javelin 20 High Performance Shoes, mentioning their suitability for both workouts and sports. End with an enticing call-to-action to visit the website.\n",
      "\n",
      "\n",
      "\n",
      "Your output will be in following format.\n",
      "\n",
      "Passage:\n",
      "Your response here\n",
      "\n",
      "\n",
      "\n"
     ]
    }
   ],
   "source": [
    "print(prompt)"
   ]
  },
  {
   "cell_type": "code",
   "execution_count": 14,
   "id": "93ff246f",
   "metadata": {},
   "outputs": [],
   "source": [
    "# This will return an array with 3 elements\n",
    "passages_based_on_best_plan = run_openai_infrence(prompt,temperature=0.5,max_tokens=400,stop_sequence=[],count=3)"
   ]
  },
  {
   "cell_type": "code",
   "execution_count": 15,
   "id": "4ff8dd6b",
   "metadata": {},
   "outputs": [
    {
     "name": "stdout",
     "output_type": "stream",
     "text": [
      "Passage:\n",
      "A new you awaits with the Javelin 20 High Performance Shoes, designed to boost your motivation during workouts and sports activities. These attractive shoes are not just stylish but also functional, offering top-notch performance and comfort. Be a trend setter in your fitness journey with the Javelin 20. Elevate your game and reach your peak potential with every step you take in these high-performance shoes. Ready to experience the difference? Visit our website at http://acme.com/jav20 and unleash your full potential today.\n",
      "Passage:\n",
      "A new you awaits with the Javelin 20 High Performance Shoes, designed to elevate your motivation and style during workouts and sports. These attractive shoes are a trend setter in performance footwear, offering unparalleled support and comfort. Step up your game and experience the difference with the Javelin 20. Don't miss out on this opportunity to enhance your performance - visit our website at http://acme.com/jav20 now and be the first to own a pair of these exceptional shoes.\n",
      "Passage:\n",
      "A new you begins with the Javelin 20 High Performance Shoes, designed to be your ultimate source of motivation during workouts and sports activities. These shoes are not only attractive but also engineered for peak performance, making you a trend setter in the fitness world. Elevate your game and reach new heights with the Javelin 20. Don't miss out on this opportunity to upgrade your athletic gear - visit our website at http://acme.com/jav20 and be the first to experience the difference.\n"
     ]
    }
   ],
   "source": [
    "for passage in passages_based_on_best_plan:\n",
    "    print(passage)"
   ]
  },
  {
   "cell_type": "markdown",
   "id": "72766e5c",
   "metadata": {},
   "source": [
    "### 4. Vote the best out of the 3 passages"
   ]
  },
  {
   "cell_type": "code",
   "execution_count": 16,
   "id": "1e9880ec",
   "metadata": {},
   "outputs": [
    {
     "name": "stdout",
     "output_type": "stream",
     "text": [
      "\n",
      "3 experts were given the following task.\n",
      "\n",
      "Task:\n",
      "Write a passage to describe our new product:\n",
      "Javelin 20 High Performance Shoes.\n",
      "\n",
      "The passage should be no more than 100 words.\n",
      "\n",
      "The title must contain the sentence: \n",
      "A new you\n",
      "\n",
      "The first sentence must contain a few of these words: \n",
      "motivation, workout, sports, attractive\n",
      "\n",
      "The last few sentences must motivate the reader to visit out website http://acme.com/jav20\n",
      "\n",
      "The passage must contain the phrase : \n",
      "trend setter\n",
      "\n",
      "\n",
      "you need to review the 3 passages and identify the best passage out of the 3. \n",
      "\n",
      "Output your response as follows, where N is the passage number. \n",
      "Best Passage: N\n",
      "\n",
      "Give 3 reasons why you select the passage.\n",
      "\n",
      "Passage 1:\n",
      "A new you awaits with the Javelin 20 High Performance Shoes, designed to boost your motivation during workouts and sports activities. These attractive shoes are not just stylish but also functional, offering top-notch performance and comfort. Be a trend setter in your fitness journey with the Javelin 20. Elevate your game and reach your peak potential with every step you take in these high-performance shoes. Ready to experience the difference? Visit our website at http://acme.com/jav20 and unleash your full potential today.\n",
      "\n",
      "Passage 2:\n",
      "A new you awaits with the Javelin 20 High Performance Shoes, designed to elevate your motivation and style during workouts and sports. These attractive shoes are a trend setter in performance footwear, offering unparalleled support and comfort. Step up your game and experience the difference with the Javelin 20. Don't miss out on this opportunity to enhance your performance - visit our website at http://acme.com/jav20 now and be the first to own a pair of these exceptional shoes.\n",
      "\n",
      "Passage 3:\n",
      "A new you begins with the Javelin 20 High Performance Shoes, designed to be your ultimate source of motivation during workouts and sports activities. These shoes are not only attractive but also engineered for peak performance, making you a trend setter in the fitness world. Elevate your game and reach new heights with the Javelin 20. Don't miss out on this opportunity to upgrade your athletic gear - visit our website at http://acme.com/jav20 and be the first to experience the difference.\n",
      "\n",
      "\n",
      "\n",
      "\n"
     ]
    }
   ],
   "source": [
    "prompt_passage_vote = \"\"\"\n",
    "3 experts were given the following task.\n",
    "\n",
    "Task:\n",
    "{prompt_instructions}\n",
    "\n",
    "you need to review the 3 passages and identify the best passage out of the 3. \n",
    "\n",
    "Output your response as follows, where N is the passage number. \n",
    "{output_best_passage_indicator} N\n",
    "\n",
    "Give 3 reasons why you select the passage.\n",
    "\n",
    "{passages}\n",
    "\n",
    "\"\"\"\n",
    "\n",
    "prompt_passages = \"\"\n",
    "for i, passage in enumerate(passages_based_on_best_plan):\n",
    "    passage = passage.replace(ouput_passage_indicator, '')\n",
    "    prompt_passage = \"Passage {i}:{passage}\\n\\n\".format(i=(i+1), passage=passage)\n",
    "    \n",
    "    prompt_passages = prompt_passages + prompt_passage\n",
    "\n",
    "prompt = prompt_passage_vote.format(prompt_instructions=prompt_instructions, \n",
    "                                    passages = prompt_passages, \n",
    "                                    output_best_passage_indicator=output_best_passage_indicator)\n",
    "print(prompt)"
   ]
  },
  {
   "cell_type": "code",
   "execution_count": 17,
   "id": "520c035c",
   "metadata": {},
   "outputs": [],
   "source": [
    "# use stop sequence to generate just the plan\n",
    "passage_stop_sequence = [ouput_passage_indicator]\n",
    "\n",
    "# This will return an array with 3 elements\n",
    "passage_voted_best = run_openai_infrence(prompt,0.8,400)"
   ]
  },
  {
   "cell_type": "code",
   "execution_count": 18,
   "id": "90c81320",
   "metadata": {},
   "outputs": [
    {
     "name": "stdout",
     "output_type": "stream",
     "text": [
      "Best Passage Index: 1\n",
      "------\n",
      "Best Passage: 2\n",
      "\n",
      "Reasons for Selection:\n",
      "1. Use of the phrase \"elevate your motivation and style\" effectively captures the essence of the product, appealing to both performance and aesthetics.\n",
      "2. The mention of being a trend setter in performance footwear positions the Javelin 20 as a cutting-edge choice in the market.\n",
      "3. The call-to-action at the end is compelling, urging the reader to visit the website immediately to explore the product further and make a purchase.\n"
     ]
    }
   ],
   "source": [
    "# Get the index of the best pasage by searching for the \"Best Passage:\"\n",
    "best_passage_index = passage_voted_best[0].find(output_best_passage_indicator)\n",
    "temp_index = best_passage_index+len(output_best_passage_indicator)\n",
    "new_line_index  = passage_voted_best[0].find(\"\\n\",temp_index)\n",
    "best_passage_index = int(passage_voted_best[0][temp_index : new_line_index]) - 1\n",
    "\n",
    "print('Best Passage Index:', best_passage_index)\n",
    "print('------')\n",
    "print(passage_voted_best[0])"
   ]
  },
  {
   "cell_type": "code",
   "execution_count": 19,
   "id": "85221b7f",
   "metadata": {},
   "outputs": [
    {
     "name": "stdout",
     "output_type": "stream",
     "text": [
      "Final Result\n",
      "------------\n",
      "Passage:\n",
      "A new you awaits with the Javelin 20 High Performance Shoes, designed to elevate your motivation and style during workouts and sports. These attractive shoes are a trend setter in performance footwear, offering unparalleled support and comfort. Step up your game and experience the difference with the Javelin 20. Don't miss out on this opportunity to enhance your performance - visit our website at http://acme.com/jav20 now and be the first to own a pair of these exceptional shoes.\n"
     ]
    }
   ],
   "source": [
    "print(\"Final Result\")\n",
    "print(\"------------\")\n",
    "print(passages_based_on_best_plan[best_passage_index])"
   ]
  },
  {
   "cell_type": "code",
   "execution_count": null,
   "id": "9b0490cb",
   "metadata": {},
   "outputs": [],
   "source": []
  }
 ],
 "metadata": {
  "kernelspec": {
   "display_name": "Python 3 (ipykernel)",
   "language": "python",
   "name": "python3"
  },
  "language_info": {
   "codemirror_mode": {
    "name": "ipython",
    "version": 3
   },
   "file_extension": ".py",
   "mimetype": "text/x-python",
   "name": "python",
   "nbconvert_exporter": "python",
   "pygments_lexer": "ipython3",
   "version": "3.12.4"
  }
 },
 "nbformat": 4,
 "nbformat_minor": 5
}
