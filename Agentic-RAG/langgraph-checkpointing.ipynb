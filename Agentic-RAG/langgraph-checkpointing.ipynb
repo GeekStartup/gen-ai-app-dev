{
 "cells": [
  {
   "cell_type": "markdown",
   "id": "f9631f11-1f70-4429-8a7d-17ba2e9dc816",
   "metadata": {},
   "source": [
    "# Single step agent with checkpointing\n",
    "Implementation of a single step agent with Langgraph *StateGraph*\n",
    "\n",
    "**Note**\n",
    "Requires langgraph to be installed.\n",
    "\n",
    "%pip install -U langgraph"
   ]
  },
  {
   "cell_type": "code",
   "execution_count": 1,
   "id": "f86daad1-8031-4b1c-b980-ec24a4f1e87e",
   "metadata": {},
   "outputs": [],
   "source": [
    "from langgraph.graph import StateGraph\n",
    "from typing import Annotated\n",
    "from typing import TypedDict\n",
    "from langchain_core.messages import HumanMessage, AIMessage, SystemMessage\n",
    "from langgraph.graph.message import add_messages\n",
    "from IPython.display import Image, display\n"
   ]
  },
  {
   "cell_type": "markdown",
   "id": "78039611-5246-40ab-9bea-222695fb4576",
   "metadata": {},
   "source": [
    "## Setup LLM"
   ]
  },
  {
   "cell_type": "code",
   "execution_count": 2,
   "id": "e71df3a4-c3a6-471b-8d07-936ffa9ea9b5",
   "metadata": {},
   "outputs": [
    {
     "name": "stderr",
     "output_type": "stream",
     "text": [
      "C:\\Users\\raj\\anaconda3\\envs\\genai-course\\Lib\\site-packages\\langchain_core\\_api\\deprecation.py:139: LangChainDeprecationWarning: The class `Cohere` was deprecated in LangChain 0.1.14 and will be removed in 0.3.0. An updated version of the class exists in the langchain-cohere package and should be used instead. To use it run `pip install -U langchain-cohere` and import as `from langchain_cohere import Cohere`.\n",
      "  warn_deprecated(\n"
     ]
    }
   ],
   "source": [
    "from dotenv import load_dotenv\n",
    "import sys\n",
    "import json\n",
    "\n",
    "from langchain.prompts import PromptTemplate\n",
    "\n",
    "# Load the file that contains the API keys - OPENAI_API_KEY\n",
    "load_dotenv('C:\\\\Users\\\\raj\\\\.jupyter\\\\.env')\n",
    "\n",
    "# setting path\n",
    "sys.path.append('../')\n",
    "\n",
    "from utils.create_llm import create_gpt_llm, create_anthropic_llm, create_ai21_llm, create_cohere_llm, create_hugging_face_llm\n",
    "\n",
    "# Use MistralAI\n",
    "# A Gated model on HuggingFace\n",
    "model_id = 'distilbert/distilbert-base-cased-distilled-squad'\n",
    "llm = create_cohere_llm() #create_hugging_face_llm(repo_id=model_id, args={\"max_new_tokens\":1024})"
   ]
  },
  {
   "cell_type": "markdown",
   "id": "af41f6b1-8b29-4371-b8db-a4442f686a9c",
   "metadata": {},
   "source": [
    "## Utility function"
   ]
  },
  {
   "cell_type": "code",
   "execution_count": 3,
   "id": "1487aa94-4274-40e3-bd27-89218feb4dff",
   "metadata": {},
   "outputs": [],
   "source": [
    "def pretty_print_messages(response):\n",
    "    # print(messages)\n",
    "    messages = response[\"messages\"]\n",
    "    # return\n",
    "    for message in messages:\n",
    "        print(message.content)\n",
    "        print(\"--------------------\")"
   ]
  },
  {
   "cell_type": "markdown",
   "id": "e76537d1-8d3f-4454-a9b6-9d4738a5d4b9",
   "metadata": {},
   "source": [
    "## 1. Setup StateGraph without checkpoint\n",
    "\n",
    "**Annotated** in python allows developers to declare the type of a reference and provide additional information related to it. In this code the LangGraph is getting informed that *messages* is a list whose behavior is governed by the function *add_messages*. \n",
    "```\n",
    "messages : Annotated[list, add_messages]\n",
    "```"
   ]
  },
  {
   "cell_type": "code",
   "execution_count": 4,
   "id": "c4a2a461-9e7c-403d-8ec6-5efe79e5c9eb",
   "metadata": {},
   "outputs": [],
   "source": [
    "\n",
    "# The messages key is annotated with the add_messages function, which tells LangGraph to append new messages to the existing list, \n",
    "# rather than overwriting it.\n",
    "class AppState(TypedDict):\n",
    "    messages : Annotated[list, add_messages]\n",
    "\n",
    "def test_llm(state : AppState):\n",
    "    response = llm.invoke(state[\"messages\"])\n",
    "    return {\"messages\": [response]}\n",
    "\n"
   ]
  },
  {
   "cell_type": "code",
   "execution_count": 5,
   "id": "02714b31-7d40-4f99-b0a6-8e0bdafe006a",
   "metadata": {},
   "outputs": [],
   "source": [
    "### Add nodes, edges & compile"
   ]
  },
  {
   "cell_type": "code",
   "execution_count": 6,
   "id": "9a707852-041c-4c6e-be08-b11ec7741a78",
   "metadata": {},
   "outputs": [],
   "source": [
    "# from langgraph.graph import START, END\n",
    "\n",
    "graph_builder = StateGraph(AppState)\n",
    "\n",
    "graph_builder.add_node(\"tester\", test_llm)\n",
    "\n",
    "# graph_builder.add_edge(START, \"tester)\n",
    "\n",
    "# If you don't set this a ValueError is thrown\n",
    "graph_builder.set_entry_point(\"tester\")\n",
    "\n",
    "# graph_builder.add_edge(END, \"tester\")\n",
    "graph_builder.set_finish_point(\"tester\")\n",
    "\n",
    "graph = graph_builder.compile()"
   ]
  },
  {
   "cell_type": "code",
   "execution_count": 7,
   "id": "84df0725-005c-4148-b422-6ad53db388fa",
   "metadata": {},
   "outputs": [
    {
     "data": {
      "image/jpeg": "[encoded data removed]",
      "text/plain": [
       "<IPython.core.display.Image object>"
      ]
     },
     "metadata": {},
     "output_type": "display_data"
    }
   ],
   "source": [
    "# This is to visualize the state machine\n",
    "try:\n",
    "    display(Image(graph.get_graph().draw_mermaid_png()))\n",
    "except Exception:\n",
    "    pass"
   ]
  },
  {
   "cell_type": "markdown",
   "id": "015312d5-ba26-484d-820c-6998840d83d9",
   "metadata": {},
   "source": [
    "## 2. Test "
   ]
  },
  {
   "cell_type": "code",
   "execution_count": 8,
   "id": "c8883ab5-8125-451c-aa56-e187e7ef77be",
   "metadata": {},
   "outputs": [
    {
     "name": "stdout",
     "output_type": "stream",
     "text": [
      "what is retrieval augmented generation?\n",
      "--------------------\n",
      " Retrieval-Augmented Generation (RAG) is a process that involves using pre-existing information to create new information. In general, it involves three steps: retrieval, augmentation, and generation. Here's a brief overview:\n",
      "\n",
      "1. Retrieval: This step involves collecting and retrieving relevant data from existing sources to serve as the basis for the generation process.  This could include databases, document corpora, or even web sources. \n",
      "\n",
      "2. Augmentation: In this step, the retrieved data is then manipulated, enhanced, or modified to create a richer set of information. This can involve merging or blending information, adding logical extensions, or creating hybrids of different sources. It aims to refine and expand the retrieved data to provide more diverse sources and ideas for the generation process. \n",
      "\n",
      "3. Generation: Finally, the augmented data is then used as the input for an artificial intelligence (AI) model that produces new content. This could be a language model (like GPT-3) or a more specific model depending on the task. \n",
      "\n",
      "RAG is particularly useful when dealing with data regimes, memory, or fact-based data where algorithms need to generate new content but also remain anchored in reality. \n",
      "\n",
      "Let me know if you'd\n",
      "--------------------\n"
     ]
    }
   ],
   "source": [
    "# Question: 1\n",
    "response = graph.invoke({\"messages\":[HumanMessage(\"what is retrieval augmented generation?\")]})\n",
    "\n",
    "pretty_print_messages(response)"
   ]
  },
  {
   "cell_type": "code",
   "execution_count": 9,
   "id": "f274dd12-c120-45e2-be95-d834e07cf4bf",
   "metadata": {},
   "outputs": [
    {
     "name": "stdout",
     "output_type": "stream",
     "text": [
      "how is it different than fine tuning?\n",
      "--------------------\n",
      " They are two different concepts, although they may be related.\n",
      "\n",
      "**Training** in general refers to the process of teaching a model to learn and make predictions based on input data. The process of training comprises multiple steps, which include the following:\n",
      "\n",
      "- Data preparation: Preparing the data to feed it to the model is one of the critical steps of the process. The data may need to be cleaned and preprocessed to remove irrelevant information, noise, or duplicated entries.\n",
      "- Supervised learning: This is the most common type of machine learning algorithm that learns from artificially made examples. It comprises two main steps: assigning labels to the data and using the data to infer the logic of relationships between the labels and features to produce a valid output. This step may need multiple iterations to achieve the desired results and meet the objectives. \n",
      "- Evaluation: During the training process, the work of the model is evaluated against established metrics to measure its performance, understanding problems like bias, variance, or any other that might have an influence on the quality of the results. This step helps to understand if the model is effective in making predictions on a separate dataset from which it was trained.\n",
      "\n",
      "**Fine-tuning**, however, refers to the process of adjusting the weights assigned\n",
      "--------------------\n"
     ]
    }
   ],
   "source": [
    "# Question: 2\n",
    "response = graph.invoke({\"messages\":[HumanMessage(\"how is it different than fine tuning?\")]})\n",
    "\n",
    "pretty_print_messages(response)"
   ]
  },
  {
   "cell_type": "markdown",
   "id": "c5f4a6f4-f87d-4151-ba9e-b1ebcf5cfe81",
   "metadata": {},
   "source": [
    "## 3. Create StateGraph with MemorySaver checkpointing\n",
    "https://langchain-ai.github.io/langgraph/reference/checkpoints/\n",
    "\n",
    "You can compile any LangGraph workflow with a CheckPointer to give your agent \"memory\" by persisting its state.\n",
    "\n",
    "This permits things like:\n",
    "\n",
    "* \r\n",
    "Remembering things across multiple interaction* s\r\n",
    "Interrupting to wait for user inp* ut\r\n",
    "Resilience for long-running, error-prone age* nts\r\n",
    "Time travel retry and branch from a previous checkpoint"
   ]
  },
  {
   "cell_type": "code",
   "execution_count": 10,
   "id": "a1e7da32-ebea-4519-91d7-5dfb89627817",
   "metadata": {},
   "outputs": [],
   "source": [
    "from langgraph.checkpoint import MemorySaver\n",
    "\n",
    "# Initialize memory to persist state between graph runs\n",
    "checkpointer = MemorySaver()\n",
    "\n",
    "graph = graph_builder.compile(checkpointer=checkpointer)"
   ]
  },
  {
   "cell_type": "markdown",
   "id": "99d1e10f-acef-465c-b675-cbd41a8e8efb",
   "metadata": {},
   "source": [
    "## 4. Test"
   ]
  },
  {
   "cell_type": "code",
   "execution_count": 11,
   "id": "e0614c73-118d-4f65-9159-17d4e548804e",
   "metadata": {},
   "outputs": [
    {
     "name": "stdout",
     "output_type": "stream",
     "text": [
      "what is retrieval augmented generation?\n",
      "--------------------\n",
      " Retrieval-Augmented Generation (RAG) is a methodology that combines the benefits of both generative and retrieval-based models to create more realistic and accurate synthetic media. \n",
      "\n",
      "Here's a high-level overview of how RAG works:\n",
      "\n",
      "1. Retrieval Phase: \n",
      "    - Given a description or prompt, a retrieval model is used to search and retrieve relevant examples from a dataset. \n",
      "    - The retrieval model sorts through thousands of images or videos to find the most similar and pertinent examples that match the description. \n",
      "2. Generation Phase: \n",
      "    - Once the retrieval model identifies the most appropriate media examples, a generative model takes those examples and modifies or synthesizes new content. \n",
      "    - The generative model uses the retrieved examples as a guide to maintain the relevant stylistic constraints and content constraints while modifying the aspects of the retrieved media to match the prompt. \n",
      "\n",
      "This process allows the generator to produce content that is more realistic, accurate, and varied than traditional generative models while also avoiding some of the shortcomings associated with pure retrieval-based methods. \n",
      "\n",
      "RAG has applications in many areas, including image and video synthesis, text-to-image synthesis, and even text-to-video synthesis. \n",
      "\n",
      "RAG is an active\n",
      "--------------------\n"
     ]
    }
   ],
   "source": [
    "# Question 1\n",
    "response = graph.invoke(\n",
    "    {\"messages\":[HumanMessage(\"what is retrieval augmented generation?\")]},\n",
    "    config={\"configurable\": {\"thread_id\": 42}}\n",
    ")\n",
    "\n",
    "pretty_print_messages(response)"
   ]
  },
  {
   "cell_type": "code",
   "execution_count": 12,
   "id": "b26b587a-7162-4fda-90ac-38160907fa85",
   "metadata": {},
   "outputs": [
    {
     "name": "stdout",
     "output_type": "stream",
     "text": [
      "what is retrieval augmented generation?\n",
      "--------------------\n",
      " Retrieval-Augmented Generation (RAG) is a methodology that combines the benefits of both generative and retrieval-based models to create more realistic and accurate synthetic media. \n",
      "\n",
      "Here's a high-level overview of how RAG works:\n",
      "\n",
      "1. Retrieval Phase: \n",
      "    - Given a description or prompt, a retrieval model is used to search and retrieve relevant examples from a dataset. \n",
      "    - The retrieval model sorts through thousands of images or videos to find the most similar and pertinent examples that match the description. \n",
      "2. Generation Phase: \n",
      "    - Once the retrieval model identifies the most appropriate media examples, a generative model takes those examples and modifies or synthesizes new content. \n",
      "    - The generative model uses the retrieved examples as a guide to maintain the relevant stylistic constraints and content constraints while modifying the aspects of the retrieved media to match the prompt. \n",
      "\n",
      "This process allows the generator to produce content that is more realistic, accurate, and varied than traditional generative models while also avoiding some of the shortcomings associated with pure retrieval-based methods. \n",
      "\n",
      "RAG has applications in many areas, including image and video synthesis, text-to-image synthesis, and even text-to-video synthesis. \n",
      "\n",
      "RAG is an active\n",
      "--------------------\n",
      "how is it different than fine tuning?\n",
      "--------------------\n",
      " Fine-tuning and Retrieval-Augmented Generation (RAG) are both methodologies used in the field of synthetic media, but they differ in their approach and overall strategy. Here are the differences in the two approaches: \n",
      "\n",
      "1. Goal: \n",
      "- Fine-tuning: Fine-tuning is primarily focused on using a large amount of prompt data to improve the performance of a pre-trained generative model, usually through increasing the dataset's diversity or making the generator more generic.  \n",
      "- Retrieval-Augmented Generation (RAG): The goal of RAG is to combine the strengths of generative models and retrieval-based methods to enhance the quality, realism, and accuracy of synthetic content. It aims to improve the model's ability to generate novel, never-before-seen samples that are guided by retrieved relevant examples. \n",
      "\n",
      "2. Process: \n",
      "- Fine-tuning: In fine-tuning, the process involves training the entire generative model with a new dataset while keeping the model structure unchanged. \n",
      "- Retrieval-Augmented Generation (RAG): RAG involves two distinct models or phases: retrieval and generation. The retrieval phase uses a retrieval model to collect relevant examples from a dataset based on the prompt. The\n",
      "--------------------\n"
     ]
    }
   ],
   "source": [
    "# Question 2\n",
    "response = graph.invoke(\n",
    "    {\"messages\":[HumanMessage(\"how is it different than fine tuning?\")]},\n",
    "    config={\"configurable\": {\"thread_id\": 42}}\n",
    ")\n",
    "\n",
    "pretty_print_messages(response)"
   ]
  },
  {
   "cell_type": "code",
   "execution_count": null,
   "id": "0324177e-dc94-4465-8df4-d38579b4dd2f",
   "metadata": {},
   "outputs": [],
   "source": []
  }
 ],
 "metadata": {
  "kernelspec": {
   "display_name": "Python 3 (ipykernel)",
   "language": "python",
   "name": "python3"
  },
  "language_info": {
   "codemirror_mode": {
    "name": "ipython",
    "version": 3
   },
   "file_extension": ".py",
   "mimetype": "text/x-python",
   "name": "python",
   "nbconvert_exporter": "python",
   "pygments_lexer": "ipython3",
   "version": "3.11.8"
  }
 },
 "nbformat": 4,
 "nbformat_minor": 5
}
