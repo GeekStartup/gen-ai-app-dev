{
 "cells": [
  {
   "cell_type": "markdown",
   "id": "d225dce8-d9e8-47d9-b6e9-783069f95b13",
   "metadata": {},
   "source": [
    "# Cohere : Fine tuned model testing\n",
    "\n",
    "#### Intro to fine-tuning\n",
    "https://docs.cohere.com/docs/fine-tuning\n",
    "\n",
    "#### Hyperparameters\n",
    "https://github.com/cohere-ai/cohere-aws/blob/main/notebooks/sagemaker/Run%20command%20R%20finetuning.ipynb\n",
    "\n"
   ]
  },
  {
   "cell_type": "markdown",
   "id": "ccabb666-ed2d-4dda-a0a5-c73c1f67a8f5",
   "metadata": {},
   "source": [
    "#### Google Colab\n",
    "\n",
    "If you are running the code in Google colab, install the packages by uncommenting/running the cell below"
   ]
  },
  {
   "cell_type": "markdown",
   "id": "4888c826-d679-4883-bcdd-9a462bd94e20",
   "metadata": {},
   "source": [
    "## 1. Setup environment variables\n",
    "\n",
    "This will read the local enviroment file. You MUST change the location of the **env** file"
   ]
  },
  {
   "cell_type": "code",
   "execution_count": 1,
   "id": "a814d88a-f876-490b-961c-4f43711ed895",
   "metadata": {},
   "outputs": [
    {
     "data": {
      "text/plain": [
       "True"
      ]
     },
     "execution_count": 1,
     "metadata": {},
     "output_type": "execute_result"
    }
   ],
   "source": [
    "from dotenv import load_dotenv\n",
    "import os\n",
    "import sys\n",
    "import warnings\n",
    "\n",
    "# Setting path so we can access the utils folder\n",
    "sys.path.append('../')\n",
    "sys.path.append('./')\n",
    "\n",
    "from IPython.display import Markdown, JSON\n",
    "\n",
    "warnings.filterwarnings(\"ignore\")\n",
    "\n",
    "# Load the file that contains the API keys - CHANGE THIS\n",
    "load_dotenv('C:\\\\Users\\\\raj\\\\.jupyter\\\\.env')"
   ]
  },
  {
   "cell_type": "markdown",
   "id": "ece4a8ef-2bd3-4b29-890a-fce452bd648f",
   "metadata": {},
   "source": [
    "## 2. Utility class\n",
    "Invocation of the fine-tuned model"
   ]
  },
  {
   "cell_type": "code",
   "execution_count": 85,
   "id": "43d938a1-331b-4f8f-9729-72111522dcac",
   "metadata": {},
   "outputs": [],
   "source": [
    "# Use the Cohere REST endpoint for invoking the model\n",
    "\n",
    "import requests\n",
    "import getpass\n",
    "import os\n",
    "\n",
    "class cohere_rest_client:\n",
    "    # Holds the model to be invoked\n",
    "    model = \"\"\n",
    "\n",
    "    # Holds api URL\n",
    "    api_url = \"\"\n",
    "    \n",
    "    # Holds the API token\n",
    "    COHERE_API_KEY=\"\"\n",
    "\n",
    "    # Initialize\n",
    "    def  __init__(self, model, api_url=\"https://api.cohere.com/v2/classify\", api_key=None):\n",
    "        self.api_url = api_url\n",
    "        self.model = model\n",
    "\n",
    "        # Check if API token is provided, if not then check env, if not ask for it\n",
    "        if not api_key:\n",
    "            self.COHERE_API_KEY=os.getenv('COHERE_API_KEY')\n",
    "            if not self.COHERE_API_KEY:\n",
    "                print(\"Provide the COHERE_API_KEY:\")\n",
    "                self.COHERE_API_KEY=getpass.getpass()\n",
    "        else:\n",
    "            self.COHERE_API_KEY=api_key\n",
    "\n",
    "    # Returns the model's API URL\n",
    "    def get_model_url(self):\n",
    "        return self.api_url\n",
    "\n",
    "    # Invoke function\n",
    "    def invoke(self, inputs, examples = None, parameters = {}, options={}):\n",
    "\n",
    "        # Setup header with API token\n",
    "        headers = {\n",
    "            \"Authorization\": f\"Bearer {self.COHERE_API_KEY}\",\n",
    "            \"Content-Type\": \"application/json\"\n",
    "        }\n",
    "        \n",
    "\n",
    "        # Create the payload JSON\n",
    "        payload =  {\n",
    "            \"model\": self.model,\n",
    "            \"inputs\": inputs,\n",
    "            \"parameters\": parameters\n",
    "        }\n",
    "\n",
    "        \n",
    "\n",
    "        if  examples:\n",
    "            payload['examples'] = examples\n",
    "\n",
    "        print(payload)\n",
    "\n",
    "        # print(payload)\n",
    "\n",
    "        # Post to the model URL\n",
    "        response = requests.post(self.api_url, headers=headers, json=payload)\n",
    "\n",
    "        # Check for errors\n",
    "        if response.status_code != 200:\n",
    "            # error !!\n",
    "            return {\n",
    "                \"status_code\": response.status_code,\n",
    "                \"reason\" : response.reason,\n",
    "                \"error\": True\n",
    "            }\n",
    "        else:\n",
    "            # Return response as JSON\n",
    "            return response.json()\n"
   ]
  },
  {
   "cell_type": "markdown",
   "id": "0e23a085-2846-4635-a215-5b97c5b43c43",
   "metadata": {},
   "source": [
    "## 3. Unit test the utility"
   ]
  },
  {
   "cell_type": "code",
   "execution_count": 92,
   "id": "4d0a5566-8970-4f6e-9007-504b828d8680",
   "metadata": {},
   "outputs": [],
   "source": [
    "# Test if the fine tuned model is responding\n",
    "cohere_api_url = \"https://api.cohere.com/v2/classify\"\n",
    "\n",
    "model = \"862c41b7-55c7-4625-98ad-426ca1d295b3-ft\"\n",
    "\n",
    "api_client = cohere_rest_client(model=model, api_url=cohere_api_url)"
   ]
  },
  {
   "cell_type": "code",
   "execution_count": 94,
   "id": "6672570a-7320-49dc-b72b-830df81096c0",
   "metadata": {},
   "outputs": [
    {
     "name": "stdout",
     "output_type": "stream",
     "text": [
      "{'model': '862c41b7-55c7-4625-98ad-426ca1d295b3-ft', 'inputs': ['i like you'], 'parameters': {}}\n"
     ]
    },
    {
     "data": {
      "application/json": {
       "classifications": [
        {
         "classification_type": "multi-label",
         "confidences": [
          0.9928231
         ],
         "id": "4db6038b-b179-4155-9fab-8a69385ddd69",
         "input": "i like you",
         "labels": {
          "identity_hate": {
           "confidence": 0.010902374
          },
          "insult": {
           "confidence": 0.34466398
          },
          "severe_toxic": {
           "confidence": 0.00094730896
          },
          "threat": {
           "confidence": 0.13341522
          },
          "toxic": {
           "confidence": 0.9928231
          }
         },
         "predictions": [
          "toxic"
         ]
        }
       ],
       "id": "309e4d6e-5a9d-4c4f-b69e-50f1a6956a1f",
       "meta": {
        "api_version": {
         "version": "2"
        },
        "billed_units": {
         "classifications": 1
        }
       }
      },
      "text/plain": [
       "<IPython.core.display.JSON object>"
      ]
     },
     "execution_count": 94,
     "metadata": {
      "application/json": {
       "examples": [
        {
         "label": [
          "toxic",
          "threat",
          "identity_hate"
         ],
         "text": "black people deserve to die,"
        },
        {
         "label": [
          "toxic",
          "insult"
         ],
         "text": "Ech, you silly Mensans, you have IQ points to spare )"
        },
        {
         "label": [
          "toxic",
          "threat"
         ],
         "text": "== All admins must DIE! == \n\n prepare for your death, Banno!"
        },
        {
         "label": [
          "identity_hate"
         ],
         "text": "your beat as hell stop getting rid of my cool junk aight homie i know we can get along why must we fight ;0"
        },
        {
         "label": [
          "toxic",
          "threat"
         ],
         "text": "hurricane machine to kill him."
        },
        {
         "label": [],
         "text": "this one is normal"
        }
       ],
       "expanded": false,
       "root": "root"
      }
     },
     "output_type": "execute_result"
    }
   ],
   "source": [
    "from IPython.display import Markdown, JSON\n",
    "\n",
    "inputs = [\n",
    "    \"i like you\"\n",
    "]\n",
    "\n",
    "response = api_client.invoke(inputs)\n",
    "\n",
    "JSON(response, examples=examples)"
   ]
  },
  {
   "cell_type": "markdown",
   "id": "d4f102c9-fbeb-409b-ae82-07bd8a4c40eb",
   "metadata": {},
   "source": [
    "## 4. Evaluate model\n",
    "\n",
    "* Read the test dataset\n",
    "* For each line in the dataset call inference\n",
    "* Check accuracy by comparing predicted with predicted"
   ]
  },
  {
   "cell_type": "markdown",
   "id": "89e3ed85-0e37-406c-99fc-8c091cbd7eea",
   "metadata": {},
   "source": [
    "### 4.1 Read test dataset and prepare inputs"
   ]
  },
  {
   "cell_type": "code",
   "execution_count": 16,
   "id": "f6f80a2c-4b76-4321-8442-c19c644e2681",
   "metadata": {},
   "outputs": [],
   "source": [
    "import json\n",
    "\n",
    "with open('./data/toxicity-classifier/multi_label_comment_classification_test_cohere.jsonl', 'r') as json_file:\n",
    "    json_list = list(json_file)\n",
    "\n",
    "# Prepare the inputs array that we will send to \n",
    "inputs = []\n",
    "labels = []\n",
    "for json_str in json_list: \n",
    "    result = json.loads(json_str)\n",
    "    inputs.append(result['text'])\n",
    "    labels.append(result['label'])\n",
    "    "
   ]
  },
  {
   "cell_type": "markdown",
   "id": "ba676c84-4c36-4f06-817c-bdc50b9f5322",
   "metadata": {},
   "source": [
    "### 4.2 Invoke model "
   ]
  },
  {
   "cell_type": "code",
   "execution_count": 21,
   "id": "e11a5e6f-68d2-4526-8a73-a12c336cf6a3",
   "metadata": {},
   "outputs": [],
   "source": [
    "responses = api_client.invoke(inputs)\n",
    "\n",
    "# JSON(response)"
   ]
  },
  {
   "cell_type": "markdown",
   "id": "36b1b17a-5d11-4c60-92fe-d78ad8e6c0b6",
   "metadata": {},
   "source": [
    "### 4.3 Compare predicted vs original"
   ]
  },
  {
   "cell_type": "code",
   "execution_count": 51,
   "id": "d177c29c-1548-40e3-a703-5e6fe399d30f",
   "metadata": {},
   "outputs": [],
   "source": [
    "correct = 0\n",
    "in_correct = 0\n",
    "\n",
    "for i, response in enumerate(responses[\"classifications\"]):\n",
    "    # print(response[\"predictions\"])\n",
    "\n",
    "    # Using the set as order of elements don't matter\n",
    "    if set(response['predictions']) == set(labels[i]):\n",
    "        correct = correct + 1\n",
    "    else:\n",
    "        in_correct = in_correct + 1\n",
    "        # print(response['predictions'], \"   \", labels[i])"
   ]
  },
  {
   "cell_type": "code",
   "execution_count": 49,
   "id": "5ad6851d-15c9-47bc-aec4-44f25a0b48ce",
   "metadata": {},
   "outputs": [
    {
     "name": "stdout",
     "output_type": "stream",
     "text": [
      "Correct:    17\n",
      "Incorrect:  18\n",
      "Accuracy:   48 %\n"
     ]
    }
   ],
   "source": [
    "print(\"Correct:   \", correct)\n",
    "print(\"Incorrect: \", in_correct)\n",
    "\n",
    "print(\"Accuracy:  \", int((correct/(correct+in_correct))*100),\"%\")"
   ]
  },
  {
   "cell_type": "code",
   "execution_count": null,
   "id": "42ea9d0b-994b-4edf-adb1-4e26de78c038",
   "metadata": {},
   "outputs": [],
   "source": []
  }
 ],
 "metadata": {
  "kernelspec": {
   "display_name": "Python 3 (ipykernel)",
   "language": "python",
   "name": "python3"
  },
  "language_info": {
   "codemirror_mode": {
    "name": "ipython",
    "version": 3
   },
   "file_extension": ".py",
   "mimetype": "text/x-python",
   "name": "python",
   "nbconvert_exporter": "python",
   "pygments_lexer": "ipython3",
   "version": "3.12.4"
  }
 },
 "nbformat": 4,
 "nbformat_minor": 5
}
