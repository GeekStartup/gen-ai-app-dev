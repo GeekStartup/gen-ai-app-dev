{
 "cells": [
  {
   "cell_type": "markdown",
   "id": "ff46a878-3ec3-47da-ab39-37b318bd637e",
   "metadata": {},
   "source": [
    "# BM25\n",
    "https://en.wikipedia.org/wiki/Okapi_BM25\n",
    "\n",
    "https://python.langchain.com/v0.2/docs/integrations/retrievers/bm25/\n",
    "\n",
    "https://api.python.langchain.com/en/latest/retrievers/langchain_community.retrievers.bm25.BM25Retriever.html\n",
    "\n",
    "BM25 is a ranking function used by search engines to estimate the relevance of documents to a given search query. BM stands for 'Best Match'.\n",
    "\n"
   ]
  },
  {
   "cell_type": "code",
   "execution_count": null,
   "id": "cfac6c68-99f4-436a-a719-ec35057d429c",
   "metadata": {},
   "outputs": [],
   "source": [
    "!pip install --upgrade --quiet  rank_bm25"
   ]
  },
  {
   "cell_type": "code",
   "execution_count": 1,
   "id": "244d6cf8-a00f-484c-82d4-ee144891a484",
   "metadata": {},
   "outputs": [],
   "source": [
    "from langchain_community.retrievers import BM25Retriever\n",
    "\n",
    "corpus = [\n",
    "    \"RAG addresses hallucinations\",\n",
    "    \"Symptoms are hallucinations\",\n",
    "    \"RAG is easier than fine tuning\",\n",
    "    \"Use a RAG to clean it\",\n",
    "    \"Retrieval Augmented Generation\"\n",
    "]\n",
    "\n",
    "# You need to pre-process the data e.g., case adjustment, stemming, lemmatization are commonly used\n",
    "# In this example, we will change the case of the text\n",
    "corpus_processed = list(map(str.lower, corpus))\n",
    "\n",
    "bm25_retriever = BM25Retriever.from_texts(corpus_processed)\n",
    "\n",
    "bm25_retriever.k = 3\n"
   ]
  },
  {
   "cell_type": "code",
   "execution_count": 2,
   "id": "be9c47a1-dbf5-4c0a-979c-16003899e09b",
   "metadata": {},
   "outputs": [
    {
     "data": {
      "text/plain": [
       "[Document(page_content='rag addresses hallucinations'),\n",
       " Document(page_content='use a rag to clean it'),\n",
       " Document(page_content='rag is easier than fine tuning')]"
      ]
     },
     "execution_count": 2,
     "metadata": {},
     "output_type": "execute_result"
    }
   ],
   "source": [
    "result = bm25_retriever.invoke(\"advanced rag\")\n",
    "result"
   ]
  },
  {
   "cell_type": "code",
   "execution_count": null,
   "id": "c74fdfb8-ac38-4a67-9282-dfc9e067953c",
   "metadata": {},
   "outputs": [],
   "source": [
    "result = bm25_retriever.invoke(\"retrieval system\")\n",
    "result"
   ]
  },
  {
   "cell_type": "code",
   "execution_count": null,
   "id": "3304c1c8-5aa8-45ce-b28b-4a34d9935d22",
   "metadata": {},
   "outputs": [],
   "source": []
  }
 ],
 "metadata": {
  "kernelspec": {
   "display_name": "Python 3 (ipykernel)",
   "language": "python",
   "name": "python3"
  },
  "language_info": {
   "codemirror_mode": {
    "name": "ipython",
    "version": 3
   },
   "file_extension": ".py",
   "mimetype": "text/x-python",
   "name": "python",
   "nbconvert_exporter": "python",
   "pygments_lexer": "ipython3",
   "version": "3.11.8"
  }
 },
 "nbformat": 4,
 "nbformat_minor": 5
}
