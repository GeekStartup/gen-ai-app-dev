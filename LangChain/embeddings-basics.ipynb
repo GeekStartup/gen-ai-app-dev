{
 "cells": [
  {
   "cell_type": "markdown",
   "id": "1300a162-8f6d-47fa-9d66-4e7809d6c50a",
   "metadata": {},
   "source": [
    "# Langchain embeddings classes\n",
    "\n",
    "Text embedding models\n",
    "\n",
    "https://python.langchain.com/docs/modules/data_connection/text_embedding/\n",
    "\n",
    "\n",
    "CacheBackedEmbeddings\n",
    "\n",
    "https://python.langchain.com/docs/modules/data_connection/text_embedding/caching_embeddings\n",
    "\n",
    "EmbeddingDistanceEvalChain\n",
    "\n",
    "https://api.python.langchain.com/en/stable/evaluation/langchain.evaluation.embedding_distance.base.EmbeddingDistanceEvalChain.html#\n",
    "\n",
    "Checkout LC example on Colab\n",
    "\n",
    "https://colab.research.google.com/github/langchain-ai/langchain/blob/master/docs/docs/guides/evaluation/string/embedding_distance.ipynb#scrollTo=PoVTQVj9Xp-1\n",
    "\n"
   ]
  },
  {
   "cell_type": "markdown",
   "id": "bcf8b177-814a-4df4-8b93-64af49cf17da",
   "metadata": {},
   "source": [
    "## Setup environment"
   ]
  },
  {
   "cell_type": "code",
   "execution_count": 1,
   "id": "29987b7e-064e-40c9-ad8b-49694d9a7241",
   "metadata": {},
   "outputs": [
    {
     "data": {
      "text/plain": [
       "True"
      ]
     },
     "execution_count": 1,
     "metadata": {},
     "output_type": "execute_result"
    }
   ],
   "source": [
    "from dotenv import load_dotenv\n",
    "import os\n",
    "\n",
    "import warnings\n",
    "\n",
    "warnings.filterwarnings(\"ignore\")\n",
    "\n",
    "# Load the file that contains the API keys\n",
    "load_dotenv('C:\\\\Users\\\\raj\\\\.jupyter\\\\.env')"
   ]
  },
  {
   "cell_type": "markdown",
   "id": "e23c067d-e5d2-4d18-8293-e56b164ba101",
   "metadata": {},
   "source": [
    "## 1. HuggingFace embeddings\n",
    "\n",
    "Checkout the HF embeddings model\n",
    "\n",
    "https://huggingface.co/models?pipeline_tag=sentence-similarity&sort=downloads\n",
    "\n",
    "When inference API is used model is NOT downloaded to the local file system.\n",
    "\n",
    "https://api.python.langchain.com/en/latest/embeddings/langchain_community.embeddings.huggingface.HuggingFaceInferenceAPIEmbeddings.html#\n",
    "\n",
    "Parameters:\n",
    "\n",
    "* param model_name: str = 'sentence-transformers/all-MiniLM-L6-v2'\n",
    "* param api_key: SecretStr. You should have it in the .env file for the token (HUGGINGFACEHUB_API_TOKEN)\n",
    "\n",
    "**Note**\n",
    "Free model access via infrence API is rate restricted. You may see failures in case of large number of calls !!"
   ]
  },
  {
   "cell_type": "code",
   "execution_count": 2,
   "id": "50e36a09-a8b3-42c2-86bf-35815d78c49a",
   "metadata": {},
   "outputs": [],
   "source": [
    "from langchain_community.embeddings import HuggingFaceInferenceAPIEmbeddings\n",
    "\n",
    "model_name = 'sentence-transformers/all-mpnet-base-v2'\n",
    "\n",
    "HUGGING_FACE_API_KEY=os.getenv('HUGGINGFACEHUB_API_TOKEN')\n",
    "\n",
    "model = HuggingFaceInferenceAPIEmbeddings(api_key=HUGGING_FACE_API_KEY,model_name=model_name)\n",
    "\n",
    "test_docs = [\n",
    "    'Industrial revolution changed the world around us',\n",
    "    'The Renaissance was a period of cultural rebirth that emerged in Europe during the 14th to 17th centuries'\n",
    "]\n",
    "\n",
    "embed_docs = model.embed_documents(test_docs)"
   ]
  },
  {
   "cell_type": "code",
   "execution_count": 3,
   "id": "bd750570-70e4-4694-9910-09dfeb107d67",
   "metadata": {},
   "outputs": [
    {
     "name": "stdout",
     "output_type": "stream",
     "text": [
      "Size =  768   Count =  2\n"
     ]
    }
   ],
   "source": [
    "# Print the size & count of the embeddings\n",
    "print('Size = ', len(embed_docs[0]), '  Count = ', len(embed_docs))"
   ]
  },
  {
   "cell_type": "code",
   "execution_count": 4,
   "id": "c573b2a0-4218-487b-8c5c-5314c7fa9c8f",
   "metadata": {},
   "outputs": [],
   "source": [
    "query = \"when was steam engine invented?\"\n",
    "\n",
    "embed_query = model.embed_query(query)"
   ]
  },
  {
   "cell_type": "markdown",
   "id": "bf7d8aef-c876-422f-9ec9-4009af8c3c13",
   "metadata": {},
   "source": [
    "## 2. Distance Metric\n",
    "\n",
    "https://python.langchain.com/docs/guides/evaluation/string/embedding_distance\n",
    "\n"
   ]
  },
  {
   "cell_type": "code",
   "execution_count": 5,
   "id": "5e0aeb60-f16b-4efe-8691-e1fdbb07ea65",
   "metadata": {},
   "outputs": [
    {
     "data": {
      "text/plain": [
       "[<EmbeddingDistance.COSINE: 'cosine'>,\n",
       " <EmbeddingDistance.EUCLIDEAN: 'euclidean'>,\n",
       " <EmbeddingDistance.MANHATTAN: 'manhattan'>,\n",
       " <EmbeddingDistance.CHEBYSHEV: 'chebyshev'>,\n",
       " <EmbeddingDistance.HAMMING: 'hamming'>]"
      ]
     },
     "execution_count": 5,
     "metadata": {},
     "output_type": "execute_result"
    }
   ],
   "source": [
    "from langchain.evaluation import EmbeddingDistance\n",
    "\n",
    "list(EmbeddingDistance)"
   ]
  },
  {
   "cell_type": "markdown",
   "id": "d5ead844-c223-42bc-8855-fe941f6c0c9a",
   "metadata": {},
   "source": [
    "## 3. Use evaluator to calculate similarity\n",
    "\n",
    "https://python.langchain.com/docs/guides/evaluation/string/embedding_distance\n",
    "\n",
    "#### Pairwise distance evaluation\n",
    "\n",
    "**NOTE:**\n",
    "\n",
    "It returns the distance and not the score. Which means lower value = higher similarity\n",
    "\n",
    "param distance_metric: EmbeddingDistance = EmbeddingDistance.COSINE\n",
    "\n",
    "\n",
    "\n",
    "\n",
    "https://api.python.langchain.com/en/latest/evaluation/langchain.evaluation.embedding_distance.base.PairwiseEmbeddingDistanceEvalChain.html#"
   ]
  },
  {
   "cell_type": "code",
   "execution_count": 11,
   "id": "21597ffa-863a-4db3-9414-24dc5e0e13cb",
   "metadata": {},
   "outputs": [
    {
     "data": {
      "text/plain": [
       "langchain.evaluation.embedding_distance.base.PairwiseEmbeddingDistanceEvalChain"
      ]
     },
     "execution_count": 11,
     "metadata": {},
     "output_type": "execute_result"
    }
   ],
   "source": [
    "# https://api.python.langchain.com/en/stable/evaluation/langchain.evaluation.loading.load_evaluator.html#\n",
    "# https://api.python.langchain.com/en/stable/evaluation/langchain.evaluation.schema.EvaluatorType.html#langchain.evaluation.schema.EvaluatorType\n",
    "\n",
    "from langchain.evaluation import load_evaluator\n",
    "\n",
    "pairwise_distance_evaluator = load_evaluator(\"pairwise_embedding_distance\", embeddings=model)\n",
    "\n",
    "type(pairwise_distance_evaluator)"
   ]
  },
  {
   "cell_type": "code",
   "execution_count": 12,
   "id": "eb17d2df-36dc-4ab4-80a4-8cd4dd81120d",
   "metadata": {},
   "outputs": [
    {
     "name": "stdout",
     "output_type": "stream",
     "text": [
      "when was steam engine invented?\n",
      "------------\n",
      "Distance =  0.64   -   Industrial revolution changed the world around us\n",
      "Distance =  0.85   -   The Renaissance was a period of cultural rebirth that emerged in Europe during the 14th to 17th centuries\n"
     ]
    }
   ],
   "source": [
    "print(query)\n",
    "print('------------')\n",
    "\n",
    "distance_metric = EmbeddingDistance.COSINE\n",
    "\n",
    "for str in test_docs:\n",
    "    distance = pairwise_distance_evaluator.evaluate_string_pairs(prediction=query, prediction_b=str, distance_metric=distance_metric)\n",
    "    distance = round(distance['score'],2)\n",
    "    print('Distance = ', distance, '  -  ', str)"
   ]
  }
 ],
 "metadata": {
  "kernelspec": {
   "display_name": "Python 3 (ipykernel)",
   "language": "python",
   "name": "python3"
  },
  "language_info": {
   "codemirror_mode": {
    "name": "ipython",
    "version": 3
   },
   "file_extension": ".py",
   "mimetype": "text/x-python",
   "name": "python",
   "nbconvert_exporter": "python",
   "pygments_lexer": "ipython3",
   "version": "3.11.8"
  }
 },
 "nbformat": 4,
 "nbformat_minor": 5
}
