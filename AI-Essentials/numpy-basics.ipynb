{
 "cells": [
  {
   "cell_type": "markdown",
   "id": "f76c8b23",
   "metadata": {},
   "source": [
    "# References\n",
    "\n",
    "### Tutorial\n",
    "\n",
    "https://numpy.org/doc/stable/user/index.html#user\n",
    "\n",
    "### Numpy codebase\n",
    "https://github.com/numpy/numpy\n",
    "\n",
    "### NOTE\n",
    "Notebook covers ONLY the commonly used numpy APIs in this course.\n",
    "\n",
    "Highly recommended that you refer to the documentation to get better underrstanding of the library."
   ]
  },
  {
   "cell_type": "markdown",
   "id": "8df48daa",
   "metadata": {},
   "source": [
    "## Installation"
   ]
  },
  {
   "cell_type": "code",
   "execution_count": null,
   "id": "aed11188",
   "metadata": {},
   "outputs": [],
   "source": [
    "!pip install numpy -q"
   ]
  },
  {
   "cell_type": "code",
   "execution_count": null,
   "id": "5f77a2fc",
   "metadata": {},
   "outputs": [],
   "source": [
    "import numpy as np\n",
    "\n",
    "print(np.__version__)"
   ]
  },
  {
   "cell_type": "markdown",
   "id": "13498333",
   "metadata": {},
   "source": [
    "## Create a Numpy array from Python list"
   ]
  },
  {
   "cell_type": "code",
   "execution_count": null,
   "id": "397b4aa9",
   "metadata": {},
   "outputs": [],
   "source": [
    "import numpy as np\n",
    "\n",
    "# Python list\n",
    "list_1 = [1,2,3]\n",
    "\n",
    "# CHECKOUT:\n",
    "# https://numpy.org/doc/stable/reference/generated/numpy.ndarray.html\n",
    "# https://numpy.org/doc/stable/reference/generated/numpy.ndarray.shape.html\n",
    "\n",
    "arr = np.array(list_1)\n",
    "\n",
    "print('List 1:', arr)\n",
    "\n",
    "print('List 1: Type', type(arr))\n",
    "\n",
    "print('List 1: Shape', arr.shape)"
   ]
  },
  {
   "cell_type": "code",
   "execution_count": null,
   "id": "6cfcf9e6",
   "metadata": {},
   "outputs": [],
   "source": [
    "# Multi dimensional array creation\n",
    "list_2 = ([[[1,2,3],[4,5,6]]])\n",
    "\n",
    "# You can specify the data types as well. The default data type for array elements is float\n",
    "\n",
    "# CHECKOUT:\n",
    "# https://numpy.org/devdocs/user/basics.types.html\n",
    "\n",
    "arr = np.array(list_2,dtype=np.int8)\n",
    "\n",
    "print('List 2:', arr)\n",
    "\n",
    "print('List 2: Type', type(arr))\n",
    "\n",
    "print('List 2: Shape', arr.shape)"
   ]
  },
  {
   "cell_type": "markdown",
   "id": "4e5e3a4a",
   "metadata": {},
   "source": [
    "## Intrinsic methods to create array\n",
    "\n"
   ]
  },
  {
   "cell_type": "markdown",
   "id": "dda6cf36",
   "metadata": {},
   "source": [
    "### np.arange\n",
    "\n",
    "https://numpy.org/doc/stable/reference/generated/numpy.arange.html"
   ]
  },
  {
   "cell_type": "code",
   "execution_count": null,
   "id": "a6fd4d2f",
   "metadata": {},
   "outputs": [],
   "source": [
    "# Create a 10 element, single dimension array\n",
    "arr = np.arange(10)\n",
    "print(arr)\n",
    "\n",
    "# Create an array with values from 0 to 100, step by 10 - 100 not included\n",
    "arr = np.arange(0,100,10)\n",
    "print(arr)"
   ]
  },
  {
   "cell_type": "markdown",
   "id": "584093fa",
   "metadata": {},
   "source": [
    "### np.eye\n",
    "\n",
    "Return a 2-D array with ones on the diagonal and zeros elsewhere.\n",
    "The generated array is sometimes referred to as the identity array or identity matrix.\n",
    "\n",
    "https://numpy.org/doc/stable/reference/generated/numpy.eye.html\n",
    "\n",
    "```\n",
    "# N = number of rows, M = number of columns\n",
    "numpy.eye(N, M=None, k=0, dtype=<class 'float'>, order='C', *, like=None)\n",
    "```"
   ]
  },
  {
   "cell_type": "code",
   "execution_count": null,
   "id": "29dd2d82",
   "metadata": {},
   "outputs": [],
   "source": [
    "print(np.eye(5,5))"
   ]
  },
  {
   "cell_type": "markdown",
   "id": "8e9422c5",
   "metadata": {},
   "source": [
    "### np.zeros\n",
    "Return a new array of given shape and type, filled with zeros.\n",
    "\n",
    "https://numpy.org/doc/stable/reference/generated/numpy.zeros.html#numpy.zeros\n",
    "\n",
    "```\n",
    "numpy.zeros(shape, dtype=float, order='C', *, like=None)\n",
    "```\n",
    "\n",
    "### np.ones\n",
    "Return a new array of given shape and type, filled with ones.\n",
    "\n",
    "https://numpy.org/doc/stable/reference/generated/numpy.ones.html#numpy.ones\n",
    "\n",
    "```\n",
    "numpy.zeros(shape, dtype=float, order='C', *, like=None)\n",
    "```\n"
   ]
  },
  {
   "cell_type": "code",
   "execution_count": null,
   "id": "61f17cbc",
   "metadata": {},
   "outputs": [],
   "source": [
    "print('zeros:' , np.zeros([3,3]))\n",
    "print('ones:'  ,np.ones([3,3]))"
   ]
  },
  {
   "cell_type": "markdown",
   "id": "37f95d13",
   "metadata": {},
   "source": [
    "## Accessing the elements\n",
    "\n",
    "ndarrays can be indexed using the standard Python x[obj] syntax, where x is the array and obj the selection. There are different kinds of indexing available depending on obj:\n",
    "\n",
    "* Basic indexing\n",
    "* Advanced indexing\n",
    "* Field access\n"
   ]
  },
  {
   "cell_type": "markdown",
   "id": "d6cdd027",
   "metadata": {},
   "source": [
    "### Basic\n",
    "\n",
    "* Index specification\n",
    "\n",
    "* Slicing : The basic slice syntax is i:j:k where i is the starting index, j is the stopping index, and k is the step (\n",
    "). "
   ]
  },
  {
   "cell_type": "code",
   "execution_count": null,
   "id": "c9e9a095",
   "metadata": {},
   "outputs": [],
   "source": [
    "arr = np.array([1,2,3])\n",
    "print(arr[2])\n",
    "\n",
    "arr = np.array([[1,2,3], [4,5,6]])\n",
    "print(arr[1][2])"
   ]
  },
  {
   "cell_type": "code",
   "execution_count": null,
   "id": "f276f246",
   "metadata": {},
   "outputs": [],
   "source": [
    "# Slicing as in Python\n",
    "\n",
    "arr = np.arange(0,100,10)\n",
    "print(arr)\n",
    "\n",
    "# Start at i = 0; End at j = 5; Step by k = 1\n",
    "print(\"Start at i = 0; End at j = 5; Step by k = 1\")\n",
    "print(arr[0:5:1])\n",
    "\n",
    "# Start at i = 0; End at j = 7; Step by k = 3\n",
    "print(\"Start at i = 0; End at j = 7; Step by k = 3 \")\n",
    "print( arr[0:7:3])\n",
    "\n",
    "# Only provide the start i = 5\n",
    "print(\"Only provide the start i = 5\")\n",
    "print(arr[5:])"
   ]
  },
  {
   "cell_type": "code",
   "execution_count": null,
   "id": "5573ec9f",
   "metadata": {},
   "outputs": [],
   "source": [
    "# Multi dimensioanl array behavior\n",
    "arr = np.array([[[1],[2],[3]], [[4],[5],[6]]])\n",
    "\n",
    "print(arr)\n",
    "print(arr.shape)"
   ]
  },
  {
   "cell_type": "code",
   "execution_count": null,
   "id": "1c26f722",
   "metadata": {},
   "outputs": [],
   "source": [
    "# Start i = 0, End j = 1\n",
    "print(arr[0:1])"
   ]
  },
  {
   "cell_type": "code",
   "execution_count": null,
   "id": "5799add2",
   "metadata": {},
   "outputs": [],
   "source": [
    "# Start i = 0, End j = 2\n",
    "print(\"Start i = 0, End j = 2\")\n",
    "print(arr[0:2])\n",
    "\n",
    "# Start i = 1, End j = 3\n",
    "# An integer, i, returns the same values as i:i+1 except the dimensionality of the returned object is reduced by 1.\n",
    "print(\"Start i = 1, End j = 3\")\n",
    "print(arr[1:3])"
   ]
  },
  {
   "cell_type": "code",
   "execution_count": null,
   "id": "73b11614",
   "metadata": {},
   "outputs": [],
   "source": [
    "# Assigment\n",
    "x = np.arange(10)\n",
    "\n",
    "# Assign a value of 1 to all elements with index =3 to 6\n",
    "x[3:7]=1\n",
    "x"
   ]
  },
  {
   "cell_type": "markdown",
   "id": "a65ec6d3",
   "metadata": {},
   "source": [
    "## Reshape\n"
   ]
  },
  {
   "cell_type": "code",
   "execution_count": null,
   "id": "bb53ad3c",
   "metadata": {},
   "outputs": [],
   "source": [
    "x = np.arange(9).reshape(3,3)\n",
    "\n",
    "print(x)\n",
    "\n",
    "y = x.reshape(9,1)\n",
    "y"
   ]
  },
  {
   "cell_type": "markdown",
   "id": "c566ee17",
   "metadata": {},
   "source": [
    "# Randoms\n",
    "\n",
    "Multiple functions for generating random numbers in ndarray\n",
    "\n",
    "https://numpy.org/doc/stable/reference/random/generator.html"
   ]
  },
  {
   "cell_type": "code",
   "execution_count": null,
   "id": "d5920d27",
   "metadata": {},
   "outputs": [],
   "source": [
    "# Generate a random number\n",
    "# https://numpy.org/doc/stable/reference/random/generated/numpy.random.Generator.random.html#numpy.random.Generator.random\n",
    "rng = np.random.default_rng()\n",
    "print('Random num = ', rng.random())\n",
    "\n",
    "# An ndarray object with 2 random numbers      \n",
    "np.random.randn(2)"
   ]
  },
  {
   "cell_type": "markdown",
   "id": "716b435c",
   "metadata": {},
   "source": [
    "# Structured arrays\n",
    "\n",
    "Structured arrays are ndarrays whose datatype is a composition of simpler datatypes organized as a sequence of named fields.\n",
    "\n",
    "https://numpy.org/doc/stable/user/basics.rec.html"
   ]
  },
  {
   "cell_type": "code",
   "execution_count": null,
   "id": "d4bb6bff",
   "metadata": {},
   "outputs": [],
   "source": [
    "x = np.array([('Rex', 9, 81.0), ('Fido', 3, 27.0)],\n",
    "             dtype=[('name', 'U10'), ('age', 'i4'), ('weight', 'f4')])\n",
    "\n",
    "x"
   ]
  },
  {
   "cell_type": "code",
   "execution_count": null,
   "id": "150348a2",
   "metadata": {},
   "outputs": [],
   "source": [
    "# column names\n",
    "print(x.dtype.names)"
   ]
  },
  {
   "cell_type": "markdown",
   "id": "33389144",
   "metadata": {},
   "source": [
    "# Record Arrays\n",
    "\n",
    "As an optional convenience numpy provides an ndarray subclass, numpy.recarray that allows access to fields of structured arrays by attribute instead of only by index. Record arrays use a special datatype, numpy.record, that allows field access by attribute on the structured scalars obtained from the array.\n",
    "\n",
    "https://numpy.org/doc/stable/user/basics.rec.html#record-arrays"
   ]
  },
  {
   "cell_type": "code",
   "execution_count": null,
   "id": "8c250386",
   "metadata": {},
   "outputs": [],
   "source": [
    "recordarr = np.rec.array([(1, 2., 'Hello'), (2, 3., \"World\")],\n",
    "                   dtype=[('foo', 'i4'),('bar', 'f4'), ('baz', 'S10')])\n",
    "\n",
    "print(recordarr.foo)\n",
    "print(recordarr.baz)"
   ]
  },
  {
   "cell_type": "markdown",
   "id": "25f66d39",
   "metadata": {},
   "source": [
    "# Universal functions\n",
    "\n",
    "A universal function (or ufunc for short) is a function that operates on ndarrays in an element-by-element fashion.\n",
    "\n",
    "https://numpy.org/doc/stable/user/basics.ufuncs.html#universal-functions-ufunc-basics\n",
    "\n",
    "\n",
    "## Mathematical operations\n",
    "\n",
    "https://numpy.org/doc/stable/reference/ufuncs.html#math-operations\n",
    "\n",
    "\n",
    "## ufunc.methods\n",
    "\n",
    "https://numpy.org/doc/stable/reference/ufuncs.html#ufuncs-methods\n",
    "\n",
    "All methods take a optional arguments:\n",
    "\n",
    "* **out**  =  \n",
    "\n",
    "* **where** = Accepts a boolean array which is broadcast together with the operands. Values of True indicate to calculate the ufunc at that position, values of False indicate to leave the value in the output alone. T"
   ]
  },
  {
   "cell_type": "code",
   "execution_count": null,
   "id": "5b6b1515",
   "metadata": {},
   "outputs": [],
   "source": [
    "np.array([0,2,3,4]) + np.array([1,1,-1,2])"
   ]
  },
  {
   "cell_type": "code",
   "execution_count": null,
   "id": "17b82446",
   "metadata": {},
   "outputs": [],
   "source": [
    "np.array([0,2,3,4]) * np.array([1,1,-1,2])"
   ]
  },
  {
   "cell_type": "code",
   "execution_count": null,
   "id": "0da5d540",
   "metadata": {},
   "outputs": [],
   "source": [
    "np.array([0,2,3,4]) / np.array([1,1,-1,2])"
   ]
  },
  {
   "cell_type": "markdown",
   "id": "2eecac54",
   "metadata": {},
   "source": []
  },
  {
   "cell_type": "code",
   "execution_count": null,
   "id": "fede95ac",
   "metadata": {},
   "outputs": [],
   "source": []
  }
 ],
 "metadata": {
  "kernelspec": {
   "display_name": "Python 3 (ipykernel)",
   "language": "python",
   "name": "python3"
  },
  "language_info": {
   "codemirror_mode": {
    "name": "ipython",
    "version": 3
   },
   "file_extension": ".py",
   "mimetype": "text/x-python",
   "name": "python",
   "nbconvert_exporter": "python",
   "pygments_lexer": "ipython3",
   "version": "3.8.18"
  }
 },
 "nbformat": 4,
 "nbformat_minor": 5
}
