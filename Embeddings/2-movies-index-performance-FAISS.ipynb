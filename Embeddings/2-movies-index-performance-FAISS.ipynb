{
 "cells": [
  {
   "cell_type": "markdown",
   "id": "0769fdee-20be-4273-8993-336c64cbf841",
   "metadata": {},
   "source": [
    "# Project: Movies recommendation\n",
    "## Part-2 Movie recommendation index performance\n",
    "\n",
    "#### Supported indexes\n",
    "https://github.com/facebookresearch/faiss/wiki/Faiss-indexes\n",
    "\n",
    "#### Note\n",
    "* Running this notebook end to end may take few minutes\n",
    "\n",
    "#### Notebook hangs !!\n",
    "It may happen on machines with low resource availability.\n",
    "\n",
    "* Try to restart local notebook\n",
    "        - jupyter notebook stop \n",
    "        - jupyter notebook start\n",
    "* If that doesn't help, use *Google collab*\n",
    "  https://colab.research.google.com/\n",
    "* Upload this notebook\n",
    "* Run the cell below to install the required packages\n"
   ]
  },
  {
   "cell_type": "code",
   "execution_count": 1,
   "id": "12e6067c-5262-4f44-8f9a-4e75a278c08c",
   "metadata": {},
   "outputs": [],
   "source": [
    "## Needed for notebook on Google Colab\n",
    "# !pip install faiss-gpu datasets"
   ]
  },
  {
   "cell_type": "code",
   "execution_count": 2,
   "id": "2a60cc4f-5a81-49ef-8579-b17bc9562429",
   "metadata": {},
   "outputs": [],
   "source": [
    "import faiss\n",
    "from datasets import load_dataset\n",
    "import pandas as pd\n",
    "import numpy as np\n",
    "import time"
   ]
  },
  {
   "cell_type": "markdown",
   "id": "5550fe72-7384-42e8-ad6b-ca8797ed22da",
   "metadata": {},
   "source": [
    "## 1. Load dataset acloudfan/embedded_movies_small"
   ]
  },
  {
   "cell_type": "code",
   "execution_count": 3,
   "id": "fda37f6f-c772-4999-9439-a811993e5c24",
   "metadata": {},
   "outputs": [
    {
     "name": "stdout",
     "output_type": "stream",
     "text": [
      "movies_dataset_train_np.shape =  (1017, 1536)\n",
      "movies_dataset_test_np.shape =  (434, 1536)\n"
     ]
    }
   ],
   "source": [
    "movies_dataset_name = 'acloudfan/embedded_movies_small'\n",
    "\n",
    "movies_dataset = load_dataset(movies_dataset_name)\n",
    "\n",
    "# This will hold the data for movies, will be cross referenced for details\n",
    "movies_dataset_train = movies_dataset['train']\n",
    "# Embeddings need to be in numpy array with dtype=float32\n",
    "movies_dataset_train_np = np.array(movies_dataset_train['plot_embedding']).astype(np.float32)\n",
    "\n",
    "print(\"movies_dataset_train_np.shape = \", movies_dataset_train_np.shape)\n",
    "\n",
    "\n",
    "# This will hold the details for test dataset\n",
    "movies_dataset_test = movies_dataset['test']\n",
    "movies_dataset_test_np = np.array(movies_dataset_test['plot_embedding']).astype(np.float32)\n",
    "\n",
    "print(\"movies_dataset_test_np.shape = \", movies_dataset_test_np.shape)"
   ]
  },
  {
   "cell_type": "code",
   "execution_count": 4,
   "id": "995a424a-805a-4721-97c6-5fce225194cd",
   "metadata": {},
   "outputs": [
    {
     "data": {
      "text/plain": [
       "1536"
      ]
     },
     "execution_count": 4,
     "metadata": {},
     "output_type": "execute_result"
    }
   ],
   "source": [
    "# Check the embedding dimension\n",
    "embedding_dimension = len(movies_dataset_test_np[0])\n",
    "\n",
    "embedding_dimension"
   ]
  },
  {
   "cell_type": "markdown",
   "id": "29b3c9ba-340e-4954-82c5-a3aaacd4d7ea",
   "metadata": {},
   "source": [
    "## 2. Utility method"
   ]
  },
  {
   "cell_type": "code",
   "execution_count": 5,
   "id": "8bb8cb7d-4880-404e-b130-5b0f308c6d06",
   "metadata": {},
   "outputs": [],
   "source": [
    "def search_all_test_against_train_dataset(faiss_index, k=3):\n",
    "    start_time = time.time()\n",
    "\n",
    "    faiss_index.search(movies_dataset_test_np, k)\n",
    "    \n",
    "    end_time = time.time()\n",
    "    return round((end_time - start_time)*1000,0)"
   ]
  },
  {
   "cell_type": "markdown",
   "id": "4d2e9e3b-f8f9-4712-b98c-6c5ce030213d",
   "metadata": {},
   "source": [
    "## 3. Create and train indexes\n"
   ]
  },
  {
   "cell_type": "markdown",
   "id": "e9d89bc7-ca22-498c-aa3e-20490551bd70",
   "metadata": {},
   "source": [
    "### FlatL2\n",
    "\n",
    "https://github.com/facebookresearch/faiss/blob/main/tutorial/python/2-IVFFlat.py"
   ]
  },
  {
   "cell_type": "code",
   "execution_count": 6,
   "id": "b83e00d8-7e45-4c6b-9660-72640896cda4",
   "metadata": {},
   "outputs": [],
   "source": [
    "# Create the index\n",
    "def  create_index_flatl2():\n",
    "    flatl2_index = faiss.IndexFlatL2(embedding_dimension)\n",
    "    # Add the training embeddings to the index\n",
    "    flatl2_index.add(movies_dataset_train_np)\n",
    "    # return\n",
    "    return flatl2_index"
   ]
  },
  {
   "cell_type": "markdown",
   "id": "312398c0-78aa-408b-ac47-f8c22c78e5f5",
   "metadata": {},
   "source": [
    "### IVFFlat\n",
    "\n",
    "https://github.com/facebookresearch/faiss/blob/main/tutorial/python/2-IVFFlat.py\n",
    "\n",
    "##### If returned search indexes = -1\n",
    "Read the documentation : https://github.com/facebookresearch/faiss/wiki/FAQ#what-does-it-mean-when-a-search-returns--1-ids"
   ]
  },
  {
   "cell_type": "code",
   "execution_count": 7,
   "id": "55f562d4-8d11-4f2b-843b-10f93d103a44",
   "metadata": {},
   "outputs": [],
   "source": [
    "\n",
    "# Change to this number will change the performance & recall\n",
    "# nlist_ivfflat = 200\n",
    "\n",
    "def create_index_ivfflat(nlist=200):\n",
    "    # Quantizer\n",
    "    quantizer = faiss.IndexFlatL2(embedding_dimension)\n",
    "    # Index creation\n",
    "    ivfflat_index = faiss.IndexIVFFlat(quantizer, embedding_dimension, nlist)\n",
    "    # Train the index\n",
    "    ivfflat_index.train(movies_dataset_train_np)\n",
    "    ivfflat_index.add(movies_dataset_train_np)\n",
    "\n",
    "    print(ivfflat_index.is_trained, '  ntotal=', ivfflat_index.ntotal,'    shape= ', movies_dataset_train_np.shape)\n",
    "    \n",
    "    # return\n",
    "    return ivfflat_index"
   ]
  },
  {
   "cell_type": "markdown",
   "id": "3f9765c1-cbec-4a7b-82ce-47c4425e95a7",
   "metadata": {},
   "source": [
    "### PQ\n",
    "\n",
    "https://github.com/facebookresearch/faiss/blob/main/tutorial/python/3-IVFPQ.py"
   ]
  },
  {
   "cell_type": "code",
   "execution_count": 8,
   "id": "4b8803a8-ff61-4cab-9f0c-2f6ff3a2cbba",
   "metadata": {},
   "outputs": [],
   "source": [
    "def create_index_ivfpq(nlist=200, number_subspaces=8, number_bits_per_centroid=8):\n",
    "    quantizer = faiss.IndexFlatL2(embedding_dimension)  # we keep the same L2 distance flat index\n",
    "    index_ivfpq = faiss.IndexIVFPQ(quantizer, embedding_dimension, nlist, number_subspaces, number_bits_per_centroid) \n",
    "\n",
    "    # Train\n",
    "    index_ivfpq.train(movies_dataset_train_np)\n",
    "    index_ivfpq.add(movies_dataset_train_np)\n",
    "\n",
    "    # return \n",
    "    return index_ivfpq"
   ]
  },
  {
   "cell_type": "markdown",
   "id": "a4aae63e-2823-4d22-86ca-649353abd9f3",
   "metadata": {},
   "source": [
    "### HNSW Flat\n",
    "\n",
    "https://faiss.ai/cpp_api/struct/structfaiss_1_1IndexHNSWFlat.html\n"
   ]
  },
  {
   "cell_type": "code",
   "execution_count": 9,
   "id": "d139592e-9999-4ea0-a1a3-0fe96dbaa020",
   "metadata": {},
   "outputs": [],
   "source": [
    "def create_index_hnsw_flat(M = 32, efConstruction=8, efSearch=8):\n",
    "\n",
    "    index_hnsw_flat = faiss.IndexHNSWFlat(embedding_dimension, M)\n",
    "\n",
    "    index_hnsw_flat.efConstruction = efConstruction\n",
    "    index_hnsw_flat.efSearch = efSearch\n",
    "\n",
    "    index_hnsw_flat.train(movies_dataset_train_np)\n",
    "    index_hnsw_flat.add(movies_dataset_train_np)\n",
    "\n",
    "    return index_hnsw_flat"
   ]
  },
  {
   "cell_type": "markdown",
   "id": "c541fa38-4223-4cd4-b359-a8a54dd79673",
   "metadata": {},
   "source": [
    "### HNSW Scalar\n",
    "\n",
    "https://faiss.ai/cpp_api/struct/structfaiss_1_1IndexHNSWSQ.html"
   ]
  },
  {
   "cell_type": "code",
   "execution_count": 10,
   "id": "7442ebc3-49e2-4bda-b35c-e7d2ee12be92",
   "metadata": {},
   "outputs": [],
   "source": [
    "def create_index_hnsw_sq(scalar_quantizer=faiss.ScalarQuantizer.QT_8bit, M=16, efConstruction=8, efSearch=8):\n",
    "    \n",
    "    index_hnsw_sq = faiss.IndexHNSWSQ(embedding_dimension, scalar_quantizer, M)\n",
    "\n",
    "    index_hnsw_flat.efConstruction = efConstruction\n",
    "    index_hnsw_flat.efSearch = efSearch\n",
    "\n",
    "    index_hnsw_sq.train(movies_dataset_train_np)\n",
    "    index_hnsw_sq.add(movies_dataset_train_np)\n",
    "\n",
    "    # return\n",
    "    return index_hnsw_sq"
   ]
  },
  {
   "cell_type": "markdown",
   "id": "96be1b66-80f1-4212-af5a-18b3be2d578a",
   "metadata": {},
   "source": [
    "## 4. Run tests"
   ]
  },
  {
   "cell_type": "code",
   "execution_count": 11,
   "id": "974afb01-a648-413c-b292-f4d594cfd4f4",
   "metadata": {},
   "outputs": [
    {
     "name": "stdout",
     "output_type": "stream",
     "text": [
      "True   ntotal= 1017     shape=  (1017, 1536)\n"
     ]
    }
   ],
   "source": [
    "# Create the indexes using the functions defined in earlier cells\n",
    "index_flatl2 = create_index_flatl2()\n",
    "index_ivfflat = create_index_ivfflat(nlist=200)\n",
    "index_ivfpq = create_index_ivfpq(nlist=100, number_subspaces=8,number_bits_per_centroid=8)\n",
    "index_hnsw_flat = create_index_hnsw_flat(M = 200, efConstruction=8, efSearch=8)\n",
    "index_hnsw_sq = create_index_hnsw_sq(scalar_quantizer=faiss.ScalarQuantizer.QT_8bit, M=16, efConstruction=8, efSearch=8)"
   ]
  },
  {
   "cell_type": "code",
   "execution_count": null,
   "id": "f23e7434-b9ab-40d0-87cc-123b247e51dd",
   "metadata": {},
   "outputs": [],
   "source": [
    "# Run searches against each of the indexes\n",
    "index_flatl2_duration = search_all_test_against_train_dataset(index_flatl2)\n",
    "index_ivfflat_duration = search_all_test_against_train_dataset(index_ivfflat)\n",
    "index_ivfpq_duration = search_all_test_against_train_dataset(index_ivfpq)\n",
    "index_hnsw_flat_duration = search_all_test_against_train_dataset(index_hnsw_flat)\n",
    "index_hnsw_sq_duration = search_all_test_against_train_dataset(index_hnsw_sq)"
   ]
  },
  {
   "cell_type": "markdown",
   "id": "565c8724-9e39-47b3-9ac1-5caa4010a7da",
   "metadata": {},
   "source": [
    "## 5. Plot chart"
   ]
  },
  {
   "cell_type": "code",
   "execution_count": null,
   "id": "e4cc772e-9468-4d81-bdef-e6d52833aad9",
   "metadata": {},
   "outputs": [],
   "source": [
    "metrics_data = {\n",
    "    'index_flatl2': index_flatl2_duration,\n",
    "    'index_ivfflat': index_ivfflat_duration,\n",
    "    'index_ivfpq': index_ivfpq_duration,\n",
    "    'index_hnsw_flat': index_hnsw_flat_duration,\n",
    "    'index_hnsw_sq': index_hnsw_sq_duration\n",
    "}"
   ]
  },
  {
   "cell_type": "code",
   "execution_count": null,
   "id": "a9c38ecd-a67c-4eb3-9a6f-0f699aaddf8f",
   "metadata": {},
   "outputs": [],
   "source": [
    "import matplotlib.pyplot as plt \n",
    "fig = plt.figure(figsize = (10, 5))\n",
    "\n",
    "plt.bar(metrics_data.keys(), metrics_data.values(), color ='lightblue', width = 0.4)\n",
    "plt.xlabel('FAISS index')\n",
    "plt.ylabel('Time in milliseconds')\n",
    "plt.show()"
   ]
  },
  {
   "cell_type": "code",
   "execution_count": null,
   "id": "2df2a29a-222b-40c7-826d-53b668c52795",
   "metadata": {},
   "outputs": [],
   "source": []
  }
 ],
 "metadata": {
  "kernelspec": {
   "display_name": "Python 3 (ipykernel)",
   "language": "python",
   "name": "python3"
  },
  "language_info": {
   "codemirror_mode": {
    "name": "ipython",
    "version": 3
   },
   "file_extension": ".py",
   "mimetype": "text/x-python",
   "name": "python",
   "nbconvert_exporter": "python",
   "pygments_lexer": "ipython3",
   "version": "3.11.8"
  }
 },
 "nbformat": 4,
 "nbformat_minor": 5
}
