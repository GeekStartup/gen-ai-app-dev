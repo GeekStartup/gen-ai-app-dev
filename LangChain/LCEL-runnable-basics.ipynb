{
 "cells": [
  {
   "cell_type": "markdown",
   "id": "11afcbb2-ca6e-45b2-992f-40bb3e95b463",
   "metadata": {},
   "source": [
    "# LangChain Expression Language (LCEL) basics"
   ]
  },
  {
   "cell_type": "markdown",
   "id": "68a5a6fd-444e-40f0-b56a-d52e284ef396",
   "metadata": {},
   "source": [
    "#### Google Colab\n",
    "If you are running the code in Google colab, install the packages by uncommenting/running the cell below\n",
    "\n",
    "Uncomment & run the code in the cell below:"
   ]
  },
  {
   "cell_type": "code",
   "execution_count": null,
   "id": "6fd98c81-0c9b-42c6-8704-18aa3904a53b",
   "metadata": {},
   "outputs": [],
   "source": [
    "# pip install langchain"
   ]
  },
  {
   "cell_type": "markdown",
   "id": "bcb7f5de-5693-4804-b648-7ddad74c94c8",
   "metadata": {},
   "source": [
    "## 1. The '|' operator\n",
    "\n",
    "* Equivalent to the __or__ operator\n",
    "* In Python, this operator can be overloaded\n",
    "* LangChain framework has overloaded it to achieve a UNIX pipe like behavior!!"
   ]
  },
  {
   "cell_type": "code",
   "execution_count": 1,
   "id": "7bd5afb4-6030-46ed-be47-229fa77938f6",
   "metadata": {},
   "outputs": [
    {
     "data": {
      "text/plain": [
       "True"
      ]
     },
     "execution_count": 1,
     "metadata": {},
     "output_type": "execute_result"
    }
   ],
   "source": [
    "# https://docs.python.org/3/library/operator.html#operator.__or__\n",
    "from operator import __or__\n",
    "\n",
    "number_1 = 1\n",
    "number_2 = 5\n",
    "\n",
    "bool_value = __or__(number_1, number_2) > 4\n",
    "\n",
    "bool_value"
   ]
  },
  {
   "cell_type": "markdown",
   "id": "33f9956e-27fd-4101-9006-a561b62a426b",
   "metadata": {},
   "source": [
    "#### Expression __ __or__ __(number_1, number_2) is equivalent to   (number_1  |  number_2)"
   ]
  },
  {
   "cell_type": "code",
   "execution_count": 2,
   "id": "a28516aa-d27d-4ba5-baba-ab0811a5a544",
   "metadata": {},
   "outputs": [
    {
     "data": {
      "text/plain": [
       "True"
      ]
     },
     "execution_count": 2,
     "metadata": {},
     "output_type": "execute_result"
    }
   ],
   "source": [
    "bool_value = number_1 | number_2 > 4\n",
    "\n",
    "bool_value"
   ]
  },
  {
   "cell_type": "markdown",
   "id": "1cf76df9-2e0d-431b-aed6-764e8b9fbf07",
   "metadata": {},
   "source": [
    "#### Python operators can be overloaded"
   ]
  },
  {
   "cell_type": "markdown",
   "id": "b27b03e1-5c3f-4bb5-9711-a0f54a91c222",
   "metadata": {},
   "source": [
    "## 2. LangChain has overridden the '|'   __ __or__ __ operator\n",
    "\n",
    "* All components of the chain implement the **invoke(..)** methods\n",
    "* The **input/output types** for the **invoke function** varies depending on the type of the component\n",
    "* Component exposes the *input/output schema**\n",
    "* User/application input is fed as input for the first component\n",
    "* Output of each component in the chain is fed as input into the next component in the chain\n",
    "* Output from the last component is the final output from the chain\n",
    "\n",
    "#### Runnables\n",
    "https://api.python.langchain.com/en/latest/core_api_reference.html#module-langchain_core.runnables\n",
    "\n",
    "https://python.langchain.com/v0.1/docs/expression_language/interface/\n",
    "\n"
   ]
  },
  {
   "cell_type": "markdown",
   "id": "c0efeaba-e4fa-41b5-b63c-13d9dd363ff0",
   "metadata": {},
   "source": [
    "#### RunnableLambda\n",
    "\n",
    "Convert a Python function into a runnable.\n",
    "\n",
    "https://api.python.langchain.com/en/latest/runnables/langchain_core.runnables.base.RunnableLambda.html#langchain_core.runnables.base.RunnableLambda"
   ]
  },
  {
   "cell_type": "code",
   "execution_count": 1,
   "id": "e2222ea3-7149-4e14-ae22-9f0908913b8e",
   "metadata": {},
   "outputs": [
    {
     "name": "stdout",
     "output_type": "stream",
     "text": [
      "Name:  add_one\n",
      "Invoke with 10:  11\n"
     ]
    }
   ],
   "source": [
    "from langchain_core.runnables import RunnableLambda\n",
    "\n",
    "# Example function to be wrapped in runnable\n",
    "def add_one(x: int) -> int:\n",
    "    return x + 1\n",
    "\n",
    "# Create the runnable\n",
    "add_one_runnable = RunnableLambda(func = add_one)\n",
    "\n",
    "# Print the name\n",
    "print(\"Name: \", add_one_runnable.name)\n",
    "\n",
    "# Invoke and print result\n",
    "print(\"Invoke with 10: \", add_one_runnable.invoke(10))"
   ]
  },
  {
   "cell_type": "markdown",
   "id": "560d158e-6f60-4d89-833b-1f272f5f0301",
   "metadata": {},
   "source": [
    "#### RunnablePassthrough\n",
    "\n",
    "https://api.python.langchain.com/en/latest/runnables/langchain_core.runnables.passthrough.RunnablePassthrough.html#langchain_core.runnables.passthrough.RunnablePassthrough\n",
    "\n",
    "* Takes no action on the input data\n",
    "* May add keys to the input dictionary\n",
    "* Used in combination with other *Runnables*"
   ]
  },
  {
   "cell_type": "code",
   "execution_count": 4,
   "id": "91e96b2c-b1d8-44c3-9d08-522bcc881ae3",
   "metadata": {},
   "outputs": [
    {
     "name": "stdout",
     "output_type": "stream",
     "text": [
      "Do nothing :  {'a': 1, 'b': 2}\n",
      "Add keys :  {'a': 1, 'b': 2, 'c': 3}\n"
     ]
    }
   ],
   "source": [
    "from langchain_core.runnables import RunnablePassthrough\n",
    "\n",
    "# Create a pass through runnable\n",
    "do_nothing_runnable = RunnablePassthrough()\n",
    "\n",
    "# Do nothing runnable\n",
    "input = {\"a\": 1, \"b\": 2}\n",
    "print(\"Do nothing : \", do_nothing_runnable.invoke(input))\n",
    "\n",
    "# Add new key 'c' with a fixed value\n",
    "add_new_keys_runnable = RunnablePassthrough.assign(c=lambda inputs: 3)\n",
    "print(\"Add keys : \", add_new_keys_runnable.invoke(input))\n"
   ]
  },
  {
   "cell_type": "markdown",
   "id": "65348bf6-2e4a-45d0-8804-c4f7cb9d0106",
   "metadata": {},
   "source": [
    "#### RunnableSequence\n",
    "\n",
    "https://api.python.langchain.com/en/latest/runnables/langchain_core.runnables.base.RunnableSequence.html#langchain_core.runnables.base.RunnableSequence"
   ]
  },
  {
   "cell_type": "code",
   "execution_count": 5,
   "id": "4df6724d-4b15-4c6e-aad3-b54277a4863c",
   "metadata": {},
   "outputs": [],
   "source": [
    "from langchain_core.runnables import RunnableSequence\n",
    "\n",
    "# Create 3 example functions & corrsponding RunnableLambda\n",
    "def add_1(x: int) -> int:\n",
    "    return x + 1\n",
    "\n",
    "add_1_runnable = RunnableLambda(func = add_1)\n",
    "\n",
    "def multiply_2(x: int) -> int:\n",
    "    return x*2\n",
    "\n",
    "multiply_2_runnable = RunnableLambda(func = multiply_2)\n",
    "\n",
    "def subtract_3(x: int) -> int:\n",
    "    return x - 1\n",
    "\n",
    "subtract_3_runnable = RunnableLambda(func = subtract_3)"
   ]
  },
  {
   "cell_type": "code",
   "execution_count": 6,
   "id": "503166c7-6ec7-4486-adac-894dce71b249",
   "metadata": {},
   "outputs": [
    {
     "name": "stdout",
     "output_type": "stream",
     "text": [
      "Input = 1, Output =  3\n",
      "Input = 5, Output =  11\n"
     ]
    }
   ],
   "source": [
    "# Two ways to create a runnable sequence\n",
    "\n",
    "# 1. Using the pipe/or operator. This is used more commonly\n",
    "runnable_sequence = add_1_runnable | multiply_2_runnable | subtract_3_runnable\n",
    "\n",
    "# 2. Directly instantiate\n",
    "runnable_sequence = RunnableSequence(add_1_runnable, multiply_2_runnable, subtract_3_runnable)\n",
    "\n",
    "# Invoke with a input = 1\n",
    "# x=1  (1+1)*2 - 1 = 3\n",
    "print(\"Input = 1, Output = \", runnable_sequence.invoke(1))\n",
    "\n",
    "# Invoke with a input = 5\n",
    "# x=5  (5+1)*2 - 1 = 11\n",
    "print(\"Input = 5, Output = \", runnable_sequence.invoke(5))\n",
    "\n"
   ]
  },
  {
   "cell_type": "markdown",
   "id": "d91b190a-c097-40a1-b876-55a7bd1890e2",
   "metadata": {},
   "source": [
    "#### RunnableParallel\n",
    "\n",
    "https://api.python.langchain.com/en/latest/runnables/langchain_core.runnables.base.RunnableParallel.html#langchain_core.runnables.base.RunnableParallel"
   ]
  },
  {
   "cell_type": "code",
   "execution_count": 7,
   "id": "75646061-585d-4e93-8197-361f0ca377e0",
   "metadata": {},
   "outputs": [
    {
     "name": "stdout",
     "output_type": "stream",
     "text": [
      "CPU times: total: 0 ns\n",
      "Wall time: 17 ms\n"
     ]
    },
    {
     "data": {
      "text/plain": [
       "{'original': 5, 'add_1': 6, 'multiply_2': 10, 'subtract_3': 4}"
      ]
     },
     "execution_count": 7,
     "metadata": {},
     "output_type": "execute_result"
    }
   ],
   "source": [
    "%%time\n",
    "\n",
    "from langchain_core.runnables import RunnableParallel\n",
    "\n",
    "\n",
    "# Adding a pasthrough to have the original input deleievered in the output\n",
    "runnable_parallel = RunnableParallel(   \n",
    "                                        original=RunnablePassthrough(),\n",
    "                                        add_1=add_1_runnable,\n",
    "                                        multiply_2=multiply_2_runnable,\n",
    "                                        subtract_3=subtract_3_runnable\n",
    "                                    )\n",
    "\n",
    "runnable_parallel.invoke(5)"
   ]
  },
  {
   "cell_type": "markdown",
   "id": "66bc90b3-84b2-43e9-8916-f2f36a48f045",
   "metadata": {},
   "source": [
    "##### RunnableParallel doesn't return till all runnables have completed execution"
   ]
  },
  {
   "cell_type": "code",
   "execution_count": 8,
   "id": "0b15cb83-8d90-436a-9ebc-c310e202746c",
   "metadata": {},
   "outputs": [
    {
     "name": "stdout",
     "output_type": "stream",
     "text": [
      "CPU times: total: 0 ns\n",
      "Wall time: 10 s\n"
     ]
    },
    {
     "data": {
      "text/plain": [
       "{'original': 5, 'add_1': 6, 'multiply_2': 10, 'subtract_2': 4}"
      ]
     },
     "execution_count": 8,
     "metadata": {},
     "output_type": "execute_result"
    }
   ],
   "source": [
    "%%time\n",
    "\n",
    "import time\n",
    "\n",
    "# This function simulates slow processing\n",
    "def   simulate_slow_processing_for_add_1(x: int) -> int:\n",
    "    for i in range(10):\n",
    "        time.sleep(1)\n",
    "    return x+1\n",
    "\n",
    "# Runnable for slow lambda\n",
    "add_1_slow_processing = RunnableLambda(simulate_slow_processing_for_add_1)\n",
    "\n",
    "runnable_parallel = RunnableParallel(   \n",
    "                                        original=RunnablePassthrough(),\n",
    "                                        add_1=add_1_slow_processing,\n",
    "                                        multiply_2=multiply_2_runnable,\n",
    "                                        subtract_2=subtract_3_runnable\n",
    "                                    )\n",
    "runnable_parallel.invoke(5)"
   ]
  },
  {
   "cell_type": "markdown",
   "id": "a544780e-65e2-434a-997a-3359c70c3320",
   "metadata": {},
   "source": [
    "#### RunnableBranch\n",
    "\n",
    "https://api.python.langchain.com/en/latest/runnables/langchain_core.runnables.branch.RunnableBranch.html#langchain_core.runnables.branch.RunnableBranch\n",
    "\n",
    "Following code implements the scenario:\n",
    "1. Input has an {action, number}\n",
    "2. A function (add_1, multiply_2, subtract_3) is applied based on action\n",
    "3. A default function is run if the action key is not provided or is invalid"
   ]
  },
  {
   "cell_type": "code",
   "execution_count": 44,
   "id": "9b1cda4c-e959-44dc-829f-f3a846e40c0e",
   "metadata": {},
   "outputs": [
    {
     "data": {
      "text/plain": [
       "{'action': 'invalid',\n",
       " 'number': 5,\n",
       " 'error': \"Invalid action. Only 'add', 'multiply' & 'subtract are supported\"}"
      ]
     },
     "execution_count": 44,
     "metadata": {},
     "output_type": "execute_result"
    }
   ],
   "source": [
    "from langchain_core.runnables import RunnableBranch\n",
    "\n",
    "# action key not found\n",
    "def error_condition(x: dict) -> dict:\n",
    "    if \"action\" not in x:\n",
    "        x[\"error\"] = \"Action NOT provided\"\n",
    "    else:\n",
    "        x[\"error\"] = \"Invalid action. Only 'add', 'multiply' & 'subtract are supported\"\n",
    "        \n",
    "    return x\n",
    "\n",
    "# Create a default runnable\n",
    "default_runnable = RunnableLambda(error_condition)\n",
    "\n",
    "# Takes dictionary as input and returns dict as output\n",
    "def add_1_dict(x: dict) -> dict:\n",
    "    x[\"output\"] = x[\"number\"] + 1\n",
    "    return x\n",
    "\n",
    "def multiply_2_dict(x: dict) -> dict:\n",
    "    x[\"output\"] = x[\"number\"]*2\n",
    "    return x\n",
    "\n",
    "def subtract_3_dict(x: dict) -> dict:\n",
    "    x[\"output\"] = x[\"number\"] - 1\n",
    "    return x\n",
    "\n",
    "# Define the branches as (condition, runnable) tuples\n",
    "branch = RunnableBranch(\n",
    "    (lambda input: input.get(\"action\", \"NA\") == \"add\", RunnableLambda(add_1_dict)),\n",
    "    (lambda input: input.get(\"action\", \"NA\") == \"multiply\", RunnableLambda(multiply_2_dict)),\n",
    "    (lambda input: input.get(\"action\", \"NA\") == \"subtract\", RunnableLambda(subtract_3_dict)),\n",
    "    default_runnable\n",
    ")\n",
    "\n",
    "# Change the action (add, multiply, subtract, invalid) to see the branching\n",
    "response = branch.invoke({ \"action\": \"invalid\", \"number\": 5}) \n",
    "\n",
    "response"
   ]
  },
  {
   "cell_type": "code",
   "execution_count": null,
   "id": "9fd0aa59-a8ef-4d03-8355-1e8c508106b7",
   "metadata": {},
   "outputs": [],
   "source": []
  }
 ],
 "metadata": {
  "kernelspec": {
   "display_name": "Python 3 (ipykernel)",
   "language": "python",
   "name": "python3"
  },
  "language_info": {
   "codemirror_mode": {
    "name": "ipython",
    "version": 3
   },
   "file_extension": ".py",
   "mimetype": "text/x-python",
   "name": "python",
   "nbconvert_exporter": "python",
   "pygments_lexer": "ipython3",
   "version": "3.12.4"
  }
 },
 "nbformat": 4,
 "nbformat_minor": 5
}
