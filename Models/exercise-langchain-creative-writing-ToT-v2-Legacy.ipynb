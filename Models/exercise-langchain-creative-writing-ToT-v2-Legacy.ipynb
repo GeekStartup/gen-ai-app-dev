{
 "cells": [
  {
   "cell_type": "markdown",
   "id": "045b8e62-59b8-4ed0-97e9-1a617226fd41",
   "metadata": {},
   "source": [
    "# Creative Writing Workbench using SequentialChain (version 2)\n",
    "\n",
    "Solution to **exercise #6**\n",
    "\n",
    "Convert the Creative Writing Workbench code from *exercise #5* to use LangChain SequentialChain.\n"
   ]
  },
  {
   "cell_type": "markdown",
   "id": "0ef06b73-7984-404f-8ea2-18f1062ddcbc",
   "metadata": {},
   "source": [
    "Create a SequentialChain with 4 LLMChain(s)\n",
    "\n",
    "1. LLMChain 1 : Generate 3 plan\n",
    "2. LLMChain 2 : Vote the best plan out of the 3 plans\n",
    "3. LLMChain 3 : Generate 3 writeups from the best plan\n",
    "4. LLMChain 4 : Vote the best passage out of the 3 passages\n",
    "\n",
    "To keep things simple you can us the same LLM for all chains.\n",
    "\n",
    "**Hints**:\n",
    "\n",
    "* To specify JSON formats in prompts use double '{{' instead of '{'  i.e., *{{   ...  }*\n",
    "* You will need to adjust the prompt i.e., you cant use the prompts from earlier version as-is\n",
    "* You may need to adjust the number of tokens returned from the model as a response\n",
    "* Use JSON output parser. Pydantic may also be used. Try out both and pick one that works best for you.\n",
    "* Output indicators may be hard coded in the prompt as we will not be parsing the output from the LLM at each step"
   ]
  },
  {
   "cell_type": "code",
   "execution_count": 1,
   "id": "4f53cd45-e30e-4b25-a790-85044ef7e49c",
   "metadata": {},
   "outputs": [
    {
     "data": {
      "text/plain": [
       "True"
      ]
     },
     "execution_count": 1,
     "metadata": {},
     "output_type": "execute_result"
    }
   ],
   "source": [
    "from dotenv import load_dotenv\n",
    "import os\n",
    "\n",
    "import warnings\n",
    "\n",
    "from IPython.display import Markdown, JSON\n",
    "\n",
    "warnings.filterwarnings(\"ignore\")\n",
    "\n",
    "# Load the file that contains the API keys\n",
    "load_dotenv('C:\\\\Users\\\\raj\\\\.jupyter\\\\.env')"
   ]
  },
  {
   "cell_type": "code",
   "execution_count": 2,
   "id": "8a6d4a60-afdb-4390-bbdc-a66e4e0c6f54",
   "metadata": {},
   "outputs": [],
   "source": [
    "writeup_instructions = \"\"\"\n",
    "Write a passage of under 100 words to describe our new product:\n",
    "Javelin 20 High Performance Shoes.\n",
    "\n",
    "The title must contain the sentence: A new you\n",
    "\n",
    "The first sentence must contain a few of these words: motivation, workout, sports, attractive\n",
    "\n",
    "The last few sentences must motivate the reader to visit out website http://acme.com/jav20\n",
    "\n",
    "The passage must contain the phrase : trendsetter\n",
    "\"\"\""
   ]
  },
  {
   "cell_type": "code",
   "execution_count": 3,
   "id": "f4f0d52b-edb0-4335-b47d-2557e7607050",
   "metadata": {},
   "outputs": [],
   "source": [
    "### from langchain.chat_models import ChatOpenAI\n",
    "# from langchain_openai import ChatOpenAI\n",
    "\n",
    "### model_name = \"gpt-3.5-turbo\"\n",
    "# llm = ChatOpenAI(temperature=0.4) #model_name=model_name)"
   ]
  },
  {
   "cell_type": "code",
   "execution_count": 4,
   "id": "7a8546d8-5158-4c30-9203-99c938b99584",
   "metadata": {},
   "outputs": [],
   "source": [
    "# from langchain.llms import Cohere\n",
    "\n",
    "from langchain_community.llms import Cohere\n",
    "\n",
    "llm = Cohere(model=\"command\", max_tokens=3000)\n"
   ]
  },
  {
   "cell_type": "markdown",
   "id": "d6403e52-992b-4e45-b08e-f3b516c03171",
   "metadata": {},
   "source": [
    "## 1. Create LLMChain #1   Generate 3 plans\n"
   ]
  },
  {
   "cell_type": "code",
   "execution_count": 5,
   "id": "f2a2e743-5289-492c-b196-a6a6c2dfa949",
   "metadata": {},
   "outputs": [],
   "source": [
    "from langchain.prompts import PromptTemplate\n",
    "from langchain.chains  import LLMChain, SequentialChain\n",
    "\n",
    "from IPython.display import Markdown, JSON"
   ]
  },
  {
   "cell_type": "code",
   "execution_count": 6,
   "id": "beb52964-f8b6-4f09-97f7-8a62c913189e",
   "metadata": {},
   "outputs": [
    {
     "name": "stdout",
     "output_type": "stream",
     "text": [
      "\n",
      "Generate three separate step by step plans for executing the given task with the following task instructions.\n",
      "\n",
      "Task Instructions:\n",
      "\n",
      "Write a passage of under 100 words to describe our new product:\n",
      "Javelin 20 High Performance Shoes.\n",
      "\n",
      "The title must contain the sentence: A new you\n",
      "\n",
      "The first sentence must contain a few of these words: motivation, workout, sports, attractive\n",
      "\n",
      "The last few sentences must motivate the reader to visit out website http://acme.com/jav20\n",
      "\n",
      "The passage must contain the phrase : trendsetter\n",
      "\n",
      "\n",
      "Plan:\n",
      "Your plan here.\n",
      "\n",
      "\n"
     ]
    }
   ],
   "source": [
    "ouput_passage_indicator = \"Passage:\"\n",
    "ouput_plan_indicator = \"Plan:\"\n",
    "\n",
    "template_1 = \"\"\"\n",
    "Generate three separate step by step plans for executing the given task with the following task instructions.\n",
    "\n",
    "Task Instructions:\n",
    "{task_instructions}\n",
    "\n",
    "{ouput_plan_indicator}\n",
    "Your plan here.\n",
    "\n",
    "\"\"\" \n",
    "\n",
    "prompt_template_1 = PromptTemplate(\n",
    "                        template = template_1,\n",
    "                        input_variables = [\"task_instructions\"],\n",
    "                        partial_variables = {\"ouput_plan_indicator\":ouput_plan_indicator}\n",
    ")\n",
    "\n",
    "print(prompt_template_1.format(task_instructions=writeup_instructions))"
   ]
  },
  {
   "cell_type": "code",
   "execution_count": 7,
   "id": "00922460-6d35-4e78-bf7d-f1bda4ff939e",
   "metadata": {},
   "outputs": [],
   "source": [
    "# Create the LLM Chain\n",
    "llm_chain_generate_plan = LLMChain(\n",
    "    prompt = prompt_template_1,\n",
    "    llm = llm,\n",
    "    output_key = 'proposed_plans',\n",
    ")\n",
    "\n",
    "response = llm_chain_generate_plan.invoke({\"task_instructions\": writeup_instructions})"
   ]
  },
  {
   "cell_type": "code",
   "execution_count": 8,
   "id": "36d99229-ee27-4081-822e-2cb370664cff",
   "metadata": {},
   "outputs": [],
   "source": [
    "# print(response['proposed_plans'])"
   ]
  },
  {
   "cell_type": "markdown",
   "id": "e7366952-1186-4c2d-b9c8-849ae932555b",
   "metadata": {},
   "source": [
    "## 2. Vote the best plan out of the 3 plans"
   ]
  },
  {
   "cell_type": "code",
   "execution_count": 9,
   "id": "4f95997f-5c8c-41c0-876e-1350165d5a76",
   "metadata": {},
   "outputs": [
    {
     "name": "stdout",
     "output_type": "stream",
     "text": [
      "\n",
      "Three  expert marketing writers were asked to put together a plan for the following task. \n",
      "Your job is to pick the best plan.\n",
      "\n",
      "Task Instructions:\n",
      "\n",
      "Write a passage of under 100 words to describe our new product:\n",
      "Javelin 20 High Performance Shoes.\n",
      "\n",
      "The title must contain the sentence: A new you\n",
      "\n",
      "The first sentence must contain a few of these words: motivation, workout, sports, attractive\n",
      "\n",
      "The last few sentences must motivate the reader to visit out website http://acme.com/jav20\n",
      "\n",
      "The passage must contain the phrase : trendsetter\n",
      "\n",
      "\n",
      "Proposed Plans:\n",
      "DUMMY PLANS\n",
      "\n",
      "Your out should be in following format.\n",
      "\n",
      "Selected Plan: \n",
      "Put the plan steps here.\n",
      "\n",
      "\n"
     ]
    }
   ],
   "source": [
    "output_best_plan_indicator = \"Selected Plan:\"\n",
    "\n",
    "template_2 = \"\"\"\n",
    "Three  expert marketing writers were asked to put together a plan for the following task. \n",
    "Your job is to pick the best plan.\n",
    "\n",
    "Task Instructions:\n",
    "{task_instructions}\n",
    "\n",
    "Proposed Plans:\n",
    "{proposed_plans}\n",
    "\n",
    "Your out should be in following format.\n",
    "\n",
    "{output_best_plan_indicator} \n",
    "Put the plan steps here.\n",
    "\n",
    "\"\"\"\n",
    "\n",
    "prompt_template_2 = PromptTemplate(\n",
    "                        template = template_2,\n",
    "                        input_variables = [\"task_instructions\", \"proposed_plans\"],\n",
    "                        partial_variables = {\"output_best_plan_indicator\":output_best_plan_indicator}\n",
    ")\n",
    "\n",
    "print(prompt_template_2.format(task_instructions=writeup_instructions, proposed_plans = \"DUMMY PLANS\"))"
   ]
  },
  {
   "cell_type": "code",
   "execution_count": 10,
   "id": "1c3ab497-47c5-489c-834e-c7d8418f172f",
   "metadata": {},
   "outputs": [],
   "source": [
    "# Create the LLM Chain\n",
    "llm_chain_vote_on_plan = LLMChain(\n",
    "    prompt = prompt_template_2,\n",
    "    llm = llm,\n",
    "    output_key=\"best_voted_plan\",\n",
    ")\n"
   ]
  },
  {
   "cell_type": "markdown",
   "id": "1f6a2065-b1ac-47b8-b0ec-9004d669007e",
   "metadata": {},
   "source": [
    "## Intermediate Sequential Chain to test\n",
    "\n",
    "OPTIONAL step - just to check how things are going"
   ]
  },
  {
   "cell_type": "code",
   "execution_count": 11,
   "id": "3a8c28a5-1b63-48e1-bcaa-dde7cb5ccf22",
   "metadata": {},
   "outputs": [],
   "source": [
    "from langchain.chains import SequentialChain\n",
    "\n",
    "\n",
    "# {\"task_instructions\": writeup_instructions}\n",
    "\n",
    "sequential_chain = SequentialChain(\n",
    "    chains=[llm_chain_generate_plan, llm_chain_vote_on_plan],\n",
    "    input_variables = ['task_instructions', ],\n",
    "    output_variables = [\"best_voted_plan\", \"proposed_plans\"],\n",
    "    verbose = True\n",
    ")"
   ]
  },
  {
   "cell_type": "code",
   "execution_count": 12,
   "id": "3776a0d3-3328-496b-945e-b7ff8b83fb69",
   "metadata": {},
   "outputs": [
    {
     "name": "stdout",
     "output_type": "stream",
     "text": [
      "\n",
      "\n",
      "\u001b[1m> Entering new SequentialChain chain...\u001b[0m\n",
      "\n",
      "\u001b[1m> Finished chain.\u001b[0m\n"
     ]
    }
   ],
   "source": [
    "response = sequential_chain.invoke({\"task_instructions\":writeup_instructions})"
   ]
  },
  {
   "cell_type": "code",
   "execution_count": 13,
   "id": "6c0b8db9-9120-446e-8140-19b824ae15e3",
   "metadata": {},
   "outputs": [],
   "source": [
    "# JSON(response) #['best_voted_plan'])"
   ]
  },
  {
   "cell_type": "markdown",
   "id": "2e247f11-05d0-4b98-863a-baf4d7a9f770",
   "metadata": {},
   "source": [
    "## 3 Create 3 passages with best_voted_plan"
   ]
  },
  {
   "cell_type": "code",
   "execution_count": 14,
   "id": "775f5b5b-18c1-4509-9652-dd0f948fc5f8",
   "metadata": {},
   "outputs": [],
   "source": [
    "template_3 = \"\"\"\n",
    "Create three passages using the following task instructions and the plan.\n",
    "\n",
    "Task Instructions:\n",
    "{task_instructions}\n",
    "\n",
    "Plan:\n",
    "{best_voted_plan}\n",
    "\n",
    "Your output will be in following format.\n",
    "\n",
    "{ouput_passage_indicator}\n",
    "Put the passage here.\n",
    "\n",
    "\"\"\"\n",
    "\n",
    "prompt_template_3 = PromptTemplate(\n",
    "    template = template_3,\n",
    "    input_variables = [\"best_voted_plan\"],\n",
    "    partial_variables = {\"ouput_passage_indicator\" : ouput_passage_indicator, \"task_instructions\": writeup_instructions},\n",
    ")\n",
    "\n",
    "# print(prompt_template_3.format(best_voted_plan=\"DUMMY PLAN\"))"
   ]
  },
  {
   "cell_type": "code",
   "execution_count": 15,
   "id": "2f1c8136-0113-4bf2-8c06-9301f863748f",
   "metadata": {},
   "outputs": [],
   "source": [
    "# Create the LLM Chain\n",
    "llm_chain_generate_passages = LLMChain(\n",
    "    prompt = prompt_template_3,\n",
    "    llm = llm,\n",
    "    output_key=\"passages\",\n",
    ")"
   ]
  },
  {
   "cell_type": "markdown",
   "id": "0b6b139d-2f5b-499c-9628-4dd8a0773917",
   "metadata": {},
   "source": [
    "## CREATE Intermediate Sequential Chain\n",
    "\n",
    "OPTIONAL step - just to check how things are going\n"
   ]
  },
  {
   "cell_type": "code",
   "execution_count": 16,
   "id": "7c778dc3-f76f-413c-8a0c-c989c6a6472c",
   "metadata": {},
   "outputs": [],
   "source": [
    "sequential_chain = SequentialChain(\n",
    "    chains=[llm_chain_generate_plan, llm_chain_vote_on_plan, llm_chain_generate_passages],\n",
    "    input_variables = ['task_instructions', ],\n",
    "    output_variables = [\"passages\",\"best_voted_plan\",\"proposed_plans\", \"passages\"],\n",
    "    verbose = True\n",
    ")"
   ]
  },
  {
   "cell_type": "code",
   "execution_count": 17,
   "id": "3f3f77a0-b216-46ce-925c-8874221d1b11",
   "metadata": {},
   "outputs": [
    {
     "name": "stdout",
     "output_type": "stream",
     "text": [
      "\n",
      "\n",
      "\u001b[1m> Entering new SequentialChain chain...\u001b[0m\n",
      "\n",
      "\u001b[1m> Finished chain.\u001b[0m\n"
     ]
    }
   ],
   "source": [
    "response = sequential_chain.invoke({\"task_instructions\":writeup_instructions})"
   ]
  },
  {
   "cell_type": "code",
   "execution_count": 18,
   "id": "41091dd1-b21b-4ce2-9dd8-1eb12ebec99e",
   "metadata": {},
   "outputs": [
    {
     "data": {
      "application/json": {
       "best_voted_plan": " Selected Plan: \n\n1. Create an engaging title such as: \"Welcome to a New You: The Javelin 20 High Performance Shoes\";\n2. Begin the passage with a few of the provided words, or a variation of them, such as: \"Introducing a fresh take on sports and workout gear with our stylish and innovative Javelin 20 High Performance Shoes - ready to propel you towards your goals and keep you at the top of your game\";\n3. Motivate the reader to visit the website by incorporating the given URL into a sentence like: \"Visit our website http://acme.com/jav20 and get ready to embark on an exciting journey towards personal achievement and self-actualization. Take the first step to a new you.\" \n\nI hope this helps! Let me know if you have any other questions about selecting or refining marketing plans. ",
       "passages": " Welcome to a New You: The Javelin 20 High Performance Shoes \n\nStep up your game and elevate your style with our sleek and attractive Javelin 20 High Performance Shoes, the perfect accessory to boost your motivation and get you moving. \n\nWith innovative design features, we have crafted these shoes with comfort and functionality in mind, setting you apart from the crowd and leaving a trail of trendsetters in your wake. \n\nVisit our website http://acme.com/jav20 and get ready to be whisked away on an exhilarating journey of self-improvement and discovery. ",
       "proposed_plans": " Here is a three step process to create a passage of under 100 words to describe Acme's new product, the Javelin 20 High Performance Shoes: \n\n1. Begin with an attention-grabbing title, such as: \"Revitalize Your Workout Routine and Become the Trendsetter\";\n2. Develop the first sentence, incorporating the phrases and keywords as instructed, such as: \"Elevate your workout and sports experience with our revolutionary Javelin 20 High Performance Shoes, crafted to provide the ultimate combination of comfort, style, and functionality\";\n3. Ensure the last paragraphs motivate the reader to learn more at the specified website, such as: \"From avid athletes to lifestyle enthusiasts, these shoes are the perfect addition to unlock your true potential and achieve all your goals. Be a trendsetter, visit our website http://acme.com/jav20 and experience the future of footwear innovation.\" \n\nHere is another possible iteration of the above plan: \n\n1. Create an engaging title such as: \"Welcome to a New You: The Javelin 20 High Performance Shoes\";\n2. Begin the passage with a few of the provided words, or a variation of them, such as: \"Introducing a fresh take on sports and workout gear with our stylish and innovative Javelin 20 High Performance Shoes - ready to propel you towards your goals and keep you at the top of your game\";\n3. Motivate the reader to visit the website by incorporating the given URL into a sentence like: \"Visit our website http://acme.com/jav20 and get ready to embark on an exciting journey towards personal achievement and self-actualization.\" \n\nThis is yet another version of the above task: \n\n1. Craft a title along the lines of: \"The Ultimate Motivation: Javelin 20 High Performance Shoes\";\n2. The first sentence could initiate the description with the following: \"Elevate your training to the next level with the innovative and high-performance Javelin 20 Shoes, specifically designed to amplify your strength, stamina, and style\";\n3. Incorporate a call to action that urges the reader to visit the Acme website for further details, like: \"Unleash your full potential, and step into a new realm of fitness and fashion. Visit our website http://acme.com/jav20 to learn more and get started today!\" ",
       "task_instructions": "\nWrite a passage of under 100 words to describe our new product:\nJavelin 20 High Performance Shoes.\n\nThe title must contain the sentence: A new you\n\nThe first sentence must contain a few of these words: motivation, workout, sports, attractive\n\nThe last few sentences must motivate the reader to visit out website http://acme.com/jav20\n\nThe passage must contain the phrase : trendsetter\n"
      },
      "text/plain": [
       "<IPython.core.display.JSON object>"
      ]
     },
     "execution_count": 18,
     "metadata": {
      "application/json": {
       "expanded": false,
       "root": "root"
      }
     },
     "output_type": "execute_result"
    }
   ],
   "source": [
    "JSON(response)"
   ]
  },
  {
   "cell_type": "markdown",
   "id": "6e11078a-6b7c-40e4-92d7-db22388c8513",
   "metadata": {},
   "source": [
    "## 4 Vote the best passage"
   ]
  },
  {
   "cell_type": "code",
   "execution_count": 19,
   "id": "521ec3b1-8c0d-41b1-b3e2-142a38c4c664",
   "metadata": {},
   "outputs": [
    {
     "name": "stdout",
     "output_type": "stream",
     "text": [
      "\n",
      "Three experts were given the following task.\n",
      "\n",
      "Task:\n",
      "\n",
      "Write a passage of under 100 words to describe our new product:\n",
      "Javelin 20 High Performance Shoes.\n",
      "\n",
      "The title must contain the sentence: A new you\n",
      "\n",
      "The first sentence must contain a few of these words: motivation, workout, sports, attractive\n",
      "\n",
      "The last few sentences must motivate the reader to visit out website http://acme.com/jav20\n",
      "\n",
      "The passage must contain the phrase : trendsetter\n",
      "\n",
      "\n",
      "You need to review the 3 passages and identify ONE best passage out of the three. \n",
      "\n",
      "Proposed Passages:\n",
      "DUMMY PASSAGES\n",
      "\n",
      "Your output will be in following format.\n",
      "\n",
      "Selected Passage:\n",
      "Put the passage here.\n",
      "\n",
      "\n"
     ]
    }
   ],
   "source": [
    "\n",
    "output_best_passage_indicator = \"Selected Passage:\"\n",
    "\n",
    "template_4 = \"\"\"\n",
    "Three experts were given the following task.\n",
    "\n",
    "Task:\n",
    "{task_instructions}\n",
    "\n",
    "You need to review the 3 passages and identify ONE best passage out of the three. \n",
    "\n",
    "Proposed Passages:\n",
    "{passages}\n",
    "\n",
    "Your output will be in following format.\n",
    "\n",
    "{output_best_passage_indicator}\n",
    "Put the passage here.\n",
    "\n",
    "\"\"\"\n",
    "\n",
    "prompt_template_4 = PromptTemplate(\n",
    "    template = template_4,\n",
    "    input_variables = [\"passages\"],\n",
    "    partial_variables = {\"task_instructions\": writeup_instructions, \"output_best_passage_indicator\" : output_best_passage_indicator, },\n",
    ")\n",
    "\n",
    "print(prompt_template_4.format(passages = \"DUMMY PASSAGES\"))"
   ]
  },
  {
   "cell_type": "code",
   "execution_count": 20,
   "id": "20483235-d4ac-4fe3-8c6e-f4d4ef52d1db",
   "metadata": {},
   "outputs": [],
   "source": [
    "# Create the LLM Chain\n",
    "llm_chain_select_final_passages = LLMChain(\n",
    "    prompt = prompt_template_4,\n",
    "    llm = llm,\n",
    "    output_key=\"creative_passage\",\n",
    ")"
   ]
  },
  {
   "cell_type": "code",
   "execution_count": 21,
   "id": "2cc0559a-657b-4ae1-8d98-acfd32fce06d",
   "metadata": {},
   "outputs": [],
   "source": [
    "sequential_chain = SequentialChain(\n",
    "    chains=[llm_chain_generate_plan, llm_chain_vote_on_plan, llm_chain_generate_passages, llm_chain_select_final_passages],\n",
    "    input_variables = ['task_instructions', ],\n",
    "    output_variables = [\"creative_passage\", \"best_voted_plan\", \"passages\", \"proposed_plans\"],\n",
    "    verbose = True,\n",
    ")"
   ]
  },
  {
   "cell_type": "code",
   "execution_count": null,
   "id": "8f236849-f2f9-4600-a154-5ccb41c83555",
   "metadata": {},
   "outputs": [
    {
     "name": "stdout",
     "output_type": "stream",
     "text": [
      "\n",
      "\n",
      "\u001b[1m> Entering new SequentialChain chain...\u001b[0m\n"
     ]
    }
   ],
   "source": [
    "response = sequential_chain.invoke({\"task_instructions\":writeup_instructions})"
   ]
  },
  {
   "cell_type": "code",
   "execution_count": null,
   "id": "349685c4-e67f-4ddc-9228-4988480b766b",
   "metadata": {},
   "outputs": [],
   "source": [
    "JSON(response)"
   ]
  },
  {
   "cell_type": "code",
   "execution_count": null,
   "id": "b253a16e-091d-41c5-8e6d-416b49dbeb67",
   "metadata": {},
   "outputs": [],
   "source": []
  },
  {
   "cell_type": "code",
   "execution_count": null,
   "id": "c26b4a6e-5b43-4f04-8093-a37bd9795ad4",
   "metadata": {},
   "outputs": [],
   "source": []
  }
 ],
 "metadata": {
  "kernelspec": {
   "display_name": "Python 3 (ipykernel)",
   "language": "python",
   "name": "python3"
  },
  "language_info": {
   "codemirror_mode": {
    "name": "ipython",
    "version": 3
   },
   "file_extension": ".py",
   "mimetype": "text/x-python",
   "name": "python",
   "nbconvert_exporter": "python",
   "pygments_lexer": "ipython3",
   "version": "3.8.18"
  }
 },
 "nbformat": 4,
 "nbformat_minor": 5
}
