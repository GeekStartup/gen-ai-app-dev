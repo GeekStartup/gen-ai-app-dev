{
 "cells": [
  {
   "attachments": {},
   "cell_type": "markdown",
   "id": "e1c10732",
   "metadata": {},
   "source": [
    "# Logits : Sentiment Analysis\n",
    "\n",
    "Use DistillBert for sentiment analysis.\n",
    "\n",
    "https://huggingface.co/distilbert-base-uncased-finetuned-sst-2-english\n",
    "\n"
   ]
  },
  {
   "cell_type": "markdown",
   "id": "18ac5a94-e667-4f0f-bfc4-cea697a7ef7e",
   "metadata": {},
   "source": [
    "#### Google Colab\n",
    "If you are running the code in Google colab, install the packages by uncommenting/running the cell below"
   ]
  },
  {
   "cell_type": "code",
   "execution_count": 1,
   "id": "7bd59bbd-3469-45c0-87e5-3a5df9da647a",
   "metadata": {},
   "outputs": [],
   "source": [
    "# !pip install transformers torch"
   ]
  },
  {
   "cell_type": "markdown",
   "id": "537f2835-89db-4613-ac2b-2ec6b570f04e",
   "metadata": {},
   "source": [
    "### Import appropriate model & config classes"
   ]
  },
  {
   "cell_type": "code",
   "execution_count": 2,
   "id": "8a897320",
   "metadata": {},
   "outputs": [],
   "source": [
    "# PyTorch package Needed for interpretation of logits\n",
    "import torch \n",
    "\n",
    "# Import the task specific class\n",
    "from transformers import DistilBertTokenizer, DistilBertForSequenceClassification\n"
   ]
  },
  {
   "cell_type": "markdown",
   "id": "01f35585-c7e5-4a91-bdc3-2ddf48eb0e90",
   "metadata": {},
   "source": [
    "## 1. Create instance of tokenizer & model"
   ]
  },
  {
   "cell_type": "code",
   "execution_count": 3,
   "id": "1a2013cb-a565-4ab5-bf5b-c0819ba9c786",
   "metadata": {},
   "outputs": [],
   "source": [
    "model_name = \"distilbert-base-uncased-finetuned-sst-2-english\"\n",
    "\n",
    "# Create tokenizer\n",
    "tokenizer = DistilBertTokenizer.from_pretrained(model_name)\n",
    "\n",
    "# Create model\n",
    "model = DistilBertForSequenceClassification.from_pretrained(model_name)\n"
   ]
  },
  {
   "cell_type": "markdown",
   "id": "04552f68-41ac-4343-86b3-23d882ef21e4",
   "metadata": {},
   "source": [
    "## 2. Create tensors"
   ]
  },
  {
   "cell_type": "code",
   "execution_count": 4,
   "id": "ae13ba9c-de7a-4a03-87de-1f015fcc6d9a",
   "metadata": {},
   "outputs": [],
   "source": [
    "# Sample text\n",
    "text = 'I loved the restaurant'\n",
    "\n",
    "# Convert to PyTorch tensors\n",
    "inputs = tokenizer(text, return_tensors=\"pt\")"
   ]
  },
  {
   "cell_type": "markdown",
   "id": "ea60029c-6d5f-4754-99fb-c9bd067febc0",
   "metadata": {},
   "source": [
    "## 3. Run Inference"
   ]
  },
  {
   "cell_type": "code",
   "execution_count": 5,
   "id": "ce913d20-e7d5-4a9e-bd39-b79a7357f3f9",
   "metadata": {},
   "outputs": [
    {
     "name": "stdout",
     "output_type": "stream",
     "text": [
      "Type =  <class 'transformers.modeling_outputs.SequenceClassifierOutput'>\n",
      "Output =  SequenceClassifierOutput(loss=None, logits=tensor([[-4.2441,  4.5556]]), hidden_states=None, attentions=None)\n"
     ]
    }
   ],
   "source": [
    "# Safe way to run inference\n",
    "with torch.no_grad():\n",
    "    output = model(**inputs)\n",
    "\n",
    "# Print the output type & output\n",
    "print('Type = ', type(output))\n",
    "print('Output = ', output)"
   ]
  },
  {
   "cell_type": "markdown",
   "id": "132213a3-75ff-4073-be1b-a7b0f518842e",
   "metadata": {},
   "source": [
    "## 4. Interpret Logits (SequenceClassifierOutput)\n",
    "\n",
    "* Returns a tensor with size = number of labels. \n",
    "* Each label has a score = probability for that label\n",
    "* Find the index for which the score is highest\n",
    "\n",
    "**PyTorch argmax()**\n",
    "Returns index of the element with the maximum value.\n",
    "\n",
    "https://pytorch.org/docs/stable/generated/torch.argmax.html#torch.argmax\n",
    "\n",
    "* The configuration of the model has the information for the labels. Use it to get the label text."
   ]
  },
  {
   "cell_type": "code",
   "execution_count": 6,
   "id": "7a6ac9b0-942a-46b1-b585-8155508d8489",
   "metadata": {},
   "outputs": [
    {
     "data": {
      "text/plain": [
       "'POSITIVE'"
      ]
     },
     "execution_count": 6,
     "metadata": {},
     "output_type": "execute_result"
    }
   ],
   "source": [
    "logits = output.logits\n",
    "\n",
    "# Get index for the label with maximum score\n",
    "predicted_class_id = logits.argmax().item()\n",
    "\n",
    "# Get the text for the label by passing the index\n",
    "model.config.id2label[predicted_class_id]"
   ]
  },
  {
   "cell_type": "code",
   "execution_count": null,
   "id": "b6b8913a-0980-46f4-a2ec-ebdf17213b1e",
   "metadata": {},
   "outputs": [],
   "source": []
  },
  {
   "cell_type": "code",
   "execution_count": null,
   "id": "f25b4f1c",
   "metadata": {},
   "outputs": [],
   "source": []
  }
 ],
 "metadata": {
  "kernelspec": {
   "display_name": "Python 3 (ipykernel)",
   "language": "python",
   "name": "python3"
  },
  "language_info": {
   "codemirror_mode": {
    "name": "ipython",
    "version": 3
   },
   "file_extension": ".py",
   "mimetype": "text/x-python",
   "name": "python",
   "nbconvert_exporter": "python",
   "pygments_lexer": "ipython3",
   "version": "3.11.9"
  }
 },
 "nbformat": 4,
 "nbformat_minor": 5
}
