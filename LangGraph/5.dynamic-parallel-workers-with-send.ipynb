{
 "cells": [
  {
   "cell_type": "markdown",
   "id": "30e6cbab-d102-469a-be24-2ac1753dc0ac",
   "metadata": {},
   "source": [
    "# Dynamic parallel tasks with Send API\n",
    "\n",
    "* Exact edges are not known at design time\n",
    "* The number of parallel tasks is determined by a state attribute.\n",
    "* Invoked in a regular node or via conditional edge\n",
    "* May need different state for nodes i.e., the parent & workers may have different state schema\n",
    "* Schema for subtasks may be different from parent's schema; differentiates from conditional edges where the schema stays the same\n",
    "* If different schema is used then a shared key with Annotated types are used for value transfer between parent/child\n",
    "* Number & direction of edges may not be known in advance\n",
    "* A dotted line represents the conditional edge in the visualization\n",
    "* You need to create a List[] or workers with Send(..) and pass it to the conditional edge\n",
    "\n",
    "### Worker-orchestrator pattern\n",
    "https://langchain-ai.github.io/langgraph/tutorials/workflows/?h=par#orchestrator-worker\n",
    "\n",
    "### Send API\n",
    "https://langchain-ai.github.io/langgraph/reference/types/#langgraph.types.Send\n",
    "\n",
    "The **Send** API can also be used for creating dynamic parallel graphs.\n",
    "* Send takes the node and state for the task\n",
    "\n"
   ]
  },
  {
   "cell_type": "code",
   "execution_count": 3,
   "id": "b411d2e5-0385-47ed-a26e-7957d1cc20fe",
   "metadata": {},
   "outputs": [
    {
     "data": {
      "image/png": "[encoded data removed]",
      "text/plain": [
       "<IPython.core.display.Image object>"
      ]
     },
     "metadata": {},
     "output_type": "display_data"
    },
    {
     "name": "stdout",
     "output_type": "stream",
     "text": [
      "Processor#1 range: (0, 10)  generated: 6\n",
      "Processor#2 range: (10, 20)  generated: 13\n",
      "Processor#3 range: (20, 30)  generated: 24\n",
      "Processor#4 range: (30, 40)  generated: 35\n",
      "Processor#5 range: (40, 50)  generated: 41\n"
     ]
    },
    {
     "data": {
      "text/plain": [
       "{'num_workers': 5, 'total': 119, 'numbers': [6, 13, 24, 35, 41]}"
      ]
     },
     "execution_count": 3,
     "metadata": {},
     "output_type": "execute_result"
    }
   ],
   "source": [
    "## 1. The graph dynamically spawns N workers (configurable via num_workers in the input state)\n",
    "## 2. Each worker is assigned: A unique name AND a numeric range for random number generation (e.g., (0, 10), (10, 20), etc.).\n",
    "## 3. Each worker: \n",
    "##    Generates a random integer R within its assigned range\n",
    "##    Appends R to a shared list (numbers) in the global state\n",
    "## 4. State of parent graph = {num_workers, numbers, sum of random_numbers}\n",
    "## 5. State of worker nodes = {range, name, numbers} \n",
    "##    Shared key between parent & workers = numbers\n",
    "\n",
    "## References\n",
    "### [Parallelization](https://langchain-ai.github.io/langgraph/tutorials/workflows/?h=par#parallelization)\n",
    "### [Send Class](https://langchain-ai.github.io/langgraph/reference/types/#langgraph.types.Send)\n",
    "### [Worker orchestrator pattern](https://langchain-ai.github.io/langgraph/tutorials/workflows/?h=par#orchestrator-worker)\n",
    "### [Add conditional edges](https://langchain-ai.github.io/langgraph/reference/graphs/#langgraph.graph.state.StateGraph.add_conditional_edges)\n",
    "\n",
    "# Import the required libraries\n",
    "from langgraph.graph import StateGraph, START, END\n",
    "from typing import List, Annotated, TypedDict\n",
    "from langgraph.types import Send\n",
    "from IPython.display import Image, display\n",
    "import random\n",
    "import operator\n",
    "\n",
    "# Parent graph state\n",
    "class StateParent(TypedDict):\n",
    "    num_workers: int\n",
    "    total: int\n",
    "    numbers: Annotated[list, operator.add]  # Shared key between workers & parent\n",
    "\n",
    "# Worker State : Instance shared by all workers\n",
    "class StateWorker(TypedDict):\n",
    "    name: str\n",
    "    range: tuple[int, int]\n",
    "    numbers: Annotated[list, operator.add]  # Shared key between workers & parent\n",
    "\n",
    "# Node: Initializes the graph's state\n",
    "def orchestrator_node(state: StateParent):\n",
    "    # Initialize the state \n",
    "    return {\"numbers\": [], \"total\": 0}\n",
    "\n",
    "# Node: Returns the 'common key' numbers\n",
    "def worker_processor_node(state: StateWorker)->StateWorker:\n",
    "    lower, upper = state[\"range\"]\n",
    "    rint = random.randint(lower, upper)\n",
    "    print(f\"{state[\"name\"]} range: ({lower}, {upper})  generated: {rint}\")\n",
    "    return {\"numbers\": [rint]}\n",
    "\n",
    "# Node : The shared key numbers is taken care in this node\n",
    "def aggregator_node(state: StateParent)->StateParent:\n",
    "    nums = state[\"numbers\"]\n",
    "    return {\"total\": sum(nums)}\n",
    "\n",
    "# Router logic - Worker creation : used from conditional edge\n",
    "def assign_workers(state: StateParent)->StateParent:\n",
    "    # Get the number of workers to be created\n",
    "    num_workers = state[\"num_workers\"]\n",
    "\n",
    "    # List of Send instances to be returned\n",
    "    workers = []\n",
    "    for num in range(num_workers):\n",
    "        worker_args = {\n",
    "            \"name\" : f\"Processor#{num+1}\",\n",
    "            \"range\": (num*10, (num*10)+10)\n",
    "        }\n",
    "        workers.append(Send(\"worker_processor_node\", worker_args))\n",
    "        \n",
    "    return workers\n",
    "\n",
    "# Graph\n",
    "parallel_graph = StateGraph(StateParent)\n",
    "\n",
    "# Add nodes\n",
    "parallel_graph.add_node(\"orchestrator_node\", orchestrator_node)\n",
    "parallel_graph.add_node(\"worker_processor_node\", worker_processor_node)\n",
    "parallel_graph.add_node(\"aggregator_node\", aggregator_node)\n",
    "\n",
    "# Add edges\n",
    "parallel_graph.add_edge(START,\"orchestrator_node\")\n",
    "\n",
    "# Ad conditional edgse : Spawns multiple workers dynamically\n",
    "# list passed as a path_map simply means key/value are same\n",
    "parallel_graph.add_conditional_edges(\n",
    "                                        \"orchestrator_node\",\n",
    "                                        assign_workers,\n",
    "                                        [\"worker_processor_node\"]\n",
    ")\n",
    "parallel_graph.add_edge(\"worker_processor_node\",\"aggregator_node\")\n",
    "parallel_graph.add_edge(\"aggregator_node\",END)\n",
    "\n",
    "# Compile\n",
    "parallel_graph_compiled = parallel_graph.compile()\n",
    "\n",
    "# Display\n",
    "display(Image(parallel_graph_compiled.get_graph().draw_mermaid_png()))\n",
    "\n",
    "# # Invoke\n",
    "parallel_graph_compiled.invoke({\"num_workers\": 5})"
   ]
  },
  {
   "cell_type": "markdown",
   "id": "8f70d772-c3e3-4bf0-8581-775bac7c924b",
   "metadata": {},
   "source": [
    "## Map-Reduce\n",
    "This example transforms the output from the worker nodes in the reducer node.\n",
    "\n",
    "* The graph spawns N tasks (processors) at runtime, where N = state[\"tasks\"] (configurable on invocation).\n",
    "* Each task (processor) receives: A unique name (passed via state[\"name\"] in TaskState) AND generates a random integer between 1 and 10.\n",
    "* Each task (processor node): Generates a random integer R (1 ≤ R ≤ 10). AND Returns R and its name in annotated lists\n",
    "* The reduce_node:\n",
    "   -  Receives merged state with all rint and name values AND Transforms data into a structured result list\n",
    "   -  Computes the total (sum of all rint values).\n",
    "   -  Returns final state\n"
   ]
  },
  {
   "cell_type": "code",
   "execution_count": 5,
   "id": "13e92c85-6144-496b-b580-12c501462719",
   "metadata": {},
   "outputs": [
    {
     "data": {
      "image/png": "[encoded data removed]",
      "text/plain": [
       "<IPython.core.display.Image object>"
      ]
     },
     "metadata": {},
     "output_type": "display_data"
    },
    {
     "name": "stdout",
     "output_type": "stream",
     "text": [
      "Task started: task-0\n",
      "Task started: task-1\n",
      "Task started: task-2\n",
      "Task started: task-3\n",
      "Task started: task-4\n",
      "Reducer received : {'rint': [4, 3, 1, 2, 7], 'name': ['task-0', 'task-1', 'task-2', 'task-3', 'task-4']}\n"
     ]
    },
    {
     "data": {
      "text/plain": [
       "{'tasks': 5,\n",
       " 'total': 17,\n",
       " 'result': [{'name': 'task-0', 'rint': 4},\n",
       "  {'name': 'task-1', 'rint': 3},\n",
       "  {'name': 'task-2', 'rint': 1},\n",
       "  {'name': 'task-3', 'rint': 2},\n",
       "  {'name': 'task-4', 'rint': 7}]}"
      ]
     },
     "execution_count": 5,
     "metadata": {},
     "output_type": "execute_result"
    }
   ],
   "source": [
    "from langgraph.types import Send\n",
    "from langgraph.graph import StateGraph, START, END\n",
    "from typing import List, Annotated, TypedDict\n",
    "from IPython.display import Image, display\n",
    "import random\n",
    "import operator\n",
    "   \n",
    "\n",
    "class StateParallelSend(TypedDict):\n",
    "    tasks: int\n",
    "    total: int\n",
    "    result: dict\n",
    "\n",
    "# Attributes must be annotated as multiple tasks will be updating the state\n",
    "class TaskState(TypedDict):\n",
    "    rint: Annotated[list[int], operator.add]\n",
    "    name: Annotated[list[str], operator.add]\n",
    "    \n",
    "def processor(state: TaskState):\n",
    "    print(f\"Task started: {state[\"name\"]}\")\n",
    "    # print(f\"message from {state[\"name\"]}\")\n",
    "    rint = random.randint(1, 10)\n",
    "    return {\"rint\": [rint], \"name\": [state[\"name\"]]}\n",
    "\n",
    "# Router logic\n",
    "def map_node(state: StateParallelSend):\n",
    "    sends = []\n",
    "    for i in range(state[\"tasks\"]):\n",
    "        name = f\"task-{i}\"\n",
    "        sends.append(Send(\"processor\", {\"name\": name} ))\n",
    "    return sends\n",
    "\n",
    "def reduce_node(state: TaskState):\n",
    "    print(f\"Reducer received : {state}\")\n",
    "\n",
    "    # transform the received results from processors\n",
    "    result = []\n",
    "    total = 0\n",
    "    for i in range(len(state[\"name\"])):\n",
    "        result.append({\"name\": state[\"name\"][i], \"rint\": state[\"rint\"][i]})\n",
    "        total += state[\"rint\"][i]\n",
    "    return {\"total\": total, \"result\": result}\n",
    "\n",
    "workflow_map_reduce = StateGraph(StateParallelSend)\n",
    "\n",
    "workflow_map_reduce.add_node(\"processor\",processor)\n",
    "\n",
    "# add reduce node\n",
    "workflow_map_reduce.add_node(\"reduce_node\",reduce_node)\n",
    "\n",
    "# map_node = router logic\n",
    "workflow_map_reduce.add_conditional_edges(START, map_node,[\"processor\"])\n",
    "\n",
    "# add edge to reducer node\n",
    "workflow_map_reduce.add_edge(\"processor\", \"reduce_node\")\n",
    "\n",
    "workflow_map_reduce_compiled = workflow_map_reduce.compile()\n",
    "\n",
    "display(Image(workflow_map_reduce_compiled.get_graph().draw_mermaid_png()))\n",
    "\n",
    "workflow_map_reduce_compiled.invoke({\"tasks\": 5})"
   ]
  },
  {
   "cell_type": "code",
   "execution_count": null,
   "id": "1f06c475-2eee-4b24-86a8-836ef8d09d8d",
   "metadata": {},
   "outputs": [],
   "source": []
  }
 ],
 "metadata": {
  "kernelspec": {
   "display_name": "Python 3 (ipykernel)",
   "language": "python",
   "name": "python3"
  },
  "language_info": {
   "codemirror_mode": {
    "name": "ipython",
    "version": 3
   },
   "file_extension": ".py",
   "mimetype": "text/x-python",
   "name": "python",
   "nbconvert_exporter": "python",
   "pygments_lexer": "ipython3",
   "version": "3.12.9"
  }
 },
 "nbformat": 4,
 "nbformat_minor": 5
}
