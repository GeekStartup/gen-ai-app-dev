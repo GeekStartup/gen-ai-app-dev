{
 "cells": [
  {
   "cell_type": "markdown",
   "id": "f52a34d8",
   "metadata": {},
   "source": [
    "# Test the model : acloudfan/wikismall-roberta\n",
    "\n",
    "https://huggingface.co/acloudfan/wikismall-roberta\n",
    "\n",
    "This notebook is to test the wikismall model with the fill mask pipeline."
   ]
  },
  {
   "cell_type": "code",
   "execution_count": 1,
   "id": "c4417616",
   "metadata": {},
   "outputs": [],
   "source": [
    "from transformers import pipeline"
   ]
  },
  {
   "cell_type": "markdown",
   "id": "257ae41a",
   "metadata": {},
   "source": [
    "## Baseline with \"roberta-base\""
   ]
  },
  {
   "cell_type": "code",
   "execution_count": 2,
   "id": "48980f45",
   "metadata": {},
   "outputs": [
    {
     "name": "stdout",
     "output_type": "stream",
     "text": [
      "Token =  lamb  14%\n",
      "Token =  pet  12%\n",
      "Token =  dog  11%\n",
      "Token =  rabbit  6%\n",
      "Token =  cat  5%\n"
     ]
    }
   ],
   "source": [
    "\n",
    "TASK = \"fill-mask\"\n",
    "\n",
    "MODEL = \"roberta-base\"\n",
    "\n",
    "# text = \"Paris is a beautiful <mask>. I love Paris.\"\n",
    "text = \"Mary has a little <mask>. It is a small animal\"\n",
    "\n",
    "\n",
    "\n",
    "# https://huggingface.co/docs/transformers/main_classes/pipelines#transformers.FillMaskPipeline\n",
    "fill_mask_pipeline = pipeline(TASK, model=MODEL)\n",
    "\n",
    "response = fill_mask_pipeline(text)\n",
    "\n",
    "# Print predictions\n",
    "for dat in response:\n",
    "    print(f\"Token = {dat['token_str']}  {int(100*dat['score'])}%\")\n",
    "\n"
   ]
  },
  {
   "cell_type": "markdown",
   "id": "41995bbc",
   "metadata": {},
   "source": [
    "## Predictions with \"wikismall-roberta\"\n",
    "\n",
    "RESULTS will be BAD :) as we used very little data for training."
   ]
  },
  {
   "cell_type": "code",
   "execution_count": 3,
   "id": "fb5d5c6e",
   "metadata": {},
   "outputs": [
    {
     "name": "stdout",
     "output_type": "stream",
     "text": [
      "Token = .  5%\n",
      "Token =  the  4%\n",
      "Token = ,  3%\n",
      "Token =  and  2%\n",
      "Token =  of  1%\n"
     ]
    }
   ],
   "source": [
    "MODEL = \"acloudfan/wikismall-roberta\"\n",
    "\n",
    "fill_mask_pipeline = pipeline(TASK, model=MODEL)\n",
    "\n",
    "response = fill_mask_pipeline(text)\n",
    "\n",
    "# Print predictions\n",
    "for dat in response:\n",
    "    print(f\"Token = {dat['token_str']}  {int(100*dat['score'])}%\")\n",
    "    "
   ]
  },
  {
   "cell_type": "code",
   "execution_count": null,
   "id": "69f6781b",
   "metadata": {},
   "outputs": [],
   "source": []
  }
 ],
 "metadata": {
  "kernelspec": {
   "display_name": "Python 3 (ipykernel)",
   "language": "python",
   "name": "python3"
  },
  "language_info": {
   "codemirror_mode": {
    "name": "ipython",
    "version": 3
   },
   "file_extension": ".py",
   "mimetype": "text/x-python",
   "name": "python",
   "nbconvert_exporter": "python",
   "pygments_lexer": "ipython3",
   "version": "3.8.18"
  }
 },
 "nbformat": 4,
 "nbformat_minor": 5
}
