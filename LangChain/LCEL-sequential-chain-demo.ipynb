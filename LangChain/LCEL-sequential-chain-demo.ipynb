{
 "cells": [
  {
   "cell_type": "markdown",
   "id": "a4d8c020-6d47-4769-a709-19d5e24a206b",
   "metadata": {},
   "source": [
    "# Demonstrates the working of a sequential chain\n",
    "\n",
    "Use case:\n",
    "\n",
    "User provides a *term*. The term is passed to an LLM to generate the *definition*. The definition is then passed to another LLM for scoring. The final output is the score.\n",
    "\n",
    "Implementation:\n",
    "1. Create a chain#1 for generating the definition\n",
    "2. Create a chain#2 for scoring\n",
    "3. Create a *sequential chain* with chain#1 and chain#2\n",
    "\n"
   ]
  },
  {
   "cell_type": "code",
   "execution_count": 1,
   "id": "20d86098-1930-458e-bba7-33340c851d08",
   "metadata": {},
   "outputs": [],
   "source": [
    "from dotenv import load_dotenv\n",
    "import os\n",
    "import sys\n",
    "import warnings\n",
    "from IPython.display import JSON\n",
    "\n",
    "warnings.filterwarnings(\"ignore\")\n",
    "\n",
    "# Load the file that contains the API keys\n",
    "load_dotenv('C:\\\\Users\\\\raj\\\\.jupyter\\\\.env1')\n",
    "\n",
    "# Setting path so we can access the utils folder\n",
    "sys.path.append('../')\n",
    "sys.path.append('./')"
   ]
  },
  {
   "cell_type": "markdown",
   "id": "d4be750c-16b8-4012-919f-9befcec761a3",
   "metadata": {},
   "source": [
    "#### Select LLM to use\n",
    "\n",
    "**NOTE**\n",
    "\n",
    "To try out different LLMs, call appropriate function below.\n",
    "\n",
    "* You may see different or even incorrect results\n",
    "* Adjust the prompts as needed\n",
    "\n",
    "\n"
   ]
  },
  {
   "cell_type": "code",
   "execution_count": 8,
   "id": "df31309d-5823-43d6-8bde-e437e38a72a3",
   "metadata": {},
   "outputs": [
    {
     "name": "stdout",
     "output_type": "stream",
     "text": [
      "Key:  OPENAI_API_KEY  already set in environment.\n",
      "Key:  AI21_API_KEY  already set in environment.\n"
     ]
    }
   ],
   "source": [
    "from utils.create_llm import (\n",
    "                                create_google_llm, \n",
    "                                create_cohere_llm, \n",
    "                                create_gpt_llm, \n",
    "                                create_ai21_llm, \n",
    "                                create_anthropic_llm, \n",
    "                                create_hugging_face_llm\n",
    ")\n",
    "\n",
    "# Create the LLM for defining the term\n",
    "define_term_llm = create_gpt_llm(api_key_prompt=True)\n",
    "\n",
    "# Create the LLM for scoring the definition\n",
    "definition_scoring_llm = create_ai21_llm(api_key_prompt=True)"
   ]
  },
  {
   "cell_type": "markdown",
   "id": "9db30dea-6d9a-4e44-9741-8dea5198446b",
   "metadata": {},
   "source": [
    "## Chain#1 : define_term_chain\n",
    "\n",
    "This chain takes a *term* as input and generates a definition for the given term."
   ]
  },
  {
   "cell_type": "code",
   "execution_count": 9,
   "id": "79cc3684-41bf-4cce-98c9-1a3300bdafd5",
   "metadata": {},
   "outputs": [],
   "source": [
    "from langchain.prompts import PromptTemplate\n",
    "from langchain.chains  import LLMChain, SequentialChain\n",
    "\n",
    "define_term_template = \"\"\"\n",
    "define the given term in under 25 words.\n",
    "\n",
    "term: {term}\n",
    "\n",
    "no need for preamble. Just provide the definition.\n",
    "\"\"\""
   ]
  },
  {
   "cell_type": "code",
   "execution_count": 10,
   "id": "dfd6fd63-f577-4e21-ad51-c47506e6f7cf",
   "metadata": {},
   "outputs": [],
   "source": [
    "from langchain.globals import set_debug\n",
    "from langchain.globals import set_verbose\n",
    "\n",
    "set_debug(False)\n",
    "set_verbose(False)\n",
    "\n",
    "define_term_prompt_template = PromptTemplate(\n",
    "                        template=define_term_template,\n",
    "                        input_variables = [\"term\"]\n",
    "                    )\n",
    "\n",
    "\n",
    "define_term_chain = define_term_prompt_template | define_term_llm"
   ]
  },
  {
   "cell_type": "code",
   "execution_count": 11,
   "id": "d1df3e1c-8910-4680-8001-9ce67db51a58",
   "metadata": {},
   "outputs": [
    {
     "name": "stdout",
     "output_type": "stream",
     "text": [
      "\n",
      "The ability to do work or cause change, typically measured in joules, and can take various forms such as kinetic, potential, or thermal.\n"
     ]
    }
   ],
   "source": [
    "response=define_term_chain.invoke({\"term\": \"energy\"})\n",
    "print(response)"
   ]
  },
  {
   "cell_type": "markdown",
   "id": "76e87ef0-6478-4cf6-8a56-9e6d94523363",
   "metadata": {},
   "source": [
    "## Chain#2 : definition_scoring_chain"
   ]
  },
  {
   "cell_type": "code",
   "execution_count": 12,
   "id": "bc295d4a-c9ad-4d74-8280-b174826912ba",
   "metadata": {},
   "outputs": [],
   "source": [
    "definition_scoring_template = \"\"\"\n",
    "You are given the definition of a term. Your job is to score the definition on a scale of 0 to 5.\n",
    "\n",
    "definition: {definition}\n",
    "\n",
    "no need to preamble. Just provide the score.\n",
    "\"\"\"\n",
    "\n",
    "definition_scoring_prompt_template = PromptTemplate(\n",
    "                        template=definition_scoring_template,\n",
    "                        input_variables = [\"definition\"]\n",
    "                    )\n",
    "\n",
    "definition_scoring_chain = definition_scoring_prompt_template | definition_scoring_llm"
   ]
  },
  {
   "cell_type": "markdown",
   "id": "3a3f15ed-7ff8-4342-9b0a-306cc0b67588",
   "metadata": {},
   "source": [
    "## Sequential chain"
   ]
  },
  {
   "cell_type": "code",
   "execution_count": 13,
   "id": "f502c5f0-16cf-43da-b298-4906d0afd859",
   "metadata": {},
   "outputs": [],
   "source": [
    "sequential_chain = {\"definition\": define_term_chain} | definition_scoring_chain"
   ]
  },
  {
   "cell_type": "markdown",
   "id": "3ad7d61d-d84c-4c1f-abf7-4779f285f95c",
   "metadata": {},
   "source": [
    "## Inference"
   ]
  },
  {
   "cell_type": "code",
   "execution_count": 14,
   "id": "041c6b19-eddc-4a56-9bcb-198c0c3c56c6",
   "metadata": {},
   "outputs": [
    {
     "name": "stdout",
     "output_type": "stream",
     "text": [
      "Based on the definition you provided, I would score it as follows:\n",
      "\n",
      "1. Clear and concise: The definition is clear and easy to understand, making it clear and concise.\n",
      "2. Accurate: The definition accurately describes the concept of quantity of motion, along with its relation to mass and velocity.\n",
      "3. Complete: The definition includes all the necessary components of quantity of motion, mass, and velocity.\n",
      "4. Relevant: The definition is relevant to the study of physics and motion.\n",
      "5. Well-explained: The definition provides a clear explanation of the concept of quantity of motion, along with its relationship with mass and velocity.\n",
      "\n",
      "Final Score: 4.5\n"
     ]
    }
   ],
   "source": [
    "response = sequential_chain.invoke({\"term\": \"momentum\"})\n",
    "\n",
    "print(response)"
   ]
  },
  {
   "cell_type": "code",
   "execution_count": null,
   "id": "52094bae-1096-4793-8ef9-32c68ff637db",
   "metadata": {},
   "outputs": [],
   "source": []
  }
 ],
 "metadata": {
  "kernelspec": {
   "display_name": "Python 3 (ipykernel)",
   "language": "python",
   "name": "python3"
  },
  "language_info": {
   "codemirror_mode": {
    "name": "ipython",
    "version": 3
   },
   "file_extension": ".py",
   "mimetype": "text/x-python",
   "name": "python",
   "nbconvert_exporter": "python",
   "pygments_lexer": "ipython3",
   "version": "3.12.4"
  }
 },
 "nbformat": 4,
 "nbformat_minor": 5
}
