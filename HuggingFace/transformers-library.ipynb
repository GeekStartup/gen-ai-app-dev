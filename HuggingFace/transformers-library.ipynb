{
 "cells": [
  {
   "cell_type": "markdown",
   "id": "7780d108-f341-4a7b-b4cd-94d8ef145dc1",
   "metadata": {},
   "source": [
    "# 1. Setup Transformers Library"
   ]
  },
  {
   "cell_type": "code",
   "execution_count": 2,
   "id": "ff813dbf-1af5-4d65-9578-61d3e0f7e171",
   "metadata": {},
   "outputs": [],
   "source": [
    "!pip install transformers torch -q"
   ]
  },
  {
   "cell_type": "markdown",
   "id": "2418364f-e3b6-4647-bc1a-7f2867972061",
   "metadata": {},
   "source": [
    "# 2. Import *pipeline* from transformers \n",
    "\n",
    "https://huggingface.co/docs/transformers/main_classes/pipelines"
   ]
  },
  {
   "cell_type": "code",
   "execution_count": 3,
   "id": "f7613e7a-c290-40b0-9b8f-05b9f0c6edbd",
   "metadata": {},
   "outputs": [],
   "source": [
    "from transformers import pipeline"
   ]
  },
  {
   "cell_type": "markdown",
   "id": "f7d38dc2-bb05-42da-b7a1-490db0430607",
   "metadata": {},
   "source": [
    "# 3. Create the pipeline\n",
    "\n",
    "Easiest way to use any Hugging Face model for inference. \n",
    "\n",
    "**Note:**\n",
    "\n",
    "* Without model argument, you will get a warning\n",
    "* Never use pipeline without model specified explicitly as default model may change in future !!"
   ]
  },
  {
   "cell_type": "code",
   "execution_count": 6,
   "id": "e0cd5ce2-f5b9-4531-b806-8aa3df267523",
   "metadata": {},
   "outputs": [],
   "source": [
    "model_name = \"distilbert-base-uncased-finetuned-sst-2-english\"\n",
    "\n",
    "pipe = pipeline(\"sentiment-analysis\", model = model_name)"
   ]
  },
  {
   "cell_type": "markdown",
   "id": "5f016e8c-fe5d-4fef-9ed0-dcce4f628f77",
   "metadata": {},
   "source": [
    "# 4. Inferencing\n",
    "\n",
    "The parameters used for the pipeline depends on the task. Check out the parameters for each task based on the pipeline class.\n",
    "\n"
   ]
  },
  {
   "cell_type": "code",
   "execution_count": 7,
   "id": "6ff25d73-ea21-4b48-a55d-8d39659a7560",
   "metadata": {},
   "outputs": [
    {
     "data": {
      "text/plain": [
       "[{'label': 'POSITIVE', 'score': 0.9998434782028198}]"
      ]
     },
     "execution_count": 7,
     "metadata": {},
     "output_type": "execute_result"
    }
   ],
   "source": [
    "text = \"restaurant had good food\"\n",
    "\n",
    "pipe(text)"
   ]
  },
  {
   "cell_type": "code",
   "execution_count": 8,
   "id": "ef671ae4-370a-4269-a8da-67f28ee2b4ee",
   "metadata": {},
   "outputs": [
    {
     "data": {
      "text/plain": [
       "[{'label': 'NEGATIVE', 'score': 0.9996846914291382}]"
      ]
     },
     "execution_count": 8,
     "metadata": {},
     "output_type": "execute_result"
    }
   ],
   "source": [
    "text = \"I hated it\"\n",
    "\n",
    "pipe(text)"
   ]
  },
  {
   "cell_type": "code",
   "execution_count": null,
   "id": "67ec2ccf-ca38-4ef2-aa54-d5e3e961a7c6",
   "metadata": {},
   "outputs": [],
   "source": []
  }
 ],
 "metadata": {
  "kernelspec": {
   "display_name": "Python 3 (ipykernel)",
   "language": "python",
   "name": "python3"
  },
  "language_info": {
   "codemirror_mode": {
    "name": "ipython",
    "version": 3
   },
   "file_extension": ".py",
   "mimetype": "text/x-python",
   "name": "python",
   "nbconvert_exporter": "python",
   "pygments_lexer": "ipython3",
   "version": "3.11.7"
  }
 },
 "nbformat": 4,
 "nbformat_minor": 5
}
