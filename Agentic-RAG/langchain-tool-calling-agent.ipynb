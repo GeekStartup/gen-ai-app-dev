{
 "cells": [
  {
   "cell_type": "markdown",
   "id": "62e8b309-7abe-453d-b17a-31c350b0b082",
   "metadata": {},
   "source": [
    "# Langchain Tool Calling Agent\n",
    "\n",
    "https://python.langchain.com/v0.1/docs/modules/agents/\n",
    "https://python.langchain.com/v0.1/docs/modules/agents/agent_types/tool_calling/\n",
    "\n",
    "**Note**\n",
    "This re-implements the \"Single step agent\" discussed earlier. In this implementation Langchain classes are getting utilized."
   ]
  },
  {
   "cell_type": "code",
   "execution_count": 1,
   "id": "8e5c33b8-156c-478d-bcd4-e59f31b3e7da",
   "metadata": {},
   "outputs": [],
   "source": [
    "from langchain.agents import AgentExecutor, create_tool_calling_agent, tool\n",
    "from langchain_core.prompts import ChatPromptTemplate\n",
    "from langchain_core.tools import Tool"
   ]
  },
  {
   "cell_type": "markdown",
   "id": "4624aae1-7207-4c3b-b56a-9be1862d22eb",
   "metadata": {},
   "source": [
    "## Setup LLM for testing\n"
   ]
  },
  {
   "cell_type": "code",
   "execution_count": 2,
   "id": "89638ae1-d7a3-47e8-9d7b-6d8cd477b95b",
   "metadata": {},
   "outputs": [],
   "source": [
    "from dotenv import load_dotenv\n",
    "import sys\n",
    "import json\n",
    "\n",
    "from langchain.prompts import PromptTemplate\n",
    "\n",
    "# Load the file that contains the API keys - OPENAI_API_KEY\n",
    "load_dotenv('C:\\\\Users\\\\raj\\\\.jupyter\\\\.env')\n",
    "\n",
    "# setting path\n",
    "sys.path.append('../')\n",
    "\n",
    "from utils.create_chat_llm import create_gpt_chat_llm, create_cohere_chat_llm, create_anthropic_chat_llm\n",
    "\n",
    "# Try with GPT\n",
    "llm = create_cohere_chat_llm()"
   ]
  },
  {
   "cell_type": "markdown",
   "id": "2d4b9e07-fa38-4342-b233-eca72fa361a6",
   "metadata": {},
   "source": [
    "## 1. Setup the prompt\n",
    "\n",
    "To use the *Agent* class you need to provide a *prompt*. The prompt MUST have an input variable with the name {agent_scratchpad}"
   ]
  },
  {
   "cell_type": "code",
   "execution_count": 9,
   "id": "dc219290-912f-4d89-ae6b-ce2dab167c07",
   "metadata": {},
   "outputs": [],
   "source": [
    "prompt = ChatPromptTemplate.from_messages(\n",
    "    [\n",
    "        (\"system\", \"You are a helpful assistant\"),\n",
    "        (\"human\", \"{question}\"),\n",
    "        (\"placeholder\", \"{agent_scratchpad}\"),\n",
    "    ]\n",
    ")\n"
   ]
  },
  {
   "cell_type": "markdown",
   "id": "5aff7fc9-e188-4ecb-ac24-0d2f07953243",
   "metadata": {},
   "source": [
    "## 2. Setup tools"
   ]
  },
  {
   "cell_type": "code",
   "execution_count": 10,
   "id": "f0bf1bb7-437e-431d-99b8-7eeddd7f248e",
   "metadata": {},
   "outputs": [],
   "source": [
    "@tool\n",
    "def company_stock_price(stock_symbol: str) -> float:\n",
    "    \"\"\"\n",
    "    Retrieve the current stock price for a given company symbol.\n",
    "\n",
    "    This function returns the stock price for specific company symbols. \n",
    "    Currently, it supports the following symbols:\n",
    "    - 'AAPL' for Apple Inc.\n",
    "    - 'MSFT' for Microsoft Corporation\n",
    "    - 'AMZN' for Amazon.com, Inc.\n",
    "\n",
    "    Args:\n",
    "        stock_symbol (str): The stock symbol of the company.\n",
    "\n",
    "    Returns:\n",
    "        dict: A dictionary containing the stock price for the given company symbol.\n",
    "              The dictionary has the following structure:\n",
    "              {\n",
    "                  \"price\": float | str\n",
    "              }\n",
    "              - \"price\" (float): The current stock price if the symbol is recognized.\n",
    "              - \"price\" (str): \"unknown\" if the symbol is not recognized.\n",
    "\n",
    "    Example:\n",
    "        >>> company_stock_price('AAPL')\n",
    "        {'price': 192.32}\n",
    "\n",
    "        >>> company_stock_price('GOOGL')\n",
    "        {'price': 'unknown'}\n",
    "    \"\"\"\n",
    "    if stock_symbol.upper() == 'AAPL':\n",
    "        return {\"price\": 192.32}\n",
    "    elif stock_symbol.upper() == 'MSFT':\n",
    "        return {\"price\": 415.60}\n",
    "    elif stock_symbol.upper() == 'AMZN':\n",
    "        return {\"price\": 183.60}\n",
    "    else:\n",
    "        return {\"price\": \"unknown\"}\n"
   ]
  },
  {
   "cell_type": "code",
   "execution_count": 11,
   "id": "7b4600de-5f84-450b-af9a-9296380ddc55",
   "metadata": {},
   "outputs": [],
   "source": [
    "@tool\n",
    "def city_weather(city: str) -> dict:\n",
    "    \"\"\"\n",
    "    Retrieve the current weather information for a given city.\n",
    "\n",
    "    This function returns the weather information for specific cities. \n",
    "    Currently, it supports the following cities:\n",
    "    - 'New York' with the forecast and temperature.\n",
    "    - 'Paris' with the forecast and temperature.\n",
    "    - 'London' with the forecast and temperature.\n",
    "\n",
    "    Args:\n",
    "        city (str): The name of the city.\n",
    "\n",
    "    Returns:\n",
    "        dict: A dictionary containing the weather information for the given city.\n",
    "              The dictionary has the following structure:\n",
    "              {\n",
    "                  \"temperature\": int | str,\n",
    "                  \"forecast\": str\n",
    "              }\n",
    "              - \"temperature\" (int): The current temperature in Fahrenheit if the city is recognized.\n",
    "              - \"forecast\" (str): The weather forecast if the city is recognized.\n",
    "              - \"temperature\" (str): \"unknown\" if the city is not recognized.\n",
    "\n",
    "    Example:\n",
    "        >>> city_weather('New York')\n",
    "        {'temperature': 68, 'forecast': 'rain'}\n",
    "\n",
    "        >>> city_weather('Tokyo')\n",
    "        {'temperature': 'unknown'}\n",
    "    \"\"\"\n",
    "    if city.lower() == \"new york\":\n",
    "        return {\"temperature\": 68, \"forecast\": \"rain\"}\n",
    "    elif city.lower() == \"paris\":\n",
    "        return {\"temperature\": 73, \"forecast\": \"sunny\"}\n",
    "    elif city.lower() == \"london\":\n",
    "        return {\"temperature\": 82, \"forecast\": \"cloudy\"}\n",
    "    else:\n",
    "        return {\"temperature\": \"unknown\"}\n"
   ]
  },
  {
   "cell_type": "markdown",
   "id": "5d4dc842-ba90-4e60-8cc3-8324fff04ac3",
   "metadata": {},
   "source": [
    "## 3. Create the agent"
   ]
  },
  {
   "cell_type": "code",
   "execution_count": 12,
   "id": "89f138ae-c396-47ff-bf7a-ec4563a4ce22",
   "metadata": {},
   "outputs": [],
   "source": [
    "tools = [company_stock_price, city_weather]\n",
    "\n",
    "agent = create_tool_calling_agent(llm, tools, prompt)"
   ]
  },
  {
   "cell_type": "markdown",
   "id": "0ecaee26-df9a-48d0-8b46-5ff33f32ce0b",
   "metadata": {},
   "source": [
    "## 4. Create the AgentExecutor"
   ]
  },
  {
   "cell_type": "code",
   "execution_count": 13,
   "id": "113fafd8-9c90-46f7-a4ba-7e2d8d10388a",
   "metadata": {},
   "outputs": [],
   "source": [
    "agent_executor = AgentExecutor(agent=agent, tools=tools, verbose=True)"
   ]
  },
  {
   "cell_type": "markdown",
   "id": "91fde3f2-a830-49d8-a6e4-3dd8521bfda7",
   "metadata": {},
   "source": [
    "## 5. Test"
   ]
  },
  {
   "cell_type": "markdown",
   "id": "2fee895d-7f00-4565-8ea7-95ec9313be4d",
   "metadata": {},
   "source": [
    "### 1. Simple test that uses 1 tool"
   ]
  },
  {
   "cell_type": "code",
   "execution_count": 14,
   "id": "5f0aea14-541a-43b7-be33-d6fdd2d31901",
   "metadata": {},
   "outputs": [
    {
     "name": "stdout",
     "output_type": "stream",
     "text": [
      "\n",
      "\n",
      "\u001b[1m> Entering new AgentExecutor chain...\u001b[0m\n",
      "\u001b[32;1m\u001b[1;3m\n",
      "Invoking: `city_weather` with `{'city': 'Paris'}`\n",
      "responded: I will use the 'city_weather' tool to find out the temperature in Paris and London.\n",
      "\n",
      "\u001b[0m\u001b[33;1m\u001b[1;3m{'temperature': 73, 'forecast': 'sunny'}\u001b[0m\u001b[32;1m\u001b[1;3m\n",
      "Invoking: `city_weather` with `{'city': 'London'}`\n",
      "responded: I will use the 'city_weather' tool to find out the temperature in Paris and London.\n",
      "\n",
      "\u001b[0m\u001b[33;1m\u001b[1;3m{'temperature': 82, 'forecast': 'cloudy'}\u001b[0m\u001b[32;1m\u001b[1;3mLondon is hotter than Paris, with a temperature of 82 compared to Paris's 73.\u001b[0m\n",
      "\n",
      "\u001b[1m> Finished chain.\u001b[0m\n",
      "Final response:: {'question': 'Which of these cities is hotter, Paris or London', 'output': \"London is hotter than Paris, with a temperature of 82 compared to Paris's 73.\"}\n"
     ]
    }
   ],
   "source": [
    "question = \"Which of these cities is hotter, Paris or London\"\n",
    "# question = \"I am visting paris, should i carry an umbrella?\"\n",
    "\n",
    "response = agent_executor.invoke({\"question\": question})\n",
    "\n",
    "print(\"Final response::\",response)"
   ]
  },
  {
   "cell_type": "markdown",
   "id": "c7272374-15e1-49e2-a217-b424c4ab39ed",
   "metadata": {},
   "source": [
    "### 2. Test for a scenario when no appropriate tool is available"
   ]
  },
  {
   "cell_type": "code",
   "execution_count": 15,
   "id": "600378be-2f27-44f5-8195-e43b38902448",
   "metadata": {},
   "outputs": [
    {
     "name": "stdout",
     "output_type": "stream",
     "text": [
      "\n",
      "\n",
      "\u001b[1m> Entering new AgentExecutor chain...\u001b[0m\n",
      "\u001b[32;1m\u001b[1;3m\n",
      "Invoking: `company_stock_price` with `{'stock_symbol': 'AAPL'}`\n",
      "responded: I will use the company_stock_price tool to find out the current stock price for Apple, Microsoft and Amazon. I will then write an answer based on this information.\n",
      "\n",
      "\u001b[0m\u001b[36;1m\u001b[1;3m{'price': 192.32}\u001b[0m\u001b[32;1m\u001b[1;3m\n",
      "Invoking: `company_stock_price` with `{'stock_symbol': 'MSFT'}`\n",
      "responded: I will use the company_stock_price tool to find out the current stock price for Apple, Microsoft and Amazon. I will then write an answer based on this information.\n",
      "\n",
      "\u001b[0m\u001b[36;1m\u001b[1;3m{'price': 415.6}\u001b[0m\u001b[32;1m\u001b[1;3m\n",
      "Invoking: `company_stock_price` with `{'stock_symbol': 'AMZN'}`\n",
      "responded: I will use the company_stock_price tool to find out the current stock price for Apple, Microsoft and Amazon. I will then write an answer based on this information.\n",
      "\n",
      "\u001b[0m\u001b[36;1m\u001b[1;3m{'price': 183.6}\u001b[0m\u001b[32;1m\u001b[1;3mYou could buy one share of Apple Inc. stock, which is currently trading at $192.32. You could also buy one share of Amazon stock, which is currently trading at $183.6. However, you could not buy a full share of Microsoft stock, which is currently trading at $415.6.\u001b[0m\n",
      "\n",
      "\u001b[1m> Finished chain.\u001b[0m\n",
      "Final response: {'question': 'I have only $200, which stock can I invest in?', 'output': 'You could buy one share of Apple Inc. stock, which is currently trading at $192.32. You could also buy one share of Amazon stock, which is currently trading at $183.6. However, you could not buy a full share of Microsoft stock, which is currently trading at $415.6.'}\n"
     ]
    }
   ],
   "source": [
    "question = \"I have only $200, which stock can I invest in?\"\n",
    "\n",
    "response = agent_executor.invoke({\"question\": question})\n",
    "\n",
    "print(\"Final response:\",response)"
   ]
  },
  {
   "cell_type": "markdown",
   "id": "ab192a38-8a29-46af-9153-0e5ce0df7681",
   "metadata": {},
   "source": [
    "### 3. A complex scenario requiring use of more than one tool"
   ]
  },
  {
   "cell_type": "code",
   "execution_count": 16,
   "id": "c93aa082-b423-4ac1-a469-5aaddabea8ce",
   "metadata": {},
   "outputs": [
    {
     "name": "stdout",
     "output_type": "stream",
     "text": [
      "\n",
      "\n",
      "\u001b[1m> Entering new AgentExecutor chain...\u001b[0m\n",
      "\u001b[32;1m\u001b[1;3m\n",
      "Invoking: `city_weather` with `{'city': 'New York'}`\n",
      "responded: I will find out the weather in New York and the stock prices of the three companies. I will then be able to answer the question.\n",
      "\n",
      "\u001b[0m\u001b[33;1m\u001b[1;3m{'temperature': 68, 'forecast': 'rain'}\u001b[0m\u001b[32;1m\u001b[1;3m\n",
      "Invoking: `company_stock_price` with `{'stock_symbol': 'AAPL'}`\n",
      "responded: I will find out the weather in New York and the stock prices of the three companies. I will then be able to answer the question.\n",
      "\n",
      "\u001b[0m\u001b[36;1m\u001b[1;3m{'price': 192.32}\u001b[0m\u001b[32;1m\u001b[1;3m\n",
      "Invoking: `company_stock_price` with `{'stock_symbol': 'MSFT'}`\n",
      "responded: I will find out the weather in New York and the stock prices of the three companies. I will then be able to answer the question.\n",
      "\n",
      "\u001b[0m\u001b[36;1m\u001b[1;3m{'price': 415.6}\u001b[0m\u001b[32;1m\u001b[1;3m\n",
      "Invoking: `company_stock_price` with `{'stock_symbol': 'AMZN'}`\n",
      "responded: I will find out the weather in New York and the stock prices of the three companies. I will then be able to answer the question.\n",
      "\n",
      "\u001b[0m\u001b[36;1m\u001b[1;3m{'price': 183.6}\u001b[0m\u001b[32;1m\u001b[1;3mIt is currently raining in New York, so you should invest in the stock with the highest price. This is MSFT, which is currently trading at $415.60.\u001b[0m\n",
      "\n",
      "\u001b[1m> Finished chain.\u001b[0m\n",
      "Final response: {'question': ' \\nI am interested in investing in one of these stocks [AAPL, MSFT, AMZN].\\nI will make my decision based on the weather forecast in the city I am in and the price of the stock.\\nIf the weather is sunny then I will chose a stock that has the lowest price.\\nIf the weather is raining then I will chose a stock that has the highest price.\\nIf the wwather is cloudy then I will not buy any stock.\\n\\nI am in new york, which stock should I invest in?\\n\\n', 'output': 'It is currently raining in New York, so you should invest in the stock with the highest price. This is MSFT, which is currently trading at $415.60.'}\n"
     ]
    }
   ],
   "source": [
    "question = \"\"\" \n",
    "I am interested in investing in one of these stocks [AAPL, MSFT, AMZN].\n",
    "I will make my decision based on the weather forecast in the city I am in and the price of the stock.\n",
    "If the weather is sunny then I will chose a stock that has the lowest price.\n",
    "If the weather is raining then I will chose a stock that has the highest price.\n",
    "If the wwather is cloudy then I will not buy any stock.\n",
    "\n",
    "I am in new york, which stock should I invest in?\n",
    "\n",
    "\"\"\"\n",
    "\n",
    "response = agent_executor.invoke({\"question\": question})\n",
    "\n",
    "print(\"Final response:\",response)"
   ]
  },
  {
   "cell_type": "code",
   "execution_count": null,
   "id": "25546a93-a8fc-40c6-915e-a9f2e305338c",
   "metadata": {},
   "outputs": [],
   "source": []
  }
 ],
 "metadata": {
  "kernelspec": {
   "display_name": "Python 3 (ipykernel)",
   "language": "python",
   "name": "python3"
  },
  "language_info": {
   "codemirror_mode": {
    "name": "ipython",
    "version": 3
   },
   "file_extension": ".py",
   "mimetype": "text/x-python",
   "name": "python",
   "nbconvert_exporter": "python",
   "pygments_lexer": "ipython3",
   "version": "3.11.8"
  }
 },
 "nbformat": 4,
 "nbformat_minor": 5
}
