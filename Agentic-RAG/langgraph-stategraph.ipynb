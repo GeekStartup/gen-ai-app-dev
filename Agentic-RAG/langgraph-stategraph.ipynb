{
 "cells": [
  {
   "cell_type": "markdown",
   "id": "f051c360-46bd-489d-ba94-e934f2cb8cd8",
   "metadata": {},
   "source": [
    "# StateGraph \n",
    "\n",
    "https://github.com/langchain-ai/langgraph/blob/main/examples/visualization.ipynb\n",
    "\n",
    "**Visualization**\n",
    "https://langchain-ai.github.io/langgraph/how-tos/visualization/"
   ]
  },
  {
   "cell_type": "code",
   "execution_count": 1,
   "id": "92d2c561-1c7a-4916-90c2-1129061c56bf",
   "metadata": {},
   "outputs": [],
   "source": [
    "from langgraph.graph import StateGraph, MessageGraph, END\n",
    "\n",
    "from langgraph.graph.message import add_messages\n",
    "from langchain_core.messages import HumanMessage, AIMessage, SystemMessage, ChatMessage\n",
    "\n",
    "from typing import Annotated\n",
    "from typing import TypedDict\n",
    "\n",
    "from IPython.display import Image, display\n",
    "\n",
    "from langchain.globals import set_debug\n",
    "\n"
   ]
  },
  {
   "cell_type": "markdown",
   "id": "2fa1eab4-094a-438a-9547-8df3d621b894",
   "metadata": {},
   "source": [
    "## 1. Study add_messages behavior\n",
    "\n",
    "https://github.com/langchain-ai/langgraph/blob/main/libs/langgraph/langgraph/graph/message.py\n",
    "\n",
    "A new list of messages with the messages from `right` merged into `left`.  If a message in `right` has the same ID as a message in `left`, th   message from `right` will replace the message from `left`."
   ]
  },
  {
   "cell_type": "code",
   "execution_count": 2,
   "id": "7d199a3a-08fb-4023-9d60-0b3726d69696",
   "metadata": {},
   "outputs": [
    {
     "data": {
      "text/plain": [
       "[HumanMessage(content='Hello', id='1'), AIMessage(content='Hi there!', id='2')]"
      ]
     },
     "execution_count": 2,
     "metadata": {},
     "output_type": "execute_result"
    }
   ],
   "source": [
    "# Create a lists of messages\n",
    "msgs1 = [HumanMessage(content=\"Hello\", id=\"1\")]\n",
    "msgs2 = [AIMessage(content=\"Hi there!\", id=\"2\")]\n",
    "\n",
    "list_1 = add_messages(msgs1, msgs2)\n",
    "\n",
    "list_1"
   ]
  },
  {
   "cell_type": "code",
   "execution_count": 3,
   "id": "95019944-5ec4-410e-b113-3d280fae2528",
   "metadata": {},
   "outputs": [
    {
     "data": {
      "text/plain": [
       "[HumanMessage(content='Hello', id='1'),\n",
       " AIMessage(content='This will override the earlier message!', id='2')]"
      ]
     },
     "execution_count": 3,
     "metadata": {},
     "output_type": "execute_result"
    }
   ],
   "source": [
    "msg3 = [AIMessage(content=\"This will override the earlier message!\", id=\"2\")]\n",
    "\n",
    "list_2 = add_messages(list_1, msg3)\n",
    "\n",
    "list_2"
   ]
  },
  {
   "cell_type": "markdown",
   "id": "72efb9d7-34dd-43c6-abec-d024b5e8135f",
   "metadata": {},
   "source": [
    "## 2. StateGraph"
   ]
  },
  {
   "cell_type": "code",
   "execution_count": 4,
   "id": "724dc3c0-a394-4e4e-8a90-b5ff4541496c",
   "metadata": {},
   "outputs": [],
   "source": [
    "# The messages key is annotated with the add_messages function, which tells LangGraph to append new messages to the existing list, \n",
    "# rather than overwriting it.\n",
    "class AppState(TypedDict):\n",
    "    messages : Annotated[list, add_messages]\n",
    "\n",
    "# Dummy functions to represent the processing at a node in the graph\n",
    "def  dummy_function(state: AppState):\n",
    "\n",
    "    print(state)\n",
    "    messages = state['messages']\n",
    "    return {\"messages\": [AIMessage(content=\"hello there\")]}"
   ]
  },
  {
   "cell_type": "code",
   "execution_count": 5,
   "id": "1bf9284e-4816-4363-a597-402c0bf868ed",
   "metadata": {},
   "outputs": [],
   "source": [
    "state_graph_builder = StateGraph(AppState)\n",
    "\n",
    "# Add a node with the name 'A'\n",
    "state_graph_builder.add_node(\"A\", dummy_function)\n",
    "\n",
    "# Add a node with the name 'B'\n",
    "state_graph_builder.add_node(\"B\", dummy_function)\n",
    "\n",
    "# Add an edge from \"A\" to \"B\"\n",
    "state_graph_builder.add_edge(\"A\", \"B\")\n",
    "\n",
    "# Setup entry node\n",
    "state_graph_builder.set_entry_point(\"A\")\n",
    "\n",
    "# Setup finish noder\n",
    "state_graph_builder.set_finish_point(\"B\")"
   ]
  },
  {
   "cell_type": "code",
   "execution_count": 6,
   "id": "731614d4-cf67-4f40-96d7-effb57d196ba",
   "metadata": {},
   "outputs": [
    {
     "data": {
      "image/jpeg": "[encoded data removed]",
      "text/plain": [
       "<IPython.core.display.Image object>"
      ]
     },
     "metadata": {},
     "output_type": "display_data"
    }
   ],
   "source": [
    "state_graph = state_graph_builder.compile()\n",
    "\n",
    "# This is to visualize the state machine\n",
    "try:\n",
    "    display(Image(state_graph.get_graph().draw_mermaid_png()))\n",
    "except Exception:\n",
    "    pass"
   ]
  },
  {
   "cell_type": "code",
   "execution_count": 7,
   "id": "60234205-5699-4bb7-9d99-14fe37a46850",
   "metadata": {},
   "outputs": [
    {
     "name": "stdout",
     "output_type": "stream",
     "text": [
      "\u001b[32;1m\u001b[1;3m[chain/start]\u001b[0m \u001b[1m[chain:LangGraph] Entering Chain run with input:\n",
      "\u001b[0m[inputs]\n",
      "\u001b[32;1m\u001b[1;3m[chain/start]\u001b[0m \u001b[1m[chain:LangGraph > chain:__start__] Entering Chain run with input:\n",
      "\u001b[0m[inputs]\n",
      "\u001b[36;1m\u001b[1;3m[chain/end]\u001b[0m \u001b[1m[chain:LangGraph > chain:__start__] [0ms] Exiting Chain run with output:\n",
      "\u001b[0m[outputs]\n",
      "\u001b[32;1m\u001b[1;3m[chain/start]\u001b[0m \u001b[1m[chain:LangGraph > chain:A] Entering Chain run with input:\n",
      "\u001b[0m[inputs]\n",
      "{'messages': [SystemMessage(content='you are a polite customer service assistant', id='c1e974a7-1482-4c89-b978-2c805d8d102e'), HumanMessage(content='hi there', id='57f97d07-a802-4064-b55a-fd71dacbf552')]}\n",
      "\u001b[32;1m\u001b[1;3m[chain/start]\u001b[0m \u001b[1m[chain:LangGraph > chain:A > chain:ChannelWrite<A,messages>] Entering Chain run with input:\n",
      "\u001b[0m[inputs]\n",
      "\u001b[36;1m\u001b[1;3m[chain/end]\u001b[0m \u001b[1m[chain:LangGraph > chain:A > chain:ChannelWrite<A,messages>] [0ms] Exiting Chain run with output:\n",
      "\u001b[0m[outputs]\n",
      "\u001b[36;1m\u001b[1;3m[chain/end]\u001b[0m \u001b[1m[chain:LangGraph > chain:A] [6ms] Exiting Chain run with output:\n",
      "\u001b[0m[outputs]\n",
      "\u001b[32;1m\u001b[1;3m[chain/start]\u001b[0m \u001b[1m[chain:LangGraph > chain:B] Entering Chain run with input:\n",
      "\u001b[0m[inputs]\n",
      "{'messages': [SystemMessage(content='you are a polite customer service assistant', id='c1e974a7-1482-4c89-b978-2c805d8d102e'), HumanMessage(content='hi there', id='57f97d07-a802-4064-b55a-fd71dacbf552'), AIMessage(content='hello there', id='eb270b38-f9db-40fe-9b7c-1fe6d2f06e7b')]}\n",
      "\u001b[32;1m\u001b[1;3m[chain/start]\u001b[0m \u001b[1m[chain:LangGraph > chain:B > chain:ChannelWrite<B,messages>] Entering Chain run with input:\n",
      "\u001b[0m[inputs]\n",
      "\u001b[36;1m\u001b[1;3m[chain/end]\u001b[0m \u001b[1m[chain:LangGraph > chain:B > chain:ChannelWrite<B,messages>] [0ms] Exiting Chain run with output:\n",
      "\u001b[0m[outputs]\n",
      "\u001b[36;1m\u001b[1;3m[chain/end]\u001b[0m \u001b[1m[chain:LangGraph > chain:B] [0ms] Exiting Chain run with output:\n",
      "\u001b[0m[outputs]\n",
      "\u001b[36;1m\u001b[1;3m[chain/end]\u001b[0m \u001b[1m[chain:LangGraph] [20ms] Exiting Chain run with output:\n",
      "\u001b[0m[outputs]\n",
      "{'messages': [SystemMessage(content='you are a polite customer service assistant', id='c1e974a7-1482-4c89-b978-2c805d8d102e'), HumanMessage(content='hi there', id='57f97d07-a802-4064-b55a-fd71dacbf552'), AIMessage(content='hello there', id='eb270b38-f9db-40fe-9b7c-1fe6d2f06e7b'), AIMessage(content='hello there', id='1ef1acd9-4d72-4b34-ae33-4a830dd06ecf')]}\n"
     ]
    }
   ],
   "source": [
    "messages = [\n",
    "    SystemMessage(content='you are a polite customer service assistant'),\n",
    "    HumanMessage(content='hi there')\n",
    "]\n",
    "\n",
    "set_debug(True)\n",
    "response = state_graph.invoke({\"messages\": messages})\n",
    "set_debug(False)\n",
    "\n",
    "# You will see last message twice as both the nodes A & B return the same AIMessage :)\n",
    "print(response)"
   ]
  },
  {
   "cell_type": "markdown",
   "id": "3a704218-da16-4ae2-b3b6-4d406b48fb59",
   "metadata": {},
   "source": [
    "## 3. StateGraph with Condition edges"
   ]
  },
  {
   "cell_type": "code",
   "execution_count": 15,
   "id": "be99416e-ebe2-4904-982b-b0d28f2423b5",
   "metadata": {},
   "outputs": [],
   "source": [
    "import random\n",
    "from typing import Literal\n",
    "\n",
    "def dummy_condition_checker_at_B(state: AppState)->Literal[\"A\", \"C\", \"D\", END]:\n",
    "    messages = state['messages']\n",
    "    list_options = [\"A\", \"C\", \"D\", END]\n",
    "    \n",
    "    return random.choice(list_options)"
   ]
  },
  {
   "cell_type": "code",
   "execution_count": 19,
   "id": "488594c9-47fc-48e3-a97e-a7eee96e907e",
   "metadata": {},
   "outputs": [],
   "source": [
    "state_graph_builder_with_condition = StateGraph(AppState)\n",
    "\n",
    "# Add a node with the name 'A', 'B', 'C', 'D', 'E'\n",
    "state_graph_builder_with_condition.add_node(\"A\", dummy_function)\n",
    "state_graph_builder_with_condition.add_node(\"B\", dummy_function)\n",
    "state_graph_builder_with_condition.add_node(\"C\", dummy_function)\n",
    "state_graph_builder_with_condition.add_node(\"D\", dummy_function)\n",
    "state_graph_builder_with_condition.add_node(\"E\", dummy_function)\n",
    "\n",
    "# Setup entry node\n",
    "state_graph_builder_with_condition.set_entry_point(\"A\")\n",
    "\n",
    "# Create a normal edge from 'A' to 'B'\n",
    "state_graph_builder_with_condition.add_edge(\"A\", \"B\")\n",
    "\n",
    "# Create a conditional edge from 'B'\n",
    "\n",
    "# When the map was used with function we got an error\n",
    "# node_map = {\n",
    "#     \"go_to_c\": \"C\",\n",
    "#     \"go_to_D\": \"D\",\n",
    "#     \"go_to_A\": \"A\",\n",
    "#     \"end\": END\n",
    "# }\n",
    "# state_graph_builder_with_condition.add_conditional_edges(\"B\", dummy_condition_checker_at_B,node_map)\n",
    "\n",
    "state_graph_builder_with_condition.add_conditional_edges(\"B\", dummy_condition_checker_at_B)\n",
    "\n",
    "# Create a finish point nore from 'C'\n",
    "state_graph_builder_with_condition.add_edge(\"C\", END)\n",
    "\n",
    "# Create a normal edge from 'D' to 'E'\n",
    "state_graph_builder_with_condition.add_edge(\"D\", \"E\")\n",
    "\n",
    "# Create a finish point nore from 'E'\n",
    "state_graph_builder_with_condition.add_edge(\"E\", END)\n",
    "\n"
   ]
  },
  {
   "cell_type": "code",
   "execution_count": 20,
   "id": "154fc64a-66d5-4d8b-a65a-ead704f46a82",
   "metadata": {},
   "outputs": [
    {
     "data": {
      "image/jpeg": "[encoded data removed]",
      "text/plain": [
       "<IPython.core.display.Image object>"
      ]
     },
     "metadata": {},
     "output_type": "display_data"
    }
   ],
   "source": [
    "state_graph_with_condition = state_graph_builder_with_condition.compile()\n",
    "\n",
    "# This is to visualize the state machine\n",
    "try:\n",
    "    display(Image(state_graph_with_condition.get_graph().draw_mermaid_png()))\n",
    "except Exception:\n",
    "    pass"
   ]
  },
  {
   "cell_type": "code",
   "execution_count": 21,
   "id": "11137e63-2b5d-4706-bf85-37bc794dfcd3",
   "metadata": {},
   "outputs": [
    {
     "name": "stdout",
     "output_type": "stream",
     "text": [
      "\u001b[32;1m\u001b[1;3m[chain/start]\u001b[0m \u001b[1m[chain:LangGraph] Entering Chain run with input:\n",
      "\u001b[0m[inputs]\n",
      "\u001b[32;1m\u001b[1;3m[chain/start]\u001b[0m \u001b[1m[chain:LangGraph > chain:__start__] Entering Chain run with input:\n",
      "\u001b[0m[inputs]\n",
      "\u001b[36;1m\u001b[1;3m[chain/end]\u001b[0m \u001b[1m[chain:LangGraph > chain:__start__] [0ms] Exiting Chain run with output:\n",
      "\u001b[0m[outputs]\n",
      "\u001b[32;1m\u001b[1;3m[chain/start]\u001b[0m \u001b[1m[chain:LangGraph > chain:A] Entering Chain run with input:\n",
      "\u001b[0m[inputs]\n",
      "{'messages': [SystemMessage(content='you are a polite customer service assistant', id='a8257f69-7bd0-4e86-8577-7e8cb5d55b2f'), HumanMessage(content='hi there', id='af1afa0e-cca1-4908-a0d1-ee9c9c9ee4a5')]}\n",
      "\u001b[32;1m\u001b[1;3m[chain/start]\u001b[0m \u001b[1m[chain:LangGraph > chain:A > chain:ChannelWrite<A,messages>] Entering Chain run with input:\n",
      "\u001b[0m[inputs]\n",
      "\u001b[36;1m\u001b[1;3m[chain/end]\u001b[0m \u001b[1m[chain:LangGraph > chain:A > chain:ChannelWrite<A,messages>] [1ms] Exiting Chain run with output:\n",
      "\u001b[0m[outputs]\n",
      "\u001b[36;1m\u001b[1;3m[chain/end]\u001b[0m \u001b[1m[chain:LangGraph > chain:A] [1ms] Exiting Chain run with output:\n",
      "\u001b[0m[outputs]\n",
      "\u001b[32;1m\u001b[1;3m[chain/start]\u001b[0m \u001b[1m[chain:LangGraph > chain:B] Entering Chain run with input:\n",
      "\u001b[0m[inputs]\n",
      "{'messages': [SystemMessage(content='you are a polite customer service assistant', id='a8257f69-7bd0-4e86-8577-7e8cb5d55b2f'), HumanMessage(content='hi there', id='af1afa0e-cca1-4908-a0d1-ee9c9c9ee4a5'), AIMessage(content='hello there', id='3f2f9065-e99b-4080-9eac-573e74449ef8')]}\n",
      "\u001b[32;1m\u001b[1;3m[chain/start]\u001b[0m \u001b[1m[chain:LangGraph > chain:B > chain:ChannelWrite<B,messages>] Entering Chain run with input:\n",
      "\u001b[0m[inputs]\n",
      "\u001b[36;1m\u001b[1;3m[chain/end]\u001b[0m \u001b[1m[chain:LangGraph > chain:B > chain:ChannelWrite<B,messages>] [0ms] Exiting Chain run with output:\n",
      "\u001b[0m[outputs]\n",
      "\u001b[32;1m\u001b[1;3m[chain/start]\u001b[0m \u001b[1m[chain:LangGraph > chain:B > chain:dummy_condition_checker_at_B] Entering Chain run with input:\n",
      "\u001b[0m[inputs]\n",
      "\u001b[36;1m\u001b[1;3m[chain/end]\u001b[0m \u001b[1m[chain:LangGraph > chain:B > chain:dummy_condition_checker_at_B] [0ms] Exiting Chain run with output:\n",
      "\u001b[0m{\n",
      "  \"output\": \"A\"\n",
      "}\n",
      "\u001b[32;1m\u001b[1;3m[chain/start]\u001b[0m \u001b[1m[chain:LangGraph > chain:B > chain:ChannelWrite<branch:B:dummy_condition_checker_at_B:A>] Entering Chain run with input:\n",
      "\u001b[0m[inputs]\n",
      "\u001b[36;1m\u001b[1;3m[chain/end]\u001b[0m \u001b[1m[chain:LangGraph > chain:B > chain:ChannelWrite<branch:B:dummy_condition_checker_at_B:A>] [0ms] Exiting Chain run with output:\n",
      "\u001b[0m[outputs]\n",
      "\u001b[36;1m\u001b[1;3m[chain/end]\u001b[0m \u001b[1m[chain:LangGraph > chain:B] [1ms] Exiting Chain run with output:\n",
      "\u001b[0m[outputs]\n",
      "\u001b[32;1m\u001b[1;3m[chain/start]\u001b[0m \u001b[1m[chain:LangGraph > chain:A] Entering Chain run with input:\n",
      "\u001b[0m[inputs]\n",
      "{'messages': [SystemMessage(content='you are a polite customer service assistant', id='a8257f69-7bd0-4e86-8577-7e8cb5d55b2f'), HumanMessage(content='hi there', id='af1afa0e-cca1-4908-a0d1-ee9c9c9ee4a5'), AIMessage(content='hello there', id='3f2f9065-e99b-4080-9eac-573e74449ef8'), AIMessage(content='hello there', id='1e86686a-033d-480e-8875-7ea28f365785')]}\n",
      "\u001b[32;1m\u001b[1;3m[chain/start]\u001b[0m \u001b[1m[chain:LangGraph > chain:A > chain:ChannelWrite<A,messages>] Entering Chain run with input:\n",
      "\u001b[0m[inputs]\n",
      "\u001b[36;1m\u001b[1;3m[chain/end]\u001b[0m \u001b[1m[chain:LangGraph > chain:A > chain:ChannelWrite<A,messages>] [1ms] Exiting Chain run with output:\n",
      "\u001b[0m[outputs]\n",
      "\u001b[36;1m\u001b[1;3m[chain/end]\u001b[0m \u001b[1m[chain:LangGraph > chain:A] [8ms] Exiting Chain run with output:\n",
      "\u001b[0m[outputs]\n",
      "\u001b[32;1m\u001b[1;3m[chain/start]\u001b[0m \u001b[1m[chain:LangGraph > chain:B] Entering Chain run with input:\n",
      "\u001b[0m[inputs]\n",
      "{'messages': [SystemMessage(content='you are a polite customer service assistant', id='a8257f69-7bd0-4e86-8577-7e8cb5d55b2f'), HumanMessage(content='hi there', id='af1afa0e-cca1-4908-a0d1-ee9c9c9ee4a5'), AIMessage(content='hello there', id='3f2f9065-e99b-4080-9eac-573e74449ef8'), AIMessage(content='hello there', id='1e86686a-033d-480e-8875-7ea28f365785'), AIMessage(content='hello there', id='683c427f-a6bf-4c1a-adca-90314f8828be')]}\n",
      "\u001b[32;1m\u001b[1;3m[chain/start]\u001b[0m \u001b[1m[chain:LangGraph > chain:B > chain:ChannelWrite<B,messages>] Entering Chain run with input:\n",
      "\u001b[0m[inputs]\n",
      "\u001b[36;1m\u001b[1;3m[chain/end]\u001b[0m \u001b[1m[chain:LangGraph > chain:B > chain:ChannelWrite<B,messages>] [0ms] Exiting Chain run with output:\n",
      "\u001b[0m[outputs]\n",
      "\u001b[32;1m\u001b[1;3m[chain/start]\u001b[0m \u001b[1m[chain:LangGraph > chain:B > chain:dummy_condition_checker_at_B] Entering Chain run with input:\n",
      "\u001b[0m[inputs]\n",
      "\u001b[36;1m\u001b[1;3m[chain/end]\u001b[0m \u001b[1m[chain:LangGraph > chain:B > chain:dummy_condition_checker_at_B] [0ms] Exiting Chain run with output:\n",
      "\u001b[0m{\n",
      "  \"output\": \"__end__\"\n",
      "}\n",
      "\u001b[36;1m\u001b[1;3m[chain/end]\u001b[0m \u001b[1m[chain:LangGraph > chain:B] [0ms] Exiting Chain run with output:\n",
      "\u001b[0m[outputs]\n",
      "\u001b[36;1m\u001b[1;3m[chain/end]\u001b[0m \u001b[1m[chain:LangGraph] [15ms] Exiting Chain run with output:\n",
      "\u001b[0m[outputs]\n",
      "{'messages': [SystemMessage(content='you are a polite customer service assistant', id='a8257f69-7bd0-4e86-8577-7e8cb5d55b2f'), HumanMessage(content='hi there', id='af1afa0e-cca1-4908-a0d1-ee9c9c9ee4a5'), AIMessage(content='hello there', id='3f2f9065-e99b-4080-9eac-573e74449ef8'), AIMessage(content='hello there', id='1e86686a-033d-480e-8875-7ea28f365785'), AIMessage(content='hello there', id='683c427f-a6bf-4c1a-adca-90314f8828be'), AIMessage(content='hello there', id='f0674cae-559e-4980-a8e3-e758ceb9beb1')]}\n"
     ]
    }
   ],
   "source": [
    "messages = [\n",
    "    SystemMessage(content='you are a polite customer service assistant'),\n",
    "    HumanMessage(content='hi there')\n",
    "]\n",
    "\n",
    "set_debug(True)\n",
    "response = state_graph_with_condition.invoke({\"messages\": messages})\n",
    "set_debug(False)\n",
    "\n",
    "print(response)"
   ]
  },
  {
   "cell_type": "code",
   "execution_count": null,
   "id": "43bbb5c4-0bea-44fa-87c8-6109e79fdee7",
   "metadata": {},
   "outputs": [],
   "source": []
  }
 ],
 "metadata": {
  "kernelspec": {
   "display_name": "Python 3 (ipykernel)",
   "language": "python",
   "name": "python3"
  },
  "language_info": {
   "codemirror_mode": {
    "name": "ipython",
    "version": 3
   },
   "file_extension": ".py",
   "mimetype": "text/x-python",
   "name": "python",
   "nbconvert_exporter": "python",
   "pygments_lexer": "ipython3",
   "version": "3.11.8"
  }
 },
 "nbformat": 4,
 "nbformat_minor": 5
}
