{
 "cells": [
  {
   "cell_type": "markdown",
   "id": "692eaef5-5c6f-469a-bde3-e9d800e206ac",
   "metadata": {},
   "source": [
    "# Scratch ReAct agent"
   ]
  },
  {
   "cell_type": "code",
   "execution_count": 1,
   "id": "2b3c55b1-3725-4a7f-a83c-bab231785c3f",
   "metadata": {},
   "outputs": [],
   "source": [
    "from dotenv import load_dotenv\n",
    "import sys\n",
    "import json\n",
    "\n",
    "from langchain.prompts import PromptTemplate\n",
    "\n",
    "# Load the file that contains the API keys - OPENAI_API_KEY\n",
    "load_dotenv('C:\\\\Users\\\\raj\\\\.jupyter\\\\.env')\n",
    "\n",
    "# setting path\n",
    "sys.path.append('../')\n",
    "\n",
    "from utils.create_chat_llm import create_gpt_chat_llm, create_cohere_chat_llm, create_anthropic_chat_llm, create_hugging_face_chat_llm\n",
    "from utils.create_llm import create_cohere_llm, create_gpt_llm\n",
    "\n",
    "# Try with GPT\n",
    "llm = create_gpt_chat_llm({\"temperature\":0.0}) #, \"model_kwargs\":{\"top_p\":0.1}})"
   ]
  },
  {
   "cell_type": "code",
   "execution_count": 2,
   "id": "810822ab-0857-4b28-86f7-b966970994b5",
   "metadata": {},
   "outputs": [],
   "source": [
    "from langchain.tools import WikipediaQueryRun\n",
    "from langchain_community.utilities import WikipediaAPIWrapper\n",
    "\n",
    "wikipedia_tool = WikipediaQueryRun(api_wrapper=WikipediaAPIWrapper())\n",
    "\n",
    "from langchain.agents import load_tools\n",
    "\n",
    "serp_tool = load_tools([\"serpapi\"])[0]\n",
    "\n",
    "from langchain_community.tools.tavily_search import TavilySearchResults\n",
    "\n",
    "tavily_tool = TavilySearchResults()\n",
    "\n",
    "# Create tools representation for the prompt\n",
    "\n",
    "# {\n",
    "#     \"name\" : 'serpapi',\n",
    "#     \"description\": \"use for searching the internet for answers\",\n",
    "#     \"arguments\": [\n",
    "#         {\"input\" : \"input\"}\n",
    "#     ],\n",
    "#     \"response\": \"search results\"\n",
    "# },\n",
    "\n",
    "tools = [{\n",
    "    \"name\" : 'wikipedia',\n",
    "    \"description\": wikipedia_tool.description,\n",
    "    \"arguments\": [\n",
    "        {\"input\" : \"input\"}\n",
    "    ],\n",
    "    \"response\": \"search results\"\n",
    "}, {\n",
    "    \"name\" : 'tavily',\n",
    "    \"description\": tavily_tool.description,\n",
    "    \"arguments\": [\n",
    "        {\"input\" : \"input\"}\n",
    "    ],\n",
    "    \"response\": \"search results\"\n",
    "}\n",
    "]\n",
    "\n",
    "tools = json.dumps(tools, indent=4)\n",
    "\n",
    "tools_map = {\n",
    "    'wikipedia': wikipedia_tool.invoke,\n",
    "    'serpapi' : serp_tool.invoke,\n",
    "    'tavily' : tavily_tool.invoke\n",
    "}\n",
    "\n"
   ]
  },
  {
   "cell_type": "code",
   "execution_count": 3,
   "id": "31a2723e-0af3-46eb-a3ad-fc663b6d7ff7",
   "metadata": {},
   "outputs": [
    {
     "name": "stdout",
     "output_type": "stream",
     "text": [
      "[\n",
      "    {\n",
      "        \"name\": \"wikipedia\",\n",
      "        \"description\": \"A wrapper around Wikipedia. Useful for when you need to answer general questions about people, places, companies, facts, historical events, or other subjects. Input should be a search query.\",\n",
      "        \"arguments\": [\n",
      "            {\n",
      "                \"input\": \"input\"\n",
      "            }\n",
      "        ],\n",
      "        \"response\": \"search results\"\n",
      "    },\n",
      "    {\n",
      "        \"name\": \"tavily\",\n",
      "        \"description\": \"A search engine optimized for comprehensive, accurate, and trusted results. Useful for when you need to answer questions about current events. Input should be a search query.\",\n",
      "        \"arguments\": [\n",
      "            {\n",
      "                \"input\": \"input\"\n",
      "            }\n",
      "        ],\n",
      "        \"response\": \"search results\"\n",
      "    }\n",
      "]\n"
     ]
    }
   ],
   "source": [
    "print(tools)"
   ]
  },
  {
   "cell_type": "code",
   "execution_count": null,
   "id": "41d49844-bf06-45e9-901b-8f8219d02ae0",
   "metadata": {},
   "outputs": [],
   "source": []
  },
  {
   "cell_type": "markdown",
   "id": "8e1d06d3-53c7-4624-82c3-8e7acce4732c",
   "metadata": {},
   "source": [
    "## 1. ReAct prompt"
   ]
  },
  {
   "cell_type": "code",
   "execution_count": 4,
   "id": "3fc21645-6f13-4372-a8a0-96935ce75351",
   "metadata": {},
   "outputs": [],
   "source": [
    "prompt_template = \"\"\"\n",
    "You are a helpful assistant capable of answering questions on various topics. \n",
    "Do not use your internal knowledYou MUST validate the answer using tools to access external tools.\n",
    "\n",
    "Instructions:\n",
    "\n",
    "Take an iterative approach. In each iteration:\n",
    "1. Thought : Think step by step. Use alternatives as needed.\n",
    "2. Action : Execute appropriate tools. Try alternative tool if an appropriate response is not received.\n",
    "3. Observations : Make observations based on the responses from the tools and decide the next step\n",
    "\n",
    "Repeat this Thought/Action/Observation process N times till either you get the answer or are unable to get the answer using the available tools.\n",
    "\n",
    "Use only the following available tools to find information.\n",
    "\n",
    "Tools Available:\n",
    "\n",
    "\n",
    "{tools}\n",
    "Guidelines for Responses:\n",
    "\n",
    "Format 1: If the question cannot be answered with the available tools, use this format:\n",
    "{{\n",
    "    \"answer\": \"No appropriate tool available\",\n",
    "    \"scratchpad\": {{\n",
    "        \"thought\": \"your inner thoughts\",\n",
    "        \"action\": \"tool name\",\n",
    "        \"observations\": \"your observations from the tool responses\"\n",
    "    }}\n",
    "}}\n",
    "\n",
    "Format 2: If you need to run tools to obtain the information, use this format:\n",
    "{{\n",
    "    \"actions\": [\n",
    "        {{\n",
    "            \"action\": tool name,\n",
    "            \"arguments\": dictionary of argument values\n",
    "        }},\n",
    "        \"scratchpad\": {{\n",
    "            \"thought\": \"your inner thoughts\",\n",
    "            \"action\": \"tool name\",\n",
    "            \"observations\": \"your observations from the tool responses\"\n",
    "        }}\n",
    "    ]\n",
    "}}\n",
    "\n",
    "Format 3: If you can answer the question using the responses from the tools, use this format:\n",
    "{{\n",
    "    \"answer\": \"your response to the question\",\n",
    "    \"scratchpad\": {{\n",
    "        \"thought\": \"your inner thoughts\",\n",
    "        \"action\": \"tool name\",\n",
    "        \"observations\": \"your observations from the tool responses\"\n",
    "    }}\n",
    "}}\n",
    "\n",
    "Avoid any preamble; respond directly using one of the specified JSON formats.\n",
    "Question:\n",
    "\n",
    "{question}\n",
    "Tool Responses:\n",
    "\n",
    "{tool_responses}\n",
    "Your Response:\n",
    "\"\"\"\n",
    "\n",
    "prompt_template_1 = \"\"\"\n",
    "You are a helpful assistant capable of answering questions on various topics. You must validate your answers using external tools.\n",
    "\n",
    "Instructions:\n",
    "\n",
    "Take the following iterative approach:\n",
    "\n",
    "Thought: Think step-by-step and consider alternatives as needed.\n",
    "Action: Execute or more tools. Try alternative tools if the tool you selected did not provide a response that you could use or if the tool response is insufficent for response. If needed adjust the argument values for tools.\n",
    "Observations: Make observations based on the tool responses and decide the next step.\n",
    "......(Repeat this Thought/Action/Observation cycle until you either have the answer or reach a conclusion that it is not possible using the available tools)\n",
    "\n",
    "Tools:\n",
    "\n",
    "{tools}\n",
    "\n",
    "Guidelines for Responses:\n",
    "\n",
    "Format 1: If the question cannot be even after using the available tools, use this format:\n",
    "\n",
    "{{\n",
    "    \"answer\": \"No appropriate tool available\",\n",
    "    \"scratchpad\": {{\n",
    "        \"thought\": \"your inner thoughts\",\n",
    "        \"action\": \"tool name\",\n",
    "        \"observations\": \"your observations based on the tool responses\"\n",
    "    }}\n",
    "}}\n",
    "Format 2: If you need to run tools to obtain the information, use this format:\n",
    "\n",
    "{{\n",
    "    \"actions\": [\n",
    "        {{\n",
    "            \"action\": \"tool name\",\n",
    "            \"arguments\": {{\"key\": \"value\"}}\n",
    "        }}\n",
    "    ],\n",
    "    \"scratchpad\": {{\n",
    "        \"thought\": \"your inner thoughts\",\n",
    "        \"action\": \"tool name\",\n",
    "        \"observations\": \"your observations from the tool responses\"\n",
    "    }}\n",
    "}}\n",
    "\n",
    "Format 3: when you finally have the answer, use this format:\n",
    "\n",
    "{{\n",
    "    \"answer\": \"your response to the question\",\n",
    "    \"scratchpad\": {{\n",
    "        \"thought\": \"your inner thoughts\",\n",
    "        \"action\": \"tool name\",\n",
    "        \"observations\": \"your observations from the tool responses\"\n",
    "    }}\n",
    "}}\n",
    "\n",
    "Avoid any preamble; respond directly using one of the specified JSON formats.\n",
    "\n",
    "Question:\n",
    "{question}\n",
    "\n",
    "Tool responses:\n",
    "{tool_responses}\n",
    "\n",
    "Your Response:\n",
    "\"\"\"\n",
    "\n",
    "prompt = PromptTemplate(\n",
    "    template = prompt_template,\n",
    "    input_variables = [\"tools\", \"question\"]\n",
    ")"
   ]
  },
  {
   "cell_type": "code",
   "execution_count": 5,
   "id": "3a0175e6-9449-4364-aba9-61e8159e04f0",
   "metadata": {},
   "outputs": [],
   "source": [
    "# Utility function for answering the question\n",
    "def  invoke_agent(input):\n",
    "    \n",
    "    # Setup the prompt. Since no tool has been invoked set action_response as blank\n",
    "    # query = prompt.format(tools=tool_description, question=question, tool_responses=\"\")\n",
    "\n",
    "    # STEP-1 Invoke LLM for a plan i.e., tools to execute\n",
    "    # ===================================================\n",
    "    # Invoke LLM to get the tools to be run\n",
    "    # The response consist of tools that LLM requires to be executed\n",
    "    response = llm.invoke(input)\n",
    "\n",
    "    print(\"LLM Response: \", response.content)\n",
    "    \n",
    "    # Convert response to JSON object. The response is of type AIMessage\n",
    "    response_json = json.loads(response.content)\n",
    "\n",
    "    \n",
    "    action_responses=[]\n",
    "    if \"answer\" in response_json:\n",
    "        # If the answer is already there\n",
    "        return response.content, {\"answer\" : response_json[\"answer\"]}\n",
    "    elif \"actions\" in response_json:\n",
    "        # If the LLM has suggested tools to be executed, execute the tools\n",
    "        action_responses = { \"action_responses\": invoke_tools(response_json)}\n",
    "\n",
    "    return response.content, action_responses\n"
   ]
  },
  {
   "cell_type": "code",
   "execution_count": 6,
   "id": "0cb16eb6-6f38-456a-a824-164af3c3059d",
   "metadata": {},
   "outputs": [],
   "source": [
    "def   invoke_tools(response):\n",
    "    action_responses = []\n",
    "    if len(response[\"actions\"]) == 0:\n",
    "        print('question cannot be answered as there is no tool to use !!!')\n",
    "        exit\n",
    "    else:\n",
    "        for action in response[\"actions\"]:\n",
    "\n",
    "            # Get the function pointer from the map\n",
    "            action_function = tools_map[action[\"action\"]]\n",
    "            \n",
    "            # Invoke the tool/function with the arguments as suggested by the LLM\n",
    "            action_invoke_result = action_function(**action[\"arguments\"])\n",
    "            action[\"action_response\"] = action_invoke_result\n",
    "\n",
    "            # Add the response to the action attribute\n",
    "            action_responses.append(action)\n",
    "\n",
    "    # Return the response      \n",
    "    return action_responses"
   ]
  },
  {
   "cell_type": "code",
   "execution_count": 11,
   "id": "45903ebb-862d-4e97-b9d4-719405840025",
   "metadata": {},
   "outputs": [],
   "source": [
    "question = \"who is older Issac Newton or Albert Einstien?\"\n",
    "\n",
    "# question = \"Were Daniel Mann and Todd Solondz both directors?\"\n",
    "\n",
    "# question = \"Author David Chanoff has collaborated with a U.S. Navy admiral who served as the ambassador to the United Kingdom under which President?\"\n",
    "\n",
    "# Q: Where is the basketball team that Mike DiNunno plays for based ?\n",
    "# A: Ellesmere Port\n",
    "# question = \"Where is the basketball team that Mike DiNunno plays for based ?\"\n",
    "\n",
    "# question = \"Peter Marc Jacobson is best known as the co-creator of the popular sitcom 'The Nanny', which he created and wrote with his then wife an actress born in which year ?\"\n",
    "\n",
    "# Q: what type of media does Ratatouille and PlayStation 3 have in common?\n",
    "# A: video game\n",
    "# question = \"what type of media does Ratatouille and PlayStation 3 have in common?\"\n",
    "\n",
    "# Q: Risingson is the first single from what album by Massive Attack, that was the first to be produced by Neil Davidge, along with the group?\n",
    "# A: Mezzanine\n",
    "question = \"Risingson is the first single from what album by Massive Attack, that was the first to be produced by Neil Davidge, along with the group?\"\n",
    "\n",
    "# Q: What role on \"Switched at Birth\" was played by the actor who is being replaced by Daniel Hall on \"The Young and the Restless\"?\n",
    "# A: Tyler \"Ty\" Mendoza\n",
    "# question = 'What role on \"Switched at Birth\" was played by the actor who is being replaced by Daniel Hall on \"The Young and the Restless\"?'\n",
    "\n",
    "# Q: Are Pago Pago International Airport and Hoonah Airport both on American territory?\n",
    "# A: yes\n",
    "# question = \"Are Pago Pago International Airport and Hoonah Airport both on American territory?\"\n",
    "\n",
    "# Q: Where did the character Xavin changed into a black female just for the sake first appeared\n",
    "# A: \"Runaways\".\n",
    "# question = \"Where did the character Xavin changed into a black female just for the sake first appeared\"\n",
    "\n",
    "input = prompt.format(tools=tools, question=question, tool_responses='')"
   ]
  },
  {
   "cell_type": "code",
   "execution_count": 12,
   "id": "96998db2-2a57-41a9-a64d-22531f2fda16",
   "metadata": {},
   "outputs": [
    {
     "name": "stdout",
     "output_type": "stream",
     "text": [
      "ITERATION# :  1\n",
      "LLM Response:  {\n",
      "    \"actions\": [\n",
      "        {\n",
      "            \"action\": \"wikipedia\",\n",
      "            \"arguments\": {\n",
      "                \"input\": \"Risingson Massive Attack album\"\n",
      "            }\n",
      "        }\n",
      "    ],\n",
      "    \"scratchpad\": {\n",
      "        \"thought\": \"Let's search for information about the album that contains the song 'Risingson' by Massive Attack and was produced by Neil Davidge.\",\n",
      "        \"action\": \"wikipedia\",\n",
      "        \"observations\": \"Awaiting response from Wikipedia search.\"\n",
      "    }\n",
      "}\n",
      "============================================\n",
      "ITERATION# :  2\n",
      "LLM Response:  {\n",
      "    \"answer\": \"Mezzanine\",\n",
      "    \"scratchpad\": {\n",
      "        \"thought\": \"The album that contains the song 'Risingson' by Massive Attack and was produced by Neil Davidge is Mezzanine.\",\n",
      "        \"action\": \"wikipedia\",\n",
      "        \"observations\": \"The Wikipedia search confirmed that 'Risingson' is from the album Mezzanine.\"\n",
      "    }\n",
      "}\n",
      "============================================\n"
     ]
    }
   ],
   "source": [
    "continue_iteration = True\n",
    "\n",
    "iteration_number = 0\n",
    "while continue_iteration:\n",
    "\n",
    "    iteration_number = iteration_number + 1\n",
    "    print(\"ITERATION# : \", iteration_number )\n",
    "    \n",
    "    \n",
    "    llm_response, action_response = invoke_agent(input)\n",
    "    \n",
    "    # print(\"action_response====\",action_response)\n",
    "\n",
    "    # response_json = json.loads(action_response)\n",
    "    print(\"============================================\")\n",
    "    if \"answer\" in action_response:\n",
    "        answer = action_response['answer']\n",
    "        continue_iteration = False\n",
    "    else:\n",
    "        input = input + \"\\n\"+ json.dumps(llm_response) + \"\\nTool responses: \\n\" + json.dumps(action_response) + \"\\n Your response: \""
   ]
  },
  {
   "cell_type": "code",
   "execution_count": 9,
   "id": "a9428f55-b2a6-4190-bbee-a15bc94310a2",
   "metadata": {},
   "outputs": [
    {
     "data": {
      "text/plain": [
       "str"
      ]
     },
     "execution_count": 9,
     "metadata": {},
     "output_type": "execute_result"
    }
   ],
   "source": [
    "type(tools[0])"
   ]
  },
  {
   "cell_type": "code",
   "execution_count": 10,
   "id": "3977eb0a-a3fb-4afd-af79-5e023b39baf0",
   "metadata": {},
   "outputs": [
    {
     "ename": "NameError",
     "evalue": "name 'response' is not defined",
     "output_type": "error",
     "traceback": [
      "\u001b[1;31m---------------------------------------------------------------------------\u001b[0m",
      "\u001b[1;31mNameError\u001b[0m                                 Traceback (most recent call last)",
      "Cell \u001b[1;32mIn[10], line 1\u001b[0m\n\u001b[1;32m----> 1\u001b[0m \u001b[38;5;28mprint\u001b[39m(response)\n",
      "\u001b[1;31mNameError\u001b[0m: name 'response' is not defined"
     ]
    }
   ],
   "source": [
    "print(response)"
   ]
  },
  {
   "cell_type": "code",
   "execution_count": null,
   "id": "7594eed3-df22-4530-984c-e28915f7b89e",
   "metadata": {},
   "outputs": [],
   "source": [
    "print(response['answer'])"
   ]
  },
  {
   "cell_type": "code",
   "execution_count": null,
   "id": "f06c6ced-5d6c-4748-a422-fe2c4565bdf8",
   "metadata": {},
   "outputs": [],
   "source": [
    "response_json"
   ]
  },
  {
   "cell_type": "code",
   "execution_count": null,
   "id": "a5c9dbc0-a5f9-49ad-a39d-2bf76d8bd320",
   "metadata": {},
   "outputs": [],
   "source": [
    "from langchain_community.utilities import SerpAPIWrapper\n",
    "\n",
    "search = SerpAPIWrapper()\n",
    "\n",
    "search.run(\"Obama's first name?\")"
   ]
  },
  {
   "cell_type": "code",
   "execution_count": null,
   "id": "9210cc26-41c5-4116-9326-c462e7e66669",
   "metadata": {},
   "outputs": [],
   "source": [
    "from langchain.agents import load_tools\n",
    "\n",
    "tools = load_tools([\"serpapi\"])"
   ]
  },
  {
   "cell_type": "code",
   "execution_count": null,
   "id": "b9647edb-3104-4632-894a-d3ae19520395",
   "metadata": {},
   "outputs": [],
   "source": [
    "tools[0].invoke(input=\"what is the date today\")"
   ]
  },
  {
   "cell_type": "code",
   "execution_count": null,
   "id": "b5b2aae9-4290-4b65-9b32-4db8acb060c1",
   "metadata": {},
   "outputs": [],
   "source": [
    "serp_tool.description"
   ]
  },
  {
   "cell_type": "code",
   "execution_count": null,
   "id": "96f3b7e6-5baa-4e4a-aa6a-2ebeeb8cce9b",
   "metadata": {},
   "outputs": [],
   "source": [
    "tool_responses"
   ]
  },
  {
   "cell_type": "code",
   "execution_count": 22,
   "id": "9078e35d-1df8-44e4-b608-4e8b06d29a57",
   "metadata": {},
   "outputs": [
    {
     "data": {
      "text/plain": [
       "'A search engine optimized for comprehensive, accurate, and trusted results. Useful for when you need to answer questions about current events. Input should be a search query.'"
      ]
     },
     "execution_count": 22,
     "metadata": {},
     "output_type": "execute_result"
    }
   ],
   "source": [
    "from langchain_community.tools.tavily_search import TavilySearchResults\n",
    "\n",
    "tool = TavilySearchResults(include_raw_content=False, include_answer=True, max_results=3)\n",
    "\n",
    "tool.description"
   ]
  },
  {
   "cell_type": "code",
   "execution_count": 23,
   "id": "110be413-1bd0-4a1f-8f30-a84dc22c3d4c",
   "metadata": {},
   "outputs": [
    {
     "data": {
      "text/plain": [
       "[{'url': 'https://en.wikipedia.org/wiki/Mike_DiNunno',\n",
       "  'content': 'Mike DiNunno. Michele Christopher Di Nunno (born January 29, 1990) is an American-Italian professional basketball player, playing the point guard position. Born in Maywood, Illinois, he played high school basketball at Lake Park and Von Steuben.'},\n",
       " {'url': 'https://ekusports.com/sports/mens-basketball/roster/mike-dinunno/4250',\n",
       "  'content': 'Mike DiNunno (3) Guard - Neubauer on DiNunno: \"Mike is a proven double-figure scorer at the Division I level. ... 2012-13 Men\\'s Basketball Roster. Choose a Player: Go. Terrence Humphrey ... Played in all 30 games with 21 starts … finished second on the team in both assists (91) and three-pointers made (42) … ranked fourth on the squad in ...'},\n",
       " {'url': 'https://www.espn.com/mens-college-basketball/player/_/id/41244/mike-dinunno',\n",
       "  'content': 'View the profile of Eastern Kentucky Colonels Guard Mike DiNunno on ESPN. Get the latest news, live stats and game highlights.'}]"
      ]
     },
     "execution_count": 23,
     "metadata": {},
     "output_type": "execute_result"
    }
   ],
   "source": [
    "tool.invoke(\"Mike DiNunno basketball team\")"
   ]
  },
  {
   "cell_type": "code",
   "execution_count": null,
   "id": "0202f68e-3b51-4445-96eb-bd727b690384",
   "metadata": {},
   "outputs": [],
   "source": [
    "print(input)"
   ]
  },
  {
   "cell_type": "code",
   "execution_count": null,
   "id": "22ea3508-4fe1-4ea9-b333-9924db6ddf67",
   "metadata": {},
   "outputs": [],
   "source": [
    "llm_response"
   ]
  },
  {
   "cell_type": "code",
   "execution_count": null,
   "id": "32803055-c97c-4e14-8f9f-07d1afcd9d0d",
   "metadata": {},
   "outputs": [],
   "source": [
    "import time\n",
    "round(time.time() * 1000)"
   ]
  },
  {
   "cell_type": "code",
   "execution_count": null,
   "id": "d2851751-93b6-467d-bafe-1fca051f6975",
   "metadata": {},
   "outputs": [],
   "source": []
  }
 ],
 "metadata": {
  "kernelspec": {
   "display_name": "Python 3 (ipykernel)",
   "language": "python",
   "name": "python3"
  },
  "language_info": {
   "codemirror_mode": {
    "name": "ipython",
    "version": 3
   },
   "file_extension": ".py",
   "mimetype": "text/x-python",
   "name": "python",
   "nbconvert_exporter": "python",
   "pygments_lexer": "ipython3",
   "version": "3.11.8"
  }
 },
 "nbformat": 4,
 "nbformat_minor": 5
}
