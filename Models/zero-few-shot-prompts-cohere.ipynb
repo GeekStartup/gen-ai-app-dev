{
 "cells": [
  {
   "cell_type": "markdown",
   "id": "a3de0296",
   "metadata": {},
   "source": [
    "# Zero & Few Shot Prompts : Cohere\n",
    "\n",
    "Demonstrates the zero/few shot prompting technique using the Cohere commands models\n",
    "\n",
    "**Note**\n",
    "* Results will vary depending on the model\n",
    "* To use this notebook you must have the Cohere API key. Creation of Cohere key was covered in an earlier lesson."
   ]
  },
  {
   "cell_type": "markdown",
   "id": "9df18b6a-6e56-4c8d-8f20-4ee2f7faddfb",
   "metadata": {},
   "source": [
    "#### Google Colab\n",
    "If you are running the code in Google colab, install the packages by uncommenting/running the cell below\n",
    "\n",
    "* The API key file file will not be available\n",
    "* You will be prompted to provide the Cohere API Token\n",
    "\n",
    "Uncomment & run the code in the cell below:"
   ]
  },
  {
   "cell_type": "code",
   "execution_count": 1,
   "id": "f0173dfe-bbec-44c3-ac52-d01e8320c910",
   "metadata": {},
   "outputs": [],
   "source": [
    "## The script is downloaded and run to setup the utils folder\n",
    "\n",
    "# !curl -H \"Accept: application/vnd.github.VERSION.raw\" https://raw.githubusercontent.com/acloudfan/gen-ai-app-dev/main/Setup/gcsetup.sh  > gcsetup.sh\n",
    "# !chmod u+x gcsetup.sh\n",
    "# !./gcsetup.sh -l\n"
   ]
  },
  {
   "cell_type": "markdown",
   "id": "25a20058-4b82-4247-826b-e3756347240f",
   "metadata": {},
   "source": [
    "## Change the location of the environment file before proceeding"
   ]
  },
  {
   "cell_type": "code",
   "execution_count": 1,
   "id": "933d71c8",
   "metadata": {},
   "outputs": [
    {
     "data": {
      "text/plain": [
       "True"
      ]
     },
     "execution_count": 1,
     "metadata": {},
     "output_type": "execute_result"
    }
   ],
   "source": [
    "from dotenv import load_dotenv\n",
    "import os\n",
    "import sys\n",
    "\n",
    "import warnings\n",
    "\n",
    "warnings.filterwarnings(\"ignore\")\n",
    "\n",
    "# Load the file that contains the API keys\n",
    "load_dotenv('C:\\\\Users\\\\raj\\\\.jupyter\\\\.env')\n"
   ]
  },
  {
   "cell_type": "code",
   "execution_count": 2,
   "id": "e40a5cba-592a-4f6c-a9e6-c0eee055a6bd",
   "metadata": {},
   "outputs": [
    {
     "name": "stdout",
     "output_type": "stream",
     "text": [
      "Key:  COHERE_API_KEY  already set in environment.\n"
     ]
    }
   ],
   "source": [
    "# Setting path so we can access the utils folder\n",
    "sys.path.append('../')\n",
    "sys.path.append('./')\n",
    "\n",
    "from utils.api_key_check_utility import api_key_check\n",
    "\n",
    "# Check if the Cohere key is available\n",
    "cohere_api_key = api_key_check(\"COHERE_API_KEY\")"
   ]
  },
  {
   "cell_type": "markdown",
   "id": "e7c163b3",
   "metadata": {},
   "source": [
    "## Create a cohere client\n",
    "\n",
    "Build a few shot prompt in an incremental fashion."
   ]
  },
  {
   "cell_type": "code",
   "execution_count": 3,
   "id": "6222e99a",
   "metadata": {},
   "outputs": [],
   "source": [
    "import cohere\n",
    "co = cohere.Client(cohere_api_key.get_api_key())"
   ]
  },
  {
   "cell_type": "markdown",
   "id": "d6a9bf91",
   "metadata": {},
   "source": [
    "### 0 Shot prompt"
   ]
  },
  {
   "cell_type": "code",
   "execution_count": 4,
   "id": "1418e492",
   "metadata": {},
   "outputs": [
    {
     "data": {
      "text/plain": [
       "' kayak, level'"
      ]
     },
     "execution_count": 4,
     "metadata": {},
     "output_type": "execute_result"
    }
   ],
   "source": [
    "prompt = \"\"\"\n",
    "Palindrome is a word that reads the same forward and backward. \n",
    "\n",
    "Your task is to identify palindrome words in the given sentence. \n",
    "\n",
    "sentence: {}\n",
    "palindromes:\n",
    "\n",
    "generate response in this format: palindrome1, palindrome2, ...\n",
    "\"\"\"\n",
    "\n",
    "input_text = \"Civic authorities drove the kayak across the level lake.\"\n",
    "\n",
    "response = co.generate(\n",
    "  model='command',\n",
    "  prompt=prompt.format(input_text),\n",
    "  max_tokens=50,\n",
    "  temperature=0.3,\n",
    "  k=0,\n",
    "  stop_sequences=[],\n",
    "  return_likelihoods='NONE')\n",
    "\n",
    "output = response.generations[0].text\n",
    "\n",
    "output"
   ]
  },
  {
   "cell_type": "markdown",
   "id": "ea58f5af",
   "metadata": {},
   "source": [
    "### Few shots (Provide palindrome words as examples)"
   ]
  },
  {
   "cell_type": "code",
   "execution_count": 5,
   "id": "a70c006e",
   "metadata": {},
   "outputs": [
    {
     "data": {
      "text/plain": [
       "' kayak, level'"
      ]
     },
     "execution_count": 5,
     "metadata": {},
     "output_type": "execute_result"
    }
   ],
   "source": [
    "prompt = \"\"\"\n",
    "Palindrome is a word that reads the same forward and backward. \n",
    "\n",
    "Here are examples of palindrome words \n",
    "\n",
    "examples: radar, rotor, reviver, madam\n",
    "\n",
    "Your task is to identify palindrome words in the given sentence. \n",
    "\n",
    "sentence: {}\n",
    "palindromes:\n",
    "\n",
    "generate response in this format: palindrome1, palindrome2, ...\n",
    "\"\"\"\n",
    "\n",
    "input_text = \"Civic authorities drove the kayak across the level lake.\"\n",
    "\n",
    "response = co.generate(\n",
    "  model='command',\n",
    "  prompt=prompt.format(input_text),\n",
    "  max_tokens=50,\n",
    "  temperature=0.3,\n",
    "  k=0,\n",
    "  stop_sequences=[],\n",
    "  return_likelihoods='NONE')\n",
    "\n",
    "output = response.generations[0].text\n",
    "\n",
    "output"
   ]
  },
  {
   "cell_type": "markdown",
   "id": "f477e89c",
   "metadata": {},
   "source": [
    "### Few shots (Provide sentences with palindromes as examples)"
   ]
  },
  {
   "cell_type": "code",
   "execution_count": 6,
   "id": "e7e8db42",
   "metadata": {},
   "outputs": [
    {
     "data": {
      "text/plain": [
       "' kayak, drove, lake, across, level, system, across, drive, kayak, level'"
      ]
     },
     "execution_count": 6,
     "metadata": {},
     "output_type": "execute_result"
    }
   ],
   "source": [
    "prompt = \"\"\"\n",
    "Palindrome is a word that reads the same forward and backward. \n",
    "\n",
    "Your task is to identify palindrome words in the given sentence. \n",
    "Here are some examples.\n",
    "\n",
    "sentence: Noon is a time when racecar enthusiasts gather.\n",
    "palindromes: noon, racecar\n",
    "\n",
    "sentence: Deed records show a radar signal in the evening.\n",
    "palindromes: deed, radar\n",
    "\n",
    "sentence: Reviver potions can revive a tired system\n",
    "palindromes: reviver\n",
    "\n",
    "sentence: rotors rotate, making a subtle rotor sound\n",
    "palindromes: rotor\n",
    "\n",
    "\n",
    "sentence: {}\n",
    "palindromes:\n",
    "\n",
    "generate response in this format: palindrome1, palindrome2, ...\n",
    "\"\"\"\n",
    "\n",
    "input_text = \"Civic authorities drove the kayak across the level lake.\"\n",
    "\n",
    "response = co.generate(\n",
    "  model='command-light',\n",
    "  prompt=prompt.format(input_text),\n",
    "  max_tokens=50,\n",
    "  temperature=0.3,\n",
    "  k=0,\n",
    "  stop_sequences=[],\n",
    "  return_likelihoods='NONE')\n",
    "\n",
    "output = response.generations[0].text\n",
    "\n",
    "output"
   ]
  },
  {
   "cell_type": "code",
   "execution_count": 7,
   "id": "f929f088",
   "metadata": {},
   "outputs": [
    {
     "data": {
      "text/plain": [
       "' civic authorities, kayak  level lake'"
      ]
     },
     "execution_count": 7,
     "metadata": {},
     "output_type": "execute_result"
    }
   ],
   "source": [
    "prompt = \"\"\"\n",
    "Palindrome is a word that reads the same forward and backward. \n",
    "\n",
    "Your task is to identify palindrome words in the given sentence. \n",
    "\n",
    "text: {}\n",
    "palindromes:\n",
    "\n",
    "generate response in this format: palindrome1, palindrome2, ...\n",
    "\"\"\"\n",
    "\n",
    "input_text = \"Civic authorities drove the kayak across the level lake.\"\n",
    "\n",
    "response = co.generate(\n",
    "  model='command-light',\n",
    "  prompt=prompt.format(input_text),\n",
    "  max_tokens=50,\n",
    "  temperature=0.3,\n",
    "  k=0,\n",
    "  stop_sequences=[],\n",
    "  return_likelihoods='NONE')\n",
    "\n",
    "output = response.generations[0].text\n",
    "\n",
    "output"
   ]
  },
  {
   "cell_type": "markdown",
   "id": "e7bf9450",
   "metadata": {},
   "source": [
    "### WAIT"
   ]
  },
  {
   "cell_type": "code",
   "execution_count": 9,
   "id": "dbcf0f41",
   "metadata": {},
   "outputs": [
    {
     "data": {
      "text/plain": [
       "' lake, kayak, drive, authority, civic'"
      ]
     },
     "execution_count": 9,
     "metadata": {},
     "output_type": "execute_result"
    }
   ],
   "source": [
    "prompt = \"\"\"\n",
    "use examples below to extract all palindrome words from the given text. Just give the words\n",
    "\n",
    "example: Noon is a time when racecar enthusiasts gather.\n",
    "answer: noon, racecar\n",
    "\n",
    "example: Deed records show a radar signal in the evening.\n",
    "answer: deed\n",
    "\n",
    "example: Madam Anna made a beautiful mural for the wall\n",
    "answer: madam\n",
    "\n",
    "\n",
    "text: Civic authorities drove the kayak across the level lake\n",
    "answer:\n",
    "\"\"\"\n",
    "\n",
    "response = co.generate(\n",
    "  model='command-light',\n",
    "  prompt=prompt,\n",
    "  max_tokens=50,\n",
    "  temperature=0.3,\n",
    "  k=0,\n",
    "  stop_sequences=[],\n",
    "  return_likelihoods='NONE')\n",
    "\n",
    "output = response.generations[0].text\n",
    "\n",
    "output\n",
    "\n"
   ]
  },
  {
   "cell_type": "markdown",
   "id": "8cc54047",
   "metadata": {},
   "source": [
    "## Classification with few shots"
   ]
  },
  {
   "cell_type": "code",
   "execution_count": 14,
   "id": "ccb756a3-d03a-4450-a49a-9e37eb8a9722",
   "metadata": {},
   "outputs": [
    {
     "data": {
      "text/plain": [
       "' duty, lake, kayak'"
      ]
     },
     "execution_count": 14,
     "metadata": {},
     "output_type": "execute_result"
    }
   ],
   "source": [
    "prompt = \"\"\"\n",
    "extract palindrome words from the given text\n",
    "\n",
    "text: Noon is a time when racecar enthusiasts gather.\n",
    "answer: noon, racecar\n",
    "\n",
    "text: Deed records show a radar signal in the evening.\n",
    "answer: deed\n",
    "\n",
    "text: Madam Anna made a civic mural on the wall\n",
    "answer: madam \n",
    "\n",
    "\n",
    "text: Civic duty drove the kayak across the level lake\n",
    "answer:\n",
    "\"\"\"\n",
    "\n",
    "response = co.generate(\n",
    "  model='command-light',\n",
    "  prompt=prompt,\n",
    "  max_tokens=50,\n",
    "  temperature=0.3,\n",
    "  k=0,\n",
    "  stop_sequences=[],\n",
    "  return_likelihoods='NONE')\n",
    "\n",
    "output = response.generations[0].text\n",
    "\n",
    "output"
   ]
  },
  {
   "cell_type": "markdown",
   "id": "e2d9d5e1",
   "metadata": {},
   "source": [
    "## Zero shot model - example"
   ]
  },
  {
   "cell_type": "code",
   "execution_count": 15,
   "id": "d35eb3a3-2ab1-4bf5-b679-e0e3e8d81aeb",
   "metadata": {},
   "outputs": [
    {
     "data": {
      "text/plain": [
       "' \\n- enthusiasts\\n'"
      ]
     },
     "execution_count": 15,
     "metadata": {},
     "output_type": "execute_result"
    }
   ],
   "source": [
    "prompt = \"\"\"\n",
    "[INST]extract all palindrome words from the given text. Just give the words[/INST]\n",
    "\n",
    "text: Noon is a time when racecar enthusiasts gather.\n",
    "answer: \n",
    "\"\"\"\n",
    "\n",
    "response = co.generate(\n",
    "  model='command-light',\n",
    "  prompt=prompt,\n",
    "  max_tokens=50,\n",
    "  temperature=0.3,\n",
    "  k=0,\n",
    "  stop_sequences=[],\n",
    "  return_likelihoods='NONE')\n",
    "\n",
    "output = response.generations[0].text\n",
    "\n",
    "output"
   ]
  },
  {
   "cell_type": "markdown",
   "id": "55bbbdc3",
   "metadata": {},
   "source": [
    "## Limitation of few shots\n",
    "\n",
    "Example demonstrates the limitation of few-shots technique with math/reasoning tasks"
   ]
  },
  {
   "cell_type": "code",
   "execution_count": 47,
   "id": "494869d9",
   "metadata": {},
   "outputs": [],
   "source": [
    "# llm = InferenceClient(model=hugging_face_model_ids[3])"
   ]
  },
  {
   "cell_type": "code",
   "execution_count": 16,
   "id": "37d5f302",
   "metadata": {},
   "outputs": [
    {
     "data": {
      "text/plain": [
       "' Yes. '"
      ]
     },
     "execution_count": 16,
     "metadata": {},
     "output_type": "execute_result"
    }
   ],
   "source": [
    "prompt = \"\"\"\n",
    "generate a yes or a no as response. \n",
    "\n",
    "the odd numbers in this list [1,2,1,9,1] add up to an odd number \n",
    "\n",
    "\"\"\"\n",
    "\n",
    "response = co.generate(\n",
    "  model='command',\n",
    "  prompt=prompt.format(input_text),\n",
    "  max_tokens=50,\n",
    "  temperature=0.3,\n",
    "  k=0,\n",
    "  stop_sequences=[],\n",
    "  return_likelihoods='NONE')\n",
    "\n",
    "output = response.generations[0].text\n",
    "\n",
    "output"
   ]
  },
  {
   "cell_type": "code",
   "execution_count": 17,
   "id": "aa72bfea",
   "metadata": {},
   "outputs": [
    {
     "data": {
      "text/plain": [
       "' yes'"
      ]
     },
     "execution_count": 17,
     "metadata": {},
     "output_type": "execute_result"
    }
   ],
   "source": [
    "prompt =\"\"\"\n",
    "refer to examples and answer generate a yes or a no as response. \n",
    "\n",
    "examples: the odd numbers in this list [1,3,4,5,2] adds up to an odd number//yes\n",
    "\n",
    "examples: the odd numbers in this list [1,2,4,5,6] adds up to an odd number//no\n",
    "\n",
    "examples: the odd numbers in this list [1,2,4,7,9] adds up to an odd number//yes \n",
    "\n",
    "examples: the odd numbers in this list [1,3,4,7,9] adds up to an odd number//no \n",
    "\n",
    "examples: the odd numbers in this list [1,2,1,9,2] adds up to an odd number//\n",
    "\n",
    "\"\"\"\n",
    "\n",
    "response = co.generate(\n",
    "  model='command',\n",
    "  prompt=prompt.format(input_text),\n",
    "  max_tokens=50,\n",
    "  temperature=0.3,\n",
    "  k=0,\n",
    "  stop_sequences=[],\n",
    "  return_likelihoods='NONE')\n",
    "\n",
    "output = response.generations[0].text\n",
    "\n",
    "output"
   ]
  },
  {
   "cell_type": "code",
   "execution_count": null,
   "id": "e664bc44",
   "metadata": {},
   "outputs": [],
   "source": []
  }
 ],
 "metadata": {
  "kernelspec": {
   "display_name": "Python 3 (ipykernel)",
   "language": "python",
   "name": "python3"
  },
  "language_info": {
   "codemirror_mode": {
    "name": "ipython",
    "version": 3
   },
   "file_extension": ".py",
   "mimetype": "text/x-python",
   "name": "python",
   "nbconvert_exporter": "python",
   "pygments_lexer": "ipython3",
   "version": "3.12.4"
  }
 },
 "nbformat": 4,
 "nbformat_minor": 5
}
